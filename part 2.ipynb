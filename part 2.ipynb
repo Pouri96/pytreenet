{
 "cells": [
  {
   "cell_type": "markdown",
   "metadata": {},
   "source": []
  },
  {
   "cell_type": "code",
   "execution_count": 1,
   "metadata": {},
   "outputs": [],
   "source": [
    "import numpy as np\n",
    "import pytreenet as ptn\n",
    "from copy import deepcopy\n",
    "np.random.seed(2)"
   ]
  },
  {
   "cell_type": "code",
   "execution_count": 2,
   "metadata": {},
   "outputs": [],
   "source": [
    "def save_list(list_to_save, filename):\n",
    "    filename = f\"results/{filename}\"\n",
    "    with open(filename, 'w') as file:\n",
    "        for item in list_to_save:\n",
    "            file.write(str(item) + '\\n')\n",
    "    print(f\"List saved to {filename}\")\n",
    "\n",
    "def load_list(filename):\n",
    "    filename = f\"results/{filename}\"\n",
    "    try:\n",
    "        with open(filename, 'r') as file:\n",
    "            return [complex(line.strip()) for line in file.readlines()]\n",
    "    except FileNotFoundError:\n",
    "        print(f\"File {filename} not found.\")\n",
    "        return []"
   ]
  },
  {
   "cell_type": "code",
   "execution_count": 3,
   "metadata": {},
   "outputs": [],
   "source": [
    "def product_state(ttn, bond_dim=2):\n",
    "    product_state = deepcopy(ttn)\n",
    "    A = np.asarray([0,1j])\n",
    "    for node_id in product_state.nodes.keys():\n",
    "        n = product_state.tensors[node_id].ndim - 1\n",
    "        tensor = A.reshape((1,) * n + (2,))\n",
    "        T = np.pad(tensor, n*((0, bond_dim-1),) + ((0, 0),))\n",
    "        product_state.tensors[node_id] = T\n",
    "        product_state.nodes[node_id].link_tensor(T)  \n",
    "    return product_state\n"
   ]
  },
  {
   "cell_type": "code",
   "execution_count": 4,
   "metadata": {},
   "outputs": [],
   "source": [
    "shapes = {\n",
    "    (0, 0): (2, 2, 2, 2),\n",
    "    (0, 1): (2, 2, 2, 2),\n",
    "    (0, 2): (2, 2, 2, 2),\n",
    "    (0, 3): (2, 2),\n",
    "    (1, 0): (2, 2, 2),\n",
    "    (1, 1): (2, 2),\n",
    "    (1, 2): (2, 2, 2),\n",
    "    (1, 3): (2, 2),\n",
    "    (2, 0): (2, 2, 2, 2),\n",
    "    (2, 1): (2, 2, 2),\n",
    "    (2, 2): (2, 2, 2),\n",
    "    (2, 3): (2, 2),\n",
    "    (3, 0): (2, 2),\n",
    "    (3, 1): (2, 2, 2),\n",
    "    (3, 2): (2, 2, 2, 2),\n",
    "    (3, 3): (2, 2)\n",
    "}\n",
    "\n",
    "\n",
    "sites = {\n",
    "    (i, j): ptn.random_tensor_node(shapes[(i, j)], identifier=f\"Site({i},{j})\") for i in range(4) for j in range(4)\n",
    "}\n",
    "\n",
    "ttn = ptn.TreeTensorNetworkState()\n",
    "\n",
    "ttn.add_root(sites[(0, 0)][0], sites[(0, 0)][1])\n",
    "\n",
    "connections = [\n",
    "    ((0, 0), (0, 1), 0, 0),\n",
    "    ((0, 1), (1, 1), 1, 0),\n",
    "    ((0, 1), (0, 2), 2, 0),\n",
    "    ((0, 2), (1, 2), 1, 0),\n",
    "    ((1, 2), (1, 3), 1, 0),\n",
    "    ((0, 2), (0, 3), 2, 0),\n",
    "    ((0, 0), (1, 0), 1, 0),\n",
    "    ((1, 0), (2, 0), 1, 0),\n",
    "    ((2, 0), (3, 0), 1, 0),\n",
    "    ((2, 0), (2, 1), 2, 0),\n",
    "    ((2, 1), (3, 1), 1, 0),\n",
    "    ((3, 1), (3, 2), 1, 0),\n",
    "    ((3, 2), (2, 2), 1, 0),\n",
    "    ((2, 2), (2, 3), 1, 0),\n",
    "    ((3, 2), (3, 3), 2, 0),\n",
    "]\n",
    "\n",
    "for (parent, child, parent_leg, child_leg) in connections:\n",
    "    parent_id = f\"Site({parent[0]},{parent[1]})\"\n",
    "    child_id = f\"Site({child[0]},{child[1]})\"\n",
    "    ttn.add_child_to_parent(sites[child][0], sites[child][1], child_leg, parent_id, parent_leg)\n",
    "\n",
    "ttn = product_state(ttn , bond_dim= 1)\n",
    "\n",
    "nodes = {\n",
    "    (i, j): (ptn.Node(tensor=ttn.tensors[f\"Site({i},{j})\"].conj() , identifier=f\"Node({i},{j})\"), ttn.tensors[f\"Site({i},{j})\"].conj()) for i in range(4) for j in range(4)\n",
    "}\n",
    "\n",
    "ttn.add_child_to_parent(nodes[(0,0)][0], nodes[(0,0)][1], 0, \"Site(0,0)\", 2)\n",
    "\n",
    "connections = [\n",
    "    ((0, 0), (0, 1), 1, 0),\n",
    "    ((0, 1), (1, 1), 1, 0),\n",
    "    ((0, 1), (0, 2), 2, 0),\n",
    "    ((0, 2), (1, 2), 1, 0),\n",
    "    ((1, 2), (1, 3), 1, 0),\n",
    "    ((0, 2), (0, 3), 2, 0),\n",
    "    ((0, 0), (1, 0), 2, 0),\n",
    "    ((1, 0), (2, 0), 1, 0),\n",
    "    ((2, 0), (3, 0), 1, 0),\n",
    "    ((2, 0), (2, 1), 2, 0),\n",
    "    ((2, 1), (3, 1), 1, 0),\n",
    "    ((3, 1), (3, 2), 1, 0),\n",
    "    ((3, 2), (2, 2), 1, 0),\n",
    "    ((2, 2), (2, 3), 1, 0),\n",
    "    ((3, 2), (3, 3), 2, 0),\n",
    "]\n",
    "\n",
    "for (parent, child, parent_leg, child_leg) in connections:\n",
    "    parent_id = f\"Node({parent[0]},{parent[1]})\"\n",
    "    child_id = f\"Node({child[0]},{child[1]})\"\n",
    "    ttn.add_child_to_parent(nodes[child][0], nodes[child][1], child_leg, parent_id, parent_leg)\n"
   ]
  },
  {
   "cell_type": "code",
   "execution_count": 5,
   "metadata": {},
   "outputs": [],
   "source": [
    "shapes = {\n",
    "    (0, 0): (2, 2, 2),\n",
    "    (0, 1): (2, 2, 2, 2),\n",
    "    (0, 2): (2, 2, 2, 2),\n",
    "    (0, 3): (2, 2),\n",
    "    (1, 0): (2, 2, 2),\n",
    "    (1, 1): (2, 2),\n",
    "    (1, 2): (2, 2, 2),\n",
    "    (1, 3): (2, 2),\n",
    "    (2, 0): (2, 2, 2, 2),\n",
    "    (2, 1): (2, 2, 2),\n",
    "    (2, 2): (2, 2, 2),\n",
    "    (2, 3): (2, 2),\n",
    "    (3, 0): (2, 2),\n",
    "    (3, 1): (2, 2, 2),\n",
    "    (3, 2): (2, 2, 2, 2),\n",
    "    (3, 3): (2, 2)\n",
    "}\n",
    "\n",
    "nodes = {\n",
    "    (i, j): ptn.random_tensor_node(shapes[(i, j)], identifier=f\"Site({i},{j})\") for i in range(4) for j in range(4)\n",
    "}\n",
    "\n",
    "psi = ptn.TreeTensorNetworkState()\n",
    "\n",
    "psi.add_root(nodes[(0, 0)][0], nodes[(0, 0)][1])\n",
    "\n",
    "connections = [\n",
    "    ((0, 0), (0, 1), 0, 0),\n",
    "    ((0, 1), (1, 1), 1, 0),\n",
    "    ((0, 1), (0, 2), 2, 0),\n",
    "    ((0, 2), (1, 2), 1, 0),\n",
    "    ((1, 2), (1, 3), 1, 0),\n",
    "    ((0, 2), (0, 3), 2, 0),\n",
    "    ((0, 0), (1, 0), 1, 0),\n",
    "    ((1, 0), (2, 0), 1, 0),\n",
    "    ((2, 0), (3, 0), 1, 0),\n",
    "    ((2, 0), (2, 1), 2, 0),\n",
    "    ((2, 1), (3, 1), 1, 0),\n",
    "    ((3, 1), (3, 2), 1, 0),\n",
    "    ((3, 2), (2, 2), 1, 0),\n",
    "    ((2, 2), (2, 3), 1, 0),\n",
    "    ((3, 2), (3, 3), 2, 0),\n",
    "]\n",
    "\n",
    "for (parent, child, parent_leg, child_leg) in connections:\n",
    "    parent_id = f\"Site({parent[0]},{parent[1]})\"\n",
    "    child_id = f\"Site({child[0]},{child[1]})\"\n",
    "    psi.add_child_to_parent(nodes[child][0], nodes[child][1], child_leg, parent_id, parent_leg)\n",
    "\n",
    "psi = product_state(psi , bond_dim= 2)\n"
   ]
  },
  {
   "attachments": {
    "image.png": {
     "image/png": "[encoded data removed]"
    }
   },
   "cell_type": "markdown",
   "metadata": {},
   "source": [
    "![image.png](attachment:image.png)\n"
   ]
  },
  {
   "attachments": {
    "image.png": {
     "image/png": "[encoded data removed]"
    }
   },
   "cell_type": "markdown",
   "metadata": {},
   "source": [
    "![image.png](attachment:image.png)"
   ]
  },
  {
   "cell_type": "code",
   "execution_count": 6,
   "metadata": {},
   "outputs": [],
   "source": [
    "def Liouville(t, U, J, L, Lx, Ly):\n",
    "    creation_op, annihilation_op, number_op = ptn.bosonic_operators()\n",
    "    \n",
    "    conversion_dict = {\n",
    "        \"b^dagger\": creation_op,\n",
    "        \"b\": annihilation_op,\n",
    "        \"I2\": np.eye(2)\n",
    "    }\n",
    "    \n",
    "    conversion_dict.update({\n",
    "        \"it * b^dagger\": t*1j * creation_op,\n",
    "        \"it * b\": t*1j * annihilation_op,\n",
    "        \"-iU * n * (n - 1)\": -U*1j * number_op @ (number_op - np.eye(2))\n",
    "    })\n",
    "    \n",
    "    terms = []\n",
    "    \n",
    "    # Hopping terms\n",
    "    for x in range(Lx):\n",
    "        for y in range(Ly):\n",
    "            current_site = f\"Site({x},{y})\"\n",
    "            \n",
    "            # Horizontal connections\n",
    "            if x < Lx - 1:\n",
    "                right_neighbor = f\"Site({x+1},{y})\"\n",
    "                terms.append(ptn.TensorProduct({current_site: \"it * b^dagger\", right_neighbor: \"b\"}))\n",
    "                terms.append(ptn.TensorProduct({current_site: \"it * b\", right_neighbor: \"b^dagger\"}))\n",
    "            \n",
    "            # Vertical connections\n",
    "            if y < Ly - 1:\n",
    "                up_neighbor = f\"Site({x},{y+1})\"\n",
    "                terms.append(ptn.TensorProduct({current_site: \"it * b^dagger\", up_neighbor: \"b\"}))\n",
    "                terms.append(ptn.TensorProduct({current_site: \"it * b\", up_neighbor: \"b^dagger\"}))\n",
    "    \n",
    "    # On-site interaction terms\n",
    "    for x in range(Lx):\n",
    "        for y in range(Ly):\n",
    "            current_site = f\"Site({x},{y})\"\n",
    "            terms.append(ptn.TensorProduct({current_site: \"-iU * n * (n - 1)\"}))\n",
    "    \n",
    "    H1 = ptn.Hamiltonian(terms, conversion_dict)\n",
    "    \n",
    "    conversion_dict = {\n",
    "        \"b^dagger.T\": creation_op.T,\n",
    "        \"b.T\": annihilation_op.T,\n",
    "        \"I2\": np.eye(2)\n",
    "    }\n",
    "    \n",
    "    conversion_dict.update({\n",
    "        \"-it * b^dagger.T\": -t*1j * creation_op.T,\n",
    "        \"-it * b.T\": -t*1j * annihilation_op.T,\n",
    "        \"iU * n * (n - 1).T\": (U*1j * number_op @ (number_op - np.eye(2))).T\n",
    "    })\n",
    "    \n",
    "    terms = []\n",
    "    \n",
    "    # Hopping terms\n",
    "    for x in range(Lx):\n",
    "        for y in range(Ly):\n",
    "            current_site = f\"Node({x},{y})\"\n",
    "            \n",
    "            # Horizontal connections\n",
    "            if x < Lx - 1:\n",
    "                right_neighbor = f\"Node({x+1},{y})\"\n",
    "                terms.append(ptn.TensorProduct({current_site: \"-it * b^dagger.T\", right_neighbor: \"b.T\"}))\n",
    "                terms.append(ptn.TensorProduct({current_site: \"-it * b.T\", right_neighbor: \"b^dagger.T\"}))\n",
    "            \n",
    "            # Vertical connections\n",
    "            if y < Ly - 1:\n",
    "                up_neighbor = f\"Node({x},{y+1})\"\n",
    "                terms.append(ptn.TensorProduct({current_site: \"-it * b^dagger.T\", up_neighbor: \"b.T\"}))\n",
    "                terms.append(ptn.TensorProduct({current_site: \"-it * b.T\", up_neighbor: \"b^dagger.T\"}))\n",
    "    \n",
    "    # On-site interaction terms\n",
    "    for x in range(Lx):\n",
    "        for y in range(Ly):\n",
    "            current_site = f\"Node({x},{y})\"\n",
    "            terms.append(ptn.TensorProduct({current_site: \"iU * n * (n - 1).T\"}))    \n",
    "\n",
    "    H2 = ptn.Hamiltonian(terms, conversion_dict)\n",
    "    H1.__add__(H2)\n",
    "\n",
    "    J = np.sqrt(J)\n",
    "    conversion_dict = {    \n",
    "    \"L\": J*L,\n",
    "    \"L^dagger.T\": J*L.conj(),\n",
    "    \"-1/2 (L^dagger @ L) \": -1/2 * J *  L.conj().T @ L,\n",
    "    \"-1/2 (L^dagger @ L).T\":-1/2 * J * (L.conj().T @ L).T}\n",
    "\n",
    "    terms = []\n",
    "    for x in range(Lx):\n",
    "        for y in range(Ly):\n",
    "            out_site = f\"Node({x},{y})\"\n",
    "            in_site = f\"Site({x},{y})\"\n",
    "            terms.append(ptn.TensorProduct({in_site: \"L\"}))\n",
    "            terms.append(ptn.TensorProduct({out_site: \"L^dagger.T\"}))\n",
    "            terms.append(ptn.TensorProduct({in_site: \"-1/2 (L^dagger @ L) \"}))\n",
    "            terms.append(ptn.TensorProduct({out_site: \"-1/2 (L^dagger @ L).T\"}))\n",
    "\n",
    "    H3 = ptn.Hamiltonian(terms, conversion_dict)\n",
    "    H1.__add__(H3)\n",
    "    return H1"
   ]
  },
  {
   "cell_type": "code",
   "execution_count": 7,
   "metadata": {},
   "outputs": [],
   "source": [
    "def Unitary(t, U, Lx, Ly):\n",
    "    creation_op, annihilation_op, number_op = ptn.bosonic_operators()\n",
    "    \n",
    "    conversion_dict = {\n",
    "        \"b^dagger\": creation_op,\n",
    "        \"b\": annihilation_op,\n",
    "        \"I2\": np.eye(2)\n",
    "    }\n",
    "    \n",
    "    conversion_dict.update({\n",
    "        \"it * b^dagger\": t * 1.0j* creation_op,\n",
    "        \"it * b\": t* 1.0j * annihilation_op,\n",
    "        \"-iU * n * (n - 1)\": -U* 1.0j * number_op @ (number_op - np.eye(2))\n",
    "    })\n",
    "    \n",
    "    terms = []\n",
    "    \n",
    "    # Hopping terms\n",
    "    for x in range(Lx):\n",
    "        for y in range(Ly):\n",
    "            current_site = f\"Site({x},{y})\"\n",
    "            \n",
    "            # Horizontal connections\n",
    "            if x < Lx - 1:\n",
    "                right_neighbor = f\"Site({x+1},{y})\"\n",
    "                terms.append(ptn.TensorProduct({current_site: \"it * b^dagger\", right_neighbor: \"b\"}))\n",
    "                terms.append(ptn.TensorProduct({current_site: \"it * b\", right_neighbor: \"b^dagger\"}))\n",
    "            \n",
    "            # Vertical connections\n",
    "            if y < Ly - 1:\n",
    "                up_neighbor = f\"Site({x},{y+1})\"\n",
    "                terms.append(ptn.TensorProduct({current_site: \"it * b^dagger\", up_neighbor: \"b\"}))\n",
    "                terms.append(ptn.TensorProduct({current_site: \"it * b\", up_neighbor: \"b^dagger\"}))\n",
    "    \n",
    "    # On-site interaction terms\n",
    "    for x in range(Lx):\n",
    "        for y in range(Ly):\n",
    "            current_site = f\"Site({x},{y})\"\n",
    "            terms.append(ptn.TensorProduct({current_site: \"-iU * n * (n - 1)\"}))\n",
    "    \n",
    "    H1 = ptn.Hamiltonian(terms, conversion_dict)\n",
    "    \n",
    "    conversion_dict = {\n",
    "        \"b^dagger.T\": creation_op.T,\n",
    "        \"b.T\": annihilation_op.T,\n",
    "        \"I2\": np.eye(2)\n",
    "    }\n",
    "    \n",
    "    conversion_dict.update({\n",
    "        \"-it * b^dagger.T\": -t* 1.0j * creation_op.T,\n",
    "        \"-it * b.T\": -t* 1.0j * annihilation_op.T,\n",
    "        \"iU * n * (n - 1).T\": (U* 1.0j* number_op @ (number_op - np.eye(2))).T\n",
    "    })\n",
    "    \n",
    "    terms = []\n",
    "    \n",
    "    # Hopping terms\n",
    "    for x in range(Lx):\n",
    "        for y in range(Ly):\n",
    "            current_site = f\"Node({x},{y})\"\n",
    "            \n",
    "            # Horizontal connections\n",
    "            if x < Lx - 1:\n",
    "                right_neighbor = f\"Node({x+1},{y})\"\n",
    "                terms.append(ptn.TensorProduct({current_site: \"-it * b^dagger.T\", right_neighbor: \"b.T\"}))\n",
    "                terms.append(ptn.TensorProduct({current_site: \"-it * b.T\", right_neighbor: \"b^dagger.T\"}))\n",
    "            \n",
    "            # Vertical connections\n",
    "            if y < Ly - 1:\n",
    "                up_neighbor = f\"Node({x},{y+1})\"\n",
    "                terms.append(ptn.TensorProduct({current_site: \"-it * b^dagger.T\", up_neighbor: \"b.T\"}))\n",
    "                terms.append(ptn.TensorProduct({current_site: \"-it * b.T\", up_neighbor: \"b^dagger.T\"}))\n",
    "    \n",
    "    # On-site interaction terms\n",
    "    for x in range(Lx):\n",
    "        for y in range(Ly):\n",
    "            current_site = f\"Node({x},{y})\"\n",
    "            terms.append(ptn.TensorProduct({current_site: \"iU * n * (n - 1).T\"}))    \n",
    "\n",
    "    H2 = ptn.Hamiltonian(terms, conversion_dict)\n",
    "    H1.__add__(H2)\n",
    "    return H1"
   ]
  },
  {
   "cell_type": "code",
   "execution_count": 8,
   "metadata": {},
   "outputs": [],
   "source": [
    "def BoseHubbard_ham(t, U, Lx, Ly):\n",
    "    creation_op, annihilation_op, number_op = ptn.bosonic_operators()\n",
    "    \n",
    "    conversion_dict = {\n",
    "        \"b^dagger\": creation_op,\n",
    "        \"b\": annihilation_op,\n",
    "        \"I2\": np.eye(2)\n",
    "    }\n",
    "    \n",
    "    conversion_dict.update({\n",
    "        \"-t * b^dagger\": -t * creation_op,\n",
    "        \"-t * b\": -t * annihilation_op,\n",
    "        \"U * n * (n - 1)\": U * number_op @ (number_op - np.eye(2))\n",
    "    })\n",
    "    \n",
    "    terms = []\n",
    "    \n",
    "    # Hopping terms\n",
    "    for x in range(Lx):\n",
    "        for y in range(Ly):\n",
    "            current_site = f\"Site({x},{y})\"\n",
    "            \n",
    "            # Horizontal connections\n",
    "            if x < Lx - 1:\n",
    "                right_neighbor = f\"Site({x+1},{y})\"\n",
    "                terms.append(ptn.TensorProduct({current_site: \"-t * b^dagger\", right_neighbor: \"b\"}))\n",
    "                terms.append(ptn.TensorProduct({current_site: \"-t * b\", right_neighbor: \"b^dagger\"}))\n",
    "            \n",
    "            # Vertical connections\n",
    "            if y < Ly - 1:\n",
    "                up_neighbor = f\"Site({x},{y+1})\"\n",
    "                terms.append(ptn.TensorProduct({current_site: \"-t * b^dagger\", up_neighbor: \"b\"}))\n",
    "                terms.append(ptn.TensorProduct({current_site: \"-t * b\", up_neighbor: \"b^dagger\"}))\n",
    "    \n",
    "    # On-site interaction terms\n",
    "    for x in range(Lx):\n",
    "        for y in range(Ly):\n",
    "            current_site = f\"Site({x},{y})\"\n",
    "            terms.append(ptn.TensorProduct({current_site: \"U * n * (n - 1)\"}))\n",
    "    \n",
    "    return ptn.Hamiltonian(terms, conversion_dict)\n",
    "\n",
    "def BoseHubbard_ham_tp(t, U, Lx, Ly):\n",
    "    creation_op, annihilation_op, number_op = ptn.bosonic_operators()\n",
    "    \n",
    "    conversion_dict = {\n",
    "        \"b^dagger\": creation_op,\n",
    "        \"b\": annihilation_op,\n",
    "        \"I2\": np.eye(2)\n",
    "    }\n",
    "    \n",
    "    conversion_dict.update({\n",
    "        \"-t * b^dagger\": -t * creation_op,\n",
    "        \"-t * b\": -t * annihilation_op,\n",
    "        \"U * n * (n - 1)\": U * number_op @ (number_op - np.eye(2))\n",
    "    })\n",
    "    \n",
    "    terms = []\n",
    "    \n",
    "    # Hopping terms\n",
    "    for x in range(Lx):\n",
    "        for y in range(Ly):\n",
    "            current_site = f\"Site({x},{y})\"\n",
    "            \n",
    "            # Horizontal connections\n",
    "            if x < Lx - 1:\n",
    "                right_neighbor = f\"Site({x+1},{y})\"\n",
    "                terms.append(ptn.TensorProduct({current_site:  -t * creation_op, right_neighbor: annihilation_op}))\n",
    "                terms.append(ptn.TensorProduct({current_site: -t * annihilation_op, right_neighbor: creation_op}))\n",
    "            \n",
    "            # Vertical connections\n",
    "            if y < Ly - 1:\n",
    "                up_neighbor = f\"Site({x},{y+1})\"\n",
    "                terms.append(ptn.TensorProduct({current_site:  -t * creation_op, up_neighbor: annihilation_op}))\n",
    "                terms.append(ptn.TensorProduct({current_site: -t * annihilation_op, up_neighbor: creation_op}))\n",
    "    \n",
    "    # On-site interaction terms\n",
    "    for x in range(Lx):\n",
    "        for y in range(Ly):\n",
    "            current_site = f\"Site({x},{y})\"\n",
    "            terms.append(ptn.TensorProduct({current_site: U * number_op @ (number_op - np.eye(2))}))\n",
    "    \n",
    "    return terms"
   ]
  },
  {
   "cell_type": "code",
   "execution_count": 9,
   "metadata": {},
   "outputs": [],
   "source": [
    "def exchange_bra_ket_tensors(ttn):\n",
    "    state = deepcopy(ttn)\n",
    "    ptn.adjust_bra_to_ket(state)\n",
    "    for ket_id in list(state.nodes.keys())[:(len(state.nodes.keys())//2)]:\n",
    "        i, j = ket_id.replace('Site(', '').replace(')', '').split(',')\n",
    "        bra_id = f\"Node({i},{j})\"\n",
    "        T1 = state.tensors[bra_id]\n",
    "        T2 = state.tensors[ket_id]\n",
    "        state.tensors[ket_id] = T1\n",
    "        state.nodes[ket_id].link_tensor(T1)\n",
    "        state.tensors[bra_id] = T2\n",
    "        state.nodes[bra_id].link_tensor(T2)\n",
    "    return state\n",
    "\n",
    "def substitute_out_or_in_legs_of_ttn_with_identity(state, out_or_in , bond_dim=2):\n",
    "    ttn = deepcopy(state)\n",
    "    if out_or_in == \"Out\":\n",
    "       for node_id in list(ttn.nodes.keys())[(len(ttn.nodes.keys())//2):]:\n",
    "        n = ttn.tensors[node_id].ndim - 1\n",
    "        T = np.reshape(np.array([[1,0]]), (n*(1,) + (2,)))\n",
    "        T = np.pad(T, n*((0, bond_dim-1),) + ((0, 0),))\n",
    "        ttn.tensors[node_id] = T\n",
    "        ttn.nodes[node_id].link_tensor(T)   \n",
    "    if out_or_in == \"In\":\n",
    "        for node_id in list(ttn.nodes.keys())[:len(ttn.nodes.keys())//2]:\n",
    "            n = ttn.tensors[node_id].ndim\n",
    "            T = ttn.tensors[node_id]\n",
    "            T = np.reshape(np.array([[1,0]]), (n*(1,) + (2,)))\n",
    "            T = np.pad(T, n*((0, bond_dim-1),) + ((0, 0),))\n",
    "            ttn.tensors[node_id] = T\n",
    "            ttn.nodes[node_id].link_tensor(T)        \n",
    "    return ttn\n",
    "\n",
    "#ttn = ptn.original_form(tdvp_ex1.state , tdvp_ex1.two_neighbour_form_dict)\n",
    "#bond_dim = ttn.bond_dim(\"Site(0,0)\", \"Node(0,0)\")\n",
    "#ket = substitute_out_or_in_legs_of_ttn_with_identity(ttn, \"Out\",  bond_dim)\n",
    "#op_ket = ptn.contract_ttno_with_ttn(H, ket)\n",
    "#bra = exchange_bra_ket_tensors(ttn)\n",
    "#bra = substitute_out_or_in_legs_of_ttn_with_identity(bra, \"Out\" , bond_dim)\n",
    "#result = ptn.contract_two_ttns(bra, op_ket)\n"
   ]
  },
  {
   "cell_type": "code",
   "execution_count": 10,
   "metadata": {},
   "outputs": [],
   "source": [
    "# TTNO : Hamiltonian acting on in_legs\n",
    "H1 = BoseHubbard_ham(0.4, 0.5, 4, 4)\n",
    "H1 = H1.pad_with_identities(ttn, symbolic= True)\n",
    "H = ptn.TTNO.from_hamiltonian(H1, ttn)\n",
    "\n",
    "# TTNO : Liouville operator \n",
    "L = np.array([[0, 1], [0, 0]])\n",
    "J = 1\n",
    "H1 = Liouville(0.4, 0.5, J, L, 4, 4)\n",
    "H1 = H1.pad_with_identities(ttn , symbolic= True)\n",
    "L_fancy = ptn.TTNO.from_hamiltonian(H1, ttn)\n",
    "\n",
    "# TTNO : Unitary operator\n",
    "H1 = Unitary(0.4, 0.5, 4, 4)\n",
    "H1 = H1.pad_with_identities(ttn, symbolic= True)\n",
    "U = ptn.TTNO.from_hamiltonian(H1, ttn)"
   ]
  },
  {
   "cell_type": "code",
   "execution_count": 11,
   "metadata": {},
   "outputs": [],
   "source": [
    "#U = ptn.adjust_ttno_structure_to_ttn(U , ttn)\n",
    "#ttn , dict1 = ptn.max_two_neighbour_form(ttn)\n",
    "#U , dict2 = ptn.max_two_neighbour_form(U , dict1)"
   ]
  },
  {
   "cell_type": "code",
   "execution_count": 14,
   "metadata": {},
   "outputs": [],
   "source": [
    "# Config : Lindblad = True\n",
    "# time_evolve with exponent = hamiltonian * time_difference\n",
    "# evaluate_operator with operator_expectation_value_Lindblad(operator)\n",
    "\n",
    "\n",
    "tdvp_ex1 = ptn.SecondOrderOneSiteTDVP(initial_state = ttn,\n",
    "                                     hamiltonian = L_fancy,\n",
    "                                     time_step_size = 0.01,\n",
    "                                     final_time = 0.49,\n",
    "                                     operators = H,\n",
    "                                     num_vecs = 3,\n",
    "                                     tau = 1e-2,\n",
    "                                     SVDParameters = ptn.SVDParameters(max_bond_dim = 24 , rel_tol= 1e-3 , total_tol = -np.inf),\n",
    "                                     expansion_steps = 5,\n",
    "                                     initial_tol= 1e-27,\n",
    "                                     tol_step= 1e1,\n",
    "                                     max_bond= 20,\n",
    "                                     KrylovBasisMode = ptn.KrylovBasisMode.apply_1st_order_expansion,\n",
    "                                     config = ptn.TTNTimeEvolutionConfig(record_bond_dim=True,\n",
    "                                                                         Lindblad = True) )"
   ]
  },
  {
   "cell_type": "code",
   "execution_count": 13,
   "metadata": {},
   "outputs": [
    {
     "ename": "NameError",
     "evalue": "name 'c' is not defined",
     "output_type": "error",
     "traceback": [
      "\u001b[1;31m---------------------------------------------------------------------------\u001b[0m",
      "\u001b[1;31mNameError\u001b[0m                                 Traceback (most recent call last)",
      "Cell \u001b[1;32mIn[13], line 1\u001b[0m\n\u001b[1;32m----> 1\u001b[0m \u001b[43mc\u001b[49m\n",
      "\u001b[1;31mNameError\u001b[0m: name 'c' is not defined"
     ]
    }
   ],
   "source": [
    "c"
   ]
  },
  {
   "cell_type": "code",
   "execution_count": null,
   "metadata": {},
   "outputs": [],
   "source": [
    "tdvp_ex1.state = ptn.expand_subspace(tdvp_ex1.state, tdvp_ex1.hamiltonian, \n",
    "                                     tdvp_ex1.num_vecs, tdvp_ex1.tau,\n",
    "                                     tdvp_ex1.SVDParameters, 1e-1, tdvp_ex1.KrylovBasisMode)"
   ]
  },
  {
   "cell_type": "code",
   "execution_count": null,
   "metadata": {},
   "outputs": [
    {
     "data": {
      "text/plain": [
       "1"
      ]
     },
     "execution_count": 134,
     "metadata": {},
     "output_type": "execute_result"
    }
   ],
   "source": [
    "tdvp_ex1.state.max_bond_dim()"
   ]
  },
  {
   "cell_type": "code",
   "execution_count": null,
   "metadata": {},
   "outputs": [],
   "source": [
    "I = ptn.TTNO.Identity(ttn)"
   ]
  },
  {
   "cell_type": "code",
   "execution_count": null,
   "metadata": {},
   "outputs": [
    {
     "data": {
      "text/plain": [
       "array(65536.+0.j)"
      ]
     },
     "execution_count": 284,
     "metadata": {},
     "output_type": "execute_result"
    }
   ],
   "source": [
    "ttn.operator_expectation_value_Lindblad(I) "
   ]
  },
  {
   "cell_type": "code",
   "execution_count": null,
   "metadata": {},
   "outputs": [
    {
     "ename": "NameError",
     "evalue": "name 'I' is not defined",
     "output_type": "error",
     "traceback": [
      "\u001b[1;31m---------------------------------------------------------------------------\u001b[0m",
      "\u001b[1;31mNameError\u001b[0m                                 Traceback (most recent call last)",
      "Cell \u001b[1;32mIn[15], line 1\u001b[0m\n\u001b[1;32m----> 1\u001b[0m tdvp_ex1\u001b[38;5;241m.\u001b[39mevaluate_operator(\u001b[43mI\u001b[49m)\n",
      "\u001b[1;31mNameError\u001b[0m: name 'I' is not defined"
     ]
    }
   ],
   "source": [
    "tdvp_ex1.evaluate_operator(I)"
   ]
  },
  {
   "cell_type": "code",
   "execution_count": null,
   "metadata": {},
   "outputs": [
    {
     "name": "stderr",
     "output_type": "stream",
     "text": [
      "100%|██████████| 50/50 [11:55<00:00, 14.32s/it]\n"
     ]
    }
   ],
   "source": [
    "tdvp_ex1.run_ex(evaluation_time=5)\n",
    "\n",
    "times = tdvp_ex1.times()\n",
    "tdvp_results_ex1 = tdvp_ex1.operator_results()[0]"
   ]
  },
  {
   "cell_type": "code",
   "execution_count": null,
   "metadata": {},
   "outputs": [
    {
     "data": {
      "text/plain": [
       "{('Site(0,0)', 'Site(0,1)'): [1, 2, 7, 14, 14, 14, 14, 14, 14, 14],\n",
       " ('Site(0,1)', 'Site(1,1)'): [1, 2, 2, 2, 2, 2, 2, 2, 2, 2],\n",
       " ('Site(0,1)', 'Site(0,2)'): [1, 2, 7, 13, 13, 13, 13, 13, 13, 13],\n",
       " ('Site(0,2)', 'Site(1,2)'): [1, 2, 4, 4, 4, 4, 4, 4, 4, 4],\n",
       " ('Site(1,2)', 'Site(1,3)'): [1, 2, 2, 2, 2, 2, 2, 2, 2, 2],\n",
       " ('Site(0,2)', 'Site(0,3)'): [1, 2, 2, 2, 2, 2, 2, 2, 2, 2],\n",
       " ('Site(0,0)', 'Site(1,0)'): [1, 2, 4, 9, 9, 9, 9, 9, 9, 9],\n",
       " ('Site(1,0)', 'Site(2,0)'): [1, 2, 4, 8, 8, 8, 8, 8, 8, 8],\n",
       " ('Site(2,0)', 'Site(3,0)'): [1, 2, 2, 2, 2, 2, 2, 2, 2, 2],\n",
       " ('Site(2,0)', 'Site(2,1)'): [1, 2, 6, 11, 11, 11, 11, 11, 11, 11],\n",
       " ('Site(2,1)', 'Site(3,1)'): [1, 2, 4, 9, 9, 9, 9, 9, 9, 9],\n",
       " ('Site(3,1)', 'Site(3,2)'): [1, 2, 4, 7, 7, 7, 7, 7, 7, 7],\n",
       " ('Site(3,2)', 'Site(2,2)'): [1, 2, 4, 4, 4, 4, 4, 4, 4, 4],\n",
       " ('Site(2,2)', 'Site(2,3)'): [1, 2, 2, 2, 2, 2, 2, 2, 2, 2],\n",
       " ('Site(3,2)', 'Site(3,3)'): [1, 2, 2, 2, 2, 2, 2, 2, 2, 2],\n",
       " ('Site(0,0)', 'Node(0,0)'): [1, 2, 6, 36, 36, 36, 36, 36, 36, 36],\n",
       " ('Node(0,0)', 'Node(0,1)'): [1, 2, 7, 15, 15, 15, 15, 15, 15, 15],\n",
       " ('Node(0,1)', 'Node(1,1)'): [1, 2, 2, 2, 2, 2, 2, 2, 2, 2],\n",
       " ('Node(0,1)', 'Node(0,2)'): [1, 2, 7, 12, 12, 12, 12, 12, 12, 12],\n",
       " ('Node(0,2)', 'Node(1,2)'): [1, 2, 4, 4, 4, 4, 4, 4, 4, 4],\n",
       " ('Node(1,2)', 'Node(1,3)'): [1, 2, 2, 2, 2, 2, 2, 2, 2, 2],\n",
       " ('Node(0,2)', 'Node(0,3)'): [1, 2, 2, 2, 2, 2, 2, 2, 2, 2],\n",
       " ('Node(0,0)', 'Node(1,0)'): [1, 2, 4, 8, 8, 8, 8, 8, 8, 8],\n",
       " ('Node(1,0)', 'Node(2,0)'): [1, 2, 7, 14, 14, 14, 14, 14, 14, 14],\n",
       " ('Node(2,0)', 'Node(3,0)'): [1, 2, 2, 2, 2, 2, 2, 2, 2, 2],\n",
       " ('Node(2,0)', 'Node(2,1)'): [1, 2, 4, 7, 7, 7, 7, 7, 7, 7],\n",
       " ('Node(2,1)', 'Node(3,1)'): [1, 2, 4, 7, 7, 7, 7, 7, 7, 7],\n",
       " ('Node(3,1)', 'Node(3,2)'): [1, 2, 4, 11, 11, 11, 11, 11, 11, 11],\n",
       " ('Node(3,2)', 'Node(2,2)'): [1, 1, 3, 4, 4, 4, 4, 4, 4, 4],\n",
       " ('Node(2,2)', 'Node(2,3)'): [1, 2, 2, 2, 2, 2, 2, 2, 2, 2],\n",
       " ('Node(3,2)', 'Node(3,3)'): [1, 2, 2, 2, 2, 2, 2, 2, 2, 2]}"
      ]
     },
     "execution_count": 71,
     "metadata": {},
     "output_type": "execute_result"
    }
   ],
   "source": [
    "tdvp_ex1.bond_dims"
   ]
  },
  {
   "cell_type": "code",
   "execution_count": null,
   "metadata": {},
   "outputs": [
    {
     "name": "stdout",
     "output_type": "stream",
     "text": [
      "List saved to results/46-41\n"
     ]
    }
   ],
   "source": [
    "save_list(tdvp_results_ex1, \"46-41\")"
   ]
  },
  {
   "cell_type": "code",
   "execution_count": null,
   "metadata": {},
   "outputs": [
    {
     "data": {
      "text/plain": [
       "46"
      ]
     },
     "execution_count": 67,
     "metadata": {},
     "output_type": "execute_result"
    }
   ],
   "source": [
    "tdvp_ex1.state.max_bond_dim()"
   ]
  },
  {
   "cell_type": "code",
   "execution_count": null,
   "metadata": {},
   "outputs": [
    {
     "ename": "NameError",
     "evalue": "name 'c' is not defined",
     "output_type": "error",
     "traceback": [
      "\u001b[1;31m---------------------------------------------------------------------------\u001b[0m",
      "\u001b[1;31mNameError\u001b[0m                                 Traceback (most recent call last)",
      "Cell \u001b[1;32mIn[11], line 1\u001b[0m\n\u001b[1;32m----> 1\u001b[0m \u001b[43mc\u001b[49m\n",
      "\u001b[1;31mNameError\u001b[0m: name 'c' is not defined"
     ]
    }
   ],
   "source": [
    "c"
   ]
  },
  {
   "cell_type": "code",
   "execution_count": null,
   "metadata": {},
   "outputs": [],
   "source": [
    "tdvp_ex2.run_ex(evaluation_time=2)\n",
    "\n",
    "times = tdvp_ex2.times()\n",
    "tdvp_results_ex1 = tdvp_ex2.operator_results(realise=True)[0]"
   ]
  },
  {
   "cell_type": "code",
   "execution_count": null,
   "metadata": {},
   "outputs": [
    {
     "name": "stdout",
     "output_type": "stream",
     "text": [
      "List saved to results/52-16\n"
     ]
    }
   ],
   "source": [
    "save_list(tdvp_results_ex1, \"52_...\")"
   ]
  },
  {
   "cell_type": "code",
   "execution_count": null,
   "metadata": {},
   "outputs": [],
   "source": [
    "tdvp_results_ex1 = tdvp_ex1.operator_results(realise=True)[0]"
   ]
  },
  {
   "cell_type": "code",
   "execution_count": null,
   "metadata": {},
   "outputs": [],
   "source": [
    "state = ptn.original_form(tdvp_ex1.state , tdvp_ex1.two_neighbour_form_dict)"
   ]
  },
  {
   "cell_type": "code",
   "execution_count": null,
   "metadata": {},
   "outputs": [
    {
     "data": {
      "text/plain": [
       "41"
      ]
     },
     "execution_count": 21,
     "metadata": {},
     "output_type": "execute_result"
    }
   ],
   "source": [
    "state.max_bond_dim() "
   ]
  },
  {
   "cell_type": "code",
   "execution_count": null,
   "metadata": {},
   "outputs": [
    {
     "data": {
      "text/plain": [
       "array([-4.8       +0.00000000e+00j, -4.8       +3.64121130e-34j,\n",
       "       -4.8       +5.17593673e-34j, -4.8       +9.32872317e-34j,\n",
       "       -4.8       +1.61898486e-33j, -4.79843852+9.41808888e-16j,\n",
       "       -4.79554902+5.64473187e-16j, -4.79297612+9.39347626e-16j,\n",
       "       -4.79072657+5.62569119e-16j, -4.78880761+1.31103023e-15j,\n",
       "       -4.78589749-1.26412764e-07j, -4.78238997-1.90675138e-07j,\n",
       "       -4.7793392 -2.33776627e-07j, -4.77678136-2.67019473e-07j,\n",
       "       -4.77474774-2.94488657e-07j, -4.77277123-3.03800946e-07j,\n",
       "       -4.77048252-2.98883320e-07j, -4.76827541-2.97224361e-07j,\n",
       "       -4.76664203-2.94308087e-07j, -4.76560211-2.91698477e-07j,\n",
       "       -4.76441088-9.79310175e-07j, -4.76235566-1.22875188e-07j,\n",
       "       -4.76050498+5.86483992e-07j, -4.75919579+1.29798101e-06j,\n",
       "       -4.75846185+2.02498957e-06j, -4.75833857+2.76911445e-06j,\n",
       "       -4.75886595+3.53028447e-06j, -4.76008968+4.30749812e-06j,\n",
       "       -4.76206217+5.09874683e-06j, -4.76484346+5.90081248e-06j,\n",
       "       -4.76850236+6.70899960e-06j, -4.77311739+7.51679857e-06j,\n",
       "       -4.77877791+8.31547891e-06j, -4.78558512+9.09362615e-06j,\n",
       "       -4.79365302+9.83664376e-06j, -4.80310924+1.05262379e-05j,\n",
       "       -4.81409572+1.11398926e-05j, -4.82676923+1.16503427e-05j,\n",
       "       -4.84130156+1.20250724e-05j, -4.85787957+1.22259042e-05j,\n",
       "       -4.87670483+1.22087888e-05j, -4.89799309+1.19239416e-05j,\n",
       "       -4.92197345+1.13165024e-05j, -4.94888738+1.03279051e-05j,\n",
       "       -4.97898755+8.89812677e-06j, -5.01253679+6.96893352e-06j,\n",
       "       -5.04980707+4.48811845e-06j, -5.09107891+1.41455537e-06j,\n",
       "       -5.13664116-2.27633350e-06j, -5.18679147-6.58730438e-06j,\n",
       "       -5.24183741-1.14949215e-05j, -5.30209846-1.69466746e-05j,\n",
       "       -5.36790849-2.28597255e-05j, -5.43961901-2.91205951e-05j,\n",
       "       -5.51760265-3.55837680e-05j, -5.60225708-4.20648434e-05j,\n",
       "       -5.69400891-4.83184517e-05j, -5.79331768-5.39752311e-05j,\n",
       "       -5.90067974-5.83620553e-05j, -6.01663223-6.00452935e-05j,\n",
       "       -6.14175811-5.68128588e-05j, -6.27668603-4.98599073e-05j,\n",
       "       -6.42208759-4.26764049e-05j, -6.57869157-3.49436054e-05j,\n",
       "       -6.74729415-2.55047469e-05j, -6.92876731-1.35049279e-05j,\n",
       "       -7.12406935+1.75076794e-06j, -7.33425677+2.09183233e-05j,\n",
       "       -7.56049796+4.46831465e-05j, -7.80408952+7.38142027e-05j,\n",
       "       -8.06647666+1.09225136e-04j, -8.34927844+1.52058555e-04j,\n",
       "       -8.65431907+2.03810620e-04j, -8.98366634+2.66515906e-04j,\n",
       "       -9.33967937+3.43016143e-04j, -9.72507078+4.37340894e-04j])"
      ]
     },
     "execution_count": 299,
     "metadata": {},
     "output_type": "execute_result"
    }
   ],
   "source": [
    "tdvp_results_ex1"
   ]
  },
  {
   "cell_type": "code",
   "execution_count": null,
   "metadata": {},
   "outputs": [
    {
     "name": "stderr",
     "output_type": "stream",
     "text": [
      "c:\\Users\\edpou\\AppData\\Local\\Programs\\Python\\Python312\\Lib\\site-packages\\matplotlib\\cbook.py:1699: ComplexWarning: Casting complex values to real discards the imaginary part\n",
      "  return math.isfinite(val)\n",
      "c:\\Users\\edpou\\AppData\\Local\\Programs\\Python\\Python312\\Lib\\site-packages\\matplotlib\\cbook.py:1345: ComplexWarning: Casting complex values to real discards the imaginary part\n",
      "  return np.asarray(x, float)\n"
     ]
    },
    {
     "data": {
      "text/plain": [
       "<matplotlib.legend.Legend at 0x2092058b7a0>"
      ]
     },
     "execution_count": 300,
     "metadata": {},
     "output_type": "execute_result"
    },
    {
     "data": {
      "image/png": "[encoded data removed]",
      "text/plain": [
       "<Figure size 1000x1000 with 1 Axes>"
      ]
     },
     "metadata": {},
     "output_type": "display_data"
    }
   ],
   "source": [
    "import matplotlib.pyplot as plt\n",
    "\n",
    "fig1, axs1 = plt.subplots(1, 1, sharex=True, figsize=(10,10))\n",
    "\n",
    "\n",
    "#axs1.plot(times, load_list(\"41-18\") , label='1')\n",
    "#axs1.plot(times, tdvp_results_ex1 , label='3')\n",
    "axs1.plot(times, tdvp_results_ex1 , label='1')\n",
    "\n",
    "axs1.set_xlabel(\"Time $t$\")\n",
    "axs1.set_ylabel(\"results\")  \n",
    "axs1.legend()"
   ]
  },
  {
   "cell_type": "code",
   "execution_count": null,
   "metadata": {},
   "outputs": [],
   "source": [
    "import matplotlib.pyplot as plt\n",
    "\n",
    "fig1, axs1 = plt.subplots(1, 1, sharex=True, figsize=(10,10))\n",
    "\n",
    "\n",
    "axs1.plot(times, tdvp_results_ex1 , label='2 ')\n",
    "#axs1.plot(times, tdvp_results_ex2 , label='20')\n",
    "#axs1.plot(times, tdvp_results_ex3 , label='5')\n",
    "#axs1.plot(times, tdvp_results_ex4 , label='1')\n",
    "\n",
    "\n",
    "axs1.set_xlabel(\"Time $t$\")\n",
    "axs1.set_ylabel(\"results\")  \n",
    "axs1.legend()"
   ]
  },
  {
   "cell_type": "code",
   "execution_count": 2,
   "metadata": {},
   "outputs": [
    {
     "ename": "NameError",
     "evalue": "name 'tdvp_ex1' is not defined",
     "output_type": "error",
     "traceback": [
      "\u001b[1;31m---------------------------------------------------------------------------\u001b[0m",
      "\u001b[1;31mNameError\u001b[0m                                 Traceback (most recent call last)",
      "Cell \u001b[1;32mIn[2], line 1\u001b[0m\n\u001b[1;32m----> 1\u001b[0m \u001b[43mtdvp_ex1\u001b[49m\u001b[38;5;241m.\u001b[39mtwo_neighbour_form_dict\n",
      "\u001b[1;31mNameError\u001b[0m: name 'tdvp_ex1' is not defined"
     ]
    }
   ],
   "source": [
    "tdvp_ex1.two_neighbour_form_dict"
   ]
  },
  {
   "cell_type": "code",
   "execution_count": 1,
   "metadata": {},
   "outputs": [
    {
     "ename": "NameError",
     "evalue": "name 'tdvp_ex1' is not defined",
     "output_type": "error",
     "traceback": [
      "\u001b[1;31m---------------------------------------------------------------------------\u001b[0m",
      "\u001b[1;31mNameError\u001b[0m                                 Traceback (most recent call last)",
      "Cell \u001b[1;32mIn[1], line 5\u001b[0m\n\u001b[0;32m      1\u001b[0m \u001b[38;5;28;01mimport\u001b[39;00m \u001b[38;5;21;01mmatplotlib\u001b[39;00m\u001b[38;5;21;01m.\u001b[39;00m\u001b[38;5;21;01mpyplot\u001b[39;00m \u001b[38;5;28;01mas\u001b[39;00m \u001b[38;5;21;01mplt\u001b[39;00m\n\u001b[0;32m      3\u001b[0m fig, ax \u001b[38;5;241m=\u001b[39m plt\u001b[38;5;241m.\u001b[39msubplots(figsize\u001b[38;5;241m=\u001b[39m(\u001b[38;5;241m12\u001b[39m, \u001b[38;5;241m6\u001b[39m))\n\u001b[1;32m----> 5\u001b[0m \u001b[38;5;28;01mfor\u001b[39;00m key, values \u001b[38;5;129;01min\u001b[39;00m \u001b[43mtdvp_ex1\u001b[49m\u001b[38;5;241m.\u001b[39mbond_dims\u001b[38;5;241m.\u001b[39mitems():\n\u001b[0;32m      6\u001b[0m     x \u001b[38;5;241m=\u001b[39m \u001b[38;5;28mlist\u001b[39m(\u001b[38;5;28mrange\u001b[39m(\u001b[38;5;28mlen\u001b[39m(values)))\n\u001b[0;32m      7\u001b[0m     ax\u001b[38;5;241m.\u001b[39mplot(x, values, color\u001b[38;5;241m=\u001b[39m\u001b[38;5;124m'\u001b[39m\u001b[38;5;124mblue\u001b[39m\u001b[38;5;124m'\u001b[39m)\n",
      "\u001b[1;31mNameError\u001b[0m: name 'tdvp_ex1' is not defined"
     ]
    },
    {
     "data": {
      "image/png": "[encoded data removed]",
      "text/plain": [
       "<Figure size 1200x600 with 1 Axes>"
      ]
     },
     "metadata": {},
     "output_type": "display_data"
    }
   ],
   "source": [
    "import matplotlib.pyplot as plt\n",
    "\n",
    "fig, ax = plt.subplots(figsize=(12, 6))\n",
    "\n",
    "for key, values in tdvp_ex1.bond_dims.items():\n",
    "    x = list(range(len(values)))\n",
    "    ax.plot(x, values, color='blue')\n",
    "\n",
    "blue_patch = plt.Line2D([0], [0], color='blue', label='QR-split form (8 min)')\n",
    "\n",
    "ax.set_xlabel('Index')\n",
    "ax.set_ylabel('Bond dimensions')\n",
    "ax.set_title('time (tiem_step = 0.01)')\n",
    "\n",
    "\n",
    "plt.show()\n"
   ]
  }
 ],
 "metadata": {
  "kernelspec": {
   "display_name": "Python 3",
   "language": "python",
   "name": "python3"
  },
  "language_info": {
   "codemirror_mode": {
    "name": "ipython",
    "version": 3
   },
   "file_extension": ".py",
   "mimetype": "text/x-python",
   "name": "python",
   "nbconvert_exporter": "python",
   "pygments_lexer": "ipython3",
   "version": "3.12.1"
  }
 },
 "nbformat": 4,
 "nbformat_minor": 2
}
