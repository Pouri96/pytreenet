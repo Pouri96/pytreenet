{
 "cells": [
  {
   "cell_type": "code",
   "execution_count": 41,
   "metadata": {},
   "outputs": [],
   "source": [
    "import numpy as np\n",
    "import pytreenet as ptn\n",
    "from copy import deepcopy"
   ]
  },
  {
   "cell_type": "code",
   "execution_count": 42,
   "metadata": {},
   "outputs": [],
   "source": [
    "d = 2"
   ]
  },
  {
   "cell_type": "code",
   "execution_count": 43,
   "metadata": {},
   "outputs": [],
   "source": [
    "def product_state(ttn, bond_dim=2 , physical_dim= 2):\n",
    "    product_state = deepcopy(ttn)\n",
    "    A = np.array([1, 0]) \n",
    "    #A = np.random.rand(2) + 1j * np.random.rand(2)\n",
    "    for node_id in product_state.nodes.keys():\n",
    "        n = product_state.tensors[node_id].ndim - 1\n",
    "        tensor = A.reshape((1,) * n + (physical_dim,))\n",
    "        T = np.pad(tensor, n*((0, bond_dim-1),) + ((0, 0),))\n",
    "        product_state.tensors[node_id] = T\n",
    "        product_state.nodes[node_id].link_tensor(T)  \n",
    "    return product_state"
   ]
  },
  {
   "cell_type": "code",
   "execution_count": 44,
   "metadata": {},
   "outputs": [],
   "source": [
    "### (0, 0): (2, 2, 2) --> (2, 2, 2, 2)\n",
    "\n",
    "shapes = {\n",
    "    (0, 0): (2, 2, 2, 2),\n",
    "    (0, 1): (2, 2, 2, 2),\n",
    "    (0, 2): (2, 2, 2, 2),\n",
    "    (0, 3): (2, 2),\n",
    "    (1, 0): (2, 2, 2),\n",
    "    (1, 1): (2, 2),\n",
    "    (1, 2): (2, 2, 2),\n",
    "    (1, 3): (2, 2),\n",
    "    (2, 0): (2, 2, 2, 2),\n",
    "    (2, 1): (2, 2, 2),\n",
    "    (2, 2): (2, 2, 2),\n",
    "    (2, 3): (2, 2),\n",
    "    (3, 0): (2, 2),\n",
    "    (3, 1): (2, 2, 2),\n",
    "    (3, 2): (2, 2, 2, 2),\n",
    "    (3, 3): (2, 2)\n",
    "}\n",
    "\n",
    "sites = {\n",
    "    (i, j): ptn.random_tensor_node(shapes[(i, j)], identifier=f\"Site({i},{j})\") for i in range(4) for j in range(4)\n",
    "}\n",
    "\n",
    "ttn = ptn.TreeTensorNetworkState()\n",
    "\n",
    "ttn.add_root(sites[(0, 0)][0], sites[(0, 0)][1])\n",
    "\n",
    "connections = [\n",
    "    ((0, 0), (0, 1), 0, 0),\n",
    "    ((0, 1), (1, 1), 1, 0),\n",
    "    ((0, 1), (0, 2), 2, 0),\n",
    "    ((0, 2), (1, 2), 1, 0),\n",
    "    ((1, 2), (1, 3), 1, 0),\n",
    "    ((0, 2), (0, 3), 2, 0),\n",
    "    ((0, 0), (1, 0), 1, 0),\n",
    "    ((1, 0), (2, 0), 1, 0),\n",
    "    ((2, 0), (3, 0), 1, 0),\n",
    "    ((2, 0), (2, 1), 2, 0),\n",
    "    ((2, 1), (3, 1), 1, 0),\n",
    "    ((3, 1), (3, 2), 1, 0),\n",
    "    ((3, 2), (2, 2), 1, 0),\n",
    "    ((2, 2), (2, 3), 1, 0),\n",
    "    ((3, 2), (3, 3), 2, 0),\n",
    "]\n",
    "\n",
    "for (parent, child, parent_leg, child_leg) in connections:\n",
    "    parent_id = f\"Site({parent[0]},{parent[1]})\"\n",
    "    child_id = f\"Site({child[0]},{child[1]})\"\n",
    "    ttn.add_child_to_parent(sites[child][0], sites[child][1], child_leg, parent_id, parent_leg)\n",
    "\n",
    "ttn = product_state(ttn , bond_dim= 1, physical_dim = 2)  \n",
    "\n",
    "nodes = {\n",
    "    (i, j): (ptn.Node(tensor=ttn.tensors[f\"Site({i},{j})\"].conj() , identifier=f\"Node({i},{j})\"), ttn.tensors[f\"Site({i},{j})\"].conj()) for i in range(4) for j in range(4)\n",
    "}\n",
    "\n",
    "ttn.add_child_to_parent(nodes[(0,0)][0], nodes[(0,0)][1], 2, \"Site(0,0)\", 2)\n",
    "\n",
    "### (0,0) : 0,1 --> 1,2\n",
    "\n",
    "connections = [\n",
    "    ((0, 0), (0, 1), 1, 0),\n",
    "    ((0, 1), (1, 1), 1, 0),\n",
    "    ((0, 1), (0, 2), 2, 0),\n",
    "    ((0, 2), (1, 2), 1, 0),\n",
    "    ((1, 2), (1, 3), 1, 0),\n",
    "    ((0, 2), (0, 3), 2, 0),\n",
    "    ((0, 0), (1, 0), 2, 0),\n",
    "    ((1, 0), (2, 0), 1, 0),\n",
    "    ((2, 0), (3, 0), 1, 0),\n",
    "    ((2, 0), (2, 1), 2, 0),\n",
    "    ((2, 1), (3, 1), 1, 0),\n",
    "    ((3, 1), (3, 2), 1, 0),\n",
    "    ((3, 2), (2, 2), 1, 0),\n",
    "    ((2, 2), (2, 3), 1, 0),\n",
    "    ((3, 2), (3, 3), 2, 0),\n",
    "]\n",
    "\n",
    "for (parent, child, parent_leg, child_leg) in connections:\n",
    "    parent_id = f\"Node({parent[0]},{parent[1]})\"\n",
    "    child_id = f\"Node({child[0]},{child[1]})\"\n",
    "    ttn.add_child_to_parent(nodes[child][0], nodes[child][1], child_leg, parent_id, parent_leg)"
   ]
  },
  {
   "cell_type": "code",
   "execution_count": 45,
   "metadata": {},
   "outputs": [],
   "source": [
    "def get_neighbors_periodic_in_legs(x, y, Lx, Ly):\n",
    "  neighbors = []\n",
    "  \n",
    "  # Right neighbor (with periodic boundary)\n",
    "  right_x = (x + 1) % Lx\n",
    "  neighbors.append((f\"Site({right_x},{y})\"))\n",
    "  \n",
    "  # Up neighbor (with periodic boundary)\n",
    "  up_y = (y + 1) % Ly\n",
    "  neighbors.append((f\"Site({x},{up_y})\"))\n",
    "  \n",
    "  return neighbors\n",
    "\n",
    "def get_neighbors_periodic_out_legs(x, y, Lx, Ly):\n",
    "    neighbors = []\n",
    "    \n",
    "    # Right neighbor (with periodic boundary)\n",
    "    right_x = (x + 1) % Lx\n",
    "    neighbors.append((f\"Node({right_x},{y})\"))\n",
    "    \n",
    "    # Up neighbor (with periodic boundary)\n",
    "    up_y = (y + 1) % Ly\n",
    "    neighbors.append((f\"Node({x},{up_y})\"))\n",
    "    \n",
    "    return neighbors  \n",
    "\n"
   ]
  },
  {
   "cell_type": "code",
   "execution_count": 46,
   "metadata": {},
   "outputs": [],
   "source": [
    "def Anisotropic_Heisenberg_ham(J_x, J_y, J_z, h_z, Lx, Ly):\n",
    "    # Get the Pauli matrices\n",
    "    X, Y, Z = ptn.pauli_matrices()\n",
    "    \n",
    "    # Create a conversion dictionary for the operators\n",
    "    conversion_dict = {\n",
    "        \"X\": X,\n",
    "        \"J_x * X\": J_x * X,\n",
    "        \"Y\": Y,\n",
    "        \"J_y * Y\": J_y * Y,\n",
    "        \"Z\": Z,\n",
    "        \"J_z * Z\": J_z * Z,\n",
    "        \"I2\": np.eye(2),\n",
    "        \"h_z * Z\": h_z * Z\n",
    "    }\n",
    "    \n",
    "    terms = []\n",
    "    \n",
    "    for x in range(Lx):\n",
    "        for y in range(Ly):\n",
    "            current_site = f\"Site({x},{y})\"\n",
    "            neighbors = get_neighbors_periodic_in_legs(x, y, Lx, Ly)\n",
    "            \n",
    "            for neighbor in neighbors:\n",
    "                terms.append(ptn.TensorProduct({current_site: \"X\", neighbor: \"J_x * X\"}))\n",
    "                terms.append(ptn.TensorProduct({current_site: \"Y\", neighbor: \"J_y * Y\"}))\n",
    "                terms.append(ptn.TensorProduct({current_site: \"Z\", neighbor: \"J_z * Z\"}))               \n",
    "\n",
    "    \n",
    "    # On-site magnetic field terms\n",
    "    for x in range(Lx):\n",
    "        for y in range(Ly):\n",
    "            current_site = f\"Site({x},{y})\"\n",
    "            terms.append(ptn.TensorProduct({current_site: \"h_z * Z\"}))\n",
    "    \n",
    "    return ptn.Hamiltonian(terms, conversion_dict)"
   ]
  },
  {
   "cell_type": "code",
   "execution_count": 47,
   "metadata": {},
   "outputs": [],
   "source": [
    "def Liouville_Heisenberg(Lx, Ly, J_x, J_y, J_z, h_z, L, J):\n",
    "    # Get the Pauli matrices\n",
    "    X, Y, Z = ptn.pauli_matrices()\n",
    "    \n",
    "    # Create the conversion dictionary for the Hamiltonian.\n",
    "    conversion_dict = {\n",
    "        \"-iJ_x * X\": -1j*J_x * (X),\n",
    "        \"X\":                   (X),\n",
    "        \"-iJ_Y * Y\": -1j*J_y * (Y),\n",
    "        \"Y\":                   (Y),\n",
    "        \"-iJ_z * Z\": -1j*J_z * (Z),\n",
    "        \"Z\":                   (Z),\n",
    "        \"I2\":          np.eye(2),\n",
    "        \"-ih_z * Z\":  -1j* h_z * Z\n",
    "    }\n",
    "    \n",
    "    terms = []\n",
    "    \n",
    "    for x in range(Lx):\n",
    "        for y in range(Ly):\n",
    "            current_site = f\"Site({x},{y})\"\n",
    "            neighbors = get_neighbors_periodic_in_legs(x, y, Lx, Ly)\n",
    "            \n",
    "            for neighbor in neighbors:\n",
    "                terms.append(ptn.TensorProduct({current_site: \"-iJ_x * X\", neighbor: \"X\"}))\n",
    "                terms.append(ptn.TensorProduct({current_site: \"-iJ_Y * Y\", neighbor: \"Y\"}))\n",
    "                terms.append(ptn.TensorProduct({current_site: \"-iJ_z * Z\", neighbor: \"Z\"}))     \n",
    "\n",
    "    \n",
    "    # On-site magnetic field terms\n",
    "    for x in range(Lx):\n",
    "        for y in range(Ly):\n",
    "            current_site = f\"Site({x},{y})\"\n",
    "            terms.append(ptn.TensorProduct({current_site: \"-ih_z * Z\"}))\n",
    "\n",
    "    H1 = ptn.Hamiltonian(terms, conversion_dict)\n",
    "    \n",
    "    # H.T = H \n",
    "    \n",
    "    # Create the conversion dictionary for the Hamiltonian\n",
    "    conversion_dict = {\n",
    "        \"iJ_x * X.T\": 1j*J_x * (X.T),\n",
    "        \"X.T\":                 (X.T),\n",
    "        \"iJ_Y * Y.T\": 1j*J_y * (Y.T),\n",
    "        \"Y.T\":                 (Y.T),\n",
    "        \"iJ_z * Z.T\": 1j*J_z * (Z.T),\n",
    "        \"Z.T\":                 (Z.T),\n",
    "        \"I2\":              np.eye(2),\n",
    "        \"ih_z * Z.T\":     1j* h_z * (Z.T)\n",
    "    }\n",
    "    \n",
    "    terms = []\n",
    "    \n",
    "    # Hopping terms for the transpose\n",
    "    for x in range(Lx):\n",
    "        for y in range(Ly):\n",
    "            current_site = f\"Node({x},{y})\"\n",
    "            neighbors = get_neighbors_periodic_out_legs(x, y, Lx, Ly)\n",
    "            \n",
    "            for neighbor in neighbors:\n",
    "                terms.append(ptn.TensorProduct({current_site: \"iJ_x * X.T\", neighbor: \"X.T\"}))\n",
    "                terms.append(ptn.TensorProduct({current_site: \"iJ_Y * Y.T\", neighbor: \"Y.T\"}))\n",
    "                terms.append(ptn.TensorProduct({current_site: \"iJ_z * Z.T\", neighbor: \"Z.T\"})) \n",
    "\n",
    "\n",
    "    # On-site magnetic field terms\n",
    "    for x in range(Lx):\n",
    "        for y in range(Ly):\n",
    "            current_site = f\"Node({x},{y})\"\n",
    "            terms.append(ptn.TensorProduct({current_site: \"ih_z * Z.T\"}))\n",
    "    \n",
    "    H2 = ptn.Hamiltonian(terms, conversion_dict)    \n",
    "    H1.__add__(H2)\n",
    "    \n",
    "    J = np.sqrt(J)\n",
    "    conversion_dict = {\n",
    "        \"L\": J * L,\n",
    "        \"L^dagger.T\": J * L.conj(),\n",
    "        \"-1/2 (L^dagger @ L)\": -1/2 * J * (L.conj().T @ L),\n",
    "        \"-1/2 (L^dagger @ L).T\": -1/2 * J * (L.conj().T @ L).T\n",
    "    }\n",
    "\n",
    "    terms = []\n",
    "    for x in range(Lx):\n",
    "        for y in range(Ly):\n",
    "            out_site = f\"Node({x},{y})\"\n",
    "            in_site = f\"Site({x},{y})\"\n",
    "            terms.append(ptn.TensorProduct({in_site: \"L\"}))\n",
    "            terms.append(ptn.TensorProduct({out_site: \"L^dagger.T\"}))\n",
    "            terms.append(ptn.TensorProduct({in_site: \"-1/2 (L^dagger @ L)\"}))\n",
    "            terms.append(ptn.TensorProduct({out_site: \"-1/2 (L^dagger @ L).T\"}))\n",
    "\n",
    "    H3 = ptn.Hamiltonian(terms, conversion_dict)\n",
    "    H1.__add__(H3)\n",
    "    \n",
    "    return H1"
   ]
  },
  {
   "cell_type": "code",
   "execution_count": 48,
   "metadata": {},
   "outputs": [],
   "source": [
    "def Unitary(Lx, Ly, J_x, J_y, J_z, h_z):\n",
    "    # Get the Pauli matrices\n",
    "    X, Y, Z = ptn.pauli_matrices()\n",
    "    \n",
    "    # Create the conversion dictionary for the Hamiltonian\n",
    "    conversion_dict = {\n",
    "        \"-i * X\": -1j* X,\n",
    "        \"J_x * X\": J_x * X,\n",
    "        \"-i * Y\": -1j* Y,\n",
    "        \"J_y * Y\": J_y * Y,\n",
    "        \"-i * Z\": -1j* Z,\n",
    "        \"J_z * Z\": J_z * Z,\n",
    "        \"I2\": np.eye(2),\n",
    "        \"-i * h_z * Z\": -1j* h_z * Z\n",
    "    }\n",
    "    \n",
    "    terms = []\n",
    "    \n",
    "    for x in range(Lx):\n",
    "        for y in range(Ly):\n",
    "            current_site = f\"Site({x},{y})\"\n",
    "            neighbors = get_neighbors_periodic_in_legs(x, y, Lx, Ly)\n",
    "            \n",
    "            for neighbor in neighbors:\n",
    "                terms.append(ptn.TensorProduct({current_site: \"-i * X\", neighbor: \"J_x * X\"}))\n",
    "                terms.append(ptn.TensorProduct({current_site: \"-i * Y\", neighbor: \"J_y * Y\"}))\n",
    "                terms.append(ptn.TensorProduct({current_site: \"-i * Z\", neighbor: \"J_z * Z\"}))       \n",
    "\n",
    "    \n",
    "    # On-site magnetic field terms\n",
    "    for x in range(Lx):\n",
    "        for y in range(Ly):\n",
    "            current_site = f\"Site({x},{y})\"\n",
    "            terms.append(ptn.TensorProduct({current_site: \"-i * h_z * Z\"}))\n",
    "\n",
    "    H1 = ptn.Hamiltonian(terms, conversion_dict)\n",
    "    \n",
    "    # H.T = H \n",
    "    \n",
    "    # Create the conversion dictionary for the Hamiltonian\n",
    "    conversion_dict = {\n",
    "        \"i * X\": 1j* X,\n",
    "        \"J_x * X\": J_x * X,\n",
    "        \"i * Y\": 1j* Y,\n",
    "        \"J_y * Y\": J_y * Y,\n",
    "        \"i * Z\": 1j* Z,\n",
    "        \"J_z * Z\": J_z * Z,\n",
    "        \"I2\": np.eye(2),\n",
    "        \"i * h_z * Z\": 1j* h_z * Z\n",
    "    }\n",
    "    \n",
    "    terms = []\n",
    "    \n",
    "    # Hopping terms for the transpose\n",
    "    for x in range(Lx):\n",
    "        for y in range(Ly):\n",
    "            current_site = f\"Node({x},{y})\"\n",
    "            neighbors = get_neighbors_periodic_out_legs(x, y, Lx, Ly)\n",
    "            \n",
    "            for neighbor in neighbors:\n",
    "                terms.append(ptn.TensorProduct({current_site: \"i * X\", neighbor: \"J_x * X\"}))\n",
    "                terms.append(ptn.TensorProduct({current_site: \"i * Y\", neighbor: \"J_y * Y\"}))\n",
    "                terms.append(ptn.TensorProduct({current_site: \"i * Z\", neighbor: \"J_z * Z\"})) \n",
    "\n",
    "\n",
    "    # On-site magnetic field terms\n",
    "    for x in range(Lx):\n",
    "        for y in range(Ly):\n",
    "            current_site = f\"Node({x},{y})\"\n",
    "            terms.append(ptn.TensorProduct({current_site: \"i * h_z * Z\"}))\n",
    "    \n",
    "    H2 = ptn.Hamiltonian(terms, conversion_dict)    \n",
    "    H1.__add__(H2)\n",
    "    \n",
    "    return H1    \n",
    "    "
   ]
  },
  {
   "cell_type": "code",
   "execution_count": 49,
   "metadata": {},
   "outputs": [],
   "source": [
    "def Magnetization_op_total(Lx, Ly):\n",
    "    # Get the Pauli matrices\n",
    "    X, Y, Z = ptn.pauli_matrices()\n",
    "    \n",
    "    # Create a conversion dictionary for the operators\n",
    "    conversion_dict = {\n",
    "        \"X\": X ,\n",
    "        \"Y\": Y,\n",
    "        \"Z\": Z / (Lx*Ly),\n",
    "        \"I2\": np.eye(2)}\n",
    "    terms = []\n",
    "    for x in range(Lx):\n",
    "        for y in range(Ly):\n",
    "            current_site = f\"Site({x},{y})\"\n",
    "            terms.append(ptn.TensorProduct({current_site: \"Z\"}))  # Using Z for magnetization\n",
    "\n",
    "    return ptn.Hamiltonian(terms, conversion_dict)"
   ]
  },
  {
   "cell_type": "code",
   "execution_count": 50,
   "metadata": {},
   "outputs": [
    {
     "name": "stdout",
     "output_type": "stream",
     "text": [
      "(1+0j)\n",
      "(1+0j)\n"
     ]
    }
   ],
   "source": [
    "Lx =  4\n",
    "Ly  = 4\n",
    "J_x = 0.9\n",
    "J_y = 1.8 #(1.8)\n",
    "J_z = 1 \n",
    "h_z = 1\n",
    "\n",
    "\n",
    "# TTNO : Hamiltonian acting on in_legs\n",
    "H1 = Anisotropic_Heisenberg_ham(J_x, J_y, J_z, h_z, Lx, Ly)\n",
    "H1 = H1.pad_with_identities(ttn, symbolic= True)\n",
    "H = ptn.TTNO.from_hamiltonian(H1, ttn)\n",
    "\n",
    "# TTNO : Liouville operator \n",
    "X , Y , Z = ptn.pauli_matrices()\n",
    "L = (X - 1j * Y) / 2\n",
    "J = 1\n",
    "H1 = Liouville_Heisenberg(Lx, Ly, J_x, J_y, J_z, h_z, L, J)\n",
    "H1 = H1.pad_with_identities(ttn , symbolic= True)\n",
    "L_fancy = ptn.TTNO.from_hamiltonian(H1, ttn)\n",
    "\n",
    "# TTNO : Unitary operator\n",
    "H1 = Unitary(Lx, Ly, J_x, J_y, J_z, h_z)\n",
    "H1 = H1.pad_with_identities(ttn, symbolic= True)\n",
    "U = ptn.TTNO.from_hamiltonian(H1, ttn)\n",
    "\n",
    "M = Magnetization_op_total(Lx, Ly)\n",
    "M = M.pad_with_identities(ttn, symbolic= True)\n",
    "M = ptn.TTNO.from_hamiltonian(M, ttn)\n",
    "\n",
    "ttn = ptn.normalize_ttn_Lindblad_4(ttn , 'Node(2,3)')\n",
    "I = ptn.TTNO.Identity(ttn)\n",
    "print(ttn.operator_expectation_value_Lindblad(I))\n",
    "print(ttn.operator_expectation_value_Lindblad(M) / ttn.operator_expectation_value_Lindblad(I))"
   ]
  },
  {
   "cell_type": "code",
   "execution_count": 51,
   "metadata": {},
   "outputs": [],
   "source": [
    "# Config : Lindblad = True\n",
    "# time_evolve with exponent = hamiltonian * time_difference\n",
    "# evaluate_operator with operator_expectation_value_Lindblad(operator)\n",
    "# normalize_ttn_Lindblad after each run_one_time_step_ex\n",
    "\n",
    "tdvp_ex1 = ptn.SecondOrderOneSiteTDVP(initial_state = ttn,\n",
    "                                     hamiltonian = L_fancy,\n",
    "                                     time_step_size = 0.001,\n",
    "                                     final_time = 4,\n",
    "                                     operators = M,\n",
    "                                     num_vecs = 3,\n",
    "                                     tau = 1e-3,\n",
    "                                     SVDParameters = ptn.SVDParameters(max_bond_dim = np.inf , rel_tol= -np.inf , total_tol = -np.inf),\n",
    "                                     expansion_steps = 200,\n",
    "                                     t3n_dict = {'Site(0,0)': 'Site(1,0)',\n",
    "                                                'Site(0,1)': 'Site(1,1)',\n",
    "                                                'Site(0,2)': 'Site(0,3)',\n",
    "                                                'Site(2,0)': 'Site(2,1)',\n",
    "                                                'Site(3,2)': 'Site(3,3)',\n",
    "                                                'Node(0,0)': 'Node(1,0)',\n",
    "                                                'Node(0,1)': 'Node(1,1)',\n",
    "                                                'Node(0,2)': 'Node(0,3)',\n",
    "                                                'Node(2,0)': 'Node(2,1)',\n",
    "                                                'Node(3,2)': 'Node(3,3)'},\n",
    "\n",
    "                                     Lanczos_threshold = np.inf,\n",
    "                                     k_fraction = 0.2, \n",
    "                                     validity_fraction = 1, \n",
    "                                     increase_fraction = 0.3,\n",
    "                                     max_iter = 1, \n",
    "\n",
    "                                     initial_tol= 1e-16,\n",
    "                                     tol_step= 50,\n",
    "                                     rel_tot_bond = 30,\n",
    "                                     max_bond= 220,\n",
    "                                     norm_tol = 0,\n",
    "                                     KrylovBasisMode = ptn.KrylovBasisMode.apply_1st_order_expansion,\n",
    "                                     config = ptn.TTNTimeEvolutionConfig(record_bond_dim=True,\n",
    "                                                                         Lindblad = True,\n",
    "                                                                         T3NS= False) )"
   ]
  },
  {
   "cell_type": "code",
   "execution_count": 52,
   "metadata": {},
   "outputs": [
    {
     "ename": "NameError",
     "evalue": "name 'stop' is not defined",
     "output_type": "error",
     "traceback": [
      "\u001b[1;31m---------------------------------------------------------------------------\u001b[0m",
      "\u001b[1;31mNameError\u001b[0m                                 Traceback (most recent call last)",
      "Cell \u001b[1;32mIn[52], line 1\u001b[0m\n\u001b[1;32m----> 1\u001b[0m \u001b[43mstop\u001b[49m\n",
      "\u001b[1;31mNameError\u001b[0m: name 'stop' is not defined"
     ]
    }
   ],
   "source": [
    "stop"
   ]
  },
  {
   "cell_type": "code",
   "execution_count": 13,
   "metadata": {},
   "outputs": [
    {
     "name": "stderr",
     "output_type": "stream",
     "text": [
      "  0%|          | 0/401 [00:00<?, ?it/s]"
     ]
    },
    {
     "name": "stdout",
     "output_type": "stream",
     "text": [
      "M : (1+0j)\n"
     ]
    },
    {
     "name": "stderr",
     "output_type": "stream",
     "text": [
      "  0%|          | 2/401 [00:00<01:47,  3.72it/s]"
     ]
    },
    {
     "name": "stdout",
     "output_type": "stream",
     "text": [
      "M : (0.999205706965002+4.5208694136391123e-10j)\n"
     ]
    },
    {
     "name": "stderr",
     "output_type": "stream",
     "text": [
      "  1%|          | 4/401 [00:01<01:47,  3.71it/s]"
     ]
    },
    {
     "name": "stdout",
     "output_type": "stream",
     "text": [
      "M : (0.996835341821961+3.560869996177126e-09j)\n"
     ]
    },
    {
     "name": "stderr",
     "output_type": "stream",
     "text": [
      "  1%|▏         | 6/401 [00:01<01:37,  4.05it/s]"
     ]
    },
    {
     "name": "stdout",
     "output_type": "stream",
     "text": [
      "M : (0.9928796306346376+1.1816598284519383e-08j)\n"
     ]
    },
    {
     "name": "stderr",
     "output_type": "stream",
     "text": [
      "  2%|▏         | 8/401 [00:02<01:54,  3.44it/s]"
     ]
    },
    {
     "name": "stdout",
     "output_type": "stream",
     "text": [
      "M : (0.9872937195579662+2.750486942623821e-08j)\n"
     ]
    },
    {
     "name": "stderr",
     "output_type": "stream",
     "text": [
      "  2%|▏         | 10/401 [00:02<02:05,  3.11it/s]"
     ]
    },
    {
     "name": "stdout",
     "output_type": "stream",
     "text": [
      "M : (0.9799994718582475+5.268738991142694e-08j)\n"
     ]
    },
    {
     "name": "stderr",
     "output_type": "stream",
     "text": [
      "  3%|▎         | 12/401 [00:03<02:02,  3.17it/s]"
     ]
    },
    {
     "name": "stdout",
     "output_type": "stream",
     "text": [
      "M : (0.9708878535720177+8.919030192157795e-08j)\n"
     ]
    },
    {
     "name": "stderr",
     "output_type": "stream",
     "text": [
      "  4%|▎         | 15/401 [00:04<01:50,  3.48it/s]"
     ]
    },
    {
     "name": "stdout",
     "output_type": "stream",
     "text": [
      "M : (0.9598214990674306+1.3860163205425034e-07j)\n",
      "SVD MAX : 1\n",
      "tol : 1e-16\n"
     ]
    },
    {
     "name": "stderr",
     "output_type": "stream",
     "text": [
      "  4%|▍         | 17/401 [00:05<02:18,  2.76it/s]"
     ]
    },
    {
     "name": "stdout",
     "output_type": "stream",
     "text": [
      "31 31\n",
      "4\n",
      "expanded_dim T3NS: 0\n",
      "T3NS: 41 ---> 41\n",
      "expanded_dim TTN: 0\n",
      "TTN: 31 ---> 31\n",
      "M : (0.9466375762493747+2.0228021764630057e-07j)\n"
     ]
    },
    {
     "name": "stderr",
     "output_type": "stream",
     "text": [
      "  5%|▍         | 19/401 [00:05<01:51,  3.42it/s]"
     ]
    },
    {
     "name": "stdout",
     "output_type": "stream",
     "text": [
      "M : (0.9311510923719887+2.8137918722153163e-07j)\n"
     ]
    },
    {
     "name": "stderr",
     "output_type": "stream",
     "text": [
      "  5%|▍         | 20/401 [00:06<01:53,  3.36it/s]"
     ]
    },
    {
     "name": "stdout",
     "output_type": "stream",
     "text": [
      "M : (0.9131587944268837+3.768875850453162e-07j)\n"
     ]
    },
    {
     "name": "stderr",
     "output_type": "stream",
     "text": [
      "  5%|▌         | 22/401 [00:06<01:55,  3.29it/s]"
     ]
    },
    {
     "name": "stdout",
     "output_type": "stream",
     "text": [
      "M : (0.8924438210187035+4.896938735760028e-07j)\n"
     ]
    },
    {
     "name": "stderr",
     "output_type": "stream",
     "text": [
      "  6%|▌         | 25/401 [00:07<01:49,  3.42it/s]"
     ]
    },
    {
     "name": "stdout",
     "output_type": "stream",
     "text": [
      "M : (0.8687812529416926+6.206746372843764e-07j)\n"
     ]
    },
    {
     "name": "stderr",
     "output_type": "stream",
     "text": [
      "  6%|▋         | 26/401 [00:07<01:57,  3.19it/s]"
     ]
    },
    {
     "name": "stdout",
     "output_type": "stream",
     "text": [
      "M : (0.8419446843074849+7.708106697733564e-07j)\n"
     ]
    },
    {
     "name": "stderr",
     "output_type": "stream",
     "text": [
      "  7%|▋         | 29/401 [00:08<01:49,  3.41it/s]"
     ]
    },
    {
     "name": "stdout",
     "output_type": "stream",
     "text": [
      "M : (0.8117138920525973+9.413306156580663e-07j)\n"
     ]
    },
    {
     "name": "stderr",
     "output_type": "stream",
     "text": [
      "  7%|▋         | 30/401 [00:09<01:47,  3.44it/s]"
     ]
    },
    {
     "name": "stdout",
     "output_type": "stream",
     "text": [
      "M : (0.7778836166948533+1.1338793629146604e-06j)\n"
     ]
    },
    {
     "name": "stderr",
     "output_type": "stream",
     "text": [
      "  8%|▊         | 31/401 [00:09<01:50,  3.33it/s]"
     ]
    },
    {
     "name": "stdout",
     "output_type": "stream",
     "text": [
      "SVD MAX : 1\n",
      "tol : 9.999999999999999e-18\n"
     ]
    },
    {
     "name": "stderr",
     "output_type": "stream",
     "text": [
      "  8%|▊         | 32/401 [00:10<03:08,  1.96it/s]"
     ]
    },
    {
     "name": "stdout",
     "output_type": "stream",
     "text": [
      "expanded_dim T3NS: 30\n",
      "T3NS: 41 ---> 71\n",
      "expanded_dim TTN: 24\n",
      "TTN: 31 ---> 55\n",
      "M : (0.7402733806164815+1.350704409231321e-06j)\n"
     ]
    },
    {
     "name": "stderr",
     "output_type": "stream",
     "text": [
      "  8%|▊         | 34/401 [00:10<02:16,  2.69it/s]"
     ]
    },
    {
     "name": "stdout",
     "output_type": "stream",
     "text": [
      "M : (0.6982637660128659+2.5604872301972968e-05j)\n"
     ]
    },
    {
     "name": "stderr",
     "output_type": "stream",
     "text": [
      "  9%|▉         | 37/401 [00:11<01:47,  3.39it/s]"
     ]
    },
    {
     "name": "stdout",
     "output_type": "stream",
     "text": [
      "M : (0.6516537731915486+0.00010186788776276129j)\n"
     ]
    },
    {
     "name": "stderr",
     "output_type": "stream",
     "text": [
      "  9%|▉         | 38/401 [00:11<01:47,  3.37it/s]"
     ]
    },
    {
     "name": "stdout",
     "output_type": "stream",
     "text": [
      "M : (0.6010005451494815+0.00022911644703806774j)\n"
     ]
    },
    {
     "name": "stderr",
     "output_type": "stream",
     "text": [
      " 10%|█         | 41/401 [00:12<01:28,  4.04it/s]"
     ]
    },
    {
     "name": "stdout",
     "output_type": "stream",
     "text": [
      "M : (0.5468795105648742+0.0004024567353484454j)\n"
     ]
    },
    {
     "name": "stderr",
     "output_type": "stream",
     "text": [
      " 10%|█         | 42/401 [00:12<01:31,  3.91it/s]"
     ]
    },
    {
     "name": "stdout",
     "output_type": "stream",
     "text": [
      "M : (0.4898192614152912+0.000621695246482503j)\n"
     ]
    },
    {
     "name": "stderr",
     "output_type": "stream",
     "text": [
      " 11%|█         | 44/401 [00:13<01:31,  3.91it/s]"
     ]
    },
    {
     "name": "stdout",
     "output_type": "stream",
     "text": [
      "M : (0.4302776059708654+0.0008973804437885064j)\n"
     ]
    },
    {
     "name": "stderr",
     "output_type": "stream",
     "text": [
      " 11%|█▏        | 46/401 [00:14<01:36,  3.69it/s]"
     ]
    },
    {
     "name": "stdout",
     "output_type": "stream",
     "text": [
      "M : (0.3686486831157245+0.0012499878893278925j)\n"
     ]
    },
    {
     "name": "stderr",
     "output_type": "stream",
     "text": [
      " 12%|█▏        | 47/401 [00:14<01:45,  3.35it/s]"
     ]
    },
    {
     "name": "stdout",
     "output_type": "stream",
     "text": [
      "SVD MAX : 4\n",
      "tol : 9.999999999999999e-18\n"
     ]
    },
    {
     "name": "stderr",
     "output_type": "stream",
     "text": [
      " 12%|█▏        | 48/401 [00:16<04:24,  1.34it/s]"
     ]
    },
    {
     "name": "stdout",
     "output_type": "stream",
     "text": [
      "expanded_dim T3NS: 15\n",
      "T3NS: 75 ---> 90\n",
      "expanded_dim TTN: 10\n",
      "TTN: 55 ---> 65\n",
      "M : (0.3052837735723746+0.0017033666479184188j)\n"
     ]
    },
    {
     "name": "stderr",
     "output_type": "stream",
     "text": [
      " 12%|█▏        | 50/401 [00:16<03:12,  1.82it/s]"
     ]
    },
    {
     "name": "stdout",
     "output_type": "stream",
     "text": [
      "M : (0.2406022413125211+0.0023233462394456777j)\n"
     ]
    },
    {
     "name": "stderr",
     "output_type": "stream",
     "text": [
      " 13%|█▎        | 52/401 [00:17<02:28,  2.35it/s]"
     ]
    },
    {
     "name": "stdout",
     "output_type": "stream",
     "text": [
      "M : (0.17514888121779998+0.002975703126577175j)\n"
     ]
    },
    {
     "name": "stderr",
     "output_type": "stream",
     "text": [
      " 13%|█▎        | 54/401 [00:18<02:17,  2.53it/s]"
     ]
    },
    {
     "name": "stdout",
     "output_type": "stream",
     "text": [
      "M : (0.1094083074902262+0.003642505617561132j)\n"
     ]
    },
    {
     "name": "stderr",
     "output_type": "stream",
     "text": [
      " 14%|█▍        | 56/401 [00:18<02:10,  2.65it/s]"
     ]
    },
    {
     "name": "stdout",
     "output_type": "stream",
     "text": [
      "M : (0.04385504700624226+0.004290710789155226j)\n"
     ]
    },
    {
     "name": "stderr",
     "output_type": "stream",
     "text": [
      " 14%|█▍        | 58/401 [00:19<01:50,  3.11it/s]"
     ]
    },
    {
     "name": "stdout",
     "output_type": "stream",
     "text": [
      "M : (-0.021032009852483824+0.004881983771197736j)\n"
     ]
    },
    {
     "name": "stderr",
     "output_type": "stream",
     "text": [
      " 15%|█▍        | 60/401 [00:20<01:59,  2.86it/s]"
     ]
    },
    {
     "name": "stdout",
     "output_type": "stream",
     "text": [
      "M : (-0.08476068318524448+0.005378205409529843j)\n"
     ]
    },
    {
     "name": "stderr",
     "output_type": "stream",
     "text": [
      " 15%|█▌        | 62/401 [00:20<01:54,  2.97it/s]"
     ]
    },
    {
     "name": "stdout",
     "output_type": "stream",
     "text": [
      "M : (-0.1468191857951979+0.00574637891381862j)\n"
     ]
    },
    {
     "name": "stderr",
     "output_type": "stream",
     "text": [
      " 16%|█▌        | 63/401 [00:21<01:59,  2.84it/s]"
     ]
    },
    {
     "name": "stdout",
     "output_type": "stream",
     "text": [
      "SVD MAX : 6\n",
      "tol : 9.999999999999999e-18\n"
     ]
    },
    {
     "name": "stderr",
     "output_type": "stream",
     "text": [
      " 16%|█▌        | 64/401 [00:23<05:27,  1.03it/s]"
     ]
    },
    {
     "name": "stdout",
     "output_type": "stream",
     "text": [
      "expanded_dim T3NS: 9\n",
      "T3NS: 91 ---> 100\n",
      "expanded_dim TTN: 6\n",
      "TTN: 65 ---> 71\n",
      "M : (-0.20667299556120836+0.005962142027301731j)\n"
     ]
    },
    {
     "name": "stderr",
     "output_type": "stream",
     "text": [
      " 16%|█▋        | 66/401 [00:24<03:28,  1.60it/s]"
     ]
    },
    {
     "name": "stdout",
     "output_type": "stream",
     "text": [
      "M : (-0.2632288457804132+0.005868669857385395j)\n"
     ]
    },
    {
     "name": "stderr",
     "output_type": "stream",
     "text": [
      " 17%|█▋        | 68/401 [00:25<02:40,  2.07it/s]"
     ]
    },
    {
     "name": "stdout",
     "output_type": "stream",
     "text": [
      "M : (-0.31617888953791506+0.005489434894421189j)\n"
     ]
    },
    {
     "name": "stderr",
     "output_type": "stream",
     "text": [
      " 17%|█▋        | 70/401 [00:25<02:13,  2.49it/s]"
     ]
    },
    {
     "name": "stdout",
     "output_type": "stream",
     "text": [
      "M : (-0.3650108931645015+0.0048460526651634295j)\n"
     ]
    },
    {
     "name": "stderr",
     "output_type": "stream",
     "text": [
      " 18%|█▊        | 72/401 [00:26<01:59,  2.76it/s]"
     ]
    },
    {
     "name": "stdout",
     "output_type": "stream",
     "text": [
      "M : (-0.40920901144746563+0.003979471663271328j)\n"
     ]
    },
    {
     "name": "stderr",
     "output_type": "stream",
     "text": [
      " 18%|█▊        | 74/401 [00:27<01:58,  2.77it/s]"
     ]
    },
    {
     "name": "stdout",
     "output_type": "stream",
     "text": [
      "M : (-0.44828375506825224+0.0029448197493832247j)\n"
     ]
    },
    {
     "name": "stderr",
     "output_type": "stream",
     "text": [
      " 19%|█▉        | 76/401 [00:27<01:46,  3.05it/s]"
     ]
    },
    {
     "name": "stdout",
     "output_type": "stream",
     "text": [
      "M : (-0.4817876176973782+0.0018014996452970038j)\n"
     ]
    },
    {
     "name": "stderr",
     "output_type": "stream",
     "text": [
      " 19%|█▉        | 78/401 [00:28<01:50,  2.91it/s]"
     ]
    },
    {
     "name": "stdout",
     "output_type": "stream",
     "text": [
      "M : (-0.5093369651114914+0.0005997163317672719j)\n"
     ]
    },
    {
     "name": "stderr",
     "output_type": "stream",
     "text": [
      " 20%|█▉        | 79/401 [00:28<01:52,  2.87it/s]"
     ]
    },
    {
     "name": "stdout",
     "output_type": "stream",
     "text": [
      "SVD MAX : 6\n",
      "tol : 9.999999999999999e-18\n"
     ]
    },
    {
     "name": "stderr",
     "output_type": "stream",
     "text": [
      " 20%|█▉        | 80/401 [00:30<04:39,  1.15it/s]"
     ]
    },
    {
     "name": "stdout",
     "output_type": "stream",
     "text": [
      "expanded_dim T3NS: 11\n",
      "T3NS: 101 ---> 112\n",
      "expanded_dim TTN: 10\n",
      "TTN: 71 ---> 81\n",
      "M : (-0.5306410579476251-0.0006356465145400227j)\n"
     ]
    },
    {
     "name": "stderr",
     "output_type": "stream",
     "text": [
      " 20%|██        | 82/401 [00:31<03:04,  1.73it/s]"
     ]
    },
    {
     "name": "stdout",
     "output_type": "stream",
     "text": [
      "M : (-0.5452214956667969-0.0020190173303338958j)\n"
     ]
    },
    {
     "name": "stderr",
     "output_type": "stream",
     "text": [
      " 21%|██        | 84/401 [00:32<02:21,  2.24it/s]"
     ]
    },
    {
     "name": "stdout",
     "output_type": "stream",
     "text": [
      "M : (-0.5534435861688318-0.003579049407476994j)\n"
     ]
    },
    {
     "name": "stderr",
     "output_type": "stream",
     "text": [
      " 21%|██▏       | 86/401 [00:32<02:06,  2.49it/s]"
     ]
    },
    {
     "name": "stdout",
     "output_type": "stream",
     "text": [
      "M : (-0.5555821304190249-0.005484850522247803j)\n"
     ]
    },
    {
     "name": "stderr",
     "output_type": "stream",
     "text": [
      " 22%|██▏       | 88/401 [00:33<01:51,  2.80it/s]"
     ]
    },
    {
     "name": "stdout",
     "output_type": "stream",
     "text": [
      "M : (-0.5521226659529124-0.007960164169687233j)\n"
     ]
    },
    {
     "name": "stderr",
     "output_type": "stream",
     "text": [
      " 22%|██▏       | 90/401 [00:34<01:49,  2.84it/s]"
     ]
    },
    {
     "name": "stdout",
     "output_type": "stream",
     "text": [
      "M : (-0.5437575873402051-0.01125677592992993j)\n"
     ]
    },
    {
     "name": "stderr",
     "output_type": "stream",
     "text": [
      " 23%|██▎       | 92/401 [00:34<01:48,  2.86it/s]"
     ]
    },
    {
     "name": "stdout",
     "output_type": "stream",
     "text": [
      "M : (-0.5313418837956918-0.015610463721757515j)\n"
     ]
    },
    {
     "name": "stderr",
     "output_type": "stream",
     "text": [
      " 23%|██▎       | 94/401 [00:35<01:37,  3.14it/s]"
     ]
    },
    {
     "name": "stdout",
     "output_type": "stream",
     "text": [
      "M : (-0.5158150882179156-0.021193760823555993j)\n"
     ]
    },
    {
     "name": "stderr",
     "output_type": "stream",
     "text": [
      " 24%|██▎       | 95/401 [00:35<01:35,  3.20it/s]"
     ]
    },
    {
     "name": "stdout",
     "output_type": "stream",
     "text": [
      "SVD MAX : 8\n",
      "tol : 9.999999999999999e-18\n"
     ]
    },
    {
     "name": "stderr",
     "output_type": "stream",
     "text": [
      " 24%|██▍       | 96/401 [00:39<06:21,  1.25s/it]"
     ]
    },
    {
     "name": "stdout",
     "output_type": "stream",
     "text": [
      "expanded_dim T3NS: 14\n",
      "T3NS: 120 ---> 134\n",
      "expanded_dim TTN: 13\n",
      "TTN: 81 ---> 94\n",
      "M : (-0.49810020860847487-0.028082774008971318j)\n"
     ]
    },
    {
     "name": "stderr",
     "output_type": "stream",
     "text": [
      " 24%|██▍       | 98/401 [00:39<04:08,  1.22it/s]"
     ]
    },
    {
     "name": "stdout",
     "output_type": "stream",
     "text": [
      "M : (-0.4770582165087175-0.03483195919879169j)\n"
     ]
    },
    {
     "name": "stderr",
     "output_type": "stream",
     "text": [
      " 25%|██▍       | 100/401 [00:40<03:04,  1.63it/s]"
     ]
    },
    {
     "name": "stdout",
     "output_type": "stream",
     "text": [
      "M : (-0.45445077514504884-0.04210127620416051j)\n"
     ]
    },
    {
     "name": "stderr",
     "output_type": "stream",
     "text": [
      " 25%|██▌       | 102/401 [00:41<02:40,  1.86it/s]"
     ]
    },
    {
     "name": "stdout",
     "output_type": "stream",
     "text": [
      "M : (-0.4305562394194725-0.04975196531266416j)\n"
     ]
    },
    {
     "name": "stderr",
     "output_type": "stream",
     "text": [
      " 26%|██▌       | 104/401 [00:42<02:31,  1.96it/s]"
     ]
    },
    {
     "name": "stdout",
     "output_type": "stream",
     "text": [
      "M : (-0.40530810438197684-0.05742599089446446j)\n"
     ]
    },
    {
     "name": "stderr",
     "output_type": "stream",
     "text": [
      " 26%|██▋       | 106/401 [00:43<02:23,  2.05it/s]"
     ]
    },
    {
     "name": "stdout",
     "output_type": "stream",
     "text": [
      "M : (-0.3783753452875148-0.064748559062071j)\n"
     ]
    },
    {
     "name": "stderr",
     "output_type": "stream",
     "text": [
      " 27%|██▋       | 108/401 [00:44<02:14,  2.18it/s]"
     ]
    },
    {
     "name": "stdout",
     "output_type": "stream",
     "text": [
      "M : (-0.34921410897772-0.0713415259957413j)\n"
     ]
    },
    {
     "name": "stderr",
     "output_type": "stream",
     "text": [
      " 27%|██▋       | 110/401 [00:45<02:09,  2.24it/s]"
     ]
    },
    {
     "name": "stdout",
     "output_type": "stream",
     "text": [
      "M : (-0.3171658212958943-0.07680749126605543j)\n"
     ]
    },
    {
     "name": "stderr",
     "output_type": "stream",
     "text": [
      " 28%|██▊       | 111/401 [00:45<02:12,  2.18it/s]"
     ]
    },
    {
     "name": "stdout",
     "output_type": "stream",
     "text": [
      "SVD MAX : 8\n",
      "tol : 9.999999999999999e-18\n"
     ]
    },
    {
     "name": "stderr",
     "output_type": "stream",
     "text": [
      " 28%|██▊       | 112/401 [00:49<07:00,  1.46s/it]"
     ]
    },
    {
     "name": "stdout",
     "output_type": "stream",
     "text": [
      "expanded_dim T3NS: 34\n",
      "T3NS: 136 ---> 170\n",
      "expanded_dim TTN: 29\n",
      "TTN: 94 ---> 123\n",
      "M : (-0.2815998993885398-0.08070332286467083j)\n"
     ]
    },
    {
     "name": "stderr",
     "output_type": "stream",
     "text": [
      " 28%|██▊       | 114/401 [00:50<05:00,  1.05s/it]"
     ]
    },
    {
     "name": "stdout",
     "output_type": "stream",
     "text": [
      "M : (-0.2466067380724124-0.08543892547918702j)\n"
     ]
    },
    {
     "name": "stderr",
     "output_type": "stream",
     "text": [
      " 29%|██▉       | 116/401 [00:52<04:04,  1.17it/s]"
     ]
    },
    {
     "name": "stdout",
     "output_type": "stream",
     "text": [
      "M : (-0.2086652103401733-0.09012966571288047j)\n"
     ]
    },
    {
     "name": "stderr",
     "output_type": "stream",
     "text": [
      " 29%|██▉       | 118/401 [00:53<03:36,  1.31it/s]"
     ]
    },
    {
     "name": "stdout",
     "output_type": "stream",
     "text": [
      "M : (-0.16771295733983857-0.0946216628672886j)\n"
     ]
    },
    {
     "name": "stderr",
     "output_type": "stream",
     "text": [
      " 30%|██▉       | 120/401 [00:54<03:19,  1.41it/s]"
     ]
    },
    {
     "name": "stdout",
     "output_type": "stream",
     "text": [
      "M : (-0.12387065089981485-0.09877727932941742j)\n"
     ]
    },
    {
     "name": "stderr",
     "output_type": "stream",
     "text": [
      " 30%|███       | 122/401 [00:56<03:03,  1.52it/s]"
     ]
    },
    {
     "name": "stdout",
     "output_type": "stream",
     "text": [
      "M : (-0.0775025644586012-0.10235375629244964j)\n"
     ]
    },
    {
     "name": "stderr",
     "output_type": "stream",
     "text": [
      " 31%|███       | 124/401 [00:57<02:50,  1.62it/s]"
     ]
    },
    {
     "name": "stdout",
     "output_type": "stream",
     "text": [
      "M : (-0.029372631309462917-0.10499774600092854j)\n"
     ]
    },
    {
     "name": "stderr",
     "output_type": "stream",
     "text": [
      " 31%|███▏      | 126/401 [00:58<02:54,  1.58it/s]"
     ]
    },
    {
     "name": "stdout",
     "output_type": "stream",
     "text": [
      "M : (0.019222688159843057-0.1062915753212568j)\n"
     ]
    },
    {
     "name": "stderr",
     "output_type": "stream",
     "text": [
      " 32%|███▏      | 127/401 [00:59<02:49,  1.61it/s]"
     ]
    },
    {
     "name": "stdout",
     "output_type": "stream",
     "text": [
      "SVD MAX : 12\n",
      "tol : 9.999999999999999e-18\n",
      "expanded_dim_tot : 44\n",
      "1) tol 1e-16\n"
     ]
    },
    {
     "name": "stderr",
     "output_type": "stream",
     "text": [
      " 32%|███▏      | 128/401 [01:10<16:57,  3.73s/it]"
     ]
    },
    {
     "name": "stdout",
     "output_type": "stream",
     "text": [
      "2) expanded_dim : 2\n",
      "expanded_dim T3NS: 3\n",
      "T3NS: 175 ---> 178\n",
      "expanded_dim TTN: 2\n",
      "TTN: 123 ---> 125\n",
      "M : (0.0664694554053148-0.1058714144491381j)\n"
     ]
    },
    {
     "name": "stderr",
     "output_type": "stream",
     "text": [
      " 32%|███▏      | 130/401 [01:11<09:48,  2.17s/it]"
     ]
    },
    {
     "name": "stdout",
     "output_type": "stream",
     "text": [
      "M : (0.11023483370951823-0.10347170590138073j)\n"
     ]
    },
    {
     "name": "stderr",
     "output_type": "stream",
     "text": [
      " 33%|███▎      | 132/401 [01:12<06:14,  1.39s/it]"
     ]
    },
    {
     "name": "stdout",
     "output_type": "stream",
     "text": [
      "M : (0.14864472560159392-0.09921949725560636j)\n"
     ]
    },
    {
     "name": "stderr",
     "output_type": "stream",
     "text": [
      " 33%|███▎      | 134/401 [01:13<04:14,  1.05it/s]"
     ]
    },
    {
     "name": "stdout",
     "output_type": "stream",
     "text": [
      "M : (0.18028158005325534-0.09324167930282448j)\n"
     ]
    },
    {
     "name": "stderr",
     "output_type": "stream",
     "text": [
      " 34%|███▍      | 136/401 [01:14<03:14,  1.36it/s]"
     ]
    },
    {
     "name": "stdout",
     "output_type": "stream",
     "text": [
      "M : (0.2040780125291413-0.08561103177041308j)\n"
     ]
    },
    {
     "name": "stderr",
     "output_type": "stream",
     "text": [
      " 34%|███▍      | 138/401 [01:16<02:51,  1.54it/s]"
     ]
    },
    {
     "name": "stdout",
     "output_type": "stream",
     "text": [
      "M : (0.2191813714837896-0.0765666959261657j)\n"
     ]
    },
    {
     "name": "stderr",
     "output_type": "stream",
     "text": [
      " 35%|███▍      | 140/401 [01:17<02:29,  1.75it/s]"
     ]
    },
    {
     "name": "stdout",
     "output_type": "stream",
     "text": [
      "M : (0.22502840854005818-0.06669658291563207j)\n"
     ]
    },
    {
     "name": "stderr",
     "output_type": "stream",
     "text": [
      " 35%|███▌      | 142/401 [01:18<02:34,  1.68it/s]"
     ]
    },
    {
     "name": "stdout",
     "output_type": "stream",
     "text": [
      "M : (0.22162959577431068-0.056797990707188904j)\n"
     ]
    },
    {
     "name": "stderr",
     "output_type": "stream",
     "text": [
      " 36%|███▌      | 143/401 [01:18<02:32,  1.69it/s]"
     ]
    },
    {
     "name": "stdout",
     "output_type": "stream",
     "text": [
      "SVD MAX : 12\n",
      "tol : 1e-16\n"
     ]
    },
    {
     "name": "stderr",
     "output_type": "stream",
     "text": [
      " 36%|███▌      | 144/401 [01:25<10:35,  2.47s/it]"
     ]
    },
    {
     "name": "stdout",
     "output_type": "stream",
     "text": [
      "expanded_dim T3NS: -6\n",
      "T3NS: 185 ---> 179\n",
      "expanded_dim TTN: 2\n",
      "TTN: 125 ---> 127\n",
      "M : (0.20968823640780415-0.04750257501094432j)\n"
     ]
    },
    {
     "name": "stderr",
     "output_type": "stream",
     "text": [
      " 36%|███▋      | 146/401 [01:27<06:35,  1.55s/it]"
     ]
    },
    {
     "name": "stdout",
     "output_type": "stream",
     "text": [
      "M : (0.19050705024955197-0.039284008421592645j)\n"
     ]
    },
    {
     "name": "stderr",
     "output_type": "stream",
     "text": [
      " 37%|███▋      | 148/401 [01:27<04:12,  1.00it/s]"
     ]
    },
    {
     "name": "stdout",
     "output_type": "stream",
     "text": [
      "M : (0.1653228687264294-0.03178947887715061j)\n"
     ]
    },
    {
     "name": "stderr",
     "output_type": "stream",
     "text": [
      " 37%|███▋      | 150/401 [01:29<03:15,  1.28it/s]"
     ]
    },
    {
     "name": "stdout",
     "output_type": "stream",
     "text": [
      "M : (0.13536800345726016-0.02453152360234872j)\n"
     ]
    },
    {
     "name": "stderr",
     "output_type": "stream",
     "text": [
      " 38%|███▊      | 152/401 [01:30<02:36,  1.59it/s]"
     ]
    },
    {
     "name": "stdout",
     "output_type": "stream",
     "text": [
      "M : (0.10172283037041085-0.01707258396210597j)\n"
     ]
    },
    {
     "name": "stderr",
     "output_type": "stream",
     "text": [
      " 38%|███▊      | 154/401 [01:31<02:30,  1.64it/s]"
     ]
    },
    {
     "name": "stdout",
     "output_type": "stream",
     "text": [
      "M : (0.06542896960477194-0.009087304424961945j)\n"
     ]
    },
    {
     "name": "stderr",
     "output_type": "stream",
     "text": [
      " 39%|███▉      | 156/401 [01:32<02:29,  1.64it/s]"
     ]
    },
    {
     "name": "stdout",
     "output_type": "stream",
     "text": [
      "M : (0.027592795174226255-0.0004010727007096332j)\n"
     ]
    },
    {
     "name": "stderr",
     "output_type": "stream",
     "text": [
      " 39%|███▉      | 158/401 [01:33<02:18,  1.76it/s]"
     ]
    },
    {
     "name": "stdout",
     "output_type": "stream",
     "text": [
      "M : (-0.010563127776332146+0.008996989226234535j)\n"
     ]
    },
    {
     "name": "stderr",
     "output_type": "stream",
     "text": [
      " 40%|███▉      | 159/401 [01:34<02:17,  1.77it/s]"
     ]
    },
    {
     "name": "stdout",
     "output_type": "stream",
     "text": [
      "SVD MAX : 12\n",
      "tol : 1e-16\n"
     ]
    },
    {
     "name": "stderr",
     "output_type": "stream",
     "text": [
      " 40%|███▉      | 160/401 [01:40<08:52,  2.21s/it]"
     ]
    },
    {
     "name": "stdout",
     "output_type": "stream",
     "text": [
      "expanded_dim T3NS: 4\n",
      "T3NS: 181 ---> 185\n",
      "expanded_dim TTN: 4\n",
      "TTN: 127 ---> 131\n",
      "M : (-0.04771383232500971+0.01895395494741252j)\n"
     ]
    },
    {
     "name": "stderr",
     "output_type": "stream",
     "text": [
      " 40%|████      | 162/401 [01:41<05:40,  1.42s/it]"
     ]
    },
    {
     "name": "stdout",
     "output_type": "stream",
     "text": [
      "M : (-0.08255891152939984+0.029096484403104406j)\n"
     ]
    },
    {
     "name": "stderr",
     "output_type": "stream",
     "text": [
      " 41%|████      | 164/401 [01:42<04:04,  1.03s/it]"
     ]
    },
    {
     "name": "stdout",
     "output_type": "stream",
     "text": [
      "M : (-0.11366688431516456+0.03907547202385906j)\n"
     ]
    },
    {
     "name": "stderr",
     "output_type": "stream",
     "text": [
      " 41%|████▏     | 166/401 [01:44<03:22,  1.16it/s]"
     ]
    },
    {
     "name": "stdout",
     "output_type": "stream",
     "text": [
      "M : (-0.139670956917484+0.04841477032561985j)\n"
     ]
    },
    {
     "name": "stderr",
     "output_type": "stream",
     "text": [
      " 42%|████▏     | 168/401 [01:45<02:52,  1.35it/s]"
     ]
    },
    {
     "name": "stdout",
     "output_type": "stream",
     "text": [
      "M : (-0.15925258294779146+0.05664937304075414j)\n"
     ]
    },
    {
     "name": "stderr",
     "output_type": "stream",
     "text": [
      " 42%|████▏     | 170/401 [01:46<02:35,  1.48it/s]"
     ]
    },
    {
     "name": "stdout",
     "output_type": "stream",
     "text": [
      "M : (-0.17110610357211795+0.06337228810588734j)\n"
     ]
    },
    {
     "name": "stderr",
     "output_type": "stream",
     "text": [
      " 43%|████▎     | 172/401 [01:47<02:22,  1.61it/s]"
     ]
    },
    {
     "name": "stdout",
     "output_type": "stream",
     "text": [
      "M : (-0.17395374697839433+0.06827433400391038j)\n"
     ]
    },
    {
     "name": "stderr",
     "output_type": "stream",
     "text": [
      " 43%|████▎     | 174/401 [01:49<02:25,  1.56it/s]"
     ]
    },
    {
     "name": "stdout",
     "output_type": "stream",
     "text": [
      "M : (-0.16663519127880286+0.07119449721638016j)\n"
     ]
    },
    {
     "name": "stderr",
     "output_type": "stream",
     "text": [
      " 44%|████▎     | 175/401 [01:49<02:30,  1.50it/s]"
     ]
    },
    {
     "name": "stdout",
     "output_type": "stream",
     "text": [
      "SVD MAX : 12\n",
      "tol : 1e-16\n"
     ]
    },
    {
     "name": "stderr",
     "output_type": "stream",
     "text": [
      " 44%|████▍     | 176/401 [01:54<07:18,  1.95s/it]"
     ]
    },
    {
     "name": "stdout",
     "output_type": "stream",
     "text": [
      "expanded_dim T3NS: 4\n",
      "T3NS: 185 ---> 189\n",
      "expanded_dim TTN: 4\n",
      "TTN: 131 ---> 135\n",
      "M : (-0.14829812086493468+0.07220875389647968j)\n"
     ]
    },
    {
     "name": "stderr",
     "output_type": "stream",
     "text": [
      " 44%|████▍     | 178/401 [01:55<04:04,  1.10s/it]"
     ]
    },
    {
     "name": "stdout",
     "output_type": "stream",
     "text": [
      "M : (-0.11876527061150881+0.07191746154375882j)\n"
     ]
    },
    {
     "name": "stderr",
     "output_type": "stream",
     "text": [
      " 45%|████▍     | 180/401 [01:56<02:29,  1.48it/s]"
     ]
    },
    {
     "name": "stdout",
     "output_type": "stream",
     "text": [
      "M : (-0.07906046442191464+0.07119509226394033j)\n"
     ]
    },
    {
     "name": "stderr",
     "output_type": "stream",
     "text": [
      " 45%|████▌     | 182/401 [01:56<01:42,  2.13it/s]"
     ]
    },
    {
     "name": "stdout",
     "output_type": "stream",
     "text": [
      "M : (-0.031957390737275444+0.07180370983058322j)\n"
     ]
    },
    {
     "name": "stderr",
     "output_type": "stream",
     "text": [
      " 46%|████▌     | 184/401 [01:57<01:20,  2.71it/s]"
     ]
    },
    {
     "name": "stdout",
     "output_type": "stream",
     "text": [
      "M : (0.017427640783011976+0.07604966682238613j)\n"
     ]
    },
    {
     "name": "stderr",
     "output_type": "stream",
     "text": [
      " 46%|████▋     | 186/401 [01:57<01:09,  3.11it/s]"
     ]
    },
    {
     "name": "stdout",
     "output_type": "stream",
     "text": [
      "M : (0.061752588772933666+0.08604203872851403j)\n"
     ]
    },
    {
     "name": "stderr",
     "output_type": "stream",
     "text": [
      " 47%|████▋     | 188/401 [01:58<01:02,  3.42it/s]"
     ]
    },
    {
     "name": "stdout",
     "output_type": "stream",
     "text": [
      "M : (0.09286212031385808+0.10237490216407168j)\n"
     ]
    },
    {
     "name": "stderr",
     "output_type": "stream",
     "text": [
      " 47%|████▋     | 190/401 [01:58<00:58,  3.63it/s]"
     ]
    },
    {
     "name": "stdout",
     "output_type": "stream",
     "text": [
      "M : (0.10448834575651389+0.12314752278065208j)\n"
     ]
    },
    {
     "name": "stderr",
     "output_type": "stream",
     "text": [
      " 48%|████▊     | 191/401 [01:59<01:00,  3.48it/s]"
     ]
    },
    {
     "name": "stdout",
     "output_type": "stream",
     "text": [
      "SVD MAX : 12\n",
      "tol : 1e-16\n"
     ]
    },
    {
     "name": "stderr",
     "output_type": "stream",
     "text": [
      " 48%|████▊     | 192/401 [02:02<04:20,  1.25s/it]"
     ]
    },
    {
     "name": "stdout",
     "output_type": "stream",
     "text": [
      "expanded_dim T3NS: 18\n",
      "T3NS: 192 ---> 210\n",
      "expanded_dim TTN: 16\n",
      "TTN: 135 ---> 151\n",
      "M : (0.09490056099509714+0.1445080797339079j)\n"
     ]
    },
    {
     "name": "stderr",
     "output_type": "stream",
     "text": [
      " 48%|████▊     | 194/401 [02:03<02:47,  1.24it/s]"
     ]
    },
    {
     "name": "stdout",
     "output_type": "stream",
     "text": [
      "M : (0.06716081067419839+0.16156432759545494j)\n"
     ]
    },
    {
     "name": "stderr",
     "output_type": "stream",
     "text": [
      " 49%|████▉     | 196/401 [02:04<02:00,  1.70it/s]"
     ]
    },
    {
     "name": "stdout",
     "output_type": "stream",
     "text": [
      "M : (0.028865658444543075+0.1727827507639287j)\n"
     ]
    },
    {
     "name": "stderr",
     "output_type": "stream",
     "text": [
      " 49%|████▉     | 198/401 [02:04<01:37,  2.08it/s]"
     ]
    },
    {
     "name": "stdout",
     "output_type": "stream",
     "text": [
      "M : (-0.01227512315762807+0.17858875215740808j)\n"
     ]
    },
    {
     "name": "stderr",
     "output_type": "stream",
     "text": [
      " 50%|████▉     | 200/401 [02:05<01:29,  2.25it/s]"
     ]
    },
    {
     "name": "stdout",
     "output_type": "stream",
     "text": [
      "M : (-0.04993323269521267+0.18039643271438413j)\n"
     ]
    },
    {
     "name": "stderr",
     "output_type": "stream",
     "text": [
      " 50%|█████     | 202/401 [02:06<01:21,  2.44it/s]"
     ]
    },
    {
     "name": "stdout",
     "output_type": "stream",
     "text": [
      "M : (-0.0794051317299942+0.17998557978350502j)\n"
     ]
    },
    {
     "name": "stderr",
     "output_type": "stream",
     "text": [
      " 51%|█████     | 204/401 [02:07<01:18,  2.52it/s]"
     ]
    },
    {
     "name": "stdout",
     "output_type": "stream",
     "text": [
      "M : (-0.09757996624812011+0.17909962920395947j)\n"
     ]
    },
    {
     "name": "stderr",
     "output_type": "stream",
     "text": [
      " 51%|█████▏    | 206/401 [02:07<01:15,  2.59it/s]"
     ]
    },
    {
     "name": "stdout",
     "output_type": "stream",
     "text": [
      "M : (-0.10305731645522498+0.1793492980956315j)\n"
     ]
    },
    {
     "name": "stderr",
     "output_type": "stream",
     "text": [
      " 52%|█████▏    | 207/401 [02:08<01:17,  2.51it/s]"
     ]
    },
    {
     "name": "stdout",
     "output_type": "stream",
     "text": [
      "SVD MAX : 16\n",
      "tol : 1e-16\n"
     ]
    },
    {
     "name": "stderr",
     "output_type": "stream",
     "text": [
      " 52%|█████▏    | 208/401 [02:14<06:57,  2.16s/it]"
     ]
    },
    {
     "name": "stdout",
     "output_type": "stream",
     "text": [
      "expanded_dim T3NS: 21\n",
      "T3NS: 227 ---> 248\n",
      "expanded_dim TTN: 19\n",
      "TTN: 151 ---> 170\n",
      "M : (-0.09672008590881245+0.18220927787133162j)\n"
     ]
    },
    {
     "name": "stderr",
     "output_type": "stream",
     "text": [
      " 52%|█████▏    | 210/401 [02:15<04:15,  1.34s/it]"
     ]
    },
    {
     "name": "stdout",
     "output_type": "stream",
     "text": [
      "M : (-0.08316566819076264+0.1885810005616984j)\n"
     ]
    },
    {
     "name": "stderr",
     "output_type": "stream",
     "text": [
      " 53%|█████▎    | 212/401 [02:16<02:54,  1.08it/s]"
     ]
    },
    {
     "name": "stdout",
     "output_type": "stream",
     "text": [
      "M : (-0.0693148970794033+0.19878063152100078j)\n"
     ]
    },
    {
     "name": "stderr",
     "output_type": "stream",
     "text": [
      " 53%|█████▎    | 214/401 [02:17<02:11,  1.42it/s]"
     ]
    },
    {
     "name": "stdout",
     "output_type": "stream",
     "text": [
      "M : (-0.06384206449082128+0.21012981185689258j)\n"
     ]
    },
    {
     "name": "stderr",
     "output_type": "stream",
     "text": [
      " 54%|█████▍    | 216/401 [02:18<01:54,  1.62it/s]"
     ]
    },
    {
     "name": "stdout",
     "output_type": "stream",
     "text": [
      "M : (-0.0733796034672775+0.2179658341112055j)\n"
     ]
    },
    {
     "name": "stderr",
     "output_type": "stream",
     "text": [
      " 54%|█████▍    | 218/401 [02:19<01:41,  1.81it/s]"
     ]
    },
    {
     "name": "stdout",
     "output_type": "stream",
     "text": [
      "M : (-0.0995718287407691+0.21802275521700204j)\n"
     ]
    },
    {
     "name": "stderr",
     "output_type": "stream",
     "text": [
      " 55%|█████▍    | 220/401 [02:20<01:36,  1.87it/s]"
     ]
    },
    {
     "name": "stdout",
     "output_type": "stream",
     "text": [
      "M : (-0.1391629334630995+0.20890857457888326j)\n"
     ]
    },
    {
     "name": "stderr",
     "output_type": "stream",
     "text": [
      " 55%|█████▌    | 222/401 [02:21<01:37,  1.84it/s]"
     ]
    },
    {
     "name": "stdout",
     "output_type": "stream",
     "text": [
      "M : (-0.1863268302109133+0.19243929203435897j)\n"
     ]
    },
    {
     "name": "stderr",
     "output_type": "stream",
     "text": [
      " 56%|█████▌    | 223/401 [02:22<01:38,  1.81it/s]"
     ]
    },
    {
     "name": "stdout",
     "output_type": "stream",
     "text": [
      "SVD MAX : 18\n",
      "tol : 1e-16\n"
     ]
    },
    {
     "name": "stderr",
     "output_type": "stream",
     "text": [
      " 56%|█████▌    | 224/401 [02:30<08:13,  2.79s/it]"
     ]
    },
    {
     "name": "stdout",
     "output_type": "stream",
     "text": [
      "expanded_dim T3NS: 13\n",
      "T3NS: 264 ---> 277\n",
      "expanded_dim TTN: 18\n",
      "TTN: 170 ---> 188\n",
      "M : (-0.23494514269358083+0.172238111622513j)\n"
     ]
    },
    {
     "name": "stderr",
     "output_type": "stream",
     "text": [
      " 56%|█████▋    | 226/401 [02:31<05:04,  1.74s/it]"
     ]
    },
    {
     "name": "stdout",
     "output_type": "stream",
     "text": [
      "M : (-0.2791135574401639+0.15224479735460728j)\n"
     ]
    },
    {
     "name": "stderr",
     "output_type": "stream",
     "text": [
      " 57%|█████▋    | 228/401 [02:33<03:31,  1.22s/it]"
     ]
    },
    {
     "name": "stdout",
     "output_type": "stream",
     "text": [
      "M : (-0.31557022463362816+0.13641971960781973j)\n"
     ]
    },
    {
     "name": "stderr",
     "output_type": "stream",
     "text": [
      " 57%|█████▋    | 230/401 [02:34<02:44,  1.04it/s]"
     ]
    },
    {
     "name": "stdout",
     "output_type": "stream",
     "text": [
      "M : (-0.3426717297289355+0.1280399116300845j)\n"
     ]
    },
    {
     "name": "stderr",
     "output_type": "stream",
     "text": [
      " 58%|█████▊    | 232/401 [02:36<02:21,  1.20it/s]"
     ]
    },
    {
     "name": "stdout",
     "output_type": "stream",
     "text": [
      "M : (-0.3607382999241538+0.1294787176213953j)\n"
     ]
    },
    {
     "name": "stderr",
     "output_type": "stream",
     "text": [
      " 58%|█████▊    | 234/401 [02:37<02:06,  1.32it/s]"
     ]
    },
    {
     "name": "stdout",
     "output_type": "stream",
     "text": [
      "M : (-0.37201932860723136+0.14144460563388694j)\n"
     ]
    },
    {
     "name": "stderr",
     "output_type": "stream",
     "text": [
      " 59%|█████▉    | 236/401 [02:39<01:59,  1.39it/s]"
     ]
    },
    {
     "name": "stdout",
     "output_type": "stream",
     "text": [
      "M : (-0.3798996935802138+0.16219346068107257j)\n"
     ]
    },
    {
     "name": "stderr",
     "output_type": "stream",
     "text": [
      " 59%|█████▉    | 238/401 [02:40<01:54,  1.42it/s]"
     ]
    },
    {
     "name": "stdout",
     "output_type": "stream",
     "text": [
      "M : (-0.38760502364528904+0.18750334925942683j)\n"
     ]
    },
    {
     "name": "stderr",
     "output_type": "stream",
     "text": [
      " 60%|█████▉    | 239/401 [02:41<01:52,  1.44it/s]"
     ]
    },
    {
     "name": "stdout",
     "output_type": "stream",
     "text": [
      "SVD MAX : 22\n",
      "tol : 1e-16\n"
     ]
    },
    {
     "name": "stderr",
     "output_type": "stream",
     "text": [
      " 60%|█████▉    | 240/401 [02:53<10:55,  4.07s/it]"
     ]
    },
    {
     "name": "stdout",
     "output_type": "stream",
     "text": [
      "expanded_dim T3NS: 3\n",
      "T3NS: 294 ---> 297\n",
      "expanded_dim TTN: 13\n",
      "TTN: 188 ---> 201\n",
      "M : (-0.3972080697603978+0.2118267220202787j)\n"
     ]
    },
    {
     "name": "stderr",
     "output_type": "stream",
     "text": [
      " 60%|██████    | 242/401 [02:54<06:32,  2.47s/it]"
     ]
    },
    {
     "name": "stdout",
     "output_type": "stream",
     "text": [
      "M : (-0.4093443170970967+0.2294814157593571j)\n"
     ]
    },
    {
     "name": "stderr",
     "output_type": "stream",
     "text": [
      " 61%|██████    | 244/401 [02:56<04:24,  1.69s/it]"
     ]
    },
    {
     "name": "stdout",
     "output_type": "stream",
     "text": [
      "M : (-0.4243924452848979+0.23760038836039887j)\n"
     ]
    },
    {
     "name": "stderr",
     "output_type": "stream",
     "text": [
      " 61%|██████▏   | 246/401 [02:58<03:24,  1.32s/it]"
     ]
    },
    {
     "name": "stdout",
     "output_type": "stream",
     "text": [
      "M : (-0.442756282127332+0.23555153381653451j)\n"
     ]
    },
    {
     "name": "stderr",
     "output_type": "stream",
     "text": [
      " 62%|██████▏   | 248/401 [03:00<02:44,  1.08s/it]"
     ]
    },
    {
     "name": "stdout",
     "output_type": "stream",
     "text": [
      "M : (-0.4645898410920608+0.22469676693540508j)\n"
     ]
    },
    {
     "name": "stderr",
     "output_type": "stream",
     "text": [
      " 62%|██████▏   | 250/401 [03:02<02:26,  1.03it/s]"
     ]
    },
    {
     "name": "stdout",
     "output_type": "stream",
     "text": [
      "M : (-0.4895714417067609+0.20769658027128796j)\n"
     ]
    },
    {
     "name": "stderr",
     "output_type": "stream",
     "text": [
      " 63%|██████▎   | 252/401 [03:03<02:15,  1.10it/s]"
     ]
    },
    {
     "name": "stdout",
     "output_type": "stream",
     "text": [
      "M : (-0.5167072072697421+0.1876043992787401j)\n"
     ]
    },
    {
     "name": "stderr",
     "output_type": "stream",
     "text": [
      " 63%|██████▎   | 254/401 [03:05<02:07,  1.15it/s]"
     ]
    },
    {
     "name": "stdout",
     "output_type": "stream",
     "text": [
      "M : (-0.5444548091250926+0.16720340546338086j)\n"
     ]
    },
    {
     "name": "stderr",
     "output_type": "stream",
     "text": [
      " 64%|██████▎   | 255/401 [03:06<02:07,  1.14it/s]"
     ]
    },
    {
     "name": "stdout",
     "output_type": "stream",
     "text": [
      "SVD MAX : 24\n",
      "tol : 1e-16\n"
     ]
    },
    {
     "name": "stderr",
     "output_type": "stream",
     "text": [
      " 64%|██████▍   | 256/401 [03:20<11:58,  4.96s/it]"
     ]
    },
    {
     "name": "stdout",
     "output_type": "stream",
     "text": [
      "expanded_dim T3NS: 0\n",
      "T3NS: 315 ---> 315\n",
      "expanded_dim TTN: 9\n",
      "TTN: 201 ---> 210\n",
      "M : (-0.5710651691506808+0.1487288818778179j)\n"
     ]
    },
    {
     "name": "stderr",
     "output_type": "stream",
     "text": [
      " 64%|██████▍   | 258/401 [03:23<07:15,  3.05s/it]"
     ]
    },
    {
     "name": "stdout",
     "output_type": "stream",
     "text": [
      "M : (-0.5945251552278242+0.1337667828667879j)\n"
     ]
    },
    {
     "name": "stderr",
     "output_type": "stream",
     "text": [
      " 65%|██████▍   | 260/401 [03:25<04:53,  2.08s/it]"
     ]
    },
    {
     "name": "stdout",
     "output_type": "stream",
     "text": [
      "M : (-0.6139424607160815+0.12378785982798964j)\n"
     ]
    },
    {
     "name": "stderr",
     "output_type": "stream",
     "text": [
      " 65%|██████▌   | 262/401 [03:27<03:41,  1.59s/it]"
     ]
    },
    {
     "name": "stdout",
     "output_type": "stream",
     "text": [
      "M : (-0.6287285364812303+0.11991006644723626j)\n"
     ]
    },
    {
     "name": "stderr",
     "output_type": "stream",
     "text": [
      " 66%|██████▌   | 264/401 [03:30<03:06,  1.36s/it]"
     ]
    },
    {
     "name": "stdout",
     "output_type": "stream",
     "text": [
      "M : (-0.6387841809105519+0.12304295039051583j)\n"
     ]
    },
    {
     "name": "stderr",
     "output_type": "stream",
     "text": [
      " 66%|██████▋   | 266/401 [03:32<02:48,  1.25s/it]"
     ]
    },
    {
     "name": "stdout",
     "output_type": "stream",
     "text": [
      "M : (-0.6444446982138581+0.13383149393992116j)\n"
     ]
    },
    {
     "name": "stderr",
     "output_type": "stream",
     "text": [
      " 67%|██████▋   | 268/401 [03:34<02:44,  1.24s/it]"
     ]
    },
    {
     "name": "stdout",
     "output_type": "stream",
     "text": [
      "M : (-0.6462264640449243+0.15259649594705668j)\n"
     ]
    },
    {
     "name": "stderr",
     "output_type": "stream",
     "text": [
      " 67%|██████▋   | 270/401 [03:37<02:35,  1.19s/it]"
     ]
    },
    {
     "name": "stdout",
     "output_type": "stream",
     "text": [
      "M : (-0.6445902205485663+0.17937363604960999j)\n"
     ]
    },
    {
     "name": "stderr",
     "output_type": "stream",
     "text": [
      " 68%|██████▊   | 271/401 [03:38<02:33,  1.18s/it]"
     ]
    },
    {
     "name": "stdout",
     "output_type": "stream",
     "text": [
      "SVD MAX : 26\n",
      "tol : 1e-16\n",
      "expanded_dim_tot : 43\n",
      "1) tol 1e-15\n"
     ]
    },
    {
     "name": "stderr",
     "output_type": "stream",
     "text": [
      " 68%|██████▊   | 272/401 [04:12<24:07, 11.22s/it]"
     ]
    },
    {
     "name": "stdout",
     "output_type": "stream",
     "text": [
      "2) expanded_dim : 1\n",
      "expanded_dim T3NS: -13\n",
      "T3NS: 332 ---> 319\n",
      "expanded_dim TTN: 1\n",
      "TTN: 210 ---> 211\n",
      "M : (-0.6400748425648483+0.21396558691519166j)\n"
     ]
    },
    {
     "name": "stderr",
     "output_type": "stream",
     "text": [
      " 68%|██████▊   | 274/401 [04:15<12:47,  6.04s/it]"
     ]
    },
    {
     "name": "stdout",
     "output_type": "stream",
     "text": [
      "M : (-0.6337393127447284+0.2551316968764838j)\n"
     ]
    },
    {
     "name": "stderr",
     "output_type": "stream",
     "text": [
      " 69%|██████▉   | 276/401 [04:17<07:19,  3.52s/it]"
     ]
    },
    {
     "name": "stdout",
     "output_type": "stream",
     "text": [
      "M : (-0.6278200971248787+0.3005849657377811j)\n"
     ]
    },
    {
     "name": "stderr",
     "output_type": "stream",
     "text": [
      " 69%|██████▉   | 278/401 [04:19<04:40,  2.28s/it]"
     ]
    },
    {
     "name": "stdout",
     "output_type": "stream",
     "text": [
      "M : (-0.6246954325741626+0.3451410795437726j)\n"
     ]
    },
    {
     "name": "stderr",
     "output_type": "stream",
     "text": [
      " 70%|██████▉   | 280/401 [04:21<03:21,  1.66s/it]"
     ]
    },
    {
     "name": "stdout",
     "output_type": "stream",
     "text": [
      "M : (-0.6255813901679705+0.38241422392423197j)\n"
     ]
    },
    {
     "name": "stderr",
     "output_type": "stream",
     "text": [
      " 70%|███████   | 282/401 [04:23<02:47,  1.41s/it]"
     ]
    },
    {
     "name": "stdout",
     "output_type": "stream",
     "text": [
      "M : (-0.6308753709716677+0.4075873125357751j)\n"
     ]
    },
    {
     "name": "stderr",
     "output_type": "stream",
     "text": [
      " 71%|███████   | 284/401 [04:25<02:22,  1.21s/it]"
     ]
    },
    {
     "name": "stdout",
     "output_type": "stream",
     "text": [
      "M : (-0.6412328601714822+0.41922797319663363j)\n"
     ]
    },
    {
     "name": "stderr",
     "output_type": "stream",
     "text": [
      " 71%|███████▏  | 286/401 [04:28<02:13,  1.16s/it]"
     ]
    },
    {
     "name": "stdout",
     "output_type": "stream",
     "text": [
      "M : (-0.6577611257203975+0.419514105966992j)\n"
     ]
    },
    {
     "name": "stderr",
     "output_type": "stream",
     "text": [
      " 72%|███████▏  | 287/401 [04:29<02:07,  1.12s/it]"
     ]
    },
    {
     "name": "stdout",
     "output_type": "stream",
     "text": [
      "SVD MAX : 26\n",
      "tol : 1e-15\n"
     ]
    },
    {
     "name": "stderr",
     "output_type": "stream",
     "text": [
      " 72%|███████▏  | 288/401 [04:44<10:13,  5.43s/it]"
     ]
    },
    {
     "name": "stdout",
     "output_type": "stream",
     "text": [
      "expanded_dim T3NS: -10\n",
      "T3NS: 333 ---> 323\n",
      "expanded_dim TTN: 3\n",
      "TTN: 211 ---> 214\n",
      "M : (-0.6812900088173985+0.41334963587590656j)\n"
     ]
    },
    {
     "name": "stderr",
     "output_type": "stream",
     "text": [
      " 72%|███████▏  | 290/401 [04:46<05:58,  3.23s/it]"
     ]
    },
    {
     "name": "stdout",
     "output_type": "stream",
     "text": [
      "M : (-0.7114733043096174+0.40689427066523487j)\n"
     ]
    },
    {
     "name": "stderr",
     "output_type": "stream",
     "text": [
      " 73%|███████▎  | 292/401 [04:49<04:01,  2.22s/it]"
     ]
    },
    {
     "name": "stdout",
     "output_type": "stream",
     "text": [
      "M : (-0.7473220913498013+0.4067750909237916j)\n"
     ]
    },
    {
     "name": "stderr",
     "output_type": "stream",
     "text": [
      " 73%|███████▎  | 294/401 [04:53<03:34,  2.00s/it]"
     ]
    },
    {
     "name": "stdout",
     "output_type": "stream",
     "text": [
      "M : (-0.7871219547916855+0.4200413480935096j)\n"
     ]
    },
    {
     "name": "stderr",
     "output_type": "stream",
     "text": [
      " 74%|███████▍  | 296/401 [04:56<03:02,  1.74s/it]"
     ]
    },
    {
     "name": "stdout",
     "output_type": "stream",
     "text": [
      "M : (-0.8280524097386951+0.45476844137698735j)\n"
     ]
    },
    {
     "name": "stderr",
     "output_type": "stream",
     "text": [
      " 74%|███████▍  | 298/401 [05:00<03:14,  1.89s/it]"
     ]
    },
    {
     "name": "stdout",
     "output_type": "stream",
     "text": [
      "M : (-0.8645662609115+0.5216054312412499j)\n"
     ]
    },
    {
     "name": "stderr",
     "output_type": "stream",
     "text": [
      " 75%|███████▍  | 300/401 [05:02<02:43,  1.62s/it]"
     ]
    },
    {
     "name": "stdout",
     "output_type": "stream",
     "text": [
      "M : (-0.8829124529054501+0.6351284539095177j)\n"
     ]
    },
    {
     "name": "stderr",
     "output_type": "stream",
     "text": [
      " 75%|███████▌  | 302/401 [05:05<02:34,  1.56s/it]"
     ]
    },
    {
     "name": "stdout",
     "output_type": "stream",
     "text": [
      "M : (-0.8471356406393683+0.8095726239030492j)\n"
     ]
    },
    {
     "name": "stderr",
     "output_type": "stream",
     "text": [
      " 76%|███████▌  | 303/401 [05:07<02:35,  1.59s/it]"
     ]
    },
    {
     "name": "stdout",
     "output_type": "stream",
     "text": [
      "SVD MAX : 28\n",
      "tol : 1e-15\n"
     ]
    },
    {
     "name": "stderr",
     "output_type": "stream",
     "text": [
      " 76%|███████▌  | 304/401 [05:32<13:49,  8.55s/it]"
     ]
    },
    {
     "name": "stdout",
     "output_type": "stream",
     "text": [
      "220 225\n",
      "3\n",
      "214 214\n",
      "4\n",
      "expanded_dim T3NS: -6\n",
      "T3NS: 340 ---> 334\n",
      "expanded_dim TTN: 0\n",
      "TTN: 214 ---> 214\n",
      "M : (-0.6787487295277177+1.0241113842986236j)\n"
     ]
    },
    {
     "name": "stderr",
     "output_type": "stream",
     "text": [
      " 76%|███████▋  | 306/401 [05:36<08:19,  5.26s/it]"
     ]
    },
    {
     "name": "stdout",
     "output_type": "stream",
     "text": [
      "M : (-0.31217290212604065+1.1278291624819397j)\n"
     ]
    },
    {
     "name": "stderr",
     "output_type": "stream",
     "text": [
      " 77%|███████▋  | 308/401 [05:40<05:42,  3.69s/it]"
     ]
    },
    {
     "name": "stdout",
     "output_type": "stream",
     "text": [
      "M : (0.06474318522789953+0.9275543791446712j)\n"
     ]
    },
    {
     "name": "stderr",
     "output_type": "stream",
     "text": [
      " 77%|███████▋  | 310/401 [05:44<04:20,  2.87s/it]"
     ]
    },
    {
     "name": "stdout",
     "output_type": "stream",
     "text": [
      "M : (0.18791517340035663+0.5853578951365245j)\n"
     ]
    },
    {
     "name": "stderr",
     "output_type": "stream",
     "text": [
      " 78%|███████▊  | 312/401 [05:49<03:42,  2.50s/it]"
     ]
    },
    {
     "name": "stdout",
     "output_type": "stream",
     "text": [
      "M : (0.13131954191260947+0.3320686214816854j)\n"
     ]
    },
    {
     "name": "stderr",
     "output_type": "stream",
     "text": [
      " 78%|███████▊  | 314/401 [05:53<03:27,  2.38s/it]"
     ]
    },
    {
     "name": "stdout",
     "output_type": "stream",
     "text": [
      "M : (0.032347994685577766+0.1866942505047482j)\n"
     ]
    },
    {
     "name": "stderr",
     "output_type": "stream",
     "text": [
      " 79%|███████▉  | 316/401 [05:58<03:12,  2.26s/it]"
     ]
    },
    {
     "name": "stdout",
     "output_type": "stream",
     "text": [
      "M : (-0.0565256143055958+0.1067917229135048j)\n"
     ]
    },
    {
     "name": "stderr",
     "output_type": "stream",
     "text": [
      " 79%|███████▉  | 318/401 [06:01<02:45,  2.00s/it]"
     ]
    },
    {
     "name": "stdout",
     "output_type": "stream",
     "text": [
      "M : (-0.12460093704084499+0.062317739411772384j)\n"
     ]
    },
    {
     "name": "stderr",
     "output_type": "stream",
     "text": [
      " 80%|███████▉  | 320/401 [06:04<02:24,  1.78s/it]"
     ]
    },
    {
     "name": "stdout",
     "output_type": "stream",
     "text": [
      "M : (-0.17232157636217457+0.037805703935109715j)\n"
     ]
    },
    {
     "name": "stderr",
     "output_type": "stream",
     "text": [
      " 80%|████████  | 322/401 [06:07<02:03,  1.57s/it]"
     ]
    },
    {
     "name": "stdout",
     "output_type": "stream",
     "text": [
      "M : (-0.20200780794958845+0.0257527683665351j)\n"
     ]
    },
    {
     "name": "stderr",
     "output_type": "stream",
     "text": [
      " 81%|████████  | 324/401 [06:10<01:59,  1.56s/it]"
     ]
    },
    {
     "name": "stdout",
     "output_type": "stream",
     "text": [
      "M : (-0.21580288401200284+0.022399073393769866j)\n"
     ]
    },
    {
     "name": "stderr",
     "output_type": "stream",
     "text": [
      " 81%|████████▏ | 326/401 [06:13<01:49,  1.45s/it]"
     ]
    },
    {
     "name": "stdout",
     "output_type": "stream",
     "text": [
      "M : (-0.21545203211686056+0.02554376535735816j)\n"
     ]
    },
    {
     "name": "stderr",
     "output_type": "stream",
     "text": [
      " 82%|████████▏ | 328/401 [06:15<01:33,  1.28s/it]"
     ]
    },
    {
     "name": "stdout",
     "output_type": "stream",
     "text": [
      "M : (-0.20243677363534124+0.03340499552529032j)\n"
     ]
    },
    {
     "name": "stderr",
     "output_type": "stream",
     "text": [
      " 82%|████████▏ | 330/401 [06:18<01:34,  1.33s/it]"
     ]
    },
    {
     "name": "stdout",
     "output_type": "stream",
     "text": [
      "M : (-0.1781637260707242+0.04399382053251842j)\n"
     ]
    },
    {
     "name": "stderr",
     "output_type": "stream",
     "text": [
      " 83%|████████▎ | 332/401 [06:21<01:40,  1.45s/it]"
     ]
    },
    {
     "name": "stdout",
     "output_type": "stream",
     "text": [
      "M : (-0.14423633055441615+0.05480922737579567j)\n"
     ]
    },
    {
     "name": "stderr",
     "output_type": "stream",
     "text": [
      " 83%|████████▎ | 334/401 [06:24<01:37,  1.45s/it]"
     ]
    },
    {
     "name": "stdout",
     "output_type": "stream",
     "text": [
      "M : (-0.10284849112997334+0.06285740314302403j)\n"
     ]
    },
    {
     "name": "stderr",
     "output_type": "stream",
     "text": [
      " 84%|████████▍ | 336/401 [06:27<01:38,  1.51s/it]"
     ]
    },
    {
     "name": "stdout",
     "output_type": "stream",
     "text": [
      "M : (-0.057201300553909346+0.06508987273053375j)\n"
     ]
    },
    {
     "name": "stderr",
     "output_type": "stream",
     "text": [
      " 84%|████████▍ | 338/401 [06:30<01:38,  1.56s/it]"
     ]
    },
    {
     "name": "stdout",
     "output_type": "stream",
     "text": [
      "M : (-0.01163568390640421+0.059309721598439086j)\n"
     ]
    },
    {
     "name": "stderr",
     "output_type": "stream",
     "text": [
      " 85%|████████▍ | 340/401 [06:32<01:22,  1.35s/it]"
     ]
    },
    {
     "name": "stdout",
     "output_type": "stream",
     "text": [
      "M : (0.02894078001431451+0.0452806775890763j)\n"
     ]
    },
    {
     "name": "stderr",
     "output_type": "stream",
     "text": [
      " 85%|████████▌ | 342/401 [06:35<01:14,  1.27s/it]"
     ]
    },
    {
     "name": "stdout",
     "output_type": "stream",
     "text": [
      "M : (0.06040968517042194+0.025320573972037477j)\n"
     ]
    },
    {
     "name": "stderr",
     "output_type": "stream",
     "text": [
      " 86%|████████▌ | 344/401 [06:37<01:08,  1.21s/it]"
     ]
    },
    {
     "name": "stdout",
     "output_type": "stream",
     "text": [
      "M : (0.08087311908504088+0.0037427025467185486j)\n"
     ]
    },
    {
     "name": "stderr",
     "output_type": "stream",
     "text": [
      " 86%|████████▋ | 346/401 [06:39<01:05,  1.18s/it]"
     ]
    },
    {
     "name": "stdout",
     "output_type": "stream",
     "text": [
      "M : (0.09109738873073975-0.01462310870941389j)\n"
     ]
    },
    {
     "name": "stderr",
     "output_type": "stream",
     "text": [
      " 87%|████████▋ | 348/401 [06:42<01:06,  1.25s/it]"
     ]
    },
    {
     "name": "stdout",
     "output_type": "stream",
     "text": [
      "M : (0.09358874802982818-0.025897534139989745j)\n"
     ]
    },
    {
     "name": "stderr",
     "output_type": "stream",
     "text": [
      " 87%|████████▋ | 350/401 [06:44<01:02,  1.23s/it]"
     ]
    },
    {
     "name": "stdout",
     "output_type": "stream",
     "text": [
      "M : (0.09096271319665633-0.027965264648009j)\n"
     ]
    },
    {
     "name": "stderr",
     "output_type": "stream",
     "text": [
      " 88%|████████▊ | 352/401 [06:47<01:05,  1.33s/it]"
     ]
    },
    {
     "name": "stdout",
     "output_type": "stream",
     "text": [
      "M : (0.08467128529982212-0.02071044018393955j)\n"
     ]
    },
    {
     "name": "stderr",
     "output_type": "stream",
     "text": [
      " 88%|████████▊ | 354/401 [06:50<01:06,  1.42s/it]"
     ]
    },
    {
     "name": "stdout",
     "output_type": "stream",
     "text": [
      "M : (0.07475370866766878-0.005931922989761811j)\n"
     ]
    },
    {
     "name": "stderr",
     "output_type": "stream",
     "text": [
      " 89%|████████▉ | 356/401 [06:53<01:03,  1.40s/it]"
     ]
    },
    {
     "name": "stdout",
     "output_type": "stream",
     "text": [
      "M : (0.0605074558089074+0.013111331107765974j)\n"
     ]
    },
    {
     "name": "stderr",
     "output_type": "stream",
     "text": [
      " 89%|████████▉ | 358/401 [06:56<00:56,  1.32s/it]"
     ]
    },
    {
     "name": "stdout",
     "output_type": "stream",
     "text": [
      "M : (0.04137133363644487+0.0326206867500783j)\n"
     ]
    },
    {
     "name": "stderr",
     "output_type": "stream",
     "text": [
      " 90%|████████▉ | 360/401 [06:58<00:52,  1.29s/it]"
     ]
    },
    {
     "name": "stdout",
     "output_type": "stream",
     "text": [
      "M : (0.017368385074780144+0.049344701297516336j)\n"
     ]
    },
    {
     "name": "stderr",
     "output_type": "stream",
     "text": [
      " 90%|█████████ | 362/401 [07:00<00:46,  1.19s/it]"
     ]
    },
    {
     "name": "stdout",
     "output_type": "stream",
     "text": [
      "M : (-0.010955275252072575+0.06133172753865173j)\n"
     ]
    },
    {
     "name": "stderr",
     "output_type": "stream",
     "text": [
      " 91%|█████████ | 364/401 [07:03<00:43,  1.17s/it]"
     ]
    },
    {
     "name": "stdout",
     "output_type": "stream",
     "text": [
      "M : (-0.04278562654035647+0.06811927330088534j)\n"
     ]
    },
    {
     "name": "stderr",
     "output_type": "stream",
     "text": [
      " 91%|█████████▏| 366/401 [07:05<00:41,  1.19s/it]"
     ]
    },
    {
     "name": "stdout",
     "output_type": "stream",
     "text": [
      "M : (-0.07725445700139455+0.07046374211884254j)\n"
     ]
    },
    {
     "name": "stderr",
     "output_type": "stream",
     "text": [
      " 92%|█████████▏| 368/401 [07:07<00:38,  1.16s/it]"
     ]
    },
    {
     "name": "stdout",
     "output_type": "stream",
     "text": [
      "M : (-0.1135475041964587+0.06985204571761879j)\n"
     ]
    },
    {
     "name": "stderr",
     "output_type": "stream",
     "text": [
      " 92%|█████████▏| 370/401 [07:09<00:35,  1.14s/it]"
     ]
    },
    {
     "name": "stdout",
     "output_type": "stream",
     "text": [
      "M : (-0.1509280809696573+0.06802574033908733j)\n"
     ]
    },
    {
     "name": "stderr",
     "output_type": "stream",
     "text": [
      " 93%|█████████▎| 372/401 [07:12<00:33,  1.15s/it]"
     ]
    },
    {
     "name": "stdout",
     "output_type": "stream",
     "text": [
      "M : (-0.18872397417997286+0.06664649277529595j)\n"
     ]
    },
    {
     "name": "stderr",
     "output_type": "stream",
     "text": [
      " 93%|█████████▎| 374/401 [07:14<00:31,  1.15s/it]"
     ]
    },
    {
     "name": "stdout",
     "output_type": "stream",
     "text": [
      "M : (-0.22631109015069956+0.06711961247910349j)\n"
     ]
    },
    {
     "name": "stderr",
     "output_type": "stream",
     "text": [
      " 94%|█████████▍| 376/401 [07:16<00:28,  1.15s/it]"
     ]
    },
    {
     "name": "stdout",
     "output_type": "stream",
     "text": [
      "M : (-0.2630878454498948+0.07054405490769866j)\n"
     ]
    },
    {
     "name": "stderr",
     "output_type": "stream",
     "text": [
      " 94%|█████████▍| 378/401 [07:19<00:26,  1.14s/it]"
     ]
    },
    {
     "name": "stdout",
     "output_type": "stream",
     "text": [
      "M : (-0.2984221434874182+0.077756010666737j)\n"
     ]
    },
    {
     "name": "stderr",
     "output_type": "stream",
     "text": [
      " 95%|█████████▍| 380/401 [07:21<00:24,  1.17s/it]"
     ]
    },
    {
     "name": "stdout",
     "output_type": "stream",
     "text": [
      "M : (-0.3315793331531846+0.08942945160093349j)\n"
     ]
    },
    {
     "name": "stderr",
     "output_type": "stream",
     "text": [
      " 95%|█████████▌| 382/401 [07:23<00:21,  1.16s/it]"
     ]
    },
    {
     "name": "stdout",
     "output_type": "stream",
     "text": [
      "M : (-0.36165292424751433+0.10619649938342242j)\n"
     ]
    },
    {
     "name": "stderr",
     "output_type": "stream",
     "text": [
      " 96%|█████████▌| 384/401 [07:26<00:19,  1.15s/it]"
     ]
    },
    {
     "name": "stdout",
     "output_type": "stream",
     "text": [
      "M : (-0.3875098303654891+0.12876277139824724j)\n"
     ]
    },
    {
     "name": "stderr",
     "output_type": "stream",
     "text": [
      " 96%|█████████▋| 386/401 [07:28<00:17,  1.16s/it]"
     ]
    },
    {
     "name": "stdout",
     "output_type": "stream",
     "text": [
      "M : (-0.4077487653313099+0.15797652000307988j)\n"
     ]
    },
    {
     "name": "stderr",
     "output_type": "stream",
     "text": [
      " 97%|█████████▋| 388/401 [07:30<00:15,  1.17s/it]"
     ]
    },
    {
     "name": "stdout",
     "output_type": "stream",
     "text": [
      "M : (-0.42063678531623233+0.1947643211560155j)\n"
     ]
    },
    {
     "name": "stderr",
     "output_type": "stream",
     "text": [
      " 97%|█████████▋| 390/401 [07:33<00:12,  1.16s/it]"
     ]
    },
    {
     "name": "stdout",
     "output_type": "stream",
     "text": [
      "M : (-0.42393949988697466+0.23982032219516525j)\n"
     ]
    },
    {
     "name": "stderr",
     "output_type": "stream",
     "text": [
      " 98%|█████████▊| 392/401 [07:35<00:10,  1.15s/it]"
     ]
    },
    {
     "name": "stdout",
     "output_type": "stream",
     "text": [
      "M : (-0.41458731404715876+0.29290251047425525j)\n"
     ]
    },
    {
     "name": "stderr",
     "output_type": "stream",
     "text": [
      " 98%|█████████▊| 394/401 [07:37<00:08,  1.17s/it]"
     ]
    },
    {
     "name": "stdout",
     "output_type": "stream",
     "text": [
      "M : (-0.3883703695991257+0.3515401974748835j)\n"
     ]
    },
    {
     "name": "stderr",
     "output_type": "stream",
     "text": [
      " 99%|█████████▉| 396/401 [07:40<00:05,  1.16s/it]"
     ]
    },
    {
     "name": "stdout",
     "output_type": "stream",
     "text": [
      "M : (-0.3404559329711407+0.409112453405266j)\n"
     ]
    },
    {
     "name": "stderr",
     "output_type": "stream",
     "text": [
      " 99%|█████████▉| 398/401 [07:42<00:03,  1.16s/it]"
     ]
    },
    {
     "name": "stdout",
     "output_type": "stream",
     "text": [
      "M : (-0.268213764153049+0.45318038978665104j)\n"
     ]
    },
    {
     "name": "stderr",
     "output_type": "stream",
     "text": [
      "100%|█████████▉| 400/401 [07:44<00:01,  1.17s/it]"
     ]
    },
    {
     "name": "stdout",
     "output_type": "stream",
     "text": [
      "M : (-0.17698860413605333+0.467158023334148j)\n"
     ]
    },
    {
     "name": "stderr",
     "output_type": "stream",
     "text": [
      "100%|██████████| 401/401 [07:45<00:00,  1.16s/it]\n"
     ]
    }
   ],
   "source": [
    "tdvp_ex1.run_ex(evaluation_time=2)\n"
   ]
  },
  {
   "cell_type": "code",
   "execution_count": 15,
   "metadata": {},
   "outputs": [
    {
     "data": {
      "text/plain": [
       "array([ 1.        +0.00000000e+00j,  0.99920571+4.52086941e-10j,\n",
       "        0.99683534+3.56087000e-09j,  0.99287963+1.18165983e-08j,\n",
       "        0.98729372+2.75048694e-08j,  0.97999947+5.26873899e-08j,\n",
       "        0.97088785+8.91903019e-08j,  0.9598215 +1.38601632e-07j,\n",
       "        0.94663758+2.02280218e-07j,  0.93115109+2.81379187e-07j,\n",
       "        0.91315879+3.76887585e-07j,  0.89244382+4.89693874e-07j,\n",
       "        0.86878125+6.20674637e-07j,  0.84194468+7.70810670e-07j,\n",
       "        0.81171389+9.41330616e-07j,  0.77788362+1.13387936e-06j,\n",
       "        0.74027338+1.35070441e-06j,  0.69826377+2.56048723e-05j,\n",
       "        0.65165377+1.01867888e-04j,  0.60100055+2.29116447e-04j,\n",
       "        0.54687951+4.02456735e-04j,  0.48981926+6.21695246e-04j,\n",
       "        0.43027761+8.97380444e-04j,  0.36864868+1.24998789e-03j,\n",
       "        0.30528377+1.70336665e-03j,  0.24060224+2.32334624e-03j,\n",
       "        0.17514888+2.97570313e-03j,  0.10940831+3.64250562e-03j,\n",
       "        0.04385505+4.29071079e-03j, -0.02103201+4.88198377e-03j,\n",
       "       -0.08476068+5.37820541e-03j, -0.14681919+5.74637891e-03j,\n",
       "       -0.206673  +5.96214203e-03j, -0.26322885+5.86866986e-03j,\n",
       "       -0.31617889+5.48943489e-03j, -0.36501089+4.84605267e-03j,\n",
       "       -0.40920901+3.97947166e-03j, -0.44828376+2.94481975e-03j,\n",
       "       -0.48178762+1.80149965e-03j, -0.50933697+5.99716332e-04j,\n",
       "       -0.53064106-6.35646515e-04j, -0.5452215 -2.01901733e-03j,\n",
       "       -0.55344359-3.57904941e-03j, -0.55558213-5.48485052e-03j,\n",
       "       -0.55212267-7.96016417e-03j, -0.54375759-1.12567759e-02j,\n",
       "       -0.53134188-1.56104637e-02j, -0.51581509-2.11937608e-02j,\n",
       "       -0.49810021-2.80827740e-02j, -0.47705822-3.48319592e-02j,\n",
       "       -0.45445078-4.21012762e-02j, -0.43055624-4.97519653e-02j,\n",
       "       -0.4053081 -5.74259909e-02j, -0.37837535-6.47485591e-02j,\n",
       "       -0.34921411-7.13415260e-02j, -0.31716582-7.68074913e-02j,\n",
       "       -0.2815999 -8.07033229e-02j, -0.24660674-8.54389255e-02j,\n",
       "       -0.20866521-9.01296657e-02j, -0.16771296-9.46216629e-02j,\n",
       "       -0.12387065-9.87772793e-02j, -0.07750256-1.02353756e-01j,\n",
       "       -0.02937263-1.04997746e-01j,  0.01922269-1.06291575e-01j,\n",
       "        0.06646946-1.05871414e-01j,  0.11023483-1.03471706e-01j,\n",
       "        0.14864473-9.92194973e-02j,  0.18028158-9.32416793e-02j,\n",
       "        0.20407801-8.56110318e-02j,  0.21918137-7.65666959e-02j,\n",
       "        0.22502841-6.66965829e-02j,  0.2216296 -5.67979907e-02j,\n",
       "        0.20968824-4.75025750e-02j,  0.19050705-3.92840084e-02j,\n",
       "        0.16532287-3.17894789e-02j,  0.135368  -2.45315236e-02j,\n",
       "        0.10172283-1.70725840e-02j,  0.06542897-9.08730442e-03j,\n",
       "        0.0275928 -4.01072701e-04j, -0.01056313+8.99698923e-03j,\n",
       "       -0.04771383+1.89539549e-02j, -0.08255891+2.90964844e-02j,\n",
       "       -0.11366688+3.90754720e-02j, -0.13967096+4.84147703e-02j,\n",
       "       -0.15925258+5.66493730e-02j, -0.1711061 +6.33722881e-02j,\n",
       "       -0.17395375+6.82743340e-02j, -0.16663519+7.11944972e-02j,\n",
       "       -0.14829812+7.22087539e-02j, -0.11876527+7.19174615e-02j,\n",
       "       -0.07906046+7.11950923e-02j, -0.03195739+7.18037098e-02j,\n",
       "        0.01742764+7.60496668e-02j,  0.06175259+8.60420387e-02j,\n",
       "        0.09286212+1.02374902e-01j,  0.10448835+1.23147523e-01j,\n",
       "        0.09490056+1.44508080e-01j,  0.06716081+1.61564328e-01j,\n",
       "        0.02886566+1.72782751e-01j, -0.01227512+1.78588752e-01j,\n",
       "       -0.04993323+1.80396433e-01j, -0.07940513+1.79985580e-01j,\n",
       "       -0.09757997+1.79099629e-01j, -0.10305732+1.79349298e-01j,\n",
       "       -0.09672009+1.82209278e-01j, -0.08316567+1.88581001e-01j,\n",
       "       -0.0693149 +1.98780632e-01j, -0.06384206+2.10129812e-01j,\n",
       "       -0.0733796 +2.17965834e-01j, -0.09957183+2.18022755e-01j,\n",
       "       -0.13916293+2.08908575e-01j, -0.18632683+1.92439292e-01j,\n",
       "       -0.23494514+1.72238112e-01j, -0.27911356+1.52244797e-01j,\n",
       "       -0.31557022+1.36419720e-01j, -0.34267173+1.28039912e-01j,\n",
       "       -0.3607383 +1.29478718e-01j, -0.37201933+1.41444606e-01j,\n",
       "       -0.37989969+1.62193461e-01j, -0.38760502+1.87503349e-01j,\n",
       "       -0.39720807+2.11826722e-01j, -0.40934432+2.29481416e-01j,\n",
       "       -0.42439245+2.37600388e-01j, -0.44275628+2.35551534e-01j,\n",
       "       -0.46458984+2.24696767e-01j, -0.48957144+2.07696580e-01j,\n",
       "       -0.51670721+1.87604399e-01j, -0.54445481+1.67203405e-01j,\n",
       "       -0.57106517+1.48728882e-01j, -0.59452516+1.33766783e-01j,\n",
       "       -0.61394246+1.23787860e-01j, -0.62872854+1.19910066e-01j,\n",
       "       -0.63878418+1.23042950e-01j, -0.6444447 +1.33831494e-01j,\n",
       "       -0.64622646+1.52596496e-01j, -0.64459022+1.79373636e-01j,\n",
       "       -0.64007484+2.13965587e-01j, -0.63373931+2.55131697e-01j,\n",
       "       -0.6278201 +3.00584966e-01j, -0.62469543+3.45141080e-01j,\n",
       "       -0.62558139+3.82414224e-01j, -0.63087537+4.07587313e-01j,\n",
       "       -0.64123286+4.19227973e-01j, -0.65776113+4.19514106e-01j,\n",
       "       -0.68129001+4.13349636e-01j, -0.7114733 +4.06894271e-01j,\n",
       "       -0.74732209+4.06775091e-01j, -0.78712195+4.20041348e-01j,\n",
       "       -0.82805241+4.54768441e-01j, -0.86456626+5.21605431e-01j,\n",
       "       -0.88291245+6.35128454e-01j, -0.84713564+8.09572624e-01j,\n",
       "       -0.67874873+1.02411138e+00j, -0.3121729 +1.12782916e+00j,\n",
       "        0.06474319+9.27554379e-01j,  0.18791517+5.85357895e-01j,\n",
       "        0.13131954+3.32068621e-01j,  0.03234799+1.86694251e-01j,\n",
       "       -0.05652561+1.06791723e-01j, -0.12460094+6.23177394e-02j,\n",
       "       -0.17232158+3.78057039e-02j, -0.20200781+2.57527684e-02j,\n",
       "       -0.21580288+2.23990734e-02j, -0.21545203+2.55437654e-02j,\n",
       "       -0.20243677+3.34049955e-02j, -0.17816373+4.39938205e-02j,\n",
       "       -0.14423633+5.48092274e-02j, -0.10284849+6.28574031e-02j,\n",
       "       -0.0572013 +6.50898727e-02j, -0.01163568+5.93097216e-02j,\n",
       "        0.02894078+4.52806776e-02j,  0.06040969+2.53205740e-02j,\n",
       "        0.08087312+3.74270255e-03j,  0.09109739-1.46231087e-02j,\n",
       "        0.09358875-2.58975341e-02j,  0.09096271-2.79652646e-02j,\n",
       "        0.08467129-2.07104402e-02j,  0.07475371-5.93192299e-03j,\n",
       "        0.06050746+1.31113311e-02j,  0.04137133+3.26206868e-02j,\n",
       "        0.01736839+4.93447013e-02j, -0.01095528+6.13317275e-02j,\n",
       "       -0.04278563+6.81192733e-02j, -0.07725446+7.04637421e-02j,\n",
       "       -0.1135475 +6.98520457e-02j, -0.15092808+6.80257403e-02j,\n",
       "       -0.18872397+6.66464928e-02j, -0.22631109+6.71196125e-02j,\n",
       "       -0.26308785+7.05440549e-02j, -0.29842214+7.77560107e-02j,\n",
       "       -0.33157933+8.94294516e-02j, -0.36165292+1.06196499e-01j,\n",
       "       -0.38750983+1.28762771e-01j, -0.40774877+1.57976520e-01j,\n",
       "       -0.42063679+1.94764321e-01j, -0.4239395 +2.39820322e-01j,\n",
       "       -0.41458731+2.92902510e-01j, -0.38837037+3.51540197e-01j,\n",
       "       -0.34045593+4.09112453e-01j, -0.26821376+4.53180390e-01j,\n",
       "       -0.1769886 +4.67158023e-01j])"
      ]
     },
     "execution_count": 15,
     "metadata": {},
     "output_type": "execute_result"
    }
   ],
   "source": [
    "times = tdvp_ex1.times()\n",
    "tdvp_ex1.operator_results()[0]"
   ]
  },
  {
   "cell_type": "code",
   "execution_count": 16,
   "metadata": {},
   "outputs": [
    {
     "name": "stderr",
     "output_type": "stream",
     "text": [
      "C:\\Users\\edpou\\AppData\\Local\\Temp\\ipykernel_9064\\2378592497.py:6: MatplotlibDeprecationWarning: The get_cmap function was deprecated in Matplotlib 3.7 and will be removed two minor releases later. Use ``matplotlib.colormaps[name]`` or ``matplotlib.colormaps.get_cmap(obj)`` instead.\n",
      "  cmap = get_cmap('tab20')  # Choose a colormap with more distinct colors\n",
      "c:\\Users\\edpou\\AppData\\Local\\Programs\\Python\\Python312\\Lib\\site-packages\\matplotlib\\cbook.py:1699: ComplexWarning: Casting complex values to real discards the imaginary part\n",
      "  return math.isfinite(val)\n",
      "c:\\Users\\edpou\\AppData\\Local\\Programs\\Python\\Python312\\Lib\\site-packages\\matplotlib\\cbook.py:1345: ComplexWarning: Casting complex values to real discards the imaginary part\n",
      "  return np.asarray(x, float)\n"
     ]
    },
    {
     "data": {
      "image/png": "[encoded data removed]",
      "text/plain": [
       "<Figure size 2000x1600 with 4 Axes>"
      ]
     },
     "metadata": {},
     "output_type": "display_data"
    }
   ],
   "source": [
    "import matplotlib.pyplot as plt\n",
    "\n",
    "def get_distinct_colors(n):\n",
    "    \"\"\"Generates a list of n distinct, visually appealing colors using colormap cyclically.\"\"\"\n",
    "    from matplotlib.cm import get_cmap\n",
    "    cmap = get_cmap('tab20')  # Choose a colormap with more distinct colors\n",
    "    return [cmap(i / n) for i in range(n)]\n",
    "\n",
    "# Create a figure with a grid of subplots\n",
    "fig, axs = plt.subplots(2, 2, figsize=(20, 16))\n",
    "\n",
    "# Set a title for the entire figure\n",
    "plt.suptitle(\n",
    "    r'$\\hat{H}=\\sum_{\\langle i j\\rangle}\\left(J_x \\hat{X}_i \\hat{X}_j+J_y \\hat{Y}_i \\hat{Y}_j+J_z \\hat{Z}_i \\hat{Z}_j\\right)+\\sum_i h_z \\hat{Z}_i$' + '\\n' + \n",
    "    r'$(J_x,J_y,J_z,h_z,\\gamma) = (0.9, 1, 1, 0, 1) $' + '\\n' +\n",
    "    r'$time\\_step = 0.001$' + '\\n' +\n",
    "    r'$run\\ time = 45 min $',\n",
    "    fontsize=30, y=0.98\n",
    ")\n",
    "\n",
    "# Plot max bond dimension\n",
    "axs[0, 0].plot(tdvp_ex1.max_bond_dim, linewidth=3)\n",
    "axs[0, 0].set_xlabel(\"Time $t$\", fontsize=15)\n",
    "axs[0, 0].set_ylabel('Max Bond Dimension', fontsize=15)\n",
    "axs[0, 0].tick_params(axis='both', which='major', labelsize=20)\n",
    "axs[0, 0].grid(True)\n",
    "\n",
    "# Plot total bond dimension\n",
    "axs[0, 1].plot(tdvp_ex1.total_bond_dim, linewidth=3)\n",
    "axs[0, 1].set_xlabel(\"Time $t$\", fontsize=15)\n",
    "axs[0, 1].set_ylabel('Total Bond Dimension', fontsize=15)\n",
    "axs[0, 1].tick_params(axis='both', which='major', labelsize=20)\n",
    "axs[0, 1].grid(True)\n",
    "\n",
    "# Plot bond dimensions for each key\n",
    "colors = get_distinct_colors(len(tdvp_ex1.bond_dims))\n",
    "for i, (key, values) in enumerate(tdvp_ex1.bond_dims.items()):\n",
    "    x = list(range(len(values)))\n",
    "    axs[1, 0].plot(x, values, label=key, color=colors[i], linewidth=3)\n",
    "axs[1, 0].legend(title='Bond Dimensions', loc='upper left', bbox_to_anchor=(1, 1), fontsize=14, title_fontsize=16)\n",
    "axs[1, 0].set_xlabel(\"Time $t$\", fontsize=18)\n",
    "axs[1, 0].set_ylabel('Bond dimensions', fontsize=15)\n",
    "axs[1, 0].set_title('Time (timestep = 0.01)', fontsize=15)\n",
    "axs[1, 0].tick_params(axis='both', which='major', labelsize=15)\n",
    "plt.subplots_adjust(right=0.8)\n",
    "\n",
    "# Plot results_M\n",
    "axs[1, 1].plot(times , tdvp_ex1.operator_results()[0], label=\"Total Magnetization\", linewidth=3)\n",
    "axs[1, 1].set_xlabel(\"Time $t$\", fontsize=15)\n",
    "axs[1, 1].set_ylabel(\"Total Magnetization\", fontsize=15)\n",
    "axs[1, 1].grid(True)\n",
    "axs[1, 1].legend()\n",
    "\n",
    "# Adjust layout\n",
    "plt.tight_layout(rect=[0, 0, 1, 0.96])  # Adjust layout to make room for the title\n",
    "\n",
    "# Show the plot\n",
    "plt.show()\n"
   ]
  },
  {
   "cell_type": "markdown",
   "metadata": {},
   "source": []
  },
  {
   "cell_type": "code",
   "execution_count": null,
   "metadata": {},
   "outputs": [],
   "source": [
    "### (0, 0): (2, 2, 2) --> (2, 2, 2, 2)\n",
    "\n",
    "shapes = {\n",
    "    (0, 0): (2, 2, 2),\n",
    "    (0, 1): (2, 2, 2),\n",
    "    (0, 2): (2, 2, 2, 2),\n",
    "    (0, 3): (2, 2),\n",
    "    (1, 0): (2, 2),\n",
    "    (1, 1): (2, 2, 2, 2),\n",
    "    (1, 2): (2, 2, 2, 2),\n",
    "    (1, 3): (2, 2),\n",
    "    (2, 0): (2, 2),\n",
    "    (2, 1): (2, 2, 2, 2),\n",
    "    (2, 2): (2, 2, 2, 2),\n",
    "    (2, 3): (2, 2),\n",
    "    (3, 0): (2, 2),\n",
    "    (3, 1): (2, 2, 2),\n",
    "    (3, 2): (2, 2, 2, 2),\n",
    "    (3, 3): (2, 2)\n",
    "}\n",
    "\n",
    "sites = {\n",
    "    (i, j): ptn.random_tensor_node(shapes[(i, j)], identifier=f\"Site({i},{j})\") for i in range(4) for j in range(4)\n",
    "}\n",
    "\n",
    "ttn = ptn.TreeTensorNetworkState()\n",
    "\n",
    "ttn.add_root(sites[(0, 0)][0], sites[(0, 0)][1])\n",
    "\n",
    "connections = [\n",
    "    ((0, 0), (0, 1), 0, 0),\n",
    "    ((0, 1), (0, 2), 1, 0),\n",
    "    ((0, 2), (0, 3), 1, 0),\n",
    "    ((0, 2), (1, 2), 2, 0),\n",
    "    ((1, 2), (1, 3), 1, 0),\n",
    "    ((1, 2), (1, 1), 2, 0),\n",
    "    ((1, 1), (1, 0), 1, 0),\n",
    "    ((1, 1), (2, 1), 2, 0),\n",
    "    ((2, 1), (2, 0), 1, 0),\n",
    "    ((2, 1), (2, 2), 2, 0),\n",
    "    ((2, 2), (2, 3), 1, 0),\n",
    "    ((2, 2), (3, 2), 2, 0),\n",
    "    ((3, 2), (3, 3), 1, 0),\n",
    "    ((3, 2), (3, 1), 2, 0),\n",
    "    ((3, 1), (3, 0), 1, 0),\n",
    "    ]\n",
    "\n",
    "for (parent, child, parent_leg, child_leg) in connections:\n",
    "    parent_id = f\"Site({parent[0]},{parent[1]})\"\n",
    "    child_id = f\"Site({child[0]},{child[1]})\"\n",
    "    ttn.add_child_to_parent(sites[child][0], sites[child][1], child_leg, parent_id, parent_leg)\n",
    "\n",
    "ttn = product_state(ttn , bond_dim= 2, physical_dim = 2)  \n",
    "\n",
    "nodes = {\n",
    "    (i, j): (ptn.Node(tensor=ttn.tensors[f\"Site({i},{j})\"].conj() , identifier=f\"Node({i},{j})\"), ttn.tensors[f\"Site({i},{j})\"].conj()) for i in range(4) for j in range(4)\n",
    "}\n",
    "\n",
    "ttn.add_child_to_parent(nodes[(0,0)][0], nodes[(0,0)][1], 1, \"Site(0,0)\", 1)\n",
    "\n",
    "### (0,0) : 0,1 --> 1,2\n",
    "\n",
    "connections = [\n",
    "    ((0, 0), (0, 1), 1, 0),\n",
    "    ((0, 1), (0, 2), 1, 0),\n",
    "    ((0, 2), (0, 3), 1, 0),\n",
    "    ((0, 2), (1, 2), 2, 0),\n",
    "    ((1, 2), (1, 3), 1, 0),\n",
    "    ((1, 2), (1, 1), 2, 0),\n",
    "    ((1, 1), (1, 0), 1, 0),\n",
    "    ((1, 1), (2, 1), 2, 0),\n",
    "    ((2, 1), (2, 0), 1, 0),\n",
    "    ((2, 1), (2, 2), 2, 0),\n",
    "    ((2, 2), (2, 3), 1, 0),\n",
    "    ((2, 2), (3, 2), 2, 0),\n",
    "    ((3, 2), (3, 3), 1, 0),\n",
    "    ((3, 2), (3, 1), 2, 0),\n",
    "    ((3, 1), (3, 0), 1, 0),\n",
    "    ]\n",
    "\n",
    "for (parent, child, parent_leg, child_leg) in connections:\n",
    "    parent_id = f\"Node({parent[0]},{parent[1]})\"\n",
    "    child_id = f\"Node({child[0]},{child[1]})\"\n",
    "    ttn.add_child_to_parent(nodes[child][0], nodes[child][1], child_leg, parent_id, parent_leg)"
   ]
  },
  {
   "cell_type": "code",
   "execution_count": null,
   "metadata": {},
   "outputs": [],
   "source": [
    "# Config : Lindblad = True\n",
    "# time_evolve with exponent = hamiltonian * time_difference\n",
    "# evaluate_operator with operator_expectation_value_Lindblad(operator)\n",
    "# normalize_ttn_Lindblad after each run_one_time_step_ex\n",
    "\n",
    "tdvp_ex1 = ptn.SecondOrderOneSiteTDVP(initial_state = ttn,\n",
    "                                     hamiltonian = L_fancy,\n",
    "                                     time_step_size = 0.01,\n",
    "                                     final_time = 4,\n",
    "                                     operators = M,\n",
    "                                     num_vecs = 3,\n",
    "                                     tau = 1e-3,\n",
    "                                     SVDParameters = ptn.SVDParameters(max_bond_dim = np.inf , rel_tol= -np.inf , total_tol = -np.inf),\n",
    "                                     expansion_steps = 15,\n",
    "                                     t3n_dict = {'Site(0,2)': 'Site(0,1)',\n",
    "                                                'Site(1,2)': 'Site(1,1)',\n",
    "                                                'Site(1,1)': 'Site(2,1)',\n",
    "                                                'Site(2,1)': 'Site(2,2)',\n",
    "                                                'Site(2,2)': 'Site(2,1)',\n",
    "                                                'Site(3,2)': 'Site(3,3)',\n",
    "\n",
    "                                                'Node(0,2)': 'Node(0,1)',\n",
    "                                                'Node(1,2)': 'Node(1,1)',\n",
    "                                                'Node(1,1)': 'Node(2,1)',\n",
    "                                                'Node(2,1)': 'Node(2,2)',\n",
    "                                                'Node(2,2)': 'Node(2,1)',\n",
    "                                                'Node(3,2)': 'Node(3,3)'},\n",
    "\n",
    "                                     Lanczos_threshold = np.inf,\n",
    "                                     k_fraction = 0.2, \n",
    "                                     validity_fraction = 1, \n",
    "                                     increase_fraction = 0.3,\n",
    "                                     max_iter = 1, \n",
    "\n",
    "                                     initial_tol= 1e-16,\n",
    "                                     tol_step= 10,\n",
    "                                     rel_tot_bond = 30,\n",
    "                                     max_bond= 220,\n",
    "                                     norm_tol = 0,\n",
    "                                     KrylovBasisMode = ptn.KrylovBasisMode.apply_1st_order_expansion,\n",
    "                                     config = ptn.TTNTimeEvolutionConfig(record_bond_dim=True,\n",
    "                                                                         Lindblad = True,\n",
    "                                                                         T3NS= False) )"
   ]
  }
 ],
 "metadata": {
  "kernelspec": {
   "display_name": "Python 3",
   "language": "python",
   "name": "python3"
  },
  "language_info": {
   "codemirror_mode": {
    "name": "ipython",
    "version": 3
   },
   "file_extension": ".py",
   "mimetype": "text/x-python",
   "name": "python",
   "nbconvert_exporter": "python",
   "pygments_lexer": "ipython3",
   "version": "3.12.1"
  }
 },
 "nbformat": 4,
 "nbformat_minor": 2
}
