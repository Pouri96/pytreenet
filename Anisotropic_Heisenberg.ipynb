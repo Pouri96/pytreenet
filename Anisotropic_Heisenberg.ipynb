{
 "cells": [
  {
   "cell_type": "code",
   "execution_count": 919,
   "metadata": {},
   "outputs": [],
   "source": [
    "import numpy as np\n",
    "import pytreenet as ptn\n",
    "from copy import deepcopy"
   ]
  },
  {
   "cell_type": "code",
   "execution_count": 920,
   "metadata": {},
   "outputs": [],
   "source": [
    "d = 2"
   ]
  },
  {
   "cell_type": "code",
   "execution_count": 921,
   "metadata": {},
   "outputs": [],
   "source": [
    "def product_state(ttn, bond_dim=2 , physical_dim= 2):\n",
    "    product_state = deepcopy(ttn)\n",
    "    A = np.array([1, 0]) \n",
    "    #A = np.random.rand(2) + 1j * np.random.rand(2)\n",
    "    for node_id in product_state.nodes.keys():\n",
    "        n = product_state.tensors[node_id].ndim - 1\n",
    "        tensor = A.reshape((1,) * n + (physical_dim,))\n",
    "        T = np.pad(tensor, n*((0, bond_dim-1),) + ((0, 0),))\n",
    "        product_state.tensors[node_id] = T\n",
    "        product_state.nodes[node_id].link_tensor(T)  \n",
    "    return product_state"
   ]
  },
  {
   "cell_type": "code",
   "execution_count": 922,
   "metadata": {},
   "outputs": [],
   "source": [
    "### (0, 0): (2, 2, 2) --> (2, 2, 2, 2)\n",
    "\n",
    "shapes = {\n",
    "    (0, 0): (2, 2, 2, 2),\n",
    "    (0, 1): (2, 2, 2, 2),\n",
    "    (0, 2): (2, 2, 2, 2),\n",
    "    (0, 3): (2, 2),\n",
    "    (1, 0): (2, 2, 2),\n",
    "    (1, 1): (2, 2),\n",
    "    (1, 2): (2, 2, 2),\n",
    "    (1, 3): (2, 2),\n",
    "    (2, 0): (2, 2, 2, 2),\n",
    "    (2, 1): (2, 2, 2),\n",
    "    (2, 2): (2, 2, 2),\n",
    "    (2, 3): (2, 2),\n",
    "    (3, 0): (2, 2),\n",
    "    (3, 1): (2, 2, 2),\n",
    "    (3, 2): (2, 2, 2, 2),\n",
    "    (3, 3): (2, 2)\n",
    "}\n",
    "\n",
    "sites = {\n",
    "    (i, j): ptn.random_tensor_node(shapes[(i, j)], identifier=f\"Site({i},{j})\") for i in range(4) for j in range(4)\n",
    "}\n",
    "\n",
    "ttn = ptn.TreeTensorNetworkState()\n",
    "\n",
    "ttn.add_root(sites[(0, 0)][0], sites[(0, 0)][1])\n",
    "\n",
    "connections = [\n",
    "    ((0, 0), (0, 1), 0, 0),\n",
    "    ((0, 1), (1, 1), 1, 0),\n",
    "    ((0, 1), (0, 2), 2, 0),\n",
    "    ((0, 2), (1, 2), 1, 0),\n",
    "    ((1, 2), (1, 3), 1, 0),\n",
    "    ((0, 2), (0, 3), 2, 0),\n",
    "    ((0, 0), (1, 0), 1, 0),\n",
    "    ((1, 0), (2, 0), 1, 0),\n",
    "    ((2, 0), (3, 0), 1, 0),\n",
    "    ((2, 0), (2, 1), 2, 0),\n",
    "    ((2, 1), (3, 1), 1, 0),\n",
    "    ((3, 1), (3, 2), 1, 0),\n",
    "    ((3, 2), (2, 2), 1, 0),\n",
    "    ((2, 2), (2, 3), 1, 0),\n",
    "    ((3, 2), (3, 3), 2, 0),\n",
    "]\n",
    "\n",
    "for (parent, child, parent_leg, child_leg) in connections:\n",
    "    parent_id = f\"Site({parent[0]},{parent[1]})\"\n",
    "    child_id = f\"Site({child[0]},{child[1]})\"\n",
    "    ttn.add_child_to_parent(sites[child][0], sites[child][1], child_leg, parent_id, parent_leg)\n",
    "\n",
    "ttn = product_state(ttn , bond_dim= 4, physical_dim = 2)  \n",
    "\n",
    "nodes = {\n",
    "    (i, j): (ptn.Node(tensor=ttn.tensors[f\"Site({i},{j})\"].conj() , identifier=f\"Node({i},{j})\"), ttn.tensors[f\"Site({i},{j})\"].conj()) for i in range(4) for j in range(4)\n",
    "}\n",
    "\n",
    "ttn.add_child_to_parent(nodes[(0,0)][0], nodes[(0,0)][1], 2, \"Site(0,0)\", 2)\n",
    "\n",
    "### (0,0) : 0,1 --> 1,2\n",
    "\n",
    "connections = [\n",
    "    ((0, 0), (0, 1), 1, 0),\n",
    "    ((0, 1), (1, 1), 1, 0),\n",
    "    ((0, 1), (0, 2), 2, 0),\n",
    "    ((0, 2), (1, 2), 1, 0),\n",
    "    ((1, 2), (1, 3), 1, 0),\n",
    "    ((0, 2), (0, 3), 2, 0),\n",
    "    ((0, 0), (1, 0), 2, 0),\n",
    "    ((1, 0), (2, 0), 1, 0),\n",
    "    ((2, 0), (3, 0), 1, 0),\n",
    "    ((2, 0), (2, 1), 2, 0),\n",
    "    ((2, 1), (3, 1), 1, 0),\n",
    "    ((3, 1), (3, 2), 1, 0),\n",
    "    ((3, 2), (2, 2), 1, 0),\n",
    "    ((2, 2), (2, 3), 1, 0),\n",
    "    ((3, 2), (3, 3), 2, 0),\n",
    "]\n",
    "\n",
    "for (parent, child, parent_leg, child_leg) in connections:\n",
    "    parent_id = f\"Node({parent[0]},{parent[1]})\"\n",
    "    child_id = f\"Node({child[0]},{child[1]})\"\n",
    "    ttn.add_child_to_parent(nodes[child][0], nodes[child][1], child_leg, parent_id, parent_leg)"
   ]
  },
  {
   "cell_type": "code",
   "execution_count": 923,
   "metadata": {},
   "outputs": [],
   "source": [
    "### (0, 0): (2, 2, 2) --> (2, 2, 2, 2)\n",
    "\n",
    "shapes = {\n",
    "    (0, 0): (2, 2, 2),\n",
    "    (0, 1): (2, 2, 2),\n",
    "    (0, 2): (2, 2, 2, 2),\n",
    "    (0, 3): (2, 2),\n",
    "    (1, 0): (2, 2),\n",
    "    (1, 1): (2, 2, 2, 2),\n",
    "    (1, 2): (2, 2, 2, 2),\n",
    "    (1, 3): (2, 2),\n",
    "    (2, 0): (2, 2),\n",
    "    (2, 1): (2, 2, 2, 2),\n",
    "    (2, 2): (2, 2, 2, 2),\n",
    "    (2, 3): (2, 2),\n",
    "    (3, 0): (2, 2),\n",
    "    (3, 1): (2, 2, 2),\n",
    "    (3, 2): (2, 2, 2, 2),\n",
    "    (3, 3): (2, 2)\n",
    "}\n",
    "\n",
    "sites = {\n",
    "    (i, j): ptn.random_tensor_node(shapes[(i, j)], identifier=f\"Site({i},{j})\") for i in range(4) for j in range(4)\n",
    "}\n",
    "\n",
    "ttn = ptn.TreeTensorNetworkState()\n",
    "\n",
    "ttn.add_root(sites[(0, 0)][0], sites[(0, 0)][1])\n",
    "\n",
    "connections = [\n",
    "    ((0, 0), (0, 1), 0, 0),\n",
    "    ((0, 1), (0, 2), 1, 0),\n",
    "    ((0, 2), (0, 3), 1, 0),\n",
    "    ((0, 2), (1, 2), 2, 0),\n",
    "    ((1, 2), (1, 3), 1, 0),\n",
    "    ((1, 2), (1, 1), 2, 0),\n",
    "    ((1, 1), (1, 0), 1, 0),\n",
    "    ((1, 1), (2, 1), 2, 0),\n",
    "    ((2, 1), (2, 0), 1, 0),\n",
    "    ((2, 1), (2, 2), 2, 0),\n",
    "    ((2, 2), (2, 3), 1, 0),\n",
    "    ((2, 2), (3, 2), 2, 0),\n",
    "    ((3, 2), (3, 3), 1, 0),\n",
    "    ((3, 2), (3, 1), 2, 0),\n",
    "    ((3, 1), (3, 0), 1, 0),\n",
    "    ]\n",
    "\n",
    "for (parent, child, parent_leg, child_leg) in connections:\n",
    "    parent_id = f\"Site({parent[0]},{parent[1]})\"\n",
    "    child_id = f\"Site({child[0]},{child[1]})\"\n",
    "    ttn.add_child_to_parent(sites[child][0], sites[child][1], child_leg, parent_id, parent_leg)\n",
    "\n",
    "ttn = product_state(ttn , bond_dim= 4, physical_dim = 2)  \n",
    "\n",
    "nodes = {\n",
    "    (i, j): (ptn.Node(tensor=ttn.tensors[f\"Site({i},{j})\"].conj() , identifier=f\"Node({i},{j})\"), ttn.tensors[f\"Site({i},{j})\"].conj()) for i in range(4) for j in range(4)\n",
    "}\n",
    "\n",
    "ttn.add_child_to_parent(nodes[(0,0)][0], nodes[(0,0)][1], 1, \"Site(0,0)\", 1)\n",
    "\n",
    "### (0,0) : 0,1 --> 1,2\n",
    "\n",
    "connections = [\n",
    "    ((0, 0), (0, 1), 1, 0),\n",
    "    ((0, 1), (0, 2), 1, 0),\n",
    "    ((0, 2), (0, 3), 1, 0),\n",
    "    ((0, 2), (1, 2), 2, 0),\n",
    "    ((1, 2), (1, 3), 1, 0),\n",
    "    ((1, 2), (1, 1), 2, 0),\n",
    "    ((1, 1), (1, 0), 1, 0),\n",
    "    ((1, 1), (2, 1), 2, 0),\n",
    "    ((2, 1), (2, 0), 1, 0),\n",
    "    ((2, 1), (2, 2), 2, 0),\n",
    "    ((2, 2), (2, 3), 1, 0),\n",
    "    ((2, 2), (3, 2), 2, 0),\n",
    "    ((3, 2), (3, 3), 1, 0),\n",
    "    ((3, 2), (3, 1), 2, 0),\n",
    "    ((3, 1), (3, 0), 1, 0),\n",
    "    ]\n",
    "\n",
    "for (parent, child, parent_leg, child_leg) in connections:\n",
    "    parent_id = f\"Node({parent[0]},{parent[1]})\"\n",
    "    child_id = f\"Node({child[0]},{child[1]})\"\n",
    "    ttn.add_child_to_parent(nodes[child][0], nodes[child][1], child_leg, parent_id, parent_leg)"
   ]
  },
  {
   "cell_type": "code",
   "execution_count": 924,
   "metadata": {},
   "outputs": [],
   "source": [
    "shapes = {\n",
    "    (0, 0): (2, 2, 2, d),\n",
    "    (0, 1): (2, 2, d),\n",
    "    (0, 2): (2, 2, d),\n",
    "    (1, 0): (2, 2, d),\n",
    "    (1, 1): (2, d),\n",
    "    (1, 2): (2, d),\n",
    "    (2, 0): (2, 2, d),\n",
    "    (2, 1): (2, 2, 2, d),\n",
    "    (2, 2): (2, d)\n",
    "}\n",
    "\n",
    "\n",
    "sites = {\n",
    "    (i, j): ptn.random_tensor_node(shapes[(i, j)], identifier=f\"Site({i},{j})\") for i in range(3) for j in range(3)\n",
    "}\n",
    "\n",
    "ttn = ptn.TreeTensorNetworkState()\n",
    "\n",
    "ttn.add_root(sites[(0, 0)][0], sites[(0, 0)][1])\n",
    "\n",
    "connections = [\n",
    "    ((0, 0), (0, 1), 0, 0),\n",
    "    ((0, 1), (0, 2), 1, 0),\n",
    "    ((0, 2), (1, 2), 1, 0),\n",
    "    ((0, 0), (1, 0), 1, 0),\n",
    "    ((1, 0), (2, 0), 1, 0),\n",
    "    ((2, 0), (2, 1), 1, 0),\n",
    "    ((2, 1), (1, 1), 1, 0),\n",
    "    ((2, 1), (2, 2), 2, 0)]\n",
    "\n",
    "\n",
    "for (parent, child, parent_leg, child_leg) in connections:\n",
    "    parent_id = f\"Site({parent[0]},{parent[1]})\"\n",
    "    child_id = f\"Site({child[0]},{child[1]})\"\n",
    "    ttn.add_child_to_parent(sites[child][0], sites[child][1], child_leg, parent_id, parent_leg)\n",
    "\n",
    "ttn = product_state(ttn , bond_dim= 4, physical_dim = d)\n",
    "\n",
    "nodes = {\n",
    "    (i, j): (ptn.Node(tensor=ttn.tensors[f\"Site({i},{j})\"].conj() , identifier=f\"Node({i},{j})\"), ttn.tensors[f\"Site({i},{j})\"].conj()) for i in range(3) for j in range(3)\n",
    "}\n",
    "\n",
    "ttn.add_child_to_parent(nodes[(0,0)][0], nodes[(0,0)][1], 2, \"Site(0,0)\", 2)\n",
    "\n",
    "connections = [\n",
    "    ((0, 0), (0, 1), 1, 0),\n",
    "    ((0, 1), (0, 2), 1, 0),\n",
    "    ((0, 2), (1, 2), 1, 0),\n",
    "    ((0, 0), (1, 0), 2, 0),\n",
    "    ((1, 0), (2, 0), 1, 0),\n",
    "    ((2, 0), (2, 1), 1, 0),\n",
    "    ((2, 1), (1, 1), 1, 0),\n",
    "    ((2, 1), (2, 2), 2, 0),\n",
    "]\n",
    "\n",
    "for (parent, child, parent_leg, child_leg) in connections:\n",
    "    parent_id = f\"Node({parent[0]},{parent[1]})\"\n",
    "    child_id = f\"Node({child[0]},{child[1]})\"\n",
    "    ttn.add_child_to_parent(nodes[child][0], nodes[child][1], child_leg, parent_id, parent_leg)"
   ]
  },
  {
   "cell_type": "code",
   "execution_count": 925,
   "metadata": {},
   "outputs": [],
   "source": [
    "def get_neighbors_periodic_in_legs(x, y, Lx, Ly):\n",
    "  neighbors = []\n",
    "  \n",
    "  # Right neighbor (with periodic boundary)\n",
    "  right_x = (x + 1) % Lx\n",
    "  neighbors.append((f\"Site({right_x},{y})\"))\n",
    "  \n",
    "  # Up neighbor (with periodic boundary)\n",
    "  up_y = (y + 1) % Ly\n",
    "  neighbors.append((f\"Site({x},{up_y})\"))\n",
    "  \n",
    "  return neighbors\n",
    "\n",
    "def get_neighbors_periodic_out_legs(x, y, Lx, Ly):\n",
    "    neighbors = []\n",
    "    \n",
    "    # Right neighbor (with periodic boundary)\n",
    "    right_x = (x + 1) % Lx\n",
    "    neighbors.append((f\"Node({right_x},{y})\"))\n",
    "    \n",
    "    # Up neighbor (with periodic boundary)\n",
    "    up_y = (y + 1) % Ly\n",
    "    neighbors.append((f\"Node({x},{up_y})\"))\n",
    "    \n",
    "    return neighbors  \n",
    "\n"
   ]
  },
  {
   "cell_type": "code",
   "execution_count": 926,
   "metadata": {},
   "outputs": [],
   "source": [
    "def Anisotropic_Heisenberg_ham(J_x, J_y, J_z, h_z, Lx, Ly):\n",
    "    # Get the Pauli matrices\n",
    "    X, Y, Z = ptn.pauli_matrices()\n",
    "    \n",
    "    # Create a conversion dictionary for the operators\n",
    "    conversion_dict = {\n",
    "        \"X\": X,\n",
    "        \"J_x * X\": J_x * X,\n",
    "        \"Y\": Y,\n",
    "        \"J_y * Y\": J_y * Y,\n",
    "        \"Z\": Z,\n",
    "        \"J_z * Z\": J_z * Z,\n",
    "        \"I2\": np.eye(2),\n",
    "        \"h_z * Z\": h_z * Z\n",
    "    }\n",
    "    \n",
    "    terms = []\n",
    "    \n",
    "    for x in range(Lx):\n",
    "        for y in range(Ly):\n",
    "            current_site = f\"Site({x},{y})\"\n",
    "            neighbors = get_neighbors_periodic_in_legs(x, y, Lx, Ly)\n",
    "            \n",
    "            for neighbor in neighbors:\n",
    "                terms.append(ptn.TensorProduct({current_site: \"X\", neighbor: \"J_x * X\"}))\n",
    "                terms.append(ptn.TensorProduct({current_site: \"Y\", neighbor: \"J_y * Y\"}))\n",
    "                terms.append(ptn.TensorProduct({current_site: \"Z\", neighbor: \"J_z * Z\"}))               \n",
    "\n",
    "    \n",
    "    # On-site magnetic field terms\n",
    "    for x in range(Lx):\n",
    "        for y in range(Ly):\n",
    "            current_site = f\"Site({x},{y})\"\n",
    "            terms.append(ptn.TensorProduct({current_site: \"h_z * Z\"}))\n",
    "    \n",
    "    return ptn.Hamiltonian(terms, conversion_dict)"
   ]
  },
  {
   "cell_type": "code",
   "execution_count": 927,
   "metadata": {},
   "outputs": [],
   "source": [
    "def Liouville_Heisenberg(Lx, Ly, J_x, J_y, J_z, h_z, L, J):\n",
    "    # Get the Pauli matrices\n",
    "    X, Y, Z = ptn.pauli_matrices()\n",
    "    L = L.T\n",
    "    # Create the conversion dictionary for the Hamiltonian.\n",
    "    conversion_dict = {\n",
    "        \"-iJ_x * X\": -1j*J_x * (X),\n",
    "        \"X\":                   (X),\n",
    "        \"-iJ_Y * Y\": -1j*J_y * (Y),\n",
    "        \"Y\":                   (Y),\n",
    "        \"-iJ_z * Z\": -1j*J_z * (Z),\n",
    "        \"Z\":                   (Z),\n",
    "        \"I2\":          np.eye(2),\n",
    "    }\n",
    "    \n",
    "    terms = []\n",
    "    \n",
    "    for x in range(Lx):\n",
    "        for y in range(Ly):\n",
    "            current_site = f\"Site({x},{y})\"\n",
    "            neighbors = get_neighbors_periodic_in_legs(x, y, Lx, Ly)\n",
    "            \n",
    "            for neighbor in neighbors:\n",
    "                terms.append(ptn.TensorProduct({current_site: \"-iJ_x * X\", neighbor: \"X\"}))\n",
    "                terms.append(ptn.TensorProduct({current_site: \"-iJ_Y * Y\", neighbor: \"Y\"}))\n",
    "                terms.append(ptn.TensorProduct({current_site: \"-iJ_z * Z\", neighbor: \"Z\"}))     \n",
    "                #terms.append(ptn.TensorProduct({neighbor: \"-iJ_x * X\",current_site : \"X\"}))\n",
    "                #terms.append(ptn.TensorProduct({neighbor: \"-iJ_Y * Y\",current_site : \"Y\"}))\n",
    "                #terms.append(ptn.TensorProduct({neighbor: \"-iJ_z * Z\",current_site : \"Z\"}))  \n",
    "\n",
    "    H1 = ptn.Hamiltonian(terms, conversion_dict)\n",
    "    \n",
    "    # H.T = H \n",
    "    \n",
    "    # Create the conversion dictionary for the Hamiltonian\n",
    "    conversion_dict = {\n",
    "        \"iJ_x * X.T\": 1j*J_x * (X.T),\n",
    "        \"X.T\":                 (X.T),\n",
    "        \"iJ_Y * Y.T\": 1j*J_y * (Y.T),\n",
    "        \"Y.T\":                 (Y.T),\n",
    "        \"iJ_z * Z.T\": 1j*J_z * (Z.T),\n",
    "        \"Z.T\":                 (Z.T),\n",
    "        \"I2\":              np.eye(2),\n",
    "    }\n",
    "    \n",
    "    terms = []\n",
    "    \n",
    "    # Hopping terms for the transpose\n",
    "    for x in range(Lx):\n",
    "        for y in range(Ly):\n",
    "            current_site = f\"Node({x},{y})\"\n",
    "            neighbors = get_neighbors_periodic_out_legs(x, y, Lx, Ly)\n",
    "            \n",
    "            for neighbor in neighbors:\n",
    "                terms.append(ptn.TensorProduct({current_site: \"iJ_x * X.T\", neighbor: \"X.T\"}))\n",
    "                terms.append(ptn.TensorProduct({current_site: \"iJ_Y * Y.T\", neighbor: \"Y.T\"}))\n",
    "                terms.append(ptn.TensorProduct({current_site: \"iJ_z * Z.T\", neighbor: \"Z.T\"}))                \n",
    "                #terms.append(ptn.TensorProduct({neighbor: \"iJ_x * X.T\", current_site: \"X.T\"}))\n",
    "                #terms.append(ptn.TensorProduct({neighbor: \"iJ_Y * Y.T\", current_site: \"Y.T\"}))\n",
    "                #terms.append(ptn.TensorProduct({neighbor: \"iJ_z * Z.T\", current_site: \"Z.T\"})) \n",
    "    \n",
    "    H2 = ptn.Hamiltonian(terms, conversion_dict)    \n",
    "    H1.__add__(H2)\n",
    "    \n",
    "    \n",
    "    conversion_dict = {\n",
    "        \"L\": J * L,\n",
    "        \"L^dagger.T\":  J * L.conj(),\n",
    "        \"-1/2 (L^dagger @ L)\": -1/2 * J * (L.conj().T @ L),\n",
    "        \"-1/2 (L^dagger @ L).T\": -1/2 * J * (L.conj().T @ L).T\n",
    "    }\n",
    "\n",
    "    terms = []\n",
    "    for x in range(Lx):\n",
    "        for y in range(Ly):\n",
    "            out_site = f\"Node({x},{y})\"\n",
    "            in_site = f\"Site({x},{y})\"\n",
    "            #terms.append(ptn.TensorProduct({in_site: \"L\"}))\n",
    "            #terms.append(ptn.TensorProduct({out_site: \"L^dagger.T\"}))\n",
    "            terms.append(ptn.TensorProduct({in_site: \"L\" , out_site: \"L^dagger.T\"}))\n",
    "            terms.append(ptn.TensorProduct({in_site: \"-1/2 (L^dagger @ L)\"}))\n",
    "            terms.append(ptn.TensorProduct({out_site: \"-1/2 (L^dagger @ L).T\"}))\n",
    "\n",
    "    H3 = ptn.Hamiltonian(terms, conversion_dict)\n",
    "    H1.__add__(H3)\n",
    "    \n",
    "    return H1"
   ]
  },
  {
   "cell_type": "code",
   "execution_count": 928,
   "metadata": {},
   "outputs": [],
   "source": [
    "def Unitary(Lx, Ly, J_x, J_y, J_z, h_z):\n",
    "    # Get the Pauli matrices\n",
    "    X, Y, Z = ptn.pauli_matrices()\n",
    "    \n",
    "    # Create the conversion dictionary for the Hamiltonian\n",
    "    conversion_dict = {\n",
    "        \"-i * X\": -1j* X,\n",
    "        \"J_x * X\": J_x * X,\n",
    "        \"-i * Y\": -1j* Y,\n",
    "        \"J_y * Y\": J_y * Y,\n",
    "        \"-i * Z\": -1j* Z,\n",
    "        \"J_z * Z\": J_z * Z,\n",
    "        \"I2\": np.eye(2),\n",
    "        \"-i * h_z * Z\": -1j* h_z * Z\n",
    "    }\n",
    "    \n",
    "    terms = []\n",
    "    \n",
    "    for x in range(Lx):\n",
    "        for y in range(Ly):\n",
    "            current_site = f\"Site({x},{y})\"\n",
    "            neighbors = get_neighbors_periodic_in_legs(x, y, Lx, Ly)\n",
    "            \n",
    "            for neighbor in neighbors:\n",
    "                terms.append(ptn.TensorProduct({current_site: \"-i * X\", neighbor: \"J_x * X\"}))\n",
    "                terms.append(ptn.TensorProduct({current_site: \"-i * Y\", neighbor: \"J_y * Y\"}))\n",
    "                terms.append(ptn.TensorProduct({current_site: \"-i * Z\", neighbor: \"J_z * Z\"}))       \n",
    "\n",
    "    \n",
    "    # On-site magnetic field terms\n",
    "    for x in range(Lx):\n",
    "        for y in range(Ly):\n",
    "            current_site = f\"Site({x},{y})\"\n",
    "            terms.append(ptn.TensorProduct({current_site: \"-i * h_z * Z\"}))\n",
    "\n",
    "    H1 = ptn.Hamiltonian(terms, conversion_dict)\n",
    "    \n",
    "    # H.T = H \n",
    "    \n",
    "    # Create the conversion dictionary for the Hamiltonian\n",
    "    conversion_dict = {\n",
    "        \"i * X\": 1j* X,\n",
    "        \"J_x * X\": J_x * X,\n",
    "        \"i * Y\": 1j* Y,\n",
    "        \"J_y * Y\": J_y * Y,\n",
    "        \"i * Z\": 1j* Z,\n",
    "        \"J_z * Z\": J_z * Z,\n",
    "        \"I2\": np.eye(2),\n",
    "        \"i * h_z * Z\": 1j* h_z * Z\n",
    "    }\n",
    "    \n",
    "    terms = []\n",
    "    \n",
    "    # Hopping terms for the transpose\n",
    "    for x in range(Lx):\n",
    "        for y in range(Ly):\n",
    "            current_site = f\"Node({x},{y})\"\n",
    "            neighbors = get_neighbors_periodic_out_legs(x, y, Lx, Ly)\n",
    "            \n",
    "            for neighbor in neighbors:\n",
    "                terms.append(ptn.TensorProduct({current_site: \"i * X\", neighbor: \"J_x * X\"}))\n",
    "                terms.append(ptn.TensorProduct({current_site: \"i * Y\", neighbor: \"J_y * Y\"}))\n",
    "                terms.append(ptn.TensorProduct({current_site: \"i * Z\", neighbor: \"J_z * Z\"})) \n",
    "\n",
    "\n",
    "    # On-site magnetic field terms\n",
    "    for x in range(Lx):\n",
    "        for y in range(Ly):\n",
    "            current_site = f\"Node({x},{y})\"\n",
    "            terms.append(ptn.TensorProduct({current_site: \"i * h_z * Z\"}))\n",
    "    \n",
    "    H2 = ptn.Hamiltonian(terms, conversion_dict)    \n",
    "    H1.__add__(H2)\n",
    "    \n",
    "    return H1    \n",
    "    "
   ]
  },
  {
   "cell_type": "code",
   "execution_count": 929,
   "metadata": {},
   "outputs": [],
   "source": [
    "def Magnetization_op_total(Lx, Ly):\n",
    "    # Get the Pauli matrices\n",
    "    X, Y, Z = ptn.pauli_matrices()\n",
    "    \n",
    "    # Create a conversion dictionary for the operators\n",
    "    conversion_dict = {\n",
    "        \"X\": X ,\n",
    "        \"Y\": Y,\n",
    "        \"Z\": Z,\n",
    "        \"I2\": np.eye(2)}\n",
    "    terms = []\n",
    "    for x in range(Lx):\n",
    "        for y in range(Ly):\n",
    "            current_site = f\"Site({x},{y})\"\n",
    "            terms.append(ptn.TensorProduct({current_site: \"Z\"}))  # Using Z for magnetization\n",
    "\n",
    "    return ptn.Hamiltonian(terms, conversion_dict)"
   ]
  },
  {
   "cell_type": "code",
   "execution_count": 930,
   "metadata": {},
   "outputs": [
    {
     "name": "stdout",
     "output_type": "stream",
     "text": [
      "(1+0j)\n",
      "(9+0j)\n"
     ]
    }
   ],
   "source": [
    "Lx =  3\n",
    "Ly  = 3\n",
    "J_x = 0.9\n",
    "J_y = 1 #(1.8)\n",
    "J_z = 1\n",
    "h_z = 0\n",
    "\n",
    "\n",
    "# TTNO : Hamiltonian acting on in_legs\n",
    "H1 = Anisotropic_Heisenberg_ham(J_x, J_y, J_z, h_z, Lx, Ly)\n",
    "H1 = H1.pad_with_identities(ttn, symbolic= True)\n",
    "H = ptn.TTNO.from_hamiltonian(H1, ttn)\n",
    "\n",
    "# TTNO : Liouville operator \n",
    "X , Y , Z = ptn.pauli_matrices()\n",
    "L = (X - 1j * Y) / 2\n",
    "J = 1\n",
    "H1 = Liouville_Heisenberg(Lx, Ly, J_x, J_y, J_z, h_z, L, J)\n",
    "H1 = H1.pad_with_identities(ttn , symbolic= True)\n",
    "L_fancy = ptn.TTNO.from_hamiltonian(H1, ttn)\n",
    "\n",
    "# TTNO : Unitary operator\n",
    "H1 = Unitary(Lx, Ly, J_x, J_y, J_z, h_z)\n",
    "H1 = H1.pad_with_identities(ttn, symbolic= True)\n",
    "U = ptn.TTNO.from_hamiltonian(H1, ttn)\n",
    "\n",
    "M = Magnetization_op_total(Lx, Ly)\n",
    "M = M.pad_with_identities(ttn, symbolic= True)\n",
    "M = ptn.TTNO.from_hamiltonian(M, ttn)\n",
    "\n",
    "# ttn = ptn.normalize_ttn_Lindblad_4(ttn , 'Node(2,3)')\n",
    "I = ptn.TTNO.Identity(ttn)\n",
    "print(ttn.operator_expectation_value_Lindblad(I))\n",
    "print(ttn.operator_expectation_value_Lindblad(M) / ttn.operator_expectation_value_Lindblad(I))"
   ]
  },
  {
   "cell_type": "code",
   "execution_count": 931,
   "metadata": {},
   "outputs": [],
   "source": [
    "# Config : Lindblad = True\n",
    "# time_evolve with exponent = hamiltonian * time_difference\n",
    "# evaluate_operator with operator_expectation_value_Lindblad(operator)\n",
    "# normalize_ttn_Lindblad after each run_one_time_step_ex\n",
    "\n",
    "tdvp_ex1 = ptn.SecondOrderOneSiteTDVP(initial_state = ttn,\n",
    "                                     hamiltonian = L_fancy,\n",
    "                                     time_step_size = 0.01,\n",
    "                                     final_time = 4,\n",
    "                                     operators = M,\n",
    "                                     num_vecs = 3,\n",
    "                                     tau = 1e-3,\n",
    "                                     SVDParameters = ptn.SVDParameters(max_bond_dim = np.inf , rel_tol= -np.inf , total_tol = -np.inf),\n",
    "                                     expansion_steps = 50,\n",
    "                                     t3n_dict= {'Site(0,0)': 'Site(1,0)',\n",
    "                                                'Site(2,1)': 'Site(1,1)',\n",
    "                                                'Node(0,0)': 'Node(1,0)',\n",
    "                                                'Node(2,1)': 'Node(1,1)'},\n",
    "\n",
    "                                     Lanczos_threshold = np.inf,\n",
    "                                     k_fraction = 0.2, \n",
    "                                     validity_fraction = 1, \n",
    "                                     increase_fraction = 0.3,\n",
    "                                     max_iter = 1, \n",
    "\n",
    "                                     initial_tol= 1e-19,\n",
    "                                     tol_step= 50,\n",
    "                                     rel_tot_bond = 30,\n",
    "                                     max_bond= 220,\n",
    "                                     norm_tol = 0,\n",
    "                                     KrylovBasisMode = ptn.KrylovBasisMode.apply_1st_order_expansion,\n",
    "                                     config = ptn.TTNTimeEvolutionConfig(record_bond_dim=True,\n",
    "                                                                         Lindblad = True,\n",
    "                                                                         T3NS= False) )"
   ]
  },
  {
   "cell_type": "code",
   "execution_count": 932,
   "metadata": {},
   "outputs": [
    {
     "ename": "NameError",
     "evalue": "name 'v' is not defined",
     "output_type": "error",
     "traceback": [
      "\u001b[1;31m---------------------------------------------------------------------------\u001b[0m",
      "\u001b[1;31mNameError\u001b[0m                                 Traceback (most recent call last)",
      "Cell \u001b[1;32mIn[932], line 1\u001b[0m\n\u001b[1;32m----> 1\u001b[0m \u001b[43mv\u001b[49m\n",
      "\u001b[1;31mNameError\u001b[0m: name 'v' is not defined"
     ]
    }
   ],
   "source": [
    "v"
   ]
  },
  {
   "cell_type": "code",
   "execution_count": 121,
   "metadata": {},
   "outputs": [],
   "source": [
    "# Config : Lindblad = True\n",
    "# time_evolve with exponent = hamiltonian * time_difference\n",
    "# evaluate_operator with operator_expectation_value_Lindblad(operator)\n",
    "# normalize_ttn_Lindblad after each run_one_time_step_ex\n",
    "\n",
    "tdvp_ex1 = ptn.SecondOrderOneSiteTDVP(initial_state = ttn,\n",
    "                                     hamiltonian = L_fancy,\n",
    "                                     time_step_size = 0.001,\n",
    "                                     final_time = 4,\n",
    "                                     operators = M,\n",
    "                                     num_vecs = 3,\n",
    "                                     tau = 1e-3,\n",
    "                                     SVDParameters = ptn.SVDParameters(max_bond_dim = np.inf , rel_tol= -np.inf , total_tol = -np.inf),\n",
    "                                     expansion_steps = 100,\n",
    "                                     t3n_dict = {'Site(0,2)': 'Site(0,1)',\n",
    "                                                'Site(1,2)': 'Site(1,1)',\n",
    "                                                'Site(1,1)': 'Site(2,1)',\n",
    "                                                'Site(2,1)': 'Site(2,2)',\n",
    "                                                'Site(2,2)': 'Site(2,1)',\n",
    "                                                'Site(3,2)': 'Site(3,3)',\n",
    "\n",
    "                                                'Node(0,2)': 'Node(0,1)',\n",
    "                                                'Node(1,2)': 'Node(1,1)',\n",
    "                                                'Node(1,1)': 'Node(2,1)',\n",
    "                                                'Node(2,1)': 'Node(2,2)',\n",
    "                                                'Node(2,2)': 'Node(2,1)',\n",
    "                                                'Node(3,2)': 'Node(3,3)'},\n",
    "\n",
    "                                     Lanczos_threshold = np.inf,\n",
    "                                     k_fraction = 0.2, \n",
    "                                     validity_fraction = 1, \n",
    "                                     increase_fraction = 0.3,\n",
    "                                     max_iter = 1, \n",
    "\n",
    "                                     initial_tol= 1e-16,\n",
    "                                     tol_step= 5,\n",
    "                                     rel_tot_bond = 30,\n",
    "                                     max_bond= 220,\n",
    "                                     norm_tol = 0,\n",
    "                                     KrylovBasisMode = ptn.KrylovBasisMode.apply_1st_order_expansion,\n",
    "                                     config = ptn.TTNTimeEvolutionConfig(record_bond_dim=True,\n",
    "                                                                         Lindblad = True,\n",
    "                                                                         T3NS= False) )"
   ]
  },
  {
   "cell_type": "code",
   "execution_count": 122,
   "metadata": {},
   "outputs": [
    {
     "ename": "NameError",
     "evalue": "name 'c' is not defined",
     "output_type": "error",
     "traceback": [
      "\u001b[1;31m---------------------------------------------------------------------------\u001b[0m",
      "\u001b[1;31mNameError\u001b[0m                                 Traceback (most recent call last)",
      "Cell \u001b[1;32mIn[122], line 1\u001b[0m\n\u001b[1;32m----> 1\u001b[0m \u001b[43mc\u001b[49m\n",
      "\u001b[1;31mNameError\u001b[0m: name 'c' is not defined"
     ]
    }
   ],
   "source": [
    "c"
   ]
  },
  {
   "cell_type": "code",
   "execution_count": 21,
   "metadata": {},
   "outputs": [],
   "source": [
    "# Config : Lindblad = True\n",
    "# time_evolve with exponent = hamiltonian * time_difference\n",
    "# evaluate_operator with operator_expectation_value_Lindblad(operator)\n",
    "# normalize_ttn_Lindblad after each run_one_time_step_ex\n",
    "\n",
    "tdvp_ex1 = ptn.SecondOrderOneSiteTDVP(initial_state = ttn,\n",
    "                                     hamiltonian = L_fancy,\n",
    "                                     time_step_size = 0.001,\n",
    "                                     final_time = 4,\n",
    "                                     operators = M,\n",
    "                                     num_vecs = 3,\n",
    "                                     tau = 1e-3,\n",
    "                                     SVDParameters = ptn.SVDParameters(max_bond_dim = np.inf , rel_tol= -np.inf , total_tol = -np.inf),\n",
    "                                     expansion_steps = 200,\n",
    "                                     t3n_dict = {'Site(0,0)': 'Site(1,0)',\n",
    "                                                'Site(0,1)': 'Site(1,1)',\n",
    "                                                'Site(0,2)': 'Site(0,3)',\n",
    "                                                'Site(2,0)': 'Site(2,1)',\n",
    "                                                'Site(3,2)': 'Site(3,3)',\n",
    "                                                'Node(0,0)': 'Node(1,0)',\n",
    "                                                'Node(0,1)': 'Node(1,1)',\n",
    "                                                'Node(0,2)': 'Node(0,3)',\n",
    "                                                'Node(2,0)': 'Node(2,1)',\n",
    "                                                'Node(3,2)': 'Node(3,3)'},\n",
    "\n",
    "                                     Lanczos_threshold = np.inf,\n",
    "                                     k_fraction = 0.2, \n",
    "                                     validity_fraction = 1, \n",
    "                                     increase_fraction = 0.3,\n",
    "                                     max_iter = 1, \n",
    "\n",
    "                                     initial_tol= 1e-17,\n",
    "                                     tol_step= 10,\n",
    "                                     rel_tot_bond = 40,\n",
    "                                     max_bond= 220,\n",
    "                                     norm_tol = 0,\n",
    "                                     KrylovBasisMode = ptn.KrylovBasisMode.apply_1st_order_expansion,\n",
    "                                     config = ptn.TTNTimeEvolutionConfig(record_bond_dim=True,\n",
    "                                                                         Lindblad = True,\n",
    "                                                                         T3NS= False) )"
   ]
  },
  {
   "cell_type": "code",
   "execution_count": 98,
   "metadata": {},
   "outputs": [
    {
     "ename": "NameError",
     "evalue": "name 'stop' is not defined",
     "output_type": "error",
     "traceback": [
      "\u001b[1;31m---------------------------------------------------------------------------\u001b[0m",
      "\u001b[1;31mNameError\u001b[0m                                 Traceback (most recent call last)",
      "Cell \u001b[1;32mIn[98], line 1\u001b[0m\n\u001b[1;32m----> 1\u001b[0m \u001b[43mstop\u001b[49m\n",
      "\u001b[1;31mNameError\u001b[0m: name 'stop' is not defined"
     ]
    }
   ],
   "source": [
    "stop"
   ]
  },
  {
   "cell_type": "code",
   "execution_count": 915,
   "metadata": {},
   "outputs": [
    {
     "name": "stderr",
     "output_type": "stream",
     "text": [
      "  0%|          | 1/401 [00:00<01:01,  6.53it/s]"
     ]
    },
    {
     "name": "stdout",
     "output_type": "stream",
     "text": [
      "M : (9+0j)\n"
     ]
    },
    {
     "name": "stderr",
     "output_type": "stream",
     "text": [
      "  1%|          | 3/401 [00:00<00:55,  7.23it/s]"
     ]
    },
    {
     "name": "stdout",
     "output_type": "stream",
     "text": [
      "M : (8.999777527779584+9.243641206494384e-07j)\n"
     ]
    },
    {
     "name": "stderr",
     "output_type": "stream",
     "text": [
      "  1%|          | 5/401 [00:00<00:54,  7.26it/s]"
     ]
    },
    {
     "name": "stdout",
     "output_type": "stream",
     "text": [
      "M : (8.9990459252594+3.66735656998458e-06j)\n"
     ]
    },
    {
     "name": "stderr",
     "output_type": "stream",
     "text": [
      "  1%|▏         | 6/401 [00:00<00:54,  7.31it/s]"
     ]
    },
    {
     "name": "stdout",
     "output_type": "stream",
     "text": [
      "M : (8.99780437501646+9.334457370552692e-06j)\n"
     ]
    },
    {
     "name": "stderr",
     "output_type": "stream",
     "text": [
      "  2%|▏         | 9/401 [00:01<00:56,  6.96it/s]"
     ]
    },
    {
     "name": "stdout",
     "output_type": "stream",
     "text": [
      "M : (8.996081650803738+1.8133365377272353e-05j)\n"
     ]
    },
    {
     "name": "stderr",
     "output_type": "stream",
     "text": [
      "  3%|▎         | 11/401 [00:01<00:56,  6.94it/s]"
     ]
    },
    {
     "name": "stdout",
     "output_type": "stream",
     "text": [
      "M : (8.993924153341117+2.990890157992986e-05j)\n"
     ]
    },
    {
     "name": "stderr",
     "output_type": "stream",
     "text": [
      "  3%|▎         | 13/401 [00:02<01:06,  5.81it/s]"
     ]
    },
    {
     "name": "stdout",
     "output_type": "stream",
     "text": [
      "M : (8.991389149531697+4.418590647160953e-05j)\n"
     ]
    },
    {
     "name": "stderr",
     "output_type": "stream",
     "text": [
      "  4%|▎         | 15/401 [00:02<01:10,  5.50it/s]"
     ]
    },
    {
     "name": "stdout",
     "output_type": "stream",
     "text": [
      "M : (8.988536839611438+6.025156465890493e-05j)\n"
     ]
    },
    {
     "name": "stderr",
     "output_type": "stream",
     "text": [
      "  4%|▍         | 17/401 [00:02<01:11,  5.39it/s]"
     ]
    },
    {
     "name": "stdout",
     "output_type": "stream",
     "text": [
      "M : (8.985422090090422+7.727118816396358e-05j)\n"
     ]
    },
    {
     "name": "stderr",
     "output_type": "stream",
     "text": [
      "  5%|▍         | 19/401 [00:03<01:04,  5.91it/s]"
     ]
    },
    {
     "name": "stdout",
     "output_type": "stream",
     "text": [
      "M : (8.982086863131597+9.441496848728352e-05j)\n"
     ]
    },
    {
     "name": "stderr",
     "output_type": "stream",
     "text": [
      "  5%|▌         | 21/401 [00:03<01:07,  5.65it/s]"
     ]
    },
    {
     "name": "stdout",
     "output_type": "stream",
     "text": [
      "M : (8.978554285335667+0.0001109786035940253j)\n"
     ]
    },
    {
     "name": "stderr",
     "output_type": "stream",
     "text": [
      "  6%|▌         | 23/401 [00:03<01:20,  4.71it/s]"
     ]
    },
    {
     "name": "stdout",
     "output_type": "stream",
     "text": [
      "M : (8.97482498375886+0.00012646549817016062j)\n"
     ]
    },
    {
     "name": "stderr",
     "output_type": "stream",
     "text": [
      "  6%|▌         | 25/401 [00:04<01:07,  5.55it/s]"
     ]
    },
    {
     "name": "stdout",
     "output_type": "stream",
     "text": [
      "M : (8.97087594609493+0.00014061844367511267j)\n"
     ]
    },
    {
     "name": "stderr",
     "output_type": "stream",
     "text": [
      "  7%|▋         | 27/401 [00:04<00:56,  6.57it/s]"
     ]
    },
    {
     "name": "stdout",
     "output_type": "stream",
     "text": [
      "M : (8.966661812549898+0.00015339383380388156j)\n"
     ]
    },
    {
     "name": "stderr",
     "output_type": "stream",
     "text": [
      "  7%|▋         | 29/401 [00:04<00:53,  6.94it/s]"
     ]
    },
    {
     "name": "stdout",
     "output_type": "stream",
     "text": [
      "M : (8.962118229776848+0.00016488018272060745j)\n"
     ]
    },
    {
     "name": "stderr",
     "output_type": "stream",
     "text": [
      "  8%|▊         | 31/401 [00:05<00:51,  7.12it/s]"
     ]
    },
    {
     "name": "stdout",
     "output_type": "stream",
     "text": [
      "M : (8.957166665554627+0.00017518396504915236j)\n"
     ]
    },
    {
     "name": "stderr",
     "output_type": "stream",
     "text": [
      "  8%|▊         | 33/401 [00:05<00:51,  7.09it/s]"
     ]
    },
    {
     "name": "stdout",
     "output_type": "stream",
     "text": [
      "M : (8.951719836112426+0.00018434927164944005j)\n"
     ]
    },
    {
     "name": "stderr",
     "output_type": "stream",
     "text": [
      "  9%|▊         | 35/401 [00:05<00:48,  7.57it/s]"
     ]
    },
    {
     "name": "stdout",
     "output_type": "stream",
     "text": [
      "M : (8.945686707088944+0.00019242288419286582j)\n"
     ]
    },
    {
     "name": "stderr",
     "output_type": "stream",
     "text": [
      "  9%|▉         | 37/401 [00:05<00:47,  7.72it/s]"
     ]
    },
    {
     "name": "stdout",
     "output_type": "stream",
     "text": [
      "M : (8.938977618605694+0.00019961083824654194j)\n"
     ]
    },
    {
     "name": "stderr",
     "output_type": "stream",
     "text": [
      " 10%|▉         | 39/401 [00:06<00:45,  7.95it/s]"
     ]
    },
    {
     "name": "stdout",
     "output_type": "stream",
     "text": [
      "M : (8.931518595791932+0.00020552826423246817j)\n"
     ]
    },
    {
     "name": "stderr",
     "output_type": "stream",
     "text": [
      " 10%|█         | 41/401 [00:06<00:52,  6.81it/s]"
     ]
    },
    {
     "name": "stdout",
     "output_type": "stream",
     "text": [
      "M : (8.923271169689341+0.00020894415656133678j)\n"
     ]
    },
    {
     "name": "stderr",
     "output_type": "stream",
     "text": [
      " 11%|█         | 43/401 [00:06<00:58,  6.13it/s]"
     ]
    },
    {
     "name": "stdout",
     "output_type": "stream",
     "text": [
      "M : (8.91421682084891+0.00021112539138657766j)\n"
     ]
    },
    {
     "name": "stderr",
     "output_type": "stream",
     "text": [
      " 11%|█         | 45/401 [00:07<00:54,  6.52it/s]"
     ]
    },
    {
     "name": "stdout",
     "output_type": "stream",
     "text": [
      "M : (8.904346881806648+0.0002141798636890598j)\n"
     ]
    },
    {
     "name": "stderr",
     "output_type": "stream",
     "text": [
      " 12%|█▏        | 47/401 [00:07<01:05,  5.43it/s]"
     ]
    },
    {
     "name": "stdout",
     "output_type": "stream",
     "text": [
      "M : (8.893666865822828+0.00021862977979749345j)\n"
     ]
    },
    {
     "name": "stderr",
     "output_type": "stream",
     "text": [
      " 12%|█▏        | 49/401 [00:07<01:03,  5.50it/s]"
     ]
    },
    {
     "name": "stdout",
     "output_type": "stream",
     "text": [
      "M : (8.882193371882417+0.00022400932080950123j)\n"
     ]
    },
    {
     "name": "stderr",
     "output_type": "stream",
     "text": [
      " 12%|█▏        | 50/401 [00:08<01:04,  5.47it/s]"
     ]
    },
    {
     "name": "stdout",
     "output_type": "stream",
     "text": [
      "M : (8.869949853333107+0.00022954468230561347j)\n",
      "SVD MAX : 8\n",
      "tol : 1e-19\n"
     ]
    },
    {
     "name": "stderr",
     "output_type": "stream",
     "text": [
      " 13%|█▎        | 51/401 [00:10<04:55,  1.19it/s]"
     ]
    },
    {
     "name": "stdout",
     "output_type": "stream",
     "text": [
      "expanded_dim T3NS: 23\n",
      "T3NS: 80 ---> 103\n",
      "expanded_dim TTN: 23\n",
      "TTN: 56 ---> 79\n"
     ]
    },
    {
     "name": "stderr",
     "output_type": "stream",
     "text": [
      " 13%|█▎        | 52/401 [00:10<04:03,  1.44it/s]"
     ]
    },
    {
     "name": "stdout",
     "output_type": "stream",
     "text": [
      "M : (8.857026539405442+0.00023948878881575593j)\n"
     ]
    },
    {
     "name": "stderr",
     "output_type": "stream",
     "text": [
      " 13%|█▎        | 54/401 [00:11<03:05,  1.88it/s]"
     ]
    },
    {
     "name": "stdout",
     "output_type": "stream",
     "text": [
      "M : (8.843432176357522+0.00024804546320964627j)\n"
     ]
    },
    {
     "name": "stderr",
     "output_type": "stream",
     "text": [
      " 14%|█▍        | 56/401 [00:12<02:31,  2.28it/s]"
     ]
    },
    {
     "name": "stdout",
     "output_type": "stream",
     "text": [
      "M : (8.829039608522214+0.00025722752978439773j)\n"
     ]
    },
    {
     "name": "stderr",
     "output_type": "stream",
     "text": [
      " 14%|█▍        | 58/401 [00:12<01:59,  2.86it/s]"
     ]
    },
    {
     "name": "stdout",
     "output_type": "stream",
     "text": [
      "M : (8.81387576978665+0.0002660133879725625j)\n"
     ]
    },
    {
     "name": "stderr",
     "output_type": "stream",
     "text": [
      " 15%|█▍        | 60/401 [00:13<01:41,  3.35it/s]"
     ]
    },
    {
     "name": "stdout",
     "output_type": "stream",
     "text": [
      "M : (8.797963456020828+0.0002742609959589353j)\n"
     ]
    },
    {
     "name": "stderr",
     "output_type": "stream",
     "text": [
      " 15%|█▌        | 62/401 [00:13<01:32,  3.65it/s]"
     ]
    },
    {
     "name": "stdout",
     "output_type": "stream",
     "text": [
      "M : (8.781317481401494+0.00028239768851039885j)\n"
     ]
    },
    {
     "name": "stderr",
     "output_type": "stream",
     "text": [
      " 16%|█▌        | 64/401 [00:14<01:49,  3.08it/s]"
     ]
    },
    {
     "name": "stdout",
     "output_type": "stream",
     "text": [
      "M : (8.76393906230976+0.000291844789128183j)\n"
     ]
    },
    {
     "name": "stderr",
     "output_type": "stream",
     "text": [
      " 16%|█▋        | 66/401 [00:15<01:37,  3.45it/s]"
     ]
    },
    {
     "name": "stdout",
     "output_type": "stream",
     "text": [
      "M : (8.745812606832581+0.00030485780225611556j)\n"
     ]
    },
    {
     "name": "stderr",
     "output_type": "stream",
     "text": [
      " 17%|█▋        | 68/401 [00:15<01:36,  3.44it/s]"
     ]
    },
    {
     "name": "stdout",
     "output_type": "stream",
     "text": [
      "M : (8.72690652936772+0.0003225312265848428j)\n"
     ]
    },
    {
     "name": "stderr",
     "output_type": "stream",
     "text": [
      " 17%|█▋        | 70/401 [00:16<01:34,  3.51it/s]"
     ]
    },
    {
     "name": "stdout",
     "output_type": "stream",
     "text": [
      "M : (8.707173926478626+0.0003449294653832027j)\n"
     ]
    },
    {
     "name": "stderr",
     "output_type": "stream",
     "text": [
      " 18%|█▊        | 72/401 [00:16<01:32,  3.54it/s]"
     ]
    },
    {
     "name": "stdout",
     "output_type": "stream",
     "text": [
      "M : (8.686551048674486+0.0003755842474412621j)\n"
     ]
    },
    {
     "name": "stderr",
     "output_type": "stream",
     "text": [
      " 18%|█▊        | 74/401 [00:17<01:33,  3.49it/s]"
     ]
    },
    {
     "name": "stdout",
     "output_type": "stream",
     "text": [
      "M : (8.66496177705791+0.0004224309068977098j)\n"
     ]
    },
    {
     "name": "stderr",
     "output_type": "stream",
     "text": [
      " 19%|█▉        | 76/401 [00:17<01:34,  3.45it/s]"
     ]
    },
    {
     "name": "stdout",
     "output_type": "stream",
     "text": [
      "M : (8.642327731516147+0.0004885063604862438j)\n"
     ]
    },
    {
     "name": "stderr",
     "output_type": "stream",
     "text": [
      " 19%|█▉        | 78/401 [00:18<01:29,  3.62it/s]"
     ]
    },
    {
     "name": "stdout",
     "output_type": "stream",
     "text": [
      "M : (8.618571721100244+0.0005628326442264309j)\n"
     ]
    },
    {
     "name": "stderr",
     "output_type": "stream",
     "text": [
      " 20%|█▉        | 80/401 [00:18<01:26,  3.72it/s]"
     ]
    },
    {
     "name": "stdout",
     "output_type": "stream",
     "text": [
      "M : (8.59361640541374+0.0006308225420913691j)\n"
     ]
    },
    {
     "name": "stderr",
     "output_type": "stream",
     "text": [
      " 20%|██        | 82/401 [00:19<01:26,  3.70it/s]"
     ]
    },
    {
     "name": "stdout",
     "output_type": "stream",
     "text": [
      "M : (8.567389420788674+0.000682651521793647j)\n"
     ]
    },
    {
     "name": "stderr",
     "output_type": "stream",
     "text": [
      " 21%|██        | 84/401 [00:20<01:24,  3.77it/s]"
     ]
    },
    {
     "name": "stdout",
     "output_type": "stream",
     "text": [
      "M : (8.539825836123775+0.0007105532966532032j)\n"
     ]
    },
    {
     "name": "stderr",
     "output_type": "stream",
     "text": [
      " 21%|██▏       | 86/401 [00:20<01:22,  3.81it/s]"
     ]
    },
    {
     "name": "stdout",
     "output_type": "stream",
     "text": [
      "M : (8.510875044391536+0.0007061832016175777j)\n"
     ]
    },
    {
     "name": "stderr",
     "output_type": "stream",
     "text": [
      " 22%|██▏       | 88/401 [00:21<01:24,  3.72it/s]"
     ]
    },
    {
     "name": "stdout",
     "output_type": "stream",
     "text": [
      "M : (8.480525389602375+0.0006792044408964047j)\n"
     ]
    },
    {
     "name": "stderr",
     "output_type": "stream",
     "text": [
      " 22%|██▏       | 90/401 [00:21<01:25,  3.63it/s]"
     ]
    },
    {
     "name": "stdout",
     "output_type": "stream",
     "text": [
      "M : (8.448799016692226+0.0006775915114985712j)\n"
     ]
    },
    {
     "name": "stderr",
     "output_type": "stream",
     "text": [
      " 23%|██▎       | 92/401 [00:22<01:33,  3.32it/s]"
     ]
    },
    {
     "name": "stdout",
     "output_type": "stream",
     "text": [
      "M : (8.415714311069213+0.0007409640000635436j)\n"
     ]
    },
    {
     "name": "stderr",
     "output_type": "stream",
     "text": [
      " 23%|██▎       | 94/401 [00:22<01:30,  3.40it/s]"
     ]
    },
    {
     "name": "stdout",
     "output_type": "stream",
     "text": [
      "M : (8.381279887729054+0.0008673985033451005j)\n"
     ]
    },
    {
     "name": "stderr",
     "output_type": "stream",
     "text": [
      " 24%|██▍       | 96/401 [00:23<01:24,  3.62it/s]"
     ]
    },
    {
     "name": "stdout",
     "output_type": "stream",
     "text": [
      "M : (8.345502875595875+0.0010290904192873191j)\n"
     ]
    },
    {
     "name": "stderr",
     "output_type": "stream",
     "text": [
      " 24%|██▍       | 98/401 [00:23<01:23,  3.62it/s]"
     ]
    },
    {
     "name": "stdout",
     "output_type": "stream",
     "text": [
      "M : (8.30839590069693+0.0011910025685775655j)\n"
     ]
    },
    {
     "name": "stderr",
     "output_type": "stream",
     "text": [
      " 25%|██▍       | 100/401 [00:24<01:24,  3.56it/s]"
     ]
    },
    {
     "name": "stdout",
     "output_type": "stream",
     "text": [
      "M : (8.26997401463354+0.0013173154286534228j)\n"
     ]
    },
    {
     "name": "stderr",
     "output_type": "stream",
     "text": [
      " 25%|██▌       | 101/401 [00:24<01:27,  3.44it/s]"
     ]
    },
    {
     "name": "stdout",
     "output_type": "stream",
     "text": [
      "SVD MAX : 12\n",
      "tol : 1e-19\n",
      "expanded_dim_tot : 31\n",
      "1) tol 4.9999999999999996e-18\n"
     ]
    },
    {
     "name": "stderr",
     "output_type": "stream",
     "text": [
      " 25%|██▌       | 102/401 [00:34<15:53,  3.19s/it]"
     ]
    },
    {
     "name": "stdout",
     "output_type": "stream",
     "text": [
      "2) expanded_dim : 11\n",
      "expanded_dim T3NS: 11\n",
      "T3NS: 111 ---> 122\n",
      "expanded_dim TTN: 11\n",
      "TTN: 79 ---> 90\n",
      "M : (8.230247458281243+0.0013731356616958636j)\n"
     ]
    },
    {
     "name": "stderr",
     "output_type": "stream",
     "text": [
      " 26%|██▌       | 104/401 [00:35<09:02,  1.83s/it]"
     ]
    },
    {
     "name": "stdout",
     "output_type": "stream",
     "text": [
      "M : (8.189784356782349+0.0016210763131252201j)\n"
     ]
    },
    {
     "name": "stderr",
     "output_type": "stream",
     "text": [
      " 26%|██▋       | 106/401 [00:36<05:45,  1.17s/it]"
     ]
    },
    {
     "name": "stdout",
     "output_type": "stream",
     "text": [
      "M : (8.148477240717742+0.0016926330870028219j)\n"
     ]
    },
    {
     "name": "stderr",
     "output_type": "stream",
     "text": [
      " 27%|██▋       | 108/401 [00:37<04:05,  1.19it/s]"
     ]
    },
    {
     "name": "stdout",
     "output_type": "stream",
     "text": [
      "M : (8.106093245502162+0.0017759977582883617j)\n"
     ]
    },
    {
     "name": "stderr",
     "output_type": "stream",
     "text": [
      " 27%|██▋       | 110/401 [00:38<03:13,  1.50it/s]"
     ]
    },
    {
     "name": "stdout",
     "output_type": "stream",
     "text": [
      "M : (8.062579407808844+0.0018483756001233184j)\n"
     ]
    },
    {
     "name": "stderr",
     "output_type": "stream",
     "text": [
      " 28%|██▊       | 112/401 [00:40<02:49,  1.70it/s]"
     ]
    },
    {
     "name": "stdout",
     "output_type": "stream",
     "text": [
      "M : (8.017862223205968+0.0018717811466504267j)\n"
     ]
    },
    {
     "name": "stderr",
     "output_type": "stream",
     "text": [
      " 28%|██▊       | 114/401 [00:41<02:37,  1.82it/s]"
     ]
    },
    {
     "name": "stdout",
     "output_type": "stream",
     "text": [
      "M : (7.97183267307572+0.0017665862162200279j)\n"
     ]
    },
    {
     "name": "stderr",
     "output_type": "stream",
     "text": [
      " 29%|██▉       | 116/401 [00:42<02:35,  1.83it/s]"
     ]
    },
    {
     "name": "stdout",
     "output_type": "stream",
     "text": [
      "M : (7.924331514038437+0.0013682732485823198j)\n"
     ]
    },
    {
     "name": "stderr",
     "output_type": "stream",
     "text": [
      " 29%|██▉       | 118/401 [00:43<02:32,  1.86it/s]"
     ]
    },
    {
     "name": "stdout",
     "output_type": "stream",
     "text": [
      "M : (7.875184158711328+0.0004919667028551094j)\n"
     ]
    },
    {
     "name": "stderr",
     "output_type": "stream",
     "text": [
      " 30%|██▉       | 120/401 [00:44<02:29,  1.87it/s]"
     ]
    },
    {
     "name": "stdout",
     "output_type": "stream",
     "text": [
      "M : (7.824337141290199-0.0007548035418509867j)\n"
     ]
    },
    {
     "name": "stderr",
     "output_type": "stream",
     "text": [
      " 30%|███       | 122/401 [00:45<02:28,  1.88it/s]"
     ]
    },
    {
     "name": "stdout",
     "output_type": "stream",
     "text": [
      "M : (7.771852411844165-0.001965931119094856j)\n"
     ]
    },
    {
     "name": "stderr",
     "output_type": "stream",
     "text": [
      " 31%|███       | 124/401 [00:46<02:25,  1.91it/s]"
     ]
    },
    {
     "name": "stdout",
     "output_type": "stream",
     "text": [
      "M : (7.717900237099335-0.002914798102465421j)\n"
     ]
    },
    {
     "name": "stderr",
     "output_type": "stream",
     "text": [
      " 31%|███▏      | 126/401 [00:47<02:20,  1.96it/s]"
     ]
    },
    {
     "name": "stdout",
     "output_type": "stream",
     "text": [
      "M : (7.6629115606264016-0.003575152754057861j)\n"
     ]
    },
    {
     "name": "stderr",
     "output_type": "stream",
     "text": [
      " 32%|███▏      | 128/401 [00:48<02:19,  1.96it/s]"
     ]
    },
    {
     "name": "stdout",
     "output_type": "stream",
     "text": [
      "M : (7.607266878490171-0.0039237311850599j)\n"
     ]
    },
    {
     "name": "stderr",
     "output_type": "stream",
     "text": [
      " 32%|███▏      | 130/401 [00:49<02:17,  1.97it/s]"
     ]
    },
    {
     "name": "stdout",
     "output_type": "stream",
     "text": [
      "M : (7.55110189124036-0.003961392786675595j)\n"
     ]
    },
    {
     "name": "stderr",
     "output_type": "stream",
     "text": [
      " 33%|███▎      | 132/401 [00:50<02:15,  1.98it/s]"
     ]
    },
    {
     "name": "stdout",
     "output_type": "stream",
     "text": [
      "M : (7.494504793203426-0.0037520914613547274j)\n"
     ]
    },
    {
     "name": "stderr",
     "output_type": "stream",
     "text": [
      " 33%|███▎      | 134/401 [00:51<02:21,  1.89it/s]"
     ]
    },
    {
     "name": "stdout",
     "output_type": "stream",
     "text": [
      "M : (7.4376452207672665-0.0033823850624695234j)\n"
     ]
    },
    {
     "name": "stderr",
     "output_type": "stream",
     "text": [
      " 34%|███▍      | 136/401 [00:52<02:20,  1.89it/s]"
     ]
    },
    {
     "name": "stdout",
     "output_type": "stream",
     "text": [
      "M : (7.3807490951423-0.0029345369792430124j)\n"
     ]
    },
    {
     "name": "stderr",
     "output_type": "stream",
     "text": [
      " 34%|███▍      | 138/401 [00:53<02:16,  1.93it/s]"
     ]
    },
    {
     "name": "stdout",
     "output_type": "stream",
     "text": [
      "M : (7.32403420718936-0.002483293561255188j)\n"
     ]
    },
    {
     "name": "stderr",
     "output_type": "stream",
     "text": [
      " 35%|███▍      | 140/401 [00:54<02:16,  1.92it/s]"
     ]
    },
    {
     "name": "stdout",
     "output_type": "stream",
     "text": [
      "M : (7.267660653112912-0.0020985025020784477j)\n"
     ]
    },
    {
     "name": "stderr",
     "output_type": "stream",
     "text": [
      " 35%|███▌      | 142/401 [00:55<02:12,  1.95it/s]"
     ]
    },
    {
     "name": "stdout",
     "output_type": "stream",
     "text": [
      "M : (7.211713186926431-0.0018450549506911465j)\n"
     ]
    },
    {
     "name": "stderr",
     "output_type": "stream",
     "text": [
      " 36%|███▌      | 144/401 [00:56<02:14,  1.91it/s]"
     ]
    },
    {
     "name": "stdout",
     "output_type": "stream",
     "text": [
      "M : (7.156221731756719-0.001768568810007893j)\n"
     ]
    },
    {
     "name": "stderr",
     "output_type": "stream",
     "text": [
      " 36%|███▋      | 146/401 [00:57<02:14,  1.90it/s]"
     ]
    },
    {
     "name": "stdout",
     "output_type": "stream",
     "text": [
      "M : (7.101207962716738-0.0018479960809638044j)\n"
     ]
    },
    {
     "name": "stderr",
     "output_type": "stream",
     "text": [
      " 37%|███▋      | 148/401 [00:58<02:09,  1.96it/s]"
     ]
    },
    {
     "name": "stdout",
     "output_type": "stream",
     "text": [
      "M : (7.046712336891-0.0018951121540889933j)\n"
     ]
    },
    {
     "name": "stderr",
     "output_type": "stream",
     "text": [
      " 37%|███▋      | 150/401 [00:59<02:08,  1.95it/s]"
     ]
    },
    {
     "name": "stdout",
     "output_type": "stream",
     "text": [
      "M : (6.992710460095397-0.0014154727629370723j)\n"
     ]
    },
    {
     "name": "stderr",
     "output_type": "stream",
     "text": [
      " 38%|███▊      | 152/401 [01:00<02:08,  1.95it/s]"
     ]
    },
    {
     "name": "stdout",
     "output_type": "stream",
     "text": [
      "M : (6.938829752662157+0.0004438170816833759j)\n",
      "SVD MAX : 14\n",
      "tol : 4.9999999999999996e-18\n"
     ]
    },
    {
     "name": "stderr",
     "output_type": "stream",
     "text": [
      " 38%|███▊      | 153/401 [01:08<10:52,  2.63s/it]"
     ]
    },
    {
     "name": "stdout",
     "output_type": "stream",
     "text": [
      "expanded_dim T3NS: 40\n",
      "T3NS: 126 ---> 166\n",
      "expanded_dim TTN: 30\n",
      "TTN: 90 ---> 120\n"
     ]
    },
    {
     "name": "stderr",
     "output_type": "stream",
     "text": [
      " 38%|███▊      | 154/401 [01:13<13:44,  3.34s/it]"
     ]
    },
    {
     "name": "stdout",
     "output_type": "stream",
     "text": [
      "M : (6.863164358446996+0.001021423641218202j)\n"
     ]
    },
    {
     "name": "stderr",
     "output_type": "stream",
     "text": [
      " 39%|███▉      | 156/401 [01:23<17:06,  4.19s/it]"
     ]
    },
    {
     "name": "stdout",
     "output_type": "stream",
     "text": [
      "M : (6.771523004369663-0.0005091411264608345j)\n"
     ]
    },
    {
     "name": "stderr",
     "output_type": "stream",
     "text": [
      " 39%|███▉      | 158/401 [01:34<19:56,  4.92s/it]"
     ]
    },
    {
     "name": "stdout",
     "output_type": "stream",
     "text": [
      "M : (6.676845574330745-0.0005814359755225044j)\n"
     ]
    },
    {
     "name": "stderr",
     "output_type": "stream",
     "text": [
      " 40%|███▉      | 160/401 [01:46<21:28,  5.35s/it]"
     ]
    },
    {
     "name": "stdout",
     "output_type": "stream",
     "text": [
      "M : (6.578173364647424+0.0010138105788271127j)\n"
     ]
    },
    {
     "name": "stderr",
     "output_type": "stream",
     "text": [
      " 40%|████      | 162/401 [01:58<22:29,  5.65s/it]"
     ]
    },
    {
     "name": "stdout",
     "output_type": "stream",
     "text": [
      "M : (6.4750586086976+0.0045121511940131994j)\n"
     ]
    },
    {
     "name": "stderr",
     "output_type": "stream",
     "text": [
      " 41%|████      | 164/401 [02:08<21:35,  5.47s/it]"
     ]
    },
    {
     "name": "stdout",
     "output_type": "stream",
     "text": [
      "M : (6.367073133193942+0.010215197389371659j)\n"
     ]
    },
    {
     "name": "stderr",
     "output_type": "stream",
     "text": [
      " 41%|████▏     | 166/401 [02:22<24:31,  6.26s/it]"
     ]
    },
    {
     "name": "stdout",
     "output_type": "stream",
     "text": [
      "M : (6.2538788565163355+0.01836986117154674j)\n"
     ]
    },
    {
     "name": "stderr",
     "output_type": "stream",
     "text": [
      " 42%|████▏     | 167/401 [02:29<03:29,  1.12it/s]\n"
     ]
    },
    {
     "ename": "KeyboardInterrupt",
     "evalue": "",
     "output_type": "error",
     "traceback": [
      "\u001b[1;31m---------------------------------------------------------------------------\u001b[0m",
      "\u001b[1;31mKeyboardInterrupt\u001b[0m                         Traceback (most recent call last)",
      "Cell \u001b[1;32mIn[915], line 1\u001b[0m\n\u001b[1;32m----> 1\u001b[0m \u001b[43mtdvp_ex1\u001b[49m\u001b[38;5;241;43m.\u001b[39;49m\u001b[43mrun_ex\u001b[49m\u001b[43m(\u001b[49m\u001b[43mevaluation_time\u001b[49m\u001b[38;5;241;43m=\u001b[39;49m\u001b[38;5;241;43m2\u001b[39;49m\u001b[43m)\u001b[49m\n",
      "File \u001b[1;32mc:\\Users\\edpou\\Desktop\\Ed\\PyTreeNet-Project_05\\pytreenet\\time_evolution\\tdvp_algorithms\\secondorderonesite.py:351\u001b[0m, in \u001b[0;36mSecondOrderOneSiteTDVP.run_ex\u001b[1;34m(self, evaluation_time, filepath, pgbar)\u001b[0m\n\u001b[0;32m    349\u001b[0m \u001b[38;5;28mself\u001b[39m\u001b[38;5;241m.\u001b[39mpartial_tree_cache \u001b[38;5;241m=\u001b[39m PartialTreeCachDict()\n\u001b[0;32m    350\u001b[0m \u001b[38;5;28mself\u001b[39m\u001b[38;5;241m.\u001b[39m_init_partial_tree_cache() \n\u001b[1;32m--> 351\u001b[0m \u001b[38;5;28;43mself\u001b[39;49m\u001b[38;5;241;43m.\u001b[39;49m\u001b[43mrun_one_time_step_ex\u001b[49m\u001b[43m(\u001b[49m\u001b[43m)\u001b[49m \n\u001b[0;32m    353\u001b[0m \u001b[38;5;66;03m########### EXAPNSION ###########\u001b[39;00m\n\u001b[0;32m    354\u001b[0m before_ex_total_bond_ttn \u001b[38;5;241m=\u001b[39m \u001b[38;5;28mself\u001b[39m\u001b[38;5;241m.\u001b[39mstate\u001b[38;5;241m.\u001b[39mtotal_bond_dim()\n",
      "File \u001b[1;32mc:\\Users\\edpou\\Desktop\\Ed\\PyTreeNet-Project_05\\pytreenet\\time_evolution\\tdvp_algorithms\\secondorderonesite.py:290\u001b[0m, in \u001b[0;36mSecondOrderOneSiteTDVP.run_one_time_step_ex\u001b[1;34m(self)\u001b[0m\n\u001b[0;32m    282\u001b[0m \u001b[38;5;28;01mdef\u001b[39;00m \u001b[38;5;21mrun_one_time_step_ex\u001b[39m(\u001b[38;5;28mself\u001b[39m):\n\u001b[0;32m    283\u001b[0m \u001b[38;5;250m    \u001b[39m\u001b[38;5;124;03m\"\"\"\u001b[39;00m\n\u001b[0;32m    284\u001b[0m \u001b[38;5;124;03m    Run a single second order time step.\u001b[39;00m\n\u001b[0;32m    285\u001b[0m \u001b[38;5;124;03m    \u001b[39;00m\n\u001b[0;32m    286\u001b[0m \u001b[38;5;124;03m    This mean we run a full forward and a full backward sweep through the\u001b[39;00m\n\u001b[0;32m    287\u001b[0m \u001b[38;5;124;03m    tree.\u001b[39;00m\n\u001b[0;32m    288\u001b[0m \u001b[38;5;124;03m    \"\"\"\u001b[39;00m\n\u001b[1;32m--> 290\u001b[0m     \u001b[38;5;28;43mself\u001b[39;49m\u001b[38;5;241;43m.\u001b[39;49m\u001b[43mforward_sweep_ex\u001b[49m\u001b[43m(\u001b[49m\u001b[43m)\u001b[49m\n\u001b[0;32m    291\u001b[0m     \u001b[38;5;28mself\u001b[39m\u001b[38;5;241m.\u001b[39m_final_forward_update()\n\u001b[0;32m    292\u001b[0m     \u001b[38;5;28mself\u001b[39m\u001b[38;5;241m.\u001b[39mbackward_sweep()\n",
      "File \u001b[1;32mc:\\Users\\edpou\\Desktop\\Ed\\PyTreeNet-Project_05\\pytreenet\\time_evolution\\tdvp_algorithms\\secondorderonesite.py:280\u001b[0m, in \u001b[0;36mSecondOrderOneSiteTDVP.forward_sweep_ex\u001b[1;34m(self)\u001b[0m\n\u001b[0;32m    278\u001b[0m next_node_id \u001b[38;5;241m=\u001b[39m \u001b[38;5;28mself\u001b[39m\u001b[38;5;241m.\u001b[39morthogonalization_path[i][\u001b[38;5;241m0\u001b[39m]\n\u001b[0;32m    279\u001b[0m \u001b[38;5;66;03m# Update\u001b[39;00m\n\u001b[1;32m--> 280\u001b[0m \u001b[38;5;28;43mself\u001b[39;49m\u001b[38;5;241;43m.\u001b[39;49m\u001b[43m_update_forward_site_and_link\u001b[49m\u001b[43m(\u001b[49m\u001b[43mnode_id\u001b[49m\u001b[43m,\u001b[49m\u001b[43m \u001b[49m\u001b[43mnext_node_id\u001b[49m\u001b[43m)\u001b[49m\n",
      "File \u001b[1;32mc:\\Users\\edpou\\Desktop\\Ed\\PyTreeNet-Project_05\\pytreenet\\time_evolution\\tdvp_algorithms\\secondorderonesite.py:169\u001b[0m, in \u001b[0;36mSecondOrderOneSiteTDVP._update_forward_site_and_link\u001b[1;34m(self, node_id, next_node_id)\u001b[0m\n\u001b[0;32m    159\u001b[0m \u001b[38;5;250m\u001b[39m\u001b[38;5;124;03m\"\"\"\u001b[39;00m\n\u001b[0;32m    160\u001b[0m \u001b[38;5;124;03mRun the forward update with half time step.\u001b[39;00m\n\u001b[0;32m    161\u001b[0m \n\u001b[1;32m   (...)\u001b[0m\n\u001b[0;32m    166\u001b[0m \u001b[38;5;124;03m    next_node_id (str): The other node of the link to be updated.\u001b[39;00m\n\u001b[0;32m    167\u001b[0m \u001b[38;5;124;03m\"\"\"\u001b[39;00m\n\u001b[0;32m    168\u001b[0m \u001b[38;5;28;01massert\u001b[39;00m \u001b[38;5;28mself\u001b[39m\u001b[38;5;241m.\u001b[39mstate\u001b[38;5;241m.\u001b[39morthogonality_center_id \u001b[38;5;241m==\u001b[39m node_id\n\u001b[1;32m--> 169\u001b[0m \u001b[38;5;28;43mself\u001b[39;49m\u001b[38;5;241;43m.\u001b[39;49m\u001b[43m_update_site\u001b[49m\u001b[43m(\u001b[49m\u001b[43mnode_id\u001b[49m\u001b[43m,\u001b[49m\n\u001b[0;32m    170\u001b[0m \u001b[43m                  \u001b[49m\u001b[43mtime_step_factor\u001b[49m\u001b[38;5;241;43m=\u001b[39;49m\u001b[38;5;241;43m0.5\u001b[39;49m\u001b[43m)\u001b[49m\n\u001b[0;32m    171\u001b[0m \u001b[38;5;28mself\u001b[39m\u001b[38;5;241m.\u001b[39m_update_link(node_id, next_node_id,\n\u001b[0;32m    172\u001b[0m                   time_step_factor\u001b[38;5;241m=\u001b[39m\u001b[38;5;241m0.5\u001b[39m)\n",
      "File \u001b[1;32mc:\\Users\\edpou\\Desktop\\Ed\\PyTreeNet-Project_05\\pytreenet\\time_evolution\\tdvp_algorithms\\tdvp_algorithm.py:305\u001b[0m, in \u001b[0;36mTDVPAlgorithm._update_site\u001b[1;34m(self, node_id, time_step_factor)\u001b[0m\n\u001b[0;32m    295\u001b[0m \u001b[38;5;28;01mdef\u001b[39;00m \u001b[38;5;21m_update_site\u001b[39m(\u001b[38;5;28mself\u001b[39m, node_id: \u001b[38;5;28mstr\u001b[39m,\n\u001b[0;32m    296\u001b[0m                  time_step_factor: \u001b[38;5;28mfloat\u001b[39m \u001b[38;5;241m=\u001b[39m \u001b[38;5;241m1\u001b[39m):\n\u001b[0;32m    297\u001b[0m \u001b[38;5;250m    \u001b[39m\u001b[38;5;124;03m\"\"\"\u001b[39;00m\n\u001b[0;32m    298\u001b[0m \u001b[38;5;124;03m    Updates a single site using the effective Hamiltonian for that site.\u001b[39;00m\n\u001b[0;32m    299\u001b[0m \n\u001b[1;32m   (...)\u001b[0m\n\u001b[0;32m    303\u001b[0m \u001b[38;5;124;03m            multiplied with the internal time step size. Defaults to 1.\u001b[39;00m\n\u001b[0;32m    304\u001b[0m \u001b[38;5;124;03m    \"\"\"\u001b[39;00m\n\u001b[1;32m--> 305\u001b[0m     hamiltonian_eff_site \u001b[38;5;241m=\u001b[39m \u001b[38;5;28;43mself\u001b[39;49m\u001b[38;5;241;43m.\u001b[39;49m\u001b[43m_get_effective_site_hamiltonian\u001b[49m\u001b[43m(\u001b[49m\u001b[43mnode_id\u001b[49m\u001b[43m)\u001b[49m\n\u001b[0;32m    306\u001b[0m     psi \u001b[38;5;241m=\u001b[39m \u001b[38;5;28mself\u001b[39m\u001b[38;5;241m.\u001b[39mstate\u001b[38;5;241m.\u001b[39mtensors[node_id]\n\u001b[0;32m    307\u001b[0m     \u001b[38;5;28mself\u001b[39m\u001b[38;5;241m.\u001b[39mstate\u001b[38;5;241m.\u001b[39mtensors[node_id] \u001b[38;5;241m=\u001b[39m time_evolve(psi,\n\u001b[0;32m    308\u001b[0m                                               hamiltonian_eff_site,\n\u001b[0;32m    309\u001b[0m                                               \u001b[38;5;28mself\u001b[39m\u001b[38;5;241m.\u001b[39mtime_step_size \u001b[38;5;241m*\u001b[39m time_step_factor,\n\u001b[0;32m    310\u001b[0m                                               forward\u001b[38;5;241m=\u001b[39m\u001b[38;5;28;01mTrue\u001b[39;00m,\n\u001b[0;32m    311\u001b[0m                                               real\u001b[38;5;241m=\u001b[39m\u001b[38;5;28mself\u001b[39m\u001b[38;5;241m.\u001b[39mLindblad)\n",
      "File \u001b[1;32mc:\\Users\\edpou\\Desktop\\Ed\\PyTreeNet-Project_05\\pytreenet\\time_evolution\\tdvp_algorithms\\tdvp_algorithm.py:293\u001b[0m, in \u001b[0;36mTDVPAlgorithm._get_effective_site_hamiltonian\u001b[1;34m(self, node_id)\u001b[0m\n\u001b[0;32m    283\u001b[0m \u001b[38;5;250m\u001b[39m\u001b[38;5;124;03m\"\"\"\u001b[39;00m\n\u001b[0;32m    284\u001b[0m \u001b[38;5;124;03mObtains the effective site Hamiltonian as a matrix.\u001b[39;00m\n\u001b[0;32m    285\u001b[0m \n\u001b[1;32m   (...)\u001b[0m\n\u001b[0;32m    290\u001b[0m \u001b[38;5;124;03m    np.ndarray: The effective site Hamiltonian\u001b[39;00m\n\u001b[0;32m    291\u001b[0m \u001b[38;5;124;03m\"\"\"\u001b[39;00m\n\u001b[0;32m    292\u001b[0m tensor \u001b[38;5;241m=\u001b[39m \u001b[38;5;28mself\u001b[39m\u001b[38;5;241m.\u001b[39m_contract_all_except_node(node_id)\n\u001b[1;32m--> 293\u001b[0m \u001b[38;5;28;01mreturn\u001b[39;00m \u001b[43mtensor_matricisation_half\u001b[49m\u001b[43m(\u001b[49m\u001b[43mtensor\u001b[49m\u001b[43m)\u001b[49m\n",
      "File \u001b[1;32mc:\\Users\\edpou\\Desktop\\Ed\\PyTreeNet-Project_05\\pytreenet\\util\\tensor_util.py:100\u001b[0m, in \u001b[0;36mtensor_matricisation_half\u001b[1;34m(tensor)\u001b[0m\n\u001b[0;32m     98\u001b[0m output_legs \u001b[38;5;241m=\u001b[39m \u001b[38;5;28mtuple\u001b[39m(\u001b[38;5;28mrange\u001b[39m(\u001b[38;5;241m0\u001b[39m,tensor\u001b[38;5;241m.\u001b[39mndim\u001b[38;5;241m/\u001b[39m\u001b[38;5;241m/\u001b[39m\u001b[38;5;241m2\u001b[39m))\n\u001b[0;32m     99\u001b[0m input_legs \u001b[38;5;241m=\u001b[39m \u001b[38;5;28mtuple\u001b[39m(\u001b[38;5;28mrange\u001b[39m(tensor\u001b[38;5;241m.\u001b[39mndim\u001b[38;5;241m/\u001b[39m\u001b[38;5;241m/\u001b[39m\u001b[38;5;241m2\u001b[39m,tensor\u001b[38;5;241m.\u001b[39mndim))\n\u001b[1;32m--> 100\u001b[0m \u001b[38;5;28;01mreturn\u001b[39;00m \u001b[43mtensor_matricization\u001b[49m\u001b[43m(\u001b[49m\u001b[43mtensor\u001b[49m\u001b[43m,\u001b[49m\u001b[43m \u001b[49m\u001b[43moutput_legs\u001b[49m\u001b[43m,\u001b[49m\u001b[43m \u001b[49m\u001b[43minput_legs\u001b[49m\u001b[43m,\u001b[49m\n\u001b[0;32m    101\u001b[0m \u001b[43m                            \u001b[49m\u001b[43mcorrectly_ordered\u001b[49m\u001b[38;5;241;43m=\u001b[39;49m\u001b[38;5;28;43;01mTrue\u001b[39;49;00m\u001b[43m)\u001b[49m\n",
      "File \u001b[1;32mc:\\Users\\edpou\\Desktop\\Ed\\PyTreeNet-Project_05\\pytreenet\\util\\tensor_util.py:79\u001b[0m, in \u001b[0;36mtensor_matricization\u001b[1;34m(tensor, output_legs, input_legs, correctly_ordered)\u001b[0m\n\u001b[0;32m     77\u001b[0m output_dimension \u001b[38;5;241m=\u001b[39m prod(shape[\u001b[38;5;241m0\u001b[39m:\u001b[38;5;28mlen\u001b[39m(output_legs)])\n\u001b[0;32m     78\u001b[0m input_dimension \u001b[38;5;241m=\u001b[39m prod(shape[\u001b[38;5;28mlen\u001b[39m(output_legs):])\n\u001b[1;32m---> 79\u001b[0m matrix \u001b[38;5;241m=\u001b[39m \u001b[43mnp\u001b[49m\u001b[38;5;241;43m.\u001b[39;49m\u001b[43mreshape\u001b[49m\u001b[43m(\u001b[49m\u001b[43mtensor_correctly_ordered\u001b[49m\u001b[43m,\u001b[49m\n\u001b[0;32m     80\u001b[0m \u001b[43m                    \u001b[49m\u001b[43m(\u001b[49m\u001b[43moutput_dimension\u001b[49m\u001b[43m,\u001b[49m\u001b[43m \u001b[49m\u001b[43minput_dimension\u001b[49m\u001b[43m)\u001b[49m\u001b[43m)\u001b[49m\n\u001b[0;32m     81\u001b[0m \u001b[38;5;28;01mreturn\u001b[39;00m matrix\n",
      "File \u001b[1;32mc:\\Users\\edpou\\AppData\\Local\\Programs\\Python\\Python312\\Lib\\site-packages\\numpy\\core\\fromnumeric.py:285\u001b[0m, in \u001b[0;36mreshape\u001b[1;34m(a, newshape, order)\u001b[0m\n\u001b[0;32m    200\u001b[0m \u001b[38;5;129m@array_function_dispatch\u001b[39m(_reshape_dispatcher)\n\u001b[0;32m    201\u001b[0m \u001b[38;5;28;01mdef\u001b[39;00m \u001b[38;5;21mreshape\u001b[39m(a, newshape, order\u001b[38;5;241m=\u001b[39m\u001b[38;5;124m'\u001b[39m\u001b[38;5;124mC\u001b[39m\u001b[38;5;124m'\u001b[39m):\n\u001b[0;32m    202\u001b[0m \u001b[38;5;250m    \u001b[39m\u001b[38;5;124;03m\"\"\"\u001b[39;00m\n\u001b[0;32m    203\u001b[0m \u001b[38;5;124;03m    Gives a new shape to an array without changing its data.\u001b[39;00m\n\u001b[0;32m    204\u001b[0m \n\u001b[1;32m   (...)\u001b[0m\n\u001b[0;32m    283\u001b[0m \u001b[38;5;124;03m           [5, 6]])\u001b[39;00m\n\u001b[0;32m    284\u001b[0m \u001b[38;5;124;03m    \"\"\"\u001b[39;00m\n\u001b[1;32m--> 285\u001b[0m     \u001b[38;5;28;01mreturn\u001b[39;00m \u001b[43m_wrapfunc\u001b[49m\u001b[43m(\u001b[49m\u001b[43ma\u001b[49m\u001b[43m,\u001b[49m\u001b[43m \u001b[49m\u001b[38;5;124;43m'\u001b[39;49m\u001b[38;5;124;43mreshape\u001b[39;49m\u001b[38;5;124;43m'\u001b[39;49m\u001b[43m,\u001b[49m\u001b[43m \u001b[49m\u001b[43mnewshape\u001b[49m\u001b[43m,\u001b[49m\u001b[43m \u001b[49m\u001b[43morder\u001b[49m\u001b[38;5;241;43m=\u001b[39;49m\u001b[43morder\u001b[49m\u001b[43m)\u001b[49m\n",
      "File \u001b[1;32mc:\\Users\\edpou\\AppData\\Local\\Programs\\Python\\Python312\\Lib\\site-packages\\numpy\\core\\fromnumeric.py:59\u001b[0m, in \u001b[0;36m_wrapfunc\u001b[1;34m(obj, method, *args, **kwds)\u001b[0m\n\u001b[0;32m     56\u001b[0m     \u001b[38;5;28;01mreturn\u001b[39;00m _wrapit(obj, method, \u001b[38;5;241m*\u001b[39margs, \u001b[38;5;241m*\u001b[39m\u001b[38;5;241m*\u001b[39mkwds)\n\u001b[0;32m     58\u001b[0m \u001b[38;5;28;01mtry\u001b[39;00m:\n\u001b[1;32m---> 59\u001b[0m     \u001b[38;5;28;01mreturn\u001b[39;00m \u001b[43mbound\u001b[49m\u001b[43m(\u001b[49m\u001b[38;5;241;43m*\u001b[39;49m\u001b[43margs\u001b[49m\u001b[43m,\u001b[49m\u001b[43m \u001b[49m\u001b[38;5;241;43m*\u001b[39;49m\u001b[38;5;241;43m*\u001b[39;49m\u001b[43mkwds\u001b[49m\u001b[43m)\u001b[49m\n\u001b[0;32m     60\u001b[0m \u001b[38;5;28;01mexcept\u001b[39;00m \u001b[38;5;167;01mTypeError\u001b[39;00m:\n\u001b[0;32m     61\u001b[0m     \u001b[38;5;66;03m# A TypeError occurs if the object does have such a method in its\u001b[39;00m\n\u001b[0;32m     62\u001b[0m     \u001b[38;5;66;03m# class, but its signature is not identical to that of NumPy's. This\u001b[39;00m\n\u001b[1;32m   (...)\u001b[0m\n\u001b[0;32m     66\u001b[0m     \u001b[38;5;66;03m# Call _wrapit from within the except clause to ensure a potential\u001b[39;00m\n\u001b[0;32m     67\u001b[0m     \u001b[38;5;66;03m# exception has a traceback chain.\u001b[39;00m\n\u001b[0;32m     68\u001b[0m     \u001b[38;5;28;01mreturn\u001b[39;00m _wrapit(obj, method, \u001b[38;5;241m*\u001b[39margs, \u001b[38;5;241m*\u001b[39m\u001b[38;5;241m*\u001b[39mkwds)\n",
      "\u001b[1;31mKeyboardInterrupt\u001b[0m: "
     ]
    }
   ],
   "source": [
    "tdvp_ex1.run_ex(evaluation_time=2)\n"
   ]
  },
  {
   "cell_type": "code",
   "execution_count": 916,
   "metadata": {},
   "outputs": [
    {
     "data": {
      "text/plain": [
       "array([9.        +0.00000000e+00j, 8.99977753+9.24364121e-07j,\n",
       "       8.99904593+3.66735657e-06j, 8.99780438+9.33445737e-06j,\n",
       "       8.99608165+1.81333654e-05j, 8.99392415+2.99089016e-05j,\n",
       "       8.99138915+4.41859065e-05j, 8.98853684+6.02515647e-05j,\n",
       "       8.98542209+7.72711882e-05j, 8.98208686+9.44149685e-05j,\n",
       "       8.97855429+1.10978604e-04j, 8.97482498+1.26465498e-04j,\n",
       "       8.97087595+1.40618444e-04j, 8.96666181+1.53393834e-04j,\n",
       "       8.96211823+1.64880183e-04j, 8.95716667+1.75183965e-04j,\n",
       "       8.95171984+1.84349272e-04j, 8.94568671+1.92422884e-04j,\n",
       "       8.93897762+1.99610838e-04j, 8.9315186 +2.05528264e-04j,\n",
       "       8.92327117+2.08944157e-04j, 8.91421682+2.11125391e-04j,\n",
       "       8.90434688+2.14179864e-04j, 8.89366687+2.18629780e-04j,\n",
       "       8.88219337+2.24009321e-04j, 8.86994985+2.29544682e-04j,\n",
       "       8.85702654+2.39488789e-04j, 8.84343218+2.48045463e-04j,\n",
       "       8.82903961+2.57227530e-04j, 8.81387577+2.66013388e-04j,\n",
       "       8.79796346+2.74260996e-04j, 8.78131748+2.82397689e-04j,\n",
       "       8.76393906+2.91844789e-04j, 8.74581261+3.04857802e-04j,\n",
       "       8.72690653+3.22531227e-04j, 8.70717393+3.44929465e-04j,\n",
       "       8.68655105+3.75584247e-04j, 8.66496178+4.22430907e-04j,\n",
       "       8.64232773+4.88506360e-04j, 8.61857172+5.62832644e-04j,\n",
       "       8.59361641+6.30822542e-04j, 8.56738942+6.82651522e-04j,\n",
       "       8.53982584+7.10553297e-04j, 8.51087504+7.06183202e-04j,\n",
       "       8.48052539+6.79204441e-04j, 8.44879902+6.77591511e-04j,\n",
       "       8.41571431+7.40964000e-04j, 8.38127989+8.67398503e-04j,\n",
       "       8.34550288+1.02909042e-03j, 8.3083959 +1.19100257e-03j,\n",
       "       8.26997401+1.31731543e-03j, 8.23024746+1.37313566e-03j,\n",
       "       8.18978436+1.62107631e-03j, 8.14847724+1.69263309e-03j,\n",
       "       8.10609325+1.77599776e-03j, 8.06257941+1.84837560e-03j,\n",
       "       8.01786222+1.87178115e-03j, 7.97183267+1.76658622e-03j,\n",
       "       7.92433151+1.36827325e-03j, 7.87518416+4.91966703e-04j,\n",
       "       7.82433714-7.54803542e-04j, 7.77185241-1.96593112e-03j,\n",
       "       7.71790024-2.91479810e-03j, 7.66291156-3.57515275e-03j,\n",
       "       7.60726688-3.92373119e-03j, 7.55110189-3.96139279e-03j,\n",
       "       7.49450479-3.75209146e-03j, 7.43764522-3.38238506e-03j,\n",
       "       7.3807491 -2.93453698e-03j, 7.32403421-2.48329356e-03j,\n",
       "       7.26766065-2.09850250e-03j, 7.21171319-1.84505495e-03j,\n",
       "       7.15622173-1.76856881e-03j, 7.10120796-1.84799608e-03j,\n",
       "       7.04671234-1.89511215e-03j, 6.99271046-1.41547276e-03j,\n",
       "       6.93882975+4.43817082e-04j, 6.86316436+1.02142364e-03j,\n",
       "       6.771523  -5.09141126e-04j, 6.67684557-5.81435976e-04j,\n",
       "       6.57817336+1.01381058e-03j, 6.47505861+4.51215119e-03j,\n",
       "       6.36707313+1.02151974e-02j, 6.25387886+1.83698612e-02j,\n",
       "       0.        +0.00000000e+00j, 0.        +0.00000000e+00j,\n",
       "       0.        +0.00000000e+00j, 0.        +0.00000000e+00j,\n",
       "       0.        +0.00000000e+00j, 0.        +0.00000000e+00j,\n",
       "       0.        +0.00000000e+00j, 0.        +0.00000000e+00j,\n",
       "       0.        +0.00000000e+00j, 0.        +0.00000000e+00j,\n",
       "       0.        +0.00000000e+00j, 0.        +0.00000000e+00j,\n",
       "       0.        +0.00000000e+00j, 0.        +0.00000000e+00j,\n",
       "       0.        +0.00000000e+00j, 0.        +0.00000000e+00j,\n",
       "       0.        +0.00000000e+00j, 0.        +0.00000000e+00j,\n",
       "       0.        +0.00000000e+00j, 0.        +0.00000000e+00j,\n",
       "       0.        +0.00000000e+00j, 0.        +0.00000000e+00j,\n",
       "       0.        +0.00000000e+00j, 0.        +0.00000000e+00j,\n",
       "       0.        +0.00000000e+00j, 0.        +0.00000000e+00j,\n",
       "       0.        +0.00000000e+00j, 0.        +0.00000000e+00j,\n",
       "       0.        +0.00000000e+00j, 0.        +0.00000000e+00j,\n",
       "       0.        +0.00000000e+00j, 0.        +0.00000000e+00j,\n",
       "       0.        +0.00000000e+00j, 0.        +0.00000000e+00j,\n",
       "       0.        +0.00000000e+00j, 0.        +0.00000000e+00j,\n",
       "       0.        +0.00000000e+00j, 0.        +0.00000000e+00j,\n",
       "       0.        +0.00000000e+00j, 0.        +0.00000000e+00j,\n",
       "       0.        +0.00000000e+00j, 0.        +0.00000000e+00j,\n",
       "       0.        +0.00000000e+00j, 0.        +0.00000000e+00j,\n",
       "       0.        +0.00000000e+00j, 0.        +0.00000000e+00j,\n",
       "       0.        +0.00000000e+00j, 0.        +0.00000000e+00j,\n",
       "       0.        +0.00000000e+00j, 0.        +0.00000000e+00j,\n",
       "       0.        +0.00000000e+00j, 0.        +0.00000000e+00j,\n",
       "       0.        +0.00000000e+00j, 0.        +0.00000000e+00j,\n",
       "       0.        +0.00000000e+00j, 0.        +0.00000000e+00j,\n",
       "       0.        +0.00000000e+00j, 0.        +0.00000000e+00j,\n",
       "       0.        +0.00000000e+00j, 0.        +0.00000000e+00j,\n",
       "       0.        +0.00000000e+00j, 0.        +0.00000000e+00j,\n",
       "       0.        +0.00000000e+00j, 0.        +0.00000000e+00j,\n",
       "       0.        +0.00000000e+00j, 0.        +0.00000000e+00j,\n",
       "       0.        +0.00000000e+00j, 0.        +0.00000000e+00j,\n",
       "       0.        +0.00000000e+00j, 0.        +0.00000000e+00j,\n",
       "       0.        +0.00000000e+00j, 0.        +0.00000000e+00j,\n",
       "       0.        +0.00000000e+00j, 0.        +0.00000000e+00j,\n",
       "       0.        +0.00000000e+00j, 0.        +0.00000000e+00j,\n",
       "       0.        +0.00000000e+00j, 0.        +0.00000000e+00j,\n",
       "       0.        +0.00000000e+00j, 0.        +0.00000000e+00j,\n",
       "       0.        +0.00000000e+00j, 0.        +0.00000000e+00j,\n",
       "       0.        +0.00000000e+00j, 0.        +0.00000000e+00j,\n",
       "       0.        +0.00000000e+00j, 0.        +0.00000000e+00j,\n",
       "       0.        +0.00000000e+00j, 0.        +0.00000000e+00j,\n",
       "       0.        +0.00000000e+00j, 0.        +0.00000000e+00j,\n",
       "       0.        +0.00000000e+00j, 0.        +0.00000000e+00j,\n",
       "       0.        +0.00000000e+00j, 0.        +0.00000000e+00j,\n",
       "       0.        +0.00000000e+00j, 0.        +0.00000000e+00j,\n",
       "       0.        +0.00000000e+00j, 0.        +0.00000000e+00j,\n",
       "       0.        +0.00000000e+00j, 0.        +0.00000000e+00j,\n",
       "       0.        +0.00000000e+00j, 0.        +0.00000000e+00j,\n",
       "       0.        +0.00000000e+00j, 0.        +0.00000000e+00j,\n",
       "       0.        +0.00000000e+00j, 0.        +0.00000000e+00j,\n",
       "       0.        +0.00000000e+00j, 0.        +0.00000000e+00j,\n",
       "       0.        +0.00000000e+00j, 0.        +0.00000000e+00j,\n",
       "       0.        +0.00000000e+00j, 0.        +0.00000000e+00j,\n",
       "       0.        +0.00000000e+00j, 0.        +0.00000000e+00j,\n",
       "       0.        +0.00000000e+00j, 0.        +0.00000000e+00j,\n",
       "       0.        +0.00000000e+00j])"
      ]
     },
     "execution_count": 916,
     "metadata": {},
     "output_type": "execute_result"
    }
   ],
   "source": [
    "times = tdvp_ex1.times()\n",
    "tdvp_ex1.operator_results()[0]"
   ]
  },
  {
   "cell_type": "code",
   "execution_count": 883,
   "metadata": {},
   "outputs": [],
   "source": [
    "from qutip import *\n",
    "import numpy as np\n",
    "\n",
    "# Define coupling constants for anisotropy\n",
    "Jx = 0.9  # Coupling in x-direction\n",
    "Jy = 1  # Coupling in y-direction\n",
    "Jz = 1  # Coupling in z-direction\n",
    "\n",
    "gamma_relax = 1 # Relaxation rate\n",
    "# gamma_dephase = 1  # Dephasing rate\n",
    "\n",
    "# Lattice dimensions\n",
    "Nx = 3  # Number of sites along x-direction\n",
    "Ny = 3  # Number of sites along y-direction\n",
    "N = Nx * Ny  # Total number of sites\n",
    "\n",
    "# Precompute the spin operators for each site\n",
    "sx_list = []\n",
    "sy_list = []\n",
    "sz_list = []\n",
    "sigmam_list = []\n",
    "\n",
    "si = qeye(2)  # Identity operator for a single qubit\n",
    "for n in range(N):\n",
    "  # List of identity operators for all sites\n",
    "  op_list = [si] * N\n",
    "  # Sx operator at site n\n",
    "  op_list[n] = sigmax()\n",
    "  sx = tensor(op_list)\n",
    "  sx_list.append(sx)\n",
    "  \n",
    "  # Sy operator at site n\n",
    "  op_list[n] = sigmay()\n",
    "  sy = tensor(op_list)\n",
    "  sy_list.append(sy)\n",
    "  \n",
    "  # Sz operator at site n\n",
    "  op_list[n] = sigmaz()\n",
    "  sz = tensor(op_list)\n",
    "  sz_list.append(sz)\n",
    "  \n",
    "  # S- (lowering) operator at site n\n",
    "  op_list[n] = sigmam()\n",
    "  sigmam_op = tensor(op_list)\n",
    "  sigmam_list.append(sigmam_op)\n",
    "\n",
    "# Function to map 2D lattice coordinates (i, j) to a site index\n",
    "def site(i, j):\n",
    "  \"\"\"Return the site index for coordinates (i, j), with periodic boundaries.\"\"\"\n",
    "  return (i % Nx) + (j % Ny) * Nx\n",
    "\n",
    "# Initialize the Hamiltonian\n",
    "H = 0\n",
    "\n",
    "# Build the Hamiltonian by summing over nearest neighbors with periodic boundary conditions\n",
    "for i in range(Nx):\n",
    "  for j in range(Ny):\n",
    "      n = site(i, j)  # Current site index\n",
    "      # Right neighbor (periodic boundary)\n",
    "      n_right = site(i + 1, j)\n",
    "      # Interaction terms with the right neighbor\n",
    "      H += Jx * sx_list[n] * sx_list[n_right]\n",
    "      H += Jy * sy_list[n] * sy_list[n_right]\n",
    "      H += Jz * sz_list[n] * sz_list[n_right]\n",
    "      \n",
    "      # Up neighbor (periodic boundary)\n",
    "      n_up = site(i, j + 1)\n",
    "      # Interaction terms with the up neighbor\n",
    "      H += Jx * sx_list[n] * sx_list[n_up]\n",
    "      H += Jy * sy_list[n] * sy_list[n_up]\n",
    "      H += Jz * sz_list[n] * sz_list[n_up]\n",
    "      \n",
    "\n",
    "# Option 1: All spins up |000...0> (Eigenstate of Sz_total)\n",
    "psi0 = tensor([basis(2, 0) for _ in range(N)]).unit()\n",
    "\n",
    "# Option 2: All spins in superposition |+⟩ = (|0⟩ + |1⟩)/sqrt(2)\n",
    "# psi0 = tensor([(basis(2, 0) + basis(2, 1)).unit() for _ in range(N)])\n",
    "\n",
    "# Option 3: Half spins excited |111...1000...0>\n",
    "# psi0 = tensor([basis(2, 1) if n < N//2 else basis(2, 0) for n in range(N)]).unit()\n",
    "\n",
    "tlist = np.linspace(0, 10, 200)\n",
    "\n",
    "\n",
    "# Define collapse operators (for the Lindblad equation)\n",
    "# For example, include relaxation and dephasing at each site\n",
    "\n",
    "\n",
    "c_ops = []\n",
    "\n",
    "for n in range(N):\n",
    "  # a. Relaxation (spin flip down) using lowering operator S-\n",
    "  c_ops.append(np.sqrt(gamma_relax) * sigmam_list[n])\n",
    "  \n",
    "  # b. Optional: Dephasing using Sz operator\n",
    "  # Uncomment the following lines if you wish to include dephasing\n",
    "  # c_ops.append(np.sqrt(gamma_dephase) * sz_list[n])\n",
    "\n",
    "# Time points where we want the solution\n",
    "total_time = 4.0  # Total time in seconds\n",
    "time_step = 0.02  # Time step in seconds\n",
    "\n",
    "# Create the time list\n",
    "tlist = np.arange(0, total_time + time_step, time_step)  # Include the endpoint\n",
    "\n",
    "\n",
    "# Observables to calculate - for instance, total magnetization in z-direction\n",
    "sz_total = sum(sz_list)\n",
    "\n",
    "# Solve the master equation\n",
    "result = mesolve(\n",
    "  H,        # Hamiltonian\n",
    "  psi0,     # Initial state\n",
    "  tlist,    # Time list\n",
    "  c_ops,    # Collapse operators\n",
    "  [sz_total]  # List of observables\n",
    "  # , [sz_first, sz_last]  # Uncomment to track individual spins\n",
    ")\n",
    "\n",
    "# Extract expectation values\n",
    "magnetization_z = result.expect[0]\n"
   ]
  },
  {
   "cell_type": "code",
   "execution_count": 918,
   "metadata": {},
   "outputs": [
    {
     "name": "stderr",
     "output_type": "stream",
     "text": [
      "c:\\Users\\edpou\\AppData\\Local\\Programs\\Python\\Python312\\Lib\\site-packages\\matplotlib\\cbook.py:1699: ComplexWarning: Casting complex values to real discards the imaginary part\n",
      "  return math.isfinite(val)\n",
      "c:\\Users\\edpou\\AppData\\Local\\Programs\\Python\\Python312\\Lib\\site-packages\\matplotlib\\cbook.py:1345: ComplexWarning: Casting complex values to real discards the imaginary part\n",
      "  return np.asarray(x, float)\n"
     ]
    },
    {
     "data": {
      "text/plain": [
       "<matplotlib.legend.Legend at 0x241827a0620>"
      ]
     },
     "execution_count": 918,
     "metadata": {},
     "output_type": "execute_result"
    },
    {
     "data": {
      "image/png": "[encoded data removed]",
      "text/plain": [
       "<Figure size 500x500 with 1 Axes>"
      ]
     },
     "metadata": {},
     "output_type": "display_data"
    }
   ],
   "source": [
    "import matplotlib.pyplot as plt\n",
    "\n",
    "fig1, axs1 = plt.subplots(1, 1, sharex=True, figsize=(5, 5))\n",
    "\n",
    "colors = ['b', 'g', 'r', 'c', 'm', 'y']\n",
    "\n",
    "# Plot imaginary parts\n",
    "axs1.plot(magnetization_z, label=\"exact\", color=colors[0])\n",
    "axs1.plot( tdvp_ex1.operator_results()[0] , label=\"tdvp\", color=colors[1], linestyle='--')\n",
    "#axs1.plot( np.imag(tdvp_ex1.operator_results()[0]  ), label=\"tdvp\", color=colors[1], linestyle='--')\n",
    "\n",
    "\n",
    "\n",
    "\n",
    "# axs1.plot(results_N_ttn, label=\"N_ttn\")\n",
    "# axs1.plot(results_N_t3n, label=\"N_t3n\")\n",
    "\n",
    "axs1.set_xlabel(\"Time $t$\")\n",
    "axs1.set_ylabel(\" Mean Magnetization $\\\\langle S_z \\\\rangle$\")\n",
    "axs1.grid(True)\n",
    "axs1.legend()"
   ]
  },
  {
   "cell_type": "code",
   "execution_count": null,
   "metadata": {},
   "outputs": [],
   "source": []
  },
  {
   "cell_type": "code",
   "execution_count": null,
   "metadata": {},
   "outputs": [],
   "source": []
  },
  {
   "cell_type": "code",
   "execution_count": null,
   "metadata": {},
   "outputs": [],
   "source": []
  },
  {
   "cell_type": "code",
   "execution_count": 322,
   "metadata": {},
   "outputs": [
    {
     "name": "stderr",
     "output_type": "stream",
     "text": [
      "C:\\Users\\edpou\\AppData\\Local\\Temp\\ipykernel_16948\\2378592497.py:6: MatplotlibDeprecationWarning: The get_cmap function was deprecated in Matplotlib 3.7 and will be removed two minor releases later. Use ``matplotlib.colormaps[name]`` or ``matplotlib.colormaps.get_cmap(obj)`` instead.\n",
      "  cmap = get_cmap('tab20')  # Choose a colormap with more distinct colors\n"
     ]
    },
    {
     "data": {
      "image/png": "[encoded data removed]",
      "text/plain": [
       "<Figure size 2000x1600 with 4 Axes>"
      ]
     },
     "metadata": {},
     "output_type": "display_data"
    }
   ],
   "source": [
    "import matplotlib.pyplot as plt\n",
    "\n",
    "def get_distinct_colors(n):\n",
    "    \"\"\"Generates a list of n distinct, visually appealing colors using colormap cyclically.\"\"\"\n",
    "    from matplotlib.cm import get_cmap\n",
    "    cmap = get_cmap('tab20')  # Choose a colormap with more distinct colors\n",
    "    return [cmap(i / n) for i in range(n)]\n",
    "\n",
    "# Create a figure with a grid of subplots\n",
    "fig, axs = plt.subplots(2, 2, figsize=(20, 16))\n",
    "\n",
    "# Set a title for the entire figure\n",
    "plt.suptitle(\n",
    "    r'$\\hat{H}=\\sum_{\\langle i j\\rangle}\\left(J_x \\hat{X}_i \\hat{X}_j+J_y \\hat{Y}_i \\hat{Y}_j+J_z \\hat{Z}_i \\hat{Z}_j\\right)+\\sum_i h_z \\hat{Z}_i$' + '\\n' + \n",
    "    r'$(J_x,J_y,J_z,h_z,\\gamma) = (0.9, 1, 1, 0, 1) $' + '\\n' +\n",
    "    r'$time\\_step = 0.001$' + '\\n' +\n",
    "    r'$run\\ time = 45 min $',\n",
    "    fontsize=30, y=0.98\n",
    ")\n",
    "\n",
    "# Plot max bond dimension\n",
    "axs[0, 0].plot(tdvp_ex1.max_bond_dim, linewidth=3)\n",
    "axs[0, 0].set_xlabel(\"Time $t$\", fontsize=15)\n",
    "axs[0, 0].set_ylabel('Max Bond Dimension', fontsize=15)\n",
    "axs[0, 0].tick_params(axis='both', which='major', labelsize=20)\n",
    "axs[0, 0].grid(True)\n",
    "\n",
    "# Plot total bond dimension\n",
    "axs[0, 1].plot(tdvp_ex1.total_bond_dim, linewidth=3)\n",
    "axs[0, 1].set_xlabel(\"Time $t$\", fontsize=15)\n",
    "axs[0, 1].set_ylabel('Total Bond Dimension', fontsize=15)\n",
    "axs[0, 1].tick_params(axis='both', which='major', labelsize=20)\n",
    "axs[0, 1].grid(True)\n",
    "\n",
    "# Plot bond dimensions for each key\n",
    "colors = get_distinct_colors(len(tdvp_ex1.bond_dims))\n",
    "for i, (key, values) in enumerate(tdvp_ex1.bond_dims.items()):\n",
    "    x = list(range(len(values)))\n",
    "    axs[1, 0].plot(x, values, label=key, color=colors[i], linewidth=3)\n",
    "axs[1, 0].legend(title='Bond Dimensions', loc='upper left', bbox_to_anchor=(1, 1), fontsize=14, title_fontsize=16)\n",
    "axs[1, 0].set_xlabel(\"Time $t$\", fontsize=18)\n",
    "axs[1, 0].set_ylabel('Bond dimensions', fontsize=15)\n",
    "axs[1, 0].set_title('Time (timestep = 0.01)', fontsize=15)\n",
    "axs[1, 0].tick_params(axis='both', which='major', labelsize=15)\n",
    "plt.subplots_adjust(right=0.8)\n",
    "\n",
    "# Plot results_M\n",
    "axs[1, 1].plot(times , tdvp_ex1.operator_results()[0], label=\"Total Magnetization\", linewidth=3)\n",
    "axs[1, 1].set_xlabel(\"Time $t$\", fontsize=15)\n",
    "axs[1, 1].set_ylabel(\"Total Magnetization\", fontsize=15)\n",
    "axs[1, 1].grid(True)\n",
    "axs[1, 1].legend()\n",
    "\n",
    "# Adjust layout\n",
    "plt.tight_layout(rect=[0, 0, 1, 0.96])  # Adjust layout to make room for the title\n",
    "\n",
    "# Show the plot\n",
    "plt.show()\n"
   ]
  },
  {
   "cell_type": "markdown",
   "metadata": {},
   "source": []
  },
  {
   "cell_type": "code",
   "execution_count": 58,
   "metadata": {},
   "outputs": [],
   "source": [
    "### (0, 0): (2, 2, 2) --> (2, 2, 2, 2)\n",
    "\n",
    "shapes = {\n",
    "    (0, 0): (2, 2, 2),\n",
    "    (0, 1): (2, 2, 2),\n",
    "    (0, 2): (2, 2, 2, 2),\n",
    "    (0, 3): (2, 2),\n",
    "    (1, 0): (2, 2),\n",
    "    (1, 1): (2, 2, 2, 2),\n",
    "    (1, 2): (2, 2, 2, 2),\n",
    "    (1, 3): (2, 2),\n",
    "    (2, 0): (2, 2),\n",
    "    (2, 1): (2, 2, 2, 2),\n",
    "    (2, 2): (2, 2, 2, 2),\n",
    "    (2, 3): (2, 2),\n",
    "    (3, 0): (2, 2),\n",
    "    (3, 1): (2, 2, 2),\n",
    "    (3, 2): (2, 2, 2, 2),\n",
    "    (3, 3): (2, 2)\n",
    "}\n",
    "\n",
    "sites = {\n",
    "    (i, j): ptn.random_tensor_node(shapes[(i, j)], identifier=f\"Site({i},{j})\") for i in range(4) for j in range(4)\n",
    "}\n",
    "\n",
    "ttn = ptn.TreeTensorNetworkState()\n",
    "\n",
    "ttn.add_root(sites[(0, 0)][0], sites[(0, 0)][1])\n",
    "\n",
    "connections = [\n",
    "    ((0, 0), (0, 1), 0, 0),\n",
    "    ((0, 1), (0, 2), 1, 0),\n",
    "    ((0, 2), (0, 3), 1, 0),\n",
    "    ((0, 2), (1, 2), 2, 0),\n",
    "    ((1, 2), (1, 3), 1, 0),\n",
    "    ((1, 2), (1, 1), 2, 0),\n",
    "    ((1, 1), (1, 0), 1, 0),\n",
    "    ((1, 1), (2, 1), 2, 0),\n",
    "    ((2, 1), (2, 0), 1, 0),\n",
    "    ((2, 1), (2, 2), 2, 0),\n",
    "    ((2, 2), (2, 3), 1, 0),\n",
    "    ((2, 2), (3, 2), 2, 0),\n",
    "    ((3, 2), (3, 3), 1, 0),\n",
    "    ((3, 2), (3, 1), 2, 0),\n",
    "    ((3, 1), (3, 0), 1, 0),\n",
    "    ]\n",
    "\n",
    "for (parent, child, parent_leg, child_leg) in connections:\n",
    "    parent_id = f\"Site({parent[0]},{parent[1]})\"\n",
    "    child_id = f\"Site({child[0]},{child[1]})\"\n",
    "    ttn.add_child_to_parent(sites[child][0], sites[child][1], child_leg, parent_id, parent_leg)\n",
    "\n",
    "ttn = product_state(ttn , bond_dim= 4, physical_dim = 2)  \n",
    "\n",
    "nodes = {\n",
    "    (i, j): (ptn.Node(tensor=ttn.tensors[f\"Site({i},{j})\"].conj() , identifier=f\"Node({i},{j})\"), ttn.tensors[f\"Site({i},{j})\"].conj()) for i in range(4) for j in range(4)\n",
    "}\n",
    "\n",
    "ttn.add_child_to_parent(nodes[(0,0)][0], nodes[(0,0)][1], 1, \"Site(0,0)\", 1)\n",
    "\n",
    "### (0,0) : 0,1 --> 1,2\n",
    "\n",
    "connections = [\n",
    "    ((0, 0), (0, 1), 1, 0),\n",
    "    ((0, 1), (0, 2), 1, 0),\n",
    "    ((0, 2), (0, 3), 1, 0),\n",
    "    ((0, 2), (1, 2), 2, 0),\n",
    "    ((1, 2), (1, 3), 1, 0),\n",
    "    ((1, 2), (1, 1), 2, 0),\n",
    "    ((1, 1), (1, 0), 1, 0),\n",
    "    ((1, 1), (2, 1), 2, 0),\n",
    "    ((2, 1), (2, 0), 1, 0),\n",
    "    ((2, 1), (2, 2), 2, 0),\n",
    "    ((2, 2), (2, 3), 1, 0),\n",
    "    ((2, 2), (3, 2), 2, 0),\n",
    "    ((3, 2), (3, 3), 1, 0),\n",
    "    ((3, 2), (3, 1), 2, 0),\n",
    "    ((3, 1), (3, 0), 1, 0),\n",
    "    ]\n",
    "\n",
    "for (parent, child, parent_leg, child_leg) in connections:\n",
    "    parent_id = f\"Node({parent[0]},{parent[1]})\"\n",
    "    child_id = f\"Node({child[0]},{child[1]})\"\n",
    "    ttn.add_child_to_parent(nodes[child][0], nodes[child][1], child_leg, parent_id, parent_leg)"
   ]
  }
 ],
 "metadata": {
  "kernelspec": {
   "display_name": "Python 3",
   "language": "python",
   "name": "python3"
  },
  "language_info": {
   "codemirror_mode": {
    "name": "ipython",
    "version": 3
   },
   "file_extension": ".py",
   "mimetype": "text/x-python",
   "name": "python",
   "nbconvert_exporter": "python",
   "pygments_lexer": "ipython3",
   "version": "3.12.1"
  }
 },
 "nbformat": 4,
 "nbformat_minor": 2
}
