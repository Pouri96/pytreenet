{
 "cells": [
  {
   "cell_type": "code",
   "execution_count": 1,
   "metadata": {},
   "outputs": [],
   "source": [
    "import numpy as np\n",
    "import pytreenet as ptn\n",
    "from copy import deepcopy"
   ]
  },
  {
   "cell_type": "code",
   "execution_count": 2,
   "metadata": {},
   "outputs": [],
   "source": [
    "def BoseHubbard_ham(t, U, ttn):\n",
    "    # Generate bosonic operators\n",
    "    creation_op, annihilation_op, number_op = ptn.bosonic_operators()\n",
    "    \n",
    "    # Define conversion dictionary\n",
    "    conversion_dict = {\n",
    "        \"b^dagger\": creation_op,\n",
    "        \"b\": annihilation_op,\n",
    "        \"n\": number_op,\n",
    "        \"I2\": np.eye(2),\n",
    "        \"I4\": np.eye(4)\n",
    "    }\n",
    "    \n",
    "    # Add scaled operators to the dictionary\n",
    "    conversion_dict.update({\n",
    "        \"-t * b^dagger\": -t * creation_op,\n",
    "        \"-t * b\": -t * annihilation_op,\n",
    "        \"U * n * (n - 1)\": U * number_op @ (number_op - np.eye(2))\n",
    "    })\n",
    "    \n",
    "    # Define terms in the Hamiltonian\n",
    "    terms = []\n",
    "    \n",
    "    # Hopping terms\n",
    "    for identifier, node in ttn.nodes.items():\n",
    "        for child in node.children:\n",
    "            terms.append(ptn.TensorProduct({identifier: \"-t * b^dagger\", child: \"b\"}))\n",
    "            terms.append(ptn.TensorProduct({identifier: \"-t * b\", child: \"b^dagger\"}))\n",
    "    \n",
    "    # On-site interaction terms\n",
    "    for identifier, node in ttn.nodes.items():\n",
    "        terms.append(ptn.TensorProduct({identifier: \"U * n * (n - 1)\"}))\n",
    "    \n",
    "    # Construct and return the Hamiltonian\n",
    "    return ptn.Hamiltonian(terms, conversion_dict)\n",
    "\n",
    "def pad_ttn_with_zeros(ttn, bond_dim):\n",
    "    padded_ttn = deepcopy(ttn)\n",
    "    for node_id in padded_ttn.nodes.keys():\n",
    "        n = padded_ttn.tensors[node_id].ndim - 1\n",
    "        tensor = padded_ttn.tensors[node_id]\n",
    "        T = np.pad(tensor, n*((0, bond_dim-2),) + ((0, 0),))\n",
    "        padded_ttn.tensors[node_id] = T\n",
    "        padded_ttn.nodes[node_id].link_tensor(T)\n",
    "    return padded_ttn"
   ]
  },
  {
   "cell_type": "code",
   "execution_count": 10,
   "metadata": {},
   "outputs": [],
   "source": [
    "ttn1 = ptn.random_big_ttns_two_root_children()"
   ]
  },
  {
   "cell_type": "code",
   "execution_count": 7,
   "metadata": {},
   "outputs": [],
   "source": [
    "shapes = [(2,2,2),(2,2,2,2),(2,2),(2,2,2,2),\n",
    "        (2,2),(2,2,2),(2,2,2,2),(2,2,2,2),(2,2,2),(2,2),(2,2),(2,2),(2,2)]\n",
    "\n",
    "nodes = [ptn.random_tensor_node(shape, identifier=\"site\"+str(i))\n",
    "        for i, shape in enumerate(shapes)]\n",
    "ttn1 = ptn.TreeTensorNetworkState()\n",
    "ttn1.add_root(nodes[0][0], nodes[0][1])\n",
    "ttn1.add_child_to_parent(nodes[1][0],nodes[1][1],0,\"site0\",0)\n",
    "ttn1.add_child_to_parent(nodes[2][0],nodes[2][1],0,\"site1\",1)\n",
    "ttn1.add_child_to_parent(nodes[3][0],nodes[3][1],0,\"site1\",2)\n",
    "ttn1.add_child_to_parent(nodes[4][0],nodes[4][1],0,\"site3\",1)\n",
    "ttn1.add_child_to_parent(nodes[5][0],nodes[5][1],0,\"site3\",2)\n",
    "ttn1.add_child_to_parent(nodes[6][0],nodes[6][1],0,\"site0\",1)\n",
    "ttn1.add_child_to_parent(nodes[7][0],nodes[7][1],0,\"site6\",1)\n",
    "ttn1.add_child_to_parent(nodes[8][0],nodes[8][1],0,\"site7\",1)\n",
    "ttn1.add_child_to_parent(nodes[9][0],nodes[9][1],0,\"site8\",1)\n",
    "ttn1.add_child_to_parent(nodes[10][0],nodes[10][1],0,\"site5\",1)\n",
    "ttn1.add_child_to_parent(nodes[11][0],nodes[11][1],0,\"site7\",2)\n",
    "ttn1.add_child_to_parent(nodes[12][0],nodes[12][1],0,\"site6\",2)\n",
    "\n",
    "ttn1.normalize_ttn()\n",
    "\n",
    "H1 = BoseHubbard_ham(4, 5, ttn1)\n",
    "# H1 = H1.pad_with_identities(ttn1 , symbolic= True)\n",
    "ttno = ptn.TTNO.from_hamiltonian(H1, ttn1)\n",
    "\n",
    "possible_operators = [ptn.random_hermitian_matrix(2) for _ in range(6)] \n",
    "tp = ptn.random_tensor_product(ref_tree= ttn1,\n",
    "                                num_operators= 8,\n",
    "                                possible_operators= possible_operators,\n",
    "                                factor= 40)"
   ]
  },
  {
   "cell_type": "code",
   "execution_count": 4,
   "metadata": {},
   "outputs": [
    {
     "name": "stdout",
     "output_type": "stream",
     "text": [
      "['site0', 'site1', 'site2', 'site3', 'site4', 'site5', 'site10', 'site6', 'site7', 'site8', 'site9', 'site11', 'site12']\n"
     ]
    }
   ],
   "source": [
    "initial_state , state_order = ttn1.completely_contract_tree(tp)\n",
    "initial_state_vector = initial_state.reshape(-1)\n",
    "\n",
    "hamiltonian , ham_order = ttno.completely_contract_tree(tp)\n",
    "print(ham_order)\n",
    "\n",
    "hamiltonian = np.transpose(hamiltonian,(0,2,4,6,8,10,14,16,18,20,12,22,24,1,3,5,7,9,11,15,17,19,21,13,23,25))\n",
    "hamiltonian_matrix = np.reshape(hamiltonian,(2**13,2**13))\n",
    "\n",
    "tp = tp.pad_with_identities(ttn1, symbolic= False)\n",
    "operators = tp.into_operator( order = ham_order) \n",
    "operators = operators.operator"
   ]
  },
  {
   "cell_type": "code",
   "execution_count": null,
   "metadata": {},
   "outputs": [],
   "source": [
    "exact = ptn.ExactTimeEvolution(initial_state = initial_state_vector, \n",
    "                               hamiltonian = hamiltonian_matrix, \n",
    "                               time_step_size = 0.001,\n",
    "                               final_time= 0.1,\n",
    "                               operators= operators)\n",
    "\n",
    "exact.run(evaluation_time=2)\n",
    "\n",
    "times = exact.times()\n",
    "exact_results = exact.operator_results(realise=True)[0]"
   ]
  },
  {
   "cell_type": "code",
   "execution_count": null,
   "metadata": {},
   "outputs": [],
   "source": [
    "tdvp = ptn.SecondOrderTwoSiteTDVP(initial_state = ttn1,\n",
    "                                  hamiltonian = ttno,\n",
    "                                  time_step_size = 0.001,\n",
    "                                  final_time = 0.1,\n",
    "                                  operators = tp,\n",
    "                                  truncation_parameters= ptn.SVDParameters(max_bond_dim= np.inf, rel_tol= 0.0001, total_tol= -np.inf),\n",
    "                                  config = None)"
   ]
  },
  {
   "cell_type": "code",
   "execution_count": null,
   "metadata": {},
   "outputs": [
    {
     "name": "stderr",
     "output_type": "stream",
     "text": [
      "100%|██████████| 101/101 [00:08<00:00, 11.23it/s]\n"
     ]
    }
   ],
   "source": [
    "tdvp.run(evaluation_time=2)\n",
    "\n",
    "times = tdvp.times()\n",
    "tdvp_results = tdvp.operator_results(realise=True)[0]"
   ]
  },
  {
   "cell_type": "code",
   "execution_count": null,
   "metadata": {},
   "outputs": [
    {
     "data": {
      "image/png": "[encoded data removed]",
      "text/plain": [
       "<Figure size 500x500 with 1 Axes>"
      ]
     },
     "metadata": {},
     "output_type": "display_data"
    }
   ],
   "source": [
    "import matplotlib.pyplot as plt\n",
    "\n",
    "fig1, axs1 = plt.subplots(1, 1, sharex=True, figsize=(5, 5))\n",
    "\n",
    "# First plot\n",
    "axs1.plot(times, exact_results, label='exact')\n",
    "axs1.plot(times, tdvp_results, label='tdvp')\n",
    "\n",
    "axs1.set_xlabel(\"Time $t$\")\n",
    "axs1.set_ylabel(\"<O>\")\n",
    "axs1.set_title(\"TDVP vs exact\")\n",
    "\n",
    "# Add a legend to distinguish between the two plots\n",
    "axs1.legend()\n",
    "\n",
    "plt.show()"
   ]
  }
 ],
 "metadata": {
  "kernelspec": {
   "display_name": "Python 3",
   "language": "python",
   "name": "python3"
  },
  "language_info": {
   "codemirror_mode": {
    "name": "ipython",
    "version": 3
   },
   "file_extension": ".py",
   "mimetype": "text/x-python",
   "name": "python",
   "nbconvert_exporter": "python",
   "pygments_lexer": "ipython3",
   "version": "3.12.1"
  }
 },
 "nbformat": 4,
 "nbformat_minor": 2
}
