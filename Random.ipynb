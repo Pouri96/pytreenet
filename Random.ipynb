{
 "cells": [
  {
   "cell_type": "code",
   "execution_count": 1,
   "metadata": {},
   "outputs": [],
   "source": [
    "import numpy as np\n",
    "import pytreenet as ptn\n",
    "from copy import deepcopy"
   ]
  },
  {
   "cell_type": "markdown",
   "metadata": {},
   "source": [
    "# random_hamiltonian"
   ]
  },
  {
   "cell_type": "code",
   "execution_count": 2,
   "metadata": {},
   "outputs": [],
   "source": [
    "ttn = ptn.random_big_ttns_two_root_children(mode= ptn.RandomTTNSMode.DIFFVIRT)"
   ]
  },
  {
   "cell_type": "code",
   "execution_count": 46,
   "metadata": {},
   "outputs": [
    {
     "name": "stdout",
     "output_type": "stream",
     "text": [
      "(256, 256) ['site0', 'site1', 'site2', 'site3', 'site4', 'site5', 'site6', 'site7']\n",
      "(2, 2, 2, 2, 2, 2, 2, 2, 2, 2, 2, 2, 2, 2, 2, 2) ['site0', 'site1', 'site2', 'site3', 'site4', 'site5', 'site6', 'site7']\n"
     ]
    }
   ],
   "source": [
    "X , Y , Z = ptn.pauli_matrices()\n",
    "possible_operators = [X, X@Y, Z@X, Z, Y, X@Y , Z@Z, Y@X, Z@Y ] \n",
    "\n",
    "H = ptn.random_hamiltonian(num_of_terms= 5,\n",
    "                           possible_operators= possible_operators,\n",
    "                           tree= ttn,\n",
    "                           strength = (-2,5),\n",
    "                           num_sites = (1,4))\n",
    "H = H.pad_with_identities(ttn , symbolic= False)\n",
    "\n",
    "H_op = H.to_matrix(ttn) # order = list(ttn.nodes.keys())\n",
    "print(H_op.operator.shape , H_op.node_identifiers)\n",
    "H_tn = H.to_tensor(ttn)\n",
    "print(H_tn.operator.shape , H_tn.node_identifiers)\n"
   ]
  },
  {
   "cell_type": "code",
   "execution_count": 40,
   "metadata": {},
   "outputs": [],
   "source": [
    "possible_operators = [\"X\", \"Y\", \"Z\"]\n",
    "H = ptn.random_hamiltonian(num_of_terms= 5,\n",
    "                           possible_operators= possible_operators,\n",
    "                           tree= ttn,\n",
    "                           strength = (-2,5),\n",
    "                           num_sites = (1,4),\n",
    "                           conversion_dict= {\"X\": X, \"Y\": Y, \"Z\": Z , \"I2\": np.eye(2)})\n",
    "H = H.pad_with_identities(ttn , symbolic= True)\n",
    "\n",
    "random_ttno = ptn.TTNO.from_hamiltonian(H, ttn)"
   ]
  },
  {
   "cell_type": "markdown",
   "metadata": {},
   "source": [
    "# random_tensor_product"
   ]
  },
  {
   "cell_type": "code",
   "execution_count": 47,
   "metadata": {},
   "outputs": [],
   "source": [
    "possible_operators = [X, X@Y, Z@X, Z, Y, X@Y , Z@Z, Y@X, Z@Y ] \n",
    "random_numeric_tp = ptn.random_tensor_product(ref_tree= ttn,\n",
    "                                              num_operators= 5,\n",
    "                                              possible_operators= possible_operators,\n",
    "                                              factor= 1)   \n",
    "H = ptn.Hamiltonian(random_numeric_tp)\n",
    "H = H.pad_with_identities(ttn)"
   ]
  },
  {
   "cell_type": "code",
   "execution_count": 23,
   "metadata": {},
   "outputs": [],
   "source": [
    "possible_operators = [\"X\", \"Y\", \"Z\"]\n",
    "random_symbolic_tp = ptn.random_tensor_product(ref_tree= ttn,\n",
    "                                              num_operators= 3,\n",
    "                                              possible_operators= possible_operators,\n",
    "                                              factor= 1) \n",
    "\n",
    "tp_list_symbolic = [ptn.random_tensor_product(ttn,3,[\"A\",\"B\",\"C\",\"D\"]) for _ in range(5)] \n",
    "conversion_dictionary = {\"A\": ptn.random_hermitian_matrix(2),\n",
    "                         \"B\": ptn.random_hermitian_matrix(2),\n",
    "                         \"C\": ptn.random_hermitian_matrix(2),\n",
    "                         \"D\": ptn.random_hermitian_matrix(2),\n",
    "                         \"I2\": np.eye(2)}\n",
    "\n",
    "H = ptn.Hamiltonian(tp_list_symbolic, conversion_dictionary=conversion_dictionary)\n",
    "H = H.pad_with_identities(ttn)\n",
    "random_ttno = ptn.TTNO.from_hamiltonian(H, ttn)   "
   ]
  },
  {
   "cell_type": "code",
   "execution_count": null,
   "metadata": {},
   "outputs": [],
   "source": [
    "def Heisenberg_ham(J, ttn):\n",
    "\n",
    "    paulis = [\"X\", \"Y\", \"Z\"]\n",
    "    pauli_ops = ptn.pauli_matrices()\n",
    "    terms = []\n",
    "    conversion_dict = {\"I2\" : np.eye(2)}\n",
    "    for i, operator in enumerate(pauli_ops):\n",
    "        conversion_dict[paulis[i]] = operator\n",
    "        conversion_dict[\"-J\" + paulis[i]] = J * operator\n",
    "\n",
    "    for identifier, node in ttn.nodes.items():\n",
    "        for child in node.children:\n",
    "            for pauli in paulis:\n",
    "                terms.append(ptn.TensorProduct({identifier: \"-J\" + pauli,\n",
    "                                        child: pauli}))\n",
    "    return ptn.Hamiltonian(terms, conversion_dict) \n",
    "\n",
    "def XY_ham(J, h, ttn1):\n",
    "    pauli_ops = ptn.pauli_matrices()\n",
    "    terms = []\n",
    "    conversion_dict = {\"I2\": np.eye(2)}\n",
    "    \n",
    "    # X-X and Y-Y interactions\n",
    "    for i, pauli in enumerate([\"X\", \"Y\"]):\n",
    "        conversion_dict[pauli] = pauli_ops[i]\n",
    "        conversion_dict[f\"-J{pauli}\"] = J * pauli_ops[i]\n",
    "    \n",
    "    # Transverse field (usually in Z direction for XY model)\n",
    "    conversion_dict[\"-hZ\"] = h * pauli_ops[2]\n",
    "\n",
    "    # X-X and Y-Y interactions between connected sites\n",
    "    for identifier, node in ttn1.nodes.items():\n",
    "        for child in node.children:\n",
    "            terms.append(ptn.TensorProduct({identifier: \"-JX\", child: \"X\"}))\n",
    "            terms.append(ptn.TensorProduct({identifier: \"-JY\", child: \"Y\"}))\n",
    "    \n",
    "    # Transverse field terms for each site\n",
    "    for identifier in ttn1.nodes:\n",
    "        terms.append(ptn.TensorProduct({identifier: \"-hZ\"}))\n",
    "\n",
    "    return ptn.Hamiltonian(terms, conversion_dict)\n",
    "\n",
    "def ZZ_ham(J, h, ttn1):\n",
    "    pauli_ops = ptn.pauli_matrices()\n",
    "    terms = []\n",
    "    conversion_dict = {\"I2\": np.eye(2)}\n",
    "    \n",
    "    # Z-Z interaction\n",
    "    conversion_dict[\"Z\"] = pauli_ops[2]\n",
    "    conversion_dict[\"-JZ\"] = J * pauli_ops[2]\n",
    "    \n",
    "    # Transverse field\n",
    "    conversion_dict[\"-hX\"] = h * pauli_ops[0]\n",
    "\n",
    "    # Z-Z interactions between connected sites\n",
    "    for identifier, node in ttn1.nodes.items():\n",
    "        for child in node.children:\n",
    "            terms.append(ptn.TensorProduct({identifier: \"-JZ\", child: \"Z\"}))\n",
    "    \n",
    "    # Transverse field terms for each site\n",
    "    for identifier in ttn1.nodes:\n",
    "        terms.append(ptn.TensorProduct({identifier: \"-hX\"}))\n",
    "\n",
    "    return ptn.Hamiltonian(terms, conversion_dict)\n",
    "\n",
    "def ZZ_ham(J, h, ttn1):\n",
    "    pauli_ops = ptn.pauli_matrices()\n",
    "    terms = []\n",
    "    conversion_dict = {\"I2\": np.eye(2)}\n",
    "    \n",
    "    # Z-Z interaction\n",
    "    conversion_dict[\"Z\"] = pauli_ops[2]\n",
    "    conversion_dict[\"-JZ\"] = J * pauli_ops[2]\n",
    "    \n",
    "    # Transverse field\n",
    "    conversion_dict[\"-hX\"] = h * pauli_ops[0]\n",
    "\n",
    "    # Z-Z interactions between connected sites\n",
    "    for identifier, node in ttn1.nodes.items():\n",
    "        for child in node.children:\n",
    "            terms.append(ptn.TensorProduct({identifier: \"-JZ\", child: \"Z\"}))\n",
    "    \n",
    "    # Transverse field terms for each site\n",
    "    for identifier in ttn1.nodes:\n",
    "        terms.append(ptn.TensorProduct({identifier: \"-hX\"}))\n",
    "\n",
    "    return ptn.Hamiltonian(terms, conversion_dict)\n"
   ]
  }
 ],
 "metadata": {
  "kernelspec": {
   "display_name": "Python 3",
   "language": "python",
   "name": "python3"
  },
  "language_info": {
   "codemirror_mode": {
    "name": "ipython",
    "version": 3
   },
   "file_extension": ".py",
   "mimetype": "text/x-python",
   "name": "python",
   "nbconvert_exporter": "python",
   "pygments_lexer": "ipython3",
   "version": "3.12.1"
  }
 },
 "nbformat": 4,
 "nbformat_minor": 2
}
