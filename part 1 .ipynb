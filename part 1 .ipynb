{
 "cells": [
  {
   "cell_type": "code",
   "execution_count": 14,
   "metadata": {},
   "outputs": [],
   "source": [
    "import numpy as np\n",
    "import pytreenet as ptn\n",
    "from copy import deepcopy"
   ]
  },
  {
   "cell_type": "code",
   "execution_count": 3,
   "metadata": {},
   "outputs": [],
   "source": [
    "shapes = {\n",
    "    (0, 0): (2, 2, 2),\n",
    "    (0, 1): (2, 2, 2, 2),\n",
    "    (0, 2): (2, 2, 2, 2),\n",
    "    (0, 3): (2, 2, 2),\n",
    "    (1, 0): (2, 2),\n",
    "    (1, 1): (2, 2),\n",
    "    (1, 2): (2, 2),\n",
    "    (1, 3): (2, 2, 2),\n",
    "    (2, 0): (2, 2),\n",
    "    (2, 1): (2, 2),\n",
    "    (2, 2): (2, 2),\n",
    "    (2, 3): (2, 2, 2, 2),\n",
    "    (3, 0): (2, 2, 2),\n",
    "    (3, 1): (2, 2, 2, 2),\n",
    "    (3, 2): (2, 2, 2),\n",
    "    (3, 3): (2, 2, 2)\n",
    "}\n",
    "\n",
    "nodes = {\n",
    "    (i, j): ptn.random_tensor_node(shapes[(i, j)], identifier=f\"Site({i},{j})\") for i in range(4) for j in range(4)\n",
    "}\n",
    "\n",
    "ttn = ptn.TreeTensorNetworkState()\n",
    "\n",
    "ttn.add_root(nodes[(0, 0)][0], nodes[(0, 0)][1])\n",
    "\n",
    "connections = [\n",
    "    ((0, 0), (1, 0), 0, 0),\n",
    "    ((0, 0), (0, 1), 1, 0),\n",
    "    ((0, 1), (1, 1), 1, 0),   \n",
    "    ((0, 1), (0, 2), 2, 0),\n",
    "    ((0, 2), (1, 2), 1, 0),\n",
    "    ((0, 2), (0, 3), 2, 0),   \n",
    "    ((0, 3), (1, 3), 1, 0),\n",
    "    ((1, 3), (2, 3), 1, 0),\n",
    "    ((2, 3), (2, 2), 1, 0),   \n",
    "    ((2, 3), (3, 3), 2, 0),\n",
    "    ((3, 3), (3, 2), 1, 0),\n",
    "    ((3, 2), (3, 1), 1, 0),   \n",
    "    ((3, 1), (2, 1), 1, 0),\n",
    "    ((3, 1), (3, 0), 2, 0),\n",
    "    ((3, 0), (2, 0), 1, 0)]\n",
    "\n",
    "for (parent, child, parent_leg, child_leg) in connections:\n",
    "    parent_id = f\"Site({parent[0]},{parent[1]})\"\n",
    "    child_id = f\"Site({child[0]},{child[1]})\"\n",
    "    ttn.add_child_to_parent(nodes[child][0], nodes[child][1], child_leg, parent_id, parent_leg)\n",
    "\n",
    "ttn = ptn.product_state(ttn , bond_dim= 2)"
   ]
  },
  {
   "cell_type": "code",
   "execution_count": 4,
   "metadata": {},
   "outputs": [],
   "source": [
    "def vectorized_density(ttn):\n",
    "    ttn1 = deepcopy(ttn)\n",
    "    for node_id in ttn1.nodes:\n",
    "        A = ttn1.tensors[node_id]\n",
    "        A = A.reshape(A.shape + (1,))\n",
    "        C = ptn.compute_transfer_tensor(A, (-1))        \n",
    "        n = len(C.shape)\n",
    "        perm = [0] * n\n",
    "        for i in range(n):\n",
    "            if i % 2 == 0:\n",
    "                perm[i] = i // 2\n",
    "            else:\n",
    "                perm[i] = (n - 1) // 2 + (i + 1) // 2\n",
    "        C = C.transpose(perm)    \n",
    "        original_shape = C.shape\n",
    "        new_shape = []\n",
    "        for i in range(0, len(original_shape)-2, 2):\n",
    "            new_shape += (original_shape[i] * original_shape[i + 1],)\n",
    "        new_shape += (original_shape[-1] , original_shape[-1],)\n",
    "        T = C.reshape(new_shape)\n",
    "        ttn1.tensors[node_id] = T\n",
    "        ttn1.nodes[node_id].link_tensor(T)        \n",
    "    return ttn1 "
   ]
  },
  {
   "cell_type": "code",
   "execution_count": 5,
   "metadata": {},
   "outputs": [],
   "source": [
    "def BoseHubbard_ham(t, U, Lx, Ly):\n",
    "    creation_op, annihilation_op, number_op = ptn.bosonic_operators()\n",
    "    \n",
    "    conversion_dict = {\n",
    "        \"b^dagger\": creation_op,\n",
    "        \"b\": annihilation_op,\n",
    "        \"I2\": np.eye(2)\n",
    "    }\n",
    "    \n",
    "    conversion_dict.update({\n",
    "        \"-t * b^dagger\": -t * creation_op,\n",
    "        \"-t * b\": -t * annihilation_op,\n",
    "        \"U * n * (n - 1)\": U * number_op @ (number_op - np.eye(2))\n",
    "    })\n",
    "    \n",
    "    terms = []\n",
    "    \n",
    "    # Hopping terms\n",
    "    for x in range(Lx):\n",
    "        for y in range(Ly):\n",
    "            current_site = f\"Site({x},{y})\"\n",
    "            \n",
    "            # Horizontal connections\n",
    "            if x < Lx - 1:\n",
    "                right_neighbor = f\"Site({x+1},{y})\"\n",
    "                terms.append(ptn.TensorProduct({current_site: \"-t * b^dagger\", right_neighbor: \"b\"}))\n",
    "                terms.append(ptn.TensorProduct({current_site: \"-t * b\", right_neighbor: \"b^dagger\"}))\n",
    "            \n",
    "            # Vertical connections\n",
    "            if y < Ly - 1:\n",
    "                up_neighbor = f\"Site({x},{y+1})\"\n",
    "                terms.append(ptn.TensorProduct({current_site: \"-t * b^dagger\", up_neighbor: \"b\"}))\n",
    "                terms.append(ptn.TensorProduct({current_site: \"-t * b\", up_neighbor: \"b^dagger\"}))\n",
    "    \n",
    "    # On-site interaction terms\n",
    "    for x in range(Lx):\n",
    "        for y in range(Ly):\n",
    "            current_site = f\"Site({x},{y})\"\n",
    "            terms.append(ptn.TensorProduct({current_site: \"U * n * (n - 1)\"}))\n",
    "    \n",
    "    return ptn.Hamiltonian(terms, conversion_dict)"
   ]
  },
  {
   "cell_type": "code",
   "execution_count": 6,
   "metadata": {},
   "outputs": [],
   "source": [
    "def BoseHubbard_ham_transpose(t, U, Lx, Ly):\n",
    "    creation_op, annihilation_op, number_op = ptn.bosonic_operators()\n",
    "    \n",
    "    conversion_dict = {\n",
    "        \"b^dagger\": creation_op.T,\n",
    "        \"b\": annihilation_op.T,\n",
    "        \"I2\": np.eye(2)\n",
    "    }\n",
    "    \n",
    "    conversion_dict.update({\n",
    "        \"-t * b^dagger\": -t * creation_op.T,\n",
    "        \"-t * b\": -t * annihilation_op.T,\n",
    "        \"U * n * (n - 1)\": (U * number_op @ (number_op - np.eye(2))).T\n",
    "    })\n",
    "    \n",
    "    terms = []\n",
    "    \n",
    "    # Hopping terms\n",
    "    for x in range(Lx):\n",
    "        for y in range(Ly):\n",
    "            current_site = f\"Site({x},{y})\"\n",
    "            \n",
    "            # Horizontal connections\n",
    "            if x < Lx - 1:\n",
    "                right_neighbor = f\"Site({x+1},{y})\"\n",
    "                terms.append(ptn.TensorProduct({current_site: \"-t * b^dagger\", right_neighbor: \"b\"}))\n",
    "                terms.append(ptn.TensorProduct({current_site: \"-t * b\", right_neighbor: \"b^dagger\"}))\n",
    "            \n",
    "            # Vertical connections\n",
    "            if y < Ly - 1:\n",
    "                up_neighbor = f\"Site({x},{y+1})\"\n",
    "                terms.append(ptn.TensorProduct({current_site: \"-t * b^dagger\", up_neighbor: \"b\"}))\n",
    "                terms.append(ptn.TensorProduct({current_site: \"-t * b\", up_neighbor: \"b^dagger\"}))\n",
    "    \n",
    "    # On-site interaction terms\n",
    "    for x in range(Lx):\n",
    "        for y in range(Ly):\n",
    "            current_site = f\"Site({x},{y})\"\n",
    "            terms.append(ptn.TensorProduct({current_site: \"U * n * (n - 1)\"}))\n",
    "    \n",
    "    return ptn.Hamiltonian(terms, conversion_dict)"
   ]
  },
  {
   "cell_type": "code",
   "execution_count": 7,
   "metadata": {},
   "outputs": [],
   "source": [
    "H1 = BoseHubbard_ham(0.4, 0.5, 4, 4)\n",
    "H1 = H1.pad_with_identities(ttn , symbolic= True)\n",
    "ttno = ptn.TTNO.from_hamiltonian(H1, ttn)"
   ]
  },
  {
   "cell_type": "code",
   "execution_count": 8,
   "metadata": {},
   "outputs": [],
   "source": [
    "H1_transpose = BoseHubbard_ham_transpose(0.4, 0.5, 4, 4)\n",
    "H1_transpose = H1_transpose.pad_with_identities(ttn , symbolic= True)\n",
    "ttno_transpose = ptn.TTNO.from_hamiltonian(H1_transpose, ttn)"
   ]
  },
  {
   "cell_type": "code",
   "execution_count": 9,
   "metadata": {},
   "outputs": [],
   "source": [
    "I = ptn.TTNO.Identity(ttno)\n",
    "A = ptn.kronecker_product_ttno_with_ttno(ttno, I)\n",
    "B = ptn.kronecker_product_ttno_with_ttno(I, ttno_transpose)"
   ]
  },
  {
   "cell_type": "code",
   "execution_count": 10,
   "metadata": {},
   "outputs": [],
   "source": [
    "def Lindblad_operator(node_id, ttno, op):\n",
    "    I = ptn.TTNO.Identity(ttno)\n",
    "    I.tensors[node_id] = op\n",
    "    I.nodes[node_id].link_tensor(op) \n",
    "    return I "
   ]
  },
  {
   "cell_type": "code",
   "execution_count": 11,
   "metadata": {},
   "outputs": [
    {
     "name": "stderr",
     "output_type": "stream",
     "text": [
      "<>:5: SyntaxWarning: 'int' object is not callable; perhaps you missed a comma?\n",
      "<>:6: SyntaxWarning: 'int' object is not callable; perhaps you missed a comma?\n",
      "<>:5: SyntaxWarning: 'int' object is not callable; perhaps you missed a comma?\n",
      "<>:6: SyntaxWarning: 'int' object is not callable; perhaps you missed a comma?\n",
      "C:\\Users\\edpou\\AppData\\Local\\Temp\\ipykernel_8864\\1840243976.py:5: SyntaxWarning: 'int' object is not callable; perhaps you missed a comma?\n",
      "  C.append(-1/2(ptn.kronecker_product_ttno_with_ttno(Lindblad_operator(node_id, ttno_transpose, (sx.T) @ sx ),ptn.TTNO.Identity(ttno))))\n",
      "C:\\Users\\edpou\\AppData\\Local\\Temp\\ipykernel_8864\\1840243976.py:6: SyntaxWarning: 'int' object is not callable; perhaps you missed a comma?\n",
      "  C.append(-1/2(ptn.kronecker_product_ttno_with_ttno(ptn.TTNO.Identity(ttno),Lindblad_operator(node_id, ttno_transpose, (sx.T) @ sx ))))\n"
     ]
    },
    {
     "ename": "TypeError",
     "evalue": "'int' object is not callable",
     "output_type": "error",
     "traceback": [
      "\u001b[1;31m---------------------------------------------------------------------------\u001b[0m",
      "\u001b[1;31mTypeError\u001b[0m                                 Traceback (most recent call last)",
      "Cell \u001b[1;32mIn[11], line 5\u001b[0m\n\u001b[0;32m      3\u001b[0m \u001b[38;5;28;01mfor\u001b[39;00m node_id \u001b[38;5;129;01min\u001b[39;00m ttn\u001b[38;5;241m.\u001b[39mnodes:\n\u001b[0;32m      4\u001b[0m     C\u001b[38;5;241m.\u001b[39mappend(ptn\u001b[38;5;241m.\u001b[39mkronecker_product_ttno_with_ttno(Lindblad_operator(node_id, ttno, sx),Lindblad_operator(node_id, ttno, sx\u001b[38;5;241m.\u001b[39mT)))\n\u001b[1;32m----> 5\u001b[0m     C\u001b[38;5;241m.\u001b[39mappend(\u001b[38;5;241m-\u001b[39m\u001b[38;5;241m1\u001b[39m\u001b[38;5;241m/\u001b[39m\u001b[38;5;241;43m2\u001b[39;49m\u001b[43m(\u001b[49m\u001b[43mptn\u001b[49m\u001b[38;5;241;43m.\u001b[39;49m\u001b[43mkronecker_product_ttno_with_ttno\u001b[49m\u001b[43m(\u001b[49m\u001b[43mLindblad_operator\u001b[49m\u001b[43m(\u001b[49m\u001b[43mnode_id\u001b[49m\u001b[43m,\u001b[49m\u001b[43m \u001b[49m\u001b[43mttno_transpose\u001b[49m\u001b[43m,\u001b[49m\u001b[43m \u001b[49m\u001b[43m(\u001b[49m\u001b[43msx\u001b[49m\u001b[38;5;241;43m.\u001b[39;49m\u001b[43mT\u001b[49m\u001b[43m)\u001b[49m\u001b[43m \u001b[49m\u001b[38;5;241;43m@\u001b[39;49m\u001b[43m \u001b[49m\u001b[43msx\u001b[49m\u001b[43m \u001b[49m\u001b[43m)\u001b[49m\u001b[43m,\u001b[49m\u001b[43mptn\u001b[49m\u001b[38;5;241;43m.\u001b[39;49m\u001b[43mTTNO\u001b[49m\u001b[38;5;241;43m.\u001b[39;49m\u001b[43mIdentity\u001b[49m\u001b[43m(\u001b[49m\u001b[43mttno\u001b[49m\u001b[43m)\u001b[49m\u001b[43m)\u001b[49m\u001b[43m)\u001b[49m)    \n\u001b[0;32m      6\u001b[0m     C\u001b[38;5;241m.\u001b[39mappend(\u001b[38;5;241m-\u001b[39m\u001b[38;5;241m1\u001b[39m\u001b[38;5;241m/\u001b[39m\u001b[38;5;241m2\u001b[39m(ptn\u001b[38;5;241m.\u001b[39mkronecker_product_ttno_with_ttno(ptn\u001b[38;5;241m.\u001b[39mTTNO\u001b[38;5;241m.\u001b[39mIdentity(ttno),Lindblad_operator(node_id, ttno_transpose, (sx\u001b[38;5;241m.\u001b[39mT) \u001b[38;5;241m@\u001b[39m sx ))))\n",
      "\u001b[1;31mTypeError\u001b[0m: 'int' object is not callable"
     ]
    }
   ],
   "source": [
    "sx = np.array([[0,1],[0,0]])\n",
    "C = []\n",
    "for node_id in ttn.nodes:\n",
    "    C.append(ptn.kronecker_product_ttno_with_ttno(Lindblad_operator(node_id, ttno, sx),Lindblad_operator(node_id, ttno, sx.T)))\n",
    "    C.append(-1/2(ptn.kronecker_product_ttno_with_ttno(Lindblad_operator(node_id, ttno_transpose, (sx.T) @ sx ),ptn.TTNO.Identity(ttno))))    \n",
    "    C.append(-1/2(ptn.kronecker_product_ttno_with_ttno(ptn.TTNO.Identity(ttno),Lindblad_operator(node_id, ttno_transpose, (sx.T) @ sx ))))"
   ]
  },
  {
   "cell_type": "code",
   "execution_count": null,
   "metadata": {},
   "outputs": [
    {
     "data": {
      "text/plain": [
       "(['site1', 'site4', 'site5'], [3])"
      ]
     },
     "execution_count": 124,
     "metadata": {},
     "output_type": "execute_result"
    }
   ],
   "source": [
    "ttn = ptn.random_big_ttns_two_root_children(ptn.RandomTTNSMode.DIFFVIRT)\n",
    "ttn.nodes[\"site3\"].neighbouring_nodes() , ttn.nodes[\"site3\"].open_legs"
   ]
  },
  {
   "cell_type": "code",
   "execution_count": null,
   "metadata": {},
   "outputs": [
    {
     "data": {
      "text/plain": [
       "(7, 4, 5, 2)"
      ]
     },
     "execution_count": 92,
     "metadata": {},
     "output_type": "execute_result"
    }
   ],
   "source": [
    "ttn.tensors[\"site1\"].shape"
   ]
  },
  {
   "cell_type": "code",
   "execution_count": null,
   "metadata": {},
   "outputs": [
    {
     "data": {
      "text/plain": [
       "((7, 10, 4), (10, 5, 2))"
      ]
     },
     "execution_count": 94,
     "metadata": {},
     "output_type": "execute_result"
    }
   ],
   "source": [
    "ttn.tensors[\"site1_q\"].shape , ttn.tensors[\"site1_r\"].shape"
   ]
  },
  {
   "cell_type": "code",
   "execution_count": null,
   "metadata": {},
   "outputs": [
    {
     "name": "stdout",
     "output_type": "stream",
     "text": [
      "site0 ['site2'] [3]\n",
      "None ['site3'] []\n"
     ]
    }
   ],
   "source": [
    "from pytreenet.core.canonical_form import _build_qr_leg_specs\n",
    "spec_q , spec_r = _build_qr_leg_specs(ttn.nodes[\"site1\"],\"site3\")\n",
    "print (spec_q.parent_leg , spec_q.child_legs , spec_q.open_legs) \n",
    "print (spec_r.parent_leg , spec_r.child_legs , spec_r.open_legs) "
   ]
  },
  {
   "cell_type": "code",
   "execution_count": null,
   "metadata": {},
   "outputs": [
    {
     "name": "stdout",
     "output_type": "stream",
     "text": [
      "site0 ['site2'] [4]\n",
      "None ['site4', 'site5'] [5]\n"
     ]
    }
   ],
   "source": [
    "(spec_q, spec_r) = ttn.legs_before_combination(\"site1\",\"site3\")\n",
    "print (spec_q.parent_leg , spec_q.child_legs , spec_q.open_legs) \n",
    "print (spec_r.parent_leg , spec_r.child_legs , spec_r.open_legs) "
   ]
  },
  {
   "cell_type": "code",
   "execution_count": null,
   "metadata": {},
   "outputs": [
    {
     "data": {
      "text/plain": [
       "{'site1': 'site2', 'site3': 'site4'}"
      ]
     },
     "execution_count": 149,
     "metadata": {},
     "output_type": "execute_result"
    }
   ],
   "source": [
    "ttn = ptn.random_big_ttns_two_root_children(ptn.RandomTTNSMode.DIFFVIRT)\n",
    "ttn , dict = ptn.max_two_neighbour_form(ttn)\n",
    "dict"
   ]
  },
  {
   "cell_type": "code",
   "execution_count": null,
   "metadata": {},
   "outputs": [],
   "source": [
    "ttn.split_nodes(\"site1\" , spec_q , spec_r,ptn.tensor_qr_decomposition ,\"site1_q\", \"site1_r\")"
   ]
  },
  {
   "cell_type": "code",
   "execution_count": null,
   "metadata": {},
   "outputs": [],
   "source": [
    "node, tensor = ttn[\"site6\"]\n",
    "\n",
    "in_tensor = tensor.conj()\n",
    "in_identifier = node.identifier + \"_in\"\n",
    "\n",
    "in_node = ptn.Node(tensor=in_tensor, identifier= in_identifier)\n",
    "ttn._nodes[in_identifier] = in_node\n",
    "ttn._tensors[in_identifier] = in_tensor\n",
    "\n",
    "in_legs = ptn.LegSpecification( node.identifier , node.add_children , node.open_legs , node)\n"
   ]
  },
  {
   "cell_type": "code",
   "execution_count": null,
   "metadata": {},
   "outputs": [],
   "source": []
  },
  {
   "cell_type": "code",
   "execution_count": null,
   "metadata": {},
   "outputs": [],
   "source": []
  },
  {
   "cell_type": "code",
   "execution_count": null,
   "metadata": {},
   "outputs": [],
   "source": []
  },
  {
   "cell_type": "code",
   "execution_count": null,
   "metadata": {},
   "outputs": [],
   "source": []
  },
  {
   "cell_type": "code",
   "execution_count": null,
   "metadata": {},
   "outputs": [],
   "source": [
    "def save_list(list_to_save, filename):\n",
    "    filename = f\"results/{filename}\"\n",
    "    with open(filename, 'w') as file:\n",
    "        for item in list_to_save:\n",
    "            file.write(str(item) + '\\n')\n",
    "    print(f\"List saved to {filename}\")\n",
    "\n",
    "def load_list(filename):\n",
    "    filename = f\"results/{filename}\"\n",
    "    try:\n",
    "        with open(filename, 'r') as file:\n",
    "            loaded_list = [float(line.strip()) for line in file]\n",
    "        print(f\"List loaded from {filename}\")\n",
    "        return loaded_list\n",
    "    except FileNotFoundError:\n",
    "        print(f\"File {filename} not found.\")\n",
    "        return None\n",
    "    except ValueError as e:\n",
    "        print(f\"Error converting value to float: {e}\")\n",
    "        return None"
   ]
  },
  {
   "cell_type": "code",
   "execution_count": null,
   "metadata": {},
   "outputs": [],
   "source": [
    "def BoseHubbard_ham(t, U, Lx, Ly):\n",
    "    creation_op, annihilation_op, number_op = ptn.bosonic_operators()\n",
    "    \n",
    "    conversion_dict = {\n",
    "        \"b^dagger\": creation_op,\n",
    "        \"b\": annihilation_op,\n",
    "        \"n\": number_op,\n",
    "        \"I2\": np.eye(2)\n",
    "    }\n",
    "    \n",
    "    conversion_dict.update({\n",
    "        \"-t * b^dagger\": -t * creation_op,\n",
    "        \"-t * b\": -t * annihilation_op,\n",
    "        \"U * n * (n - 1)\": U * number_op @ (number_op - np.eye(2))\n",
    "    })\n",
    "    \n",
    "    terms = []\n",
    "    \n",
    "    # Hopping terms\n",
    "    for x in range(Lx):\n",
    "        for y in range(Ly):\n",
    "            current_site = f\"Site({x},{y})\"\n",
    "            \n",
    "            # Horizontal connections\n",
    "            if x < Lx - 1:\n",
    "                right_neighbor = f\"Site({x+1},{y})\"\n",
    "                terms.append(ptn.TensorProduct({current_site: \"-t * b^dagger\", right_neighbor: \"b\"}))\n",
    "                terms.append(ptn.TensorProduct({current_site: \"-t * b\", right_neighbor: \"b^dagger\"}))\n",
    "            \n",
    "            # Vertical connections\n",
    "            if y < Ly - 1:\n",
    "                up_neighbor = f\"Site({x},{y+1})\"\n",
    "                terms.append(ptn.TensorProduct({current_site: \"-t * b^dagger\", up_neighbor: \"b\"}))\n",
    "                terms.append(ptn.TensorProduct({current_site: \"-t * b\", up_neighbor: \"b^dagger\"}))\n",
    "    \n",
    "    # On-site interaction terms\n",
    "    for x in range(Lx):\n",
    "        for y in range(Ly):\n",
    "            current_site = f\"Site({x},{y})\"\n",
    "            terms.append(ptn.TensorProduct({current_site: \"U * n * (n - 1)\"}))\n",
    "    \n",
    "    return ptn.Hamiltonian(terms, conversion_dict)\n",
    "\n",
    "\n",
    "def prodect_state(ttn, bond_dim=2):\n",
    "    zero_state = deepcopy(ttn)\n",
    "    zero = np.asarray([1/np.sqrt(2), 1/np.sqrt(2)])\n",
    "    for node_id in zero_state.nodes.keys():\n",
    "        n = zero_state.tensors[node_id].ndim - 1\n",
    "        tensor = zero.reshape((1,) * n + (2,))\n",
    "        T = np.pad(tensor, n*((0, bond_dim-1),) + ((0, 0),))\n",
    "        zero_state.tensors[node_id] = T\n",
    "        zero_state.nodes[node_id].link_tensor(T)  \n",
    "    return zero_state"
   ]
  },
  {
   "cell_type": "code",
   "execution_count": 13,
   "metadata": {},
   "outputs": [
    {
     "ename": "NameError",
     "evalue": "name 'prodect_state' is not defined",
     "output_type": "error",
     "traceback": [
      "\u001b[1;31m---------------------------------------------------------------------------\u001b[0m",
      "\u001b[1;31mNameError\u001b[0m                                 Traceback (most recent call last)",
      "Cell \u001b[1;32mIn[13], line 80\u001b[0m\n\u001b[0;32m     77\u001b[0m     child_id \u001b[38;5;241m=\u001b[39m \u001b[38;5;124mf\u001b[39m\u001b[38;5;124m\"\u001b[39m\u001b[38;5;124mNode(\u001b[39m\u001b[38;5;132;01m{\u001b[39;00mchild[\u001b[38;5;241m0\u001b[39m]\u001b[38;5;132;01m}\u001b[39;00m\u001b[38;5;124m,\u001b[39m\u001b[38;5;132;01m{\u001b[39;00mchild[\u001b[38;5;241m1\u001b[39m]\u001b[38;5;132;01m}\u001b[39;00m\u001b[38;5;124m)\u001b[39m\u001b[38;5;124m\"\u001b[39m\n\u001b[0;32m     78\u001b[0m     ttn\u001b[38;5;241m.\u001b[39madd_child_to_parent(nodes[child][\u001b[38;5;241m0\u001b[39m], nodes[child][\u001b[38;5;241m1\u001b[39m], child_leg, parent_id, parent_leg)\n\u001b[1;32m---> 80\u001b[0m ttn1 \u001b[38;5;241m=\u001b[39m \u001b[43mprodect_state\u001b[49m(ttn , bond_dim\u001b[38;5;241m=\u001b[39m \u001b[38;5;241m2\u001b[39m)\n\u001b[0;32m     81\u001b[0m \u001b[38;5;66;03m# ttn1.normalize_ttn()\u001b[39;00m\n\u001b[0;32m     83\u001b[0m H1 \u001b[38;5;241m=\u001b[39m BoseHubbard_ham(\u001b[38;5;241m0.4\u001b[39m, \u001b[38;5;241m0.5\u001b[39m, \u001b[38;5;241m4\u001b[39m, \u001b[38;5;241m4\u001b[39m)\n",
      "\u001b[1;31mNameError\u001b[0m: name 'prodect_state' is not defined"
     ]
    }
   ],
   "source": [
    "shapes = {\n",
    "    (0, 0): (2, 2, 2, 2),\n",
    "    (0, 1): (2, 2, 2, 2),\n",
    "    (0, 2): (2, 2, 2, 2),\n",
    "    (0, 3): (2, 2),\n",
    "    (1, 0): (2, 2, 2),\n",
    "    (1, 1): (2, 2),\n",
    "    (1, 2): (2, 2, 2),\n",
    "    (1, 3): (2, 2),\n",
    "    (2, 0): (2, 2, 2, 2),\n",
    "    (2, 1): (2, 2, 2),\n",
    "    (2, 2): (2, 2, 2),\n",
    "    (2, 3): (2, 2),\n",
    "    (3, 0): (2, 2),\n",
    "    (3, 1): (2, 2, 2),\n",
    "    (3, 2): (2, 2, 2, 2),\n",
    "    (3, 3): (2, 2)\n",
    "}\n",
    "\n",
    "sites = {\n",
    "    (i, j): ptn.random_tensor_node(shapes[(i, j)], identifier=f\"Site({i},{j})\") for i in range(4) for j in range(4)\n",
    "}\n",
    "\n",
    "nodes = {\n",
    "    (i, j): ptn.random_tensor_node(shapes[(i, j)], identifier=f\"Node({i},{j})\") for i in range(4) for j in range(4)\n",
    "}\n",
    "\n",
    "ttn = ptn.TreeTensorNetworkState()\n",
    "\n",
    "ttn.add_root(sites[(0, 0)][0], sites[(0, 0)][1])\n",
    "\n",
    "connections = [\n",
    "    ((0, 0), (0, 1), 0, 0),\n",
    "    ((0, 1), (1, 1), 1, 0),\n",
    "    ((0, 1), (0, 2), 2, 0),\n",
    "    ((0, 2), (1, 2), 1, 0),\n",
    "    ((1, 2), (1, 3), 1, 0),\n",
    "    ((0, 2), (0, 3), 2, 0),\n",
    "    ((0, 0), (1, 0), 1, 0),\n",
    "    ((1, 0), (2, 0), 1, 0),\n",
    "    ((2, 0), (3, 0), 1, 0),\n",
    "    ((2, 0), (2, 1), 2, 0),\n",
    "    ((2, 1), (3, 1), 1, 0),\n",
    "    ((3, 1), (3, 2), 1, 0),\n",
    "    ((3, 2), (2, 2), 1, 0),\n",
    "    ((2, 2), (2, 3), 1, 0),\n",
    "    ((3, 2), (3, 3), 2, 0),\n",
    "]\n",
    "\n",
    "for (parent, child, parent_leg, child_leg) in connections:\n",
    "    parent_id = f\"Site({parent[0]},{parent[1]})\"\n",
    "    child_id = f\"Site({child[0]},{child[1]})\"\n",
    "    ttn.add_child_to_parent(sites[child][0], sites[child][1], child_leg, parent_id, parent_leg)\n",
    "\n",
    "ttn.add_child_to_parent(nodes[(0,0)][0], nodes[(0,0)][1], 0, \"Site(0,0)\", 2)\n",
    "\n",
    "connections = [\n",
    "    ((0, 0), (0, 1), 1, 0),\n",
    "    ((0, 1), (1, 1), 1, 0),\n",
    "    ((0, 1), (0, 2), 2, 0),\n",
    "    ((0, 2), (1, 2), 1, 0),\n",
    "    ((1, 2), (1, 3), 1, 0),\n",
    "    ((0, 2), (0, 3), 2, 0),\n",
    "    ((0, 0), (1, 0), 2, 0),\n",
    "    ((1, 0), (2, 0), 1, 0),\n",
    "    ((2, 0), (3, 0), 1, 0),\n",
    "    ((2, 0), (2, 1), 2, 0),\n",
    "    ((2, 1), (3, 1), 1, 0),\n",
    "    ((3, 1), (3, 2), 1, 0),\n",
    "    ((3, 2), (2, 2), 1, 0),\n",
    "    ((2, 2), (2, 3), 1, 0),\n",
    "    ((3, 2), (3, 3), 2, 0),\n",
    "]\n",
    "\n",
    "for (parent, child, parent_leg, child_leg) in connections:\n",
    "    parent_id = f\"Node({parent[0]},{parent[1]})\"\n",
    "    child_id = f\"Node({child[0]},{child[1]})\"\n",
    "    ttn.add_child_to_parent(nodes[child][0], nodes[child][1], child_leg, parent_id, parent_leg)\n",
    "\n",
    "ttn1 = prodect_state(ttn , bond_dim= 2)\n",
    "# ttn1.normalize_ttn()\n",
    "\n",
    "H1 = BoseHubbard_ham(0.4, 0.5, 4, 4)\n",
    "H1 = H1.pad_with_identities(ttn1 , symbolic= True)\n",
    "ttno = ptn.TTNO.from_hamiltonian(H1, ttn1)\n",
    "\n",
    "\n",
    "X , Y , Z = ptn.pauli_matrices()\n",
    "tp = ptn.TensorProduct({'Site(0,0)': X, \n",
    "                        \"Site(0,1)\" :Y ,\n",
    "                        \"Site(0,2)\" : Z,\n",
    "                        \"Site(0,3)\" : X,\n",
    "                        \"Site(1,0)\" : Y,\n",
    "                        \"Site(1,1)\" : Z,\n",
    "                        \"Site(1,2)\" : X,\n",
    "                        \"Site(1,3)\" : Y,\n",
    "                        \"Site(2,0)\" : Z,\n",
    "                        \"Site(2,1)\" : X,\n",
    "                        \"Site(2,2)\" : Y,\n",
    "                        \"Site(2,3)\" : Z,\n",
    "                        \"Site(3,0)\" : X,\n",
    "                        \"Site(3,1)\" : Y,\n",
    "                        \"Site(3,2)\" : Z,\n",
    "                        \"Site(3,3)\" : X})"
   ]
  },
  {
   "cell_type": "code",
   "execution_count": null,
   "metadata": {},
   "outputs": [
    {
     "data": {
      "text/plain": [
       "['Site(0,0)', 'Node(0,1)', 'Node(1,0)']"
      ]
     },
     "metadata": {},
     "output_type": "display_data"
    }
   ],
   "source": [
    "ttn.nodes[\"Node(0,0)\"].neighbouring_nodes()"
   ]
  },
  {
   "cell_type": "code",
   "execution_count": null,
   "metadata": {},
   "outputs": [
    {
     "ename": "ValueError",
     "evalue": "Node with identifier Node(0,0) is not in this tree!",
     "output_type": "error",
     "traceback": [
      "\u001b[1;31m---------------------------------------------------------------------------\u001b[0m",
      "\u001b[1;31mValueError\u001b[0m                                Traceback (most recent call last)",
      "Cell \u001b[1;32mIn[153], line 22\u001b[0m\n\u001b[0;32m     20\u001b[0m     parent_id \u001b[38;5;241m=\u001b[39m \u001b[38;5;124mf\u001b[39m\u001b[38;5;124m\"\u001b[39m\u001b[38;5;124mNode(\u001b[39m\u001b[38;5;132;01m{\u001b[39;00mparent[\u001b[38;5;241m0\u001b[39m]\u001b[38;5;132;01m}\u001b[39;00m\u001b[38;5;124m,\u001b[39m\u001b[38;5;132;01m{\u001b[39;00mparent[\u001b[38;5;241m1\u001b[39m]\u001b[38;5;132;01m}\u001b[39;00m\u001b[38;5;124m)\u001b[39m\u001b[38;5;124m\"\u001b[39m\n\u001b[0;32m     21\u001b[0m     child_id \u001b[38;5;241m=\u001b[39m \u001b[38;5;124mf\u001b[39m\u001b[38;5;124m\"\u001b[39m\u001b[38;5;124mNode(\u001b[39m\u001b[38;5;132;01m{\u001b[39;00mchild[\u001b[38;5;241m0\u001b[39m]\u001b[38;5;132;01m}\u001b[39;00m\u001b[38;5;124m,\u001b[39m\u001b[38;5;132;01m{\u001b[39;00mchild[\u001b[38;5;241m1\u001b[39m]\u001b[38;5;132;01m}\u001b[39;00m\u001b[38;5;124m)\u001b[39m\u001b[38;5;124m\"\u001b[39m\n\u001b[1;32m---> 22\u001b[0m     \u001b[43mttn\u001b[49m\u001b[38;5;241;43m.\u001b[39;49m\u001b[43madd_child_to_parent\u001b[49m\u001b[43m(\u001b[49m\u001b[43mnodes\u001b[49m\u001b[43m[\u001b[49m\u001b[43mchild\u001b[49m\u001b[43m]\u001b[49m\u001b[43m[\u001b[49m\u001b[38;5;241;43m0\u001b[39;49m\u001b[43m]\u001b[49m\u001b[43m,\u001b[49m\u001b[43m \u001b[49m\u001b[43mnodes\u001b[49m\u001b[43m[\u001b[49m\u001b[43mchild\u001b[49m\u001b[43m]\u001b[49m\u001b[43m[\u001b[49m\u001b[38;5;241;43m1\u001b[39;49m\u001b[43m]\u001b[49m\u001b[43m,\u001b[49m\u001b[43m \u001b[49m\u001b[43mchild_leg\u001b[49m\u001b[43m,\u001b[49m\u001b[43m \u001b[49m\u001b[43mparent_id\u001b[49m\u001b[43m,\u001b[49m\u001b[43m \u001b[49m\u001b[43mparent_leg\u001b[49m\u001b[43m)\u001b[49m\n\u001b[0;32m     24\u001b[0m ttn1 \u001b[38;5;241m=\u001b[39m prodect_state(ttn , bond_dim\u001b[38;5;241m=\u001b[39m \u001b[38;5;241m2\u001b[39m)\n",
      "File \u001b[1;32mc:\\Users\\edpou\\Desktop\\Ed\\PyTreeNet-Project_03\\pytreenet\\core\\ttn.py:331\u001b[0m, in \u001b[0;36mTreeTensorNetwork.add_child_to_parent\u001b[1;34m(self, child, tensor, child_leg, parent_id, parent_leg)\u001b[0m\n\u001b[0;32m    310\u001b[0m \u001b[38;5;28;01mdef\u001b[39;00m \u001b[38;5;21madd_child_to_parent\u001b[39m(\u001b[38;5;28mself\u001b[39m, child: Node, tensor: np\u001b[38;5;241m.\u001b[39mndarray,\n\u001b[0;32m    311\u001b[0m                         child_leg: \u001b[38;5;28mint\u001b[39m, parent_id: \u001b[38;5;28mstr\u001b[39m, parent_leg: \u001b[38;5;28mint\u001b[39m):\n\u001b[0;32m    312\u001b[0m \u001b[38;5;250m    \u001b[39m\u001b[38;5;124;03m\"\"\"\u001b[39;00m\n\u001b[0;32m    313\u001b[0m \u001b[38;5;124;03m    Adds a child node to a parent node in the TTN.\u001b[39;00m\n\u001b[0;32m    314\u001b[0m \n\u001b[1;32m   (...)\u001b[0m\n\u001b[0;32m    329\u001b[0m \u001b[38;5;124;03m            and parent are not the same.\u001b[39;00m\n\u001b[0;32m    330\u001b[0m \u001b[38;5;124;03m    \"\"\"\u001b[39;00m\n\u001b[1;32m--> 331\u001b[0m     \u001b[38;5;28;43mself\u001b[39;49m\u001b[38;5;241;43m.\u001b[39;49m\u001b[43mensure_existence\u001b[49m\u001b[43m(\u001b[49m\u001b[43mparent_id\u001b[49m\u001b[43m)\u001b[49m\n\u001b[0;32m    332\u001b[0m     parent_node \u001b[38;5;241m=\u001b[39m \u001b[38;5;28mself\u001b[39m\u001b[38;5;241m.\u001b[39m_nodes[parent_id]\n\u001b[0;32m    333\u001b[0m     child_id \u001b[38;5;241m=\u001b[39m child\u001b[38;5;241m.\u001b[39midentifier\n",
      "File \u001b[1;32mc:\\Users\\edpou\\Desktop\\Ed\\PyTreeNet-Project_03\\pytreenet\\core\\tree_structure.py:114\u001b[0m, in \u001b[0;36mTreeStructure.ensure_existence\u001b[1;34m(self, node_id)\u001b[0m\n\u001b[0;32m    112\u001b[0m \u001b[38;5;28;01mif\u001b[39;00m node_id \u001b[38;5;129;01mnot\u001b[39;00m \u001b[38;5;129;01min\u001b[39;00m \u001b[38;5;28mself\u001b[39m\u001b[38;5;241m.\u001b[39m_nodes:\n\u001b[0;32m    113\u001b[0m     err_str \u001b[38;5;241m=\u001b[39m \u001b[38;5;124mf\u001b[39m\u001b[38;5;124m\"\u001b[39m\u001b[38;5;124mNode with identifier \u001b[39m\u001b[38;5;132;01m{\u001b[39;00mnode_id\u001b[38;5;132;01m}\u001b[39;00m\u001b[38;5;124m is not in this tree!\u001b[39m\u001b[38;5;124m\"\u001b[39m\n\u001b[1;32m--> 114\u001b[0m     \u001b[38;5;28;01mraise\u001b[39;00m \u001b[38;5;167;01mValueError\u001b[39;00m(err_str)\n",
      "\u001b[1;31mValueError\u001b[0m: Node with identifier Node(0,0) is not in this tree!"
     ]
    }
   ],
   "source": [
    "connections = [\n",
    "    ((0, 0), (0, 1), 1, 0),\n",
    "    ((0, 1), (1, 1), 1, 0),\n",
    "    ((0, 1), (0, 2), 2, 0),\n",
    "    ((0, 2), (1, 2), 1, 0),\n",
    "    ((1, 2), (1, 3), 1, 0),\n",
    "    ((0, 2), (0, 3), 2, 0),\n",
    "    ((0, 0), (1, 0), 2, 0),\n",
    "    ((1, 0), (2, 0), 1, 0),\n",
    "    ((2, 0), (3, 0), 1, 0),\n",
    "    ((2, 0), (2, 1), 2, 0),\n",
    "    ((2, 1), (3, 1), 1, 0),\n",
    "    ((3, 1), (3, 2), 1, 0),\n",
    "    ((3, 2), (2, 2), 1, 0),\n",
    "    ((2, 2), (2, 3), 1, 0),\n",
    "    ((3, 2), (3, 3), 2, 0),\n",
    "]\n",
    "\n",
    "for (parent, child, parent_leg, child_leg) in connections:\n",
    "    parent_id = f\"Node({parent[0]},{parent[1]})\"\n",
    "    child_id = f\"Node({child[0]},{child[1]})\"\n",
    "    ttn.add_child_to_parent(nodes[child][0], nodes[child][1], child_leg, parent_id, parent_leg)\n",
    "\n",
    "ttn1 = prodect_state(ttn , bond_dim= 2)\n"
   ]
  },
  {
   "cell_type": "code",
   "execution_count": null,
   "metadata": {},
   "outputs": [],
   "source": [
    "tdvp_ex1 = ptn.SecondOrderOneSiteTDVP(initial_state = ttn1,\n",
    "                                     hamiltonian = ttno,\n",
    "                                     time_step_size = 0.01,\n",
    "                                     final_time = 2,\n",
    "                                     operators = tp,\n",
    "                                     num_vecs = 3,\n",
    "                                     tau = 1e-2,\n",
    "                                     SVDParameters = ptn.SVDParameters(max_bond_dim = np.inf , rel_tol= 1e-3 , total_tol = -np.inf),\n",
    "                                     expansion_steps = 10,\n",
    "                                     initial_tol= 1e-20,\n",
    "                                     tol_step= 1,\n",
    "                                     max_bond= 50,\n",
    "                                     KrylovBasisMode = ptn.KrylovBasisMode.apply_1st_order_expansion,\n",
    "                                     config = None)"
   ]
  },
  {
   "cell_type": "code",
   "execution_count": null,
   "metadata": {},
   "outputs": [
    {
     "name": "stderr",
     "output_type": "stream",
     "text": [
      "100%|██████████| 201/201 [26:04<00:00,  7.78s/it]\n"
     ]
    }
   ],
   "source": [
    "tdvp_ex1.run_ex(evaluation_time=2)\n",
    "\n",
    "times = tdvp_ex1.times()\n",
    "tdvp_results_ex1 = tdvp_ex1.operator_results(realise=True)[0]"
   ]
  },
  {
   "cell_type": "code",
   "execution_count": null,
   "metadata": {},
   "outputs": [
    {
     "ename": "NameError",
     "evalue": "name 'v' is not defined",
     "output_type": "error",
     "traceback": [
      "\u001b[1;31m---------------------------------------------------------------------------\u001b[0m\n",
      "\u001b[1;31mNameError\u001b[0m                                 Traceback (most recent call last)\n",
      "Cell \u001b[1;32mIn[7], line 1\u001b[0m\n",
      "\u001b[1;32m----> 1\u001b[0m \u001b[43mv\u001b[49m\n",
      "\n",
      "\u001b[1;31mNameError\u001b[0m: name 'v' is not defined"
     ]
    }
   ],
   "source": [
    "v"
   ]
  },
  {
   "cell_type": "code",
   "execution_count": null,
   "metadata": {},
   "outputs": [
    {
     "name": "stdout",
     "output_type": "stream",
     "text": [
      "List saved to results/3_1\n"
     ]
    }
   ],
   "source": [
    "save_list (tdvp_results_ex1, \"3_1\")\n"
   ]
  },
  {
   "cell_type": "code",
   "execution_count": null,
   "metadata": {},
   "outputs": [
    {
     "name": "stdout",
     "output_type": "stream",
     "text": [
      "Site(1,3) (2, 2)\n",
      "Site(1,2) (4, 2, 2)\n",
      "Site(0,2) (8, 4, 2)\n",
      "Site(0,3) (2, 2)\n",
      "Q_Site(0,2) (16, 8, 2, 1)\n",
      "Site(1,1) (2, 2)\n",
      "Site(0,1) (4, 2, 2)\n",
      "Q_Site(0,1) (33, 16, 4, 1)\n",
      "Site(0,0) (33, 33, 2)\n",
      "Site(1,0) (33, 53, 2)\n",
      "Site(3,0) (2, 2)\n",
      "Site(2,0) (4, 2, 2)\n",
      "Q_Site(2,0) (53, 20, 4, 1)\n",
      "Site(2,1) (20, 21, 2)\n",
      "Site(3,1) (21, 16, 2)\n",
      "Site(3,3) (2, 2)\n",
      "Q_Site(3,2) (16, 8, 2, 1)\n",
      "Site(3,2) (8, 4, 2)\n",
      "Site(2,2) (4, 2, 2)\n",
      "Site(2,3) (2, 2)\n"
     ]
    }
   ],
   "source": [
    "for id in tdvp_ex1.state.tensors:\n",
    "    print(id , tdvp_ex1.state.tensors[id].shape)"
   ]
  },
  {
   "cell_type": "code",
   "execution_count": null,
   "metadata": {},
   "outputs": [
    {
     "name": "stdout",
     "output_type": "stream",
     "text": [
      "List loaded from results/3_1\n",
      "List loaded from results/3_2\n",
      "List loaded from results/3_3\n"
     ]
    },
    {
     "data": {
      "text/plain": [
       "<matplotlib.legend.Legend at 0x231e91589b0>"
      ]
     },
     "metadata": {},
     "output_type": "display_data"
    },
    {
     "data": {
      "image/png": "[encoded data removed]",
      "text/plain": [
       "<Figure size 1000x1000 with 1 Axes>"
      ]
     },
     "metadata": {},
     "output_type": "display_data"
    }
   ],
   "source": [
    "fig1, axs1 = plt.subplots(1, 1, sharex=True, figsize=(10,10))\n",
    "\n",
    "\n",
    "axs1.plot(times,  load_list(\"3_1\") , label=' final_max_bond = 46 , comp. time = 67 min')\n",
    "axs1.plot(times,  load_list(\"3_2\") , label=' final_max_bond = 45 , comp. time = 14 min')\n",
    "axs1.plot(times,  load_list(\"3_3\") , label=' final_max_bond = 57 , comp. time = 27 min')\n",
    "axs1.plot(times,  tdvp_results_ex1 , label=' Two-site : max_bond_dim = 32, rel_tol= 1e-4 , comp. time = 9 min')\n",
    "\n",
    "\n",
    "\n",
    "\n",
    "\n",
    "axs1.set_xlabel(\"Time $t$\")\n",
    "axs1.set_ylabel(\"results\")  \n",
    "axs1.legend()"
   ]
  },
  {
   "cell_type": "code",
   "execution_count": null,
   "metadata": {},
   "outputs": [],
   "source": [
    "tdvp_twosite = ptn.SecondOrderTwoSiteTDVP(initial_state = ttn1,\n",
    "                                    hamiltonian = ttno,\n",
    "                                    time_step_size = 0.01,\n",
    "                                    final_time = 2,\n",
    "                                    operators = tp,\n",
    "                                    truncation_parameters= ptn.SVDParameters(max_bond_dim= 32, rel_tol= 1e-5, total_tol= -np.inf),\n",
    "                                    config = None)"
   ]
  },
  {
   "cell_type": "code",
   "execution_count": null,
   "metadata": {},
   "outputs": [],
   "source": [
    "tdvp_twosite.run(evaluation_time=2)\n",
    "\n",
    "times = tdvp_twosite.times()\n",
    "tdvp_twosite_results2 = tdvp_twosite.operator_results(realise= True)[0]"
   ]
  },
  {
   "cell_type": "code",
   "execution_count": null,
   "metadata": {},
   "outputs": [
    {
     "name": "stdout",
     "output_type": "stream",
     "text": [
      "List saved to results/3_2\n"
     ]
    }
   ],
   "source": [
    "save_list (tdvp_twosite_results2 , \"3_3\")"
   ]
  },
  {
   "cell_type": "code",
   "execution_count": null,
   "metadata": {},
   "outputs": [
    {
     "name": "stdout",
     "output_type": "stream",
     "text": [
      "Site(1,3) (2, 2)\n",
      "Site(1,2) (4, 2, 2)\n",
      "Site(0,3) (2, 2)\n",
      "Site(0,2) (16, 4, 2, 2)\n",
      "Site(1,1) (2, 2)\n",
      "Site(0,1) (18, 16, 2, 2)\n",
      "Site(0,0) (17, 18, 2)\n",
      "Site(1,0) (17, 16, 2)\n",
      "Site(3,0) (2, 2)\n",
      "Site(2,0) (16, 16, 2, 2)\n",
      "Site(2,1) (16, 16, 2)\n",
      "Site(3,1) (16, 15, 2)\n",
      "Site(3,3) (2, 2)\n",
      "Site(3,2) (15, 4, 2, 2)\n",
      "Site(2,2) (4, 2, 2)\n",
      "Site(2,3) (2, 2)\n"
     ]
    }
   ],
   "source": [
    "for id in tdvp_twosite.state.tensors:\n",
    "    print(id , tdvp_twosite.state.tensors[id].shape)"
   ]
  },
  {
   "cell_type": "code",
   "execution_count": null,
   "metadata": {},
   "outputs": [],
   "source": []
  },
  {
   "cell_type": "code",
   "execution_count": null,
   "metadata": {},
   "outputs": [],
   "source": []
  },
  {
   "cell_type": "code",
   "execution_count": null,
   "metadata": {},
   "outputs": [],
   "source": [
    "ttn_ex = ptn.expand_subspace(tdvp_ex1.state, ttno, 3 ,\n",
    "                                1e-2, ptn.SVDParameters(max_bond_dim= np.inf, rel_tol= -np.inf , total_tol= -np.inf) ,\n",
    "                                tol = 1e-20, \n",
    "                                mode = ptn.KrylovBasisMode.apply_1st_order_expansion)\n",
    "ttn_ex.canonical_form(\"Site(0,3)\", ptn.SplitMode.KEEP)\n",
    "ttn_ex.normalize_ttn()\n",
    "\n",
    "for id in ttn_ex.tensors:\n",
    "    print(id , ttn_ex.tensors[id].shape)\n",
    "\n",
    "tdvp_ex1.state = ttn_ex\n",
    "tdvp_ex1._orthogonalize_init()\n",
    "tdvp_ex1._init_partial_tree_cache()    \n",
    "\n",
    "tdvp_ex1.run(evaluation_time=2)\n",
    "tdvp_results_ex1 = np.append( tdvp_results_ex1, tdvp_ex1.operator_results(realise=True)[0])"
   ]
  },
  {
   "cell_type": "code",
   "execution_count": null,
   "metadata": {},
   "outputs": [],
   "source": []
  }
 ],
 "metadata": {
  "kernelspec": {
   "display_name": "Python 3",
   "language": "python",
   "name": "python3"
  },
  "language_info": {
   "codemirror_mode": {
    "name": "ipython",
    "version": 3
   },
   "file_extension": ".py",
   "mimetype": "text/x-python",
   "name": "python",
   "nbconvert_exporter": "python",
   "pygments_lexer": "ipython3",
   "version": "3.12.1"
  }
 },
 "nbformat": 4,
 "nbformat_minor": 2
}
