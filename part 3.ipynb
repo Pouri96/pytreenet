{
 "cells": [
  {
   "cell_type": "code",
<<<<<<< HEAD
   "execution_count": null,
   "metadata": {},
   "outputs": [],
   "source": [
    "x"
   ]
  },
  {
   "cell_type": "code",
   "execution_count": 201,
=======
   "execution_count": 2,
>>>>>>> 2026023e7ff151dcc0bb2a1d974442d26840a20d
   "metadata": {},
   "outputs": [],
   "source": [
    "import numpy as np\n",
    "import pytreenet as ptn\n",
    "from copy import deepcopy\n",
    "np.random.seed(67)"
   ]
  },
  {
   "cell_type": "code",
<<<<<<< HEAD
   "execution_count": 202,
=======
   "execution_count": 3,
>>>>>>> 2026023e7ff151dcc0bb2a1d974442d26840a20d
   "metadata": {},
   "outputs": [],
   "source": [
    "d = 3"
   ]
  },
  {
   "cell_type": "code",
<<<<<<< HEAD
   "execution_count": 203,
=======
   "execution_count": 4,
>>>>>>> 2026023e7ff151dcc0bb2a1d974442d26840a20d
   "metadata": {},
   "outputs": [],
   "source": [
    "def save_list(list_to_save, filename):\n",
    "    filename = f\"results/{filename}\"\n",
    "    with open(filename, 'w') as file:\n",
    "        for item in list_to_save:\n",
    "            file.write(str(item) + '\\n')\n",
    "    print(f\"List saved to {filename}\")\n",
    "\n",
    "def load_list(filename):\n",
    "    filename = f\"results/{filename}\"\n",
    "    try:\n",
    "        with open(filename, 'r') as file:\n",
    "            return [complex(line.strip()) for line in file.readlines()]\n",
    "    except FileNotFoundError:\n",
    "        print(f\"File {filename} not found.\")\n",
    "        return []"
   ]
  },
  {
   "cell_type": "code",
<<<<<<< HEAD
   "execution_count": 204,
=======
   "execution_count": 5,
>>>>>>> 2026023e7ff151dcc0bb2a1d974442d26840a20d
   "metadata": {},
   "outputs": [],
   "source": [
    "import qutip as qt\n",
    "coherent_states = qt.coherent(3, 1)\n",
    "coherent_states\n",
    "def product_state(ttn, bond_dim=2 , physical_dim= 2):\n",
    "    product_state = deepcopy(ttn)\n",
    "    A = np.asarray(d*[1j/np.sqrt(physical_dim)])\n",
    "    #A = np.asarray(coherent_states[:])\n",
    "    for node_id in product_state.nodes.keys():\n",
    "        n = product_state.tensors[node_id].ndim - 1\n",
    "        tensor = A.reshape((1,) * n + (physical_dim,))\n",
    "        T = np.pad(tensor, n*((0, bond_dim-1),) + ((0, 0),))\n",
    "        product_state.tensors[node_id] = T\n",
    "        product_state.nodes[node_id].link_tensor(T)  \n",
    "    return product_state"
   ]
  },
  {
   "cell_type": "code",
<<<<<<< HEAD
   "execution_count": 205,
=======
   "execution_count": 6,
>>>>>>> 2026023e7ff151dcc0bb2a1d974442d26840a20d
   "metadata": {},
   "outputs": [],
   "source": [
    "shapes = {\n",
    "    (0, 0): (2, 2, 2, d),\n",
    "    (0, 1): (2, 2, d),\n",
    "    (0, 2): (2, 2, d),\n",
    "    (1, 0): (2, 2, d),\n",
    "    (1, 1): (2, d),\n",
    "    (1, 2): (2, d),\n",
    "    (2, 0): (2, 2, d),\n",
    "    (2, 1): (2, 2, 2, d),\n",
    "    (2, 2): (2, d)\n",
    "}\n",
    "\n",
    "\n",
    "sites = {\n",
    "    (i, j): ptn.random_tensor_node(shapes[(i, j)], identifier=f\"Site({i},{j})\") for i in range(3) for j in range(3)\n",
    "}\n",
    "\n",
    "ttn = ptn.TreeTensorNetworkState()\n",
    "\n",
    "ttn.add_root(sites[(0, 0)][0], sites[(0, 0)][1])\n",
    "\n",
    "connections = [\n",
    "    ((0, 0), (0, 1), 0, 0),\n",
    "    ((0, 1), (0, 2), 1, 0),\n",
    "    ((0, 2), (1, 2), 1, 0),\n",
    "    ((0, 0), (1, 0), 1, 0),\n",
    "    ((1, 0), (2, 0), 1, 0),\n",
    "    ((2, 0), (2, 1), 1, 0),\n",
    "    ((2, 1), (1, 1), 1, 0),\n",
    "    ((2, 1), (2, 2), 2, 0)]\n",
    "\n",
    "\n",
    "for (parent, child, parent_leg, child_leg) in connections:\n",
    "    parent_id = f\"Site({parent[0]},{parent[1]})\"\n",
    "    child_id = f\"Site({child[0]},{child[1]})\"\n",
    "    ttn.add_child_to_parent(sites[child][0], sites[child][1], child_leg, parent_id, parent_leg)\n",
    "\n",
    "# ttn = product_state(ttn , bond_dim= 2, physical_dim = d)\n",
    "\n",
    "nodes = {\n",
    "    (i, j): (ptn.Node(tensor=ttn.tensors[f\"Site({i},{j})\"].conj() , identifier=f\"Node({i},{j})\"), ttn.tensors[f\"Site({i},{j})\"].conj()) for i in range(3) for j in range(3)\n",
    "}\n",
    "\n",
    "ttn.add_child_to_parent(nodes[(0,0)][0], nodes[(0,0)][1], 2, \"Site(0,0)\", 2)\n",
    "\n",
    "connections = [\n",
    "    ((0, 0), (0, 1), 1, 0),\n",
    "    ((0, 1), (0, 2), 1, 0),\n",
    "    ((0, 2), (1, 2), 1, 0),\n",
    "    ((0, 0), (1, 0), 2, 0),\n",
    "    ((1, 0), (2, 0), 1, 0),\n",
    "    ((2, 0), (2, 1), 1, 0),\n",
    "    ((2, 1), (1, 1), 1, 0),\n",
    "    ((2, 1), (2, 2), 2, 0),\n",
    "]\n",
    "\n",
    "for (parent, child, parent_leg, child_leg) in connections:\n",
    "    parent_id = f\"Node({parent[0]},{parent[1]})\"\n",
    "    child_id = f\"Node({child[0]},{child[1]})\"\n",
    "    ttn.add_child_to_parent(nodes[child][0], nodes[child][1], child_leg, parent_id, parent_leg)"
   ]
  },
  {
   "cell_type": "code",
<<<<<<< HEAD
   "execution_count": 206,
=======
   "execution_count": 7,
>>>>>>> 2026023e7ff151dcc0bb2a1d974442d26840a20d
   "metadata": {},
   "outputs": [
    {
     "data": {
      "text/plain": [
       "array(1.+0.j)"
      ]
     },
<<<<<<< HEAD
     "execution_count": 206,
=======
     "execution_count": 7,
>>>>>>> 2026023e7ff151dcc0bb2a1d974442d26840a20d
     "metadata": {},
     "output_type": "execute_result"
    }
   ],
   "source": [
    "I = ptn.TTNO.Identity(ttn)\n",
    "ptn.adjust_bra_to_ket(ttn)\n",
    "\n",
    "for ket_id in list(ttn.nodes.keys())[0:len(ttn.nodes)//2]:\n",
    "    i, j = ket_id.replace('Site(', '').replace(')', '').split(',')\n",
    "    bra_id = f\"Node({i},{j})\"\n",
    "    assert np.array_equal(ttn.tensors[ket_id].conj(), ttn.tensors[bra_id])\n",
    "\n",
    "ttn = ptn.normalize_ttn_Lindblad(ttn)\n",
    "\n",
    "ttn.operator_expectation_value_Lindblad(I)\n"
   ]
  },
  {
   "cell_type": "code",
<<<<<<< HEAD
   "execution_count": 207,
=======
   "execution_count": 8,
>>>>>>> 2026023e7ff151dcc0bb2a1d974442d26840a20d
   "metadata": {},
   "outputs": [],
   "source": [
    "def Liouville(t, U, J, m, L, Lx, Ly, d):\n",
    "    creation_op, annihilation_op, number_op = ptn.bosonic_operators(d)\n",
    "    \n",
    "    conversion_dict = {\n",
    "        \"b^dagger\": creation_op,\n",
    "        \"b\": annihilation_op,\n",
    "        f\"I{d}\": np.eye(d)\n",
    "\n",
    "\n",
    "    }\n",
    "    \n",
    "    conversion_dict.update({\n",
    "        \"it * b^dagger\": t*1j * creation_op,\n",
    "        \"it * b\": t*1j * annihilation_op,\n",
    "        \"-iU * n * (n - 1)\": -U*1j * number_op @ (number_op - np.eye(d)),\n",
    "        \"m*n\": m*number_op\n",
    "    })\n",
    "    \n",
    "    terms = []\n",
    "    \n",
    "    # Hopping terms\n",
    "    for x in range(Lx):\n",
    "        for y in range(Ly):\n",
    "            current_site = f\"Site({x},{y})\"\n",
    "            \n",
    "            # Horizontal connections\n",
    "            if x < Lx - 1:\n",
    "                right_neighbor = f\"Site({x+1},{y})\"\n",
    "                terms.append(ptn.TensorProduct({current_site: \"it * b^dagger\", right_neighbor: \"b\"}))\n",
    "                terms.append(ptn.TensorProduct({current_site: \"it * b\", right_neighbor: \"b^dagger\"}))\n",
    "            \n",
    "            # Vertical connections\n",
    "            if y < Ly - 1:\n",
    "                up_neighbor = f\"Site({x},{y+1})\"\n",
    "                terms.append(ptn.TensorProduct({current_site: \"it * b^dagger\", up_neighbor: \"b\"}))\n",
    "                terms.append(ptn.TensorProduct({current_site: \"it * b\", up_neighbor: \"b^dagger\"}))\n",
    "    \n",
    "    # On-site interaction terms\n",
    "    for x in range(Lx):\n",
    "        for y in range(Ly):\n",
    "            current_site = f\"Site({x},{y})\"\n",
    "            terms.append(ptn.TensorProduct({current_site: \"-iU * n * (n - 1)\"}))\n",
    "\n",
    "    # Chemical potential terms\n",
    "    for x in range(Lx):\n",
    "        for y in range(Ly):\n",
    "            current_site = f\"Site({x},{y})\"\n",
    "            terms.append(ptn.TensorProduct({current_site: \"m*n\"}))        \n",
    "    \n",
    "    H1 = ptn.Hamiltonian(terms, conversion_dict)\n",
    "    \n",
    "    conversion_dict = {\n",
    "        \"b^dagger.T\": creation_op.T,\n",
    "        \"b.T\": annihilation_op.T,\n",
    "        f\"I{d}\": np.eye(d)\n",
    "    }\n",
    "    \n",
    "    conversion_dict.update({\n",
    "        \"-it * b^dagger.T\": -t*1j * creation_op.T,\n",
    "        \"-it * b.T\": -t*1j * annihilation_op.T,\n",
    "        \"iU * n * (n - 1).T\": (U*1j * number_op @ (number_op - np.eye(d))).T,\n",
    "        \"-m*n.T\": -m * number_op.T\n",
    "\n",
    "    })\n",
    "    \n",
    "    terms = []\n",
    "    \n",
    "    # Hopping terms\n",
    "    for x in range(Lx):\n",
    "        for y in range(Ly):\n",
    "            current_site = f\"Node({x},{y})\"\n",
    "            \n",
    "            # Horizontal connections\n",
    "            if x < Lx - 1:\n",
    "                right_neighbor = f\"Node({x+1},{y})\"\n",
    "                terms.append(ptn.TensorProduct({current_site: \"-it * b^dagger.T\", right_neighbor: \"b.T\"}))\n",
    "                terms.append(ptn.TensorProduct({current_site: \"-it * b.T\", right_neighbor: \"b^dagger.T\"}))\n",
    "            \n",
    "            # Vertical connections\n",
    "            if y < Ly - 1:\n",
    "                up_neighbor = f\"Node({x},{y+1})\"\n",
    "                terms.append(ptn.TensorProduct({current_site: \"-it * b^dagger.T\", up_neighbor: \"b.T\"}))\n",
    "                terms.append(ptn.TensorProduct({current_site: \"-it * b.T\", up_neighbor: \"b^dagger.T\"}))\n",
    "    \n",
    "    # On-site interaction terms\n",
    "    for x in range(Lx):\n",
    "        for y in range(Ly):\n",
    "            current_site = f\"Node({x},{y})\"\n",
    "            terms.append(ptn.TensorProduct({current_site: \"iU * n * (n - 1).T\"}))    \n",
    "\n",
    "    # Chemical potential terms\n",
    "    for x in range(Lx):\n",
    "        for y in range(Ly):\n",
    "            current_site = f\"Node({x},{y})\"\n",
    "            terms.append(ptn.TensorProduct({current_site: \"-m*n.T\"}))\n",
    "            \n",
    "    H2 = ptn.Hamiltonian(terms, conversion_dict)\n",
    "    H1.__add__(H2)\n",
    "\n",
    "    \n",
    "    J = np.sqrt(J)\n",
    "    conversion_dict = {    \n",
    "    \"L\": J*L,\n",
    "    \"L^dagger.T\": J*L.conj(),\n",
    "    \"-1/2 (L^dagger @ L) \": -1/2 * J *  L.conj().T @ L,\n",
    "    \"-1/2 (L^dagger @ L).T\":-1/2 * J * (L.conj().T @ L).T}\n",
    "\n",
    "    terms = []\n",
    "    for x in range(Lx):\n",
    "        for y in range(Ly):\n",
    "            out_site = f\"Node({x},{y})\"\n",
    "            in_site = f\"Site({x},{y})\"\n",
    "            terms.append(ptn.TensorProduct({in_site: \"L\"}))\n",
    "            terms.append(ptn.TensorProduct({out_site: \"L^dagger.T\"}))\n",
    "            terms.append(ptn.TensorProduct({in_site: \"-1/2 (L^dagger @ L) \"}))\n",
    "            terms.append(ptn.TensorProduct({out_site: \"-1/2 (L^dagger @ L).T\"}))\n",
    "\n",
    "    H3 = ptn.Hamiltonian(terms, conversion_dict)\n",
    "    H1.__add__(H3)\n",
    "    return H1"
   ]
  },
  {
   "cell_type": "code",
<<<<<<< HEAD
   "execution_count": 208,
=======
   "execution_count": 9,
>>>>>>> 2026023e7ff151dcc0bb2a1d974442d26840a20d
   "metadata": {},
   "outputs": [],
   "source": [
    "def Unitary(t, U, m, Lx, Ly, d):\n",
    "    creation_op, annihilation_op, number_op = ptn.bosonic_operators(d)\n",
    "    \n",
    "    conversion_dict = {\n",
    "        \"b^dagger\": creation_op,\n",
    "        \"b\": annihilation_op,\n",
    "        f\"I{d}\": np.eye(d)\n",
    "    }\n",
    "    \n",
    "    conversion_dict.update({\n",
    "        \"it * b^dagger\": t * 1.0j* creation_op,\n",
    "        \"it * b\": t* 1.0j * annihilation_op,\n",
    "        \"-iU * n * (n - 1)\": -U* 1.0j * number_op @ (number_op - np.eye(d)),\n",
    "        \"m*n\": m * number_op\n",
    "\n",
    "    })\n",
    "    \n",
    "    terms = []\n",
    "    \n",
    "    # Hopping terms\n",
    "    for x in range(Lx):\n",
    "        for y in range(Ly):\n",
    "            current_site = f\"Site({x},{y})\"\n",
    "            \n",
    "            # Horizontal connections\n",
    "            if x < Lx - 1:\n",
    "                right_neighbor = f\"Site({x+1},{y})\"\n",
    "                terms.append(ptn.TensorProduct({current_site: \"it * b^dagger\", right_neighbor: \"b\"}))\n",
    "                terms.append(ptn.TensorProduct({current_site: \"it * b\", right_neighbor: \"b^dagger\"}))\n",
    "            \n",
    "            # Vertical connections\n",
    "            if y < Ly - 1:\n",
    "                up_neighbor = f\"Site({x},{y+1})\"\n",
    "                terms.append(ptn.TensorProduct({current_site: \"it * b^dagger\", up_neighbor: \"b\"}))\n",
    "                terms.append(ptn.TensorProduct({current_site: \"it * b\", up_neighbor: \"b^dagger\"}))\n",
    "    \n",
    "    # On-site interaction terms\n",
    "    for x in range(Lx):\n",
    "        for y in range(Ly):\n",
    "            current_site = f\"Site({x},{y})\"\n",
    "            terms.append(ptn.TensorProduct({current_site: \"-iU * n * (n - 1)\"}))\n",
    "    \n",
    "    # Chemical potential terms\n",
    "    for x in range(Lx):\n",
    "        for y in range(Ly):\n",
    "            current_site = f\"Site({x},{y})\"\n",
    "            terms.append(ptn.TensorProduct({current_site: \"m*n\"}))\n",
    "\n",
    "    H1 = ptn.Hamiltonian(terms, conversion_dict)\n",
    "    \n",
    "    conversion_dict = {\n",
    "        \"b^dagger.T\": creation_op.T,\n",
    "        \"b.T\": annihilation_op.T,\n",
    "        f\"I{d}\": np.eye(d)\n",
    "    }\n",
    "    \n",
    "    conversion_dict.update({\n",
    "        \"-it * b^dagger.T\": -t* 1.0j * creation_op.T,\n",
    "        \"-it * b.T\": -t* 1.0j * annihilation_op.T,\n",
    "        \"iU * n * (n - 1).T\": (U* 1.0j* number_op @ (number_op - np.eye(d))).T,\n",
    "        \"-m*n.T\": -m * number_op.T\n",
    "    })\n",
    "    \n",
    "    terms = []\n",
    "    \n",
    "    # Hopping terms\n",
    "    for x in range(Lx):\n",
    "        for y in range(Ly):\n",
    "            current_site = f\"Node({x},{y})\"\n",
    "            \n",
    "            # Horizontal connections\n",
    "            if x < Lx - 1:\n",
    "                right_neighbor = f\"Node({x+1},{y})\"\n",
    "                terms.append(ptn.TensorProduct({current_site: \"-it * b^dagger.T\", right_neighbor: \"b.T\"}))\n",
    "                terms.append(ptn.TensorProduct({current_site: \"-it * b.T\", right_neighbor: \"b^dagger.T\"}))\n",
    "            \n",
    "            # Vertical connections\n",
    "            if y < Ly - 1:\n",
    "                up_neighbor = f\"Node({x},{y+1})\"\n",
    "                terms.append(ptn.TensorProduct({current_site: \"-it * b^dagger.T\", up_neighbor: \"b.T\"}))\n",
    "                terms.append(ptn.TensorProduct({current_site: \"-it * b.T\", up_neighbor: \"b^dagger.T\"}))\n",
    "    \n",
    "    # On-site interaction terms\n",
    "    for x in range(Lx):\n",
    "        for y in range(Ly):\n",
    "            current_site = f\"Node({x},{y})\"\n",
    "            terms.append(ptn.TensorProduct({current_site: \"iU * n * (n - 1).T\"}))   \n",
    "\n",
    "    # Chemical potential terms\n",
    "    for x in range(Lx):\n",
    "        for y in range(Ly):\n",
    "            current_site = f\"Node({x},{y})\"\n",
    "            terms.append(ptn.TensorProduct({current_site: \"-m*n.T\"}))         \n",
    "\n",
    "    H2 = ptn.Hamiltonian(terms, conversion_dict)\n",
    "    H1.__add__(H2)\n",
    "    return H1"
   ]
  },
  {
   "cell_type": "code",
<<<<<<< HEAD
   "execution_count": 209,
=======
   "execution_count": 10,
>>>>>>> 2026023e7ff151dcc0bb2a1d974442d26840a20d
   "metadata": {},
   "outputs": [],
   "source": [
    "def BoseHubbard_ham(t, U, m, Lx, Ly, d):\n",
    "    creation_op, annihilation_op, number_op = ptn.bosonic_operators(d)\n",
    "    \n",
    "    conversion_dict = {\n",
    "        \"b^dagger\": creation_op,\n",
    "        \"b\": annihilation_op,\n",
    "        f\"I{d}\": np.eye(d)}\n",
    "    \n",
    "    conversion_dict.update({\n",
    "        \"-t * b^dagger\": -t * creation_op,\n",
    "        \"-t * b\": -t * annihilation_op,\n",
    "        \"U * n * (n - 1)\": U * number_op @ (number_op - np.eye(d)),\n",
    "        \"-m*n\": -m * number_op\n",
    "    })\n",
    "    \n",
    "    terms = []\n",
    "    \n",
    "    # Hopping terms\n",
    "    for x in range(Lx):\n",
    "        for y in range(Ly):\n",
    "            current_site = f\"Site({x},{y})\"\n",
    "            \n",
    "            # Horizontal connections\n",
    "            if x < Lx - 1:\n",
    "                right_neighbor = f\"Site({x+1},{y})\"\n",
    "                terms.append(ptn.TensorProduct({current_site: \"-t * b^dagger\", right_neighbor: \"b\"}))\n",
    "                terms.append(ptn.TensorProduct({current_site: \"-t * b\", right_neighbor: \"b^dagger\"}))\n",
    "            \n",
    "            # Vertical connections\n",
    "            if y < Ly - 1:\n",
    "                up_neighbor = f\"Site({x},{y+1})\"\n",
    "                terms.append(ptn.TensorProduct({current_site: \"-t * b^dagger\", up_neighbor: \"b\"}))\n",
    "                terms.append(ptn.TensorProduct({current_site: \"-t * b\", up_neighbor: \"b^dagger\"}))\n",
    "    \n",
    "    # On-site interaction terms\n",
    "    for x in range(Lx):\n",
    "        for y in range(Ly):\n",
    "            current_site = f\"Site({x},{y})\"\n",
    "            terms.append(ptn.TensorProduct({current_site: \"U * n * (n - 1)\"}))\n",
    "    \n",
    "    # Chemical potential terms\n",
    "    for x in range(Lx):\n",
    "        for y in range(Ly):\n",
    "            current_site = f\"Site({x},{y})\"\n",
    "            terms.append(ptn.TensorProduct({current_site: \"-m*n\"}))\n",
    "\n",
    "    return ptn.Hamiltonian(terms, conversion_dict)\n",
    "\n",
    "def BoseHubbard_ham_tp(t, U, Lx, Ly):\n",
    "    creation_op, annihilation_op, number_op = ptn.bosonic_operators(d)\n",
    "    \n",
    "    conversion_dict = {\n",
    "        \"b^dagger\": creation_op,\n",
    "        \"b\": annihilation_op,\n",
    "        f\"I{d}\": np.eye(d)\n",
    "    }\n",
    "    \n",
    "    conversion_dict.update({\n",
    "        \"-t * b^dagger\": -t * creation_op,\n",
    "        \"-t * b\": -t * annihilation_op,\n",
    "        \"U * n * (n - 1)\": U * number_op @ (number_op - np.eye(d))\n",
    "    })\n",
    "    \n",
    "    terms = []\n",
    "    \n",
    "    # Hopping terms\n",
    "    for x in range(Lx):\n",
    "        for y in range(Ly):\n",
    "            current_site = f\"Site({x},{y})\"\n",
    "            \n",
    "            # Horizontal connections\n",
    "            if x < Lx - 1:\n",
    "                right_neighbor = f\"Site({x+1},{y})\"\n",
    "                terms.append(ptn.TensorProduct({current_site:  -t * creation_op, right_neighbor: annihilation_op}))\n",
    "                terms.append(ptn.TensorProduct({current_site: -t * annihilation_op, right_neighbor: creation_op}))\n",
    "            \n",
    "            # Vertical connections\n",
    "            if y < Ly - 1:\n",
    "                up_neighbor = f\"Site({x},{y+1})\"\n",
    "                terms.append(ptn.TensorProduct({current_site:  -t * creation_op, up_neighbor: annihilation_op}))\n",
    "                terms.append(ptn.TensorProduct({current_site: -t * annihilation_op, up_neighbor: creation_op}))\n",
    "    \n",
    "    # On-site interaction terms\n",
    "    for x in range(Lx):\n",
    "        for y in range(Ly):\n",
    "            current_site = f\"Site({x},{y})\"\n",
    "            terms.append(ptn.TensorProduct({current_site: U * number_op @ (number_op - np.eye(d))}))\n",
    "    \n",
    "    return terms"
   ]
  },
  {
   "cell_type": "code",
<<<<<<< HEAD
   "execution_count": 210,
=======
   "execution_count": 11,
>>>>>>> 2026023e7ff151dcc0bb2a1d974442d26840a20d
   "metadata": {},
   "outputs": [],
   "source": [
    "def Number_op_total(Lx, Ly, dim=2):\n",
    "    creation_op, annihilation_op, number_op = ptn.bosonic_operators(dim)\n",
    "    conversion_dict = {\"n\": number_op , f\"I{dim}\": np.eye(dim)}\n",
    "\n",
    "    terms = []\n",
    "    for x in range(Lx):\n",
    "        for y in range(Ly):\n",
    "            current_site = f\"Site({x},{y})\"\n",
    "            terms.append(ptn.TensorProduct({current_site: \"n\"}))\n",
    "\n",
    "    return ptn.Hamiltonian(terms, conversion_dict)     \n",
    "\n",
    "def Number_op_local( node_id , dim=2):\n",
    "    creation_op, annihilation_op, number_op = ptn.bosonic_operators(dim)\n",
    "    conversion_dict = {\"n\": number_op , f\"I{dim}\": np.eye(dim)}\n",
    "\n",
    "    terms = []\n",
    "    terms.append(ptn.TensorProduct({node_id: \"n\"}))\n",
    "\n",
    "    return ptn.Hamiltonian(terms, conversion_dict)\n",
    "\n",
    "def Correlation_function(node_id1, node_id2, dim=2):\n",
    "    creation_op, annihilation_op, number_op = ptn.bosonic_operators(dim)\n",
    "    conversion_dict = {\n",
    "        \"b^dagger\": creation_op,\n",
    "        \"b\": annihilation_op,\n",
    "        f\"I{dim}\": np.eye(dim)\n",
    "    }\n",
    "    \n",
    "    terms = []\n",
    "    terms.append(ptn.TensorProduct({node_id1: \"b^dagger\", node_id2: \"b\"}))\n",
    "    return ptn.Hamiltonian(terms, conversion_dict)"
   ]
  },
  {
   "cell_type": "code",
<<<<<<< HEAD
   "execution_count": 211,
=======
   "execution_count": 12,
>>>>>>> 2026023e7ff151dcc0bb2a1d974442d26840a20d
   "metadata": {},
   "outputs": [],
   "source": [
    "def exchange_bra_ket_tensors(ttn):\n",
    "    state = deepcopy(ttn)\n",
    "    ptn.adjust_bra_to_ket(state)\n",
    "    for ket_id in list(state.nodes.keys())[:(len(state.nodes.keys())//2)]:\n",
    "        i, j = ket_id.replace('Site(', '').replace(')', '').split(',')\n",
    "        bra_id = f\"Node({i},{j})\"\n",
    "        T1 = state.tensors[bra_id]\n",
    "        T2 = state.tensors[ket_id]\n",
    "        state.tensors[ket_id] = T1\n",
    "        state.nodes[ket_id].link_tensor(T1)\n",
    "        state.tensors[bra_id] = T2\n",
    "        state.nodes[bra_id].link_tensor(T2)\n",
    "    return state\n",
    "\n",
    "def substitute_out_or_in_legs_of_ttn_with_identity(state, out_or_in , bond_dim=2):\n",
    "    ttn = deepcopy(state)\n",
    "    if out_or_in == \"Out\":\n",
    "       for node_id in list(ttn.nodes.keys())[(len(ttn.nodes.keys())//2):]:\n",
    "        n = ttn.tensors[node_id].ndim - 1\n",
    "        T = np.reshape(np.array([[1,0]]), (n*(1,) + (2,)))\n",
    "        T = np.pad(T, n*((0, bond_dim-1),) + ((0, 0),))\n",
    "        ttn.tensors[node_id] = T\n",
    "        ttn.nodes[node_id].link_tensor(T)   \n",
    "    if out_or_in == \"In\":\n",
    "        for node_id in list(ttn.nodes.keys())[:len(ttn.nodes.keys())//2]:\n",
    "            n = ttn.tensors[node_id].ndim\n",
    "            T = ttn.tensors[node_id]\n",
    "            T = np.reshape(np.array([[1,0]]), (n*(1,) + (2,)))\n",
    "            T = np.pad(T, n*((0, bond_dim-1),) + ((0, 0),))\n",
    "            ttn.tensors[node_id] = T\n",
    "            ttn.nodes[node_id].link_tensor(T)        \n",
    "    return ttn\n"
   ]
  },
  {
   "cell_type": "code",
<<<<<<< HEAD
   "execution_count": 212,
=======
   "execution_count": 13,
>>>>>>> 2026023e7ff151dcc0bb2a1d974442d26840a20d
   "metadata": {},
   "outputs": [
    {
     "name": "stdout",
     "output_type": "stream",
     "text": [
      "(1+0j)\n",
      "(9.20362042825411-4.440892098500626e-16j)\n",
<<<<<<< HEAD
=======
      "(0.8938646652851312+2.7755575615628914e-17j)\n",
>>>>>>> 2026023e7ff151dcc0bb2a1d974442d26840a20d
      "(-0.3479940520577274-6.938893903907228e-18j)\n",
      "0.15118553008831068\n"
     ]
    }
   ],
   "source": [
    "t = 0.1\n",
    "U = 0.1\n",
    "m = 0.1\n",
    "\n",
    "# TTNO : Hamiltonian acting on in_legs\n",
    "H1 = BoseHubbard_ham(t, U, m, 3, 3, d)\n",
    "H1 = H1.pad_with_identities(ttn, symbolic= True)\n",
    "H = ptn.TTNO.from_hamiltonian(H1, ttn)\n",
    "\n",
    "# TTNO : Liouville operator \n",
    "creation_op, annihilation_op, number_op = ptn.bosonic_operators(d)\n",
    "L = creation_op \n",
    "J = 0.1\n",
    "H1 = Liouville(t, U, J, m ,L, 3, 3, d)\n",
    "H1 = H1.pad_with_identities(ttn , symbolic= True)\n",
    "L_fancy = ptn.TTNO.from_hamiltonian(H1, ttn)\n",
    "\n",
    "# TTNO : Unitary operator\n",
    "H1 = Unitary(t, U, m, 3, 3, d)\n",
    "H1 = H1.pad_with_identities(ttn, symbolic= True)\n",
    "U = ptn.TTNO.from_hamiltonian(H1, ttn)\n",
    "\n",
    "I = ptn.TTNO.Identity(ttn)\n",
    "\n",
    "N = Number_op_total(3, 3, d)\n",
    "N = N.pad_with_identities(ttn, symbolic= True)\n",
    "N = ptn.TTNO.from_hamiltonian(N, ttn)\n",
    "\n",
    "n_site_dict = {}\n",
    "for node in list(ttn.nodes.values())[:(len(ttn.nodes.keys())//2)]:\n",
    "    node_id = node.identifier\n",
    "    n_site = Number_op_local(node_id, d)\n",
    "    n_site = n_site.pad_with_identities(ttn, symbolic=True)\n",
    "    n_site = ptn.TTNO.from_hamiltonian(n_site, ttn)\n",
    "    n_site_dict[f'n_{node_id}'] = n_site\n",
    "n_site_list = list(n_site_dict.values())\n",
    "\n",
    "# Correlation function\n",
    "node_id1 = \"Site(0,0)\"\n",
    "node_id2 = \"Site(2,2)\"\n",
    "H1 = Correlation_function(node_id1, node_id2, d)\n",
    "H1 = H1.pad_with_identities(ttn, symbolic= True)\n",
    "Corr = ptn.TTNO.from_hamiltonian(H1, ttn)\n",
    "\n",
    "print(ttn.operator_expectation_value_Lindblad(I))\n",
    "print(ttn.operator_expectation_value_Lindblad(N))\n",
    "print(ttn.operator_expectation_value_Lindblad(H))\n",
    "print(np.linalg.norm(ttn.operator_expectation_value_Lindblad(Corr)))\n"
   ]
  },
  {
   "cell_type": "code",
<<<<<<< HEAD
   "execution_count": 213,
=======
   "execution_count": 15,
>>>>>>> 2026023e7ff151dcc0bb2a1d974442d26840a20d
   "metadata": {},
   "outputs": [],
   "source": [
    "#ttn = ptn.expand_subspace(ttn, U, 3, 0.001, ptn.SVDParameters(max_bond_dim = 24 , rel_tol= 1e-8 , total_tol = -np.inf)\n",
    "#                          ,1e-30, ptn.KrylovBasisMode.apply_1st_order_expansion)\n",
    "#ttn.max_bond_dim()"
   ]
  },
  {
   "cell_type": "code",
<<<<<<< HEAD
   "execution_count": 214,
=======
   "execution_count": 16,
>>>>>>> 2026023e7ff151dcc0bb2a1d974442d26840a20d
   "metadata": {},
   "outputs": [],
   "source": [
    "# Config : Lindblad = True\n",
    "# time_evolve with exponent = hamiltonian * time_difference\n",
    "# evaluate_operator with operator_expectation_value_Lindblad(operator)\n",
    "# normalize_ttn_Lindblad after each run_one_time_step_ex\n",
    "\n",
    "tdvp_ex1 = ptn.SecondOrderOneSiteTDVP(initial_state = ttn,\n",
    "                                     hamiltonian = L_fancy,\n",
    "                                     time_step_size = 0.01,\n",
    "                                     final_time = 2,\n",
    "                                     operators = [H ,N, Corr],\n",
    "                                     num_vecs = 3,\n",
    "                                     tau = 1e-3,\n",
    "                                     SVDParameters = ptn.SVDParameters(max_bond_dim = 10 , rel_tol= 1e-1 , total_tol = -np.inf),\n",
    "                                     expansion_steps = 10,\n",
    "                                     initial_tol= 1e-17,\n",
    "                                     final_tol= 1e-16,\n",
    "                                     tol_step= 1,\n",
    "                                     max_bond= 40,\n",
    "                                     norm_tol= 0,\n",
    "                                     KrylovBasisMode = ptn.KrylovBasisMode.apply_1st_order_expansion,\n",
    "                                     config = ptn.TTNTimeEvolutionConfig(record_bond_dim=True,\n",
    "                                                                         Lindblad = True) )"
   ]
  },
  {
   "cell_type": "code",
<<<<<<< HEAD
   "execution_count": 215,
=======
   "execution_count": 17,
>>>>>>> 2026023e7ff151dcc0bb2a1d974442d26840a20d
   "metadata": {},
   "outputs": [
    {
     "ename": "NameError",
     "evalue": "name 'v' is not defined",
     "output_type": "error",
     "traceback": [
      "\u001b[1;31m---------------------------------------------------------------------------\u001b[0m",
      "\u001b[1;31mNameError\u001b[0m                                 Traceback (most recent call last)",
<<<<<<< HEAD
      "Cell \u001b[1;32mIn[215], line 1\u001b[0m\n\u001b[1;32m----> 1\u001b[0m \u001b[43mv\u001b[49m\n",
=======
      "Cell \u001b[1;32mIn[17], line 1\u001b[0m\n\u001b[1;32m----> 1\u001b[0m \u001b[43mv\u001b[49m\n",
>>>>>>> 2026023e7ff151dcc0bb2a1d974442d26840a20d
      "\u001b[1;31mNameError\u001b[0m: name 'v' is not defined"
     ]
    }
   ],
   "source": [
    "v"
   ]
  },
  {
   "cell_type": "markdown",
   "metadata": {},
   "source": [
    "# Check bond-ex parameters "
   ]
  },
  {
   "cell_type": "code",
<<<<<<< HEAD
   "execution_count": 81,
   "metadata": {},
   "outputs": [
    {
     "data": {
      "text/plain": [
       "(<pytreenet.ttno.ttno.TTNO at 0x1e024a1a1b0>,\n",
       " {'Site(0,0)': 'Node(0,0)',\n",
       "  'Node(0,0)': 'Node(1,0)',\n",
       "  'Node(2,1)': 'Node(1,1)',\n",
       "  'Site(2,1)': 'Site(1,1)'})"
      ]
     },
     "execution_count": 81,
     "metadata": {},
     "output_type": "execute_result"
    }
   ],
   "source": [
    "ptn.max_two_neighbour_form(L_fancy, tdvp_ex1.two_neighbour_form_dict)"
   ]
  },
  {
   "cell_type": "code",
   "execution_count": 84,
=======
   "execution_count": null,
>>>>>>> 2026023e7ff151dcc0bb2a1d974442d26840a20d
   "metadata": {},
   "outputs": [
    {
     "name": "stderr",
     "output_type": "stream",
     "text": [
      "100%|██████████| 11/11 [00:05<00:00,  2.20it/s]"
     ]
    },
    {
     "name": "stdout",
     "output_type": "stream",
     "text": [
      "16\n",
      "16\n"
     ]
    },
    {
     "name": "stderr",
     "output_type": "stream",
     "text": [
      "\n"
     ]
    }
   ],
   "source": [
    "tdvp_ex1.run_ex(evaluation_time=2)\n",
    "times = tdvp_ex1.times()\n",
    "\n",
    "print(tdvp_ex1.state.max_bond_dim())\n",
    "\n",
    "ttn = tdvp_ex1.state\n",
    "ttn = ptn.original_form(ttn,tdvp_ex1.two_neighbour_form_dict)\n",
    "print(ttn.max_bond_dim())"
   ]
  },
  {
   "cell_type": "code",
   "execution_count": 85,
   "metadata": {},
   "outputs": [
    {
     "name": "stdout",
     "output_type": "stream",
     "text": [
      "24\n",
      "24\n"
     ]
    }
   ],
   "source": [
    "tdvp_ex1.state = ptn.expand_subspace(tdvp_ex1.state, L_fancy, 3, 0.01, ptn.SVDParameters(max_bond_dim = np.inf , rel_tol= 1e-1 , total_tol = -np.inf)\n",
    "                                     ,1e-20, ptn.KrylovBasisMode.apply_1st_order_expansion)\n",
    "tdvp_ex1.state.move_orthogonalization_center(tdvp_ex1.update_path[0],mode = ptn.SplitMode.KEEP)\n",
    "tdvp_ex1.partial_tree_cache = ptn.PartialTreeCachDict()\n",
    "tdvp_ex1._init_partial_tree_cache()\n",
    "print(tdvp_ex1.state.max_bond_dim())\n",
    "\n",
    "ttn = tdvp_ex1.state\n",
    "ttn = ptn.original_form(ttn,tdvp_ex1.two_neighbour_form_dict)\n",
    "print(ttn.max_bond_dim())"
   ]
  },
  {
   "cell_type": "code",
   "execution_count": 195,
   "metadata": {},
   "outputs": [
    {
     "name": "stderr",
     "output_type": "stream",
     "text": [
      "100%|██████████| 201/201 [08:56<00:00,  2.67s/it]\n"
     ]
    }
   ],
   "source": [
    "tdvp_ex1.run_ex(evaluation_time=2)\n"
   ]
  },
  {
   "cell_type": "code",
   "execution_count": 196,
   "metadata": {},
   "outputs": [
    {
     "data": {
      "image/png": "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",
      "text/plain": [
       "<Figure size 1200x600 with 1 Axes>"
      ]
     },
     "metadata": {},
     "output_type": "display_data"
    }
   ],
   "source": [
    "import matplotlib.pyplot as plt\n",
    "\n",
    "fig, ax = plt.subplots(figsize=(12, 6))\n",
    "\n",
    "for key, values in tdvp_ex1.bond_dims.items():\n",
    "    x = list(range(len(values)))\n",
    "    ax.plot(x, values, color='blue')\n",
    "\n",
    "#blue_patch = plt.Line2D([0], [0], color='blue', label='QR-split form (8 min)')\n",
    "\n",
    "ax.set_xlabel('Index')\n",
    "ax.set_ylabel('Bond dimensions')\n",
    "ax.set_title('time (tiem_step = 0.01)')\n",
    "\n",
    "\n",
    "plt.show()\n"
   ]
  },
  {
   "cell_type": "code",
   "execution_count": 197,
   "metadata": {},
   "outputs": [],
   "source": [
    "times = tdvp_ex1.times()\n",
    "results_H = tdvp_ex1.operator_results()[0]\n",
    "results_N = tdvp_ex1.operator_results()[1]\n",
    "results_Corr = [np.linalg.norm(a) for a in tdvp_ex1.operator_results()[2]]"
   ]
  },
  {
   "cell_type": "code",
   "execution_count": 199,
   "metadata": {},
   "outputs": [
    {
     "name": "stderr",
     "output_type": "stream",
     "text": [
      "No artists with labels found to put in legend.  Note that artists whose label start with an underscore are ignored when legend() is called with no argument.\n"
     ]
    },
    {
     "data": {
      "text/plain": [
       "<matplotlib.legend.Legend at 0x239725a3a40>"
      ]
     },
     "execution_count": 199,
     "metadata": {},
     "output_type": "execute_result"
    },
    {
     "data": {
      "image/png": "iVBORw0KGgoAAAANSUhEUgAAAcYAAAHBCAYAAADzZxuRAAAAOXRFWHRTb2Z0d2FyZQBNYXRwbG90bGliIHZlcnNpb24zLjguMSwgaHR0cHM6Ly9tYXRwbG90bGliLm9yZy/SrBM8AAAACXBIWXMAAA9hAAAPYQGoP6dpAAA/wklEQVR4nO3de3yT9f0+/iuHJmnTJj2fW07lLJSCgOABkHKoDGFznnUwp9v8bE50ntgG6M8D6pzuIL8xHYp4wDnloDjxyEHkoNByhtoThdJzadOmhxzf3z/ahEZaWtIkd5pcz8cjD+mdO+mLuyWX7+MtE0IIEBEREQBALnUBRERE/oTBSERE1AmDkYiIqBMGIxERUScMRiIiok4YjERERJ0wGImIiDphMBIREXWilLoAb7Pb7SgvL0dERARkMpnU5RARkUSEEGhqakJycjLk8u7bhQEfjOXl5UhLS5O6DCIi8hNnzpxBampqt88HfDBGREQAaL8QOp1O4mqIiEgqjY2NSEtLc+ZCdwI+GB3dpzqdjsFIREQ9Dqtx8g0REVEnDEYiIqJOGIxERESdBPwYIxER9X9CCFitVthstm7PUSgUUCqVfV6ax2AkIiK/ZjabUVFRgZaWlh7PDQsLQ1JSElQqldvfj8FIRER+y263o6SkBAqFAsnJyVCpVF22CIUQMJvNqKmpQUlJCYYOHXrRRfwXw2AkIiK/ZTabYbfbkZaWhrCwsIueGxoaipCQEJSWlsJsNkOj0bj1PTn5hoiI/F5vW3/uthJd3qPP70BERBRAGIxERESdMBiJiIg6YTASERF1wmAkIiK/J4Tw6HkXw+UaRETkVW0WGz4+XIENeWWoM5ohl8mgkMugVSswbVg8rhuTiAEx2i5fGxISAgBoaWlBaGhoj9/LsQmA43XuYDASEZFXVBra8OrXxXj/QBkMrZYuz9lbfA7PbT2J0ck63DwxDbdOSkeI4nxnpkKhQGRkJKqrqwG072zT3QL/lpYWVFdXIzIyEgqFwu26ZcIT7U4/1tjYCL1eD4PBwPsxEhH5SH5lE+5csw/VTSYAQEpkKG6bnI6xqXrY7AJCAGUNrdh6tAJ7iupg70iiwXFa/PG6kbh2RLwzAIUQqKysRENDQ4/fNzIyEomJiV2GZ2/zgMFIREQelXu6Hj9//TsYWi0YlhCOpTkjcc2wOCjkXW/uXWc04cND5Xj5q0LUNZsBAFdlxOKZH49Besz53W5sNhsslq5bnkB79+nFWooMxg4MRiIi39lVUItfvrkfLWYbstIj8friiYgM692G3o1tFvz/24rw2q4SmG12hKuVePrHl2HBuBSP1NbbPOCsVCIi8ogjZQbctfY7tJhtuHpoLN76xeRehyIA6DQheCxnBL54cBomDoyC0WTF/e8exMP/PYQWs9WLlbtiMBIRUZ9ZbHY8+sFhmG12zBgeh38vuhxatXvzO9NjwrD+nivwu5lDIZMB/z1Qhh/9YxfK6nu+7ZQnMBiJiKjP/v11CY5XNCIyLAR/vjETaqX7s0IBQKmQ48FZw/DO3VcgUadBmEqBuAi1h6rt4Xv75LsQEVHAOlXbjL9+8T0A4E/zRiE23HMBNmVIDP53/9VoNln7HLa9xWAkIiK3CSHwh41HYLLacVVGLG4Y75mJMp1Fa1WI1vZ+rLKv2JVKRERu+++BMuwuqoMmRI6nf3xZl+sH+xsGIxERucVis+PFz9q7UB/IHtbttm79DYORiIjcsvVoJSob2xAbrsbiKwdKXY7HMBiJiMgtr39TAgC444p0n02M8QUGIxERXbKDZxqQe7oBKoUct08eIHU5HsVgJCKiS+ZoLf4oM8ln6wt9hcFIRESXpKqxDR8frgAA3HXlIImr8TwGIxERXZK39pbCaheYODAKl6XopS7H4xiMRETUa20WG97ZdxpAYLYWAQYjERFdgs+OV6Gu2YyUyFDMGpUgdTlewWAkIqJe+/RoJQBgYVYylIrAjJDA/FsREZHHtVls2JZfDQCYOzpJ4mq8h8FIRES98nVBLVrMNqREhuKyFJ3U5XgNg5GIiHpla0c36pzRiQGxWXh3GIxERNQji82OL05UAQDmXpYocTXexWAkIqIe7Ss+B0OrBbHhKkwYECV1OV7FYCQioh5tPda+082sUYlQyAO3GxVgMBIRUQ/sdoFPjwVHNyrAYCQioh7knq5HTZMJERolpgyOkbocr2MwEhHRRTlmo2aPTIBKGfixEfh/QyIi6pMvT7Yv6p8zOjC3gPshBiMREXWrwtCKktpmyGXA1IxYqcvxCQYjERF1a1/xOQDAZSl66DQhElfjGwxGIiLq1p6iOgAIikk3DgxGIiLq1t6S9mC8gsFIRETBrryhFaV1LVDIZbh8YGDvdtMZg5GIiLq0t7i9tXhZih4RQTK+CDAYiYioG45gvGJwtMSV+BaDkYiIurS3Y0ZqMI0vAgxGIiLqwtmGVpw+1z6+OHEgW4w+s3PnTsyfPx/JycmQyWTYtGmTy/OPP/44RowYAa1Wi6ioKGRnZ2Pfvn3SFEtEFET2dizTGJOiR7haKXE1viVpMDY3NyMzMxOrVq3q8vlhw4bh5ZdfxpEjR7Br1y4MHDgQs2fPRk1NjY8rJSIKLufHF4OrGxUAJP3fgJycHOTk5HT7/G233eby9Ysvvog1a9bg8OHDmDlzprfLIyIKWns6gnHKEAaj3zKbzXjllVeg1+uRmZnZ7Xkmkwkmk8n5dWNjoy/KIyIKGGfOtaCsvrV9/eKA4Fm/6OD3k2+2bNmC8PBwaDQavPTSS/j8888RG9v9RrYrV66EXq93PtLS0nxYLRFR//fdqfbZqGNS9NAG2fgi0A+CccaMGTh48CB2796NuXPn4qabbkJ1dXW35y9duhQGg8H5OHPmjA+rJSLq/w6daQAAjE8PvtYi0A+CUavVIiMjA1dccQXWrFkDpVKJNWvWdHu+Wq2GTqdzeRARUe8dKjMAADLT9BJXIg2/D8YfstvtLmOIRETkOWarHccr2udmZKZGSluMRCTtPDYajSgsLHR+XVJSgoMHDyI6OhoxMTF4+umncf311yMpKQm1tbVYtWoVzp49ixtvvFHCqomIAtf3VU0wW+3Qh4ZgQEyY1OVIQtJg3L9/P2bMmOH8+sEHHwQALFq0CKtXr8bJkyfxxhtvoLa2FjExMZg4cSK+/vprjB49WqqSiYgC2sGO8cWxqXrIZDJpi5GIpME4ffp0CCG6fX7Dhg0+rIaIiA6XNQBoD8Zg1e/GGImIyHsOd0y8GRuk44sAg5GIiDq0mK34vqoJQPBOvAEYjERE1OFYeSPsAoiPUCNRr5G6HMkwGImICMD5hf2ZaZGS1iE1BiMREQE4P76YGcQTbwAGIxERdTjknJEaKWkdUmMwEhERGlrMKK1rARDcSzUABiMREeF8N+qAmDBEhqkkrkZaDEYiIuq0sD9S0jr8AYORiIjO31EjyLtRAQYjEREBOMIdb5wYjEREQa6+2YzKxjYAwMikCImrkR6DkYgoyJ2sbN8GLjUqFBGaEImrkR6DkYgoyOVXtt+YeESiTuJK/AODkYgoyDlajOxGbcdgJCIKcic6gpEtxnYMRiKiIGazC3zvCEa2GAEwGImIgtrpcy1otdigVsoxMEYrdTl+gcFIRBTETla0T7wZnhgBhVwmcTX+gcFIRBTEzo8vshvVgcFIRBTEHC1GTrw5j8FIRBTETnLizQUYjEREQcposuL0ufZ7MLLFeB6DkYgoSOV3tBYTdGpEa4P7HoydMRiJiILUSW4F1yUGIxFRkDpZwRmpXWEwEhEFqXxOvOkSg5GIKAgJIXCCXaldYjASEQWhckMbmtqsUMplGBIXLnU5foXBSEQUhBwL+zPiw6FSMgo649UgIgpC+VXt44vDEji++EMMRiKiIFRYZQQADEtgN+oPMRiJiIJQYU17MGbEMxh/iMFIRBRkhBAorGYwdofBSEQUZMoNbWgx26CUyzCANye+AIORiCjIOFqLA2O1CFEwBn6IV4SIKMg4u1G5frFLDEYioiBTWN2+VGMoZ6R2icFIRBRkOPHm4hiMRERBRAiBAgbjRTEYiYiCSF2zGQ0tFshk4B6p3WAwEhEFEUc3ampUKDQhComr8U8MRiKiIOLoRh0azz1Su8NgJCIKIkUcX+wRg5GIKIhwDWPPGIxEREGkoGMNYwbXMHaLwUhEFCQa2yyoajQBYFfqxTAYiYiChKMbNUGnhk4TInE1/ovBSEQUJLjjTe8wGImIgkQRJ970CoORiChIOLeCS+AaxothMBIRBQku1egdBiMRURBos9hwpr4FADAkXitxNf6NwUhEFARK61ogBBChViIuXC11OX6NwUhEFARKatu7UQfHaSGTySSuxr8xGImIgkBRTTMAYDDHF3vEYCQiCgLFjmCM5fhiTyQNxp07d2L+/PlITk6GTCbDpk2bnM9ZLBY8+uijGDNmDLRaLZKTk/Gzn/0M5eXl0hVMRNRPFTu7Utli7Imkwdjc3IzMzEysWrXqgudaWlqQm5uLZcuWITc3Fxs2bEB+fj6uv/56CSolIuq/hBDOFuMgthh7pJTym+fk5CAnJ6fL5/R6PT7//HOXYy+//DImTZqE06dPIz093RclEhH1e/UtFhhaLQAYjL0haTBeKoPBAJlMhsjIyG7PMZlMMJlMzq8bGxt9UBkRkf8qrmnvRk2JDEWoSiFxNf6v30y+aWtrw6OPPopbb70VOp2u2/NWrlwJvV7vfKSlpfmwSiIi/+OceBPH1mJv9ItgtFgsuOmmmyCEwD//+c+Lnrt06VIYDAbn48yZMz6qkojIPxU5Jt6wG7VX/L4r1RGKpaWl+Oqrry7aWgQAtVoNtZq7OhARORRzDeMl8etgdIRiQUEBtm3bhpiYGKlLIiLqd0pqOSP1UkgajEajEYWFhc6vS0pKcPDgQURHRyMpKQk//elPkZubiy1btsBms6GyshIAEB0dDZVKJVXZRET9htVmR2kdxxgvhaTBuH//fsyYMcP59YMPPggAWLRoER5//HF8+OGHAIBx48a5vG7btm2YPn26r8okIuq3yupbYbEJaELkSNaHSl1OvyBpME6fPh1CiG6fv9hzRETUM8eONwNjtJDLuXl4b/SLWalEROQex8SbIZx402sMRiKiAFZcy/HFS8VgJCIKYI5dbzgjtfcYjEREAYxrGC8dg5GIKEA1tVlQ3dS+dzS7UnuPwUhEFKAcC/tjw9XQaUIkrqb/YDASEQUobh7uHgYjEVGAcs5I5cSbS8JgJCIKUKe4R6pbGIxERAGKm4e7h8FIRBSAhBDOYOQY46VhMBIRBaAaowlGkxVyGZAWHSZ1Of0Kg5GIKACdqm0BAKREhUKtVEhcTf/CYCQiCkAltY6t4LjjzaViMBIRBSAu1XAfg5GIKACV1HBGqrsYjEREAehUXXswDmQwXjIGIxFRgLHZBU7VtU++YVfqpWMwEhEFmPKGVpitdqgUciRHhkpdTr/DYCQiCjCOhf3pMWFQyGUSV9P/MBiJiAIMt4LrGwYjEVGAKeFSjT5hMBIRBRi2GPuGwUhEFGAcwcilGu5hMBIRBRCz1Y6yei7V6AsGIxFRADl9rgV2AWhVCsRFqKUup19iMBIRBRDn+GKcFjIZl2q4g8FIRBRAHHfVGBjDblR3MRiJiAIIl2r0HYORiCiAdO5KJfcwGImIAsj5NYy8QbG7GIxERAGi2WRFVaMJADCIY4xuYzASEQUIR2sxWquCPixE4mr6LwYjEVGA4FZwnsFgJCIKEAxGz2AwEhEFCAajZ7gVjNOmTcO6devQ2trq6XqIiMhNxVzD6BFuBWNWVhYeeughJCYm4p577sHevXs9XRcREV0CIQRKatp3veEaxr5xKxj/+te/ory8HK+//jqqq6txzTXXYNSoUXjhhRdQVVXl6RqJiKgH55rNaGyzAuB2cH3l9hijUqnET37yE2zevBllZWW47bbbsGzZMqSlpWHhwoX46quvPFknERFdhGN8MSUyFJoQhcTV9G99nnzz7bffYsWKFfjLX/6C+Ph4LF26FLGxsfjRj36Ehx56yBM1EhFRD4o58cZjlO68qLq6Gm+++SZef/11FBQUYP78+Vi/fj3mzJnjvM3J4sWLMXfuXLzwwgseLZiIiC7EGame41YwpqamYsiQIbjrrruwePFixMXFXXDO2LFjMXHixD4XSEREPSupYTB6ilvB+OWXX+Lqq6++6Dk6nQ7btm1zqygiIro0vKuG57g1xthTKBIRke/Y7QIldVzD6ClutRizsrKcY4mdyWQyaDQaZGRkYPHixZgxY0afCyQioosrN7TCbLUjRCFDSmSo1OX0e261GOfOnYvi4mJotVrMmDEDM2bMQHh4OIqKijBx4kRUVFQgOzsbmzdv9nS9RET0A45u1PToMCgV3Omzr9xqMdbW1uL3v/89li1b5nL8qaeeQmlpKT777DOsWLECTz75JBYsWOCRQomIqGu8ObFnufW/Fu+99x5uvfXWC47fcssteO+99wAAt956K/Lz8/tWHRER9ai4Y0bqYE688Qi3glGj0WD37t0XHN+9ezc0Gg0AwG63O/9MRETewzWMnuVWV+p9992HX//61zhw4IBzreJ3332Hf//73/jDH/4AAPj0008xbtw4jxVKRERdYzB6lkwIIdx54dtvv42XX37Z2V06fPhw3HfffbjtttsAAK2trc5ZqlJqbGyEXq+HwWCATqeTtBYiIk8zWW0YuWwr7AL49g8zEa9jT113epsHl9xitFqteOaZZ3DXXXfh9ttv7/a80FBOGSYi8rYz51pgF4BWpUBchFrqcgLCJY8xKpVKPP/887Bard6oh4iILoFj4s2gOG2X68vp0rk1+WbmzJnYsWOHp2shIqJL5Bhf5D0YPcetyTc5OTl47LHHcOTIEUyYMAFaresP5Prrr/dIcUREdHFFNUYAwJA4rmH0FLeC8f/+7/8AAC+++OIFz8lkMthstl69z86dO/HnP/8ZBw4cQEVFBTZu3IiFCxc6n9+wYQNWr16NAwcO4Ny5c8jLy+NMVyKiTriG0fPc6kq12+3dPnobigDQ3NyMzMxMrFq1qtvnr7rqKjz33HPulElEFPAcNyhmi9Fz3GoxdtbW1ub2koycnBzk5OR0+/ydd94JADh16pRb709EFMjqm80412wGwBajJ7nVYrTZbHjyySeRkpKC8PBwFBcXAwCWLVuGNWvWeLTAS2UymdDY2OjyICIKRMW17eOLSXoNwlR9budQB7eC8emnn8batWvx/PPPQ6VSOY9fdtll+Pe//+2x4tyxcuVK6PV65yMtLU3SeoiIvKWoht2o3uBWMK5btw6vvPIKbr/9digUCufxzMxMnDx50mPFuWPp0qUwGAzOx5kzZySth4jIWxwzUtmN6llutb3Pnj2LjIyMC47b7XZYLJY+F9UXarUaajV3fyCiwFfMFqNXuNViHDVqFL7++usLjr///vvIysrqc1FERNQzthi9w60W4/Lly7Fo0SKcPXsWdrsdGzZsQH5+PtatW4ctW7b0+n2MRiMKCwudX5eUlODgwYOIjo5Geno6zp07h9OnT6O8vBwAnBuWJyYmIjEx0Z3SiYgCgsVmx+m6FgBsMXqaWy3GBQsW4KOPPsIXX3wBrVaL5cuX48SJE/joo48wa9asXr/P/v37kZWV5WxlPvjgg8jKysLy5csBAB9++CGysrIwb948AO03Qs7KysLq1avdKZuIKGCcOdcCq10gNESBRN5Rw6Pcvu1Uf8HbThFRIPr8eBXuWbcfo5J0+N/9V0tdTr/gtdtOdWY2m1FdXQ273e5yPD09vS9vS0REPSh27JEaz25UT3MrGAsKCnDXXXdh9+7dLseFEJe0VyoREbnHuUdqLCfeeJpbwbh48WIolUps2bIFSUlJvAcYEZGPFbHF6DVuBePBgwdx4MABjBgxwtP1EBFRLzg2D2eL0fPcXsdYW1vr6VqIiKgXuHm4d7kVjM899xweeeQRbN++HXV1ddy0m4jIhxybhydz83CvcOuKZmdnAwCuvfZal/FFTr4hIvI+5+bhHF/0CreCcdu2bZ6ug4iIesm5FRzHF73Cra7UadOmQS6X49VXX8Vjjz2GjIwMTJs2DadPn3a52wYREXmec6kGt4LzCreC8YMPPsCcOXMQGhqKvLw8mEwmAIDBYMAzzzzj0QKJiMiVc3E/g9Er3ArGp556CqtXr8arr76KkJAQ5/Err7wSubm5HiuOiIhcWWx2lHZsHs4Zqd7hVjDm5+fjmmuuueC4Xq9HQ0NDX2siIqJulNa1bx6uVSmQpOfm4d7gVjAmJia63C7KYdeuXRg8eHCfiyIioq4VVjcBADLiw7nrmJe4FYz33HMP7r//fuzbtw8ymQzl5eV4++238dBDD+Hee+/1dI1ERNShoKp9fDEjPkLiSgKXW8s1HnvsMdjtdsycORMtLS245pproFar8dBDD+G+++7zdI1ERNShoLo9GIcmcOKNt7gVjDKZDH/84x/x8MMPo7CwEEajEaNGjUJ4OH9QRETe5AxGLu73mj7tJaRSqTBq1ChP1UJERBdhswvn4v6h7Er1GrfGGImIyPfOnGuB2WqHJkSOlKhQqcsJWAxGIqJ+wtGNOiQuHAo5Z6R6C4ORiKifKOhYqsHxRe9iMBIR9ROFVY4ZqRxf9CYGIxFRP+HoSs1gi9GrGIxERP2A3S5QyKUaPsFgJCLqB842tKLVYoNKIUd6dJjU5QQ0BiMRUT/gaC0OitVCqeBHtzfx6hIR9QOOGakZ3ArO6xiMRET9gGPzcI4veh+DkYioHzi/RyqXangbg5GIyM8J0WlGKrtSvY7BSETk5yob22A0WaGQyzAwRit1OQGPwUhE5Occ44sDY8KgUvJj29t4hYmI/BzHF32LwUhE5Oe+r+zYPJzjiz7BYCQi8nMnq9qDcUSiTuJKggODkYjIj9nswtliHJ7IrlRfYDASEfmx0+da0GqxQa2UY2AM90j1BQYjEZEfy69sBAAMS4jgHqk+wqtMROTHTlSwG9XXGIxERH7sZEeLcQSD0WcYjEREfiy/Y+LNyCTOSPUVBiMRkZ9qNllReq4FALtSfYnBSETkp76vaoIQQGy4GrHhaqnLCRoMRiIiP3W+G5WtRV9iMBIR+amTjoX9CQxGX2IwEhH5qRMVHTNSOfHGpxiMRER+SAiBfOceqWwx+hKDkYjID1U1mtDQYoFCLkNGPO+q4UsMRiIiP3SiY2H/oFgtNCEKiasJLgxGIiI/lM87akiGwUhE5IdOdky8Gclg9DkGIxGRH3Is1eDNiX2PwUhE5GfMVjuKaowA2JUqBQYjEZGf+b6qCRabQIRGidSoUKnLCToMRiIiP3Os3AAAuCxZD5lMJnE1wYfBSETkZ46cbQ/GMal6iSsJTgxGIiI/c+Rs+4zUy1IYjFJgMBIR+RGLze7cI/WyZM5IlYKkwbhz507Mnz8fycnJkMlk2LRpk8vzQggsX74cSUlJCA0NRXZ2NgoKCqQplojIBwqrjTBb7QhXKzEwRit1OUFJ0mBsbm5GZmYmVq1a1eXzzz//PP7+979j9erV2LdvH7RaLebMmYO2tjYfV0pE5BuO8cXRyTrI5Zx4IwWllN88JycHOTk5XT4nhMBf//pX/OlPf8KCBQsAAOvWrUNCQgI2bdqEW265xZelEhH5xDHHxBuOL0rGb8cYS0pKUFlZiezsbOcxvV6PyZMnY8+ePd2+zmQyobGx0eVBRNRfOFqMnHgjHb8NxsrKSgBAQkKCy/GEhATnc11ZuXIl9Hq985GWlubVOomIPMVqs+N4BWekSs1vg9FdS5cuhcFgcD7OnDkjdUlERL1SXNuMNosdWpUCg2M58UYqfhuMiYmJAICqqiqX41VVVc7nuqJWq6HT6VweRET9wZGy9m7UUZx4Iym/DcZBgwYhMTERX375pfNYY2Mj9u3bhylTpkhYGRGRd3B80T9IOivVaDSisLDQ+XVJSQkOHjyI6OhopKenY8mSJXjqqacwdOhQDBo0CMuWLUNycjIWLlwoXdFERF7i2COVM1KlJWkw7t+/HzNmzHB+/eCDDwIAFi1ahLVr1+KRRx5Bc3MzfvnLX6KhoQFXXXUVtm7dCo1GI1XJREReYbMLHCvnxBt/IBNCCKmL8KbGxkbo9XoYDAaONxKR3yqsbkL2izsRGqLA0SfmQMExRo/rbR747RgjEVEwOdqxcfioZB1DUWIMRiIiP3C4zHEPRvZsSY3BSETkB/LO1AMAxqVHSlsIMRiJiKTWZrHhWEdX6vj0KImrIQYjEZHEjpUbYLbZEaNVIT06TOpygh6DkYhIYrmlDQCArPQoyGSceCM1BiMRkcRyT7ePL04YwG5Uf8BgJCKSkBDCGYzjOfHGLzAYiYgkdLahFVWNJijlMoxNjZS6HAKDkYhIUrmnGwAAI5N0CFUppC2GADAYiYgklVvK8UV/w2AkIpJQXsf4YhbHF/0Gg5GISCJtFpvzjhpc2O8/GIxERBI5XGaA1S4QF6FGalSo1OVQBwYjEZFEOi/T4MJ+/8FgJCKSCCfe+CcGIxGRBFwX9jMY/QmDkYhIAqV1Lag1mhGikOGyFL3U5VAnDEYiIgnsKa4DAIxLi4QmhAv7/QmDkYhIAnuK2oNxypBYiSuhH2IwEhH5mBACux3BODhG4mrohxiMREQ+VlRjRK3RBLVSzh1v/BCDkYjIxxzdqBMGRHF80Q8xGImIfMwx8YbdqP6JwUhE5EN2u3C2GKdmMBj9EYORiMiH8quaUN9iQZhKwRsT+ykGIxGRDzlai5cPjEaIgh/B/og/FSIiH3Is05g6hN2o/orBSETkIza7wL4STrzxdwxGIiIfOV7eiKY2KyI0SoxO1kldDnWDwUhE5CO7i2oBAJMHRUPJ8UW/xZ8MEZGPfF3QHozcH9W/MRiJiHzAaLI6xxdnDI+TuBq6GAYjEZEP7CqogcUmMChWi8Fx4VKXQxfBYCQi8oGvTlYDAGYMj5e4EuoJg5GIyMvsdoGvTtYAAGaOZDD6OwYjEZGXHS03oNZoQrhaiYkDo6Uuh3rAYCQi8rIvT7R3o149NBYqJT92/R1/QkREXrYtv2N8cQS7UfsDBiMRkRdVN7bhcJkBACfe9BcMRiIiL3K0FjNT9YiLUEtcDfUGg5GIyIscyzSuHZEgcSXUWwxGIiIvMVltzm3gruX4Yr/BYCQi8pJdBbVoMduQoFPzbhr9CIORiMhLPjpUDgC4bkwS5HKZxNVQbymlLqA/MFltaLPYIZMBMgAymQxyGaCQy6CQyaCQyyCT8ZeeiM5rNdvw+fEqAMD8zGSJq6FLwWDshfcPlOGPG49e9BylXAalQoYQhRxqpRxqpQJqpRwqpRyhKgVCQxQIUykQqlIiXK2AVqVEuEaJCE0IIjRK6DQh0IUqERmqgj4sBJGhIQhTKRi4RP3UtvxqNJttSI0KRVZapNTl0CVgMPaCED2fY7ULWO0CbRY7mjz0fVVKOaLDVIjSqhCtDUGMVo3YcDViI1SIj9AgPkKNeJ0aCREaRIaFMESJ/IijG3V+ZjL/bfYzDMZeuHVSOm66PA0CwhmSdiFgs7c/rB3/NVvtsNjsMNvsMFnsMFntaLPY0GaxodViQ6vZhmazDc0mK5pNVhhNVjS1WdHYZkFTmxWGVgsMrRY0tJhhsbW/X2VjGyob23qsUaWUI0mvQaJOg+TIUCRHOv4birSoUKREhiFUpfDylSIiAGhqsziXacwfy27U/obB2AsKefs4oq8IIdBitqG+xYz6ZgvOtZhRZzShzmhGrdGEGqMJNU0mVDeaUN3UhvoWC8xWO0rrWlBa19Lt+8aGq5EWHYoB0WFIj9FiQHQYBsZqMShWiyi2OIk85osTVTBZ7RgSp8XIpAipy6FLxGD0QzKZDFq1Elq1EqlRPZ9vstpQ3WhChaENFYZWVBjaUN7QivKGVpTVtz+MJitqjSbUGk3IO91wwXvoQ0MwKFaLIXHhGBLf/t+M+HAMiA6DUsHJy0SX4qNDFQDYjdpfMRgDgFqpQFp0GNKiw7p8XggBQ6sFZ8614kx9e6vy9LlmlNa14FRtM8oNbTC0WnDwTAMOnmlwea1KIcegWC2GJoRjeEIEhiVGYERiBNKiwjj9nKgLDS1m7Py+/d6LP2I3ar/EYAwCMpkMkWEqRIapMCZVf8HzrWYbTtU1o6S2GUXVRhTVGFFU04zCaiNaLTbkVzUhv6oJW1DhfI1WpcDwxAiMSNJhVJIOo5N1GJGo4zgmBb2tRythtQuMStIhIz5c6nLIDQxGQqhKgZFJOoxMct2Zw24XONvQioLqJhRUGZFf2R6QBdVGNJttyD3dgNxO3bJyGTAkLhxjUvQYk6rHmBQ9RiXrEKbirxkFjw9yywBw7WJ/xk8s6pZcLnN20XbeANlqs6OkthnHKxpxoqIJxysacbzcgFqjGQXVRhRUG7Eh7yyA9olLQ+PDMS4tEplpkRiXFolhCRE+ncxE5CvfVzXhu1P1UMhl+Mn4FKnLITcxGOmSKRVyDE2IwNCECCwY135MCIHqJhOOnjXg6NlGHDnbgMNlBlQ3mXCysgknK5vw7ndnALR3w45NjURWeiQmDIjC+PQoRGlV0v2FiDzknX2nAQDZI+ORoNNIXA25i8FIHiGTyZCg0yBBp8HMkedbl5WGNhwqa8Chjok9h8sMMJqs2FNchz3Fdc7zBsdpcfmAKFw+IBqXD4zCoFgtZ/NRv9Jqtjm7UW+fPEDiaqgv/D4Ym5qasGzZMmzcuBHV1dXIysrC3/72N0ycOFHq0qgXEvUaJOoTMWd0IgDAZhcorDYi93Q98k7X40BpPYpqmlHc8Xhvf/sHS4xWhYkDozFpUPtjZJKO3a/k1z46XI6mNivSo8NwVUas1OVQH/h9MN599904evQo3nzzTSQnJ+Ott95CdnY2jh8/jpQU9uH3Nwq5DMMTIzA8MQK3TkoHANQ3m5F7uh77S+tx4FQ9DpY1oK7ZjK3HKrH1WCUAIEKjxORB0bhicAyuGBzDoCS/83ZHN+qtk9K5lKmfkwnRm51ApdHa2oqIiAhs3rwZ8+bNcx6fMGECcnJy8NRTT/X4Ho2NjdDr9TAYDNDpeD+0/sBkteHoWQP2lZzDtyXnsP9UPYwmq8s5+tAQXDE4GlOHxOLKjBgMiQtn1ytJ5uhZA370j10IUciwZ+lMxIarpS6JutDbPPDrFqPVaoXNZoNG4zqIHRoail27dnX5GpPJBJPJ5Py6sbHRqzWS56mVCkwYEI0JA6Lxf9PbZ8Eer2jE3uI67C1uD0tDqwWfHqvCp8fab+uTqNPgyoxYXD00FlcNjeUHE/nUO9+2txbnjE7k714A8OsWIwBMnToVKpUK77zzDhISErB+/XosWrQIGRkZyM/Pv+D8xx9/HE888cQFx9liDBxWmx1Hzhqwu6gOu4tq8d2pepitdpdzRifrcPXQOEwbFocJA6KgUnJbO/IOo8mKyU9/gWazDevvuQJThsRIXRJ1o7ctRr8PxqKiItx1113YuXMnFAoFxo8fj2HDhuHAgQM4ceLEBed31WJMS0tjMAawNosN3506h12Ftfj6+1ocr3DtJQhXKzF1SAymD4/H9OFxSI4MlahSCkT/2lGElZ+cxJA4Lb54cBq79P1YwASjQ3NzMxobG5GUlISbb74ZRqMRH3/8cY+v4xhj8KlpMmFXYQ12fl+Lnd/XoK7Z7PL8iMQIzBgRj2tHxGN8ehQn8ZDb2iw2XPXcNtQaTfjzT8fixsvTpC6JLiIgxhg702q10Gq1qK+vx6effornn39e6pLIT8VFqPHjrFT8OCsVdrvAsfJGbM+vxvbva5B3ut654cA/txchKiwEM4bH49qR8Zg2LA4RmhCpy6d+5L39Z1BrNCElMhQLszhLPlD4fYvx008/hRACw4cPR2FhIR5++GFoNBp8/fXXCAnp+UOMLUbq7Fxz+50PvjpZjR3f18DQanE+p1LIMWVIDGaNSsDsUQmI584ldBEWmx3T/7wdZxta8f8tGI2fTRkodUnUg4BpMRoMBixduhRlZWWIjo7GDTfcgKeffrpXoUj0Q9FaFRZmpWBhVgqsNjv2l9bjq5PV+Px4FUpqm7Hj+xrs+L4GyzYfxYT0KMy9LBFzL0tEalTXt/Si4LUp7yzONrQiNlyNm9iFGlD8vsXYV2wxUm8IIVBUY8Rnx9uXgBz6wX0pM1P1uG5MEq4bk9TtfS8peNjsArNe3IHi2mYszRmBX00bInVJ1AsBN/nGXQxGckd5Qys+O1aJT45W4rtT52Dv9K9kbKoe88YkYd7YJLYkg9SWw+X47Tt50IeG4JvHrkW42u873wgMRicGI/VVTZMJW49V4pMjFdhbXOcSklnpkZg/NhnzxibxbgpBwmKzY+5fd6KophlLsodiSfYwqUuiXmIwdmAwkifVGk3YerQSWw6XY1/JOTj+9chkwKSB0ZifmYzrxiQhmrfRClivf1OCJz46jhitCtseng4dZzL3GwzGDgxG8pbqpjb873AFthyuwP7SeudxpVyGa4bFYcG4ZMwalYAwFbvZAkV9sxnTX9gOQ6sFz/x4DG6bnC51SXQJGIwdGIzkC2cbWrHlUDk+PFSOY+Xnd94JDVFg9ugELMxKwdUZsVAquDVdf7Z881Gs21OKEYkR+Ph3V3NziH6GwdiBwUi+VlhtxIeHyrH54FmU1rU4j8doVZifmYwfZ6VgbKqeW4f1M99XNSHnb1/DZhd4557JmDqE91zsbxiMHRiMJBUhBA6eacCmvLPYcrjCZWu6wXFa/KRjPSVntvo/IQR+9tq3+LqgFnNGJ+Bfd14udUnkBgZjBwYj+QOLzY5dBbXYmHcWnx2vRJvl/N1AJg+Kxg3jU5EzJpFb0vmpDw+V43fr86BSyPHFg9OQHsP/memPGIwdGIzkb5raLNh6tBIb885iT3Gdc2arWinHnNGJuGFCKq7KiOX4lZ+oNLRh9ks70Nhmxf0zh+KBWVye0V8xGDswGMmflTe0YmPeWWzILUNRTbPzeIJOjYVZKfjp+FQMTYiQsMLg1rkLdWyqHh/cOxUhnEDVbzEYOzAYqT8QQuBwmQEbcsvw4aFy1Lec39w8M1WPn05IxfzMZESGcX2kL7255xSWbT4GtVKOj393NTLiw6UuifqAwdiBwUj9jdlqx1cnq/FBbhm2nayGtWOrHZVCjlmjEvDTCam4eiiXfnhbcY0R1/39a7RZ7FgxfxR+fuUgqUuiPmIwdmAwUn9WZzRh88Fy/PdAGU5UnF8fGR+hxo/Hp+DGCanIiGdXq6c1m6y4cfUeHK9oxJUZMXjzrsmQc8y332MwdmAwUqA4Vm7Af/e3d7We67T0Y1xaZHtX69hk6MM4q7Wv7HaBX711AJ8fr0KMVoWP7rsKyZGhUpdFHsBg7MBgpEDj6Gp9/8AZbMuvgc3R1ars1NXKXXbctvKTE/jXjmKolHKsv2cyJgyIlrok8hAGYwcGIwWymiYTNh88i/cPlOFkZZPzeFyEGj/OSsEN41MxPJFdrb313v4zeOT9wwCAv90yDgvGpUhcEXkSg7EDg5GCgRACx8ob8f6BC7taL0vR4Ybxqbg+Mxkx4WoJq/RvX56owq/fOgCLTeB312bgwdnDpS6JPIzB2IHBSMHGbLVjW341PjhQhm351bDY2v+JK+UyTB8ejxvGp+DakfFQKxUSV+o/Pj5cgfvfzYPVLjA/Mxl/u3kcJ9sEIAZjBwYjBbNzzWZ8dKgcH+SW4XCZwXlcp1Fi3tgkLByXgokDo4M6BDbmleH37x2CXQALxiXjLzdmcnw2QDEYOzAYidoVVDVhQ95ZbMo7iwpDm/N4SmQo5mcmY35mEkYl6YLmrh9CCLy5txQrPjwGIYCbLk/Fyp+M5VZ8AYzB2IHBSOTKZhfYV1KHTXln8cmRSjSZrM7nBsdp8aOxyfjR2CQMjQ8P2JBsNdvwx41HsCHvLADgzisG4InrRwd1yzkYMBg7MBiJutdmseGrk9X46FA5vjxZDbP1/F0/hsRpcd2YJMwZnYjRyYHTkiyuMeLet3KRX9UEuQx4eM4I/Hra4ID5+1H3GIwdGIxEvdPUZsEXJ6qw5VAFvi6ohdl2PiRTIkMxe3QCZo9KxMSBUf1yDM5qs+PNvaX4y2ffw2iyIjZcjZdvy8IVg2OkLo18hMHYgcFIdOma2iz46mQ1Pj5cgZ0FNS73j9SHhuDaEfHIHpmAa4bF9ot7SH5bcg7LNx91rvWcPCga/7g1C/E6jcSVkS8xGDswGIn6ptVsw9cFNfjseBW+PFHlcucPpVyGCQOiMH14PKYPj8OIxAi/6pLMO12PV3YW45OjlQCAyLAQPDxnOG6ZmM5JNkGIwdiBwUjkOTa7QO7penxxvAqfn6hCcad7SAJAjFaFKUNiMHVILCYPjsbgWK3Pg9KxZd6aXcX47lQ9AEAmA26ZmI5H5gxHlJa37gpWDMYODEYi7zld14Lt31dje34NdhfVunS5AkBUWAgmDIhCVnoUxqToMTpZ55Xdd1rMVuwqqMXWo5X4/EQVmtraZ9qGKGS4PjMF91wzCCMS+e8/2DEYOzAYiXzDZLXh0BkDdhfVYndhHQ6WNbjMcnVI0KkxPFGHwbFaDIwJw8BYLRJ0GsRFqBEdprrokgmz1Y5KQxvKGlpw5lwLDpUZcPB0A/KrmpybqQNAbLgaN16eisVTByKB44jUgcHYgcFIJA2z1Y6j5QbkltYj73QDjpUbcKqu5aKvUchliNAooVEqoA6RQ6WQw2yzo9VsQ5vFhiaTFd19Yjlmzl43Jgnj06M4hkgX6G0eKH1YExEFEZVSjvHpURifHuU8ZjRZcaKiEYXVRpyqbcapumaU1rWgpsmEcy1m2OwCDS0WAJZu31etlCMlMhQpUaEYlaTDuLRIjEuPRJKe90wkz2AwEpHPhKuVmDgwGhMHXniPQ4vNjjqjGU1tFpisdrRZbDBb7VAp5dCEKBCqUkCnCUFsuMqvZr5S4GEwEpFfCFHIkajXIFHPMUGSVv/bvoKIiMiLGIxERESdMBiJiIg6YTASERF1wmAkIiLqhMFIRETUCYORiIioEwYjERFRJwxGIiKiThiMREREnTAYiYiIOmEwEhERdcJgJCIi6oTBSERE1EnA33ZKdNzuu7GxUeJKiIhISo4ccORCdwI+GJuamgAAaWlpEldCRET+oKmpCXq9vtvnZaKn6Ozn7HY7ysvLERER0ae7fjc2NiItLQ1nzpyBTqfzYIXewXq9i/V6F+v1rmCtVwiBpqYmJCcnQy7vfiQx4FuMcrkcqampHns/nU7XL36RHFivd7Fe72K93hWM9V6spejAyTdERESdMBiJiIg6YTD2klqtxooVK6BWq6UupVdYr3exXu9ivd7Fei8u4CffEBERXQq2GImIiDphMBIREXXCYCQiIuqEwUhERNRJ0AbjqlWrMHDgQGg0GkyePBnffvvtRc//73//ixEjRkCj0WDMmDH43//+5/K8EALLly9HUlISQkNDkZ2djYKCAknqffXVV3H11VcjKioKUVFRyM7OvuD8xYsXQyaTuTzmzp0rSb1r1669oBaNRuNyjj9d3+nTp19Qr0wmw7x585znePP67ty5E/Pnz0dycjJkMhk2bdrU42u2b9+O8ePHQ61WIyMjA2vXrr3gnEv9N+Gtejds2IBZs2YhLi4OOp0OU6ZMwaeffupyzuOPP37B9R0xYoQk9W7fvr3L34fKykqX8/zl+nb1uymTyTB69GjnOd68vitXrsTEiRMRERGB+Ph4LFy4EPn5+T2+zpefwUEZjP/5z3/w4IMPYsWKFcjNzUVmZibmzJmD6urqLs/fvXs3br31VvziF79AXl4eFi5ciIULF+Lo0aPOc55//nn8/e9/x+rVq7Fv3z5otVrMmTMHbW1tPq93+/btuPXWW7Ft2zbs2bMHaWlpmD17Ns6ePety3ty5c1FRUeF8rF+/vs+1ulMv0L6jRedaSktLXZ73p+u7YcMGl1qPHj0KhUKBG2+80eU8b13f5uZmZGZmYtWqVb06v6SkBPPmzcOMGTNw8OBBLFmyBHfffbdL2LjzM/NWvTt37sSsWbPwv//9DwcOHMCMGTMwf/585OXluZw3evRol+u7a9euPtfqTr0O+fn5LvXEx8c7n/On6/u3v/3Npc4zZ84gOjr6gt9fb13fHTt24De/+Q327t2Lzz//HBaLBbNnz0Zzc3O3r/H5Z7AIQpMmTRK/+c1vnF/bbDaRnJwsVq5c2eX5N910k5g3b57LscmTJ4tf/epXQggh7Ha7SExMFH/+85+dzzc0NAi1Wi3Wr1/v83p/yGq1ioiICPHGG284jy1atEgsWLCgz7V15VLrff3114Ver+/2/fz9+r700ksiIiJCGI1G5zFvXt/OAIiNGzde9JxHHnlEjB492uXYzTffLObMmeP8uq/XwJP1dmXUqFHiiSeecH69YsUKkZmZ6bnCutGberdt2yYAiPr6+m7P8efru3HjRiGTycSpU6ecx3x1fYUQorq6WgAQO3bs6PYcX38GB12L0Ww248CBA8jOznYek8vlyM7Oxp49e7p8zZ49e1zOB4A5c+Y4zy8pKUFlZaXLOXq9HpMnT+72Pb1Z7w+1tLTAYrEgOjra5fj27dsRHx+P4cOH495770VdXV2fau1LvUajEQMGDEBaWhoWLFiAY8eOOZ/z9+u7Zs0a3HLLLdBqtS7HvXF93dHT768nroE32e12NDU1XfD7W1BQgOTkZAwePBi33347Tp8+LVGF7caNG4ekpCTMmjUL33zzjfO4v1/fNWvWIDs7GwMGDHA57qvrazAYAOCCn29nvv4MDrpgrK2thc1mQ0JCgsvxhISEC8YEHCorKy96vuO/l/Ke3qz3hx599FEkJye7/NLMnTsX69atw5dffonnnnsOO3bsQE5ODmw2m8/rHT58OF577TVs3rwZb731Fux2O6ZOnYqysjIA/n19v/32Wxw9ehR33323y3FvXV93dPf729jYiNbWVo/8jnnTCy+8AKPRiJtuusl5bPLkyVi7di22bt2Kf/7znygpKcHVV1/tvM2cLyUlJWH16tX44IMP8MEHHyAtLQ3Tp09Hbm4uAM/8G/aW8vJyfPLJJxf8/vrq+trtdixZsgRXXnklLrvssm7P8/VncMDfXSPYPfvss3j33Xexfft2lwktt9xyi/PPY8aMwdixYzFkyBBs374dM2fO9GmNU6ZMwZQpU5xfT506FSNHjsS//vUvPPnkkz6t5VKtWbMGY8aMwaRJk1yO+9P17c/eeecdPPHEE9i8ebPLmF1OTo7zz2PHjsXkyZMxYMAAvPfee/jFL37h0xqHDx+O4cOHO7+eOnUqioqK8NJLL+HNN9/0aS2X6o033kBkZCQWLlzoctxX1/c3v/kNjh496rHxS08JuhZjbGwsFAoFqqqqXI5XVVUhMTGxy9ckJiZe9HzHfy/lPb1Zr8MLL7yAZ599Fp999hnGjh170XMHDx6M2NhYFBYWSlavQ0hICLKyspy1+Ov1bW5uxrvvvturDwpPXV93dPf7q9PpEBoa6pGfmTe8++67uPvuu/Hee+9d0I32Q5GRkRg2bJgk17crkyZNctbir9dXCIHXXnsNd955J1Qq1UXP9cb1/e1vf4stW7Zg27ZtPd4a0NefwUEXjCqVChMmTMCXX37pPGa32/Hll1+6tFo6mzJlisv5APD55587zx80aBASExNdzmlsbMS+ffu6fU9v1gu0z9B68sknsXXrVlx++eU9fp+ysjLU1dUhKSlJkno7s9lsOHLkiLMWf7y+QPv0cZPJhDvuuKPH7+Op6+uOnn5/PfEz87T169fj5z//OdavX++yDKY7RqMRRUVFklzfrhw8eNBZiz9eX6B9dmhhYWGv/sfOk9dXCIHf/va32LhxI7766isMGjSox9f4/DP4kqfrBIB3331XqNVqsXbtWnH8+HHxy1/+UkRGRorKykohhBB33nmneOyxx5znf/PNN0KpVIoXXnhBnDhxQqxYsUKEhISII0eOOM959tlnRWRkpNi8ebM4fPiwWLBggRg0aJBobW31eb3PPvusUKlU4v333xcVFRXOR1NTkxBCiKamJvHQQw+JPXv2iJKSEvHFF1+I8ePHi6FDh4q2tjaf1/vEE0+ITz/9VBQVFYkDBw6IW265RWg0GnHs2DGXv5O/XF+Hq666Stx8880XHPf29W1qahJ5eXkiLy9PABAvvviiyMvLE6WlpUIIIR577DFx5513Os8vLi4WYWFh4uGHHxYnTpwQq1atEgqFQmzdurXX18CX9b799ttCqVSKVatWufz+NjQ0OM/5/e9/L7Zv3y5KSkrEN998I7Kzs0VsbKyorq72eb0vvfSS2LRpkygoKBBHjhwR999/v5DL5eKLL75wnuNP19fhjjvuEJMnT+7yPb15fe+9916h1+vF9u3bXX6+LS0tznOk/gwOymAUQoh//OMfIj09XahUKjFp0iSxd+9e53PTpk0TixYtcjn/vffeE8OGDRMqlUqMHj1afPzxxy7P2+12sWzZMpGQkCDUarWYOXOmyM/Pl6TeAQMGCAAXPFasWCGEEKKlpUXMnj1bxMXFiZCQEDFgwABxzz33eOQfqTv1LlmyxHluQkKCuO6660Rubq7L+/nT9RVCiJMnTwoA4rPPPrvgvbx9fR3LA374cNS4aNEiMW3atAteM27cOKFSqcTgwYPF66+/fsH7Xuwa+LLeadOmXfR8IdqXmyQlJQmVSiVSUlLEzTffLAoLCyWp97nnnhNDhgwRGo1GREdHi+nTp4uvvvrqgvf1l+srRPtShtDQUPHKK690+Z7evL5d1QrA5XdS6s9g3naKiIiok6AbYyQiIroYBiMREVEnDEYiIqJOGIxERESdMBiJiIg6YTASERF1wmAkIiLqhMFIRETUCYORqJ+ZPn06lixZInUZRAGLt50i8iMymeyiz69YsQIbNmxASEiIjypy9cADD6C0tBQbNmyQ5PsT+QKDkciPVFRUOP/8n//8B8uXL0d+fr7zWHh4OMLDw6UoDUD7jZl7c7cLov6MXalEfiQxMdH50Ov1kMlkLsfCw8Mv6EqdPn067rvvPixZsgRRUVFISEjAq6++iubmZvz85z9HREQEMjIy8MknnzhfY7fbsXLlSgwaNAihoaHIzMzE+++/321dZrMZISEh2L17N/74xz9CJpPhiiuu8OalIJIMg5EoALzxxhuIjY3Ft99+i/vuuw/33nsvbrzxRkydOhW5ubmYPXs27rzzTrS0tAAAVq5ciXXr1mH16tU4duwYHnjgAdxxxx3YsWNHl++vVCrxzTffAGi/12BFRQW2bt3qs78fkS8xGIkCQGZmJv70pz9h6NChWLp0KTQaDWJjY3HPPfdg6NChWL58Oerq6nD48GGYTCY888wzeO211zBnzhwMHjwYixcvxh133IF//etfXb6/XC5HeXk5YmJikJmZicTERERGRvr2L0nkIxxjJAoAY8eOdf5ZoVAgJiYGY8aMcR5LSEgAAFRXV6OwsBAtLS2YNWuWy3uYzWZkZWV1+z3y8vKQmZnp4cqJ/A+DkSgA/HCWqkwmcznmmO1qt9thNBoBAB9//DFSUlJcXqdWq7v9HgcPHmQwUlBgMBIFmVGjRkGtVuP06dOYNm1ar1935MgR3HDDDV6sjMg/MBiJgkxERAQeeughPPDAA7Db7bjqqqtgMBjwzTffQKfTYdGiRV2+zm63Iz8/H+Xl5dBqtdDr9T6unMg3OPmGKAg9+eSTWLZsGVauXImRI0di7ty5+PjjjzFo0KBuX/PUU09h7dq1SElJwVNPPeXDaol8SyaEEFIXQURE5C/YYiQiIuqEwUhERNQJg5GIiKgTBiMREVEnDEYiIqJOGIxERESdMBiJiIg6YTASERF1wmAkIiLqhMFIRETUCYORiIioEwYjERFRJ/8PtbbMZu1r7sEAAAAASUVORK5CYII=",
      "text/plain": [
       "<Figure size 500x500 with 1 Axes>"
      ]
     },
     "metadata": {},
     "output_type": "display_data"
    }
   ],
   "source": [
    "import matplotlib.pyplot as plt\n",
    "\n",
    "fig1, axs1 = plt.subplots(1, 1, sharex=True, figsize=(5,5))\n",
    "\n",
    "axs1.plot(times, results_N , label=\"\")\n",
    "\n",
    "axs1.set_xlabel(\"Time $t$\")\n",
    "axs1.set_ylabel(\"energy\")  \n",
    "axs1.legend()"
   ]
  },
  {
   "cell_type": "code",
   "execution_count": null,
   "metadata": {},
   "outputs": [],
   "source": [
    "results_H = tdvp_ex1.operator_results()[0]\n",
    "results_N = tdvp_ex1.operator_results()[1]\n",
    "results_Corr = [np.linalg.norm(a) for a in tdvp_ex1.operator_results()[2]]\n",
    "results_N"
   ]
  },
  {
   "cell_type": "code",
   "execution_count": null,
   "metadata": {},
   "outputs": [],
   "source": [
    "save_list(results_H, \"H_(t,U,m,J)=(1,1,1,0.5)\")\n",
    "save_list(results_N , \"N_(t,U,m,J)=(1,1,1,0.5)\" )\n",
    "save_list(results_Corr , \"Corr_(t,U,m,J)=(1,1,1,0.5)\" )"
   ]
  },
  {
   "cell_type": "code",
   "execution_count": null,
   "metadata": {},
   "outputs": [
    {
     "ename": "",
     "evalue": "",
     "output_type": "error",
     "traceback": [
      "\u001b[1;31mFailed to start the Kernel. \n",
      "\u001b[1;31mzmq.error.ZMQError: Address in use (addr='tcp://127.0.0.1:9002'). \n",
      "\u001b[1;31mView Jupyter <a href='command:jupyter.viewOutput'>log</a> for further details."
     ]
    }
   ],
   "source": [
    "H = [-3.47994052+3.00321106e-16j, -3.47955261-2.13703137e-02j,\n",
    "       -3.47876933-4.27419100e-02j, -3.47855819-6.42359328e-02j,\n",
    "       -3.47862421-8.55744219e-02j, -3.47788012-1.06926130e-01j,\n",
    "       -3.47884758-1.28434437e-01j, -3.4798439 -1.50033068e-01j,\n",
    "       -3.4805605 -1.71619075e-01j, -3.48095265-1.93183019e-01j,\n",
    "       -3.48100976-2.14726575e-01j, -3.48072746-2.36253191e-01j,\n",
    "       -3.48010304-2.57766567e-01j, -3.47913442-2.79270360e-01j,\n",
    "       -3.47781989-3.00768135e-01j, -3.47615795-3.22263379e-01j,\n",
    "       -3.47414732-3.43759521e-01j, -3.47178685-3.65259947e-01j,\n",
    "       -3.46907549-3.86768001e-01j, -3.46601232-4.08286984e-01j,\n",
    "       -3.46259646-4.29820146e-01j, -3.45882712-4.51370693e-01j,\n",
    "       -3.45470358-4.72941779e-01j, -3.45022514-4.94536506e-01j,\n",
    "       -3.44539117-5.16157926e-01j, -3.44020104-5.37809040e-01j,\n",
    "       -3.43465417-5.59492794e-01j, -3.42874999-5.81212081e-01j,\n",
    "       -3.42248793-6.02969736e-01j, -3.41586742-6.24768540e-01j,\n",
    "       -3.40888786-6.46611209e-01j, -3.40154864-6.68500403e-01j,\n",
    "       -3.39384911-6.90438715e-01j, -3.3857886 -7.12428678e-01j,\n",
    "       -3.37736635-7.34472759e-01j, -3.36858155-7.56573361e-01j,\n",
    "       -3.35943334-7.78732823e-01j, -3.34992075-8.00953422e-01j,\n",
    "       -3.34004274-8.23237373e-01j, -3.32979816-8.45586831e-01j,\n",
    "       -3.31918574-8.68003890e-01j, -3.30820411-8.90490589e-01j,\n",
    "       -3.29685177-9.13048909e-01j, -3.28512706-9.35680775e-01j,\n",
    "       -3.2730282 -9.58388059e-01j, -3.26055321-9.81172577e-01j,\n",
    "       -3.24769997-1.00403609e+00j, -3.23446618-1.02698032e+00j,\n",
    "       -3.2208493 -1.05000691e+00j, -3.20684663-1.07311748e+00j,\n",
    "       -3.19245522-1.09631357e+00j]"
   ]
  },
  {
   "cell_type": "code",
   "execution_count": null,
   "metadata": {},
   "outputs": [
    {
     "ename": "",
     "evalue": "",
     "output_type": "error",
     "traceback": [
      "\u001b[1;31mFailed to start the Kernel. \n",
      "\u001b[1;31mzmq.error.ZMQError: Address in use (addr='tcp://127.0.0.1:9002'). \n",
      "\u001b[1;31mView Jupyter <a href='command:jupyter.viewOutput'>log</a> for further details."
     ]
    }
   ],
   "source": [
    "N = [9.20362043-1.05119483e-16j, 9.20362201-1.23859908e-03j,\n",
    "       9.20354376-2.47605434e-03j, 9.20332297-3.76212684e-03j,\n",
    "       9.20289571-5.00648135e-03j, 9.20239407-6.28460759e-03j,\n",
    "       9.20169729-7.75938578e-03j, 9.20088069-9.17550426e-03j,\n",
    "       9.19996074-1.05627487e-02j, 9.19894152-1.19312268e-02j,\n",
    "       9.19782425-1.32862374e-02j, 9.19660934-1.46309292e-02j,\n",
    "       9.19529696-1.59673567e-02j, 9.19388727-1.72969563e-02j,\n",
    "       9.19238047-1.86207904e-02j, 9.19077683-1.99396849e-02j,\n",
    "       9.18907669-2.12543084e-02j, 9.18728045-2.25652169e-02j,\n",
    "       9.18538857-2.38728804e-02j, 9.18340155-2.51776995e-02j,\n",
    "       9.18131997-2.64800164e-02j, 9.17914446-2.77801239e-02j,\n",
    "       9.1768757 -2.90782716e-02j, 9.17451445-3.03746710e-02j,\n",
    "       9.17206152-3.16694989e-02j, 9.16951776-3.29629004e-02j,\n",
    "       9.16688409-3.42549909e-02j, 9.16416151-3.55458572e-02j,\n",
    "       9.16135105-3.68355596e-02j, 9.15845382-3.81241321e-02j,\n",
    "       9.15547098-3.94115834e-02j, 9.15240378-4.06978979e-02j,\n",
    "       9.14925351-4.19830364e-02j, 9.14602156-4.32669368e-02j,\n",
    "       9.14270938-4.45495150e-02j, 9.1393185 -4.58306663e-02j,\n",
    "       9.13585055-4.71102664e-02j, 9.13230723-4.83881733e-02j,\n",
    "       9.12869036-4.96642289e-02j, 9.12500185-5.09382613e-02j,\n",
    "       9.12124371-5.22100874e-02j, 9.11741808-5.34795159e-02j,\n",
    "       9.1135272 -5.47463507e-02j, 9.10957347-5.60103949e-02j,\n",
    "       9.1055594 -5.72714552e-02j, 9.10148764-5.85293474e-02j,\n",
    "       9.09736102-5.97839015e-02j, 9.09318251-6.10349686e-02j,\n",
    "       9.08895526-6.22824280e-02j, 9.08468257-6.35261952e-02j,\n",
    "       9.08036797-6.47662306e-02j]"
   ]
  },
  {
   "cell_type": "code",
   "execution_count": null,
   "metadata": {},
   "outputs": [
    {
     "ename": "",
     "evalue": "",
     "output_type": "error",
     "traceback": [
      "\u001b[1;31mFailed to start the Kernel. \n",
      "\u001b[1;31mzmq.error.ZMQError: Address in use (addr='tcp://127.0.0.1:9002'). \n",
      "\u001b[1;31mView Jupyter <a href='command:jupyter.viewOutput'>log</a> for further details."
     ]
    }
   ],
   "source": [
    "Corr = [0.15118553008831065,\n",
    " 0.15224006992760974,\n",
    " 0.1532982011183182,\n",
    " 0.15436090971358404,\n",
    " 0.1554078147526842,\n",
    " 0.15644671430058826,\n",
    " 0.15734391736343026,\n",
    " 0.15823684601173527,\n",
    " 0.15913655491938553,\n",
    " 0.16004218167068582,\n",
    " 0.1609529154944039,\n",
    " 0.16186829621757687,\n",
    " 0.16278807550693716,\n",
    " 0.1637121205923159,\n",
    " 0.16464036113518804,\n",
    " 0.16557275949525863,\n",
    " 0.16650929281387047,\n",
    " 0.16744994159186172,\n",
    " 0.16839468239218722,\n",
    " 0.169343483319073,\n",
    " 0.17029630127440382,\n",
    " 0.1712530803125978,\n",
    " 0.17221375065618016,\n",
    " 0.17317822813209846,\n",
    " 0.17414641387282992,\n",
    " 0.17511819419798824,\n",
    " 0.17609344060644672,\n",
    " 0.17707200984155347,\n",
    " 0.1780537439893081,\n",
    " 0.17903847058384842,\n",
    " 0.18002600269792576,\n",
    " 0.18101613899472008,\n",
    " 0.18200866373002067,\n",
    " 0.1830033466892396,\n",
    " 0.183999943057053,\n",
    " 0.1849981931925494,\n",
    " 0.18599782233202,\n",
    " 0.18699854018807222,\n",
    " 0.18800004047622046,\n",
    " 0.1890020003355155,\n",
    " 0.19000407966939512,\n",
    " 0.19100592039491052,\n",
    " 0.19200714561464177,\n",
    " 0.19300735869722477,\n",
    " 0.1940061422908298,\n",
    " 0.1950030572384138,\n",
    " 0.195997641445106,\n",
    " 0.1969894086558976,\n",
    " 0.19797784718570763,\n",
    " 0.19896241856811217,\n",
    " 0.19994255616807266]"
   ]
  },
  {
   "cell_type": "code",
   "execution_count": null,
   "metadata": {},
   "outputs": [
    {
     "ename": "",
     "evalue": "",
     "output_type": "error",
     "traceback": [
      "\u001b[1;31mFailed to start the Kernel. \n",
      "\u001b[1;31mzmq.error.ZMQError: Address in use (addr='tcp://127.0.0.1:9002'). \n",
      "\u001b[1;31mView Jupyter <a href='command:jupyter.viewOutput'>log</a> for further details."
     ]
    }
   ],
   "source": [
    "save_list(H, \"H_(t,U,m,J)=(1,1,1,2)\")\n",
    "save_list(N, \"N_(t,U,m,J)=(1,1,1,2)\")\n",
    "save_list(Corr, \"Corr_(t,U,m,J)=(1,1,1,2)\")\n"
   ]
  },
  {
   "cell_type": "code",
   "execution_count": null,
   "metadata": {},
   "outputs": [
    {
     "ename": "",
     "evalue": "",
     "output_type": "error",
     "traceback": [
      "\u001b[1;31mFailed to start the Kernel. \n",
      "\u001b[1;31mzmq.error.ZMQError: Address in use (addr='tcp://127.0.0.1:9002'). \n",
      "\u001b[1;31mView Jupyter <a href='command:jupyter.viewOutput'>log</a> for further details."
     ]
    }
   ],
   "source": [
    "import matplotlib.pyplot as plt\n",
    "\n",
    "fig1, axs1 = plt.subplots(1, 1, sharex=True, figsize=(10,10))\n",
    "\n",
    "axs1.plot(times, load_list(\"H_(t,U,m,J)=(1,1,1,0.5)\") , label=\"\")\n",
    "axs1.plot(times, load_list(\"H_(t,U,m,J)=(1,1,1,1)\") , label=\"\")\n",
    "axs1.plot(times, load_list(\"H_(t,U,m,J)=(1,1,1,1.5)\") , label=\"\")\n",
    "axs1.plot(times, load_list(\"H_(t,U,m,J)=(1,1,1,2)\") , label=\"\")\n",
    "\n",
    "axs1.set_xlabel(\"Time $t$\")\n",
    "axs1.set_ylabel(\"energy\")  \n",
    "axs1.legend()"
   ]
  },
  {
   "cell_type": "code",
   "execution_count": null,
   "metadata": {},
   "outputs": [
    {
     "ename": "",
     "evalue": "",
     "output_type": "error",
     "traceback": [
      "\u001b[1;31mFailed to start the Kernel. \n",
      "\u001b[1;31mzmq.error.ZMQError: Address in use (addr='tcp://127.0.0.1:9002'). \n",
      "\u001b[1;31mView Jupyter <a href='command:jupyter.viewOutput'>log</a> for further details."
     ]
    }
   ],
   "source": [
    "import matplotlib.pyplot as plt\n",
    "\n",
    "fig1, axs1 = plt.subplots(1, 1, sharex=True, figsize=(10,10))\n",
    "\n",
    "axs1.plot(times, load_list(\"N_(t,U,m,J)=(1,1,1,0.5)\") , label=\"\")\n",
    "axs1.plot(times, load_list(\"N_(t,U,m,J)=(1,1,1,1)\") , label=\"\")\n",
    "axs1.plot(times, load_list(\"N_(t,U,m,J)=(1,1,1,1.5)\") , label=\"\")\n",
    "axs1.plot(times, load_list(\"N_(t,U,m,J)=(1,1,1,2)\") , label=\"\")\n",
    "\n",
    "axs1.set_xlabel(\"Time $t$\")\n",
    "axs1.set_ylabel(\"energy\")  \n",
    "axs1.legend()"
   ]
  },
  {
   "cell_type": "code",
   "execution_count": null,
   "metadata": {},
   "outputs": [
    {
     "ename": "",
     "evalue": "",
     "output_type": "error",
     "traceback": [
      "\u001b[1;31mFailed to start the Kernel. \n",
      "\u001b[1;31mzmq.error.ZMQError: Address in use (addr='tcp://127.0.0.1:9002'). \n",
      "\u001b[1;31mView Jupyter <a href='command:jupyter.viewOutput'>log</a> for further details."
     ]
    }
   ],
   "source": [
    "import matplotlib.pyplot as plt\n",
    "\n",
    "fig1, axs1 = plt.subplots(1, 1, sharex=True, figsize=(10,10))\n",
    "\n",
    "axs1.plot(times, load_list(\"Corr_(t,U,m,J)=(1,1,1,0.5)\") , label=\"\")\n",
    "axs1.plot(times, load_list(\"Corr_(t,U,m,J)=(1,1,1,1)\") , label=\"\")\n",
    "axs1.plot(times, load_list(\"Corr_(t,U,m,J)=(1,1,1,1.5)\") , label=\"\")\n",
    "axs1.plot(times, load_list(\"Corr_(t,U,m,J)=(1,1,1,2)\") , label=\"7\")\n",
    "\n",
    "axs1.set_xlabel(\"Time $t$\")\n",
    "axs1.set_ylabel(\"energy\")  \n",
    "axs1.legend()"
   ]
  },
  {
   "cell_type": "code",
   "execution_count": 115,
   "metadata": {},
   "outputs": [
    {
     "data": {
      "image/png": "iVBORw0KGgoAAAANSUhEUgAAA+QAAAIjCAYAAACKx9GpAAAAOXRFWHRTb2Z0d2FyZQBNYXRwbG90bGliIHZlcnNpb24zLjguMSwgaHR0cHM6Ly9tYXRwbG90bGliLm9yZy/SrBM8AAAACXBIWXMAAA9hAAAPYQGoP6dpAACJlElEQVR4nO3deZyN5f/H8feMdTAzjF3WLMla2ZKSsqWUorSokEoRldIqESKStbJT32iR0EYpW1Kyt4jsS9YsM7bZ798f1+/MMdY5nHOus7yej4fHueYsM+9xZs6cz31/ruuKcBzHEQAAAAAA8KtI2wEAAAAAAAhHFOQAAAAAAFhAQQ4AAAAAgAUU5AAAAAAAWEBBDgAAAACABRTkAAAAAABYQEEOAAAAAIAFFOQAAAAAAFhAQQ4AAAAAgAUU5ACAoFK2bFl16NDBdowzdOnSRU2bNs3SfTt06KCyZcv6NhCCVkpKikqVKqX33nvPdhQAgI9RkAMAAs7SpUvVp08fHTlyxHaULNm6dasmTJigV155JeO63bt3q0+fPlqzZo29YD4SbM9PVvz999+65ZZblC9fPsXFxemhhx7SgQMHsvz4L7/8Utdcc41y586t0qVL6/XXX1dqamqm++zZs0cvvfSSbrrpJkVHRysiIkILFy4843PlyJFDPXr00IABA5SYmHip3xoAIIBRkAMAAs7SpUvVt2/fsxZ8GzZs0Pjx4/0f6jxGjBihcuXK6aabbsq4bvfu3erbt+9ZC/Lx48drw4YNfkzoXed7foLRrl271LBhQ23atElvvvmmnn/+eX3zzTdq2rSpkpOTL/j4OXPm6M4771T+/Pk1atQo3Xnnnerfv7+6deuW6X4bNmzQW2+9pX///VfVq1c/7+fs2LGj/vvvP02bNu2SvjcAQGDLbjsAAACeyJUrl+0ImaSkpGjq1Kl64oknsvyYHDly+DARPPXmm2/q+PHjWrlypUqXLi1Jqlu3rpo2baopU6bo8ccfP+/jn3/+edWoUUPff/+9smc3b61iYmL05ptv6umnn1blypUlSbVq1dLBgwcVFxenzz//XPfcc885P2f+/PnVrFkzTZkyRY888oiXvlMAQKDhDDkAIKD06dNHPXv2lCSVK1dOERERioiI0LZt2ySdOYd8ypQpioiI0JIlS9S9e3cVLlxY+fPnV+fOnZWcnKwjR47o4YcfVoECBVSgQAG98MILchwn09dMT0/X8OHDVbVqVeXOnVtFixZV586ddfjw4QvmXbJkif777z81adIk47qFCxeqTp06ksyZTtf3MGXKFElnn0Oe1Qxly5ZVy5YttXDhQtWuXVtRUVGqXr16RuvzF198oerVqyt37tyqVauWVq9efcHv4XSjRo1S1apVlSdPHhUoUEC1a9fOOFN7oedHkj766CPVqlVLUVFRiouL03333aedO3dm+hqNGjVStWrVtHLlSl133XWKiopSuXLlNGbMGI/zXqoZM2aoZcuWGcW4JDVp0kSVKlXSZ599dt7Hrlu3TuvWrdPjjz+eUYxLZk0Bx3H0+eefZ1wXHR2tuLi4LOdq2rSplixZokOHDnnw3QAAgglnyAEAAaV169b6559/9PHHH2vYsGEqVKiQJKlw4cLnfVy3bt1UrFgx9e3bV7/++qvGjRun/Pnza+nSpSpdurTefPNNffvttxoyZIiqVaumhx9+OOOxnTt31pQpU9SxY0d1795dW7du1ejRo7V69Wr9/PPP5z2jvXTpUkVEROjqq6/OuO7KK6/UG2+8od69e+vxxx/XDTfcIEm67rrrzvl5PMmwadMmPfDAA+rcubMefPBBvf3227r99ts1ZswYvfLKK+rSpYskaeDAgWrbtq02bNigyMisHYMfP368unfvrrvvvltPP/20EhMT9fvvv2vZsmV64IEHLvj8DBgwQK+99pratm2rRx99VAcOHNCoUaPUsGFDrV69Wvnz58/4WocPH9att96qtm3b6v7779dnn32mJ598Ujlz5rzgWeH4+HilpKRc8PvJnTu38uXLd87b//33X+3fv1+1a9c+47a6devq22+/Pe/ndx3wOP3xJUqUUMmSJS/qgIhLrVq15DiOli5dqpYtW1705wEABDAHAIAAM2TIEEeSs3Xr1jNuK1OmjNO+ffuMjydPnuxIcpo3b+6kp6dnXF+/fn0nIiLCeeKJJzKuS01NdUqWLOnceOONGdf99NNPjiRn6tSpmb7O3Llzz3r96R588EGnYMGCZ1y/fPlyR5IzefLkM25r3769U6ZMmYvKUKZMGUeSs3Tp0ozrvvvuO0eSExUV5Wzfvj3j+rFjxzqSnAULFpz3ezhVq1atnKpVq573Pud6frZt2+Zky5bNGTBgQKbr//jjDyd79uyZrr/xxhsdSc7QoUMzrktKSnKuuuoqp0iRIk5ycvJ5M7gef6F/p/6snI3refrwww/PuK1nz56OJCcxMfGcj3f9X+zYseOM2+rUqeNce+21Z33c9OnTL/jc7N6925HkvPXWW+f9HgAAwYsz5ACAkNCpUydFRERkfFyvXj398ssv6tSpU8Z12bJlU+3atbVy5cqM66ZPn67Y2Fg1bdpU//33X8b1tWrVUr58+bRgwQI98MAD5/y6Bw8eVIECBS4pu6cZqlSpovr162f6XiXp5ptvztR27bp+y5YtatSoUZay5M+fX7t27dLy5csz2u6z6osvvlB6erratm2b6fsoVqyYKlasqAULFmRaiT579uzq3Llzxsc5c+ZU586d9eSTT2rlypW69tprz/m1hg4dmqUpBSVKlDjv7SdPnpR09rUJcufOnXGfc61dcKHHJyQkXDDjubh+rk79vwQAhBYKcgBASDi1EJWk2NhYSVKpUqXOuP7UQm7jxo2Kj49XkSJFzvp59+/ff8Gv7Zw2J91Tnmbw5HuVlKXC1eXFF1/UDz/8oLp166pChQpq1qyZHnjgATVo0CBL34fjOKpYseJZbz+99b9EiRLKmzdvpusqVaokSdq2bdt5C/JatWpdME9WREVFSZKSkpLOuM215ZjrPhfz+PM99kJcP1enHmgCAIQWCnIAQEjIli1blq8/tYBOT09XkSJFNHXq1LM+/kJz1wsWLOhRwXs2nmbw5HuVPDtgcOWVV2rDhg36+uuvNXfuXM2YMUPvvfeeevfurb59+573senp6YqIiNCcOXPOmuV8c7k9dejQoSxtSRYVFZVxYOJsihcvLsnsEX66PXv2KC4u7rwr+5/6+NMPiOzZs0d169a9YMZzcf1cuebpAwBCDwU5ACDg+POMYPny5fXDDz+oQYMGF3U2s3Llypo6dari4+MzFX6efA+XmsHb8ubNq3vvvVf33nuvkpOT1bp1aw0YMEAvv/yycufOfc7vrXz58nIcR+XKlcs4030+u3fv1vHjxzOdJf/nn38k6YxV6E/XunVrLVq06IJfo3379hmr25/NZZddpsKFC2vFihVn3Pbbb7/pqquuOu/nd92+YsWKTMX37t27tWvXrgtumXY+W7dulWQOkgAAQhPbngEAAo6rQDty5IjPv1bbtm2Vlpamfv36nXFbamrqBTPUr19fjuNkmpcuefY9XGoGbzp48GCmj3PmzKkqVarIcZyMVc3P9b21bt1a2bJlU9++fc84K+84zhmfOzU1VWPHjs34ODk5WWPHjlXhwoUv2JI+dOhQzZs374L/XnjhhQt+z23atNHXX3+daWu2H3/8Uf/880+mvcJTUlK0fv36TGfTq1atqsqVK2vcuHFKS0vLuP79999XRESE7r777gt+/XNZuXKlIiIiMq0XAAAILZwhBwAEHFcx9uqrr+q+++5Tjhw5dPvtt58x39gbbrzxRnXu3FkDBw7UmjVr1KxZM+XIkUMbN27U9OnTNWLEiPMWVddff70KFiyoH374QTfffHPG9eXLl1f+/Pk1ZswYRUdHK2/evKpXr57KlSvn9Qze1KxZMxUrVkwNGjRQ0aJF9ffff2v06NG67bbbFB0dLencz0/58uXVv39/vfzyy9q2bZvuvPNORUdHa+vWrZo5c6Yef/xxPf/88xlfq0SJEnrrrbe0bds2VapUSZ9++qnWrFmjcePGnXeruVMzeMMrr7yi6dOn66abbtLTTz+tY8eOaciQIapevbo6duyYcb9///1XV1555Rln3YcMGaI77rhDzZo103333ac///xTo0eP1qOPPnrG2e3+/ftLkv766y9J0v/+9z8tWbJEktSrV69M9503b54aNGigggULeu17BQAEGFvLuwMAcD79+vVzLrvsMicyMjLTFlvn2vZs+fLlmR7/+uuvO5KcAwcOZLq+ffv2Tt68ec/4euPGjXNq1arlREVFOdHR0U716tWdF154wdm9e/cFs3bv3t2pUKHCGdfPnj3bqVKlipM9e/ZMW6Cdvu2ZJxnKlCnj3HbbbWc8VpLTtWvXTNdt3brVkeQMGTLkgt+Dy9ixY52GDRs6BQsWdHLlyuWUL1/e6dmzpxMfH5/pfud6fhzHcWbMmOFcf/31Tt68eZ28efM6lStXdrp27eps2LAh4z433nijU7VqVWfFihVO/fr1ndy5cztlypRxRo8eneWs3vTnn386zZo1c/LkyePkz5/fadeunbN3795M93H9f55tK7WZM2c6V111lZMrVy6nZMmSTq9evc66dZvOs0XbqY4cOeLkzJnTmTBhgle/TwBAYIlwnEtcGhYAgDC3ZcsWVa5cWXPmzFHjxo1txwkKjRo10n///ac///zTdpSANHz4cA0ePFibN28OiHUFAAC+wRxyAAAu0eWXX65OnTpp0KBBtqMgBKSkpOidd95Rr169KMYBIMRxhhwAgDCQnJysQ4cOnfc+sbGxfisAOUMOAACLugEAEBaWLl2qm2666bz3mTx5sjp06OCfQAAAgDPkAACEg8OHD5+xNdvpqlatquLFi/spEQAAoCAHAAAAAMACFnUDAAAAAMCCkJ9Dnp6ert27dys6OloRERG24wAAAAAAQpzjODp69KhKlCihyMhznwcP+YJ89+7dKlWqlO0YAAAAAIAws3PnTpUsWfKct4d8QR4dHS3J/EfExMRYTgMAAAAACHUJCQkqVapURj16LiFfkLva1GNiYijIAQAAAAB+c6Fp0yzqBgAAAACABRTkAAAAAABYQEEOAAAAAIAFFOQAAAAAAFhAQQ4AAAAAgAUU5AAAAAAAWEBBDgAAAACABRTkAAAAAABYQEEOAAAAAIAFFOQAAAAAAFhAQQ4AAAAAgAUU5AAAAAAAWEBBDgAAAACABRTkAAAAAABYQEEOAAAAAIAFFOQAAAAAAFiQ3XYAAAAAAAhHy5ZJ//5rO0XwKVFCuvZa2ym8g4IcAAAAAPzs55+l66+3nSI4tWkjff657RTeQUEOAAAAAH72v/+Zy9KlpVKl7GYJNpUr207gPRTkAAAAAOBHqanSjBlmPGGC1LSp3Tywh0XdAAAAAMCPFi6U/vtPKlhQuukm22lgEwU5AAAAAPjR9OnmsnVrKTs9y2GNghwAAAAA/OTUdvW2be1mgX0U5AAAAADgJwsWSAcPSoUKSY0a2U4D2yjIAQAAAMBPPvvMXLZpQ7s6KMgBAAAAwC9SUqQvvjBj2tUhUZADAAAAgF/Mny8dOiQVKSI1bGg7DQIBBTkAAAAA+AHt6jgdBTkAAAAA+FhysjRzphnTrg4XCnIAAAAA8LEff5QOH5aKFpVuuMF2GgQKCnIAAAAA8LHp081lmzZStmx2syBwUJADAAAAgA/Rro5zoSAHAAAAAB/64QfpyBGpWDHp+uttp0EgoSAHAAAAAB9yra5+9920qyMzCnIAAAAA8JGkJGnWLDOmXR2noyAHAAAAAB+ZN0+Kj5eKF5caNLCdBoGGghwAAAAAfMTVrn7PPVIk1RdOw48EAAAAAPhAUpI0e7YZ066Os6EgBwAAAAAf+P57KSFBuuwyqX5922kQiCjIAQAAAMAHTl1dnXZ1nA0/FgAAAADgZYmJtKvjwijIAQAAAMDLvvtOOnpUKllSuvZa22kQqCjIAQAAAMDLWF0dWcGPBgAAAAB40cmT0pdfmjHt6jgfCnIAAAAA8KK5c6Vjx6TSpaV69WynQSCjIAcAAAAALzq1XT0iwm4WBDYKcgAAAADwkpMnpa++MmPa1XEhFOQAAAAA4CVz5kjHj0tlykh16thOg0BHQQ4AAAAAXkK7OjxBQQ4AAAAAXnDiBO3q8AwFOQAAAAB4wbffmqK8bFmpdm3baRAMKMgBAAAAwAtc7ept29KujqyxWpAvXrxYt99+u0qUKKGIiAjNmjUr47aUlBS9+OKLql69uvLmzasSJUro4Ycf1u7du+0FBgAAAICzOH5c+vprM6ZdHVlltSA/fvy4atasqXffffeM206cOKFVq1bptdde06pVq/TFF19ow4YNuuOOOywkBQAAAIBz++Ybs+XZ5ZdL11xjOw2CRXabX7xFixZq0aLFWW+LjY3VvHnzMl03evRo1a1bVzt27FDp0qX9EREAAAAALoh2dVwMqwW5p+Lj4xUREaH8+fOf8z5JSUlKSkrK+DghIcEPyQAAAACEq2PHzIJuEu3q8EzQLOqWmJioF198Uffff79iYmLOeb+BAwcqNjY241+pUqX8mBIAAABAuHG1q1eoIF11le00CCZBUZCnpKSobdu2chxH77///nnv+/LLLys+Pj7j386dO/2UEgAAAEA4crWr33MP7erwTMC3rLuK8e3bt2v+/PnnPTsuSbly5VKuXLn8lA4AAABAODt6lHZ1XLyALshdxfjGjRu1YMECFSxY0HYkAAAAAMjw9ddSYqJUsaJUs6btNAg2VgvyY8eOadOmTRkfb926VWvWrFFcXJyKFy+uu+++W6tWrdLXX3+ttLQ07d27V5IUFxennDlz2ooNAAAAAJJYXR2XJsJxHMfWF1+4cKFuuummM65v3769+vTpo3Llyp31cQsWLFCjRo2y9DUSEhIUGxur+Pj4C7a7AwAAAEBWJSRIRYpISUnS2rVSjRq2EyFQZLUOtXqGvFGjRjrf8QCLxwoAAAAA4Ly++soU41dcIVWvbjsNglFQrLIOAAAAAIFm+nRzSbs6LhYFOQAAAAB4KCFBmjPHjFldHReLghwAAAAAPPTll1JysnTllVLVqrbTIFhRkAMAAACAh1yrq99zD+3quHgU5AAAAADggSNHpO++M2Pa1XEpKMgBAAAAwAOudvUqVWhXx6WhIAcAAAAAD7ja1Tk7jktFQQ4AAAAAWXTkiPT992Z8zz1WoyAEUJADAAAAQBbNni2lpEjVqpmWdeBSUJADAAAAQBbRrg5voiAHAAAAgCw4fJh2dXgXBTkAAAAAZMGsWVJqqlSjhlS5su00CAUU5AAAAACQBbSrw9soyAEAAADgAg4elH74wYxpV4e3UJADAAAAwAW42tVr1pQqVbKdBqGCghwAAAAALoB2dfgCBTkAAAAAnMfBg9KPP5ox7erwJgpyAAAAADiPmTOltDTp6qulihVtp0EooSAHAAAAgPOgXR2+QkEOAAAAAOdw4IA0f74Z064Ob6MgBwAAAIBzcLWr16ollS9vOw1CDQU5AAAAAJwD7erwJQpyAAAAADiL/fulBQvMmHZ1+AIFOQAAAACcxRdfSOnpUu3aUrlyttMgFFGQAwAAAMBZ0K4OX6MgBwAAAIDT7NsnLVpkxrSrw1coyAEAAADgNK529bp1pbJlbadBqKIgBwAAAIDT0K4Of6AgBwAAAIBT7N3rble/+267WRDaKMgBAAAA4BQzZkiOI117rVSmjO00CGXZbQcAAAAAwtHKlVKrVtLhw7aT4HRJSebSl+3qmzdLzZtLe/b47muEqjvvlKZOtZ3COyjIAQAAAD9LTJQefFD691/bSXAusbHSvff65nOnp0sdO5qiHJ5zHTAJBRTkAAAAgJ+9/rq0fr1UtKj0449Snjy2E+F0hQtL+fL55nOPGiX99JP5/PPnS4UK+ebrhKpQ+n2hIAcAAAD86JdfpLffNuOxY6WqVe3mgX/984/08stm/PbbUp06dvPALhZ1AwAAAPzk5EmpQwfTsvzQQ2YOOcJHWpppVT95UmrSRHr8cduJYBsFOQAAAOAnvXqZM6TFi0sjRthOA38bPlxaulSKjpYmTpQiImwngm0U5AAAAIAf/PyzNGyYGY8bJxUoYDcP/Gv9eunVV834nXek0qXt5kFgoCAHAAAAfOzECdOq7jjmsmVL24ngT2lp5nlPSjJbnXXqZDsRAgUFOQAAAOBjr7wibdokXXaZ+yw5wsfQodKyZWYrtQkTaFWHGwU5AAAA4EOLF7vni0+YIOXPbzUO/GzdOum118x4+HCpZEmrcRBgKMgBAAAAHzl+3KyqLZk25VtusZsH/pWaKrVvLyUnS7fdZsbAqSjIAQAAAB956SVpyxapVCnTtozwMniwtGKF6YoYO5ZWdZyJghwAAADwgQULpNGjzXjiRDN/GOHjjz+kPn3MeORIs34AcDoKcgAAAMDLjh6VHnnEjDt3lpo2tZsH/pWSYlZVT0mR7rhDevBB24kQqCjIAQAAAC974QVp2zapTBlpyBDbaeBvgwZJq1aZvebHjKFVHedGQQ4AAAB40Q8/mCJMMq3q0dF288C/1q6V3njDjEePlooXt5sHgY2CHAAAAPCShASzmrokdekiNW5sNw/8KznZtKqnpkp33SXdf7/tRAh0FOQAAACAlzz/vLRjh1SunPTWW7bTwN/efFNas0YqWFB6/31a1XFhFOQAAACAF3z3nTR+vBlPmiTly2c3D/xr1SppwAAzfvddqWhRu3kQHCjIAQAAgEsUHy89+qgZd+smNWpkNQ78LCnJ3ap+991S27a2EyFYUJADAAAAl6hHD2nXLql8eWngQNtp4G/9+pl9xwsXlt57j1Z1ZB0FOQAAAHAJvv3WtKhHREiTJ0t589pOBH9ascJscyaZeeOFC9vNg+BCQQ4AAABcpMOHpcceM+NnnpFuuMFqHPhZUpLUvr2Ulibdd5/Upo3tRAg2FOQAAADARXr2WWn3bqliRal/f9tp4G99+kjr1klFikijRtlOg2BEQQ4AAABchK++kj74wLSqT5ki5cljOxH8adkyafBgMx4zRipUyG4eBCcKcgAAAMBDhw5Jjz9uxs89J113nd088K/ERLOqenq61K6ddNddthMhWFGQAwAAAB7q3l3au1eqXFl64w3baeBvvXtL69dLxYpJI0faToNgRkEOAAAAeGDWLGnqVCky0rSqR0XZTgR/WrpUevttMx43ToqLs5sHwY2CHAAAAMii//6TOnc24549pXr17OaBf504YVrVHUd6+GHp9tttJ0KwoyAHAAAAsqhbN2n/fqlKFbPCNsJLr17Sxo1SiRLS8OG20yAUUJADAAAAWTBjhvTJJ1K2bKZVPXdu24ngT0uWuIvw8eOlAgWsxkGIoCAHAAAALuDAAenJJ834xRelOnXs5oF/HT8udexoWtU7dpRuvdV2IoQKCnIAAADgArp2NUV5tWpmhW2El1dekTZtkkqWlN55x3YahBIKcgAAAOA8PvtMmj7dtKp/8IGUK5ftRPCnRYvcW5tNmCDlz281DkIMBTkAAABwDvv2SV26mPGrr0rXXGM3D/zr2DHpkUfM+LHHpObN7eZB6LFakC9evFi33367SpQooYiICM2aNSvT7Y7jqHfv3ipevLiioqLUpEkTbdy40U5YAAAAhBXHMfPGDx6UatY0BTnCy0svSVu2SKVLu/ceB7zJakF+/Phx1axZU+++++5Zbx88eLBGjhypMWPGaNmyZcqbN6+aN2+uxMREPycFAABAuPnkE2nmTCl7drOqes6cthPBn+bPl1xlysSJUkyM3TwITdltfvEWLVqoRYsWZ73NcRwNHz5cvXr1UqtWrSRJH374oYoWLapZs2bpvvvu82dUAAAAhJE9e8xCbpL02mvSVVdZjQM/O3rU3ar+xBNSkyZ28yB0WS3Iz2fr1q3au3evmpzy0x8bG6t69erpl19+OWdBnpSUpKSkpIyPExISfJ4VAADgYqxbJ3XvLp04YTsJTrdnj3T4sHT11dLLL/vma+zcKXXuLB054pvPj4v333/S9u1S2bLS4MG20yCUBWxBvnfvXklS0aJFM11ftGjRjNvOZuDAgerbt69PswEAAFyq5GTpvvukP/6wnQTnkjOnWVU9Rw7vf+70dKlDB9MWjcAUESFNmiRFR9tOglAWsAX5xXr55ZfVo0ePjI8TEhJUqlQpi4kAAADO1K+fKcYLFZLGjDHzlBFYKlWSrrzSN597zBhTjEdFmfnJefL45uvg4pUpw1QF+F7AvvQXK1ZMkrRv3z4VL1484/p9+/bpqvP8ZuTKlUu52BwSAAAEsBUrpIEDzfi996Q2bezmgX9t2SL17GnGb70l3X+/3TwA7AnYfcjLlSunYsWK6ccff8y4LiEhQcuWLVP9+vUtJgMAALh4SUmmVTktTbr3Xumee2wngj+lp5vFwk6ckG680b1wHIDwZPUM+bFjx7Rp06aMj7du3ao1a9YoLi5OpUuX1jPPPKP+/furYsWKKleunF577TWVKFFCd955p73QAAAAl6BvX+mvv6QiRaTRo22ngb+9+660aJGUN6+ZnxwZsKfHAPiD1YJ8xYoVuummmzI+ds39bt++vaZMmaIXXnhBx48f1+OPP64jR47o+uuv19y5c5U7d25bkQEAAC7ab7+ZFmXJzCEuVMhuHvjXpk3Siy+a8eDB0uWX280DwL4Ix3Ec2yF8KSEhQbGxsYqPj1dMTIztOAAAIEwlJpottNavlx54QJo61XYi+FNammlR//ln6eabpXnzODsOhLKs1qG8DAAAAPhB796mGC9WTBo50nYa+NvIkaYYz5fPrKpOMQ5AoiAHAADwuV9+kYYONeOxY6WCBe3mgX/984/0yitmPHSoVLas1TgAAggFOQAAgA+dPGlWVU9Plx5+WLrjDtuJ4E9paeb5T0yUmjaVHnvMdiIAgYSCHAAAwId69TJnSEuUkIYPt50G/jZsmOmQiI6WJkyQIiJsJwIQSCjIAQAAfGTJElOQSdK4cVKBAnbzwL/+/tsckJHMz0Hp0nbzAAg8FOQAAAA+cOKE1LGj5Djm8rbbbCeCP6Wmmlb1pCTpllukRx6xnQhAIKIgBwAA8IFXXjH7TpcsKb3zju008LehQ82+87Gx0vjxtKoDODsKcgAAAC9btEgaMcKMJ0yQ8ue3Ggd+9tdfZps7yawbULKk1TgAAhgFOQAAgBcdO+ZuT370Ual5c7t54F8pKVL79lJyspmm0L697UQAAhkFOQAAgBe99JK0ZYtUqpR773GEj8GDpZUrTVfEuHG0qgM4PwpyAAAAL1mwQHr3XTOeNEmKibGbB/71xx9S375mPHKk2eoOAM6HghwAAMALjh51t6o/8YTUpIndPPAvV6t6Sop0xx3Sgw/aTgQgGFCQAwAAeMELL0jbtkllypi2ZYSXgQOl1auluDhp7Fha1QFkDQU5AADAJfrhB2nMGDOeNEmKjrabB/61Zo3Ur58Zjx4tFStmNQ6AIEJBDgAAcAkSEqROncy4a1fp5pvt5oF/JSdLHTpIqanSXXdJ991nOxGAYEJBDgAAcAmef17asUO6/HJp0CDbaeBvAwZIa9dKBQtK779PqzoAz1CQAwAAXKTvvpPGjzfjSZOkfPns5oF/rVplCnJJeu89qWhRu3kABB8KcgAAgIsQHy89+qgZd+8u3Xij3Tzwr6Qks6p6Wpp0zz1S27a2EwEIRhTkAAAAF6FHD2nXLqlCBenNN22ngb/16yf9+adUuLB773kA8BQFOQAAgIe+/da0qEdESJMnS3nz2k4Ef1q+3L1ewPvvm6IcAC4GBTkAAIAHDh+WHnvMjJ99Vrr+ert54F+JiWZV9bQ0s6J6mza2EwEIZhTkAAAAHnjmGWn3bqlSJal/f9tp4G99+kjr1pkF3EaPtp0GQLCjIAcAAMiir76SPvxQioyUpkyRoqJsJ4I//fqrNGSIGY8ZY7Y6A4BLQUEOAACQBYcOSY8/bsbPPSfVr283D/zr5EmpY0cpPV1q1066807biQCEAgpyAACALOjeXdq7V6pcWXrjDdtp4G+9e0vr10vFikkjR9pOAyBUUJADAABcwMyZ0tSpplX9gw+k3LltJ4I/LV0qDR1qxuPGSXFxdvMACB0U5AAAAOfx33/SE0+Y8QsvSHXr2s0D/zpxwqyq7jjSww9Lt99uOxGAUEJBDgAAcB7dukn790tVq5oVthFeevWSNm6USpSQhg+3nQZAqKEgBwAAOIfPP5c++UTKls2sqp4rl+1E8KeffnIX4ePHSwUKWI0DIARRkAMAAJzF/v3Sk0+a8csvS7Vr280D/zp+3Kyq7jjSI49It95qOxGAUJTddgAAAMLZjh3SsGFmSyUEltWrzfzx6tWl117zzdfYv1966y1T/CGwbNggbd4slSwpvfOO7TQIRcnJ0sCB0p49tpMEn6uvljp3tp3COy65IE9ISND8+fN1xRVX6Morr/RGJgAAwsbLL0vTptlOgXPJnt20qufM6f3P7Vok7LvvvP+54T0TJkixsbZTIBT17Su9+abtFMGpTZswLsjbtm2rhg0b6qmnntLJkydVu3Ztbdu2TY7j6JNPPlGbNm18kRMAgJBz8qT05Zdm/PTTbKUUiBo0kK65xjefe+JEU4znymVWb89O32LAqVFDat7cdgqEouXLpUGDzLhbN6lQIbt5gk0onQf2+KV/8eLFevXVVyVJM2fOlOM4OnLkiD744AP179+fghwAgCyaO1c6dkwqXdq0rUdE2E4Ef9m+XerRw4wHDJCee85uHgD+k5gotW8vpadL998vjRxpOxFs8nhRt/j4eMX9/yH8uXPnqk2bNsqTJ49uu+02bdy40esBAQAIVZ99Zi7vuYdiPJw4jvToo9LRo9J110nPPGM7EQB/ev116e+/paJFpVGjbKeBbR4X5KVKldIvv/yi48ePa+7cuWrWrJkk6fDhw8qdO7fXAwIAEIpOnJC++sqM27a1mwX+NW6c9MMPUu7c0uTJZks1AOHh11+lt98247FjpYIF7eaBfR63rD/zzDNq166d8uXLpzJlyqhRo0aSTCt79erVvZ0PAICQNGeOWVm7TBmpTh3baeAvW7e629MHDpQqVbKbB4D/nDwpdehgWtUfekhq1cp2IgQCjwvyLl26qG7dutq5c6eaNm2qyEhzkv3yyy9X//79vR4QAIBQ5GpXb9uWdvVwkZ4udepkDsTccIPUvbvtRAD86bXXzHZ6xYtLI0bYToNAEeE4jmM7hC8lJCQoNjZW8fHxiomJsR0HAACdOCEVLmwuf/uNM+Th4t13paeekvLkkdaulSpUsJ0IgL/8/LM5EOc40tdfS7fdZjsRfC2rdajHZ8jT0tI0ZcoU/fjjj9q/f7/S09Mz3T5//nzP0wIAEEa+/dYU42XLSrVr204Df9iyxWxtJpmtjijGgfBx4oRpVXccc0kxjlN5XJA//fTTmjJlim677TZVq1ZNEfTZAQDgEdrVw0t6utSxo3lTfuONUteuthMB8KdXX5U2bZIuu8xscQmcyuOC/JNPPtFnn32mW2+91Rd5AAAIacePm3ZFidXVw8Xo0dLixVLevNKkSVKkx3vcAAhWixe754tPmCDlz281DgKQx38ScubMqQr0WQEAcFG++castHv55dI119hOA1/buFF66SUzHjLEPO8AwsPx46Y7xnHMgo633GI7EQKRxwX5c889pxEjRijE14IDAMAnaFcPH2lp5s34yZNS48ZS5862EwHwp5deMutHlColDR1qOw0Clcct60uWLNGCBQs0Z84cVa1aVTly5Mh0+xdffOG1cAAAhJJjx8wZcol29XAwcqRZWTlfPmniRFrVgXCycKGZriKZ3//YWKtxEMA8Lsjz58+vu+66yxdZAAAIaV9/LSUmmhW2r7rKdhr40oYN0iuvmPHQoVKZMnbzAPCfY8dMd4xkOmOaNrWbB4HN44J88uTJvsgBAEDIo109PLha1RMTzRvxxx6znQiAP73wgrRtmzkQN2SI7TQIdB4X5C4HDhzQhg0bJElXXHGFChcu7LVQAACEmqNHzf7jEu3qoW7YMOmXX6SYGNOqysEXIHz88IP0/vtmPGmSFB1tNw8Cn8ezmY4fP65HHnlExYsXV8OGDdWwYUOVKFFCnTp10okTJ3yREQCAoPf111JSklSxolSjhu008JW//5Z69TLjYcPMYk4AwkNCgllNXZK6dJFuvtluHgQHjwvyHj16aNGiRfrqq6905MgRHTlyRLNnz9aiRYv03HPP+SIjAABBj3b10JeaKnXoYA68tGjhnkMKIDz07Cnt2CGVKye99ZbtNAgWEY6H+5cVKlRIn3/+uRo1apTp+gULFqht27Y6cOCAN/NdsoSEBMXGxio+Pl4xMTG24wAAwlBCglSkiCnU1q7lDHmoGjRIevlls5ryn39KJUvaTgTAX77/Xmre3IwXLpRuvNFqHASArNahHp8hP3HihIoWLXrG9UWKFKFlHQCAs/jqK1OMX3GFVL267TTwhb/+kl5/3YxHjKAYB8JJfLy7Vb1bN4pxeMbjgrx+/fp6/fXXlZiYmHHdyZMn1bdvX9WvX9+r4QAACAW0q4e2lBSpfXspOVlq2VJ6+GHbiQD4U48e0q5dUvny0sCBttMg2Hi8yvqIESPUvHlzlSxZUjVr1pQkrV27Vrlz59Z3333n9YAAAASz+Hhp7lwzZnX10DR4sLRypZQ/vzR2LAddgHAyZ45ZTT0iQpo8Wcqb13YiBBuPC/Jq1app48aNmjp1qtavXy9Juv/++9WuXTtFRUV5PSAAAMHsyy/NmdMrr5SqVrWdBt72++9S375mPGqUVKKE3TwA/OfwYenRR834mWekG26wGgdB6qL2Ic+TJ48ee+wxb2cBACDk0K4eulJSzKrqKSlSq1ZSu3a2EwHwp2eflXbvNttZ9u9vOw2CVZYK8i+//FItWrRQjhw59OWXX573vnfccYdXggEAEOyOHDEr70rSPfdYjQIfGDhQWr1aiouTxozhgAsQTr76SvrgA/N7P2WKlCeP7UQIVlkqyO+8807t3btXRYoU0Z133nnO+0VERCgtLc1b2QAACGqudvUqVWhXDzVr1kj9+pnxu+9KxYpZjQPAjw4dkh5/3Iyfe0667jq7eRDcslSQp6enn3UMAADO7dR2dYSO5GSzqnpqqtS6tXTvvbYTAfCnp5+W9u6VKleW3njDdhoEO4+3PTubI0eOeOPTAAAQMg4fpl09VA0YYBZzK1RIev99WtWBcDJrlvTRR1JkpGlVZ01rXCqPC/K33npLn376acbH99xzj+Li4nTZZZdp7dq1Xg0HAECwmj3bLPZVrZppWUdoWLXKFOSS9N57UpEidvMA8J///pM6dzbjnj2levXs5kFo8LggHzNmjEqVKiVJmjdvnn744QfNnTtXLVq0UM+ePb0eEACAYES7euhJSjKt6mlp5nml8wEIL926Sfv3m4OsffrYToNQ4fG2Z3v37s0oyL/++mu1bdtWzZo1U9myZVWPw0QAAOjQIWnePDOmaAsdb7wh/fmnOSv+7ru20wDwpxkzpE8+kbJlM63quXPbToRQ4fEZ8gIFCmjnzp2SpLlz56pJkyaSJMdxWGEdAACZOYapqVKNGmbRHwS/5cult94y4/ffN/PHAYSHAwekJ58045dekurUsZsHocXjM+StW7fWAw88oIoVK+rgwYNq0aKFJGn16tWqUKGC1wMCABBspk83l7Srh4bERKlDB9Oqfv/9ZmV1AOGja1dTlFerJr32mu00CDUeF+TDhg1T2bJltXPnTg0ePFj58uWTJO3Zs0ddunTxekAAAILJwYPSDz+YMe3qoaFPH2ndOqloUWnUKNtpAPjTZ5+Zg6zZskkffCDlymU7EUJNhOM4ju0Q55KWlqY+ffroo48+0t69e1WiRAl16NBBvXr1UkQW9xhJSEhQbGys4uPjFRMT4+PEAIBwN3Gi9OijUs2a0po1ttPgUv36q9SggZSebqYitGplOxEAf9m3T6pa1Rxo7d1b6tvXdiIEk6zWoR6fIZekjRs3asGCBdq/f7/S09Mz3da7d++L+ZRn9dZbb+n999/XBx98oKpVq2rFihXq2LGjYmNj1b17d699HQAAvIXV1UPHyZNSx46mGH/oIYpxIJw4jpk3fvCgOcD66qu2EyFUeVyQjx8/Xk8++aQKFSqkYsWKZTpTHRER4dWCfOnSpWrVqpVuu+02SVLZsmX18ccf67fffvPa1wAAwFv++0/68Uczzmq7+tGj0uefm3nKCCyLF0vr10vFi0sjRthOg1CUlmYO4h05YjsJTrdtmzRzppQ9u1lVPWdO24kQqjwuyPv3768BAwboxRdf9EWeTK677jqNGzdO//zzjypVqqS1a9dqyZIleuedd875mKSkJCUlJWV8nJCQ4POcAABI5s1bWpp09dVSxYpZe0yvXtLIkb7NhUszbpxUoIDtFAhF/frRBh3oXntNuuoq2ykQyjwuyA8fPqx7/LRKzUsvvaSEhARVrlxZ2bJlU1pamgYMGKB27dqd8zEDBw5UX17ZAAAWeNqunpZm9rWVpKZNJZY6CTw33ii1bGk7BULR6tXSgAFm3KKFlCeP3Tw4U7ly0ssv206BUOfxom6dOnVSnTp19MQTT/gqU4ZPPvlEPXv21JAhQ1S1alWtWbNGzzzzjN555x21b9/+rI852xnyUqVKsagbAMCnDhyQihUz8403bZLKl7/wYxYskG6+WYqLk/bulXLk8H1OAPYlJ0u1a0t//CHdfbc5mJfF9YoBBAmfLepWoUIFvfbaa/r1119VvXp15Tjt3YM3F1vr2bOnXnrpJd13332SpOrVq2v79u0aOHDgOQvyXLlyKRf7EQAA/OyLL0wxXqtW1opxyX1G/a67KMaBcNKvnynGCxWS3n2XYhwIZx4X5OPGjVO+fPm0aNEiLVq0KNNtERERXi3IT5w4ocjIyEzXZcuW7YyV3QEAsG36dHOZ1Xb11FRpxgzPHgMg+K1YIQ0caMbvvScVKWI3DwC7PC7It27d6oscZ3X77bdrwIABKl26tKpWrarVq1frnXfe0SOPPOK3DAAAXMj+/ab9XMr66uqLFpk294IFpZtu8l02AIEjKUnq0MGsH3HvvVl/vQAQui5qH3JJSk5O1tatW1W+fHllz37Rn+a8Ro0apddee01dunTR/v37VaJECXXu3NmrW6sBAHCpXO3qdeqYRYCywtWu3ro17epAuOjbV/rrL3NWfPRo22kABILIC98lsxMnTqhTp07KkyePqlatqh07dkiSunXrpkGDBnk1XHR0tIYPH67t27fr5MmT2rx5s/r376+cbAQIAAggruI6q2e7aFcHws9vv0lvvWXGY8aY+eMA4HFB/vLLL2vt2rVauHChcufOnXF9kyZN9Omnn3o1HAAAgW7vXtN+LmW9IF+wQDp40Lwhb9TIZ9EABIjERKl9e9NJ88ADZiFHAJAuomV91qxZ+vTTT3Xttdcq4pQlIatWrarNmzd7NRwAAIHO1a5et65UtmzWHuM6o96mjeSjWV8AAkjv3tL69WZrxJEjbacBEEg8PkN+4MABFTnLcpDHjx/PVKADABAOXMV1VlvPU1KkmTM9ewyA4PXLL9LQoWY8dqxZyBEAXDwuyGvXrq1vvvkm42NXET5hwgTVr1/fe8kAAAhwe/ZIixeb8d13Z+0xrnb1IkWkhg19lw2AfSdPmlXV09Olhx6S7rjDdiIAgcbjRrk333xTLVq00Lp165SamqoRI0Zo3bp1Wrp06Rn7kgMAEMq++EJyHOnaa6UyZbL2mFNXV6ddHQhtvXpJ//wjFS8ujRhhOw2AQOTxGfLrr79ea9asUWpqqqpXr67vv/9eRYoU0S+//KJatWr5IiMAAAHpYtrVv/jCs8cACE5LlkjDhpnx+PFSgQJ28wAITBGO4zi2Q/hSQkKCYmNjFR8fr5iYGNtxAAAhYvduqWRJc4Z8xw6pVKkLP2buXKlFC9Ouvnu3lC2b73MC8L8TJ6SaNaVNm6SOHaVJk2wnAuBvWa1DL7pZbv/+/dq/f7/S09MzXV+jRo2L/ZQAAASNGTNMMX7ddVkrxiX3GfW776YYB0LZK6+YYvyyy6R33rGdBkAg87ggX7lypdq3b6+///5bp59cj4iIUFpamtfCAQAQqFzFdVb3Hk9OZnV1IBwsWuSeLz5hgpQ/v9U4AAKcxwX5I488okqVKmnixIkqWrQoW50BAMLOv/+a+aFS1ldX/+EH6cgRsw/x9df7LBoAi44dkx55xIwffVS65Ra7eQAEPo8L8i1btmjGjBmqUKGCL/IAABDwPv/cXDZoYOaRZwXt6kDoe+klacsWM43Ftfc4AJyPx6usN27cWGvXrvVFFgAAgoKnq6snJ0uzZnn2GADBZcEC6d13zXjiRIm1hAFkhcdnyCdMmKD27dvrzz//VLVq1ZQjR45Mt99xxx1eCwcAQKDZtUtaulSKiJDatMnaY+bNk+LjzV7EDRr4Nh8A/zt61N2q3rmz1LSp3TwAgofHBfkvv/yin3/+WXPmzDnjNhZ1AwCEOle7+vXXmxWUs+LUdvVIj3vTAAS6F16Qtm2TypSRhgyxnQZAMPH4bUG3bt304IMPas+ePUpPT8/0j2IcABDqPG1XT0qiXR0IZfPmSWPGmPGkSVJ0tN08AIKLxwX5wYMH9eyzz6po0aK+yAMAQMDasUP65RfP2tW//15KSJBKlDB7lgMIHQkJUqdOZtyli3TzzXbzAAg+HhfkrVu31oIFC3yRBQCAgOZqV2/Y0MwHz4pT9yunXR0ILc8/L+3cKZUrJ731lu00AIKRx3PIK1WqpJdffllLlixR9erVz1jUrXv37l4LBwBAIDm1uM6KxERp9mwzpl0dCC3ffSeNH2/GkydL+fLZzQMgOEU4juN48oBy5cqd+5NFRGjLli2XHMqbEhISFBsbq/j4eMWw/wQA4CJt22bOgkVESLt3S8WKXfgxs2dLd95p9irfvp0z5ECoOHJEqlZN+vdfqXt3acQI24kABJqs1qEenyHfunXrJQUDACAYudrVb7wxa8W4JE2fbi5pVwdCS48ephgvX156803baQAEM94eAACQBa7iOqut5ydP0q4OhKJvvzUt6hER5jJvXtuJAASzLJ0h79Gjh/r166e8efOqR48e573vO++845VgAAAEim3bpN9+M2e5W7fO2mO++046dkwqXVqqV8+n8QD4yeHD0mOPmfEzz0g33GA1DoAQkKWCfPXq1UpJSckYn0tERIR3UgEAEEBcZ8cbNZKyuuunawG4u+82Z9IABL9nnjFrSFSqJPXvbzsNgFCQpYL81G3O2PIMABBuXMW1J+3qX37p2WMABLavvpI+/NDdqp4nj+1EAEIBc8gBADiPLVukFSs8a1efM0c6fty0q9et69t8AHzv0CHp8cfN+LnnpOuus5sHQOjI0hny1ll9ByLpiy++uOgwAAAEGle7+s03S4ULZ+0xp55Rp10dCH7du0t790qVK0tvvGE7DYBQkqUz5LGxsRn/YmJi9OOPP2rFihUZt69cuVI//vijYmNjfRYUAAAbPG1XP3HCtLZ68hgAgWvmTGnqVNMlM2WKFBVlOxGAUJKlM+STJ0/OGL/44otq27atxowZo2zZskmS0tLS1KVLl/NueA4AQLDZtElatUrKlk26666sPWbOHFOUly0r1a7t03gAfOy//6QnnjDjnj3ZMQGA93k8h3zSpEl6/vnnM4pxScqWLZt69OihSZMmeTUcAAA2ndquXqhQ1h5DuzoQOp56Stq/X6pSRerTx3YaAKEoS2fIT5Wamqr169friiuuyHT9+vXrlZ6e7rVgABAuUlOl1aul5GTbSXC6jz82l1ltPT9+XPr6a88eg/DmONIff0hHj9pOgtOtXi19+qnpkJkyRcqd23YihKJ580w3FjxTpox06622U3iHxwV5x44d1alTJ23evFl1/3/p2GXLlmnQoEHq2LGj1wMCQKjr2VMaPtx2CpyLJ+3q335r2tUvv1y65hrf5kJo+OADibdPge2ll6Q6dWynQCgaOFB65RXbKYLTZZdJu3bZTuEdHhfkb7/9tooVK6ahQ4dqz549kqTixYurZ8+eeu6557weEABC3TffmMuSJTkDE4gefFAqWDBr93W1q99zD+3qyBrXbL/ixaW8ee1mwZlq1JBee812CoSi7dulXr3MODLSHPxF1sXF2U7gPRGO4zgX++CEhARJCujF3BISEhQbG6v4+PiAzgkgPP33n3srrUOHpAIF7ObBxTt2TCpSRDp5Ulq5kjPkuLB//5VKlTJt6zt3moNyAMJDpUrSxo1SjhzS7t1ZX6cEwSOrdajHZ8hPRYELAJfml1/MZeXKFOPB7ptvTDFevrx09dW20yAYzJhhivEGDSjGgXDSp48pxiVpxAiK8XDn8SrrAADvcRXk111nNwcuHaurw1Oe7nEPIPht3Sr162fGtWpJTz5pNw/soyAHAItcBXn9+nZz4NIcO2YWdJMorpA1u3ZJP/9sxm3a2M0CwH+aNJHS06WcOaXvv7edBoGAghwALElNlX77zYwpyIPb119LiYlSxYpSzZq20yAYfP65ubz+erNaMIDQ9+qr0pYtZvzuu6G1MBkuHgU5AFjy++9mi6zYWOnKK22nwaWgXR2emj7dXNJRAYSHjRulQYPMuG5d6dFH7eZB4MjSom4jR47M8ifs3r37RYcBgHDiale/9lqz5QmC09GjtKvDMzt3SkuXmoM3tKsD4aFpU3er+nff2U6DQJKlgnzYsGGZPj5w4IBOnDih/PnzS5KOHDmiPHnyqEiRIhTkAJBFzB8PDV99JSUlSVdcIVWvbjsNgoGrXf2GG6QSJexmAeB7L75o9h2XpDFjpP8voQBJWWxZ37p1a8a/AQMG6KqrrtLff/+tQ4cO6dChQ/r77791zTXXqJ9ryUAAwAUtXWouKciDm6td/Z57aFdH1rC6OhA+NmyQhgwx4/r1pY4d7eZB4IlwHMfx5AHly5fX559/rqtP22R15cqVuvvuu7V161avBrxUWd2QHQD8ad8+qVgxU8AdPmzmkSP4JCRIhQtLyclmTQDOkONCtm+XypY1v/u7d5vXAQChq3RpM00lVy5p/36JciR8ZLUO9XjW4p49e5SamnrG9Wlpadq3b5+nnw4AwpKrXb1qVYrxYPbll6YYr1xZqlbNdhoEA1e7+o03UowDoa5HD1OMS9KECRTjODuPC/LGjRurc+fOWrVqVcZ1K1eu1JNPPqkmTZp4NRwAhCrmj4cGVleHp06d4gAgdP31lzR8uBnfcIP04INW4yCAeVyQT5o0ScWKFVPt2rWVK1cu5cqVS3Xr1lXRokU1YcIEX2QEgJDD/PHgFx/vXimXucDIim3bpN9+M7sqtG5tOw0AX0lPl5o3lxxHyp3bvRMHcDZZWmX9VIULF9a3336rf/75R+vXr5ckVa5cWZUqVfJ6OAAIRcnJ0ooVZkxBHrxc7epVqpipB8CFuPYep10dCG3PPiv9+68ZT5ok5ctnNw8Cm8cFuUulSpUowgHgIqxdKyUmSnFxEi+jwYuVsuEpV0HOzwwQun7/XRo1yowbNZLuv99qHAQBjwvytLQ0TZkyRT/++KP279+v9PT0TLfPnz/fa+EAIBS55o9fe61pXUXwOXLE3a7OXGBkxdat0vLltKsDoezUVvWoKOmbb2wnQjDwuCB/+umnNWXKFN12222qVq2aIljFBgA8wvzx4Dd7tpSSYlZWr1LFdhoEA9fZ8ZtukooUsZsFgG889ZS0d68Zf/ihlCeP3TwIDh4X5J988ok+++wz3Xrrrb7IAwAhjxXWgx8rZcNTTHEAQtuaNdKYMWbcuLF0991W4yCIeNwsmTNnTlWoUMEXWQAg5O3eLe3YYdpW69a1nQYX4/Bh6fvvzZiCHFmxebO0cqWULZt011220wDwtvR06ZZbTKt6njxm0U8gqzwuyJ977jmNGDFCjuP4Ig8AhDTX2fHq1aXoaLtZcHFmzZJSU81zeOWVttMgGLja1W++WSpc2G4WAN73xBPSvn1m/NFHtKrDMx63rC9ZskQLFizQnDlzVLVqVeXIkSPT7V988YXXwgFAqGH+ePBjpWx4iikOQOhasUIaP96MmzenCwae87ggz58/v+7iJw0ALgrzx4PboUPSvHlmTHGFrNi4UVq9mnZ1IBSlp0uuZbXy5jUdVICnPC7IJ0+e7IscABDykpLMPFJJuu46u1lwcVzt6jVrSldcYTsNgoGro6JxY6lQIbtZAHjXo49KBw6Y8bRpUu7cdvMgOHlckLscOHBAGzZskCRdccUVKsykKAA4r9WrpeRk86a8fHnbaXAxWCkbnmKKAxCali2TXOcpb71VuuMOu3kQvDxe1O348eN65JFHVLx4cTVs2FANGzZUiRIl1KlTJ504ccIXGQEgJJw6fzwiwm4WeO7gQemHH8yYdnVkxT//mK2QsmeX7rzTdhoA3pKeLt12mxnnyyfNnGk3D4KbxwV5jx49tGjRIn311Vc6cuSIjhw5otmzZ2vRokV67rnnfJERAEIC88eD28yZUlqadPXVUsWKttMgGLjOjjdpIhUsaDcLAO/p0MEcpJVM51TOnFbjIMh53LI+Y8YMff7552rUqFHGdbfeequioqLUtm1bvf/++97MBwAhw1WQM388OLFSNjzFFAcg9Pz8s/S//5nxHXdILVrYzYPg5/EZ8hMnTqho0aJnXF+kSBFa1gHgHHbulP7916y0XLu27TTw1H//SfPnmzEFObJi/Xrp99+lHDloVwdCRXq6dPvtZhwd7e6CAS6FxwV5/fr19frrrysxMTHjupMnT6pv376qTx8mAJyVa/54zZpmaxQEF1e7+jXXSBUq2E6DYHBqu3qBAnazAPCOBx+UDh824xkzaFWHd3jcsj5ixAg1b95cJUuWVM2aNSVJa9euVe7cufXdd995PSAAhALa1YMbrcfwFD8zQGhZvFj6+GMzvusuqWlTu3kQOiIcx3E8fdCJEyc0depUrV+/XpJ05ZVXql27doqKivJ6wEuVkJCg2NhYxcfHKyYmxnYcAGGqXj3pt9+kqVOlBx6wnQaeOHBAKlbMtCpu3ixdfrntRAh069ZJVauadvV9+zhDDgS71FSpcGHpyBEpJsYs6Jb9ojePRrjIah16UT9KefLk0WOPPXbR4QAgnJw8afYgl1hhPRh98YUpxmvXphhH1rja1Zs1oxgHQsH995tiXDJTmCjG4U0e/zgdPHhQBf9/746dO3dq/PjxOnnypG6//XY1bNjQ6wEBINitXCmlpEhFi0ply9pOA0/RegxPuQpyfmaA4Dd/vvT552Z8zz3SzTfbzYPQk+VF3f744w+VLVtWRYoUUeXKlbVmzRrVqVNHw4YN07hx43TzzTdr1qxZXg/477//6sEHH1TBggUVFRWl6tWra8WKFV7/OgDgK6fOH4+IsJsFntm3T1q40IxZXR1Z8ddf5l/OnGZLJADBKzXVzBeXpPz5pWnTrMZBiMpyQf7CCy+oevXqWrx4sRo1aqSWLVvqtttuU3x8vA4fPqzOnTtr0KBBXg13+PBhNWjQQDly5NCcOXO0bt06DR06VAXo/wIQRFwFOe3qwcfVrl63Lt0NyBrX2fHmzc0beADBq21bKSHBjGfPplUdvpHlH6vly5dr/vz5qlGjhmrWrKlx48apS5cuiow0NX23bt107bXXejXcW2+9pVKlSmny5MkZ15UrV86rXwMAfMlx3Fuena8gP3RISk72TyZknetsyB13SMeO+e7rJCaaMzEIbo7j/plp1kzauzdrj0tIMD8DCE8pKeYfAsvq1Wa+uCS1bClddplZ2BOBIXdu85yEgiyvsh4ZGam9e/eqSJEikqTo6GitXbtWl///Cjf79u1TiRIllJaW5rVwVapUUfPmzbVr1y4tWrRIl112mbp06XLeBeWSkpKUlJSU8XFCQoJKlSrFKusArNi61SwElj27edN9ts0obrhBWrLE/9kAAACCUe7cZtHcQJbVVdaz3LIuSRGnTX48/WNv27Jli95//31VrFhR3333nZ588kl1795dH3zwwTkfM3DgQMXGxmb8K1WqlE8zAsD5uNrVr7nm7MX4e+9RjAMAAIQrj86Qt2jRQrly5ZIkffXVV7r55puVN29eSebM9Ny5c716hjxnzpyqXbu2lrr6PSV1795dy5cv1y+ud7mn4Qw5gEDSrZs0erT09NPS8OGZb9u/XypZ0rQqVqggLVtmJSIu4GwHUrwhNdWs1rtihdS0qfTxxyz6F8wcR7r2WmnTJmnMmAsvApieLlWpYva5j4qSli+X/v8tFsJEr17Sp5+avwNffOG71xpcvLx5zQKNCDw5c5q94QOZ1/chb9++faaPH3zwwTPu8/DDD3sQ8cKKFy+uKlWqZLruyiuv1IwZM875mFy5cmUcNAAA2843f7xZM1OMZ8sm/fCDFBfn32yw6623TDEeGytNmiT9/46iCFK//26K8Vy5zJ7FFzoH8PjjphiXpKlTpapVfZ8RgeP7700xLkn/+59Up47dPADsyXJBfurCav7SoEEDbdiwIdN1//zzj8qUKeP3LADgqePHpbVrzfj0gnzECPdtfftKvKyFl3XrpN69zXjECHOGDMHNtV99ixYXLsZXrJAmTDDjZs3c2yohPMTHS48+asbdukmNGlmNA8Ayj+aQ+9uzzz6rX3/9VW+++aY2bdqkadOmady4ceratavtaABwQStWSGlpZhXQU5ez2LtXev55M65cWXr1VTv5YEdqqtS+vVlV/7bbJC83l8ECx3Fvd9a27fnvm54u3XqreUzevGYrJYSX556Tdu6UypeXBg60nQaAbQFdkNepU0czZ87Uxx9/rGrVqqlfv34aPny42rVrZzsaAFzQqfuPnzo3uFkzU5RlyybNm2cnG+wZPNgcrMmfXxo3jnnjoeD336V//jGr/rZsef77Pvqou1V92jTzGISPOXOkiRPN7/3kyeagDIDwFvDb27ds2VItL/TXDQAC0Nnmjw8dKv3xhxm/+SatyuHmjz+kPn3MeNQoqUQJq3HgJa529VtvlaKjz32/ZctMESaZ1vY77vB9NgSOI0fcrepPP222vASAgD5DDgDBynEynyGXpN27pZdeMuMqVaQXXrCTDXakpJhW9ZQUqVUriWav0OA47oL8fCurp6ebKQqSlC+fNGuWz6MhwDz7rPk7ULGiNGCA7TQAAgUFOQD4wObN0n//mW05rrnGXNe0qWlVz56dVvVwNGiQtHq1WU1/zBha1UPFmjVmdfULtat37CgdPGjGn33GVkrh5uuvpSlT3K3qefLYTgQgUFCQA4APuM6O16pltkEaNMisrC2Z7a5oVQ4va9ZIb7xhxqNHS8WKWY0DL3KdHb/tNnPm+2x+/ln68EMzbtnStKsjfBw6ZLa5k6QePaQGDezmARBYKMgBwAdOnT++a5fUq5f5uHp184YM4SM5WerQwXRHtG4t3Xef7UTwllPb1c+1unp6unuueHS0NGOGf7IhcDz9tLRnj3TFFVK/frbTAAg0FOQA4AOnzh9v2tRsf5Y9u/T993Zzwf8GDDB7zhcqJL3/Pq3qoWTVKmnLFikqyj0//HQPPWTOkEpmazRa1cPL7NnSRx9JkZGmZT0qynYiAIGGghwAvOzoUfdK6itWSOvXm/E779CqHG5WrXIv3vTee1KRInbzwLtcZ8dbtjz79lWLF5utzSTprruk5s39lw32HTwode5sxj17StdeazcPgMBEQQ4AXrZ8uWlTLVFCGjLEXHfVVVK3blZjwc+SkkyrelqaWX37fCtwI/g4jjnjLZ29XT011aymL0kxMe7iHeGjWzdp3z6zq4Zru0MAOB0FOQB4mWv+eEKCKcxz5GBV9XDUr5/plChcWHr3Xdtp4G0rV0pbt5rVsm+99czbH3jA7DstSTNnmikrCB9ffCF9/LGULZtpVc+d23YiAIGKghwAvMw1f/zYMXM5fLiZP4zwsXy5WVlfMvPGCxe2mwfe5zrjffvtZ25htXCh++z53XdLN9/s12iw7MAB6YknzPjFF6U6dezmARDYKMgBwIscR1qyxP1xrVpSly728sD/EhPdrer33y+1aWM7Ebzt1NXVT5+KkJoq3XmnGefPb86SIrw89ZQpyqtVk3r3tp0GQKCjIAcAL/rnH9OqLplWdVZVDz99+5o954sWlUaNsp0GvrB8ubR9u1nI7fQ9xe+9V4qPN+PZs2lVDzeffWb+uVrVc+WynQhAoKMgBwAvev559/i996S4OHtZ4H/LlkmDB5vx2LFSwYJ288A3ztWuPm+emTssme6Ihg39nw327N8vde1qxq+8YjqkAOBCIhzHcWyH8KWEhATFxsYqPj5eMTExtuMACGGbN0sVKphxsWLSnj1288C/Tp6UrrnGbHP34IPS//5nOxF8wXGkMmWknTtN8X3XXeb65GSzVsTRo1KBAtJ//5m9pxEeHMdMX5gxQ6pRw3RRsOc8EN6yWofypwIAvKRJE/fYtd0Zwkfv3qYYL15cGjHCdhr4yrJlphjPl0+65Rb39W3bmmJckr76imI83Hz6qSnGs2eXPviAYhxA1vHnAgC84MUXpW3b3B83bWotCixYulQaOtSMx41jqkIoc7Wr33GHFBVlxnPmmPnikvTQQ1KDBnaywY69e92t6r16SVddZTUOgCBDQQ4Al2jDhsxnxMuVMwt6ITycOGFWVXccqX17qWVL24ngK+np0uefm3HbtuYyOdk9LljQLOSF8OE4ZouzQ4dMIf7KK7YTAQg2FOQAcImaNTNvyrJlMx9fd53dPPCvXr2kjRulEiXMnvMIXa529ehoqXlzc13r1tKxY2b8zTe0qoebadNMd0SOHKZVPUcO24kABBv+bADAJXjuOWnHDjO+8kpzWb++vTzwr59+chfhEyaYfacRuk5tV8+dW/r6a1OES6ZLol49a9Fgwe7dUrduZvz662YxNwDwFAU5AFykv/6Shg0z4wYNzJkziYI8XBw/LnXsaLojHnnkzP2oEVrS06Xp0824bVspMVG67z7zceHC0sSJ9rLB/xxH6txZOnzYbG/24ou2EwEIVhTkAHCRmjc3b8py5zaFeXy82ZOYsyTh4ZVXzFZ3JUtK77xjOw187ZdfpH//lWJizDSVO+80B2Uk6dtvaVUPNx9+aDokcuY06wZkz247EYBgxZ8PALgIzz5r3pxL0qRJ0tq1Zly3Lm/MwsGiRdLIkWY8caIUG2s3D3zP1a7eqpX03XfmnyQ99phUu7a9XPC/f/+Vnn7ajPv2lapVs5sHQHCjIAcAD/35p3uf6RtvlO6/35w9k2hXDwfHjplWdUl6/HFzthSh7dR29VatpAceMOMiRaQxY+zlgv85jjkIEx9vDsA+/7ztRACCHQU5AHggPd29qnpUlGlZlMw+1BIFeTh48UVp61apdOnM290hdP38s7Rnj+mEeO89s9VdRITZf5xW9fAyebJ53nPlolUdgHfwZwQAPNCtm3ljLpk3Y/nymf1n16831117rbVo8IP5801BJplW9ZgYu3ngH6529auuMj8Dktl7+pprrEWCBTt3mulKktSvn3tnDQC4FBTkAJBFa9ZI779vxo0bm5WWJbM3sSRVrGhWW0ZoOnrUrKYuSU8+KTVpYjcP/CMtTZoxw4xdU1OKF5dGj7aXCf7nONKjj0oJCebAa48ethMBCBUU5ACQBenp0i23uFvVv/zSfRvzx8NDz57S9u1S2bLS4MG208BfXO3q2bNLycmmVX3uXFrVw82ECdL335tdNaZMkbJls50IQKjgzwkAZEGXLtK+fWY8darZ3syF+eOh7/vvpbFjzXjyZDNVAeHB1a6emmoun3qKrQ3Dzfbt7jPiAwZIV1xhNw+A0EJBDgAXsGKFNG6cGTdrJt11l/u2tDR3yzoFeWiKjzetqpIpxho1shoHfpSW5l5dXZIuu0waPtxaHFiQnm6mqhw7JjVo4N7uDAC8hYIcAM4jPV269VbTqp43rzR7dubb//rLvFHLl4+9aEPV88+bxZwuv1waNMh2GvjTTz9J+/e7P/7uO1rVw83YsWYhv6go0x1DqzoAb+PPCgCcx+OPSwcOmPG0aWb+4Klc88fr1eONWiiaO9fMHY2IMPNG8+a1nQj+1L+/e/zss1LVqvaywP+2bjVrR0jmYFzFinbzAAhNEY7jOLZD+FJCQoJiY2MVHx+vGPanQYCqU8e0RSNwRUWZlZVPt3+/OUOeP78UF3dxn/voUenIEXMWHoElLc08L7GxUsGCvvkarp8hBK7ISLOYny8cPeo+6IfAlS2bOTDnbenp5h8Az0RGmr/RgSyrdWh2P2YCcBbLllGMB4OTJ6UtW859+5Ej5h9CU3y8+YfwlJ5+/t9/hL5Af+MPhJtQOpBFQQ5YlJgo3Xef++NnnjmzJRp2RURIDRuaM+CnO3JEatHCjOfONWdRPZGWZlZv//13qVYt6YknLjUtfKFcOd+0qqelSTffbLbSkqQHH/TNGThcmptukq680jef+8EHpc2bzZmeHj3M1moILAULnv313xuGDZPWrTPju+82nVgIH5s3m11aIiOlG2+UcuWynSi4VK5sO4H38NIPWNS7t7RtmxnnymX+OCN4fP21uaxcWWre3PPHDxtmivF8+aQZM6QyZbybD4GtRQt3MT5okPTii3bzwL+GDzdvyCWzldZLL1mNAz+bMcNdjD/2mHsnD4SHXbvcC8G++Sav/+GORd0AS5Yuld5+2/1xuXL2suDiXMr+4xs2SK+8YsZDh1KMh5v5801XhWTmJvNmLLzs3eteLKxyZYrxcHPihPTQQ2ZctKg0ZozdPPAvxzEHYeLjzYKwzz1nOxFsoyAHLDhxQurQwbwo58hhrmvQwGokXATXCuueFuRpaVLHjmbKQtOm5g8zwkdamtlKTzIt6mvWWI0DC5o0kVJTzUJhP/5oOw387fbbzbokERHmwBxb6YWXSZPM854rl9m9g6kq4CUAsKBXL2njRrNqd0qKua5NG7uZ4JnUVOm338z4uus8e+ywYaaYj4mRJk5k3nC4ad5cSkoy4yFDPF97AMFtyBDpr7/MeOBAqUQJu3ngX599ZjpkJOnJJ6WrrrIaB362Y4fZQlEyU1VCaR40Lh7bngF+tmSJWSTMcaSnn5ZGjDAFWWoqR8mDyerV0jXXmGLq0KGsP3d//y1dfbUpyCZOlB55xLc5EVjmzZOaNTPj8uWlTZvs5oF/7dplpiikpZn5o3/8YTsR/OnYMalIEXN2vHhx8/PA3/3w4TjmgOy8eeZA/uLFpksGoSurdSgvA4AfHT9uWpUdxxRiO3aY6wsX5o9ysHHNH69XL+vPXWqqmaqQlGQW9OrY0WfxEIDS0qSWLc04MpJW9XDUtKn5Ocie3bwpR3hp2dLdqv799/zdDzfjx5vf+9y5pcmTKcbhxqwFwI9eecWcEStZUnrnHal6dXN9jRp2c8FzFzN//O23TZt7bKz5w0yrenhp3Ni9qvrQoWZ1fYSPgQOl9evNeMgQqVgxu3ngX1OnSosWmXG3bu4VthEetm1zL942cKBUqZLVOAgwtKwDfrJokdSokRnPnWvalrJnN2dL3n6bVTaDTfny0pYt0nffuVuQz+fPP81e48nJZhGX9u19HhEB5NtvpdtuM+OKFaV//rGbB/61Y4d0+eXm9b5GDWntWtuJ4E/HjplOuMRE6bLLzM8DZ8fDR3q66Y6ZP1+64QZp4UKe/3BByzoQQI4dc7cnP/aYKcZXrDBvziSpXTt72eC5fftMMR4RYVrWLyQlxbSqJyeblsWHH/Z5RASQtDTprrvMODJSWrXKbh74H63q4a1FC1OMR0SY559iLLyMGWOK8Tx5zArrPP84HT8SgB+89JK0datUurR77/GPPzaXUVG0LgYbV7t6lSpZWyF78GBp5UqpQAFp7Fha1cNNo0buVvXRo2lVDzdvvOHuiBg2zCzqhfDx4YdmMVfJrK595ZV288C/tmyRXnjBjAcNkipUsJsHgYmCHPCx+fOld98144kTzVZXkmlZkkwbI4KLJ/PHf/9d6tvXjEeOZIujcPPll+4345Urm22OED62bnX//l99tfTUU3bzwL8SEqTHHzfjUqXM2hEIH+npZgHf48elG2+Uuna1nQiBioIc8KGjR93bWj3xhNSkifs21xmT66/3fy5cGldBfqH9x12t6ikpUqtWTE0IN2lp0t13mzGt6uGpaVPzpjxHDrOqNsJL8+ZmVw1XqzrCy7vvmvWD8ualVR3nx48G4EM9e0rbt5t9ZwcPdl+fkGDmlUtS27ZWouEipaRIy5eb8YXOkA8caPYrj4szc8hoVQ8v119vfl4k8/xHRdnNA//q3VvavNmMR42SChWymwf+NXmy9OuvZtyzp3TFFXbzwL82bZJefNGMhwyhGxLnxyrrgI/Mm+defXv+fOmmm9y3jRsnde5sCrTUVI6aBpPly6W6dc188P/+O/dzt2aNVKeOeX4//li67z6/xoRlM2a4z45XrWpW2Uf42LzZbGuUni7Vru0+iIfwcOSIVLSoWTuiTBmz5RXCR3q6aVFfskS6+WYW8gtnrLIOWJSQIHXqZMZPPZW5GJekr74yl0WL8iIdbE6dP36u5y452WxrlpoqtWkj3Xuv//LBvrQ09wGYbNkoxsKRq1U9Z06zNSLCS7Nm5u9AZCSt6uFo5EhTjOfLZ9YO4n0eLoQfEcAHnntO2rnTtCgNGnTm7atXm8uaNf2bC5cuKwu69e9vFnMrVEh67z1a1cPNtdeagzGSNGECrerh5pVXzGJukvn9j4uzmwf+NW6c+yDcSy9JFSvazQP/+ucf6eWXzXjoUDNlEbgQCnLAy+bONW/CJTOHLG/ezLenp0t79pjxbbf5Nxsu3YUK8lWrpDffNOP33mOLo3Dz6afSihVmXKOGWdQP4WPjRumtt8y4Xj13pxTCw6FD7pX0L79cGjDAbh74V1qaec1PTDRdMo89ZjsRggUFOeBFR45Ijz5qxk8/LTVseOZ9li0zRbkk3X+/36LBC3bvNov0RUaaeeSnS0oyreppaWaxvnvu8X9G2JOcLD34oBnTqh6eXK3quXKZg7MIL82amYUcIyOlH36wnQb+NmyYOWgfE2Na1emOQ1ZRkANe9Oyz0r//ShUquM+Snu7jj81lnjysuhtsXGfHq1eXoqPPvP2NN8ziXUWKuPeeR/ioV8/dqv7hh2b+MMKHa1cNSRo7Vsqf32oc+Nl770krV5px795SuXJ288C//v5b6tXLjN95x+w7D2QVBTngJd98I02ZYo6ITpliCu6zWbzYXJYv769k8JbztasvX+5eL2DMGA62hJuPPjIr60vS1VdLDzxgNQ787O+/zXxRSWrQwHTKIHzs3y8984wZV6wovf661Tjws9RU06qelCTdcov0yCO2EyHYUJADXnD4sHuu0LPPmjdk57Jpk7m88Ubf54J3LV1qLk8vyBMTzRvw9HQzDeGuu/yfDfYkJ7vnimfP7t57GOGjWTPJcUyr+rff2k4Df3O1qmfLxqrq4WjoUOm336TYWGn8eFrV4TkKcsALnn7aLNRWqZJZYftcDh2Sjh83Y7bCCi5JSe52xNML8j59zBmyokWlUaP8Hg2W1a5t1g2QpGnTaFUPN88+K+3aZcYTJ5r5owgfI0ZIa9eacd++Zt9xhI+//jJTFCTzs1CypN08CE4U5MAlmj1b+t//zCIuH3xw/i2Opk0zl5GR0nXX+ScfvGP1anMmtFAhs0aAy6+/SkOGmPHYsVLBgnbywY6JE6U//jDj2rVZyC/c/PmneRMumUU827Wzmwf+tXev9PzzZnzFFdKrr9rNA/9KSTHdccnJZtechx+2nQjBioIcuAQHD0qdO5vx88+b/YfPx9XKWLSoKcoRPE6dP+5qRzt50rQqp6dLDz0ktWplLR4sOHlSevxxM6ZVPfykp7tb1XPnNuuIILw0a2bmD2fLxqrq4WjwYNM5lz+/2X+eVnVcLEoC4BJ07y7t2yddeaVpVbsQ16JP11zj01jwgbPNH3/tNWnDBql4cfdZMoSPOnXcWxh+8ol5U47w4ZqqJJnuqHz57OaBfw0d6u6OefNNWpXDzR9/uN/3jRollShhNw+CGwU5cJG++MK0oEdGmlXVc+c+//3T003xLpnWJgSX01dYX7rUbG0imUVcChSwkwt2jB1r5g5K5meiTRu7eeBfv//u3trwppuktm3t5oF/7d4tvfSSGVepIr3wgt088C9Xq3pKiumMY6oKLhUFOXARDhyQnnjCjF98Uapb98KPWbzYfTbt/vt9lw3et3On2V8+WzZzVvTECdOq7jjmkgMs4eXkSalLFzPOkUP66Se7eeBf6elS8+bm9z8qSvr6a9uJ4G9Nm5pW9ezZWVU9HA0caNaViYsz25zSqo5Lld12ACAYPfWUKcqrVs36fqOffWYu8+Y1840QPFxnx2vWNM/fs89KGzdKl10mDRtmNxv87+qr3QfXvviCVvVw07WrWcxLMgt65sljNw/8a9Agad06M37rLVqVw82aNVK/fmY8erRUrJjVOAgRnCEHPDR9uimus2Uz8wZz5cra45YsMZeVKvkuG3zj1Pnjixe754tPmMDBlXAzerRZN0CSrr9eatnSbh7416pVZrqCZM6SMlUhvOzaJfXqZcbVq0s9etjNA/9KTjat6qmpUuvW0n332U6EUEFBDnhg/353q+orr0i1amX9sZs2mcsbb/R+LviW6wz51VdLHTuaVtVHH5VuucVuLvjXsWNmIS/J7DW+cKHVOPCz9HSpRQvz+58nj/Tll7YTwd+aNJHS0kyr+vff204DfxswwKwfUaiQ9P77tKrDeyjIgSxyHFOM//efVKOG+yh5Vuzfb+adShxRDTaJiWaumGTmCm/ZIpUqZVbYRXg5tVV95kxa1cNN587mtVySPv74wgt5IrQMGODujnnnHVqVw82qVeZnQJLee08qUsRuHoQWCnIgiz79VJoxwxwZnzLFnCHLqmnTzGVkpFSvnk/iwUdWrjQrqRYoYKYoSNLEiVJMjN1c8K933snc5XLrrXbzwL+WLzdTVCTTGXPHHXbzwL+2b5d69zbjmjWlbt3s5oF/JSWZVvW0NOmee8w/wJuCqiAfNGiQIiIi9Mwzz9iOgjCzd69ZyEcyZ8avvtqzx8+ZYy5Z/CX4uOaPJyWZy86dzdxRhI/4eOn55804Z07pxx/t5oF/pae7D8DkzWu6IxBemjY1Pwc5ctCqHo7eeEP680+pcGH3doeANwVNQb58+XKNHTtWNWrUsB0FYcZxzBZnhw5JV11l5o57au1ac+nJnHMEBtf88RMnpDJlpCFD7OaB/119tXkdkMwWV7Sqh5dHHjFTlSSzoCet6uGlTx+zq4YkDR9Oq3K4Wb7crKwvmXnjhQvbzYPQFBTbnh07dkzt2rXT+PHj1b9/f9txvM5xzJt9BKZPP5VmzzZHxseMMatsJidn/fHp6e55h02bSseP+yYnvM9xpAUL3B+/+66ZdsBzGD6GD5e2bjXjm26SrruO5z+cLFvmnqpyyy1mugLPf/jYutW9xdVVV5m2ZZ7/8JGYKD38sHkfd8895jWA5z+w5MkTGovrRTiO67h/4Grfvr3i4uI0bNgwNWrUSFdddZWGDx9+1vsmJSUpydVbKikhIUGlSpVSfHy8YgJ00ufx41K+fLZTAAAAAEBwOHbMTCUKVAkJCYqNjb1gHRrwZ8g/+eQTrVq1SsuXL8/S/QcOHKi+ffv6OBUAAAAAAJcmoAvynTt36umnn9a8efOUO4uTtl5++WX16NEj42PXGfJAliePdPPNUkKC7SQ4m4gIsxjbxc4bnDPHPLcFCkjNmp15+48/uucnRkaGRutNqMmRwzw3vpCUZFZujYgwXweBJTXVtCvmzi1VqeL9n4OdO6V9+8xzz6KPgal4cbN+hC+sX2/WGMme3Wyn6avXGVycI0fM7gr58pnpC97+OfjsM7NGQY4cUv/+UlSUdz8/Ll3ZsuY9ui8sXCi1bGnGr78uFSzom68TqsqWNTVUKAjolvVZs2bprrvuUrZTVtBJS0tTRESEIiMjlZSUlOm2s8lqqwDgK1FRZh7S88+ffUGwyEj3glGB+9sIX5gxQ7r7brNI2C+/SHXq2E6E0x06JFWrJu3Zc+7f4Yv188/SDTeY3/tvvmErtXCzfr2Zl5yUZLZU69TJdiKcLj1datRI+uknU5TNm+e9gyZ79khVq0qHD5t56r16eefzIjgcPSpVr2621OvShdXbQ1VW69CAPhbbuHFj/fHHH1qzZk3Gv9q1a6tdu3Zas2bNBYtxwLbdu00xLkn333/m7cnJ7iK8WDH/5YJ9Bw5ITz5pxi++SDEeqOLipHHjzHjoUPc2eJfqxAmpQwfz+9+xI8V4uElNNQuEJSWZhaIeecR2IpxNZKQ0aZI5sD5/vlnY1Rscx2yhefiwdM015m8AwkvPnqYYL1dOeust22lgW0AX5NHR0apWrVqmf3nz5lXBggVVrVo12/GAC5o61Vxmy2b+6J7uppvc46++8k8mBIauXU1RXq2a1Lu37TQ4n5YtTfHkOKaI9sauGK+8YlphS5aU3nnn0j8fgsvQodJvv0mxsdL48UxVCmQVKrgLpp49pS1bLv1z/u9/5m9+jhxmFX+mK4WX77+Xxo4140mTWNgZAV6QA8Fu7lxzedllZ7/dtce1JNWu7fs8CAyffSZNn24O1HzwgZQrl+1EuJDhw80c740bpVdfvbTPtXixNGKEGU+YIOXPf6npEEz++st9EG74cHNQBoGta1ez5d2JE6ajJT394j/Xv/9K3bubcd++5qAswkd8vPToo2bcrZuZEgEEXUG+cOHCc255BgSaP/4wl2crto8dc7ers5hT+Ni3z8wXk0xhd7bOCQSe/PlN8SyZYvqnny7u8xw/bt7QS9Jjj0nNm3slHoJEaqrpskhOlm67zXReIPC5Wtfz5jUH1C52vq/jSI8/boqyOnXMGXeEl+efN4t5li8vDRxoOw0CRdAV5ECwSE11r57eqtWZtzdt6h7PmeOfTLDLccy88YMHpZo1L/1MK/yrRQuz8JZr3vfx455/jpdeMi2vpUtLb7/t/YwIbIMHSytWmAM848bRqh5MLr/cPH+SmfO9aZPnn2PKFOnbb6WcOc04e0DvdQRvmzvXHNiNiJAmTw7s/bPhXxTkgI98/737DPjdd595+7Jl7nGNGv7JBLs++USaOdO8CZsyxbwpQ3AZOtS0GG/eLL38smePXbBAGj3ajCdOlNj4I7z88YfUp48ZjxxJZ1QweuIJs9r6yZOm0yEtLeuP3blTeuYZM+7Xz2yjiPBx5Ii7Vf3pp80OG4ALBTngI9Onm8uYmDP3STy1Xf1c88sRWvbulZ56yoxfe81sd4TgExtrimlJGjXK7CObFUePulfSfuIJqUkTn8RDgEpJMe3pKSnSHXdIDz5oOxEuRmSk+f3Pl89sWzhyZNYe5zhmikpCgnTttdJzz/k2JwLPs8+a9QMqVpQGDLCdBoGGghzwEdeCbZUrn3nbzTe7x99+6588sMdxTBF26JB09dWen1lFYGnWzMwDlUyRfezYhR/zwgvStm1S2bLutleEj0GDpNWrzTZ6Y8fSqh7MypY1nTKS2S3hn38u/JiJE6XvvpNy5zbdUezaG16++cY87xER5vL0kzQABTngI9u2mcvGjc+8bcUK95h29dA3dao0ezZb3ISSt9+WypSRtm698B7CP/zg3r940iQpOtr3+RA41qyR3njDjEePlooVsxoHXvDYY2YdmMTEC7eub98u9ehhxv37S1dc4ZeICBCHD5ufF8n8HFx3nd08CEwU5IAPbN8uJSWZcbt2mW87tV29VCn/5oL/7d5ttjaRpNdfl6pXt5sH3hEd7W5df+896ccfz36/hASzEJxktk666Sb/5ENgSE42BVtqqnTXXdJ999lOBG+IiDCLc0VHm264YcPOfj/HMb//R4+aQsw1hxzh4+mnpT17zIGYfv1sp0GgoiAHfOCjj8xl9uxS1aqZb2vY0D127VOO0OTa4ubIEalWrQufSUVwadzYrJovud90n+7556UdO8wKzYMG+Tcf7BswQFq7VipYUHr/fVrVQ0np0u5CvFcv6e+/z7zP2LHmYF1UlFlVm1b18DJ7tvS//5m1B6ZMMT8HwNlQkAM+MG+euSxZ8szb1qxxj1llNbR9+KGZO5Yzp2lVZ4ub0DN4sJlTun37mXsKf/edNH68GU+ebBaCQvhYtUp6800zfu89qWhRu3ngfY88It1yi+mIc3VCuGzdag7ISWa/6UqVrESEJQcPSp07m3HPnmYxP+BcKMgBH/jzT3NZr17m609tVy9Txr+Z4F+7dplWNcnMHz29UwKhIV8+U2xL5mzY99+bcXy8e4ub7t0zd8Yg9J1aoN1zj9S2re1E8IWICHPQLTZW+u0392Jv6emma+b4cbO9lWvaEsJH9+7Svn3mxItru0PgXCjIAS9LTTVHRiWpVavMt11/vXv8ww/+ywT/cm1xEx9vDsqwxU1oa9TI/Yb70UfN896jhzkoU6GC+ywpwke/fmbf8cKFpXfftZ0GvlSypDR8uBn37i399ZeZnrBggVlNe9Ik07KM8PHFF9K0aWaKwpQpZnV94HwiHMd1vi40JSQkKDY2VvHx8YqJibEdB2Fg5kypdWszPnky8wtxZKT7DHlo/+aFt4kTTWGWK5eZonC2re8QWo4fl2rWlDZvNtuiff+9OXu2eHHmA3EIfStWmPbUtDTp88+lNm1sJ4KvOY50++1milK1atKWLdKJE9KoUdJTT9lOB386cMB0xB04YLbFY8/x8JbVOpRjdoCXzZxpLvPnz1yMHzrkLsLLlvV3KvjLjh2Zt7ihGA8PefOa1vWICHfb+rPPUoyHm6QkqX17U4zfdx/FeLiIiJDGjTOt63/+aYrxRo2kLl1sJ4O/PfWUKcarVTMdE0BWUJADXvbrr+by9AXbGjVyj12LviG0OI45M56QINWvbwoyhI8bbnAfgMme3b2gE8JHnz7SunVmAbfRo22ngT+VKGHOkru88AKt6uFm+nTps8/creq5ctlOhGDBSwXgZdu3m8vGjTNf/8cf7nGFCv7LA/8ZP94cbMmd2/wxZoub8PLVV+6tj1JTTbsiwseyZWbVfcks8FewoN088K+NG6UZM9wfv/qqlJJiLw/8a/9+d0fEK6+YrU6BrKIgB7xo82YpOdmM27VzX3/okHtcvrx/M8E/tm1zL9725ptscRNuDh0ye85L0v33mxbWKVPMnFKEvsREs6p6erp57T99QU+EtrQ0qWNHs27MDTdIBQpIq1eb7c4Q+hzHFOP//SfVqGH2pQc8QUEOeNFHH5nLHDmkK65wX3/qlkfz5/s3E3zPtcXNsWNmznD37rYTwd+6d5f27jUt65MmudcReOwx6fBhu9nge717S+vXS8WKSSNH2k4Dfxs5Uvr5Z7MN4v/+515Zv18/s7AnQtunn5ruiOzZpQ8+kHLmtJ0IwYaCHPAi11ZmpUtnvv6vv9zj029D8Bs71hxoiYoyC3vRqh5eZs2Spk4180U/+MBMWejXzxyU27PHvR89QtPSpdLbb5vxuHFSXJzdPPCvDRvc01OGDpXKlDEL+t11l5m60qGDu3MOoWfvXqlrVzPu1Uu66iqrcRCkKMgBL3IV3vXqua/bu9c9rljRv3nge1u2SD17mvFbb7E+QLj57z+pc2czfuEFqW5dM46KMi3rkZHmjNns2dYiwodOnDAFl+OY1dVPXdQLoS8tzTz/iYlS06amI0YyU1bef9+sI7B2LVtfhSrHkZ54wkxZuuoq1g3BxaMgB7wkOdndmnrXXe7rb77ZPV682L+Z4Fvp6dIjj5g9qG+80X2UHOGjWzezmE/VqmaF7VNde637YE3nztLBg36PBx/r1css5lWihDR8uO008Ld33jE7q8TESBMnmkLcpWhR6b33zHjAAGnVKjsZ4TvTppmDrTlymO6oHDlsJ0KwoiAHvGTWLPf4jjvcY9eqy5KZX4jQ8d570qJFZg/qSZPY4ibcfP659Mkn59/ipk8fswXivn2sLRBqlixxF+ETJkj589tMA3/7+2/ptdfMeNgwqVSpM+/Ttq10zz3uM+lJSX6NCB/avdsckJWk1183i7kBF4u3j4CXuAryuDj3gh6ntquz6nZo2bRJevFFMx48WLr8crt54F/790tPPmnGL70k1a599vudugXetGnSF1/4LSJ86Phxs6q245gumRYtbCeCP7nmhiclmee+Y8dz3/fdd6XChc3Wp/36+S0ifMhxTNfT4cNmezPXewHgYlGQA16ybJm5rFrVfd2NN7rHixb5Nw98Jz3dvAE7ccJMSXjiCduJ4G9du5r549Wru8+SnUudOu43bE88IR044Pt88K1XXjEH5UqWNG3LCC9vvy399psUG2sW8ju1Vf10hQub+eSSNGiQtHy5fzLCdz78UPr6a3PyZcoUs7o6cCkoyAEv2bnTXDZp4r7un3/cY9rVQ8fIkaZdNV8+M2+QVvXw8tlnpl09e/Zzt6qfrndvqVo1U4w/9ZTPI8KHFi1yb202caIpyhA+/vzTtChL0ogR5qDMhbRpY1ZeP3UROASnf/9175zRt695XQcuFW8jAS/4+28pJcWMH3rIXO7Y4b79yiv9nwm+8c8/7pVU335bKlvWahz42b59UpcuZvzqq9I112TtcblyuVvXP/tMmj7dZxHhQ8eOmRZ1yayo3ayZ3Tzwr5QU9zZmLVtKDz+c9ceOHm0Welu3zhRyCD6OY37v4+PNjhrPP287EUIFBTngBdOmmcucOaVy5cy4cWP37fPn+z8TvC8tzbSqnzxpOiEef9x2IviT45h54wcPSjVrer7FTa1a7sd06WLmoSO4vPSS2eqwdGn33uMIH4MHSytXmgX8xo49f6v66QoWlMaMcX8e1zQ3BI/Jk6U5c9wHWGlVh7dQkANe8OOP5rJMGfd1mza5x7Srh4bhw6WlS6Xo6DO3uEHo+/hjaeZM8ybsgw/cizd6olcvsxrvf/+ZotxxvJ8TvjF/vlmgSzK//zExdvPAv37/3X1me9Qos9Wdp+68U2rXzqxD0qGDObiL4LBzp/Tss2bcrx+dj/AuCnLAC9atM5f165vLU9vVmV8UGtavNy3KktnipnRpu3ngX3v2uOd+9+5tzpBfjJw5TTGfPbs0Y4b06afeywjfOXrU3ar+5JOZ1wpB6HO1qqekSK1amaL6Yo0caQ7Sr19vXksQ+BxHevRRKSFBuvZaqUcP24kQaijIgUuUmGjmE0lm4RZJuukm9+2srh78Tt1D9pZb3G/MER5O3eLmmmtM2/KluOoq98rsXbtm3h4RgemFF6Tt282aEYMH204Dfxs4UFq92mxrOmbMpXVHxcWZldklaehQ03WFwDZhgvT995m3sQS8iYIcuEQzZpjLiAjp1lvNeMsW9+1xcf7PBO8aOtTM94uNlcaPp1U93Hz0kfTVV1KOHObNWI4cl/45X35Zuvpq6dAhsxUareuBa94899zfyZPN7goIH2vWuPcPHz3aO1PQbr/dLAjnOOZg74kTl/454Rvbt7vPiA8YIF1xhd08CE0U5MAlmjXLXMbFmTbUU+eOV69uJRK8aN0699nM4cOztsUNQse//0rdu5txnz7e+50+tbifPdu9MCQCS0KC1KmTGT/1lNSokdU48LPkZKl9eyk1VWrd2mxd5i3Dh5t56Bs3mrUlEHjS001H3LFjUoMG7u3OAG+LcJzQPi6fkJCg2NhYxcfHK4YVWOADZcuaI6iNGkkLFphV1rdtM7cdPJi1M+TXXSf9+itnyYIBZ8fDy6m/k5GR3n/+09P5vQ8m/P6HF1///juOeQ2Q+NkKVK6fAV88/7g0cXGBv1tJVutQFuwHLtG//5rL5s3NpasYj4jIWjE+cqT0yy8+iQYfoHgKX643zghf/P6HL1///vOzFdh4/Q88Bw7YTuA9tKwDl+D3300rmyQ9+GDmdvUaNbL2OWiBAgAAALIub17bCbyHM+TAJZg61VzmymXmFp+6D/mSJRd+/KndK6VLm9Z3AOFh0yZz4O7kSem998x2WgAAILxwhhy4BAsWmMty5cyla//xiIgLr8T79ttmb1sXinEgfKSnSx07mmK8cWOzrRoAAAg/FOTAJdiwwVw2aGBW43a55poLP7ZnT/f4hx+8mwtAYBs50nTR5MsnTZxoFgwCAADhh7cAwEU6dsxsiSNJbdq4F3WTpIULz//YU8+ely9vzpABCA///GP2IZfMHvenTnUBAADhhYIcuEjTp5vLiAhTjO/a5f74fO3qb7whHT/u/vjUheAAhLa0NKlDBykxUWraVHrsMduJAACATRTkwEX66itzWaiQ9Oef7utr1z7/415/3T3+6Sfv5wIQuIYNM9scxsSYVnX2tQUAILxRkAMXacUKc1mzpnTrre7r588/92NO3aKhUiXp+ut9kw1A4Pn7b6lXLzMeNkwqVcpuHgAAYB8FOXCRdu82l7fcIv37rxmfr129d2/pxAn3x64F4QCEvtRU06qelCS1aGFWWAcAAKAgBy7CihVmLqgkVavmvr5evXM/pl8/93jZMt/kAhCYhg6VfvtNio2Vxo2jVR0AABgU5MBF+Phjc5k7t/TII+7rFy06+/2jotzjKlWkunV9lw1AYPnrL9MhI0kjRkglS9rNAwAAAgcFOXARXIV3+fLu1vWICClnzjPv+8ILZkVll7/+8n0+AIEhJUVq315KTpZatpQefth2IgAAEEgoyIGL4Jr/XbGi+7rrrjvzfomJ0pAh7o9Xr/ZtLgCBZfBgaeVKqUABaexYWtUBAEBmFOSAhxISpGPHzHjhQvf1Z1tdPX9+9/iqq8w/AOHhjz+kvn3NeORIqUQJu3kAAEDgoSAHPPTJJ+YyIkI6csQ9Pr1dvXt3s6Ky63bOjgPhw9WqnpIitWoltWtnOxEAAAhEFOSAh775xlwWKOC+7vT9xBMTpVGj3B+vW+f7XAACx8CB5iBcXJw0Zgyt6gAA4OwoyAEPrVxpLl1t65L0ww+Z7xMb6x7Xri1Vruz7XAACw5o17m0O331XKlbMahwAABDAKMgBD6SnS3v2mHFysrmMjMzcrt6li/u2iAhp+XL/ZgRgT3KyaVVPTZVat5buvdd2IgAAEMgoyAEPLFtmivJTNWrkHicmSu+/7/54yxa/xAIQIAYMkH7/XSpUyLwW0KoOAADOh4Ic8IBrQbdTzZnjHkdHu8fXXSeVLevzSAACxKpVpiCXpPfek4oUsZsHAAAEPgpywAOLF2f++NR29U6dTJuqZM6K/fyzf7MBsCcpybSqp6VJbdtK99xjOxEAAAgGFOSABzZuzPxxkybmMjFRmjTJfT2t6kB4eeMN6c8/pcKFpdGjbacBAADBgoIcyKJDh6TjxzNf99VX5vLUVvUbb6RVHQgny5dLgwaZ8fvvm6IcAAAgKyjIgSw6ff64q139oYcyt6ovXOj3aAAsSUyUOnQwiz3ef7/Upo3tRAAAIJhQkANZ9M03mT9u1sy8Gf/oI/d1u3f7NxMAu/r0kdatk4oWlUaNsp0GAAAEm+y2AwDBYvXqzB/Pni1FRbk/btJEKlbMv5kA2PPrr9KQIWY8dqxUsKDdPAAAIPhwhhzIgvR0ad8+98eRkaY91bUneUSENG+enWwA/O/kSXer+oMPSq1a2U4EAACCEQU5kAVLlriLb0lq3Fj64gv3x4cO+T8TAHtee03asEEqXlwaMcJ2GgAAEKwoyIEsOH1Bt1PPhrdoIeXP79c4ACxaulR65x0zHjdOiouzmwcAAAQvCnIgC5YsOfv1kZHSt9/6NwsAe06cMK3qjmMuW7a0nQgAAAQzCnIgC9avP/v1Bw/6NwcAu159Vdq4UbrsMmnYMNtpAABAsKMgBy5g/34pJeXM6++4g1Z1IJwsXuyeLz5+PL//AADg0lGQAxcwbdqZ10VGmm3PAISH48eljh1Nq3qnTmbtCAAAgEtFQQ5cwJQpZ15HqzoQXl5+WdqyRSpVSho61HYaAAAQKgK6IB84cKDq1Kmj6OhoFSlSRHfeeac2bNhgOxbCzNq1mT++7z5aVYFwsnChNGqUGU+cKMXGWo0DAABCSEAX5IsWLVLXrl3166+/at68eUpJSVGzZs10/Phx29EQJk7de1ySsmWTPv7YThYA/nfsmGlVl6THH5eaNrWbBwAAhJYIx3Ec2yGy6sCBAypSpIgWLVqkhg0bZukxCQkJio2NVXx8vGJiYnyc8OJFRNhOgKz4+GMpZ07bKQD4y4wZZh2JMmWkP/6QoqNtJwIAAMEgq3Vodj9mumTx8fGSpLi4uHPeJykpSUlJSRkfJyQk+DwXwsf999tOAMCGiRMpxgEAgPcFTUGenp6uZ555Rg0aNFC1atXOeb+BAweqb9++fkyGcNGgge0EAGxo3Vpq3Nh2CgAAEIqCpmX9ySef1Jw5c7RkyRKVLFnynPc72xnyUqVKBXzLOgAAAAAgNIRUy/pTTz2lr7/+WosXLz5vMS5JuXLlUq5cufyUDAAAAACAixPQBbnjOOrWrZtmzpyphQsXqly5crYjAQAAAADgFQFdkHft2lXTpk3T7NmzFR0drb1790qSYmNjFRUVZTkdAAAAAAAXL6DnkEecYy+wyZMnq0OHDln6HMGy7RkAAAAAIDSExBzyAD5WAAAAAADAJYm0HQAAAAAAgHBEQQ4AAAAAgAUU5AAAAAAAWEBBDgAAAACABRTkAAAAAABYQEEOAAAAAIAFFOQAAAAAAFhAQQ4AAAAAgAUU5AAAAAAAWEBBDgAAAACABRTkAAAAAABYQEEOAAAAAIAFFOQAAAAAAFiQ3XYAX3McR5KUkJBgOQkAAAAAIBy46k9XPXouIV+QHz16VJJUqlQpy0kAAAAAAOHk6NGjio2NPeftEc6FSvYgl56ert27dys6OloRERG245xTQkKCSpUqpZ07dyomJsZ2HPgZz3944/kPbzz/4GcgvPH8hzee/9DlOI6OHj2qEiVKKDLy3DPFQ/4MeWRkpEqWLGk7RpbFxMTwyxjGeP7DG89/eOP5Bz8D4Y3nP7zx/Iem850Zd2FRNwAAAAAALKAgBwAAAADAAgryAJErVy69/vrrypUrl+0osIDnP7zx/Ic3nn/wMxDeeP7DG88/Qn5RNwAAAAAAAhFnyAEAAAAAsICCHAAAAAAACyjIAQAAAACwgIIcAAAAAAALKMgDxLvvvquyZcsqd+7cqlevnn777TfbkeAHffr0UURERKZ/lStXth0LPrJ48WLdfvvtKlGihCIiIjRr1qxMtzuOo969e6t48eKKiopSkyZNtHHjRjth4XUXev47dOhwxuvBLbfcYicsvG7gwIGqU6eOoqOjVaRIEd15553asGFDpvskJiaqa9euKliwoPLly6c2bdpo3759lhLDm7Ly/Ddq1OiM14AnnnjCUmJ40/vvv68aNWooJiZGMTExql+/vubMmZNxO7/74Y2CPAB8+umn6tGjh15//XWtWrVKNWvWVPPmzbV//37b0eAHVatW1Z49ezL+LVmyxHYk+Mjx48dVs2ZNvfvuu2e9ffDgwRo5cqTGjBmjZcuWKW/evGrevLkSExP9nBS+cKHnX5JuueWWTK8HH3/8sR8TwpcWLVqkrl276tdff9W8efOUkpKiZs2a6fjx4xn3efbZZ/XVV19p+vTpWrRokXbv3q3WrVtbTA1vycrzL0mPPfZYpteAwYMHW0oMbypZsqQGDRqklStXasWKFbr55pvVqlUr/fXXX5L43Q97DqyrW7eu07Vr14yP09LSnBIlSjgDBw60mAr+8Prrrzs1a9a0HQMWSHJmzpyZ8XF6erpTrFgxZ8iQIRnXHTlyxMmVK5fz8ccfW0gIXzr9+Xccx2nfvr3TqlUrK3ngf/v373ckOYsWLXIcx/y+58iRw5k+fXrGff7++29HkvPLL7/YigkfOf35dxzHufHGG52nn37aXij4VYECBZwJEybwuw+HM+SWJScna+XKlWrSpEnGdZGRkWrSpIl++eUXi8ngLxs3blSJEiV0+eWXq127dtqxY4ftSLBg69at2rt3b6bXgtjYWNWrV4/XgjCycOFCFSlSRFdccYWefPJJHTx40HYk+Eh8fLwkKS4uTpK0cuVKpaSkZHoNqFy5skqXLs1rQAg6/fl3mTp1qgoVKqRq1arp5Zdf1okTJ2zEgw+lpaXpk08+0fHjx1W/fn1+96HstgOEu//++09paWkqWrRopuuLFi2q9evXW0oFf6lXr56mTJmiK664Qnv27FHfvn11ww036M8//1R0dLTtePCjvXv3StJZXwtctyG03XLLLWrdurXKlSunzZs365VXXlGLFi30yy+/KFu2bLbjwYvS09P1zDPPqEGDBqpWrZok8xqQM2dO5c+fP9N9eQ0IPWd7/iXpgQceUJkyZVSiRAn9/vvvevHFF7VhwwZ98cUXFtPCW/744w/Vr19fiYmJypcvn2bOnKkqVapozZo1/O6HOQpywKIWLVpkjGvUqKF69eqpTJky+uyzz9SpUyeLyQD423333Zcxrl69umrUqKHy5ctr4cKFaty4scVk8LauXbvqzz//ZM2QMHWu5//xxx/PGFevXl3FixdX48aNtXnzZpUvX97fMeFlV1xxhdasWaP4+Hh9/vnnat++vRYtWmQ7FgIALeuWFSpUSNmyZTtjJcV9+/apWLFillLBlvz586tSpUratGmT7SjwM9fvO68FcLn88stVqFAhXg9CzFNPPaWvv/5aCxYsUMmSJTOuL1asmJKTk3XkyJFM9+c1ILSc6/k/m3r16kkSrwEhImfOnKpQoYJq1aqlgQMHqmbNmhoxYgS/+6Agty1nzpyqVauWfvzxx4zr0tPT9eOPP6p+/foWk8GGY8eOafPmzSpevLjtKPCzcuXKqVixYpleCxISErRs2TJeC8LUrl27dPDgQV4PQoTjOHrqqac0c+ZMzZ8/X+XKlct0e61atZQjR45MrwEbNmzQjh07eA0IARd6/s9mzZo1ksRrQIhKT09XUlISv/ugZT0Q9OjRQ+3bt1ft2rVVt25dDR8+XMePH1fHjh1tR4OPPf/887r99ttVpkwZ7d69W6+//rqyZcum+++/33Y0+MCxY8cynenYunWr1qxZo7i4OJUuXVrPPPOM+vfvr4oVK6pcuXJ67bXXVKJECd155532QsNrzvf8x8XFqW/fvmrTpo2KFSumzZs364UXXlCFChXUvHlzi6nhLV27dtW0adM0e/ZsRUdHZ8wNjY2NVVRUlGJjY9WpUyf16NFDcXFxiomJUbdu3VS/fn1de+21ltPjUl3o+d+8ebOmTZumW2+9VQULFtTvv/+uZ599Vg0bNlSNGjUsp8elevnll9WiRQuVLl1aR48e1bRp07Rw4UJ99913/O6Dbc8CxahRo5zSpUs7OXPmdOrWrev8+uuvtiPBD+69916nePHiTs6cOZ3LLrvMuffee51NmzbZjgUfWbBggSPpjH/t27d3HMdsffbaa685RYsWdXLlyuU0btzY2bBhg93Q8JrzPf8nTpxwmjVr5hQuXNjJkSOHU6ZMGeexxx5z9u7dazs2vORsz70kZ/LkyRn3OXnypNOlSxenQIECTp48eZy77rrL2bNnj73Q8JoLPf87duxwGjZs6MTFxTm5cuVyKlSo4PTs2dOJj4+3Gxxe8cgjjzhlypRxcubM6RQuXNhp3Lix8/3332fczu9+eItwHMfx5wEAAAAAAADAHHIAAAAAAKygIAcAAAAAwAIKcgAAAAAALKAgBwAAAADAAgpyAAAAAAAsoCAHAAAAAMACCnIAAAAAACygIAcAAAAAwAIKcgAAcFYRERGaNWuW7RgAAIQsCnIAAEJQhw4ddOedd9qOAQAAzoOCHAAAAAAACyjIAQAIcY0aNVL37t31wgsvKC4uTsWKFVOfPn0y3Wfjxo1q2LChcufOrSpVqmjevHlnfJ6dO3eqbdu2yp8/v+Li4tSqVStt27ZNkrR+/XrlyZNH06ZNy7j/Z599pqioKK1bt86X3x4AAEGLghwAgDDwwQcfKG/evFq2bJkGDx6sN954I6PoTk9PV+vWrZUzZ04tW7ZMY8aM0Ysvvpjp8SkpKWrevLmio6P1008/6eeff1a+fPl0yy23KDk5WZUrV9bbb7+tLl26aMeOHdq1a5eeeOIJvfXWW6pSpYqNbxkAgIAX4TiOYzsEAADwrg4dOujIkSOaNWuWGjVqpLS0NP30008Zt9etW1c333yzBg0apO+//1633Xabtm/frhIlSkiS5s6dqxYtWmjmzJm688479dFHH6l///76+++/FRERIUlKTk5W/vz5NWvWLDVr1kyS1LJlSyUkJChnzpzKli2b5s6dm3F/AACQWXbbAQAAgO/VqFEj08fFixfX/v37JUl///23SpUqlVGMS1L9+vUz3X/t2rXatGmToqOjM12fmJiozZs3Z3w8adIkVapUSZGRkfrrr78oxgEAOA8KcgAAwkCOHDkyfRwREaH09PQsP/7YsWOqVauWpk6desZthQsXzhivXbtWx48fV2RkpPbs2aPixYtffGgAAEIcBTkAAGHuyiuv1M6dOzMV0L/++mum+1xzzTX69NNPVaRIEcXExJz18xw6dEgdOnTQq6++qj179qhdu3ZatWqVoqKifP49AAAQjFjUDQCAMNekSRNVqlRJ7du319q1a/XTTz/p1VdfzXSfdu3aqVChQmrVqpV++uknbd26VQsXLlT37t21a9cuSdITTzyhUqVKqVevXnrnnXeUlpam559/3sa3BABAUKAgBwAgzEVGRmrmzJk6efKk6tatq0cffVQDBgzIdJ88efJo8eLFKl26tFq3bq0rr7xSnTp1UmJiomJiYvThhx/q22+/1f/+9z9lz55defPm1UcffaTx48drzpw5lr4zAAACG6usAwAAAABgAWfIAQAAAACwgIIcAAAAAAALKMgBAAAAALCAghwAAAAAAAsoyAEAAAAAsICCHAAAAAAACyjIAQAAAACwgIIcAAAAAAALKMgBAAAAALCAghwAAAAAAAsoyAEAAAAAsOD/APOyGGN+g5DRAAAAAElFTkSuQmCC",
      "text/plain": [
       "<Figure size 1200x600 with 1 Axes>"
      ]
     },
     "metadata": {},
     "output_type": "display_data"
    }
   ],
   "source": [
    "import matplotlib.pyplot as plt\n",
    "\n",
    "fig, ax = plt.subplots(figsize=(12, 6))\n",
    "\n",
    "for key, values in tdvp_ex1.bond_dims.items():\n",
    "    x = list(range(len(values)))\n",
    "    ax.plot(x, values, color='blue')\n",
    "\n",
    "#blue_patch = plt.Line2D([0], [0], color='blue', label='QR-split form (8 min)')\n",
    "\n",
    "ax.set_xlabel('Index')\n",
    "ax.set_ylabel('Bond dimensions')\n",
    "ax.set_title('time (tiem_step = 0.01)')\n",
    "\n",
    "\n",
    "plt.show()\n"
   ]
  },
  {
   "cell_type": "code",
   "execution_count": null,
   "metadata": {},
   "outputs": [
    {
     "ename": "",
     "evalue": "",
     "output_type": "error",
     "traceback": [
      "\u001b[1;31mFailed to start the Kernel. \n",
      "\u001b[1;31mzmq.error.ZMQError: Address in use (addr='tcp://127.0.0.1:9002'). \n",
      "\u001b[1;31mView Jupyter <a href='command:jupyter.viewOutput'>log</a> for further details."
     ]
    }
   ],
   "source": []
  },
  {
   "cell_type": "code",
   "execution_count": null,
   "metadata": {},
   "outputs": [
    {
     "ename": "",
     "evalue": "",
     "output_type": "error",
     "traceback": [
      "\u001b[1;31mFailed to start the Kernel. \n",
      "\u001b[1;31mzmq.error.ZMQError: Address in use (addr='tcp://127.0.0.1:9002'). \n",
      "\u001b[1;31mView Jupyter <a href='command:jupyter.viewOutput'>log</a> for further details."
     ]
    }
   ],
   "source": []
  },
  {
   "cell_type": "code",
   "execution_count": null,
   "metadata": {},
   "outputs": [
    {
     "ename": "",
     "evalue": "",
     "output_type": "error",
     "traceback": [
      "\u001b[1;31mFailed to start the Kernel. \n",
      "\u001b[1;31mzmq.error.ZMQError: Address in use (addr='tcp://127.0.0.1:9002'). \n",
      "\u001b[1;31mView Jupyter <a href='command:jupyter.viewOutput'>log</a> for further details."
     ]
    }
   ],
   "source": []
  },
  {
   "cell_type": "code",
   "execution_count": null,
   "metadata": {},
   "outputs": [
    {
     "ename": "",
     "evalue": "",
     "output_type": "error",
     "traceback": [
      "\u001b[1;31mFailed to start the Kernel. \n",
      "\u001b[1;31mzmq.error.ZMQError: Address in use (addr='tcp://127.0.0.1:9002'). \n",
      "\u001b[1;31mView Jupyter <a href='command:jupyter.viewOutput'>log</a> for further details."
     ]
    }
   ],
   "source": []
  },
  {
   "cell_type": "code",
   "execution_count": null,
   "metadata": {},
   "outputs": [
    {
     "ename": "",
     "evalue": "",
     "output_type": "error",
     "traceback": [
      "\u001b[1;31mFailed to start the Kernel. \n",
      "\u001b[1;31mzmq.error.ZMQError: Address in use (addr='tcp://127.0.0.1:9002'). \n",
      "\u001b[1;31mView Jupyter <a href='command:jupyter.viewOutput'>log</a> for further details."
     ]
    }
   ],
   "source": []
  },
  {
   "cell_type": "code",
   "execution_count": null,
   "metadata": {},
   "outputs": [
    {
     "ename": "",
     "evalue": "",
     "output_type": "error",
     "traceback": [
      "\u001b[1;31mFailed to start the Kernel. \n",
      "\u001b[1;31mzmq.error.ZMQError: Address in use (addr='tcp://127.0.0.1:9002'). \n",
      "\u001b[1;31mView Jupyter <a href='command:jupyter.viewOutput'>log</a> for further details."
     ]
    }
   ],
   "source": [
    "shapes = {\n",
    "    (0, 0): (3, 4, 5, d),\n",
    "    (0, 1): (3, 2, d),\n",
    "    (0, 2): (2, 2, d),\n",
    "    (1, 0): (4, 2, d),\n",
    "    (1, 1): (2, d),\n",
    "    (1, 2): (2, d),\n",
    "    (2, 0): (2, 2, d),\n",
    "    (2, 1): (2, 2, 2, d),\n",
    "    (2, 2): (2, d)\n",
    "}\n",
    "\n",
    "\n",
    "sites = {\n",
    "    (i, j): ptn.random_tensor_node(shapes[(i, j)], identifier=f\"Site({i},{j})\") for i in range(3) for j in range(3)\n",
    "}\n",
    "\n",
    "ttn = ptn.TreeTensorNetworkState()\n",
    "\n",
    "ttn.add_root(sites[(0, 0)][0], sites[(0, 0)][1])\n",
    "\n",
    "connections = [\n",
    "    ((0, 0), (0, 1), 0, 0),\n",
    "    ((0, 1), (0, 2), 1, 0),\n",
    "    ((0, 2), (1, 2), 1, 0),\n",
    "    ((0, 0), (1, 0), 1, 0),\n",
    "    ((1, 0), (2, 0), 1, 0),\n",
    "    ((2, 0), (2, 1), 1, 0),\n",
    "    ((2, 1), (1, 1), 1, 0),\n",
    "    ((2, 1), (2, 2), 2, 0)]\n",
    "\n",
    "\n",
    "for (parent, child, parent_leg, child_leg) in connections:\n",
    "    parent_id = f\"Site({parent[0]},{parent[1]})\"\n",
    "    child_id = f\"Site({child[0]},{child[1]})\"\n",
    "    ttn.add_child_to_parent(sites[child][0], sites[child][1], child_leg, parent_id, parent_leg)\n",
    "\n",
    "#ttn = product_state(ttn , bond_dim= 2, physical_dim = d)\n",
    "\n",
    "nodes = {\n",
    "    (i, j): (ptn.Node(tensor=ttn.tensors[f\"Site({i},{j})\"].conj() , identifier=f\"Node({i},{j})\"), ttn.tensors[f\"Site({i},{j})\"].conj()) for i in range(3) for j in range(3)\n",
    "}\n",
    "\n",
    "ttn.add_child_to_parent(nodes[(0,0)][0], nodes[(0,0)][1], 2, \"Site(0,0)\", 2)\n",
    "\n",
    "connections = [\n",
    "    ((0, 0), (0, 1), 1, 0),\n",
    "    ((0, 1), (0, 2), 1, 0),\n",
    "    ((0, 2), (1, 2), 1, 0),\n",
    "    ((0, 0), (1, 0), 2, 0),\n",
    "    ((1, 0), (2, 0), 1, 0),\n",
    "    ((2, 0), (2, 1), 1, 0),\n",
    "    ((2, 1), (1, 1), 1, 0),\n",
    "    ((2, 1), (2, 2), 2, 0),\n",
    "]\n",
    "\n",
    "for (parent, child, parent_leg, child_leg) in connections:\n",
    "    parent_id = f\"Node({parent[0]},{parent[1]})\"\n",
    "    child_id = f\"Node({child[0]},{child[1]})\"\n",
    "    ttn.add_child_to_parent(nodes[child][0], nodes[child][1], child_leg, parent_id, parent_leg)\n",
    "\n",
    "    import pytreenet.contractions.state_operator_contraction as A\n",
    "ptn.adjust_operator_to_ket(N1,ttn)\n",
    "ptn.adjust_bra_to_ket(ttn)\n",
    "dict = A.contract_all_except_root(ttn, N1)\n",
    "ket_node, ket_tensor = ttn[ttn.root_id]\n",
    "bra_id = ttn.nodes[ttn.root_id].neighbouring_nodes()[0]\n",
    "_ , bra_tensor = ttn[bra_id]\n",
    "ket_neigh_block = A.contract_all_neighbour_blocks_to_ket_Lindblad(ket_tensor,\n",
    "                                                        ket_node,\n",
    "                                                        dict)\n",
    "ket_neigh_block.shape\n",
    "perm = list(range(ket_neigh_block.ndim)) \n",
    "perm.append(perm.pop(1))\n",
    "ket_neigh_block = ket_neigh_block.transpose(perm)\n",
    "perm\n",
    "op_node , op_tensor = N1[ttn.root_id]\n",
    "op_neighbours = N1.nodes[ttn.root_id].neighbouring_nodes()\n",
    "ket_node, ket_tensor = ttn[ttn.root_id]\n",
    "ket_neighbours = ttn.nodes[ttn.root_id].neighbouring_nodes()\n",
    "\n",
    "element_map = {elem: i for i, elem in enumerate(op_neighbours)}\n",
    "permutation = tuple(element_map[elem] for elem in ket_neighbours)\n",
    "nneighbours = ttn.nodes[ttn.root_id].nneighbours()\n",
    "permutation = permutation + (len(permutation), len(permutation)+1)\n",
    "op_tensor = np.transpose(op_tensor, permutation)\n",
    "shape = list(op_tensor.shape)\n",
    "shape.pop(0)\n",
    "shape = tuple(shape)\n",
    "op_tensor = np.reshape(op_tensor, shape)\n",
    "ket_neigh_block.shape , op_tensor.shape\n",
    "kethamblock = np.tensordot(ket_neigh_block, op_tensor,\n",
    "                        axes=((1,3,5), (0,1,2)))\n",
    "kethamblock.shape\n",
    "state_legs = tuple(range(0, nneighbours+1))\n",
    "state_legs\n",
    "np.tensordot(bra_tensor, kethamblock,\n",
    "                        axes=(state_legs,state_legs)) "
   ]
  },
  {
   "cell_type": "code",
   "execution_count": null,
   "metadata": {},
   "outputs": [
    {
     "ename": "",
     "evalue": "",
     "output_type": "error",
     "traceback": [
      "\u001b[1;31mFailed to start the Kernel. \n",
      "\u001b[1;31mzmq.error.ZMQError: Address in use (addr='tcp://127.0.0.1:9002'). \n",
      "\u001b[1;31mView Jupyter <a href='command:jupyter.viewOutput'>log</a> for further details."
     ]
    }
   ],
   "source": [
    "from __future__ import annotations\n",
    "from typing import List, Union\n",
    "from copy import deepcopy\n",
    "from tqdm import tqdm\n",
    "import numpy as np\n",
    "from ...operators.tensorproduct import TensorProduct\n",
    "from ...ttno.ttno import TTNO\n",
    "from ...ttns import TreeTensorNetworkState , normalize_ttn_Lindblad\n",
    "from ..ttn_time_evolution import TTNTimeEvolutionConfig\n",
    "from ..Subspace_expansion import expand_subspace , KrylovBasisMode , max_two_neighbour_form , original_form\n",
    "from ...util.tensor_splitting import SplitMode , SVDParameters\n",
    "from ...core.canonical_form import adjust_ttn1_structure_to_ttn2 , adjust_ttno_structure_to_ttn\n",
    "from pytreenet.contractions.state_operator_contraction import adjust_operator_to_ket , adjust_bra_to_ket\n",
    "from .onesitetdvp import OneSiteTDVP\n",
    "from ...contractions.tree_cach_dict import PartialTreeCachDict\n",
    "from ...time_evolution.time_evo_util.update_path import TDVPUpdatePathFinder\n",
    "\n",
    "\n",
    "class SecondOrderOneSiteTDVP(OneSiteTDVP):\n",
    "    \"\"\"\n",
    "    The first order one site TDVP algorithm.\n",
    "\n",
    "    This means we have second order Trotter splitting for the time evolution:\n",
    "      exp(At+Bt) approx exp(At/2)*exp(Bt/2)*exp(Bt/2)*exp(At/2)\n",
    "\n",
    "    Has the same attributes as the TDVP-Algorithm clas with two additions.\n",
    "\n",
    "    Attributes:\n",
    "        backwards_update_path (List[str]): The update path that traverses\n",
    "            backwards.\n",
    "        backwards_orth_path (List[List[str]]): The orthogonalisation paths for\n",
    "            the backwards run.\n",
    "    \"\"\"\n",
    "\n",
    "    def __init__(self, initial_state: TreeTensorNetworkState,\n",
    "                 hamiltonian: TTNO, time_step_size: float, final_time: float,\n",
    "                 operators: Union[TensorProduct, List[TensorProduct]],\n",
    "                 num_vecs: int = 3, \n",
    "                 tau: float = 1e-2, \n",
    "                 SVDParameters : SVDParameters = SVDParameters(),\n",
    "                 expansion_steps: int = 10,\n",
    "                 initial_tol: float = 1e-5,\n",
    "                 tol_step: float = 1e-1, \n",
    "                 max_bond: int = 32, \n",
    "                 norm_tol: float = np.inf,\n",
    "                 KrylovBasisMode : KrylovBasisMode = KrylovBasisMode.apply_ham,                  \n",
    "                 config: Union[TTNTimeEvolutionConfig,None] = None) -> None:\n",
    "        \"\"\"\n",
    "        Initialize the second order one site TDVP algorithm.\n",
    "\n",
    "        Args:\n",
    "            initial_state (TreeTensorNetworkState): The initial state of the\n",
    "                system.\n",
    "            hamiltonian (TTNO): The Hamiltonian of the system.\n",
    "            time_step_size (float): The time step size.\n",
    "            final_time (float): The final time of the evolution.\n",
    "            operators (Union[TensorProduct, List[TensorProduct]]): The operators\n",
    "                for which the expectation values are calculated.\n",
    "            config (Union[TTNTimeEvolutionConfig,None], optional): The time\n",
    "                evolution configuration. Defaults to None.\n",
    "        \"\"\"\n",
    "        super().__init__(initial_state, hamiltonian,\n",
    "                         time_step_size, final_time, operators, num_vecs, \n",
    "                         tau,\n",
    "                         SVDParameters,\n",
    "                         expansion_steps,\n",
    "                         initial_tol,\n",
    "                         tol_step,\n",
    "                         max_bond,\n",
    "                         KrylovBasisMode,  \n",
    "                         config)\n",
    "        self.norm_tol = norm_tol\n",
    "        self.backwards_update_path = self._init_second_order_update_path()\n",
    "        self.backwards_orth_path = self._init_second_order_orth_path()\n",
    "        self.state , self.hamiltonian = self._init_two_neighbour_form()\n",
    "\n",
    "    def _init_two_neighbour_form(self):\n",
    "        \"\"\"\n",
    "        Transform the state and the Hamiltonian into the max two neighbour form.\n",
    "        \"\"\"\n",
    "        # adjust_operator_to_ket(self.hamiltonian , self.state)\n",
    "        self.hamiltonian = adjust_ttno_structure_to_ttn(self.hamiltonian , self.state)\n",
    "        self.state , dict1 = max_two_neighbour_form(self.state)\n",
    "        self.hamiltonian , dict2 = max_two_neighbour_form(self.hamiltonian , dict1)\n",
    "        #self.hamiltonian = adjust_ttno_structure_to_ttn(tdvp_ex1.hamiltonian , tdvp_ex1.state)\n",
    "        assert dict1 == dict2\n",
    "        self.partial_tree_cache = PartialTreeCachDict()\n",
    "        self._init_partial_tree_cache()\n",
    "        self.update_path = TDVPUpdatePathFinder(self.state).find_path()\n",
    "        self.orthogonalization_path = self._find_tdvp_orthogonalization_path(self.update_path) \n",
    "        self.backwards_update_path = self._init_second_order_update_path()\n",
    "        self.backwards_orth_path = self._init_second_order_orth_path() \n",
    "        self.two_neighbour_form_dict = dict1\n",
    "        return self.state , self.hamiltonian\n",
    "    \n",
    "    def _init_second_order_update_path(self) -> List[str]:\n",
    "        \"\"\"\n",
    "        Find the update path that traverses backwards.\n",
    "        \"\"\"\n",
    "        return list(reversed(self.update_path))\n",
    "\n",
    "    def _init_second_order_orth_path(self) -> List[List[str]]:\n",
    "        \"\"\"\n",
    "        Find the orthogonalisation paths for the backwards run.\n",
    "        \"\"\"\n",
    "        back_orthogonalization_path = []\n",
    "        for i, node_id in enumerate(self.backwards_update_path[1:-1]):\n",
    "            current_path = self.state.path_from_to(node_id,\n",
    "                                                   self.backwards_update_path[i+2])\n",
    "            current_path = current_path[:-1]\n",
    "            back_orthogonalization_path.append(current_path)\n",
    "        back_orthogonalization_path.append([self.backwards_update_path[-1]])\n",
    "        return back_orthogonalization_path\n",
    "\n",
    "    def _update_forward_site_and_link(self, node_id: str,\n",
    "                                      next_node_id: str):\n",
    "        \"\"\"\n",
    "        Run the forward update with half time step.\n",
    "\n",
    "        First the site tensor is updated and then the link tensor.\n",
    "\n",
    "        Args:\n",
    "            node_id (str): The identifier of the site to be updated.\n",
    "            next_node_id (str): The other node of the link to be updated.\n",
    "        \"\"\"\n",
    "        assert self.state.orthogonality_center_id == node_id\n",
    "        self._update_site(node_id,\n",
    "                          time_step_factor=0.5)\n",
    "        self._update_link(node_id, next_node_id,\n",
    "                          time_step_factor=0.5)\n",
    "\n",
    "    def forward_sweep(self):\n",
    "        \"\"\"\n",
    "        Perform the forward sweep through the state.\n",
    "        \"\"\"\n",
    "        for i, node_id in enumerate(self.update_path[:-1]):\n",
    "            # Orthogonalize\n",
    "            if i>0:\n",
    "                self._move_orth_and_update_cache_for_path(self.orthogonalization_path[i-1])\n",
    "            # Select Next Node\n",
    "            next_node_id = self.orthogonalization_path[i][0]\n",
    "            # Update\n",
    "            self._update_forward_site_and_link(node_id, next_node_id)\n",
    "\n",
    "    def _final_forward_update(self):\n",
    "        \"\"\"\n",
    "        Perform the final forward update. \n",
    "        \n",
    "        To save some computation, the update is performed with a full time\n",
    "        step. Since the first update backwards occurs on the same node. We\n",
    "        also do not need to update any link tensors.\n",
    "        \"\"\"\n",
    "        node_id = self.update_path[-1]\n",
    "        assert node_id == self.backwards_update_path[0]\n",
    "        assert self.state.orthogonality_center_id == node_id\n",
    "        self._update_site(node_id)\n",
    "\n",
    "    def _update_first_backward_link(self):\n",
    "        \"\"\"\n",
    "        Update the link between the first and second node in the backwards\n",
    "        update path with a half time step.\n",
    "        \n",
    "        We have already updated the first site on the backwards update path\n",
    "        and the link will always be next to it, so the orthogonality center\n",
    "        is already at the correct position.\n",
    "        \"\"\"\n",
    "        next_node_id = self.backwards_update_path[1]\n",
    "        self._update_link(self.state.orthogonality_center_id,\n",
    "                          next_node_id,\n",
    "                          time_step_factor=0.5)\n",
    "\n",
    "    def _normal_backward_update(self, node_id: str,\n",
    "                                update_index: int):\n",
    "        \"\"\"\n",
    "        The normal way to make a backwards update.\n",
    "        \n",
    "        First the site tensor is updated. Then the orthogonality center is\n",
    "        moved, if needed. Finally the link tensor between the new\n",
    "        orthogonality center and the next node is updated. \n",
    "        \n",
    "        Args:\n",
    "            node_id (str): The identifier of the site to be updated.\n",
    "            update_index (int): The index of the update in the backwards\n",
    "                update path.\n",
    "        \"\"\"\n",
    "        assert self.state.orthogonality_center_id == node_id\n",
    "        self._update_site(node_id, time_step_factor=0.5)\n",
    "        new_orth_center = self.backwards_orth_path[update_index-1]\n",
    "        self._move_orth_and_update_cache_for_path(new_orth_center)\n",
    "        next_node_id = self.backwards_update_path[update_index+1]\n",
    "        self._update_link(self.state.orthogonality_center_id,\n",
    "                          next_node_id,\n",
    "                          time_step_factor=0.5)\n",
    "\n",
    "    def _final_backward_update(self):\n",
    "        \"\"\"\n",
    "        Perform the final backward update.\n",
    "        \n",
    "        Since this is the last node that needs updating, no link update is\n",
    "        required afterwards.\n",
    "        \"\"\"\n",
    "        node_id = self.backwards_update_path[-1]\n",
    "        assert self.state.orthogonality_center_id == node_id\n",
    "        self._update_site(node_id, time_step_factor=0.5)\n",
    "\n",
    "    def backward_sweep(self):\n",
    "        \"\"\"\n",
    "        Perform the backward sweep through the state.\n",
    "        \"\"\"\n",
    "        self._update_first_backward_link()\n",
    "        for i, node_id in enumerate(self.backwards_update_path[1:-1]):\n",
    "            self._normal_backward_update(node_id, i+1)\n",
    "        self._final_backward_update()\n",
    "\n",
    "    def run_one_time_step(self):\n",
    "        \"\"\"\n",
    "        Run a single second order time step.\n",
    "        \n",
    "        This mean we run a full forward and a full backward sweep through the\n",
    "        tree.\n",
    "        \"\"\"\n",
    "        self.forward_sweep()\n",
    "        self._final_forward_update()\n",
    "        self.backward_sweep()\n",
    "\n",
    "\n",
    "    def forward_sweep_ex(self):\n",
    "        \"\"\"\n",
    "        Perform the forward sweep through the state.\n",
    "        \"\"\"\n",
    "        for i, node_id in enumerate(self.update_path[:-1]):\n",
    "            # Orthogonalize\n",
    "            if i>0:\n",
    "                self._move_orth_and_update_cache_for_path(self.orthogonalization_path[i-1])\n",
    "            # Select Next Node\n",
    "            next_node_id = self.orthogonalization_path[i][0]\n",
    "            # Update\n",
    "            self._update_forward_site_and_link(node_id, next_node_id)\n",
    "\n",
    "    def run_one_time_step_ex(self):\n",
    "        \"\"\"\n",
    "        Run a single second order time step.\n",
    "        \n",
    "        This mean we run a full forward and a full backward sweep through the\n",
    "        tree.\n",
    "        \"\"\"\n",
    "\n",
    "        self.forward_sweep_ex()\n",
    "        self._final_forward_update()\n",
    "        self.backward_sweep()  \n",
    "    \n",
    "\n",
    "    def run_ex(self, evaluation_time: Union[int,\"inf\"] = 1, filepath: str = \"\",\n",
    "            pgbar: bool = True,):\n",
    "        \"\"\"\n",
    "        Runs this time evolution algorithm for the given parameters.\n",
    "\n",
    "        The desired operator expectation values are evaluated and saved.\n",
    "\n",
    "        Args:\n",
    "            evaluation_time (int, optional): The difference in time steps after which\n",
    "                to evaluate the operator expectation values, e.g. for a value of 10\n",
    "                the operators are evaluated at time steps 0,10,20,... If it is set to\n",
    "                \"inf\", the operators are only evaluated at the end of the time.\n",
    "                Defaults to 1.\n",
    "            filepath (str, optional): If results are to be saved in an external file,\n",
    "                the path to that file can be specified here. Defaults to \"\".\n",
    "            pgbar (bool, optional): Toggles the progress bar. Defaults to True.\n",
    "        \"\"\"\n",
    "      \n",
    "        self._init_results(evaluation_time)\n",
    "        assert self._results is not None\n",
    "        tol_step = -1\n",
    "        for i in tqdm(range(self.num_time_steps + 1), disable=not pgbar):\n",
    "            if i != 0:  # We also measure the initial expectation_values   \n",
    "\n",
    "                ###########\n",
    "                tol_step += 1\n",
    "                if i % self.expansion_steps == 0 :\n",
    "                    if state_bond.max_bond_dim() < self.max_bond:\n",
    "                        tol = self.initial_tol * self.tol_step ** tol_step\n",
    "                        state_ex = expand_subspace(state_ex, self.hamiltonian, \n",
    "                                                    self.num_vecs, self.tau, \n",
    "                                                    self.SVDParameters, tol, self.KrylovBasisMode)\n",
    "                        self.state = state_ex\n",
    "                        self.state.move_orthogonalization_center(self.update_path[0],mode = SplitMode.KEEP)\n",
    "                        self.partial_tree_cache = PartialTreeCachDict()\n",
    "                        self._init_partial_tree_cache()\n",
    "                    else:\n",
    "                        assert self.state.orthogonality_center_id == self.update_path[0]   \n",
    "                ##########\n",
    "\n",
    "                self.run_one_time_step_ex() \n",
    "                state_ex = deepcopy(self.state) \n",
    "            ttn = deepcopy(self.state)\n",
    "            ttn = original_form(ttn , self.two_neighbour_form_dict)\n",
    "            I = TTNO.Identity(ttn)\n",
    "            I_ex = ttn.operator_expectation_value_Lindblad(I)\n",
    "            if np.abs(I_ex - 1) > self.norm_tol :\n",
    "                self.state = normalize_ttn_Lindblad(ttn) \n",
    "                norm = 1\n",
    "                if evaluation_time != \"inf\" and i % evaluation_time == 0 and len(self._results) > 0:\n",
    "                    index = i // evaluation_time\n",
    "                    current_results = self.evaluate_operators() / np.sqrt(norm)\n",
    "                    self._results[0:-1, index] = current_results\n",
    "                    # Save current time\n",
    "                    self._results[-1, index] = i*self.time_step_size\n",
    "\n",
    "                max_two_neighbour_form(self.state , self.two_neighbour_form_dict)\n",
    "                \n",
    "                self._orthogonalize_init()\n",
    "                self.partial_tree_cache = PartialTreeCachDict()\n",
    "                self._init_partial_tree_cache()     \n",
    "            else:\n",
    "                norm = I_ex               \n",
    "                if evaluation_time != \"inf\" and i % evaluation_time == 0 and len(self._results) > 0:\n",
    "                    index = i // evaluation_time\n",
    "                    current_results = self.evaluate_operators() / np.sqrt(norm)\n",
    "                    self._results[0:-1, index] = current_results\n",
    "                    # Save current time\n",
    "                    self._results[-1, index] = i*self.time_step_size  \n",
    "            state_bond = deepcopy(self.state)\n",
    "            self.record_bond_dimensions()\n",
    "        \n",
    "        if evaluation_time == \"inf\":\n",
    "            current_results = self.evaluate_operators()\n",
    "            self._results[0:-1, 0] = current_results\n",
    "            self._results[-1, 0] = i*self.time_step_size\n",
    "        if filepath != \"\":\n",
    "            self.save_results_to_file(filepath)        #   "
   ]
  }
 ],
 "metadata": {
  "kernelspec": {
   "display_name": "Python 3",
   "language": "python",
   "name": "python3"
  },
  "language_info": {
   "codemirror_mode": {
    "name": "ipython",
    "version": 3
   },
   "file_extension": ".py",
   "mimetype": "text/x-python",
   "name": "python",
   "nbconvert_exporter": "python",
   "pygments_lexer": "ipython3",
   "version": "3.12.1"
  }
 },
 "nbformat": 4,
 "nbformat_minor": 2
}
