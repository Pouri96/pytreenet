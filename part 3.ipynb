{
 "cells": [
  {
   "cell_type": "code",
   "execution_count": 1,
   "metadata": {},
   "outputs": [],
   "source": [
    "import numpy as np\n",
    "import pytreenet as ptn\n",
    "from copy import deepcopy\n",
    "np.random.seed(67)"
   ]
  },
  {
   "cell_type": "code",
   "execution_count": 2,
   "metadata": {},
   "outputs": [],
   "source": [
    "d = 3"
   ]
  },
  {
   "cell_type": "code",
   "execution_count": 3,
   "metadata": {},
   "outputs": [],
   "source": [
    "def save_list(list_to_save, filename):\n",
    "    filename = f\"results/{filename}\"\n",
    "    with open(filename, 'w') as file:\n",
    "        for item in list_to_save:\n",
    "            file.write(str(item) + '\\n')\n",
    "    print(f\"List saved to {filename}\")\n",
    "\n",
    "def load_list(filename):\n",
    "    filename = f\"results/{filename}\"\n",
    "    try:\n",
    "        with open(filename, 'r') as file:\n",
    "            return [complex(line.strip()) for line in file.readlines()]\n",
    "    except FileNotFoundError:\n",
    "        print(f\"File {filename} not found.\")\n",
    "        return []"
   ]
  },
  {
   "cell_type": "code",
   "execution_count": 4,
   "metadata": {},
   "outputs": [],
   "source": [
    "def product_state(ttn, bond_dim=2 , physical_dim= 2):\n",
    "    product_state = deepcopy(ttn)\n",
    "    A = np.asarray(d*[1j/np.sqrt(physical_dim)])\n",
    "    for node_id in product_state.nodes.keys():\n",
    "        n = product_state.tensors[node_id].ndim - 1\n",
    "        tensor = A.reshape((1,) * n + (physical_dim,))\n",
    "        T = np.pad(tensor, n*((0, bond_dim-1),) + ((0, 0),))\n",
    "        product_state.tensors[node_id] = T\n",
    "        product_state.nodes[node_id].link_tensor(T)  \n",
    "    return product_state"
   ]
  },
  {
   "cell_type": "code",
   "execution_count": 5,
   "metadata": {},
   "outputs": [],
   "source": [
    "shapes = {\n",
    "    (0, 0): (2, 2, 2, d),\n",
    "    (0, 1): (2, 2, d),\n",
    "    (0, 2): (2, 2, d),\n",
    "    (1, 0): (2, 2, d),\n",
    "    (1, 1): (2, d),\n",
    "    (1, 2): (2, d),\n",
    "    (2, 0): (2, 2, d),\n",
    "    (2, 1): (2, 2, 2, d),\n",
    "    (2, 2): (2, d)\n",
    "}\n",
    "\n",
    "\n",
    "sites = {\n",
    "    (i, j): ptn.random_tensor_node(shapes[(i, j)], identifier=f\"Site({i},{j})\") for i in range(3) for j in range(3)\n",
    "}\n",
    "\n",
    "ttn = ptn.TreeTensorNetworkState()\n",
    "\n",
    "ttn.add_root(sites[(0, 0)][0], sites[(0, 0)][1])\n",
    "\n",
    "connections = [\n",
    "    ((0, 0), (0, 1), 0, 0),\n",
    "    ((0, 1), (0, 2), 1, 0),\n",
    "    ((0, 2), (1, 2), 1, 0),\n",
    "    ((0, 0), (1, 0), 1, 0),\n",
    "    ((1, 0), (2, 0), 1, 0),\n",
    "    ((2, 0), (2, 1), 1, 0),\n",
    "    ((2, 1), (1, 1), 1, 0),\n",
    "    ((2, 1), (2, 2), 2, 0)]\n",
    "\n",
    "\n",
    "for (parent, child, parent_leg, child_leg) in connections:\n",
    "    parent_id = f\"Site({parent[0]},{parent[1]})\"\n",
    "    child_id = f\"Site({child[0]},{child[1]})\"\n",
    "    ttn.add_child_to_parent(sites[child][0], sites[child][1], child_leg, parent_id, parent_leg)\n",
    "\n",
    "# ttn = product_state(ttn , bond_dim= 2, physical_dim = d)\n",
    "\n",
    "nodes = {\n",
    "    (i, j): (ptn.Node(tensor=ttn.tensors[f\"Site({i},{j})\"].conj() , identifier=f\"Node({i},{j})\"), ttn.tensors[f\"Site({i},{j})\"].conj()) for i in range(3) for j in range(3)\n",
    "}\n",
    "\n",
    "ttn.add_child_to_parent(nodes[(0,0)][0], nodes[(0,0)][1], 2, \"Site(0,0)\", 2)\n",
    "\n",
    "connections = [\n",
    "    ((0, 0), (0, 1), 1, 0),\n",
    "    ((0, 1), (0, 2), 1, 0),\n",
    "    ((0, 2), (1, 2), 1, 0),\n",
    "    ((0, 0), (1, 0), 2, 0),\n",
    "    ((1, 0), (2, 0), 1, 0),\n",
    "    ((2, 0), (2, 1), 1, 0),\n",
    "    ((2, 1), (1, 1), 1, 0),\n",
    "    ((2, 1), (2, 2), 2, 0),\n",
    "]\n",
    "\n",
    "for (parent, child, parent_leg, child_leg) in connections:\n",
    "    parent_id = f\"Node({parent[0]},{parent[1]})\"\n",
    "    child_id = f\"Node({child[0]},{child[1]})\"\n",
    "    ttn.add_child_to_parent(nodes[child][0], nodes[child][1], child_leg, parent_id, parent_leg)"
   ]
  },
  {
   "cell_type": "code",
   "execution_count": 6,
   "metadata": {},
   "outputs": [
    {
     "data": {
      "text/plain": [
       "array(2254860.13863589+5.82076609e-11j)"
      ]
     },
     "execution_count": 6,
     "metadata": {},
     "output_type": "execute_result"
    }
   ],
   "source": [
    "I = ptn.TTNO.Identity(ttn)\n",
    "ptn.adjust_bra_to_ket(ttn)\n",
    "\n",
    "for ket_id in list(ttn.nodes.keys())[0:len(ttn.nodes)//2]:\n",
    "    i, j = ket_id.replace('Site(', '').replace(')', '').split(',')\n",
    "    bra_id = f\"Node({i},{j})\"\n",
    "    assert np.array_equal(ttn.tensors[ket_id].conj(), ttn.tensors[bra_id])\n",
    "\n",
    "# ttn = ptn.normalize_ttn_Lindblad(ttn)\n",
    "\n",
    "ttn.operator_expectation_value_Lindblad(I)\n"
   ]
  },
  {
   "cell_type": "code",
   "execution_count": 7,
   "metadata": {},
   "outputs": [],
   "source": [
    "def Liouville(t, U, J, m, L, Lx, Ly, d):\n",
    "    creation_op, annihilation_op, number_op = ptn.bosonic_operators(d)\n",
    "    \n",
    "    conversion_dict = {\n",
    "        \"b^dagger\": creation_op,\n",
    "        \"b\": annihilation_op,\n",
    "        f\"I{d}\": np.eye(d)\n",
    "\n",
    "\n",
    "    }\n",
    "    \n",
    "    conversion_dict.update({\n",
    "        \"it * b^dagger\": t*1j * creation_op,\n",
    "        \"it * b\": t*1j * annihilation_op,\n",
    "        \"-iU * n * (n - 1)\": -U*1j * number_op @ (number_op - np.eye(d)),\n",
    "        \"m*n\": m*number_op\n",
    "    })\n",
    "    \n",
    "    terms = []\n",
    "    \n",
    "    # Hopping terms\n",
    "    for x in range(Lx):\n",
    "        for y in range(Ly):\n",
    "            current_site = f\"Site({x},{y})\"\n",
    "            \n",
    "            # Horizontal connections\n",
    "            if x < Lx - 1:\n",
    "                right_neighbor = f\"Site({x+1},{y})\"\n",
    "                terms.append(ptn.TensorProduct({current_site: \"it * b^dagger\", right_neighbor: \"b\"}))\n",
    "                terms.append(ptn.TensorProduct({current_site: \"it * b\", right_neighbor: \"b^dagger\"}))\n",
    "            \n",
    "            # Vertical connections\n",
    "            if y < Ly - 1:\n",
    "                up_neighbor = f\"Site({x},{y+1})\"\n",
    "                terms.append(ptn.TensorProduct({current_site: \"it * b^dagger\", up_neighbor: \"b\"}))\n",
    "                terms.append(ptn.TensorProduct({current_site: \"it * b\", up_neighbor: \"b^dagger\"}))\n",
    "    \n",
    "    # On-site interaction terms\n",
    "    for x in range(Lx):\n",
    "        for y in range(Ly):\n",
    "            current_site = f\"Site({x},{y})\"\n",
    "            terms.append(ptn.TensorProduct({current_site: \"-iU * n * (n - 1)\"}))\n",
    "\n",
    "    # Chemical potential terms\n",
    "    for x in range(Lx):\n",
    "        for y in range(Ly):\n",
    "            current_site = f\"Site({x},{y})\"\n",
    "            terms.append(ptn.TensorProduct({current_site: \"m*n\"}))        \n",
    "    \n",
    "    H1 = ptn.Hamiltonian(terms, conversion_dict)\n",
    "    \n",
    "    conversion_dict = {\n",
    "        \"b^dagger.T\": creation_op.T,\n",
    "        \"b.T\": annihilation_op.T,\n",
    "        f\"I{d}\": np.eye(d)\n",
    "    }\n",
    "    \n",
    "    conversion_dict.update({\n",
    "        \"-it * b^dagger.T\": -t*1j * creation_op.T,\n",
    "        \"-it * b.T\": -t*1j * annihilation_op.T,\n",
    "        \"iU * n * (n - 1).T\": (U*1j * number_op @ (number_op - np.eye(d))).T,\n",
    "        \"-m*n.T\": -m * number_op.T\n",
    "\n",
    "    })\n",
    "    \n",
    "    terms = []\n",
    "    \n",
    "    # Hopping terms\n",
    "    for x in range(Lx):\n",
    "        for y in range(Ly):\n",
    "            current_site = f\"Node({x},{y})\"\n",
    "            \n",
    "            # Horizontal connections\n",
    "            if x < Lx - 1:\n",
    "                right_neighbor = f\"Node({x+1},{y})\"\n",
    "                terms.append(ptn.TensorProduct({current_site: \"-it * b^dagger.T\", right_neighbor: \"b.T\"}))\n",
    "                terms.append(ptn.TensorProduct({current_site: \"-it * b.T\", right_neighbor: \"b^dagger.T\"}))\n",
    "            \n",
    "            # Vertical connections\n",
    "            if y < Ly - 1:\n",
    "                up_neighbor = f\"Node({x},{y+1})\"\n",
    "                terms.append(ptn.TensorProduct({current_site: \"-it * b^dagger.T\", up_neighbor: \"b.T\"}))\n",
    "                terms.append(ptn.TensorProduct({current_site: \"-it * b.T\", up_neighbor: \"b^dagger.T\"}))\n",
    "    \n",
    "    # On-site interaction terms\n",
    "    for x in range(Lx):\n",
    "        for y in range(Ly):\n",
    "            current_site = f\"Node({x},{y})\"\n",
    "            terms.append(ptn.TensorProduct({current_site: \"iU * n * (n - 1).T\"}))    \n",
    "\n",
    "    # Chemical potential terms\n",
    "    for x in range(Lx):\n",
    "        for y in range(Ly):\n",
    "            current_site = f\"Node({x},{y})\"\n",
    "            terms.append(ptn.TensorProduct({current_site: \"-m*n.T\"}))\n",
    "            \n",
    "    H2 = ptn.Hamiltonian(terms, conversion_dict)\n",
    "    H1.__add__(H2)\n",
    "\n",
    "    \n",
    "    J = np.sqrt(J)\n",
    "    conversion_dict = {    \n",
    "    \"L\": J*L,\n",
    "    \"L^dagger.T\": J*L.conj(),\n",
    "    \"-1/2 (L^dagger @ L) \": -1/2 * J *  L.conj().T @ L,\n",
    "    \"-1/2 (L^dagger @ L).T\":-1/2 * J * (L.conj().T @ L).T}\n",
    "\n",
    "    terms = []\n",
    "    for x in range(Lx):\n",
    "        for y in range(Ly):\n",
    "            out_site = f\"Node({x},{y})\"\n",
    "            in_site = f\"Site({x},{y})\"\n",
    "            terms.append(ptn.TensorProduct({in_site: \"L\"}))\n",
    "            terms.append(ptn.TensorProduct({out_site: \"L^dagger.T\"}))\n",
    "            terms.append(ptn.TensorProduct({in_site: \"-1/2 (L^dagger @ L) \"}))\n",
    "            terms.append(ptn.TensorProduct({out_site: \"-1/2 (L^dagger @ L).T\"}))\n",
    "\n",
    "    H3 = ptn.Hamiltonian(terms, conversion_dict)\n",
    "    H1.__add__(H3)\n",
    "    return H1"
   ]
  },
  {
   "cell_type": "code",
   "execution_count": 8,
   "metadata": {},
   "outputs": [],
   "source": [
    "def Unitary(t, U, m, Lx, Ly, d):\n",
    "    creation_op, annihilation_op, number_op = ptn.bosonic_operators(d)\n",
    "    \n",
    "    conversion_dict = {\n",
    "        \"b^dagger\": creation_op,\n",
    "        \"b\": annihilation_op,\n",
    "        f\"I{d}\": np.eye(d)\n",
    "    }\n",
    "    \n",
    "    conversion_dict.update({\n",
    "        \"it * b^dagger\": t * 1.0j* creation_op,\n",
    "        \"it * b\": t* 1.0j * annihilation_op,\n",
    "        \"-iU * n * (n - 1)\": -U* 1.0j * number_op @ (number_op - np.eye(d)),\n",
    "        \"m*n\": m * number_op\n",
    "\n",
    "    })\n",
    "    \n",
    "    terms = []\n",
    "    \n",
    "    # Hopping terms\n",
    "    for x in range(Lx):\n",
    "        for y in range(Ly):\n",
    "            current_site = f\"Site({x},{y})\"\n",
    "            \n",
    "            # Horizontal connections\n",
    "            if x < Lx - 1:\n",
    "                right_neighbor = f\"Site({x+1},{y})\"\n",
    "                terms.append(ptn.TensorProduct({current_site: \"it * b^dagger\", right_neighbor: \"b\"}))\n",
    "                terms.append(ptn.TensorProduct({current_site: \"it * b\", right_neighbor: \"b^dagger\"}))\n",
    "            \n",
    "            # Vertical connections\n",
    "            if y < Ly - 1:\n",
    "                up_neighbor = f\"Site({x},{y+1})\"\n",
    "                terms.append(ptn.TensorProduct({current_site: \"it * b^dagger\", up_neighbor: \"b\"}))\n",
    "                terms.append(ptn.TensorProduct({current_site: \"it * b\", up_neighbor: \"b^dagger\"}))\n",
    "    \n",
    "    # On-site interaction terms\n",
    "    for x in range(Lx):\n",
    "        for y in range(Ly):\n",
    "            current_site = f\"Site({x},{y})\"\n",
    "            terms.append(ptn.TensorProduct({current_site: \"-iU * n * (n - 1)\"}))\n",
    "    \n",
    "    # Chemical potential terms\n",
    "    for x in range(Lx):\n",
    "        for y in range(Ly):\n",
    "            current_site = f\"Site({x},{y})\"\n",
    "            terms.append(ptn.TensorProduct({current_site: \"m*n\"}))\n",
    "\n",
    "    H1 = ptn.Hamiltonian(terms, conversion_dict)\n",
    "    \n",
    "    conversion_dict = {\n",
    "        \"b^dagger.T\": creation_op.T,\n",
    "        \"b.T\": annihilation_op.T,\n",
    "        f\"I{d}\": np.eye(d)\n",
    "    }\n",
    "    \n",
    "    conversion_dict.update({\n",
    "        \"-it * b^dagger.T\": -t* 1.0j * creation_op.T,\n",
    "        \"-it * b.T\": -t* 1.0j * annihilation_op.T,\n",
    "        \"iU * n * (n - 1).T\": (U* 1.0j* number_op @ (number_op - np.eye(d))).T,\n",
    "        \"-m*n.T\": -m * number_op.T\n",
    "    })\n",
    "    \n",
    "    terms = []\n",
    "    \n",
    "    # Hopping terms\n",
    "    for x in range(Lx):\n",
    "        for y in range(Ly):\n",
    "            current_site = f\"Node({x},{y})\"\n",
    "            \n",
    "            # Horizontal connections\n",
    "            if x < Lx - 1:\n",
    "                right_neighbor = f\"Node({x+1},{y})\"\n",
    "                terms.append(ptn.TensorProduct({current_site: \"-it * b^dagger.T\", right_neighbor: \"b.T\"}))\n",
    "                terms.append(ptn.TensorProduct({current_site: \"-it * b.T\", right_neighbor: \"b^dagger.T\"}))\n",
    "            \n",
    "            # Vertical connections\n",
    "            if y < Ly - 1:\n",
    "                up_neighbor = f\"Node({x},{y+1})\"\n",
    "                terms.append(ptn.TensorProduct({current_site: \"-it * b^dagger.T\", up_neighbor: \"b.T\"}))\n",
    "                terms.append(ptn.TensorProduct({current_site: \"-it * b.T\", up_neighbor: \"b^dagger.T\"}))\n",
    "    \n",
    "    # On-site interaction terms\n",
    "    for x in range(Lx):\n",
    "        for y in range(Ly):\n",
    "            current_site = f\"Node({x},{y})\"\n",
    "            terms.append(ptn.TensorProduct({current_site: \"iU * n * (n - 1).T\"}))   \n",
    "\n",
    "    # Chemical potential terms\n",
    "    for x in range(Lx):\n",
    "        for y in range(Ly):\n",
    "            current_site = f\"Node({x},{y})\"\n",
    "            terms.append(ptn.TensorProduct({current_site: \"-m*n.T\"}))         \n",
    "\n",
    "    H2 = ptn.Hamiltonian(terms, conversion_dict)\n",
    "    H1.__add__(H2)\n",
    "    return H1"
   ]
  },
  {
   "cell_type": "code",
   "execution_count": 9,
   "metadata": {},
   "outputs": [],
   "source": [
    "def BoseHubbard_ham(t, U, m, Lx, Ly, d):\n",
    "    creation_op, annihilation_op, number_op = ptn.bosonic_operators(d)\n",
    "    \n",
    "    conversion_dict = {\n",
    "        \"b^dagger\": creation_op,\n",
    "        \"b\": annihilation_op,\n",
    "        f\"I{d}\": np.eye(d)}\n",
    "    \n",
    "    conversion_dict.update({\n",
    "        \"-t * b^dagger\": -t * creation_op,\n",
    "        \"-t * b\": -t * annihilation_op,\n",
    "        \"U * n * (n - 1)\": U * number_op @ (number_op - np.eye(d)),\n",
    "        \"-m*n\": -m * number_op\n",
    "    })\n",
    "    \n",
    "    terms = []\n",
    "    \n",
    "    # Hopping terms\n",
    "    for x in range(Lx):\n",
    "        for y in range(Ly):\n",
    "            current_site = f\"Site({x},{y})\"\n",
    "            \n",
    "            # Horizontal connections\n",
    "            if x < Lx - 1:\n",
    "                right_neighbor = f\"Site({x+1},{y})\"\n",
    "                terms.append(ptn.TensorProduct({current_site: \"-t * b^dagger\", right_neighbor: \"b\"}))\n",
    "                terms.append(ptn.TensorProduct({current_site: \"-t * b\", right_neighbor: \"b^dagger\"}))\n",
    "            \n",
    "            # Vertical connections\n",
    "            if y < Ly - 1:\n",
    "                up_neighbor = f\"Site({x},{y+1})\"\n",
    "                terms.append(ptn.TensorProduct({current_site: \"-t * b^dagger\", up_neighbor: \"b\"}))\n",
    "                terms.append(ptn.TensorProduct({current_site: \"-t * b\", up_neighbor: \"b^dagger\"}))\n",
    "    \n",
    "    # On-site interaction terms\n",
    "    for x in range(Lx):\n",
    "        for y in range(Ly):\n",
    "            current_site = f\"Site({x},{y})\"\n",
    "            terms.append(ptn.TensorProduct({current_site: \"U * n * (n - 1)\"}))\n",
    "    \n",
    "    # Chemical potential terms\n",
    "    for x in range(Lx):\n",
    "        for y in range(Ly):\n",
    "            current_site = f\"Site({x},{y})\"\n",
    "            terms.append(ptn.TensorProduct({current_site: \"-m*n\"}))\n",
    "\n",
    "    return ptn.Hamiltonian(terms, conversion_dict)\n",
    "\n",
    "def BoseHubbard_ham_tp(t, U, Lx, Ly):\n",
    "    creation_op, annihilation_op, number_op = ptn.bosonic_operators(d)\n",
    "    \n",
    "    conversion_dict = {\n",
    "        \"b^dagger\": creation_op,\n",
    "        \"b\": annihilation_op,\n",
    "        f\"I{d}\": np.eye(d)\n",
    "    }\n",
    "    \n",
    "    conversion_dict.update({\n",
    "        \"-t * b^dagger\": -t * creation_op,\n",
    "        \"-t * b\": -t * annihilation_op,\n",
    "        \"U * n * (n - 1)\": U * number_op @ (number_op - np.eye(d))\n",
    "    })\n",
    "    \n",
    "    terms = []\n",
    "    \n",
    "    # Hopping terms\n",
    "    for x in range(Lx):\n",
    "        for y in range(Ly):\n",
    "            current_site = f\"Site({x},{y})\"\n",
    "            \n",
    "            # Horizontal connections\n",
    "            if x < Lx - 1:\n",
    "                right_neighbor = f\"Site({x+1},{y})\"\n",
    "                terms.append(ptn.TensorProduct({current_site:  -t * creation_op, right_neighbor: annihilation_op}))\n",
    "                terms.append(ptn.TensorProduct({current_site: -t * annihilation_op, right_neighbor: creation_op}))\n",
    "            \n",
    "            # Vertical connections\n",
    "            if y < Ly - 1:\n",
    "                up_neighbor = f\"Site({x},{y+1})\"\n",
    "                terms.append(ptn.TensorProduct({current_site:  -t * creation_op, up_neighbor: annihilation_op}))\n",
    "                terms.append(ptn.TensorProduct({current_site: -t * annihilation_op, up_neighbor: creation_op}))\n",
    "    \n",
    "    # On-site interaction terms\n",
    "    for x in range(Lx):\n",
    "        for y in range(Ly):\n",
    "            current_site = f\"Site({x},{y})\"\n",
    "            terms.append(ptn.TensorProduct({current_site: U * number_op @ (number_op - np.eye(d))}))\n",
    "    \n",
    "    return terms"
   ]
  },
  {
   "cell_type": "code",
   "execution_count": 10,
   "metadata": {},
   "outputs": [],
   "source": [
    "def Number_op_total(Lx, Ly, dim=2):\n",
    "    creation_op, annihilation_op, number_op = ptn.bosonic_operators(dim)\n",
    "    conversion_dict = {\"n\": number_op , f\"I{dim}\": np.eye(dim)}\n",
    "\n",
    "    terms = []\n",
    "    for x in range(Lx):\n",
    "        for y in range(Ly):\n",
    "            current_site = f\"Site({x},{y})\"\n",
    "            terms.append(ptn.TensorProduct({current_site: \"n\"}))\n",
    "\n",
    "    return ptn.Hamiltonian(terms, conversion_dict)     \n",
    "\n",
    "def Number_op_local( node_id , dim=2):\n",
    "    creation_op, annihilation_op, number_op = ptn.bosonic_operators(dim)\n",
    "    conversion_dict = {\"n\": number_op , f\"I{dim}\": np.eye(dim)}\n",
    "\n",
    "    terms = []\n",
    "    terms.append(ptn.TensorProduct({node_id: \"n\"}))\n",
    "\n",
    "    return ptn.Hamiltonian(terms, conversion_dict)\n",
    "\n",
    "def Correlation_function(node_id1, node_id2, dim=2):\n",
    "    creation_op, annihilation_op, number_op = ptn.bosonic_operators(dim)\n",
    "    conversion_dict = {\n",
    "        \"b^dagger\": creation_op,\n",
    "        \"b\": annihilation_op,\n",
    "        f\"I{dim}\": np.eye(dim)\n",
    "    }\n",
    "    \n",
    "    terms = []\n",
    "    terms.append(ptn.TensorProduct({node_id1: \"b^dagger\", node_id2: \"b\"}))\n",
    "    return ptn.Hamiltonian(terms, conversion_dict)"
   ]
  },
  {
   "cell_type": "code",
   "execution_count": 11,
   "metadata": {},
   "outputs": [],
   "source": [
    "def exchange_bra_ket_tensors(ttn):\n",
    "    state = deepcopy(ttn)\n",
    "    ptn.adjust_bra_to_ket(state)\n",
    "    for ket_id in list(state.nodes.keys())[:(len(state.nodes.keys())//2)]:\n",
    "        i, j = ket_id.replace('Site(', '').replace(')', '').split(',')\n",
    "        bra_id = f\"Node({i},{j})\"\n",
    "        T1 = state.tensors[bra_id]\n",
    "        T2 = state.tensors[ket_id]\n",
    "        state.tensors[ket_id] = T1\n",
    "        state.nodes[ket_id].link_tensor(T1)\n",
    "        state.tensors[bra_id] = T2\n",
    "        state.nodes[bra_id].link_tensor(T2)\n",
    "    return state\n",
    "\n",
    "def substitute_out_or_in_legs_of_ttn_with_identity(state, out_or_in , bond_dim=2):\n",
    "    ttn = deepcopy(state)\n",
    "    if out_or_in == \"Out\":\n",
    "       for node_id in list(ttn.nodes.keys())[(len(ttn.nodes.keys())//2):]:\n",
    "        n = ttn.tensors[node_id].ndim - 1\n",
    "        T = np.reshape(np.array([[1,0]]), (n*(1,) + (2,)))\n",
    "        T = np.pad(T, n*((0, bond_dim-1),) + ((0, 0),))\n",
    "        ttn.tensors[node_id] = T\n",
    "        ttn.nodes[node_id].link_tensor(T)   \n",
    "    if out_or_in == \"In\":\n",
    "        for node_id in list(ttn.nodes.keys())[:len(ttn.nodes.keys())//2]:\n",
    "            n = ttn.tensors[node_id].ndim\n",
    "            T = ttn.tensors[node_id]\n",
    "            T = np.reshape(np.array([[1,0]]), (n*(1,) + (2,)))\n",
    "            T = np.pad(T, n*((0, bond_dim-1),) + ((0, 0),))\n",
    "            ttn.tensors[node_id] = T\n",
    "            ttn.nodes[node_id].link_tensor(T)        \n",
    "    return ttn\n"
   ]
  },
  {
   "cell_type": "code",
   "execution_count": 12,
   "metadata": {},
   "outputs": [
    {
     "name": "stdout",
     "output_type": "stream",
     "text": [
      "(2254860.13863589+5.820766091346741e-11j)\n",
      "(20752876.834805172-9.313225746154785e-10j)\n",
      "(-784677.9164673524-2.9103830456733704e-11j)\n",
      "340902.2253346687\n"
     ]
    }
   ],
   "source": [
    "t = 0.1\n",
    "U = 0.1\n",
    "m = 0.1\n",
    "\n",
    "# TTNO : Hamiltonian acting on in_legs\n",
    "H1 = BoseHubbard_ham(t, U, m, 3, 3, d)\n",
    "H1 = H1.pad_with_identities(ttn, symbolic= True)\n",
    "H = ptn.TTNO.from_hamiltonian(H1, ttn)\n",
    "\n",
    "# TTNO : Liouville operator \n",
    "creation_op, annihilation_op, number_op = ptn.bosonic_operators(d)\n",
    "L = annihilation_op \n",
    "J = 0.1\n",
    "H1 = Liouville(t, U, J, m ,L, 3, 3, d)\n",
    "H1 = H1.pad_with_identities(ttn , symbolic= True)\n",
    "L_fancy = ptn.TTNO.from_hamiltonian(H1, ttn)\n",
    "\n",
    "# TTNO : Unitary operator\n",
    "H1 = Unitary(t, U, m, 3, 3, d)\n",
    "H1 = H1.pad_with_identities(ttn, symbolic= True)\n",
    "U = ptn.TTNO.from_hamiltonian(H1, ttn)\n",
    "\n",
    "I = ptn.TTNO.Identity(ttn)\n",
    "\n",
    "N = Number_op_total(3, 3, d)\n",
    "N = N.pad_with_identities(ttn, symbolic= True)\n",
    "N = ptn.TTNO.from_hamiltonian(N, ttn)\n",
    "\n",
    "n_site_dict = {}\n",
    "for node in list(ttn.nodes.values())[:(len(ttn.nodes.keys())//2)]:\n",
    "    node_id = node.identifier\n",
    "    n_site = Number_op_local(node_id, d)\n",
    "    n_site = n_site.pad_with_identities(ttn, symbolic=True)\n",
    "    n_site = ptn.TTNO.from_hamiltonian(n_site, ttn)\n",
    "    n_site_dict[f'n_{node_id}'] = n_site\n",
    "n_site_list = list(n_site_dict.values())\n",
    "\n",
    "# Correlation function\n",
    "node_id1 = \"Site(0,0)\"\n",
    "node_id2 = \"Site(2,2)\"\n",
    "H1 = Correlation_function(node_id1, node_id2, d)\n",
    "H1 = H1.pad_with_identities(ttn, symbolic= True)\n",
    "Corr = ptn.TTNO.from_hamiltonian(H1, ttn)\n",
    "\n",
    "print(ttn.operator_expectation_value_Lindblad(I))\n",
    "print(ttn.operator_expectation_value_Lindblad(N))\n",
    "print(ttn.operator_expectation_value_Lindblad(H))\n",
    "print(np.linalg.norm(ttn.operator_expectation_value_Lindblad(Corr)))\n"
   ]
  },
  {
   "cell_type": "code",
   "execution_count": 13,
   "metadata": {},
   "outputs": [],
   "source": [
    "#ttn = ptn.expand_subspace(ttn, U, 3, 0.001, ptn.SVDParameters(max_bond_dim = 24 , rel_tol= 1e-8 , total_tol = -np.inf)\n",
    "#                          ,1e-30, ptn.KrylovBasisMode.apply_1st_order_expansion)\n",
    "#ttn.max_bond_dim()"
   ]
  },
  {
   "cell_type": "code",
   "execution_count": 14,
   "metadata": {},
   "outputs": [
    {
     "name": "stdout",
     "output_type": "stream",
     "text": [
      "0 0\n",
      "0 1\n",
      "1 0\n",
      "1 1\n",
      "2 0\n",
      "2 1\n",
      "3 0\n",
      "3 1\n"
     ]
    }
   ],
   "source": [
    "for j in range(4) : \n",
    "    for i in range(5):\n",
    "        if i == 2:  # Stop the loop when i is 2\n",
    "            break\n",
    "        print(j , i)\n",
    "    \n"
   ]
  },
  {
   "cell_type": "code",
   "execution_count": 15,
   "metadata": {},
   "outputs": [],
   "source": [
    "# Config : Lindblad = True\n",
    "# time_evolve with exponent = hamiltonian * time_difference\n",
    "# evaluate_operator with operator_expectation_value_Lindblad(operator)\n",
    "# normalize_ttn_Lindblad after each run_one_time_step_ex\n",
    "\n",
    "tdvp_ex1 = ptn.SecondOrderOneSiteTDVP(initial_state = ttn,\n",
    "                                     hamiltonian = L_fancy,\n",
    "                                     time_step_size = 0.01,\n",
    "                                     final_time = 0.8,\n",
    "                                     operators = [H ,N, Corr],\n",
    "                                     num_vecs = 3,\n",
    "                                     tau = 1e-3,\n",
    "                                     SVDParameters = ptn.SVDParameters(max_bond_dim = np.inf , rel_tol= 1e-1 , total_tol = -np.inf),\n",
    "                                     expansion_steps = 5,\n",
    "\n",
    "                                     Lanczos_threshold = 400,\n",
    "                                     k_fraction = 0.5, \n",
    "                                     validity_fraction = 0.4, \n",
    "                                     increase_fraction = 0.3,\n",
    "                                     max_iter = 3, \n",
    "\n",
    "                                     initial_tol= 1e-18,\n",
    "                                     tol_step= 10,\n",
    "                                     rel_max_bond = 5,\n",
    "                                     max_bond= 60,\n",
    "                                     norm_tol= 0.5,\n",
    "                                     KrylovBasisMode = ptn.KrylovBasisMode.apply_1st_order_expansion,\n",
    "                                     config = ptn.TTNTimeEvolutionConfig(record_bond_dim=True,\n",
    "                                                                         Lindblad = True) )"
   ]
  },
  {
   "cell_type": "code",
   "execution_count": 16,
   "metadata": {},
   "outputs": [
    {
     "name": "stderr",
     "output_type": "stream",
     "text": [
      "\n",
      "KeyboardInterrupt\n",
      "\n"
     ]
    }
   ],
   "source": [
    "c"
   ]
  },
  {
   "cell_type": "code",
   "execution_count": 17,
   "metadata": {},
   "outputs": [
    {
     "name": "stderr",
     "output_type": "stream",
     "text": [
      "  2%|▏         | 2/81 [00:00<00:05, 13.47it/s]"
     ]
    },
    {
     "name": "stdout",
     "output_type": "stream",
     "text": [
      "___________________\n",
      "TTN : 2 ---> T3NS : 4 TTN : 2\n",
      "___________________\n",
      "___________________\n",
      "TTN : 2 ---> T3NS : 4 TTN : 2\n",
      "___________________\n",
      "___________________\n"
     ]
    },
    {
     "name": "stderr",
     "output_type": "stream",
     "text": [
      "  5%|▍         | 4/81 [00:00<00:06, 11.74it/s]"
     ]
    },
    {
     "name": "stdout",
     "output_type": "stream",
     "text": [
      "TTN : 2 ---> T3NS : 4 TTN : 2\n",
      "___________________\n",
      "___________________\n",
      "TTN : 2 ---> T3NS : 4 TTN : 2\n",
      "___________________\n",
      "___________________\n",
      "TTN : 2 ---> T3NS : 4 TTN : 2\n",
      "___________________\n",
      "___________________\n",
      "tol : 1e-18\n"
     ]
    },
    {
     "name": "stderr",
     "output_type": "stream",
     "text": [
      "  7%|▋         | 6/81 [00:00<00:09,  8.22it/s]"
     ]
    },
    {
     "name": "stdout",
     "output_type": "stream",
     "text": [
      "expansion : 4 ---> 8\n",
      "TTN : 2 ---> T3NS : 4 TTN : 8\n",
      "expanded_dim : 6\n",
      "___________________\n",
      "___________________\n"
     ]
    },
    {
     "name": "stderr",
     "output_type": "stream",
     "text": [
      "  9%|▊         | 7/81 [00:01<00:15,  4.85it/s]"
     ]
    },
    {
     "name": "stdout",
     "output_type": "stream",
     "text": [
      "TTN : 8 ---> T3NS : 24 TTN : 8\n",
      "___________________\n",
      "___________________\n"
     ]
    },
    {
     "name": "stderr",
     "output_type": "stream",
     "text": [
      " 10%|▉         | 8/81 [00:01<00:20,  3.65it/s]"
     ]
    },
    {
     "name": "stdout",
     "output_type": "stream",
     "text": [
      "TTN : 8 ---> T3NS : 24 TTN : 8\n",
      "___________________\n",
      "___________________\n"
     ]
    },
    {
     "name": "stderr",
     "output_type": "stream",
     "text": [
      " 11%|█         | 9/81 [00:01<00:22,  3.26it/s]"
     ]
    },
    {
     "name": "stdout",
     "output_type": "stream",
     "text": [
      "TTN : 8 ---> T3NS : 18 TTN : 8\n",
      "___________________\n",
      "___________________\n"
     ]
    },
    {
     "name": "stderr",
     "output_type": "stream",
     "text": [
      " 12%|█▏        | 10/81 [00:02<00:25,  2.82it/s]"
     ]
    },
    {
     "name": "stdout",
     "output_type": "stream",
     "text": [
      "TTN : 8 ---> T3NS : 24 TTN : 8\n",
      "___________________\n",
      "___________________\n"
     ]
    },
    {
     "name": "stderr",
     "output_type": "stream",
     "text": [
      " 14%|█▎        | 11/81 [00:02<00:26,  2.67it/s]"
     ]
    },
    {
     "name": "stdout",
     "output_type": "stream",
     "text": [
      "TTN : 8 ---> T3NS : 18 TTN : 8\n",
      "___________________\n",
      "___________________\n",
      "tol : 1e-17\n"
     ]
    },
    {
     "name": "stderr",
     "output_type": "stream",
     "text": [
      " 15%|█▍        | 12/81 [00:06<01:31,  1.33s/it]"
     ]
    },
    {
     "name": "stdout",
     "output_type": "stream",
     "text": [
      "expansion : 24 ---> 21\n",
      "TTN : 8 ---> T3NS : 24 TTN : 8\n",
      "expanded_dim : 0\n",
      "___________________\n",
      "___________________\n"
     ]
    },
    {
     "name": "stderr",
     "output_type": "stream",
     "text": [
      " 16%|█▌        | 13/81 [00:07<01:17,  1.14s/it]"
     ]
    },
    {
     "name": "stdout",
     "output_type": "stream",
     "text": [
      "TTN : 8 ---> T3NS : 24 TTN : 8\n",
      "___________________\n",
      "___________________\n"
     ]
    },
    {
     "name": "stderr",
     "output_type": "stream",
     "text": [
      " 17%|█▋        | 14/81 [00:07<01:05,  1.02it/s]"
     ]
    },
    {
     "name": "stdout",
     "output_type": "stream",
     "text": [
      "TTN : 8 ---> T3NS : 24 TTN : 8\n",
      "___________________\n",
      "___________________\n"
     ]
    },
    {
     "name": "stderr",
     "output_type": "stream",
     "text": [
      " 19%|█▊        | 15/81 [00:08<00:58,  1.14it/s]"
     ]
    },
    {
     "name": "stdout",
     "output_type": "stream",
     "text": [
      "TTN : 8 ---> T3NS : 24 TTN : 8\n",
      "___________________\n",
      "___________________\n"
     ]
    },
    {
     "name": "stderr",
     "output_type": "stream",
     "text": [
      " 20%|█▉        | 16/81 [00:09<00:53,  1.22it/s]"
     ]
    },
    {
     "name": "stdout",
     "output_type": "stream",
     "text": [
      "TTN : 8 ---> T3NS : 24 TTN : 8\n",
      "___________________\n",
      "___________________\n"
     ]
    },
    {
     "name": "stderr",
     "output_type": "stream",
     "text": [
      " 21%|██        | 17/81 [00:09<00:48,  1.31it/s]"
     ]
    },
    {
     "name": "stdout",
     "output_type": "stream",
     "text": [
      "TTN : 8 ---> T3NS : 24 TTN : 8\n",
      "___________________\n",
      "___________________\n",
      "tol : 1e-18\n"
     ]
    },
    {
     "name": "stderr",
     "output_type": "stream",
     "text": [
      " 22%|██▏       | 18/81 [00:14<01:53,  1.80s/it]"
     ]
    },
    {
     "name": "stdout",
     "output_type": "stream",
     "text": [
      "expansion : 24 ---> 24\n",
      "TTN : 8 ---> T3NS : 24 TTN : 15\n",
      "expanded_dim : 7\n",
      "___________________\n",
      "___________________\n"
     ]
    },
    {
     "name": "stderr",
     "output_type": "stream",
     "text": [
      " 23%|██▎       | 19/81 [00:20<03:10,  3.08s/it]"
     ]
    },
    {
     "name": "stdout",
     "output_type": "stream",
     "text": [
      "TTN : 15 ---> T3NS : 27 TTN : 15\n",
      "___________________\n",
      "___________________\n"
     ]
    },
    {
     "name": "stderr",
     "output_type": "stream",
     "text": [
      " 25%|██▍       | 20/81 [00:29<04:57,  4.88s/it]"
     ]
    },
    {
     "name": "stdout",
     "output_type": "stream",
     "text": [
      "TTN : 15 ---> T3NS : 45 TTN : 15\n",
      "___________________\n",
      "___________________\n"
     ]
    },
    {
     "name": "stderr",
     "output_type": "stream",
     "text": [
      " 26%|██▌       | 21/81 [00:36<05:36,  5.60s/it]"
     ]
    },
    {
     "name": "stdout",
     "output_type": "stream",
     "text": [
      "TTN : 15 ---> T3NS : 30 TTN : 15\n",
      "___________________\n",
      "___________________\n"
     ]
    },
    {
     "name": "stderr",
     "output_type": "stream",
     "text": [
      " 27%|██▋       | 22/81 [00:44<06:04,  6.18s/it]"
     ]
    },
    {
     "name": "stdout",
     "output_type": "stream",
     "text": [
      "TTN : 15 ---> T3NS : 30 TTN : 15\n",
      "___________________\n",
      "___________________\n"
     ]
    },
    {
     "name": "stderr",
     "output_type": "stream",
     "text": [
      " 28%|██▊       | 23/81 [00:51<06:28,  6.70s/it]"
     ]
    },
    {
     "name": "stdout",
     "output_type": "stream",
     "text": [
      "TTN : 15 ---> T3NS : 27 TTN : 15\n",
      "___________________\n",
      "___________________\n",
      "tol : 1e-17\n"
     ]
    },
    {
     "name": "stderr",
     "output_type": "stream",
     "text": [
      " 30%|██▉       | 24/81 [01:22<13:02, 13.74s/it]"
     ]
    },
    {
     "name": "stdout",
     "output_type": "stream",
     "text": [
      "expansion : 39 ---> 37\n",
      "TTN : 15 ---> T3NS : 39 TTN : 19\n",
      "expanded_dim : 4\n",
      "___________________\n",
      "___________________\n"
     ]
    },
    {
     "name": "stderr",
     "output_type": "stream",
     "text": [
      " 31%|███       | 25/81 [01:37<13:09, 14.09s/it]"
     ]
    },
    {
     "name": "stdout",
     "output_type": "stream",
     "text": [
      "TTN : 19 ---> T3NS : 27 TTN : 19\n",
      "___________________\n",
      "___________________\n"
     ]
    },
    {
     "name": "stderr",
     "output_type": "stream",
     "text": [
      " 32%|███▏      | 26/81 [01:54<13:44, 14.98s/it]"
     ]
    },
    {
     "name": "stdout",
     "output_type": "stream",
     "text": [
      "TTN : 19 ---> T3NS : 48 TTN : 19\n",
      "___________________\n",
      "___________________\n"
     ]
    },
    {
     "name": "stderr",
     "output_type": "stream",
     "text": [
      " 33%|███▎      | 27/81 [02:09<13:29, 14.99s/it]"
     ]
    },
    {
     "name": "stdout",
     "output_type": "stream",
     "text": [
      "TTN : 19 ---> T3NS : 30 TTN : 19\n",
      "___________________\n",
      "___________________\n"
     ]
    },
    {
     "name": "stderr",
     "output_type": "stream",
     "text": [
      " 35%|███▍      | 28/81 [02:28<14:31, 16.44s/it]"
     ]
    },
    {
     "name": "stdout",
     "output_type": "stream",
     "text": [
      "TTN : 19 ---> T3NS : 57 TTN : 19\n",
      "___________________\n",
      "___________________\n"
     ]
    },
    {
     "name": "stderr",
     "output_type": "stream",
     "text": [
      " 36%|███▌      | 29/81 [02:45<14:22, 16.59s/it]"
     ]
    },
    {
     "name": "stdout",
     "output_type": "stream",
     "text": [
      "TTN : 19 ---> T3NS : 27 TTN : 19\n",
      "___________________\n",
      "___________________\n",
      "tol : 1e-17\n"
     ]
    },
    {
     "name": "stderr",
     "output_type": "stream",
     "text": [
      " 37%|███▋      | 30/81 [03:33<21:55, 25.79s/it]"
     ]
    },
    {
     "name": "stdout",
     "output_type": "stream",
     "text": [
      "expansion : 48 ---> 48\n",
      "TTN : 19 ---> T3NS : 48 TTN : 21\n",
      "expanded_dim : 2\n",
      "___________________\n",
      "___________________\n"
     ]
    },
    {
     "name": "stderr",
     "output_type": "stream",
     "text": [
      " 37%|███▋      | 30/81 [03:37<06:10,  7.27s/it]\n"
     ]
    },
    {
     "ename": "KeyboardInterrupt",
     "evalue": "",
     "output_type": "error",
     "traceback": [
      "\u001b[1;31m---------------------------------------------------------------------------\u001b[0m",
      "\u001b[1;31mKeyboardInterrupt\u001b[0m                         Traceback (most recent call last)",
      "Cell \u001b[1;32mIn[17], line 1\u001b[0m\n\u001b[1;32m----> 1\u001b[0m \u001b[43mtdvp_ex1\u001b[49m\u001b[38;5;241;43m.\u001b[39;49m\u001b[43mrun_ex\u001b[49m\u001b[43m(\u001b[49m\u001b[43mevaluation_time\u001b[49m\u001b[38;5;241;43m=\u001b[39;49m\u001b[38;5;241;43m2\u001b[39;49m\u001b[43m)\u001b[49m\n",
      "File \u001b[1;32mc:\\Users\\edpou\\Desktop\\Ed\\PyTreeNet-Project_05\\pytreenet\\time_evolution\\tdvp_algorithms\\secondorderonesite.py:319\u001b[0m, in \u001b[0;36mSecondOrderOneSiteTDVP.run_ex\u001b[1;34m(self, evaluation_time, filepath, pgbar)\u001b[0m\n\u001b[0;32m    314\u001b[0m \u001b[38;5;66;03m############################\u001b[39;00m\n\u001b[0;32m    316\u001b[0m after_norm_max_bond \u001b[38;5;241m=\u001b[39m \u001b[38;5;28mself\u001b[39m\u001b[38;5;241m.\u001b[39mstate\u001b[38;5;241m.\u001b[39mmax_bond_dim()\n\u001b[1;32m--> 319\u001b[0m \u001b[38;5;28;43mself\u001b[39;49m\u001b[38;5;241;43m.\u001b[39;49m\u001b[43mrun_one_time_step_ex\u001b[49m\u001b[43m(\u001b[49m\u001b[43m)\u001b[49m \n\u001b[0;32m    321\u001b[0m \u001b[38;5;66;03m########### EXAPNSION ###########\u001b[39;00m\n\u001b[0;32m    322\u001b[0m \u001b[38;5;28;01mif\u001b[39;00m (i\u001b[38;5;241m+\u001b[39m\u001b[38;5;241m1\u001b[39m) \u001b[38;5;241m%\u001b[39m (\u001b[38;5;28mself\u001b[39m\u001b[38;5;241m.\u001b[39mexpansion_steps\u001b[38;5;241m+\u001b[39m\u001b[38;5;241m1\u001b[39m) \u001b[38;5;241m==\u001b[39m \u001b[38;5;241m0\u001b[39m \u001b[38;5;129;01mand\u001b[39;00m should_expand:  \n",
      "File \u001b[1;32mc:\\Users\\edpou\\Desktop\\Ed\\PyTreeNet-Project_05\\pytreenet\\time_evolution\\tdvp_algorithms\\secondorderonesite.py:259\u001b[0m, in \u001b[0;36mSecondOrderOneSiteTDVP.run_one_time_step_ex\u001b[1;34m(self)\u001b[0m\n\u001b[0;32m    251\u001b[0m \u001b[38;5;28;01mdef\u001b[39;00m \u001b[38;5;21mrun_one_time_step_ex\u001b[39m(\u001b[38;5;28mself\u001b[39m):\n\u001b[0;32m    252\u001b[0m \u001b[38;5;250m    \u001b[39m\u001b[38;5;124;03m\"\"\"\u001b[39;00m\n\u001b[0;32m    253\u001b[0m \u001b[38;5;124;03m    Run a single second order time step.\u001b[39;00m\n\u001b[0;32m    254\u001b[0m \u001b[38;5;124;03m    \u001b[39;00m\n\u001b[0;32m    255\u001b[0m \u001b[38;5;124;03m    This mean we run a full forward and a full backward sweep through the\u001b[39;00m\n\u001b[0;32m    256\u001b[0m \u001b[38;5;124;03m    tree.\u001b[39;00m\n\u001b[0;32m    257\u001b[0m \u001b[38;5;124;03m    \"\"\"\u001b[39;00m\n\u001b[1;32m--> 259\u001b[0m     \u001b[38;5;28;43mself\u001b[39;49m\u001b[38;5;241;43m.\u001b[39;49m\u001b[43mforward_sweep_ex\u001b[49m\u001b[43m(\u001b[49m\u001b[43m)\u001b[49m\n\u001b[0;32m    260\u001b[0m     \u001b[38;5;28mself\u001b[39m\u001b[38;5;241m.\u001b[39m_final_forward_update()\n\u001b[0;32m    261\u001b[0m     \u001b[38;5;28mself\u001b[39m\u001b[38;5;241m.\u001b[39mbackward_sweep()\n",
      "File \u001b[1;32mc:\\Users\\edpou\\Desktop\\Ed\\PyTreeNet-Project_05\\pytreenet\\time_evolution\\tdvp_algorithms\\secondorderonesite.py:249\u001b[0m, in \u001b[0;36mSecondOrderOneSiteTDVP.forward_sweep_ex\u001b[1;34m(self)\u001b[0m\n\u001b[0;32m    247\u001b[0m next_node_id \u001b[38;5;241m=\u001b[39m \u001b[38;5;28mself\u001b[39m\u001b[38;5;241m.\u001b[39morthogonalization_path[i][\u001b[38;5;241m0\u001b[39m]\n\u001b[0;32m    248\u001b[0m \u001b[38;5;66;03m# Update\u001b[39;00m\n\u001b[1;32m--> 249\u001b[0m \u001b[38;5;28;43mself\u001b[39;49m\u001b[38;5;241;43m.\u001b[39;49m\u001b[43m_update_forward_site_and_link\u001b[49m\u001b[43m(\u001b[49m\u001b[43mnode_id\u001b[49m\u001b[43m,\u001b[49m\u001b[43m \u001b[49m\u001b[43mnext_node_id\u001b[49m\u001b[43m)\u001b[49m\n",
      "File \u001b[1;32mc:\\Users\\edpou\\Desktop\\Ed\\PyTreeNet-Project_05\\pytreenet\\time_evolution\\tdvp_algorithms\\secondorderonesite.py:138\u001b[0m, in \u001b[0;36mSecondOrderOneSiteTDVP._update_forward_site_and_link\u001b[1;34m(self, node_id, next_node_id)\u001b[0m\n\u001b[0;32m    128\u001b[0m \u001b[38;5;250m\u001b[39m\u001b[38;5;124;03m\"\"\"\u001b[39;00m\n\u001b[0;32m    129\u001b[0m \u001b[38;5;124;03mRun the forward update with half time step.\u001b[39;00m\n\u001b[0;32m    130\u001b[0m \n\u001b[1;32m   (...)\u001b[0m\n\u001b[0;32m    135\u001b[0m \u001b[38;5;124;03m    next_node_id (str): The other node of the link to be updated.\u001b[39;00m\n\u001b[0;32m    136\u001b[0m \u001b[38;5;124;03m\"\"\"\u001b[39;00m\n\u001b[0;32m    137\u001b[0m \u001b[38;5;28;01massert\u001b[39;00m \u001b[38;5;28mself\u001b[39m\u001b[38;5;241m.\u001b[39mstate\u001b[38;5;241m.\u001b[39morthogonality_center_id \u001b[38;5;241m==\u001b[39m node_id\n\u001b[1;32m--> 138\u001b[0m \u001b[38;5;28;43mself\u001b[39;49m\u001b[38;5;241;43m.\u001b[39;49m\u001b[43m_update_site\u001b[49m\u001b[43m(\u001b[49m\u001b[43mnode_id\u001b[49m\u001b[43m,\u001b[49m\n\u001b[0;32m    139\u001b[0m \u001b[43m                  \u001b[49m\u001b[43mtime_step_factor\u001b[49m\u001b[38;5;241;43m=\u001b[39;49m\u001b[38;5;241;43m0.5\u001b[39;49m\u001b[43m)\u001b[49m\n\u001b[0;32m    140\u001b[0m \u001b[38;5;28mself\u001b[39m\u001b[38;5;241m.\u001b[39m_update_link(node_id, next_node_id,\n\u001b[0;32m    141\u001b[0m                   time_step_factor\u001b[38;5;241m=\u001b[39m\u001b[38;5;241m0.5\u001b[39m)\n",
      "File \u001b[1;32mc:\\Users\\edpou\\Desktop\\Ed\\PyTreeNet-Project_05\\pytreenet\\time_evolution\\tdvp_algorithms\\tdvp_algorithm.py:305\u001b[0m, in \u001b[0;36mTDVPAlgorithm._update_site\u001b[1;34m(self, node_id, time_step_factor)\u001b[0m\n\u001b[0;32m    295\u001b[0m \u001b[38;5;28;01mdef\u001b[39;00m \u001b[38;5;21m_update_site\u001b[39m(\u001b[38;5;28mself\u001b[39m, node_id: \u001b[38;5;28mstr\u001b[39m,\n\u001b[0;32m    296\u001b[0m                  time_step_factor: \u001b[38;5;28mfloat\u001b[39m \u001b[38;5;241m=\u001b[39m \u001b[38;5;241m1\u001b[39m):\n\u001b[0;32m    297\u001b[0m \u001b[38;5;250m    \u001b[39m\u001b[38;5;124;03m\"\"\"\u001b[39;00m\n\u001b[0;32m    298\u001b[0m \u001b[38;5;124;03m    Updates a single site using the effective Hamiltonian for that site.\u001b[39;00m\n\u001b[0;32m    299\u001b[0m \n\u001b[1;32m   (...)\u001b[0m\n\u001b[0;32m    303\u001b[0m \u001b[38;5;124;03m            multiplied with the internal time step size. Defaults to 1.\u001b[39;00m\n\u001b[0;32m    304\u001b[0m \u001b[38;5;124;03m    \"\"\"\u001b[39;00m\n\u001b[1;32m--> 305\u001b[0m     hamiltonian_eff_site \u001b[38;5;241m=\u001b[39m \u001b[38;5;28;43mself\u001b[39;49m\u001b[38;5;241;43m.\u001b[39;49m\u001b[43m_get_effective_site_hamiltonian\u001b[49m\u001b[43m(\u001b[49m\u001b[43mnode_id\u001b[49m\u001b[43m)\u001b[49m\n\u001b[0;32m    306\u001b[0m     psi \u001b[38;5;241m=\u001b[39m \u001b[38;5;28mself\u001b[39m\u001b[38;5;241m.\u001b[39mstate\u001b[38;5;241m.\u001b[39mtensors[node_id]\n\u001b[0;32m    307\u001b[0m     \u001b[38;5;28mself\u001b[39m\u001b[38;5;241m.\u001b[39mstate\u001b[38;5;241m.\u001b[39mtensors[node_id] \u001b[38;5;241m=\u001b[39m time_evolve(psi,\n\u001b[0;32m    308\u001b[0m                                               hamiltonian_eff_site,\n\u001b[0;32m    309\u001b[0m                                               \u001b[38;5;28mself\u001b[39m\u001b[38;5;241m.\u001b[39mtime_step_size \u001b[38;5;241m*\u001b[39m time_step_factor,\n\u001b[0;32m    310\u001b[0m                                               forward\u001b[38;5;241m=\u001b[39m\u001b[38;5;28;01mTrue\u001b[39;00m,\n\u001b[0;32m    311\u001b[0m                                               real\u001b[38;5;241m=\u001b[39m\u001b[38;5;28mself\u001b[39m\u001b[38;5;241m.\u001b[39mLindblad)\n",
      "File \u001b[1;32mc:\\Users\\edpou\\Desktop\\Ed\\PyTreeNet-Project_05\\pytreenet\\time_evolution\\tdvp_algorithms\\tdvp_algorithm.py:292\u001b[0m, in \u001b[0;36mTDVPAlgorithm._get_effective_site_hamiltonian\u001b[1;34m(self, node_id)\u001b[0m\n\u001b[0;32m    281\u001b[0m \u001b[38;5;28;01mdef\u001b[39;00m \u001b[38;5;21m_get_effective_site_hamiltonian\u001b[39m(\u001b[38;5;28mself\u001b[39m,\n\u001b[0;32m    282\u001b[0m                                     node_id: \u001b[38;5;28mstr\u001b[39m) \u001b[38;5;241m-\u001b[39m\u001b[38;5;241m>\u001b[39m np\u001b[38;5;241m.\u001b[39mndarray:\n\u001b[0;32m    283\u001b[0m \u001b[38;5;250m    \u001b[39m\u001b[38;5;124;03m\"\"\"\u001b[39;00m\n\u001b[0;32m    284\u001b[0m \u001b[38;5;124;03m    Obtains the effective site Hamiltonian as a matrix.\u001b[39;00m\n\u001b[0;32m    285\u001b[0m \n\u001b[1;32m   (...)\u001b[0m\n\u001b[0;32m    290\u001b[0m \u001b[38;5;124;03m        np.ndarray: The effective site Hamiltonian\u001b[39;00m\n\u001b[0;32m    291\u001b[0m \u001b[38;5;124;03m    \"\"\"\u001b[39;00m\n\u001b[1;32m--> 292\u001b[0m     tensor \u001b[38;5;241m=\u001b[39m \u001b[38;5;28;43mself\u001b[39;49m\u001b[38;5;241;43m.\u001b[39;49m\u001b[43m_contract_all_except_node\u001b[49m\u001b[43m(\u001b[49m\u001b[43mnode_id\u001b[49m\u001b[43m)\u001b[49m\n\u001b[0;32m    293\u001b[0m     \u001b[38;5;28;01mreturn\u001b[39;00m tensor_matricisation_half(tensor)\n",
      "File \u001b[1;32mc:\\Users\\edpou\\Desktop\\Ed\\PyTreeNet-Project_05\\pytreenet\\time_evolution\\tdvp_algorithms\\tdvp_algorithm.py:274\u001b[0m, in \u001b[0;36mTDVPAlgorithm._contract_all_except_node\u001b[1;34m(self, target_node_id)\u001b[0m\n\u001b[0;32m    271\u001b[0m \u001b[38;5;28;01mfor\u001b[39;00m neighbour_id \u001b[38;5;129;01min\u001b[39;00m neighbours:\n\u001b[0;32m    272\u001b[0m     cached_tensor \u001b[38;5;241m=\u001b[39m \u001b[38;5;28mself\u001b[39m\u001b[38;5;241m.\u001b[39mpartial_tree_cache\u001b[38;5;241m.\u001b[39mget_entry(neighbour_id,\n\u001b[0;32m    273\u001b[0m                                                         target_node_id)\n\u001b[1;32m--> 274\u001b[0m     tensor \u001b[38;5;241m=\u001b[39m \u001b[43mnp\u001b[49m\u001b[38;5;241;43m.\u001b[39;49m\u001b[43mtensordot\u001b[49m\u001b[43m(\u001b[49m\u001b[43mtensor\u001b[49m\u001b[43m,\u001b[49m\u001b[43m \u001b[49m\u001b[43mcached_tensor\u001b[49m\u001b[43m,\u001b[49m\n\u001b[0;32m    275\u001b[0m \u001b[43m                          \u001b[49m\u001b[43maxes\u001b[49m\u001b[38;5;241;43m=\u001b[39;49m\u001b[43m(\u001b[49m\u001b[43m(\u001b[49m\u001b[38;5;241;43m0\u001b[39;49m\u001b[43m,\u001b[49m\u001b[38;5;241;43m1\u001b[39;49m\u001b[43m)\u001b[49m\u001b[43m)\u001b[49m\u001b[43m)\u001b[49m\n\u001b[0;32m    276\u001b[0m \u001b[38;5;66;03m# Transposing to have correct leg order\u001b[39;00m\n\u001b[0;32m    277\u001b[0m axes \u001b[38;5;241m=\u001b[39m \u001b[38;5;28mself\u001b[39m\u001b[38;5;241m.\u001b[39m_find_tensor_leg_permutation(target_node_id)\n",
      "File \u001b[1;32mc:\\Users\\edpou\\AppData\\Local\\Programs\\Python\\Python312\\Lib\\site-packages\\numpy\\core\\numeric.py:1121\u001b[0m, in \u001b[0;36mtensordot\u001b[1;34m(a, b, axes)\u001b[0m\n\u001b[0;32m   1119\u001b[0m at \u001b[38;5;241m=\u001b[39m a\u001b[38;5;241m.\u001b[39mtranspose(newaxes_a)\u001b[38;5;241m.\u001b[39mreshape(newshape_a)\n\u001b[0;32m   1120\u001b[0m bt \u001b[38;5;241m=\u001b[39m b\u001b[38;5;241m.\u001b[39mtranspose(newaxes_b)\u001b[38;5;241m.\u001b[39mreshape(newshape_b)\n\u001b[1;32m-> 1121\u001b[0m res \u001b[38;5;241m=\u001b[39m \u001b[43mdot\u001b[49m\u001b[43m(\u001b[49m\u001b[43mat\u001b[49m\u001b[43m,\u001b[49m\u001b[43m \u001b[49m\u001b[43mbt\u001b[49m\u001b[43m)\u001b[49m\n\u001b[0;32m   1122\u001b[0m \u001b[38;5;28;01mreturn\u001b[39;00m res\u001b[38;5;241m.\u001b[39mreshape(olda \u001b[38;5;241m+\u001b[39m oldb)\n",
      "\u001b[1;31mKeyboardInterrupt\u001b[0m: "
     ]
    }
   ],
   "source": [
    "tdvp_ex1.run_ex(evaluation_time=2)\n"
   ]
  },
  {
   "cell_type": "code",
   "execution_count": null,
   "metadata": {},
   "outputs": [],
   "source": [
    "ttn = tdvp_ex1.state\n",
    "ttn.canonical_form(tdvp_ex1.update_path[0], mode = ptn.SplitMode.FULL)\n",
    "ttn.max_bond_dim()"
   ]
  },
  {
   "cell_type": "code",
   "execution_count": null,
   "metadata": {},
   "outputs": [],
   "source": []
  },
  {
   "cell_type": "code",
   "execution_count": 18,
   "metadata": {},
   "outputs": [
    {
     "data": {
      "image/png": "[encoded data removed]",
      "text/plain": [
       "<Figure size 1200x600 with 1 Axes>"
      ]
     },
     "metadata": {},
     "output_type": "display_data"
    }
   ],
   "source": [
    "import matplotlib.pyplot as plt\n",
    "\n",
    "fig, ax = plt.subplots(figsize=(12, 6))\n",
    "\n",
    "for key, values in tdvp_ex1.bond_dims.items():\n",
    "    x = list(range(len(values)))\n",
    "    ax.plot(x, values, color='blue')\n",
    "\n",
    "#blue_patch = plt.Line2D([0], [0], color='blue', label='QR-split form (8 min)')\n",
    "\n",
    "ax.set_xlabel('Index')\n",
    "ax.set_ylabel('Bond dimensions')\n",
    "ax.set_title('time (tiem_step = 0.01)')\n",
    "\n",
    "\n",
    "plt.show()\n"
   ]
  },
  {
   "cell_type": "code",
   "execution_count": 19,
   "metadata": {},
   "outputs": [],
   "source": [
    "times = tdvp_ex1.times()\n",
    "results_H = tdvp_ex1.operator_results()[0]\n",
    "results_N = tdvp_ex1.operator_results()[1]\n",
    "results_Corr = [np.linalg.norm(a) for a in tdvp_ex1.operator_results()[2]]"
   ]
  },
  {
   "cell_type": "code",
   "execution_count": 24,
   "metadata": {},
   "outputs": [
    {
     "data": {
      "text/plain": [
       "<matplotlib.legend.Legend at 0x25d19b7e060>"
      ]
     },
     "execution_count": 24,
     "metadata": {},
     "output_type": "execute_result"
    },
    {
     "data": {
      "image/png": "[encoded data removed]",
      "text/plain": [
       "<Figure size 500x500 with 1 Axes>"
      ]
     },
     "metadata": {},
     "output_type": "display_data"
    }
   ],
   "source": [
    "import matplotlib.pyplot as plt\n",
    "\n",
    "fig1, axs1 = plt.subplots(1, 1, sharex=True, figsize=(5,5))\n",
    "\n",
    "axs1.plot(times, results_N , label=\"N\")\n",
    "#axs1.plot(times, results_H , label=\"H\")\n",
    "#axs1.plot(times, results_Corr , label=\"Corr\")\n",
    "\n",
    "axs1.set_xlabel(\"Time $t$\")\n",
    "axs1.set_ylabel(\"energy\")  \n",
    "axs1.legend()"
   ]
  },
  {
   "cell_type": "code",
   "execution_count": 29,
   "metadata": {},
   "outputs": [
    {
     "data": {
      "text/plain": [
       "array([40], dtype=int64)"
      ]
     },
     "execution_count": 29,
     "metadata": {},
     "output_type": "execute_result"
    }
   ],
   "source": [
    "zero_indices = np.where(results_N == 0)[0]\n",
    "zero_indices"
   ]
  },
  {
   "cell_type": "code",
   "execution_count": 34,
   "metadata": {},
   "outputs": [],
   "source": [
    "H = [-3.47994052+3.00321106e-16j, -3.47955261-2.13703137e-02j,\n",
    "       -3.47876933-4.27419100e-02j, -3.47855819-6.42359328e-02j,\n",
    "       -3.47862421-8.55744219e-02j, -3.47788012-1.06926130e-01j,\n",
    "       -3.47884758-1.28434437e-01j, -3.4798439 -1.50033068e-01j,\n",
    "       -3.4805605 -1.71619075e-01j, -3.48095265-1.93183019e-01j,\n",
    "       -3.48100976-2.14726575e-01j, -3.48072746-2.36253191e-01j,\n",
    "       -3.48010304-2.57766567e-01j, -3.47913442-2.79270360e-01j,\n",
    "       -3.47781989-3.00768135e-01j, -3.47615795-3.22263379e-01j,\n",
    "       -3.47414732-3.43759521e-01j, -3.47178685-3.65259947e-01j,\n",
    "       -3.46907549-3.86768001e-01j, -3.46601232-4.08286984e-01j,\n",
    "       -3.46259646-4.29820146e-01j, -3.45882712-4.51370693e-01j,\n",
    "       -3.45470358-4.72941779e-01j, -3.45022514-4.94536506e-01j,\n",
    "       -3.44539117-5.16157926e-01j, -3.44020104-5.37809040e-01j,\n",
    "       -3.43465417-5.59492794e-01j, -3.42874999-5.81212081e-01j,\n",
    "       -3.42248793-6.02969736e-01j, -3.41586742-6.24768540e-01j,\n",
    "       -3.40888786-6.46611209e-01j, -3.40154864-6.68500403e-01j,\n",
    "       -3.39384911-6.90438715e-01j, -3.3857886 -7.12428678e-01j,\n",
    "       -3.37736635-7.34472759e-01j, -3.36858155-7.56573361e-01j,\n",
    "       -3.35943334-7.78732823e-01j, -3.34992075-8.00953422e-01j,\n",
    "       -3.34004274-8.23237373e-01j, -3.32979816-8.45586831e-01j,\n",
    "       -3.31918574-8.68003890e-01j, -3.30820411-8.90490589e-01j,\n",
    "       -3.29685177-9.13048909e-01j, -3.28512706-9.35680775e-01j,\n",
    "       -3.2730282 -9.58388059e-01j, -3.26055321-9.81172577e-01j,\n",
    "       -3.24769997-1.00403609e+00j, -3.23446618-1.02698032e+00j,\n",
    "       -3.2208493 -1.05000691e+00j, -3.20684663-1.07311748e+00j,\n",
    "       -3.19245522-1.09631357e+00j]"
   ]
  },
  {
   "cell_type": "code",
   "execution_count": 35,
   "metadata": {},
   "outputs": [],
   "source": [
    "N = [9.20362043-1.05119483e-16j, 9.20362201-1.23859908e-03j,\n",
    "       9.20354376-2.47605434e-03j, 9.20332297-3.76212684e-03j,\n",
    "       9.20289571-5.00648135e-03j, 9.20239407-6.28460759e-03j,\n",
    "       9.20169729-7.75938578e-03j, 9.20088069-9.17550426e-03j,\n",
    "       9.19996074-1.05627487e-02j, 9.19894152-1.19312268e-02j,\n",
    "       9.19782425-1.32862374e-02j, 9.19660934-1.46309292e-02j,\n",
    "       9.19529696-1.59673567e-02j, 9.19388727-1.72969563e-02j,\n",
    "       9.19238047-1.86207904e-02j, 9.19077683-1.99396849e-02j,\n",
    "       9.18907669-2.12543084e-02j, 9.18728045-2.25652169e-02j,\n",
    "       9.18538857-2.38728804e-02j, 9.18340155-2.51776995e-02j,\n",
    "       9.18131997-2.64800164e-02j, 9.17914446-2.77801239e-02j,\n",
    "       9.1768757 -2.90782716e-02j, 9.17451445-3.03746710e-02j,\n",
    "       9.17206152-3.16694989e-02j, 9.16951776-3.29629004e-02j,\n",
    "       9.16688409-3.42549909e-02j, 9.16416151-3.55458572e-02j,\n",
    "       9.16135105-3.68355596e-02j, 9.15845382-3.81241321e-02j,\n",
    "       9.15547098-3.94115834e-02j, 9.15240378-4.06978979e-02j,\n",
    "       9.14925351-4.19830364e-02j, 9.14602156-4.32669368e-02j,\n",
    "       9.14270938-4.45495150e-02j, 9.1393185 -4.58306663e-02j,\n",
    "       9.13585055-4.71102664e-02j, 9.13230723-4.83881733e-02j,\n",
    "       9.12869036-4.96642289e-02j, 9.12500185-5.09382613e-02j,\n",
    "       9.12124371-5.22100874e-02j, 9.11741808-5.34795159e-02j,\n",
    "       9.1135272 -5.47463507e-02j, 9.10957347-5.60103949e-02j,\n",
    "       9.1055594 -5.72714552e-02j, 9.10148764-5.85293474e-02j,\n",
    "       9.09736102-5.97839015e-02j, 9.09318251-6.10349686e-02j,\n",
    "       9.08895526-6.22824280e-02j, 9.08468257-6.35261952e-02j,\n",
    "       9.08036797-6.47662306e-02j]"
   ]
  },
  {
   "cell_type": "code",
   "execution_count": 36,
   "metadata": {},
   "outputs": [],
   "source": [
    "Corr = [0.15118553008831065,\n",
    " 0.15224006992760974,\n",
    " 0.1532982011183182,\n",
    " 0.15436090971358404,\n",
    " 0.1554078147526842,\n",
    " 0.15644671430058826,\n",
    " 0.15734391736343026,\n",
    " 0.15823684601173527,\n",
    " 0.15913655491938553,\n",
    " 0.16004218167068582,\n",
    " 0.1609529154944039,\n",
    " 0.16186829621757687,\n",
    " 0.16278807550693716,\n",
    " 0.1637121205923159,\n",
    " 0.16464036113518804,\n",
    " 0.16557275949525863,\n",
    " 0.16650929281387047,\n",
    " 0.16744994159186172,\n",
    " 0.16839468239218722,\n",
    " 0.169343483319073,\n",
    " 0.17029630127440382,\n",
    " 0.1712530803125978,\n",
    " 0.17221375065618016,\n",
    " 0.17317822813209846,\n",
    " 0.17414641387282992,\n",
    " 0.17511819419798824,\n",
    " 0.17609344060644672,\n",
    " 0.17707200984155347,\n",
    " 0.1780537439893081,\n",
    " 0.17903847058384842,\n",
    " 0.18002600269792576,\n",
    " 0.18101613899472008,\n",
    " 0.18200866373002067,\n",
    " 0.1830033466892396,\n",
    " 0.183999943057053,\n",
    " 0.1849981931925494,\n",
    " 0.18599782233202,\n",
    " 0.18699854018807222,\n",
    " 0.18800004047622046,\n",
    " 0.1890020003355155,\n",
    " 0.19000407966939512,\n",
    " 0.19100592039491052,\n",
    " 0.19200714561464177,\n",
    " 0.19300735869722477,\n",
    " 0.1940061422908298,\n",
    " 0.1950030572384138,\n",
    " 0.195997641445106,\n",
    " 0.1969894086558976,\n",
    " 0.19797784718570763,\n",
    " 0.19896241856811217,\n",
    " 0.19994255616807266]"
   ]
  },
  {
   "cell_type": "code",
   "execution_count": 35,
   "metadata": {},
   "outputs": [],
   "source": [
    "y = np.array([ 9.20362043e+00,  9.20384041e+00,  9.20451788e+00,  9.20564724e+00,\n",
    "        9.20722923e+00,  9.20926502e+00,  9.21175617e+00,  9.21470464e+00,\n",
    "        9.21811279e+00,  9.22198340e+00,  9.22631965e+00,  9.23112513e+00,\n",
    "        9.23640382e+00,  9.24216016e+00,  9.24839896e+00,  9.25512550e+00,\n",
    "        9.26234546e+00,  9.27006496e+00,  9.27829057e+00,  9.28702930e+00,\n",
    "        9.29628862e+00,  9.30607647e+00,  9.31640127e+00,  9.32727190e+00,\n",
    "        9.33869777e+00,  9.35068878e+00,  9.36325536e+00,  9.37640848e+00,\n",
    "        9.39015969e+00,  9.40452107e+00,  9.41950533e+00,  9.43512580e+00,\n",
    "        9.45139644e+00,  9.46833189e+00,  9.48594750e+00,  9.50425936e+00,\n",
    "        9.52328431e+00,  9.54304005e+00,  9.56354512e+00,  9.58481899e+00,\n",
    "        9.60700177e+00,  9.63038732e+00,  9.65469798e+00,  9.67993603e+00,\n",
    "        9.70612534e+00,  9.73329489e+00,  9.76147662e+00,  9.79070497e+00,\n",
    "        9.82101678e+00,  9.85245140e+00,  9.88505080e+00,  9.91885980e+00,\n",
    "        9.95392624e+00,  9.99030131e+00,  1.00280397e+01,  1.00672002e+01,\n",
    "        1.01078455e+01,  1.01500433e+01,  1.01938660e+01,  1.02393918e+01,\n",
    "        1.02851609e+01,  1.03323550e+01,  1.03818831e+01,  1.04334291e+01,\n",
    "        1.04869786e+01,  1.05425787e+01,  1.06002948e+01,  1.06602011e+01,\n",
    "        1.07223792e+01,  1.07869181e+01,  1.08539145e+01,  1.09234743e+01,\n",
    "        1.09957120e+01,  1.10707508e+01,  1.11487223e+01,  1.12297649e+01,\n",
    "        1.13140220e+01,  1.14016393e+01,  1.14927616e+01,  1.15875269e+01,\n",
    "        1.16891405e+01,  1.17944682e+01,  1.19046714e+01,  1.20202081e+01,\n",
    "        1.21414390e+01,  1.22686515e+01,  1.24020602e+01,  1.25417696e+01,\n",
    "        1.26877099e+01,  1.28395428e+01,  1.29965278e+01,  1.31573365e+01,\n",
    "        1.33198028e+01,  1.34805992e+01,  1.36348392e+01,  1.37756306e+01,\n",
    "        1.38936477e+01,  1.39768597e+01,  1.40106464e+01,  1.39786084e+01,\n",
    "        1.38442165e+01,  1.35685058e+01,  1.31839069e+01,  1.26981317e+01,\n",
    "        1.21284268e+01,  1.14986172e+01,  1.08345438e+01,  1.01596609e+01,\n",
    "        9.49205840e+00,  8.84335641e+00,  8.21914333e+00,  7.62027037e+00,\n",
    "        7.04435190e+00,  6.48704942e+00,  5.94295148e+00,  5.40602369e+00,\n",
    "        4.86969123e+00,  4.32665724e+00,  3.76858749e+00,  3.18582701e+00,\n",
    "        0.00000000e+00,  2.24109912e+00,  1.54729134e+00,  7.91203340e-01,\n",
    "       -2.94132512e-02, -9.03166918e-01, -1.79736786e+00, -2.65340270e+00,\n",
    "       -3.39152088e+00, -3.92938475e+00, -4.20940588e+00, -4.21958675e+00,\n",
    "       -3.99432258e+00, -3.59653130e+00, -3.09464796e+00, -2.54651138e+00,\n",
    "       -1.99328210e+00, -1.46034430e+00, -9.61092606e-01, -5.00960306e-01,\n",
    "       -8.06125206e-02,  3.01864207e-01,  6.49592143e-01,  9.66104130e-01,\n",
    "        1.25490997e+00,  1.51928190e+00,  1.76216561e+00,  1.98615945e+00,\n",
    "        2.19352859e+00,  2.38623489e+00,  2.56597221e+00,  2.73420171e+00,\n",
    "        2.89218460e+00,  3.04101115e+00,  3.18162600e+00,  3.31484965e+00,\n",
    "        3.44139673e+00,  3.56189136e+00,  3.67687998e+00,  3.78684219e+00,\n",
    "        3.89219970e+00,  3.99332391e+00,  4.09054222e+00,  4.18414327e+00,\n",
    "        4.27438146e+00,  4.36148063e+00,  4.44563721e+00,  4.52702294e+00,\n",
    "        4.60578715e+00,  4.68205871e+00,  4.75594775e+00,  4.82754719e+00,\n",
    "        4.89693414e+00,  4.96417107e+00,  5.02930707e+00,  5.09237892e+00,\n",
    "        5.15341222e+00,  5.21242248e+00,  5.26941623e+00,  5.32439223e+00,\n",
    "        5.37734257e+00,  5.42825403e+00,  5.47710933e+00,  5.52388854e+00,\n",
    "        5.56857051e+00,  5.61113431e+00,  5.65156083e+00,  5.68983421e+00,\n",
    "        5.72594336e+00,  5.75988341e+00,  5.79165699e+00,  5.82127543e+00,\n",
    "        5.84875967e+00,  5.87414105e+00,  5.89746162e+00,  5.91877428e+00,\n",
    "        5.93814251e+00,  5.95563969e+00,  5.97134819e+00,  5.98535807e+00,\n",
    "        5.99776553e+00,  6.00867119e+00,  6.01817829e+00,  6.02639077e+00,\n",
    "        6.03341150e+00,  6.03934064e+00,  6.04427414e+00,  6.04830258e+00,\n",
    "        6.05151028e+00,  6.05397469e+00,  6.05576621e+00,  6.05694811e+00,\n",
    "        6.05757695e+00,  6.05770302e+00,  6.05737109e+00,  6.05662121e+00,\n",
    "        6.05548967e+00,  6.05400986e+00,  6.05221330e+00,  6.05013044e+00,\n",
    "        6.04779153e+00,  6.04522735e+00,  6.04246979e+00,  6.03955241e+00,\n",
    "        6.03651080e+00,  6.03338290e+00,  6.03020915e+00,  6.02703260e+00,\n",
    "        6.02389890e+00,  6.02085626e+00,  6.01795531e+00,  6.01524892e+00,\n",
    "        6.01279207e+00,  6.01064156e+00,  6.00885585e+00,  6.00749482e+00,\n",
    "        6.00661957e+00,  6.00629221e+00,  6.00657575e+00,  6.00753385e+00,\n",
    "        6.00923079e+00,  6.01173132e+00,  6.01510061e+00,  6.01940415e+00,\n",
    "        6.02470781e+00,  6.03107774e+00,  6.03858042e+00,  6.04728273e+00,\n",
    "        6.05725193e+00,  6.06855573e+00,  6.08126242e+00,  6.09544089e+00,\n",
    "        6.11116074e+00,  6.12849242e+00,  6.14750724e+00,  6.16827757e+00,\n",
    "        6.19087685e+00,  6.21537975e+00,  6.24186216e+00,  6.27040130e+00,\n",
    "        6.30107569e+00,  6.33396513e+00,  6.36915058e+00,  6.40671400e+00,\n",
    "        6.44673807e+00,  6.48930573e+00,  6.53449966e+00,  6.58240143e+00,\n",
    "        6.63309044e+00,  6.68664253e+00,  6.74312815e+00,  6.80261001e+00,\n",
    "        6.86514014e+00,  6.93075616e+00,  6.99947669e+00,  7.07129569e+00,\n",
    "        7.14617575e+00,  7.22404000e+00,  7.30476288e+00,  7.38815956e+00,\n",
    "        7.47397454e+00,  7.56186963e+00,  7.65141208e+00,  7.74206404e+00,\n",
    "        7.83317450e+00,  7.92397548e+00,  8.01358425e+00,  8.10101339e+00,\n",
    "        8.18518988e+00,  8.26498392e+00,  8.33924681e+00,  8.40685585e+00,\n",
    "        8.46676269e+00,  8.51804060e+00,  8.55992541e+00,  8.59184526e+00,\n",
    "        8.61343592e+00,  8.62453975e+00,  8.62518937e+00,  8.61557848e+00,\n",
    "        8.59602415e+00,  8.56692528e+00,  8.52872183e+00,  8.48185846e+00,\n",
    "        8.42675510e+00,  8.36378581e+00,  8.29326614e+00,  8.21544826e+00,\n",
    "        8.13052301e+00,  8.03862731e+00,  7.93985567e+00,  7.83427449e+00,\n",
    "        7.72193797e+00,  7.60290454e+00,  7.47725313e+00,  7.34509825e+00,\n",
    "        7.20660350e+00,  7.06199272e+00,  6.91155852e+00,  6.75566757e+00,\n",
    "        6.59476273e+00,  6.42936153e+00,  6.26005139e+00,  6.08748162e+00,\n",
    "        5.91235251e+00,  5.73540228e+00,  5.55739223e+00,  5.37909110e+00,\n",
    "        5.20125913e+00,  5.02463276e+00,  4.84991053e+00,  4.67774068e+00,\n",
    "        4.50871098e+00,  4.34334092e+00,  4.18207649e+00,  4.02528737e+00,\n",
    "        3.87326643e+00,  3.72623138e+00,  3.58432805e+00,  3.44763509e+00,\n",
    "        3.31616977e+00,  3.18989437e+00,  3.06872297e+00,  2.95252842e+00,\n",
    "        2.84114910e+00,  2.73439540e+00,  2.63205586e+00,  2.53390271e+00,\n",
    "        2.43969690e+00,  2.34919256e+00,  2.26214088e+00,  2.17829342e+00,\n",
    "        2.09740496e+00,  2.01923585e+00,  1.94355391e+00,  1.87013603e+00,\n",
    "        1.79876939e+00,  1.72925244e+00,  1.66139563e+00,  1.59502194e+00,\n",
    "        1.52996730e+00,  1.46608084e+00,  1.40322509e+00,  1.34127607e+00,\n",
    "        1.28012335e+00,  1.21967011e+00,  1.15983315e+00,  1.10054293e+00,\n",
    "        1.04174363e+00,  9.83393282e-01,  9.25463934e-01,  8.67941973e-01,\n",
    "        8.10828579e-01,  7.54140407e-01,  6.97910599e-01,  6.42190235e-01,\n",
    "        5.87050437e-01,  5.32585391e-01,  4.78916710e-01,  4.26199728e-01,\n",
    "        3.74632655e-01,  3.24469956e-01,  2.76042132e-01,  2.29785252e-01,\n",
    "        1.86285731e-01,  1.46349314e-01,  1.11109540e-01,  8.22022560e-02,\n",
    "        6.20541742e-02,  5.43754180e-02,  6.50321800e-02,  1.03662254e-01,\n",
    "        1.86825924e-01,  3.44548116e-01,  6.34973894e-01,  1.18041034e+00,\n",
    "        2.26678156e+00,  4.65862823e+00,  1.07335319e+01,  2.77226006e+01,\n",
    "        4.92247321e+01])"
   ]
  },
  {
   "cell_type": "code",
   "execution_count": 37,
   "metadata": {},
   "outputs": [
    {
     "data": {
      "image/png": "[encoded data removed]",
      "text/plain": [
       "<Figure size 1000x600 with 1 Axes>"
      ]
     },
     "metadata": {},
     "output_type": "display_data"
    }
   ],
   "source": [
    "import matplotlib.pyplot as plt\n",
    "\n",
    "x = np.arange(1, len(y) + 1)\n",
    "\n",
    "# Plot the data\n",
    "plt.figure(figsize=(10, 6))\n",
    "plt.plot(x, y, label='y vs x', color='b')\n",
    "plt.xlabel('x')\n",
    "plt.ylabel('y')\n",
    "plt.title('Plot of y vs x')\n",
    "plt.legend()\n",
    "plt.grid(True)\n",
    "plt.show()"
   ]
  }
 ],
 "metadata": {
  "kernelspec": {
   "display_name": "Python 3",
   "language": "python",
   "name": "python3"
  },
  "language_info": {
   "codemirror_mode": {
    "name": "ipython",
    "version": 3
   },
   "file_extension": ".py",
   "mimetype": "text/x-python",
   "name": "python",
   "nbconvert_exporter": "python",
   "pygments_lexer": "ipython3",
   "version": "3.12.1"
  }
 },
 "nbformat": 4,
 "nbformat_minor": 2
}
