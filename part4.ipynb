{
 "cells": [
  {
   "cell_type": "code",
   "execution_count": 90,
   "metadata": {},
   "outputs": [],
   "source": [
    "import numpy as np\n",
    "import pytreenet as ptn\n",
    "from copy import deepcopy\n",
    "np.random.seed(4)"
   ]
  },
  {
   "cell_type": "code",
   "execution_count": 91,
   "metadata": {},
   "outputs": [],
   "source": [
    "def save_list(list_to_save, filename):\n",
    "    filename = f\"results/{filename}\"\n",
    "    with open(filename, 'w') as file:\n",
    "        for item in list_to_save:\n",
    "            file.write(str(item) + '\\n')\n",
    "    print(f\"List saved to {filename}\")\n",
    "\n",
    "def load_list(filename):\n",
    "    filename = f\"results/{filename}\"\n",
    "    try:\n",
    "        with open(filename, 'r') as file:\n",
    "            return [complex(line.strip()) for line in file.readlines()]\n",
    "    except FileNotFoundError:\n",
    "        print(f\"File {filename} not found.\")\n",
    "        return []"
   ]
  },
  {
   "cell_type": "code",
   "execution_count": null,
   "metadata": {},
   "outputs": [],
   "source": [
    "d = 9"
   ]
  },
  {
   "cell_type": "code",
   "execution_count": 92,
   "metadata": {},
   "outputs": [],
   "source": [
    "def product_state(ttn, bond_dim=2 , physical_dim= 2):\n",
    "    product_state = deepcopy(ttn)\n",
    "    A = np.asarray(physical_dim*[1/np.sqrt(physical_dim)])\n",
    "    for node_id in product_state.nodes.keys():\n",
    "        n = product_state.tensors[node_id].ndim - 1\n",
    "        tensor = A.reshape((1,) * n + (physical_dim,))\n",
    "        T = np.pad(tensor, n*((0, bond_dim-1),) + ((0, 0),))\n",
    "        product_state.tensors[node_id] = T\n",
    "        product_state.nodes[node_id].link_tensor(T)  \n",
    "    return product_state"
   ]
  },
  {
   "cell_type": "code",
   "execution_count": 93,
   "metadata": {},
   "outputs": [],
   "source": [
    "shapes = {\n",
    "    (0, 0): (2, 2, 2, d),\n",
    "    (0, 1): (2, 2, d),\n",
    "    (0, 2): (2, 2, d),\n",
    "    (1, 0): (2, 2, d),\n",
    "    (1, 1): (2, d),\n",
    "    (1, 2): (2, d),\n",
    "    (2, 0): (2, 2, d),\n",
    "    (2, 1): (2, 2, 2, d),\n",
    "    (2, 2): (2, d)\n",
    "}\n",
    "\n",
    "\n",
    "sites = {\n",
    "    (i, j): ptn.random_tensor_node(shapes[(i, j)], identifier=f\"Site({i},{j})\") for i in range(3) for j in range(3)\n",
    "}\n",
    "\n",
    "ttn = ptn.TreeTensorNetworkState()\n",
    "\n",
    "ttn.add_root(sites[(0, 0)][0], sites[(0, 0)][1])\n",
    "\n",
    "connections = [\n",
    "    ((0, 0), (0, 1), 0, 0),\n",
    "    ((0, 1), (0, 2), 1, 0),\n",
    "    ((0, 2), (1, 2), 1, 0),\n",
    "    ((0, 0), (1, 0), 1, 0),\n",
    "    ((1, 0), (2, 0), 1, 0),\n",
    "    ((2, 0), (2, 1), 1, 0),\n",
    "    ((2, 1), (1, 1), 1, 0),\n",
    "    ((2, 1), (2, 2), 2, 0),\n",
    "\n",
    "]\n",
    "\n",
    "for (parent, child, parent_leg, child_leg) in connections:\n",
    "    parent_id = f\"Site({parent[0]},{parent[1]})\"\n",
    "    child_id = f\"Site({child[0]},{child[1]})\"\n",
    "    ttn.add_child_to_parent(sites[child][0], sites[child][1], child_leg, parent_id, parent_leg)\n",
    "\n",
    "ttn = product_state(ttn , bond_dim= 2, physical_dim = d)\n",
    "\n",
    "nodes = {\n",
    "    (i, j): (ptn.Node(tensor=ttn.tensors[f\"Site({i},{j})\"].conj() , identifier=f\"Node({i},{j})\"), ttn.tensors[f\"Site({i},{j})\"].conj()) for i in range(3) for j in range(3)\n",
    "}\n",
    "\n",
    "ttn.add_child_to_parent(nodes[(0,0)][0], nodes[(0,0)][1], 0, \"Site(0,0)\", 2)\n",
    "\n",
    "connections = [\n",
    "    ((0, 0), (0, 1), 1, 0),\n",
    "    ((0, 1), (0, 2), 1, 0),\n",
    "    ((0, 2), (1, 2), 1, 0),\n",
    "    ((0, 0), (1, 0), 2, 0),\n",
    "    ((1, 0), (2, 0), 1, 0),\n",
    "    ((2, 0), (2, 1), 1, 0),\n",
    "    ((2, 1), (1, 1), 1, 0),\n",
    "    ((2, 1), (2, 2), 2, 0),\n",
    "]\n",
    "\n",
    "for (parent, child, parent_leg, child_leg) in connections:\n",
    "    parent_id = f\"Node({parent[0]},{parent[1]})\"\n",
    "    child_id = f\"Node({child[0]},{child[1]})\"\n",
    "    ttn.add_child_to_parent(nodes[child][0], nodes[child][1], child_leg, parent_id, parent_leg)\n"
   ]
  },
  {
   "cell_type": "code",
   "execution_count": 94,
   "metadata": {},
   "outputs": [],
   "source": [
    "def normalize_ttn_lindblad(ttn):\n",
    "    ttn_normalized = ptn.copy_object(ttn, deep = True)\n",
    "    I = ptn.TTNO.Identity(ttn_normalized)\n",
    "    for node_id in list(ttn_normalized.nodes.keys()):\n",
    "        norm = ttn_normalized.operator_expectation_value_Lindblad(I)\n",
    "        ttn_normalized.tensors[node_id] /= np.sqrt(norm)\n",
    "    return ttn_normalized\n",
    "#ttn = normalize_ttn_lindblad(ttn)\n",
    "#ttn = normalize_ttn_lindblad(ttn)"
   ]
  },
  {
   "cell_type": "code",
   "execution_count": 95,
   "metadata": {},
   "outputs": [],
   "source": [
    "def Liouville(t, U, J, L, Lx, Ly, d):\n",
    "    creation_op, annihilation_op, number_op = ptn.bosonic_operators(d)\n",
    "    \n",
    "    conversion_dict = {\n",
    "        \"b^dagger\": creation_op,\n",
    "        \"b\": annihilation_op,\n",
    "        f\"I{d}\": np.eye(d)\n",
    "    }\n",
    "    \n",
    "    conversion_dict.update({\n",
    "        \"it * b^dagger\": t*1j * creation_op,\n",
    "        \"it * b\": t*1j * annihilation_op,\n",
    "        \"-iU * n * (n - 1)\": -U*1j * number_op @ (number_op - np.eye(d))\n",
    "    })\n",
    "    \n",
    "    terms = []\n",
    "    \n",
    "    # Hopping terms\n",
    "    for x in range(Lx):\n",
    "        for y in range(Ly):\n",
    "            current_site = f\"Site({x},{y})\"\n",
    "            \n",
    "            # Horizontal connections\n",
    "            if x < Lx - 1:\n",
    "                right_neighbor = f\"Site({x+1},{y})\"\n",
    "                terms.append(ptn.TensorProduct({current_site: \"it * b^dagger\", right_neighbor: \"b\"}))\n",
    "                terms.append(ptn.TensorProduct({current_site: \"it * b\", right_neighbor: \"b^dagger\"}))\n",
    "            \n",
    "            # Vertical connections\n",
    "            if y < Ly - 1:\n",
    "                up_neighbor = f\"Site({x},{y+1})\"\n",
    "                terms.append(ptn.TensorProduct({current_site: \"it * b^dagger\", up_neighbor: \"b\"}))\n",
    "                terms.append(ptn.TensorProduct({current_site: \"it * b\", up_neighbor: \"b^dagger\"}))\n",
    "    \n",
    "    # On-site interaction terms\n",
    "    for x in range(Lx):\n",
    "        for y in range(Ly):\n",
    "            current_site = f\"Site({x},{y})\"\n",
    "            terms.append(ptn.TensorProduct({current_site: \"-iU * n * (n - 1)\"}))\n",
    "    \n",
    "    H1 = ptn.Hamiltonian(terms, conversion_dict)\n",
    "    \n",
    "    conversion_dict = {\n",
    "        \"b^dagger.T\": creation_op.T,\n",
    "        \"b.T\": annihilation_op.T,\n",
    "        f\"I{d}\": np.eye(d)\n",
    "    }\n",
    "    \n",
    "    conversion_dict.update({\n",
    "        \"-it * b^dagger.T\": -t*1j * creation_op.T,\n",
    "        \"-it * b.T\": -t*1j * annihilation_op.T,\n",
    "        \"iU * n * (n - 1).T\": (U*1j * number_op @ (number_op - np.eye(d))).T\n",
    "    })\n",
    "    \n",
    "    terms = []\n",
    "    \n",
    "    # Hopping terms\n",
    "    for x in range(Lx):\n",
    "        for y in range(Ly):\n",
    "            current_site = f\"Node({x},{y})\"\n",
    "            \n",
    "            # Horizontal connections\n",
    "            if x < Lx - 1:\n",
    "                right_neighbor = f\"Node({x+1},{y})\"\n",
    "                terms.append(ptn.TensorProduct({current_site: \"-it * b^dagger.T\", right_neighbor: \"b.T\"}))\n",
    "                terms.append(ptn.TensorProduct({current_site: \"-it * b.T\", right_neighbor: \"b^dagger.T\"}))\n",
    "            \n",
    "            # Vertical connections\n",
    "            if y < Ly - 1:\n",
    "                up_neighbor = f\"Node({x},{y+1})\"\n",
    "                terms.append(ptn.TensorProduct({current_site: \"-it * b^dagger.T\", up_neighbor: \"b.T\"}))\n",
    "                terms.append(ptn.TensorProduct({current_site: \"-it * b.T\", up_neighbor: \"b^dagger.T\"}))\n",
    "    \n",
    "    # On-site interaction terms\n",
    "    for x in range(Lx):\n",
    "        for y in range(Ly):\n",
    "            current_site = f\"Node({x},{y})\"\n",
    "            terms.append(ptn.TensorProduct({current_site: \"iU * n * (n - 1).T\"}))    \n",
    "\n",
    "    H2 = ptn.Hamiltonian(terms, conversion_dict)\n",
    "    H1.__add__(H2)\n",
    "\n",
    "    \n",
    "    conversion_dict = {\n",
    "    \"L\": J*L,\n",
    "    \"L^dagger.T\": J*L.conj(),\n",
    "    \"-1/2 (L^dagger @ L) \": -1/2 * J**2 *  L.conj().T @ L,\n",
    "    \"-1/2 (L^dagger @ L).T\":-1/2 * J**2 * (L.conj().T @ L).T\n",
    "    }\n",
    "\n",
    "    terms = []\n",
    "    for x in range(Lx):\n",
    "        for y in range(Ly):\n",
    "            out_site = f\"Node({x},{y})\"\n",
    "            in_site = f\"Site({x},{y})\"\n",
    "            terms.append(ptn.TensorProduct({in_site: \"L\"}))\n",
    "            terms.append(ptn.TensorProduct({out_site: \"L^dagger.T\"}))\n",
    "            terms.append(ptn.TensorProduct({in_site: \"-1/2 (L^dagger @ L) \"}))\n",
    "            terms.append(ptn.TensorProduct({out_site: \"-1/2 (L^dagger @ L).T\"}))\n",
    "\n",
    "    H3 = ptn.Hamiltonian(terms, conversion_dict)\n",
    "    H1.__add__(H3)\n",
    "    return H1"
   ]
  },
  {
   "cell_type": "code",
   "execution_count": 96,
   "metadata": {},
   "outputs": [],
   "source": [
    "def Unitary(t, U, Lx, Ly, d):\n",
    "    creation_op, annihilation_op, number_op = ptn.bosonic_operators(d)\n",
    "    \n",
    "    conversion_dict = {\n",
    "        \"b^dagger\": creation_op,\n",
    "        \"b\": annihilation_op,\n",
    "        f\"I{d}\": np.eye(d)\n",
    "    }\n",
    "    \n",
    "    conversion_dict.update({\n",
    "        \"it * b^dagger\": t * 1.0j* creation_op,\n",
    "        \"it * b\": t* 1.0j * annihilation_op,\n",
    "        \"-iU * n * (n - 1)\": -U* 1.0j * number_op @ (number_op - np.eye(d))\n",
    "    })\n",
    "    \n",
    "    terms = []\n",
    "    \n",
    "    # Hopping terms\n",
    "    for x in range(Lx):\n",
    "        for y in range(Ly):\n",
    "            current_site = f\"Site({x},{y})\"\n",
    "            \n",
    "            # Horizontal connections\n",
    "            if x < Lx - 1:\n",
    "                right_neighbor = f\"Site({x+1},{y})\"\n",
    "                terms.append(ptn.TensorProduct({current_site: \"it * b^dagger\", right_neighbor: \"b\"}))\n",
    "                terms.append(ptn.TensorProduct({current_site: \"it * b\", right_neighbor: \"b^dagger\"}))\n",
    "            \n",
    "            # Vertical connections\n",
    "            if y < Ly - 1:\n",
    "                up_neighbor = f\"Site({x},{y+1})\"\n",
    "                terms.append(ptn.TensorProduct({current_site: \"it * b^dagger\", up_neighbor: \"b\"}))\n",
    "                terms.append(ptn.TensorProduct({current_site: \"it * b\", up_neighbor: \"b^dagger\"}))\n",
    "    \n",
    "    # On-site interaction terms\n",
    "    for x in range(Lx):\n",
    "        for y in range(Ly):\n",
    "            current_site = f\"Site({x},{y})\"\n",
    "            terms.append(ptn.TensorProduct({current_site: \"-iU * n * (n - 1)\"}))\n",
    "    \n",
    "    H1 = ptn.Hamiltonian(terms, conversion_dict)\n",
    "    \n",
    "    conversion_dict = {\n",
    "        \"b^dagger.T\": creation_op.T,\n",
    "        \"b.T\": annihilation_op.T,\n",
    "        f\"I{d}\": np.eye(d)\n",
    "    }\n",
    "    \n",
    "    conversion_dict.update({\n",
    "        \"-it * b^dagger.T\": -t* 1.0j * creation_op.T,\n",
    "        \"-it * b.T\": -t* 1.0j * annihilation_op.T,\n",
    "        \"iU * n * (n - 1).T\": (U* 1.0j* number_op @ (number_op - np.eye(d))).T\n",
    "    })\n",
    "    \n",
    "    terms = []\n",
    "    \n",
    "    # Hopping terms\n",
    "    for x in range(Lx):\n",
    "        for y in range(Ly):\n",
    "            current_site = f\"Node({x},{y})\"\n",
    "            \n",
    "            # Horizontal connections\n",
    "            if x < Lx - 1:\n",
    "                right_neighbor = f\"Node({x+1},{y})\"\n",
    "                terms.append(ptn.TensorProduct({current_site: \"-it * b^dagger.T\", right_neighbor: \"b.T\"}))\n",
    "                terms.append(ptn.TensorProduct({current_site: \"-it * b.T\", right_neighbor: \"b^dagger.T\"}))\n",
    "            \n",
    "            # Vertical connections\n",
    "            if y < Ly - 1:\n",
    "                up_neighbor = f\"Node({x},{y+1})\"\n",
    "                terms.append(ptn.TensorProduct({current_site: \"-it * b^dagger.T\", up_neighbor: \"b.T\"}))\n",
    "                terms.append(ptn.TensorProduct({current_site: \"-it * b.T\", up_neighbor: \"b^dagger.T\"}))\n",
    "    \n",
    "    # On-site interaction terms\n",
    "    for x in range(Lx):\n",
    "        for y in range(Ly):\n",
    "            current_site = f\"Node({x},{y})\"\n",
    "            terms.append(ptn.TensorProduct({current_site: \"iU * n * (n - 1).T\"}))    \n",
    "\n",
    "    H2 = ptn.Hamiltonian(terms, conversion_dict)\n",
    "    H1.__add__(H2)\n",
    "    return H1"
   ]
  },
  {
   "cell_type": "code",
   "execution_count": 121,
   "metadata": {},
   "outputs": [],
   "source": [
    "def BoseHubbard_ham(t, U, Lx, Ly, d):\n",
    "    creation_op, annihilation_op, number_op = ptn.bosonic_operators(d)\n",
    "    \n",
    "    conversion_dict = {\n",
    "        \"b^dagger\": creation_op,\n",
    "        \"b\": annihilation_op,\n",
    "        f\"I{d}\": np.eye(d)\n",
    "    }\n",
    "    \n",
    "    conversion_dict.update({\n",
    "        \"-t * b^dagger\": -t * creation_op,\n",
    "        \"-t * b\": -t * annihilation_op,\n",
    "        \"U * n * (n - 1)\": U * number_op @ (number_op - np.eye(d))\n",
    "    })\n",
    "    \n",
    "    terms = []\n",
    "    \n",
    "    # Hopping terms\n",
    "    for x in range(Lx):\n",
    "        for y in range(Ly):\n",
    "            current_site = f\"Site({x},{y})\"\n",
    "            \n",
    "            # Horizontal connections\n",
    "            if x < Lx - 1:\n",
    "                right_neighbor = f\"Site({x+1},{y})\"\n",
    "                terms.append(ptn.TensorProduct({current_site: \"-t * b^dagger\", right_neighbor: \"b\"}))\n",
    "                terms.append(ptn.TensorProduct({current_site: \"-t * b\", right_neighbor: \"b^dagger\"}))\n",
    "            \n",
    "            # Vertical connections\n",
    "            if y < Ly - 1:\n",
    "                up_neighbor = f\"Site({x},{y+1})\"\n",
    "                terms.append(ptn.TensorProduct({current_site: \"-t * b^dagger\", up_neighbor: \"b\"}))\n",
    "                terms.append(ptn.TensorProduct({current_site: \"-t * b\", up_neighbor: \"b^dagger\"}))\n",
    "    \n",
    "    # On-site interaction terms\n",
    "    for x in range(Lx):\n",
    "        for y in range(Ly):\n",
    "            current_site = f\"Site({x},{y})\"\n",
    "            terms.append(ptn.TensorProduct({current_site: \"U * n * (n - 1)\"}))\n",
    "    \n",
    "    return ptn.Hamiltonian(terms, conversion_dict)\n",
    "\n",
    "def BoseHubbard_ham_tp(t, U, Lx, Ly):\n",
    "    creation_op, annihilation_op, number_op = ptn.bosonic_operators(d)\n",
    "    \n",
    "    conversion_dict = {\n",
    "        \"b^dagger\": creation_op,\n",
    "        \"b\": annihilation_op,\n",
    "        f\"I{d}\": np.eye(d)\n",
    "    }\n",
    "    \n",
    "    conversion_dict.update({\n",
    "        \"-t * b^dagger\": -t * creation_op,\n",
    "        \"-t * b\": -t * annihilation_op,\n",
    "        \"U * n * (n - 1)\": U * number_op @ (number_op - np.eye(d))\n",
    "    })\n",
    "    \n",
    "    terms = []\n",
    "    \n",
    "    # Hopping terms\n",
    "    for x in range(Lx):\n",
    "        for y in range(Ly):\n",
    "            current_site = f\"Site({x},{y})\"\n",
    "            \n",
    "            # Horizontal connections\n",
    "            if x < Lx - 1:\n",
    "                right_neighbor = f\"Site({x+1},{y})\"\n",
    "                terms.append(ptn.TensorProduct({current_site:  -t * creation_op, right_neighbor: annihilation_op}))\n",
    "                terms.append(ptn.TensorProduct({current_site: -t * annihilation_op, right_neighbor: creation_op}))\n",
    "            \n",
    "            # Vertical connections\n",
    "            if y < Ly - 1:\n",
    "                up_neighbor = f\"Site({x},{y+1})\"\n",
    "                terms.append(ptn.TensorProduct({current_site:  -t * creation_op, up_neighbor: annihilation_op}))\n",
    "                terms.append(ptn.TensorProduct({current_site: -t * annihilation_op, up_neighbor: creation_op}))\n",
    "    \n",
    "    # On-site interaction terms\n",
    "    for x in range(Lx):\n",
    "        for y in range(Ly):\n",
    "            current_site = f\"Site({x},{y})\"\n",
    "            terms.append(ptn.TensorProduct({current_site: U * number_op @ (number_op - np.eye(d))}))\n",
    "    \n",
    "    return terms"
   ]
  },
  {
   "cell_type": "code",
   "execution_count": 122,
   "metadata": {},
   "outputs": [],
   "source": [
    "def Number_op_total(Lx, Ly, dim=2):\n",
    "    creation_op, annihilation_op, number_op = ptn.bosonic_operators(dim)\n",
    "    conversion_dict = {\"n\": number_op , f\"I{dim}\": np.eye(dim)}\n",
    "\n",
    "    terms = []\n",
    "    for x in range(Lx):\n",
    "        for y in range(Ly):\n",
    "            current_site = f\"Site({x},{y})\"\n",
    "            terms.append(ptn.TensorProduct({current_site: \"n\"}))\n",
    "\n",
    "    return ptn.Hamiltonian(terms, conversion_dict)    "
   ]
  },
  {
   "cell_type": "code",
   "execution_count": 123,
   "metadata": {},
   "outputs": [],
   "source": [
    "def exchange_bra_ket_tensors(ttn):\n",
    "    state = deepcopy(ttn)\n",
    "    ptn.adjust_bra_to_ket(state)\n",
    "    for ket_id in list(state.nodes.keys())[:(len(state.nodes.keys())//2)]:\n",
    "        i, j = ket_id.replace('Site(', '').replace(')', '').split(',')\n",
    "        bra_id = f\"Node({i},{j})\"\n",
    "        T1 = state.tensors[bra_id]\n",
    "        T2 = state.tensors[ket_id]\n",
    "        state.tensors[ket_id] = T1\n",
    "        state.nodes[ket_id].link_tensor(T1)\n",
    "        state.tensors[bra_id] = T2\n",
    "        state.nodes[bra_id].link_tensor(T2)\n",
    "    return state\n",
    "\n",
    "def substitute_out_or_in_legs_of_ttn_with_identity(state, out_or_in , bond_dim=2):\n",
    "    ttn = deepcopy(state)\n",
    "    if out_or_in == \"Out\":\n",
    "       for node_id in list(ttn.nodes.keys())[(len(ttn.nodes.keys())//2):]:\n",
    "        n = ttn.tensors[node_id].ndim - 1\n",
    "        T = np.reshape(np.array([[1,0]]), (n*(1,) + (2,)))\n",
    "        T = np.pad(T, n*((0, bond_dim-1),) + ((0, 0),))\n",
    "        ttn.tensors[node_id] = T\n",
    "        ttn.nodes[node_id].link_tensor(T)   \n",
    "    if out_or_in == \"In\":\n",
    "        for node_id in list(ttn.nodes.keys())[:len(ttn.nodes.keys())//2]:\n",
    "            n = ttn.tensors[node_id].ndim\n",
    "            T = ttn.tensors[node_id]\n",
    "            T = np.reshape(np.array([[1,0]]), (n*(1,) + (2,)))\n",
    "            T = np.pad(T, n*((0, bond_dim-1),) + ((0, 0),))\n",
    "            ttn.tensors[node_id] = T\n",
    "            ttn.nodes[node_id].link_tensor(T)        \n",
    "    return ttn\n"
   ]
  },
  {
   "cell_type": "code",
   "execution_count": 124,
   "metadata": {},
   "outputs": [
    {
     "ename": "TypeError",
     "evalue": "BoseHubbard_ham() missing 1 required positional argument: 'd'",
     "output_type": "error",
     "traceback": [
      "\u001b[1;31m---------------------------------------------------------------------------\u001b[0m",
      "\u001b[1;31mTypeError\u001b[0m                                 Traceback (most recent call last)",
      "Cell \u001b[1;32mIn[124], line 2\u001b[0m\n\u001b[0;32m      1\u001b[0m \u001b[38;5;66;03m# TTNO : Hamiltonian acting on in_legs\u001b[39;00m\n\u001b[1;32m----> 2\u001b[0m H1 \u001b[38;5;241m=\u001b[39m \u001b[43mBoseHubbard_ham\u001b[49m\u001b[43m(\u001b[49m\u001b[38;5;241;43m0.4\u001b[39;49m\u001b[43m,\u001b[49m\u001b[43m \u001b[49m\u001b[38;5;241;43m0.5\u001b[39;49m\u001b[43m,\u001b[49m\u001b[43m \u001b[49m\u001b[38;5;241;43m3\u001b[39;49m\u001b[43m,\u001b[49m\u001b[43m \u001b[49m\u001b[38;5;241;43m3\u001b[39;49m\u001b[43m)\u001b[49m\n\u001b[0;32m      3\u001b[0m H1 \u001b[38;5;241m=\u001b[39m H1\u001b[38;5;241m.\u001b[39mpad_with_identities(ttn, symbolic\u001b[38;5;241m=\u001b[39m \u001b[38;5;28;01mTrue\u001b[39;00m)\n\u001b[0;32m      4\u001b[0m H \u001b[38;5;241m=\u001b[39m ptn\u001b[38;5;241m.\u001b[39mTTNO\u001b[38;5;241m.\u001b[39mfrom_hamiltonian(H1, ttn)\n",
      "\u001b[1;31mTypeError\u001b[0m: BoseHubbard_ham() missing 1 required positional argument: 'd'"
     ]
    }
   ],
   "source": [
    "# TTNO : Hamiltonian acting on in_legs\n",
    "H1 = BoseHubbard_ham(0.4, 0.5, 3, 3, d)\n",
    "H1 = H1.pad_with_identities(ttn, symbolic= True)\n",
    "H = ptn.TTNO.from_hamiltonian(H1, ttn)\n",
    "\n",
    "# TTNO : Liouville operator \n",
    "creation_op, annihilation_op, number_op = ptn.bosonic_operators(d)\n",
    "L = annihilation_op \n",
    "J = 0.8\n",
    "H1 = Liouville(0.4, 0.5, J, L, 3, 3, d)\n",
    "H1 = H1.pad_with_identities(ttn , symbolic= True)\n",
    "L_fancy = ptn.TTNO.from_hamiltonian(H1, ttn)\n",
    "\n",
    "# TTNO : Unitary operator\n",
    "H1 = Unitary(0.4, 0.5, 3, 3, d)\n",
    "H1 = H1.pad_with_identities(ttn, symbolic= True)\n",
    "U = ptn.TTNO.from_hamiltonian(H1, ttn)\n",
    "\n",
    "I = ptn.TTNO.Identity(ttn)\n",
    "\n",
    "N1 = Number_op_total(3, 3, d)\n",
    "N1 = N1.pad_with_identities(ttn, symbolic= True)\n",
    "N = ptn.TTNO.from_hamiltonian(N1, ttn)\n",
    "\n",
    "ttn.operator_expectation_value_Lindblad(I) , \n",
    "ttn.operator_expectation_value_Lindblad(N)\n"
   ]
  },
  {
   "cell_type": "code",
   "execution_count": null,
   "metadata": {},
   "outputs": [],
   "source": [
    "#ttn = ptn.expand_subspace(ttn, U, 3, 0.001, ptn.SVDParameters(max_bond_dim = 24 , rel_tol= 1e-8 , total_tol = -np.inf)\n",
    "#                          ,1e-30, ptn.KrylovBasisMode.apply_1st_order_expansion)\n",
    "#ttn.max_bond_dim()"
   ]
  },
  {
   "cell_type": "code",
   "execution_count": null,
   "metadata": {},
   "outputs": [],
   "source": [
    "# Config : Lindblad = True\n",
    "# time_evolve with exponent = hamiltonian * time_difference\n",
    "# evaluate_operator with operator_expectation_value_Lindblad(operator)\n",
    "\n",
    "\n",
    "tdvp_ex1 = ptn.SecondOrderOneSiteTDVP(initial_state = ttn,\n",
    "                                     hamiltonian = L_fancy,\n",
    "                                     time_step_size = 0.01,\n",
    "                                     final_time = 1,\n",
    "                                     operators = H,\n",
    "                                     num_vecs = 3,\n",
    "                                     tau = 1e-3,\n",
    "                                     SVDParameters = ptn.SVDParameters(max_bond_dim = 20 , rel_tol= 1e-2 , total_tol = -np.inf),\n",
    "                                     expansion_steps = 5,\n",
    "                                     initial_tol= 1e-25,\n",
    "                                     tol_step= 1,\n",
    "                                     max_bond= 40,\n",
    "                                     KrylovBasisMode = ptn.KrylovBasisMode.apply_1st_order_expansion,\n",
    "                                     config = ptn.TTNTimeEvolutionConfig(record_bond_dim=True,\n",
    "                                                                         Lindblad = True) )"
   ]
  },
  {
   "cell_type": "code",
   "execution_count": null,
   "metadata": {},
   "outputs": [
    {
     "ename": "NameError",
     "evalue": "name 'v' is not defined",
     "output_type": "error",
     "traceback": [
      "\u001b[1;31m---------------------------------------------------------------------------\u001b[0m",
      "\u001b[1;31mNameError\u001b[0m                                 Traceback (most recent call last)",
      "Cell \u001b[1;32mIn[102], line 1\u001b[0m\n\u001b[1;32m----> 1\u001b[0m \u001b[43mv\u001b[49m\n",
      "\u001b[1;31mNameError\u001b[0m: name 'v' is not defined"
     ]
    }
   ],
   "source": [
    "v"
   ]
  },
  {
   "cell_type": "code",
   "execution_count": null,
   "metadata": {},
   "outputs": [
    {
     "data": {
      "text/plain": [
       "16"
      ]
     },
     "metadata": {},
     "output_type": "display_data"
    }
   ],
   "source": [
    "tdvp_ex1.state.max_bond_dim()"
   ]
  },
  {
   "cell_type": "code",
   "execution_count": null,
   "metadata": {},
   "outputs": [],
   "source": [
    "I = ptn.TTNO.Identity(ttn)"
   ]
  },
  {
   "cell_type": "code",
   "execution_count": null,
   "metadata": {},
   "outputs": [
    {
     "data": {
      "text/plain": [
       "array(1.+0.j)"
      ]
     },
     "metadata": {},
     "output_type": "display_data"
    }
   ],
   "source": [
    "tdvp_ex1.state.operator_expectation_value_Lindblad(I) "
   ]
  },
  {
   "cell_type": "code",
   "execution_count": null,
   "metadata": {},
   "outputs": [
    {
     "data": {
      "text/plain": [
       "array(-2.4+0.j)"
      ]
     },
     "metadata": {},
     "output_type": "display_data"
    }
   ],
   "source": [
    "tdvp_ex1.evaluate_operator(H)"
   ]
  },
  {
   "cell_type": "code",
   "execution_count": null,
   "metadata": {},
   "outputs": [],
   "source": [
    "tdvp_ex1.run_one_time_step_ex(1,1)"
   ]
  },
  {
   "cell_type": "code",
   "execution_count": null,
   "metadata": {},
   "outputs": [],
   "source": [
    "tdvp_ex1.state = ptn.expand_subspace(tdvp_ex1.state, tdvp_ex1.hamiltonian, \n",
    "                                     tdvp_ex1.num_vecs, tdvp_ex1.tau, \n",
    "                                     tdvp_ex1.SVDParameters, 1e-20, tdvp_ex1.KrylovBasisMode)"
   ]
  },
  {
   "cell_type": "code",
   "execution_count": null,
   "metadata": {},
   "outputs": [
    {
     "name": "stderr",
     "output_type": "stream",
     "text": [
      "100%|██████████| 101/101 [03:24<00:00,  2.03s/it]\n"
     ]
    }
   ],
   "source": [
    "tdvp_ex1.run_ex(evaluation_time=2)\n",
    "\n",
    "times = tdvp_ex1.times()\n",
    "tdvp_results_ex1 = tdvp_ex1.operator_results()[0]"
   ]
  },
  {
   "cell_type": "code",
   "execution_count": null,
   "metadata": {},
   "outputs": [
    {
     "data": {
      "text/plain": [
       "array([-2.4       +0.j        , -2.39271423-0.13796159j,\n",
       "       -2.37096691-0.27425892j, -2.33514699-0.40717086j,\n",
       "       -2.28520072-0.53492499j, -2.22251297-0.6560632j ,\n",
       "       -2.14808151-0.76919061j, -2.06296345-0.87302292j,\n",
       "       -1.96850688-0.96650083j, -1.86617969-1.04877677j,\n",
       "       -1.75753067-1.1192249j , -1.6441547 -1.17744823j,\n",
       "       -1.52765658-1.22327902j, -1.40961584-1.25677323j,\n",
       "       -1.2915535 -1.27819928j, -1.1749017 -1.28802182j,\n",
       "       -1.06097714-1.28688101j, -0.95095866-1.27556814j,\n",
       "       -0.84586987-1.25499856j, -0.74656679-1.22618275j,\n",
       "       -0.65373079-1.19019656j, -0.56786682-1.14815158j,\n",
       "       -0.4893065 -1.10116659j, -0.4182159 -1.05034085j,\n",
       "       -0.3546073 -0.9967301j , -0.29835437-0.94132563j,\n",
       "       -0.24920996-0.88503725j, -0.20682575-0.82868j   ,\n",
       "       -0.17077289-0.77296514j, -0.14056291-0.71849506j,\n",
       "       -0.11566804-0.66576213j, -0.09554032-0.61515098j,\n",
       "       -0.07962891-0.56694395j, -0.06739519-0.52132894j,\n",
       "       -0.05832527-0.47840926j, -0.0519397 -0.43821474j,\n",
       "       -0.04780059-0.40071346j, -0.04551586-0.3658236j ,\n",
       "       -0.04474122-0.33342478j, -0.04517996-0.30336859j,\n",
       "       -0.04658104-0.2754878j , -0.04873583-0.24960424j,\n",
       "       -0.05147406-0.22553512j, -0.05465927-0.20309788j,\n",
       "       -0.0581841 -0.18211369j, -0.06196583-0.16240981j,\n",
       "       -0.06594213-0.14382099j, -0.07006727-0.12619031j,\n",
       "       -0.07430857-0.10936953j, -0.07864302-0.09321923j,\n",
       "       -0.08305392-0.07760877j])"
      ]
     },
     "execution_count": 86,
     "metadata": {},
     "output_type": "execute_result"
    }
   ],
   "source": [
    "tdvp_results_ex1"
   ]
  },
  {
   "cell_type": "code",
   "execution_count": null,
   "metadata": {},
   "outputs": [
    {
     "name": "stdout",
     "output_type": "stream",
     "text": [
      "List saved to results/test1\n"
     ]
    }
   ],
   "source": [
    "save_list(tdvp_results_ex1, \"test1\")"
   ]
  },
  {
   "cell_type": "code",
   "execution_count": null,
   "metadata": {},
   "outputs": [],
   "source": [
    "q = load_list(\"unitary-2 min\")\n",
    "q"
   ]
  },
  {
   "cell_type": "code",
   "execution_count": null,
   "metadata": {},
   "outputs": [
    {
     "name": "stderr",
     "output_type": "stream",
     "text": [
      "c:\\Users\\edpou\\AppData\\Local\\Programs\\Python\\Python312\\Lib\\site-packages\\matplotlib\\cbook.py:1699: ComplexWarning: Casting complex values to real discards the imaginary part\n",
      "  return math.isfinite(val)\n",
      "c:\\Users\\edpou\\AppData\\Local\\Programs\\Python\\Python312\\Lib\\site-packages\\matplotlib\\cbook.py:1345: ComplexWarning: Casting complex values to real discards the imaginary part\n",
      "  return np.asarray(x, float)\n"
     ]
    },
    {
     "data": {
      "text/plain": [
       "<matplotlib.legend.Legend at 0x23884820230>"
      ]
     },
     "execution_count": 105,
     "metadata": {},
     "output_type": "execute_result"
    },
    {
     "data": {
      "image/png": "[encoded data removed]",
      "text/plain": [
       "<Figure size 1000x1000 with 1 Axes>"
      ]
     },
     "metadata": {},
     "output_type": "display_data"
    }
   ],
   "source": [
    "import matplotlib.pyplot as plt\n",
    "\n",
    "fig1, axs1 = plt.subplots(1, 1, sharex=True, figsize=(10,10))\n",
    "\n",
    "\n",
    "axs1.plot(times, load_list(\"unitary-4 min\") , label=\"unitary-4 min\")\n",
    "axs1.plot(times, load_list(\"test1\") , label=\"\")\n",
    "#axs1.plot(times, load_list() , label=)\n",
    "#axs1.plot(times, load_list() , label=)\n",
    "#axs1.plot(times, load_list() , label=)\n",
    "#axs1.plot(times, load_list() , label=)\n",
    "#axs1.plot(times, load_list() , label=)\n",
    "#axs1.plot(times, load_list() , label=)\n",
    "#axs1.plot(times, load_list() , label=)\n",
    "\n",
    "\n",
    "axs1.plot(times, tdvp_results_ex1 , label='result')\n",
    "\n",
    "axs1.set_xlabel(\"Time $t$\")\n",
    "axs1.set_ylabel(\"energy\")  \n",
    "axs1.legend()"
   ]
  },
  {
   "cell_type": "code",
   "execution_count": null,
   "metadata": {},
   "outputs": [
    {
     "name": "stdout",
     "output_type": "stream",
     "text": [
      "List loaded from results/unitary-18 min\n",
      "List loaded from results/unitary-18 min(2)\n",
      "List loaded from results/unitary-32 min\n",
      "List loaded from results/non-unitary-43 min - J=1\n",
      "List loaded from results/non-unitary-36 min - J=0.8\n"
     ]
    },
    {
     "data": {
      "text/plain": [
       "<matplotlib.legend.Legend at 0x1f501b95ca0>"
      ]
     },
     "metadata": {},
     "output_type": "display_data"
    },
    {
     "data": {
      "image/png": "[encoded data removed]",
      "text/plain": [
       "<Figure size 1000x1000 with 1 Axes>"
      ]
     },
     "metadata": {},
     "output_type": "display_data"
    }
   ],
   "source": [
    "import matplotlib.pyplot as plt\n",
    "\n",
    "fig1, axs1 = plt.subplots(1, 1, sharex=True, figsize=(10,10))\n",
    "\n",
    "\n",
    "axs1.plot(times, load_list(\"unitary-18 min\") , label='\"unitary-18 min\"')\n",
    "axs1.plot(times, load_list(\"unitary-18 min(2)\") , label=\"unitary-18 min(2)\")\n",
    "axs1.plot(times, load_list(\"unitary-32 min\") , label=\"unitary-32 min\")\n",
    "axs1.plot(times, load_list(\"non-unitary-43 min - J=1\") , label='J=1')\n",
    "#axs1.plot(times, load_list(\"non-unitary-53 min - J=10\") , label='unitary-32-5')\n",
    "#axs1.plot(times, load_list(\"non-unitary-32 min - J=1.5\") , label='unitary-32-5')\n",
    "axs1.plot(times, load_list(\"non-unitary-36 min - J=0.8\") , label='J=0.8')\n",
    "\n",
    "#axs1.plot(times, tdvp_results_ex1 , label='unitary-32-5')\n",
    "\n",
    "axs1.set_xlabel(\"Time $t$\")\n",
    "axs1.set_ylabel(\"energy\")  \n",
    "axs1.legend()"
   ]
  },
  {
   "cell_type": "code",
   "execution_count": null,
   "metadata": {},
   "outputs": [
    {
     "data": {
      "text/plain": [
       "<matplotlib.legend.Legend at 0x1f501bdb7a0>"
      ]
     },
     "metadata": {},
     "output_type": "display_data"
    },
    {
     "data": {
      "image/png": "[encoded data removed]",
      "text/plain": [
       "<Figure size 1000x1000 with 1 Axes>"
      ]
     },
     "metadata": {},
     "output_type": "display_data"
    }
   ],
   "source": [
    "import matplotlib.pyplot as plt\n",
    "\n",
    "fig1, axs1 = plt.subplots(1, 1, sharex=True, figsize=(10,10))\n",
    "\n",
    "\n",
    "\n",
    "axs1.plot(times, tdvp_results_ex1 , label='unitary-32-5')\n",
    "\n",
    "axs1.set_xlabel(\"Time $t$\")\n",
    "axs1.set_ylabel(\"energy\")  \n",
    "axs1.legend()"
   ]
  }
 ],
 "metadata": {
  "kernelspec": {
   "display_name": "Python 3",
   "language": "python",
   "name": "python3"
  },
  "language_info": {
   "codemirror_mode": {
    "name": "ipython",
    "version": 3
   },
   "file_extension": ".py",
   "mimetype": "text/x-python",
   "name": "python",
   "nbconvert_exporter": "python",
   "pygments_lexer": "ipython3",
   "version": "3.12.1"
  }
 },
 "nbformat": 4,
 "nbformat_minor": 2
}
