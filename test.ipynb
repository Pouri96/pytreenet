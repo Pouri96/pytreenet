{
 "cells": [
  {
   "cell_type": "code",
   "execution_count": 202,
   "metadata": {},
   "outputs": [],
   "source": [
    "import numpy as np\n",
    "import pytreenet as ptn\n",
    "from copy import deepcopy\n",
    "np.random.seed(82)\n",
    "X , Y , Z = ptn.pauli_matrices()\n",
    "from pytreenet.contractions.state_state_contraction import contract_leafs , contract_all_but_one_neighbour_block_to_ket , contract_bra_to_ket_and_blocks_ignore_one_leg"
   ]
  },
  {
   "cell_type": "code",
   "execution_count": 203,
   "metadata": {},
   "outputs": [],
   "source": [
    "def contract_leafs_2(node_id: str,\n",
    "                   state1,\n",
    "                   state2) -> np.ndarray:\n",
    "    \"\"\"\n",
    "    Returns:\n",
    "        np.ndarray: The tensor resulting from the contraction::\n",
    "\n",
    "                     _____\n",
    "               2____|     |\n",
    "                    |  B  |\n",
    "                    |_____|\n",
    "                       |\n",
    "                       |\n",
    "                     __|__\n",
    "               0____|     |\n",
    "                    |  A  |\n",
    "                    |_____|\n",
    "                       |\n",
    "                       |1\n",
    "    \"\"\"\n",
    "    node1 = state1.nodes[node_id]\n",
    "    node2 = state2.nodes[node_id]\n",
    "    assert node1.is_leaf() and node2.is_leaf()\n",
    "    errstr = \"The leaf nodes must have exactly one open leg.\"\n",
    "    assert len(node1.open_legs) == 2 and len(node2.open_legs) == 1, errstr\n",
    "    tensor = np.tensordot(state2.tensors[node_id],state1.tensors[node_id],\n",
    "                            axes=(node2.open_legs[0], node1.open_legs[1]))\n",
    "    return tensor"
   ]
  },
  {
   "cell_type": "code",
   "execution_count": 204,
   "metadata": {},
   "outputs": [],
   "source": [
    "ttn1 = ptn.random_big_ttns_two_root_children(ptn.RandomTTNSMode.DIFFVIRT)\n",
    "ttn2 = ptn.random_big_ttns_two_root_children(ptn.RandomTTNSMode.DIFFVIRT)"
   ]
  },
  {
   "cell_type": "code",
   "execution_count": 205,
   "metadata": {},
   "outputs": [],
   "source": [
    "possible_operators = [\"X\", \"Y\", \"Z\"]\n",
    "H = ptn.random_hamiltonian(num_of_terms= 7,\n",
    "                           possible_operators= possible_operators,\n",
    "                           tree= ttn1,\n",
    "                           strength = (-2,8),\n",
    "                           num_sites = (5,6),\n",
    "                           conversion_dict= {\"X\": X, \"Y\": Y, \"Z\": Z , \"I2\": np.eye(2), \"I3\": np.eye(3) , \"I4\": np.eye(4) , \"I5\": np.eye(5) , \"I6\": np.eye(6) , \"I7\": np.eye(7)})\n",
    "H = H.pad_with_identities(ttn1 , symbolic= True)\n",
    "\n",
    "ttno = ptn.TTNO.from_hamiltonian(H, ttn1)"
   ]
  },
  {
   "cell_type": "code",
   "execution_count": 206,
   "metadata": {},
   "outputs": [
    {
     "ename": "NameError",
     "evalue": "name 'v' is not defined",
     "output_type": "error",
     "traceback": [
      "\u001b[1;31m---------------------------------------------------------------------------\u001b[0m",
      "\u001b[1;31mNameError\u001b[0m                                 Traceback (most recent call last)",
      "Cell \u001b[1;32mIn[206], line 1\u001b[0m\n\u001b[1;32m----> 1\u001b[0m \u001b[43mv\u001b[49m\n",
      "\u001b[1;31mNameError\u001b[0m: name 'v' is not defined"
     ]
    }
   ],
   "source": [
    "v"
   ]
  },
  {
   "cell_type": "code",
   "execution_count": 240,
   "metadata": {},
   "outputs": [],
   "source": [
    "from pytreenet.contractions.contraction_util import determine_index_with_ignored_leg\n",
    "\n",
    "dictionary = ptn.PartialTreeCachDict()\n",
    "computation_order = ttn1.linearise() # Getting a linear list of all identifiers\n",
    "\n",
    "state1 = ttno \n",
    "state2  = ttn1"
   ]
  },
  {
   "cell_type": "code",
   "execution_count": 241,
   "metadata": {},
   "outputs": [
    {
     "data": {
      "text/plain": [
       "['site2', 'site4', 'site5', 'site3', 'site1', 'site7', 'site6', 'site0']"
      ]
     },
     "execution_count": 241,
     "metadata": {},
     "output_type": "execute_result"
    }
   ],
   "source": [
    "computation_order"
   ]
  },
  {
   "cell_type": "code",
   "execution_count": 242,
   "metadata": {},
   "outputs": [],
   "source": [
    "node_id = 'site2'\n",
    "parent_id = 'site1'\n",
    "block = contract_leafs_2(node_id,ttno,ttn1)\n",
    "dictionary.add_entry(node_id,parent_id,block)\n",
    "\n",
    "node_id = 'site4'\n",
    "parent_id = 'site3'\n",
    "block = contract_leafs_2(node_id,ttno,ttn1)\n",
    "dictionary.add_entry(node_id,parent_id,block)\n",
    "\n",
    "node_id = 'site5'\n",
    "parent_id = 'site3'\n",
    "block = contract_leafs_2(node_id,ttno,ttn1)\n",
    "dictionary.add_entry(node_id,parent_id,block)"
   ]
  },
  {
   "cell_type": "code",
   "execution_count": 243,
   "metadata": {},
   "outputs": [],
   "source": [
    "# contract_subtrees_using_dictionary(node_id, next_node_id, state1,state2, dictionary)\n",
    "node_id = 'site3'\n",
    "next_node_id = 'site1'"
   ]
  },
  {
   "cell_type": "code",
   "execution_count": 244,
   "metadata": {},
   "outputs": [],
   "source": [
    "ket_node, ket_tensor = state2[node_id]\n"
   ]
  },
  {
   "cell_type": "code",
   "execution_count": 245,
   "metadata": {},
   "outputs": [
    {
     "data": {
      "text/plain": [
       "(5, 2, 4, 2, 4, 2)"
      ]
     },
     "execution_count": 245,
     "metadata": {},
     "output_type": "execute_result"
    }
   ],
   "source": [
    "ketblock_tensor = contract_all_but_one_neighbour_block_to_ket(ket_tensor,\n",
    "                                                                ket_node,\n",
    "                                                                next_node_id,\n",
    "                                                                dictionary)\n",
    "\n",
    "ketblock_tensor.shape"
   ]
  },
  {
   "cell_type": "code",
   "execution_count": 246,
   "metadata": {},
   "outputs": [
    {
     "data": {
      "text/plain": [
       "(7, 4, 4, 2, 2)"
      ]
     },
     "execution_count": 246,
     "metadata": {},
     "output_type": "execute_result"
    }
   ],
   "source": [
    "bra_node, bra_tensor = state1[node_id]\n",
    "bra_tensor.shape"
   ]
  },
  {
   "cell_type": "code",
   "execution_count": 247,
   "metadata": {},
   "outputs": [
    {
     "data": {
      "text/plain": [
       "(5, 7, 2, 2, 2)"
      ]
     },
     "execution_count": 247,
     "metadata": {},
     "output_type": "execute_result"
    }
   ],
   "source": [
    "list = []\n",
    "for neighbour_id in ket_node.neighbouring_nodes():\n",
    "    if neighbour_id != next_node_id:\n",
    "        list.append(neighbour_id)\n",
    "A = np.tensordot(ketblock_tensor,bra_tensor, axes=([bra_node.neighbour_index(a) * 2 for a in list] + [1],[bra_node.neighbour_index(a) for a in list] + [-1] ))\n",
    "A = A.transpose([0,3,1,2,4])\n",
    "A.shape"
   ]
  },
  {
   "cell_type": "code",
   "execution_count": 248,
   "metadata": {},
   "outputs": [],
   "source": [
    "dictionary.add_entry('site3','site1',A)"
   ]
  },
  {
   "cell_type": "code",
   "execution_count": 249,
   "metadata": {},
   "outputs": [],
   "source": [
    "node_id = 'site1'\n",
    "next_node_id = 'site0'\n"
   ]
  },
  {
   "cell_type": "code",
   "execution_count": 250,
   "metadata": {},
   "outputs": [],
   "source": [
    "ket_node, ket_tensor = state2[node_id]"
   ]
  },
  {
   "cell_type": "code",
   "execution_count": 251,
   "metadata": {},
   "outputs": [
    {
     "data": {
      "text/plain": [
       "(7, 2, 2, 2, 7, 2, 2, 2)"
      ]
     },
     "execution_count": 251,
     "metadata": {},
     "output_type": "execute_result"
    }
   ],
   "source": [
    "ketblock_tensor = contract_all_but_one_neighbour_block_to_ket(ket_tensor,\n",
    "                                                                ket_node,\n",
    "                                                                next_node_id,\n",
    "                                                                dictionary)\n",
    "\n",
    "ketblock_tensor.shape"
   ]
  },
  {
   "cell_type": "code",
   "execution_count": 254,
   "metadata": {},
   "outputs": [
    {
     "data": {
      "text/plain": [
       "(6, 2, 7, 2, 2)"
      ]
     },
     "execution_count": 254,
     "metadata": {},
     "output_type": "execute_result"
    }
   ],
   "source": [
    "bra_node, bra_tensor = state1[node_id]\n",
    "bra_tensor.shape"
   ]
  },
  {
   "cell_type": "code",
   "execution_count": 255,
   "metadata": {},
   "outputs": [
    {
     "ename": "ValueError",
     "evalue": "axes don't match array",
     "output_type": "error",
     "traceback": [
      "\u001b[1;31m---------------------------------------------------------------------------\u001b[0m",
      "\u001b[1;31mValueError\u001b[0m                                Traceback (most recent call last)",
      "Cell \u001b[1;32mIn[255], line 6\u001b[0m\n\u001b[0;32m      4\u001b[0m         \u001b[38;5;28mlist\u001b[39m\u001b[38;5;241m.\u001b[39mappend(neighbour_id)\n\u001b[0;32m      5\u001b[0m A \u001b[38;5;241m=\u001b[39m np\u001b[38;5;241m.\u001b[39mtensordot(ketblock_tensor,bra_tensor, axes\u001b[38;5;241m=\u001b[39m([bra_node\u001b[38;5;241m.\u001b[39mneighbour_index(a) \u001b[38;5;241m*\u001b[39m \u001b[38;5;241m2\u001b[39m \u001b[38;5;28;01mfor\u001b[39;00m a \u001b[38;5;129;01min\u001b[39;00m \u001b[38;5;28mlist\u001b[39m] \u001b[38;5;241m+\u001b[39m [\u001b[38;5;241m1\u001b[39m],[bra_node\u001b[38;5;241m.\u001b[39mneighbour_index(a) \u001b[38;5;28;01mfor\u001b[39;00m a \u001b[38;5;129;01min\u001b[39;00m \u001b[38;5;28mlist\u001b[39m] \u001b[38;5;241m+\u001b[39m [\u001b[38;5;241m-\u001b[39m\u001b[38;5;241m1\u001b[39m] ))\n\u001b[1;32m----> 6\u001b[0m A \u001b[38;5;241m=\u001b[39m \u001b[43mA\u001b[49m\u001b[38;5;241;43m.\u001b[39;49m\u001b[43mtranspose\u001b[49m\u001b[43m(\u001b[49m\u001b[43m[\u001b[49m\u001b[38;5;241;43m0\u001b[39;49m\u001b[43m,\u001b[49m\u001b[38;5;241;43m3\u001b[39;49m\u001b[43m,\u001b[49m\u001b[38;5;241;43m1\u001b[39;49m\u001b[43m,\u001b[49m\u001b[38;5;241;43m2\u001b[39;49m\u001b[43m,\u001b[49m\u001b[38;5;241;43m4\u001b[39;49m\u001b[43m]\u001b[49m\u001b[43m)\u001b[49m\n\u001b[0;32m      7\u001b[0m A\u001b[38;5;241m.\u001b[39mshape\n",
      "\u001b[1;31mValueError\u001b[0m: axes don't match array"
     ]
    }
   ],
   "source": [
    "list = []\n",
    "for neighbour_id in ket_node.neighbouring_nodes():\n",
    "    if neighbour_id != next_node_id:\n",
    "        list.append(neighbour_id)\n",
    "A = np.tensordot(ketblock_tensor,bra_tensor, axes=([bra_node.neighbour_index(a) * 2 for a in list] + [1],[bra_node.neighbour_index(a) for a in list] + [-1] ))\n"
   ]
  },
  {
   "cell_type": "code",
   "execution_count": 252,
   "metadata": {},
   "outputs": [
    {
     "ename": "NameError",
     "evalue": "name 'v' is not defined",
     "output_type": "error",
     "traceback": [
      "\u001b[1;31m---------------------------------------------------------------------------\u001b[0m",
      "\u001b[1;31mNameError\u001b[0m                                 Traceback (most recent call last)",
      "Cell \u001b[1;32mIn[252], line 1\u001b[0m\n\u001b[1;32m----> 1\u001b[0m \u001b[43mv\u001b[49m\n",
      "\u001b[1;31mNameError\u001b[0m: name 'v' is not defined"
     ]
    }
   ],
   "source": [
    "v"
   ]
  },
  {
   "cell_type": "code",
   "execution_count": null,
   "metadata": {},
   "outputs": [],
   "source": []
  },
  {
   "cell_type": "code",
   "execution_count": null,
   "metadata": {},
   "outputs": [],
   "source": []
  },
  {
   "cell_type": "code",
   "execution_count": null,
   "metadata": {},
   "outputs": [],
   "source": []
  },
  {
   "cell_type": "code",
   "execution_count": 84,
   "metadata": {},
   "outputs": [],
   "source": [
    "dictionary = ptn.PartialTreeCachDict()\n",
    "computation_order = ttn1.linearise() # Getting a linear list of all identifiers\n",
    "computation_order\n",
    "\n",
    "state1 = ttn1 \n",
    "state2  = ttn2"
   ]
  },
  {
   "cell_type": "code",
   "execution_count": 85,
   "metadata": {},
   "outputs": [],
   "source": [
    "node_id = 'site2'\n",
    "parent_id = 'site1'\n",
    "block = contract_leafs(node_id,state1,state2)\n",
    "dictionary.add_entry(node_id,parent_id,block)\n",
    "\n",
    "node_id = 'site4'\n",
    "parent_id = 'site3'\n",
    "block = contract_leafs(node_id,state1,state2)\n",
    "dictionary.add_entry(node_id,parent_id,block)\n",
    "\n",
    "node_id = 'site5'\n",
    "parent_id = 'site3'\n",
    "block = contract_leafs(node_id,state1,state2)\n",
    "dictionary.add_entry(node_id,parent_id,block)"
   ]
  },
  {
   "cell_type": "code",
   "execution_count": 86,
   "metadata": {},
   "outputs": [
    {
     "data": {
      "text/plain": [
       "((4, 4), (2, 2), (3, 3))"
      ]
     },
     "execution_count": 86,
     "metadata": {},
     "output_type": "execute_result"
    }
   ],
   "source": [
    "dictionary[('site2', 'site1')].shape , dictionary[('site4', 'site3')].shape , dictionary[('site5', 'site3')].shape"
   ]
  },
  {
   "cell_type": "code",
   "execution_count": 87,
   "metadata": {},
   "outputs": [],
   "source": [
    "# contract_subtrees_using_dictionary(node_id, next_node_id, state1,state2, dictionary)\n",
    "node_id = 'site3'\n",
    "next_node_id = 'site1'\n"
   ]
  },
  {
   "cell_type": "code",
   "execution_count": 88,
   "metadata": {},
   "outputs": [],
   "source": [
    "ket_node, ket_tensor = state1[node_id]\n",
    "ketblock_tensor = contract_all_but_one_neighbour_block_to_ket(ket_tensor,\n",
    "                                                                ket_node,\n",
    "                                                                next_node_id,\n",
    "                                                                dictionary)"
   ]
  },
  {
   "cell_type": "code",
   "execution_count": 89,
   "metadata": {},
   "outputs": [
    {
     "data": {
      "text/plain": [
       "(5, 2, 2, 3)"
      ]
     },
     "execution_count": 89,
     "metadata": {},
     "output_type": "execute_result"
    }
   ],
   "source": [
    "ketblock_tensor.shape"
   ]
  },
  {
   "cell_type": "code",
   "execution_count": 90,
   "metadata": {},
   "outputs": [
    {
     "data": {
      "text/plain": [
       "1"
      ]
     },
     "execution_count": 90,
     "metadata": {},
     "output_type": "execute_result"
    }
   ],
   "source": [
    "from pytreenet.contractions.contraction_util import determine_index_with_ignored_leg , contract_neighbour_block_to_ket_ignore_one_leg\n",
    "neighbour_id = \"site4\"\n",
    "ignoring_node_id = \"site1\"\n",
    "determine_index_with_ignored_leg(ket_node,\n",
    "                                                                 neighbour_id,\n",
    "                                                                 ignoring_node_id)"
   ]
  },
  {
   "cell_type": "code",
   "execution_count": null,
   "metadata": {},
   "outputs": [],
   "source": [
    "contract_neighbour_block_to_ket_ignore_one_leg(ket_tensor,\n",
    "                                                   ket_node,\n",
    "                                                   neighbour_id,\n",
    "                                                   ignoring_node_id,\n",
    "                                                   dictionary)"
   ]
  }
 ],
 "metadata": {
  "kernelspec": {
   "display_name": "Python 3",
   "language": "python",
   "name": "python3"
  },
  "language_info": {
   "codemirror_mode": {
    "name": "ipython",
    "version": 3
   },
   "file_extension": ".py",
   "mimetype": "text/x-python",
   "name": "python",
   "nbconvert_exporter": "python",
   "pygments_lexer": "ipython3",
   "version": "3.12.1"
  }
 },
 "nbformat": 4,
 "nbformat_minor": 2
}
