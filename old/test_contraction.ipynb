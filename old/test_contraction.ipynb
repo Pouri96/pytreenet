{
 "cells": [
  {
   "cell_type": "code",
   "execution_count": null,
   "metadata": {},
   "outputs": [],
   "source": [
    "######## leg convention ########\n",
    "# in : ket\n",
    "# out : bra\n",
    "\n",
    "# ttno.tensors[\"node_id\"].shape = (neighbour_legs, out_legs, in_legs)\n",
    "# cached_tensor.shape = (in_legs, neighbour_legs, out_legs)\n",
    "# _contract_all_except_node = ( cache1_out, cache2_out, ttno_out, cache1_in , cache2_in, ttno_in)\n",
    "\n",
    "# contracted_ttn , contraction_oder =  ttn2.completely_contract_tree(to_copy=True)\n",
    "# contracted_ttn = [ contraction_oder[0]'s open_legs , contraction_oder[1]'s open_legs , .....]"
   ]
  },
  {
   "cell_type": "code",
   "execution_count": 2,
   "metadata": {},
   "outputs": [],
   "source": [
    "import numpy as np\n",
    "import pytreenet as ptn\n",
    "from copy import deepcopy\n",
    "\n",
    "from pytreenet import contraction_util as cnt"
   ]
  },
  {
   "cell_type": "code",
   "execution_count": 3,
   "metadata": {},
   "outputs": [],
   "source": [
    "from pytreenet.contractions.state_operator_contraction import contract_operator_tensor_ignoring_one_leg , contract_bra_tensor_ignore_one_leg"
   ]
  },
  {
   "cell_type": "code",
   "execution_count": 36,
   "metadata": {},
   "outputs": [
    {
     "ename": "MemoryError",
     "evalue": "Unable to allocate 388. MiB for an array with shape (5040, 5040) and data type complex128",
     "output_type": "error",
     "traceback": [
      "\u001b[1;31m---------------------------------------------------------------------------\u001b[0m",
      "\u001b[1;31mMemoryError\u001b[0m                               Traceback (most recent call last)",
      "Cell \u001b[1;32mIn[36], line 31\u001b[0m\n\u001b[0;32m     27\u001b[0m     \u001b[38;5;28;01mreturn\u001b[39;00m random_ttns\n\u001b[0;32m     29\u001b[0m ttn \u001b[38;5;241m=\u001b[39m random_big_ttns_two_root_children2()\n\u001b[1;32m---> 31\u001b[0m matrix \u001b[38;5;241m=\u001b[39m \u001b[43mptn\u001b[49m\u001b[38;5;241;43m.\u001b[39;49m\u001b[43mrandom_hermitian_matrix\u001b[49m\u001b[43m(\u001b[49m\u001b[43m(\u001b[49m\u001b[38;5;241;43m2\u001b[39;49m\u001b[38;5;241;43m*\u001b[39;49m\u001b[38;5;241;43m3\u001b[39;49m\u001b[38;5;241;43m*\u001b[39;49m\u001b[38;5;241;43m4\u001b[39;49m\u001b[38;5;241;43m*\u001b[39;49m\u001b[38;5;241;43m5\u001b[39;49m\u001b[38;5;241;43m*\u001b[39;49m\u001b[38;5;241;43m6\u001b[39;49m\u001b[38;5;241;43m*\u001b[39;49m\u001b[38;5;241;43m7\u001b[39;49m\u001b[43m)\u001b[49m\u001b[43m)\u001b[49m\n\u001b[0;32m     32\u001b[0m matrix \u001b[38;5;241m=\u001b[39m matrix\u001b[38;5;241m.\u001b[39mreshape(\u001b[38;5;241m2\u001b[39m,\u001b[38;5;241m3\u001b[39m,\u001b[38;5;241m4\u001b[39m,\u001b[38;5;241m5\u001b[39m,\u001b[38;5;241m6\u001b[39m,\u001b[38;5;241m7\u001b[39m,\u001b[38;5;241m2\u001b[39m,\u001b[38;5;241m3\u001b[39m,\u001b[38;5;241m4\u001b[39m,\u001b[38;5;241m5\u001b[39m,\u001b[38;5;241m6\u001b[39m,\u001b[38;5;241m7\u001b[39m)\n\u001b[0;32m     33\u001b[0m leg_dict \u001b[38;5;241m=\u001b[39m {\u001b[38;5;124m\"\u001b[39m\u001b[38;5;124msite\u001b[39m\u001b[38;5;124m\"\u001b[39m\u001b[38;5;241m+\u001b[39m\u001b[38;5;28mstr\u001b[39m(i): i \u001b[38;5;28;01mfor\u001b[39;00m i \u001b[38;5;129;01min\u001b[39;00m \u001b[38;5;28mrange\u001b[39m(\u001b[38;5;241m6\u001b[39m)}\n",
      "File \u001b[1;32mc:\\Users\\edpou\\Desktop\\Ed\\PyTreeNet-main\\pytreenet\\operators\\common_operators.py:95\u001b[0m, in \u001b[0;36mrandom_hermitian_matrix\u001b[1;34m(size)\u001b[0m\n\u001b[0;32m     93\u001b[0m     errstr \u001b[38;5;241m=\u001b[39m \u001b[38;5;124m\"\u001b[39m\u001b[38;5;124mThe dimension must be positive!\u001b[39m\u001b[38;5;124m\"\u001b[39m\n\u001b[0;32m     94\u001b[0m     \u001b[38;5;28;01mraise\u001b[39;00m \u001b[38;5;167;01mValueError\u001b[39;00m(errstr)\n\u001b[1;32m---> 95\u001b[0m matrix \u001b[38;5;241m=\u001b[39m \u001b[43mcrandn\u001b[49m\u001b[43m(\u001b[49m\u001b[43m(\u001b[49m\u001b[43msize\u001b[49m\u001b[43m,\u001b[49m\u001b[43msize\u001b[49m\u001b[43m)\u001b[49m\u001b[43m)\u001b[49m\n\u001b[0;32m     96\u001b[0m \u001b[38;5;28;01mreturn\u001b[39;00m \u001b[38;5;241m0.5\u001b[39m \u001b[38;5;241m*\u001b[39m (matrix \u001b[38;5;241m+\u001b[39m matrix\u001b[38;5;241m.\u001b[39mT\u001b[38;5;241m.\u001b[39mconj())\n",
      "File \u001b[1;32mc:\\Users\\edpou\\Desktop\\Ed\\PyTreeNet-main\\pytreenet\\util.py:20\u001b[0m, in \u001b[0;36mcrandn\u001b[1;34m(size)\u001b[0m\n\u001b[0;32m     15\u001b[0m \u001b[38;5;250m\u001b[39m\u001b[38;5;124;03m\"\"\"\u001b[39;00m\n\u001b[0;32m     16\u001b[0m \u001b[38;5;124;03mDraw random samples from the standard complex normal (Gaussian) distribution.\u001b[39;00m\n\u001b[0;32m     17\u001b[0m \u001b[38;5;124;03m\"\"\"\u001b[39;00m\n\u001b[0;32m     18\u001b[0m \u001b[38;5;66;03m# 1/sqrt(2) is a normalization factor\u001b[39;00m\n\u001b[0;32m     19\u001b[0m \u001b[38;5;28;01mreturn\u001b[39;00m (np\u001b[38;5;241m.\u001b[39mrandom\u001b[38;5;241m.\u001b[39mstandard_normal(size)\n\u001b[1;32m---> 20\u001b[0m    \u001b[38;5;241m+\u001b[39m \u001b[38;5;241;43m1\u001b[39;49m\u001b[43mj\u001b[49m\u001b[38;5;241;43m*\u001b[39;49m\u001b[43mnp\u001b[49m\u001b[38;5;241;43m.\u001b[39;49m\u001b[43mrandom\u001b[49m\u001b[38;5;241;43m.\u001b[39;49m\u001b[43mstandard_normal\u001b[49m\u001b[43m(\u001b[49m\u001b[43msize\u001b[49m\u001b[43m)\u001b[49m) \u001b[38;5;241m/\u001b[39m np\u001b[38;5;241m.\u001b[39msqrt(\u001b[38;5;241m2\u001b[39m)\n",
      "\u001b[1;31mMemoryError\u001b[0m: Unable to allocate 388. MiB for an array with shape (5040, 5040) and data type complex128"
     ]
    }
   ],
   "source": [
    "def random_big_ttns_two_root_children2():\n",
    "    \"\"\"\n",
    "    Provides a ttns of the form\n",
    "                0\n",
    "               /\n",
    "              /  \n",
    "             1    \n",
    "            / \\\\   \n",
    "           /   \\\\    \n",
    "          2     3    \n",
    "               / \\\\\n",
    "              /   \\\\\n",
    "             4     5\n",
    "\n",
    "    \"\"\"\n",
    "    shapes = [(7,2),(7,4,5,3),(4,4),(5,2,3,5),\n",
    "                  (2,6),(3,7)]\n",
    "    nodes = [ptn.random_tensor_node(shape, identifier=\"site\"+str(i))\n",
    "             for i, shape in enumerate(shapes)]\n",
    "    random_ttns = ptn.TreeTensorNetworkState()\n",
    "    random_ttns.add_root(nodes[0][0], nodes[0][1])\n",
    "    random_ttns.add_child_to_parent(nodes[1][0],nodes[1][1],0,\"site0\",0)\n",
    "    random_ttns.add_child_to_parent(nodes[2][0],nodes[2][1],0,\"site1\",1)\n",
    "    random_ttns.add_child_to_parent(nodes[3][0],nodes[3][1],0,\"site1\",2)\n",
    "    random_ttns.add_child_to_parent(nodes[4][0],nodes[4][1],0,\"site3\",1)\n",
    "    random_ttns.add_child_to_parent(nodes[5][0],nodes[5][1],0,\"site3\",2)\n",
    "    return random_ttns\n",
    "\n",
    "ttn = random_big_ttns_two_root_children2()\n",
    "\n",
    "matrix = ptn.random_hermitian_matrix((2*3*4*5*6*7))\n",
    "matrix = matrix.reshape(2,3,4,5,6,7,2,3,4,5,6,7)\n",
    "leg_dict = {\"site\"+str(i): i for i in range(6)}\n",
    "ttno = ptn.TTNO.from_tensor(ttn, matrix, leg_dict)"
   ]
  },
  {
   "cell_type": "code",
   "execution_count": 33,
   "metadata": {},
   "outputs": [
    {
     "name": "stdout",
     "output_type": "stream",
     "text": [
      "(3, 0, 2, 1)\n",
      "(3, 5, 7, 0, 2, 4, 6, 1)\n",
      "(3, 0, 2, 1)\n",
      "(3, 5, 7, 0, 2, 4, 6, 1)\n",
      "(3, 0, 2, 1)\n",
      "(3, 0, 2, 1)\n"
     ]
    }
   ],
   "source": [
    "for i in range(len(ttn.nodes)):\n",
    "    print(find_tensor_leg_permutation(ttn,f\"site{i}\"))"
   ]
  },
  {
   "cell_type": "code",
   "execution_count": 34,
   "metadata": {},
   "outputs": [
    {
     "name": "stdout",
     "output_type": "stream",
     "text": [
      "(7, 2)\n",
      "(7, 4, 5, 3)\n",
      "(4, 4)\n",
      "(5, 2, 3, 5)\n",
      "(2, 6)\n",
      "(3, 7)\n"
     ]
    }
   ],
   "source": [
    "for i in range(len(ttn.nodes)):\n",
    "    print(ttn.tensors[f\"site{i}\"].shape)"
   ]
  },
  {
   "cell_type": "code",
   "execution_count": null,
   "metadata": {},
   "outputs": [],
   "source": [
    "for i in range(len(ttn.nodes)):\n",
    "    print(ttn.tensors[f\"site{i}\"].shape)\n",
    "    \n",
    "ttn.canonical_form(\"site4\")\n",
    "for i in range(len(ttn.nodes)):\n",
    "    print(ttn.tensors[f\"site{i}\"].shape)    "
   ]
  },
  {
   "cell_type": "code",
   "execution_count": null,
   "metadata": {},
   "outputs": [],
   "source": []
  },
  {
   "cell_type": "code",
   "execution_count": 30,
   "metadata": {},
   "outputs": [],
   "source": [
    "def find_tensor_leg_permutation(ttn: ptn.TreeTensorNetwork, node_id: str) -> tuple[int,...]:\n",
    "    \"\"\"\n",
    "        After contracting all the cached tensors to the site Hamiltonian, the\n",
    "         legs of the resulting tensor are in the order of the Hamiltonian TTNO.\n",
    "         However, they need to be permuted to match the legs of the site's\n",
    "         state tensor. Such that the two can be easily contracted.\n",
    "    \"\"\"\n",
    "    state_node = ttn.nodes[node_id]\n",
    "    hamiltonian_node = ttn.nodes[node_id]\n",
    "    permutation = []\n",
    "    for neighbour_id in state_node.neighbouring_nodes():\n",
    "        hamiltonian_index = hamiltonian_node.neighbour_index(neighbour_id)\n",
    "        permutation.append(hamiltonian_index)\n",
    "    output_legs = []\n",
    "    input_legs = []\n",
    "    for hamiltonian_index in permutation:\n",
    "        output_legs.append(2*hamiltonian_index+3)\n",
    "        input_legs.append(2*hamiltonian_index+2)\n",
    "    output_legs.append(0)\n",
    "    input_legs.append(1)\n",
    "    output_legs.extend(input_legs)\n",
    "    return tuple(output_legs)"
   ]
  },
  {
   "cell_type": "code",
   "execution_count": 59,
   "metadata": {},
   "outputs": [
    {
     "name": "stdout",
     "output_type": "stream",
     "text": [
      "dict_keys([('site0', 'site1'), ('site2', 'site1'), ('site1', 'site3'), ('site5', 'site3'), ('site3', 'site4')])\n"
     ]
    }
   ],
   "source": [
    "tdvp = ptn.OneSiteTDVP(ttn, ttno, 0.1 , 10, {\"site0\": \"A\"})\n",
    "print(tdvp.partial_tree_cache.keys())\n",
    "\n",
    "tdvp.update_tree_cache(\"site4\",\"site3\")\n",
    "tdvp.update_tree_cache(\"site5\",\"site3\")\n",
    "tdvp.update_tree_cache(\"site3\",\"site1\")"
   ]
  },
  {
   "cell_type": "code",
   "execution_count": 24,
   "metadata": {},
   "outputs": [
    {
     "data": {
      "text/plain": [
       "(['site0', 'site2', 'site1', 'site5', 'site3', 'site4'],\n",
       " {'site0': 'site1',\n",
       "  'site1': 'site3',\n",
       "  'site3': 'site4',\n",
       "  'site2': 'site1',\n",
       "  'site5': 'site3'})"
      ]
     },
     "execution_count": 24,
     "metadata": {},
     "output_type": "execute_result"
    }
   ],
   "source": [
    "# initial partial tree cache is besed on (rev_update_path , next_node_id_dict[rev_update_path])\n",
    "rev_update_path , next_node_id_dict = tdvp._find_caching_path()\n",
    "rev_update_path , next_node_id_dict"
   ]
  },
  {
   "cell_type": "code",
   "execution_count": 44,
   "metadata": {},
   "outputs": [],
   "source": [
    "## update_tree_cache ## \n",
    "\n",
    "# (\"site0\", \"site1\")  --> contract_leaf\n",
    "ket_node, ket_tensor = ttn[\"site0\"]\n",
    "bra_tensor = ket_tensor.conj()\n",
    "ham_node, ham_tensor = ttno[\"site0\"]\n",
    "# ham_tensor = (4, 2, 2) , bra_tensor = (7, 2)\n",
    "bra_ham = np.tensordot(ham_tensor, bra_tensor,\n",
    "                       axes=(ham_node.nneighbours(),  # 1\n",
    "                             ket_node.nneighbours())) # 1\n",
    "bra_ham_ket = np.tensordot(ket_tensor, bra_ham,\n",
    "                          axes=(ket_node.nneighbours(),  # 1 \n",
    "                                ham_node.nneighbours())) # 1\n",
    "# bra_ham_ket.shape = (7, 4 ,7)\n",
    "\n",
    "# (\"site1\", \"site3\") ---> contract_subtrees_using_dictionary\n",
    "\n",
    "ket_node, ket_tensor = ttn[\"site1\"] # (7, 4, 5, 3)\n",
    "tensor = cnt.contract_all_but_one_neighbour_block_to_ket(ket_tensor,\n",
    "                                                         ket_node,\n",
    "                                                         \"site3\",\n",
    "                                                         tdvp.partial_tree_cache)\n",
    "# tensor.shape = (5, 3, 4, 7, 16, 4)\n",
    "\n",
    "tensor_ref = contract_operator_tensor_ignoring_one_leg(tensor,\n",
    "                                                      ket_node,\n",
    "                                                      ttno.tensors[\"site1\"],\n",
    "                                                      ttno.nodes[\"site1\"],\n",
    "                                                     \"site3\")"
   ]
  },
  {
   "cell_type": "markdown",
   "metadata": {},
   "source": [
    "# _contract_all_except_node"
   ]
  },
  {
   "cell_type": "code",
   "execution_count": 4,
   "metadata": {},
   "outputs": [
    {
     "data": {
      "text/plain": [
       "True"
      ]
     },
     "execution_count": 4,
     "metadata": {},
     "output_type": "execute_result"
    }
   ],
   "source": [
    "tensor_ref = tdvp._contract_all_except_node(\"site4\") \n",
    "\n",
    "tensor = ttno.tensors[\"site4\"] # (36,6,6)\n",
    "# for neighbour = site3:\n",
    "cached_tensor = tdvp.partial_tree_cache.get_entry(\"site3\",\"site4\") # (2,36,2)\n",
    "tensor = np.tensordot(tensor, cached_tensor, axes=((0,1))) # (6, 6, 2, 2)\n",
    "\n",
    "axes = tdvp._find_tensor_leg_permutation(\"site4\") # (3, 0, 2, 1)\n",
    "tensor = np.transpose(tensor, axes=axes) # (6, 2, 6, 2)\n",
    "\n",
    "np.allclose(tensor, tensor_ref)"
   ]
  },
  {
   "cell_type": "code",
   "execution_count": 5,
   "metadata": {},
   "outputs": [
    {
     "data": {
      "text/plain": [
       "True"
      ]
     },
     "execution_count": 5,
     "metadata": {},
     "output_type": "execute_result"
    }
   ],
   "source": [
    "\n",
    "tensor_ref = tdvp._contract_all_except_node(\"site3\") \n",
    "\n",
    "tensor = ttno.tensors[\"site3\"] # (576, 36, 49, 5, 5)\n",
    "# for neighbour = site1 / site4/ site5:\n",
    "cached_tensor = tdvp.partial_tree_cache.get_entry(\"site1\",\"site3\") # (5, 576, 5)\n",
    "tensor = np.tensordot(tensor, cached_tensor, axes=((0,1))) # (36, 49, 5, 5, 5, 5)\n",
    "\n",
    "cached_tensor = tdvp.partial_tree_cache.get_entry(\"site4\",\"site3\") # (2, 36, 2)\n",
    "tensor = np.tensordot(tensor, cached_tensor, axes=((0,1))) # (49, 5, 5, 5, 5, 2, 2)\n",
    "\n",
    "cached_tensor = tdvp.partial_tree_cache.get_entry(\"site5\",\"site3\") # (3, 49, 3)\n",
    "tensor = np.tensordot(tensor, cached_tensor, axes=((0,1))) # (5, 5, 5, 5, 2, 2, 3, 3)\n",
    "\n",
    "axes = tdvp._find_tensor_leg_permutation(\"site3\") # (3, 5, 7, 0, 2, 4, 6, 1)\n",
    "tensor = np.transpose(tensor, axes=axes) # (5, 2, 3, 5, 5, 2, 3, 5)\n",
    "\n",
    "np.allclose(tensor, tensor_ref)"
   ]
  },
  {
   "cell_type": "markdown",
   "metadata": {},
   "source": [
    "# _get_effective_site_hamiltonian"
   ]
  },
  {
   "cell_type": "code",
   "execution_count": 125,
   "metadata": {},
   "outputs": [],
   "source": [
    "tensor = ptn.tensor_matricisation_half(tensor)"
   ]
  },
  {
   "cell_type": "markdown",
   "metadata": {},
   "source": [
    "# _get_effective_link_hamiltonian"
   ]
  },
  {
   "cell_type": "code",
   "execution_count": 310,
   "metadata": {},
   "outputs": [],
   "source": [
    "tdvp._split_updated_site(\"site3\",\"site4\")\n",
    "\n",
    "ref_tensor = tdvp._get_effective_link_hamiltonian(\"site3\",\"site4\")\n",
    "\n",
    "new_cache_tensor = tdvp.partial_tree_cache.get_entry(\"site3\",\"site4\")\n",
    "other_cache_tensor = tdvp.partial_tree_cache.get_entry(\"site4\",\"site3\")\n",
    "tensor = np.tensordot(new_cache_tensor,other_cache_tensor,axes=(1,1))\n",
    "tensor = np.transpose(tensor, axes=[1,3,0,2]) \n",
    "tensor = ptn.tensor_matricisation_half(tensor)\n",
    "\n",
    "np.allclose(tensor, ref_tensor)\n",
    "\n",
    "tdvp.state.contract_nodes(\"link_site3_with_site4\", \"site4\",\"site4\")"
   ]
  },
  {
   "cell_type": "markdown",
   "metadata": {},
   "source": [
    "# contract_neighbour_block_to_ket"
   ]
  },
  {
   "cell_type": "code",
   "execution_count": 315,
   "metadata": {},
   "outputs": [
    {
     "name": "stdout",
     "output_type": "stream",
     "text": [
      "(7, 5, 4, 3)\n",
      "(4, 16, 4)\n"
     ]
    },
    {
     "data": {
      "text/plain": [
       "(7, 5, 3, 16, 4)"
      ]
     },
     "execution_count": 315,
     "metadata": {},
     "output_type": "execute_result"
    }
   ],
   "source": [
    "tensor = cnt.contract_neighbour_block_to_ket(ket_tensor = tdvp.state.tensors[\"site1\"],\n",
    "                                             ket_node = tdvp.state.nodes[\"site1\"],\n",
    "                                             neighbour_id = \"site2\",\n",
    "                                             partial_tree_cache = tdvp.partial_tree_cache,\n",
    "                                            )\n",
    "print(tdvp.state.tensors[\"site1\"].shape)\n",
    "print(tdvp.partial_tree_cache.get_entry(\"site2\",\"site1\").shape)\n",
    "tensor.shape"
   ]
  },
  {
   "cell_type": "markdown",
   "metadata": {},
   "source": [
    "# contract_all_but_one_neighbour_block_to_ket"
   ]
  },
  {
   "cell_type": "code",
   "execution_count": 329,
   "metadata": {},
   "outputs": [
    {
     "name": "stdout",
     "output_type": "stream",
     "text": [
      "(7, 5, 4, 3)\n",
      "(5, 576, 5)\n",
      "(4, 16, 4)\n",
      "(7, 3, 576, 5, 16, 4)\n"
     ]
    }
   ],
   "source": [
    "tensor = cnt.contract_all_but_one_neighbour_block_to_ket(ket_tensor = tdvp.state.tensors[\"site1\"],\n",
    "                                                         ket_node = tdvp.state.nodes[\"site1\"],\n",
    "                                                         next_node_id = \"site0\",\n",
    "                                                         partial_tree_cache = tdvp.partial_tree_cache,\n",
    "                                                         )\n",
    "print( tdvp.state.tensors[\"site1\"].shape)\n",
    "print( tdvp.partial_tree_cache.get_entry(\"site3\",\"site1\").shape)\n",
    "print(tdvp.partial_tree_cache.get_entry(\"site2\",\"site1\").shape)\n",
    "print(tensor.shape)"
   ]
  },
  {
   "cell_type": "code",
   "execution_count": 317,
   "metadata": {},
   "outputs": [],
   "source": [
    "result_tensor = tdvp.state.tensors[\"site1\"]\n",
    "# ket_node.neighbouring_nodes() = ['site0', 'site3', 'site2']\n",
    "# for ket_node.neighbouring_nodes() != next_node_id\n",
    "neighbour_id = \"site3\"\n",
    "result_tensor = cnt.contract_neighbour_block_to_ket_ignore_one_leg(result_tensor,\n",
    "                                                                   tdvp.state.nodes[\"site1\"],\n",
    "                                                                   neighbour_id,\n",
    "                                                                   'site0',\n",
    "                                                                    tdvp.partial_tree_cache)\n",
    "neighbour_id = \"site2\"\n",
    "result_tensor = cnt.contract_neighbour_block_to_ket_ignore_one_leg(result_tensor,\n",
    "                                                                   tdvp.state.nodes[\"site1\"],\n",
    "                                                                   neighbour_id,\n",
    "                                                                   'site0',\n",
    "                                                                    tdvp.partial_tree_cache)"
   ]
  },
  {
   "cell_type": "markdown",
   "metadata": {},
   "source": [
    "# contract_all_neighbour_blocks_to_ket"
   ]
  },
  {
   "cell_type": "code",
   "execution_count": 17,
   "metadata": {},
   "outputs": [
    {
     "name": "stdout",
     "output_type": "stream",
     "text": [
      "(3, 4, 7, 576, 5, 16, 4)\n"
     ]
    }
   ],
   "source": [
    "tensor = cnt.contract_all_neighbour_blocks_to_ket(ket_tensor = tdvp.state.tensors[\"site1\"],\n",
    "                                                  ket_node = tdvp.state.nodes[\"site1\"],\n",
    "                                                   partial_tree_cache = tdvp.partial_tree_cache)\n",
    "print(tensor.shape)"
   ]
  },
  {
   "cell_type": "markdown",
   "metadata": {},
   "source": [
    "# contract_neighbour_block_to_hamiltonian\n"
   ]
  },
  {
   "cell_type": "code",
   "execution_count": 332,
   "metadata": {},
   "outputs": [
    {
     "name": "stdout",
     "output_type": "stream",
     "text": [
      "(576, 36, 49, 5, 5)\n",
      "(2, 36, 2)\n",
      "(576, 49, 5, 5, 2, 2)\n"
     ]
    }
   ],
   "source": [
    "tensor = cnt.contract_neighbour_block_to_hamiltonian(tdvp.hamiltonian.tensors[\"site3\"],\n",
    "                                                     tdvp.hamiltonian.nodes[\"site3\"],\n",
    "                                                     \"site4\",\n",
    "                                                     tdvp.partial_tree_cache)\n",
    "print(tdvp.hamiltonian.tensors[\"site3\"].shape)\n",
    "print(tdvp.partial_tree_cache.get_entry(\"site4\",\"site3\").shape)\n",
    "print(tensor.shape)"
   ]
  },
  {
   "cell_type": "markdown",
   "metadata": {},
   "source": [
    "# contract_neighbour_block_to_hamiltonian_ignore_one_leg"
   ]
  },
  {
   "cell_type": "code",
   "execution_count": 9,
   "metadata": {},
   "outputs": [
    {
     "name": "stdout",
     "output_type": "stream",
     "text": [
      "(576, 36, 49, 5, 5)\n",
      "(5, 576, 5)\n",
      "(2, 36, 2)\n",
      "(49, 5, 5, 5, 5, 2, 2)\n"
     ]
    }
   ],
   "source": [
    "tensor = cnt.contract_all_but_one_neighbour_block_to_hamiltonian(tdvp.hamiltonian.tensors[\"site3\"],\n",
    "                                                                 tdvp.hamiltonian.nodes[\"site3\"],\n",
    "                                                                 \"site5\",\n",
    "                                                                 tdvp.partial_tree_cache)\n",
    "print(tdvp.hamiltonian.tensors[\"site3\"].shape)\n",
    "print(tdvp.partial_tree_cache.get_entry(\"site1\",\"site3\").shape)\n",
    "print(tdvp.partial_tree_cache.get_entry(\"site4\",\"site3\").shape)\n",
    "print(tensor.shape)"
   ]
  },
  {
   "cell_type": "markdown",
   "metadata": {},
   "source": [
    "# contract_all_neighbour_blocks_to_hamiltonian\n",
    "# vs \n",
    "# _contract_all_except_node"
   ]
  },
  {
   "cell_type": "code",
   "execution_count": 21,
   "metadata": {},
   "outputs": [
    {
     "name": "stdout",
     "output_type": "stream",
     "text": [
      "(5, 5, 5, 5, 2, 2, 3, 3)\n",
      "(5, 2, 3, 5, 5, 2, 3, 5)\n"
     ]
    }
   ],
   "source": [
    "tensor = cnt.contract_all_neighbour_blocks_to_hamiltonian(tdvp.hamiltonian.tensors[\"site3\"],\n",
    "                                                          tdvp.hamiltonian.nodes[\"site3\"],\n",
    "                                                          tdvp.partial_tree_cache)\n",
    "print(tensor.shape)\n",
    "# (ttno_out ,ttno_in, cache1_in, cache2_out, cache1_in, cache2_out, ... )\n",
    "tensor2 = tdvp._contract_all_except_node(\"site3\")\n",
    "print(tensor2.shape)\n",
    "# ( cache1_out, cache2_out, ttno_out, cache1_in,cache2, ttno_in)"
   ]
  },
  {
   "cell_type": "markdown",
   "metadata": {},
   "source": [
    "# completely_contract_tree"
   ]
  },
  {
   "cell_type": "code",
   "execution_count": 5,
   "metadata": {},
   "outputs": [
    {
     "name": "stdout",
     "output_type": "stream",
     "text": [
      "['site0', 'site1', 'site2', 'site3', 'site4', 'site5']\n",
      "(2, 3, 4, 5, 6, 7)\n",
      "(2, 3, 4, 5, 6, 7)\n",
      "True\n"
     ]
    }
   ],
   "source": [
    "ttn1 = deepcopy(ttn)\n",
    "\n",
    "ttn1_ref, order = ttn.completely_contract_tree(to_copy=True)\n",
    "print(order) \n",
    "print(ttn1_ref.shape)\n",
    "\n",
    "ttn1.contract_nodes(\"site3\",\"site4\",\"site3\")\n",
    "ttn1.contract_nodes(\"site3\",\"site5\",\"site3\")\n",
    "ttn1.contract_nodes(\"site1\",\"site2\",\"site1\")\n",
    "ttn1.contract_nodes(\"site1\",\"site3\",\"site1\")\n",
    "ttn1.contract_nodes(\"site0\",\"site1\",\"site0\")\n",
    "\n",
    "print(ttn1.nodes[\"site0\"].shape)\n",
    "print(np.allclose(ttn1_ref, ttn1.tensors[\"site0\"]))"
   ]
  },
  {
   "cell_type": "markdown",
   "metadata": {},
   "source": [
    "# contract_two_ttns"
   ]
  },
  {
   "cell_type": "code",
   "execution_count": 120,
   "metadata": {},
   "outputs": [],
   "source": [
    "from pytreenet.contractions.state_state_contraction import contract_any\n",
    "# this contract_any is different from the one in the state_operator_contraction module\n",
    "from pytreenet.contractions.state_state_contraction import contract_bra_to_ket_and_blocks "
   ]
  },
  {
   "cell_type": "code",
   "execution_count": 177,
   "metadata": {},
   "outputs": [],
   "source": [
    "ttn1 = ptn.random_big_ttns_two_root_children(mode = ptn.RandomTTNSMode.DIFFVIRT)\n",
    "ttn2 = ptn.random_big_ttns_two_root_children(mode = ptn.RandomTTNSMode.DIFFVIRT)"
   ]
  },
  {
   "cell_type": "code",
   "execution_count": 154,
   "metadata": {},
   "outputs": [
    {
     "name": "stdout",
     "output_type": "stream",
     "text": [
      "['site2', 'site4', 'site5', 'site3', 'site1', 'site7', 'site6', 'site0']\n",
      "dict_keys([('site1', 'site0'), ('site6', 'site0')])\n",
      "(7, 7)\n",
      "(6, 6)\n",
      "(2, 7, 6)\n",
      "(-276052.337676387-54403.522628234205j)\n",
      "(-276052.337676387-54403.522628234205j)\n"
     ]
    }
   ],
   "source": [
    "dictionary = ptn.PartialTreeCachDict()\n",
    "computation_order = ttn1.linearise()\n",
    "print(computation_order)\n",
    "for node_id in computation_order[:-1]: # The last one is the root node\n",
    "        node = ttn1.nodes[node_id]\n",
    "        parent_id = node.parent\n",
    "        # Due to the linearisation the children should already be contracted.\n",
    "        block = contract_any(node_id, parent_id,\n",
    "                             ttn1, ttn2,\n",
    "                             dictionary)\n",
    "        dictionary.add_entry(node_id,parent_id,block)\n",
    "        # The children contraction results are not needed anymore.\n",
    "        children = node.children\n",
    "        for child_id in children:\n",
    "            dictionary.delete_entry(child_id,node_id)\n",
    "print(dictionary.keys())\n",
    "print(dictionary[('site1', 'site0')].shape)\n",
    "print(dictionary[('site6', 'site0')].shape)\n",
    "\n",
    "# contract_node_with_environment(ttn1.tensors[\"site0\"],ttn1, ttn2,dictionary)\n",
    "\n",
    "ketblock_tensor = cnt.contract_all_neighbour_blocks_to_ket(ttn1.tensors[\"site0\"],\n",
    "                                                           ttn1.nodes[\"site0\"],\n",
    "                                                           dictionary)\n",
    "print(ketblock_tensor.shape)\n",
    "\n",
    "result = contract_bra_to_ket_and_blocks(bra_tensor = ttn2.tensors[\"site0\"], \n",
    "                                        ketblock_tensor = ketblock_tensor,\n",
    "                                        bra_node = ttn2.nodes[\"site0\"],\n",
    "                                        ket_node = ttn1.nodes[\"site0\"])\n",
    "print(result)\n",
    "print(ptn.contract_two_ttns(ttn1, ttn2))"
   ]
  },
  {
   "cell_type": "code",
   "execution_count": 199,
   "metadata": {},
   "outputs": [
    {
     "name": "stdout",
     "output_type": "stream",
     "text": [
      "(1173361.3812407819+0j)\n",
      "(1173361.3812407828+0j)\n"
     ]
    }
   ],
   "source": [
    "ttn = ptn.random_big_ttns_two_root_children(mode = ptn.RandomTTNSMode.DIFFVIRT)\n",
    "ttn.canonical_form(\"site0\")\n",
    "print(ptn.contract_two_ttns(ttn, ttn.conjugate()))\n",
    "print(complex(np.tensordot(ttn.tensors[\"site0\"],ttn.tensors[\"site0\"].conj(),axes=((0,1,2),(0,1,2)))))"
   ]
  }
 ],
 "metadata": {
  "kernelspec": {
   "display_name": "Python 3",
   "language": "python",
   "name": "python3"
  },
  "language_info": {
   "codemirror_mode": {
    "name": "ipython",
    "version": 3
   },
   "file_extension": ".py",
   "mimetype": "text/x-python",
   "name": "python",
   "nbconvert_exporter": "python",
   "pygments_lexer": "ipython3",
   "version": "3.12.1"
  }
 },
 "nbformat": 4,
 "nbformat_minor": 2
}
