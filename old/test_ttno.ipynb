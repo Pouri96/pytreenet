{
 "cells": [
  {
   "cell_type": "code",
   "execution_count": 2,
   "metadata": {},
   "outputs": [],
   "source": [
    "import numpy as np\n",
    "import pytreenet as ptn\n",
    "from copy import deepcopy\n"
   ]
  },
  {
   "cell_type": "code",
   "execution_count": 3,
   "metadata": {},
   "outputs": [
    {
     "data": {
      "text/plain": [
       "(('site1', 'site2'), [])"
      ]
     },
     "execution_count": 3,
     "metadata": {},
     "output_type": "execute_result"
    }
   ],
   "source": [
    "vertex_empty = ptn.Vertex((\"site1\", \"site2\"), [])\n",
    "vertex_empty.corr_edge , vertex_empty.hyperedges"
   ]
  },
  {
   "cell_type": "code",
   "execution_count": 4,
   "metadata": {},
   "outputs": [],
   "source": [
    "vertex0 = ptn.Vertex((\"site1\", \"site2\", \"site3\"), [])\n",
    "vertex1 = ptn.Vertex((\"site1\", \"site2\"), [])\n",
    "vertex2 = ptn.Vertex((\"site2\", \"site3\"), [])\n",
    "\n",
    "hyperedges = [ ptn.HyperEdge(\"site1\", \"X\", []),\n",
    "                      ptn.HyperEdge(\"site2\", \"Y\", []),\n",
    "                      ptn.HyperEdge(\"site3\", \"Z\", []),\n",
    "                      ptn.HyperEdge(\"site1\", \"W\", []) ]\n",
    "\n"
   ]
  },
  {
   "cell_type": "code",
   "execution_count": 5,
   "metadata": {},
   "outputs": [
    {
     "data": {
      "text/plain": [
       "(('site1', 'site2', 'site3'),\n",
       " [label = X; corr_site = site1; connected to ('site1', 'site2', 'site3'), ,\n",
       "  label = W; corr_site = site1; connected to ('site1', 'site2', 'site3'), ])"
      ]
     },
     "execution_count": 5,
     "metadata": {},
     "output_type": "execute_result"
    }
   ],
   "source": [
    "vertex0.add_hyperedge(hyperedges[0])\n",
    "vertex1.add_hyperedge(hyperedges[1])\n",
    "vertex2.add_hyperedge(hyperedges[2])\n",
    "vertex0.add_hyperedge(hyperedges[3])\n",
    "\n",
    "vertex0.corr_edge , vertex0.hyperedges"
   ]
  },
  {
   "cell_type": "code",
   "execution_count": 6,
   "metadata": {},
   "outputs": [],
   "source": [
    "# OR\n",
    "# hyperedges[0].add_vertex(vertex0)\n",
    "# hyperedges[1].add_vertex(vertex1)\n",
    "# hyperedges[2].add_vertex(vertex2)\n",
    "# hyperedges[3].add_vertex(vertex0)"
   ]
  },
  {
   "cell_type": "code",
   "execution_count": 7,
   "metadata": {},
   "outputs": [
    {
     "name": "stdout",
     "output_type": "stream",
     "text": [
      "[label = X; corr_site = site1; connected to ('site1', 'site2', 'site3'), , label = W; corr_site = site1; connected to ('site1', 'site2', 'site3'), ]\n",
      "[]\n",
      "2\n",
      "0\n",
      "False\n",
      "True\n"
     ]
    }
   ],
   "source": [
    "# get hyperedges with corr_node_id = \"site1\"\n",
    "print( vertex0.get_hyperedges_for_one_node_id(\"site1\") ) \n",
    "print( vertex1.get_hyperedges_for_one_node_id(\"site1\") )\n",
    "# get number of hyperedges with corr_node_id = \"site1\"\n",
    "print( vertex0.num_hyperedges_to_node(\"site1\") )\n",
    "print( vertex0.num_hyperedges_to_node(\"site2\") )\n",
    "# number of hyperedges with corr_node_id = \"site1/2/3\" = 1 ---> True\n",
    "print( vertex0.check_hyperedge_uniqueness(\"site1\") )\n",
    "print( vertex1.check_hyperedge_uniqueness(\"site2\") )\n"
   ]
  },
  {
   "cell_type": "code",
   "execution_count": 8,
   "metadata": {},
   "outputs": [
    {
     "name": "stdout",
     "output_type": "stream",
     "text": [
      "False\n",
      "False\n",
      "False\n",
      "True\n",
      "True\n"
     ]
    }
   ],
   "source": [
    "# (hyperedges.corr_node_id , site1/2/3) is one-to-one\n",
    "print(hyperedges[0].vertex_single_he(\"site1\"))\n",
    "print(hyperedges[0].vertex_single_he(\"site2\"))\n",
    "print(hyperedges[0].vertex_single_he(\"site3\"))\n",
    "print(hyperedges[2].vertex_single_he(\"site2\"))\n",
    "print(hyperedges[2].vertex_single_he(\"site3\"))"
   ]
  },
  {
   "cell_type": "code",
   "execution_count": 9,
   "metadata": {},
   "outputs": [
    {
     "data": {
      "text/plain": [
       "'site2'"
      ]
     },
     "execution_count": 9,
     "metadata": {},
     "output_type": "execute_result"
    }
   ],
   "source": [
    "# get other node_id of the corresponding edge\n",
    "vertex0.get_second_node_id(\"site1\")"
   ]
  },
  {
   "cell_type": "code",
   "execution_count": 10,
   "metadata": {},
   "outputs": [
    {
     "name": "stdout",
     "output_type": "stream",
     "text": [
      "False False False\n",
      "True False False\n"
     ]
    }
   ],
   "source": [
    "print( vertex0._already_checked , vertex0.contained , vertex0.new )\n",
    "vertex0.runtime_reset()\n",
    "print( vertex0._already_checked , vertex0.contained , vertex0.new )"
   ]
  },
  {
   "cell_type": "code",
   "execution_count": 11,
   "metadata": {},
   "outputs": [],
   "source": [
    "hyperedge_full = ptn.HyperEdge(\"site1\", \"X\", [])\n",
    "vertices = [ptn.Vertex((\"site1, site2\"),[]),\n",
    "            ptn.Vertex((\"site1, site3\"),[]),\n",
    "            ptn.Vertex((\"site1, site4\"),[])]\n",
    "for vertex in vertices:\n",
    "    hyperedge_full.add_vertex(vertex)"
   ]
  },
  {
   "cell_type": "code",
   "execution_count": 12,
   "metadata": {},
   "outputs": [
    {
     "name": "stdout",
     "output_type": "stream",
     "text": [
      "corr_edge = site1, site2; connected to (X, site1), \n",
      "corr_edge = site1, site3; connected to (X, site1), \n",
      "corr_edge = site1, site4; connected to (X, site1), \n"
     ]
    }
   ],
   "source": [
    "# hyperedge_full.find_vertex(\"site1\") ---> error\n",
    "print( hyperedge_full.find_vertex(\"site2\") ) \n",
    "print( hyperedge_full.find_vertex(\"site3\") ) \n",
    "print( hyperedge_full.find_vertex(\"site4\") ) "
   ]
  },
  {
   "cell_type": "code",
   "execution_count": 13,
   "metadata": {},
   "outputs": [
    {
     "name": "stdout",
     "output_type": "stream",
     "text": [
      "[]\n",
      "[corr_edge = site1, site2; connected to (X, site1), ]\n",
      "[corr_edge = site1, site3; connected to (X, site1), , corr_edge = site1, site4; connected to (X, site1), ]\n"
     ]
    }
   ],
   "source": [
    "print( hyperedge_full.get_contained_vertices())\n",
    "hyperedge_full.vertices[0].contained = True\n",
    "print( hyperedge_full.get_contained_vertices())\n",
    "print( hyperedge_full.get_uncontained_vertices())"
   ]
  },
  {
   "cell_type": "code",
   "execution_count": 14,
   "metadata": {},
   "outputs": [
    {
     "data": {
      "text/plain": [
       "corr_edge = site1, site4; connected to (X, site1), "
      ]
     },
     "execution_count": 14,
     "metadata": {},
     "output_type": "execute_result"
    }
   ],
   "source": [
    "hyperedge_full.vertices[1].contained = True\n",
    "hyperedge_full.get_single_uncontained_vertex()"
   ]
  },
  {
   "cell_type": "code",
   "execution_count": 15,
   "metadata": {},
   "outputs": [
    {
     "name": "stdout",
     "output_type": "stream",
     "text": [
      "2\n",
      "False\n",
      "True\n"
     ]
    }
   ],
   "source": [
    "print( hyperedge_full.num_of_vertices_contained() )\n",
    "print( hyperedge_full.all_vertices_contained() )\n",
    "print( hyperedge_full.all_but_one_vertex_contained() )"
   ]
  },
  {
   "cell_type": "code",
   "execution_count": 16,
   "metadata": {},
   "outputs": [],
   "source": [
    "ttn = ptn.random_small_ttns()\n",
    "vertex = ptn.Vertex((\"root\", \"c1\", \"c2\"), [])\n",
    "hyperedges = [ ptn.HyperEdge(\"root\", \"X\", []),\n",
    "                ptn.HyperEdge(\"c1\", \"Y\", []),\n",
    "                ptn.HyperEdge(\"c2\", \"Z\", []) ]\n",
    "vertex.add_hyperedges(hyperedges)"
   ]
  },
  {
   "cell_type": "code",
   "execution_count": 17,
   "metadata": {},
   "outputs": [
    {
     "data": {
      "text/plain": [
       "(None, slice(None, None, None), slice(None, None, None))"
      ]
     },
     "execution_count": 17,
     "metadata": {},
     "output_type": "execute_result"
    }
   ],
   "source": [
    "hyperedges[0].find_tensor_position(ttn)"
   ]
  },
  {
   "cell_type": "markdown",
   "metadata": {},
   "source": [
    "# Collection"
   ]
  },
  {
   "cell_type": "code",
   "execution_count": 18,
   "metadata": {},
   "outputs": [
    {
     "data": {
      "text/plain": [
       "('site1',\n",
       " [label = X; corr_site = site1; connected to ('site1', 'site2', 'site3'), ,\n",
       "  label = Y; corr_site = site1; connected to ('site1', 'site2', 'site3'), ])"
      ]
     },
     "execution_count": 18,
     "metadata": {},
     "output_type": "execute_result"
    }
   ],
   "source": [
    "vertex = ptn.Vertex((\"site1\", \"site2\",\"site3\"), [])\n",
    "\n",
    "hyperedges = [ ptn.HyperEdge(\"site1\", \"X\", []),\n",
    "                      ptn.HyperEdge(\"site1\", \"Y\", []),\n",
    "                      ptn.HyperEdge(\"site2\", \"Z\", []),\n",
    "                      ptn.HyperEdge(\"site3\", \"W\", []) ]\n",
    "vertex.add_hyperedges(hyperedges)\n",
    "HEC = ptn.HyperEdgeColl(\"site1\",[hyperedges[0], hyperedges[1]])\n",
    "HEC.corr_node_id , HEC.contained_hyperedges"
   ]
  },
  {
   "cell_type": "code",
   "execution_count": 19,
   "metadata": {},
   "outputs": [
    {
     "name": "stdout",
     "output_type": "stream",
     "text": [
      "['X', 'Y']\n",
      "[label = X; corr_site = site1; connected to ('site1', 'site2', 'site3'), ]\n",
      "[]\n"
     ]
    }
   ],
   "source": [
    "print( HEC.get_all_labels() )\n",
    "print( HEC.get_hyperedges_by_label(\"X\") )\n",
    "# Returns all hyperedges that are connected only to vertices\n",
    "# that are marked as .\n",
    "print( HEC.get_completely_contained_hyperedges() )"
   ]
  },
  {
   "cell_type": "code",
   "execution_count": 20,
   "metadata": {},
   "outputs": [],
   "source": [
    "######### VertexColl #########"
   ]
  },
  {
   "cell_type": "code",
   "execution_count": 21,
   "metadata": {},
   "outputs": [],
   "source": [
    "hyperedge_full = ptn.HyperEdge(\"site1\", \"X\", [])\n",
    "vertices = [ptn.Vertex((\"site1, site2\"),[]),\n",
    "            ptn.Vertex((\"site1, site3\"),[]),\n",
    "            ptn.Vertex((\"site1, site4\"),[])]\n",
    "hyperedge_full.add_vertices(vertices)"
   ]
  },
  {
   "cell_type": "code",
   "execution_count": 22,
   "metadata": {},
   "outputs": [
    {
     "data": {
      "text/plain": [
       "('site1, site3', [corr_edge = site1, site4; connected to (X, site1), ])"
      ]
     },
     "execution_count": 22,
     "metadata": {},
     "output_type": "execute_result"
    }
   ],
   "source": [
    "VC1 = ptn.VertexColl((\"site1, site2\"), [vertices[0]])\n",
    "VC2 = ptn.VertexColl((\"site1, site3\"), [vertices[1]])\n",
    "VC3 = ptn.VertexColl((\"site1, site4\"), [vertices[2]])\n",
    "VC2.corr_edge , VC3.contained_vertices"
   ]
  },
  {
   "cell_type": "code",
   "execution_count": 23,
   "metadata": {},
   "outputs": [
    {
     "name": "stdout",
     "output_type": "stream",
     "text": [
      "False\n",
      "True\n"
     ]
    }
   ],
   "source": [
    "print( VC1.contains_contained() )\n",
    "VC1.contained_vertices[0].contained = True\n",
    "print( VC1.contains_contained() )"
   ]
  },
  {
   "cell_type": "code",
   "execution_count": 24,
   "metadata": {},
   "outputs": [
    {
     "data": {
      "text/plain": [
       "[corr_edge = site1, site3; connected to (X, site1), ]"
      ]
     },
     "execution_count": 24,
     "metadata": {},
     "output_type": "execute_result"
    }
   ],
   "source": [
    "# Returns all vertices in this collection marked as contained or new.\n",
    "VC2.contained_vertices[0].new = True\n",
    "VC2.get_all_marked_vertices()"
   ]
  },
  {
   "cell_type": "markdown",
   "metadata": {},
   "source": [
    "# Single term Diagram"
   ]
  },
  {
   "cell_type": "code",
   "execution_count": 25,
   "metadata": {},
   "outputs": [],
   "source": [
    "#               __________ 1 _________         \n",
    "#              |                     |              \n",
    "#        _____ 2_____           ____ 5______       \n",
    "#       |             |        |           |          \n",
    "#       3             4        6           7          "
   ]
  },
  {
   "cell_type": "code",
   "execution_count": 26,
   "metadata": {},
   "outputs": [],
   "source": [
    "ttn = ptn.TreeTensorNetwork()\n",
    "\n",
    "node1, tensor1 = ptn.random_tensor_node((2, 2, 2), identifier=\"site1\")\n",
    "node2, tensor2 = ptn.random_tensor_node((2, 2, 2, 2), identifier=\"site2\")\n",
    "node5, tensor5 = ptn.random_tensor_node((2, 2, 2, 2), identifier=\"site5\")\n",
    "node3, tensor3 = ptn.random_tensor_node((2, 2), identifier=\"site3\")\n",
    "node4, tensor4 = ptn.random_tensor_node((2, 2), identifier=\"site4\")\n",
    "node6, tensor6 = ptn.random_tensor_node((2, 2), identifier=\"site6\")\n",
    "node7, tensor7 = ptn.random_tensor_node((2, 2), identifier=\"site7\")\n",
    "\n",
    "ttn.add_root(node1, tensor1)\n",
    "ttn.add_child_to_parent(node2, tensor2, 0, \"site1\", 0)\n",
    "ttn.add_child_to_parent(node5, tensor5, 0, \"site1\", 1)\n",
    "ttn.add_child_to_parent(node3, tensor3, 0, \"site2\", 1)\n",
    "ttn.add_child_to_parent(node4, tensor4, 0, \"site2\", 2)\n",
    "ttn.add_child_to_parent(node6, tensor6, 0, \"site5\", 1)\n",
    "ttn.add_child_to_parent(node7, tensor7, 0, \"site5\", 2)"
   ]
  },
  {
   "cell_type": "code",
   "execution_count": 27,
   "metadata": {},
   "outputs": [],
   "source": [
    "# term = dict { node_id : hyperedge_label }\n",
    "term = {\"site1\": \"1\", \"site2\": \"2\", \"site3\": \"3\",\n",
    "        \"site4\": \"4\", \"site5\": \"5\", \"site6\": \"6\", \"site7\": \"7\"}\n",
    "\n",
    "STD = ptn.SingleTermDiagram.from_single_term( term , ttn )"
   ]
  },
  {
   "cell_type": "code",
   "execution_count": 28,
   "metadata": {},
   "outputs": [
    {
     "name": "stdout",
     "output_type": "stream",
     "text": [
      "site1\n",
      "1\n",
      "[corr_edge = ('site1', 'site2'); connected to (1, site1), (2, site2), , corr_edge = ('site1', 'site5'); connected to (1, site1), (5, site5), ]\n",
      "[corr_edge = ('site1', 'site2'); connected to (1, site1), (2, site2), , corr_edge = ('site2', 'site3'); connected to (2, site2), (3, site3), , corr_edge = ('site2', 'site4'); connected to (2, site2), (4, site4), ]\n",
      "('site2', 'site4')\n",
      "[label = 2; corr_site = site2; connected to ('site1', 'site2'), ('site2', 'site3'), ('site2', 'site4'), , label = 4; corr_site = site4; connected to ('site2', 'site4'), ]\n"
     ]
    }
   ],
   "source": [
    "# STD.hyperedges = dict{ corr_node_id : hyperedge }\n",
    "# STD.vertices   = dict{ corr_edge : vertex }\n",
    "\n",
    "print( STD.hyperedges[\"site1\"].corr_node_id )\n",
    "print( STD.hyperedges[\"site1\"].label )\n",
    "print( STD.hyperedges[\"site1\"].vertices ) \n",
    "print( STD.hyperedges[\"site2\"].vertices )\n",
    "print( STD.vertices[(\"site2\",\"site4\")].corr_edge )\n",
    "print( STD.vertices[(\"site2\",\"site4\")].hyperedges )\n"
   ]
  },
  {
   "cell_type": "markdown",
   "metadata": {},
   "source": [
    "# StateDiagram"
   ]
  },
  {
   "cell_type": "code",
   "execution_count": 29,
   "metadata": {},
   "outputs": [],
   "source": [
    "# SD.vertex_colls = dict { corr_edge : vertex_coll , ... }\n",
    "#                                      vertex_coll.corr_edge = corr_edge\n",
    "#                                      vertex_coll.contained_vertices = vertex\n",
    "#                                                                       vertex.corr_edge\n",
    "#                                                                       vertex.hyperedges\n",
    "# SD.hyperedge_colls = dict { corr_node_id : hyperedge_coll , ... }\n",
    "#                                            hyperedge_coll.corr_node_id = corr_node_id\n",
    "#                                            hyperedge_coll.contained_hyperedges = hyperedge\n",
    "#                                                                                  hyperedge.corr_node_id\n",
    "#                                                                                  hyperedge.label\n",
    "#                                                                                  hyperedge.vertices"
   ]
  },
  {
   "cell_type": "code",
   "execution_count": 30,
   "metadata": {},
   "outputs": [
    {
     "data": {
      "text/plain": [
       "({('site1', 'site2'): <pytreenet.ttno.collections.VertexColl at 0x249963d6e10>,\n",
       "  ('site1', 'site5'): <pytreenet.ttno.collections.VertexColl at 0x249963d7320>,\n",
       "  ('site2', 'site3'): <pytreenet.ttno.collections.VertexColl at 0x249963d6f60>,\n",
       "  ('site2', 'site4'): <pytreenet.ttno.collections.VertexColl at 0x249963d70b0>,\n",
       "  ('site5', 'site6'): <pytreenet.ttno.collections.VertexColl at 0x249963d4f50>,\n",
       "  ('site5',\n",
       "   'site7'): <pytreenet.ttno.collections.VertexColl at 0x249963d4bc0>},\n",
       " {'site1': <pytreenet.ttno.collections.HyperEdgeColl at 0x249963d69f0>,\n",
       "  'site2': <pytreenet.ttno.collections.HyperEdgeColl at 0x249963d5250>,\n",
       "  'site3': <pytreenet.ttno.collections.HyperEdgeColl at 0x249963d5730>,\n",
       "  'site4': <pytreenet.ttno.collections.HyperEdgeColl at 0x249963d7200>,\n",
       "  'site5': <pytreenet.ttno.collections.HyperEdgeColl at 0x249963d7530>,\n",
       "  'site6': <pytreenet.ttno.collections.HyperEdgeColl at 0x249963d71d0>,\n",
       "  'site7': <pytreenet.ttno.collections.HyperEdgeColl at 0x249963d7350>})"
      ]
     },
     "execution_count": 30,
     "metadata": {},
     "output_type": "execute_result"
    }
   ],
   "source": [
    "SD = ptn.StateDiagram.from_single_term( term , ttn )\n",
    "# SD = ptn.StateDiagram.from_single_state_diagram( STD )\n",
    "SD.vertex_colls , SD.hyperedge_colls"
   ]
  },
  {
   "cell_type": "code",
   "execution_count": 31,
   "metadata": {},
   "outputs": [
    {
     "data": {
      "text/plain": [
       "<pytreenet.ttno.collections.VertexColl at 0x249963d6e10>"
      ]
     },
     "execution_count": 31,
     "metadata": {},
     "output_type": "execute_result"
    }
   ],
   "source": [
    "# SD.get_all_vertices() : list of all vertices\n",
    "# SD.get_all_hyperedges() : list of all hyperedges\n",
    "SD.get_vertex_coll_two_ids(\"site1\", \"site2\")"
   ]
  },
  {
   "cell_type": "code",
   "execution_count": 32,
   "metadata": {},
   "outputs": [
    {
     "data": {
      "text/plain": [
       "hyperedges:\n",
       "label = 1; corr_site = site1; connected to ('site1', 'site2'), ('site1', 'site5'), \n",
       "label = 2; corr_site = site2; connected to ('site1', 'site2'), ('site2', 'site3'), ('site2', 'site4'), \n",
       "label = 3; corr_site = site3; connected to ('site2', 'site3'), \n",
       "label = 4; corr_site = site4; connected to ('site2', 'site4'), \n",
       "label = 5; corr_site = site5; connected to ('site1', 'site5'), ('site5', 'site6'), ('site5', 'site7'), \n",
       "label = 6; corr_site = site6; connected to ('site5', 'site6'), \n",
       "label = 7; corr_site = site7; connected to ('site5', 'site7'), \n",
       "\n",
       " vertices:\n",
       "corr_edge = ('site1', 'site2'); connected to (1, site1), (2, site2), \n",
       "corr_edge = ('site1', 'site5'); connected to (1, site1), (5, site5), \n",
       "corr_edge = ('site2', 'site3'); connected to (2, site2), (3, site3), \n",
       "corr_edge = ('site2', 'site4'); connected to (2, site2), (4, site4), \n",
       "corr_edge = ('site5', 'site6'); connected to (5, site5), (6, site6), \n",
       "corr_edge = ('site5', 'site7'); connected to (5, site5), (7, site7), "
      ]
     },
     "execution_count": 32,
     "metadata": {},
     "output_type": "execute_result"
    }
   ],
   "source": [
    "STD = ptn.SingleTermDiagram.from_single_term( term , ttn )\n",
    "SD"
   ]
  },
  {
   "cell_type": "code",
   "execution_count": 33,
   "metadata": {},
   "outputs": [
    {
     "data": {
      "text/plain": [
       "[corr_edge = ('site2', 'site3'); connected to (2, site2), (3, site3), ]"
      ]
     },
     "execution_count": 33,
     "metadata": {},
     "output_type": "execute_result"
    }
   ],
   "source": [
    "SD.get_vertex_coll_two_ids(\"site2\", \"site3\").contained_vertices "
   ]
  },
  {
   "cell_type": "code",
   "execution_count": 34,
   "metadata": {},
   "outputs": [
    {
     "data": {
      "text/plain": [
       "hyperedges:\n",
       "label = 1; corr_site = site1; connected to ('site1', 'site2'), ('site1', 'site5'), \n",
       "label = 2; corr_site = site2; connected to ('site1', 'site2'), ('site2', 'site3'), ('site2', 'site4'), \n",
       "label = X; corr_site = site2; connected to ('site2', 'site3'), ('site2', 'site4'), ('site1', 'site2'), \n",
       "label = 3; corr_site = site3; connected to ('site2', 'site3'), \n",
       "label = 4; corr_site = site4; connected to ('site2', 'site4'), \n",
       "label = 5; corr_site = site5; connected to ('site1', 'site5'), ('site5', 'site6'), ('site5', 'site7'), \n",
       "label = 6; corr_site = site6; connected to ('site5', 'site6'), \n",
       "label = 7; corr_site = site7; connected to ('site5', 'site7'), \n",
       "\n",
       " vertices:\n",
       "corr_edge = ('site1', 'site2'); connected to (1, site1), (2, site2), (X, site2), \n",
       "corr_edge = ('site1', 'site5'); connected to (1, site1), (5, site5), \n",
       "corr_edge = ('site2', 'site3'); connected to (2, site2), (3, site3), (X, site2), \n",
       "corr_edge = ('site2', 'site4'); connected to (2, site2), (4, site4), (X, site2), \n",
       "corr_edge = ('site5', 'site6'); connected to (5, site5), (6, site6), \n",
       "corr_edge = ('site5', 'site7'); connected to (5, site5), (7, site7), "
      ]
     },
     "execution_count": 34,
     "metadata": {},
     "output_type": "execute_result"
    }
   ],
   "source": [
    "he = ptn.HyperEdge(\"site2\", \"X\", [])\n",
    "v1 = SD.vertex_colls[(\"site2\", \"site3\")].contained_vertices[0]\n",
    "v2 = SD.vertex_colls[(\"site2\", \"site4\")].contained_vertices[0]\n",
    "v3 = SD.vertex_colls[(\"site1\", \"site2\")].contained_vertices[0]\n",
    "\n",
    "he.add_vertices([v1,v2,v3])\n",
    "\n",
    "SD1 = deepcopy(SD)\n",
    "SD1.add_hyperedge(he)\n",
    "SD1"
   ]
  },
  {
   "cell_type": "code",
   "execution_count": 35,
   "metadata": {},
   "outputs": [
    {
     "data": {
      "text/plain": [
       "hyperedges:\n",
       "label = 1; corr_site = site1; connected to ('site1', 'site2'), ('site1', 'site5'), \n",
       "label = 11; corr_site = site1; connected to ('site1', 'site2'), ('site1', 'site5'), \n",
       "label = 2; corr_site = site2; connected to ('site1', 'site2'), ('site2', 'site3'), ('site2', 'site4'), \n",
       "label = 22; corr_site = site2; connected to ('site1', 'site2'), ('site2', 'site3'), ('site2', 'site4'), \n",
       "label = 3; corr_site = site3; connected to ('site2', 'site3'), \n",
       "label = 33; corr_site = site3; connected to ('site2', 'site3'), \n",
       "label = 4; corr_site = site4; connected to ('site2', 'site4'), \n",
       "label = 5; corr_site = site5; connected to ('site1', 'site5'), ('site5', 'site6'), ('site5', 'site7'), \n",
       "label = 6; corr_site = site6; connected to ('site5', 'site6'), \n",
       "label = 7; corr_site = site7; connected to ('site5', 'site7'), \n",
       "\n",
       " vertices:\n",
       "corr_edge = ('site1', 'site2'); connected to (1, site1), (2, site2), (X, site2), \n",
       "corr_edge = ('site1', 'site2'); connected to (11, site1), (22, site2), \n",
       "corr_edge = ('site1', 'site5'); connected to (1, site1), (5, site5), (11, site1), \n",
       "corr_edge = ('site2', 'site3'); connected to (2, site2), (3, site3), (X, site2), \n",
       "corr_edge = ('site2', 'site3'); connected to (22, site2), (33, site3), \n",
       "corr_edge = ('site2', 'site4'); connected to (2, site2), (4, site4), (X, site2), (22, site2), \n",
       "corr_edge = ('site5', 'site6'); connected to (5, site5), (6, site6), \n",
       "corr_edge = ('site5', 'site7'); connected to (5, site5), (7, site7), "
      ]
     },
     "execution_count": 35,
     "metadata": {},
     "output_type": "execute_result"
    }
   ],
   "source": [
    "SD2 = deepcopy(SD)\n",
    "term2 = {\"site1\": \"11\", \"site2\": \"22\", \"site3\": \"33\",\n",
    "                 \"site4\": \"4\", \"site5\": \"5\", \"site6\": \"6\", \"site7\": \"7\"}\n",
    "SD2.add_single_term(term2)\n",
    "SD2 "
   ]
  },
  {
   "cell_type": "code",
   "execution_count": 36,
   "metadata": {},
   "outputs": [
    {
     "data": {
      "text/plain": [
       "[label = 1; corr_site = site1; connected to ('site1', 'site2'), ('site1', 'site5'), ,\n",
       " label = 2; corr_site = site2; connected to ('site1', 'site2'), ('site2', 'site3'), ('site2', 'site4'), ,\n",
       " label = X; corr_site = site2; connected to ('site2', 'site3'), ('site2', 'site4'), ('site1', 'site2'), ]"
      ]
     },
     "execution_count": 36,
     "metadata": {},
     "output_type": "execute_result"
    }
   ],
   "source": [
    "# [0] is new vertex_coll and [1] is new old\n",
    "SD2.vertex_colls[('site1', 'site2')].contained_vertices[0].hyperedges"
   ]
  },
  {
   "cell_type": "code",
   "execution_count": 37,
   "metadata": {},
   "outputs": [
    {
     "data": {
      "text/plain": [
       "hyperedges:\n",
       "label = X; corr_site = site1; connected to ('site1', 'site2'), ('site1', 'site5'), \n",
       "label = Y; corr_site = site2; connected to ('site1', 'site2'), ('site2', 'site3'), ('site2', 'site4'), \n",
       "label = Z; corr_site = site3; connected to ('site2', 'site3'), \n",
       "label = W; corr_site = site4; connected to ('site2', 'site4'), \n",
       "label = R; corr_site = site5; connected to ('site1', 'site5'), ('site5', 'site6'), ('site5', 'site7'), \n",
       "label = Q; corr_site = site6; connected to ('site5', 'site6'), \n",
       "label = F; corr_site = site7; connected to ('site5', 'site7'), \n",
       "\n",
       " vertices:\n",
       "corr_edge = ('site1', 'site2'); connected to (X, site1), (Y, site2), \n",
       "corr_edge = ('site1', 'site5'); connected to (X, site1), (R, site5), \n",
       "corr_edge = ('site2', 'site3'); connected to (Y, site2), (Z, site3), \n",
       "corr_edge = ('site2', 'site4'); connected to (Y, site2), (W, site4), \n",
       "corr_edge = ('site5', 'site6'); connected to (R, site5), (Q, site6), \n",
       "corr_edge = ('site5', 'site7'); connected to (R, site5), (F, site7), "
      ]
     },
     "execution_count": 37,
     "metadata": {},
     "output_type": "execute_result"
    }
   ],
   "source": [
    "terms = [{\"site1\": \"X\",\n",
    "          \"site2\": \"Y\",\n",
    "          \"site3\": \"Z\",\n",
    "          \"site4\": \"W\",\n",
    "          \"site5\": \"R\",\n",
    "          \"site6\": \"Q\",\n",
    "          \"site7\": \"F\"}]\n",
    "H = ptn.Hamiltonian(terms)\n",
    "SD = ptn.StateDiagram.from_hamiltonian(H, ttn)\n",
    "SD"
   ]
  },
  {
   "cell_type": "code",
   "execution_count": 38,
   "metadata": {},
   "outputs": [
    {
     "data": {
      "text/plain": [
       "[label = Y; corr_site = site2; connected to ('site1', 'site2'), ('site2', 'site3'), ('site2', 'site4'), ,\n",
       " label = YY; corr_site = site2; connected to ('site1', 'site2'), ('site2', 'site3'), ('site2', 'site4'), ]"
      ]
     },
     "execution_count": 38,
     "metadata": {},
     "output_type": "execute_result"
    }
   ],
   "source": [
    "terms = [{\"site1\": \"X\" ,\"site2\": \"Y\" ,\"site3\": \"Z\" ,\"site4\": \"W\" ,\"site5\": \"R\" ,\"site6\": \"Q\" ,\"site7\": \"F\"  },\n",
    "         {\"site1\": \"XX\",\"site2\": \"YY\",\"site3\": \"ZZ\",\"site4\": \"WW\",\"site5\": \"RR\",\"site6\": \"QQ\", \"site7\": \"FF\"}]\n",
    "\n",
    "H = ptn.Hamiltonian(terms)\n",
    "SD = ptn.StateDiagram.from_hamiltonian(H, ttn)\n",
    "SD.hyperedge_colls[\"site2\"].contained_hyperedges"
   ]
  },
  {
   "cell_type": "code",
   "execution_count": 39,
   "metadata": {},
   "outputs": [
    {
     "data": {
      "text/plain": [
       "hyperedges:\n",
       "label = X; corr_site = root; connected to ('root', 'c1'), ('root', 'c2'), \n",
       "label = Y; corr_site = c1; connected to ('root', 'c1'), \n",
       "label = XX; corr_site = c1; connected to ('root', 'c1'), \n",
       "label = Z; corr_site = c2; connected to ('root', 'c2'), \n",
       "\n",
       " vertices:\n",
       "corr_edge = ('root', 'c1'); connected to (X, root), (Y, c1), (XX, c1), \n",
       "corr_edge = ('root', 'c2'); connected to (X, root), (Z, c2), "
      ]
     },
     "execution_count": 39,
     "metadata": {},
     "output_type": "execute_result"
    }
   ],
   "source": [
    "ttn = ptn.random_small_ttns()\n",
    "terms = {\"root\": \"X\" ,\"c1\": \"Y\" ,\"c2\": \"Z\"  }\n",
    "SD = ptn.StateDiagram.from_single_term(terms, ttn)\n",
    "he = ptn.HyperEdge(\"c1\", \"XX\", [])\n",
    "he.add_vertices([SD.vertex_colls[(\"root\", \"c1\")].contained_vertices[0]])\n",
    "SD.add_hyperedge(he)\n",
    "SD"
   ]
  },
  {
   "cell_type": "code",
   "execution_count": 40,
   "metadata": {},
   "outputs": [
    {
     "data": {
      "text/plain": [
       "[corr_edge = ('root', 'c1'); connected to (X, root), (Y, c1), ,\n",
       " corr_edge = ('root', 'c1'); connected to (X, root), (YY, c1), ]"
      ]
     },
     "execution_count": 40,
     "metadata": {},
     "output_type": "execute_result"
    }
   ],
   "source": [
    "ttn = ptn.random_small_ttns()\n",
    "terms = [{\"root\": \"X\" ,\"c1\": \"Y\" ,\"c2\": \"Z\"  },\n",
    "         {\"root\": \"X\" ,\"c1\": \"YY\" ,\"c2\": \"ZZ\"  }]      \n",
    "H = ptn.Hamiltonian(terms)\n",
    "SD = ptn.StateDiagram.from_hamiltonian(H, ttn)\n",
    "SD.vertex_colls[('root', 'c1')].contained_vertices"
   ]
  },
  {
   "cell_type": "code",
   "execution_count": 41,
   "metadata": {},
   "outputs": [
    {
     "data": {
      "text/plain": [
       "[corr_edge = ('root', 'c1'); connected to (X, root), (Y, c1), (XX, root), ]"
      ]
     },
     "execution_count": 41,
     "metadata": {},
     "output_type": "execute_result"
    }
   ],
   "source": [
    "terms = [{\"root\": \"X\" ,\"c1\": \"Y\" ,\"c2\": \"Z\"  },\n",
    "         {\"root\": \"XX\" ,\"c1\": \"Y\" ,\"c2\": \"ZZ\"  }]         \n",
    "H = ptn.Hamiltonian(terms)\n",
    "SD = ptn.StateDiagram.from_hamiltonian(H, ttn)\n",
    "SD.vertex_colls[('root', 'c1')].contained_vertices"
   ]
  },
  {
   "cell_type": "code",
   "execution_count": 42,
   "metadata": {},
   "outputs": [
    {
     "data": {
      "text/plain": [
       "[corr_edge = ('root', 'c1'); connected to (X, root), (Y, c1), (XX, root), ,\n",
       " corr_edge = ('root', 'c1'); connected to (XX, root), (YY, c1), ]"
      ]
     },
     "execution_count": 42,
     "metadata": {},
     "output_type": "execute_result"
    }
   ],
   "source": [
    "terms = [{\"root\": \"X\" ,\"c1\": \"Y\" ,\"c2\": \"Z\"  },\n",
    "         {\"root\": \"XX\" ,\"c1\": \"YY\" ,\"c2\": \"ZZ\"  },\n",
    "         {\"root\": \"XX\" ,\"c1\": \"Y\" ,\"c2\": \"ZZZ\"  }]\n",
    "         \n",
    "H  = ptn.Hamiltonian(terms)\n",
    "SD = ptn.StateDiagram.from_hamiltonian(H, ttn)\n",
    "SD.vertex_colls[('root', 'c1')].contained_vertices"
   ]
  },
  {
   "cell_type": "markdown",
   "metadata": {},
   "source": [
    "# TTNO"
   ]
  },
  {
   "cell_type": "code",
   "execution_count": 43,
   "metadata": {},
   "outputs": [],
   "source": [
    "#               __________ 1 _________         \n",
    "#              |    21          540  |              \n",
    "#              2                     3     \n",
    "#                                    |12                     \n",
    "#                                    4             "
   ]
  },
  {
   "cell_type": "code",
   "execution_count": 44,
   "metadata": {},
   "outputs": [],
   "source": [
    "reference_tree = ptn.TreeTensorNetwork()\n",
    "d=2\n",
    "node1, tensor1 = ptn.random_tensor_node((d, d, d), identifier=\"id1\")\n",
    "node2, tensor2 = ptn.random_tensor_node((d, d), identifier=\"id2\")\n",
    "node3, tensor3 = ptn.random_tensor_node((d, d, d), identifier=\"id3\")\n",
    "node4, tensor4 = ptn.random_tensor_node((d, d), identifier=\"id4\")\n",
    "\n",
    "reference_tree.add_root(node1, tensor1)\n",
    "reference_tree.add_child_to_parent(node2, tensor2, 1, \"id1\", 2)\n",
    "reference_tree.add_child_to_parent(node3, tensor3,  1, \"id1\", 1)\n",
    "reference_tree.add_child_to_parent(node4, tensor4,  1, \"id3\", 2)"
   ]
  },
  {
   "cell_type": "code",
   "execution_count": 45,
   "metadata": {},
   "outputs": [
    {
     "name": "stdout",
     "output_type": "stream",
     "text": [
      "[2, 3] (21, 540, 4, 8)\n",
      "[1, 2] (21, 3, 7)\n",
      "[2, 3] (540, 12, 5, 9)\n",
      "[1, 2] (12, 2, 6)\n"
     ]
    }
   ],
   "source": [
    "tensor = ptn.crandn([2, 3, 4, 5,\n",
    "                     6, 7, 8, 9])\n",
    "leg_dict = {\"id1\": 2, \"id2\": 1, \"id3\": 3, \"id4\": 0}\n",
    "\n",
    "ttno = ptn.TTNO.from_tensor(reference_tree, tensor, leg_dict)\n",
    "print( ttno.nodes[\"id1\"].open_legs , ttno.tensors[\"id1\"].shape)\n",
    "print( ttno.nodes[\"id2\"].open_legs , ttno.tensors[\"id2\"].shape)\n",
    "print( ttno.nodes[\"id3\"].open_legs , ttno.tensors[\"id3\"].shape)\n",
    "print( ttno.nodes[\"id4\"].open_legs , ttno.tensors[\"id4\"].shape)\n"
   ]
  },
  {
   "cell_type": "code",
   "execution_count": 46,
   "metadata": {},
   "outputs": [
    {
     "name": "stdout",
     "output_type": "stream",
     "text": [
      "21\n",
      "21\n",
      "12\n",
      "540\n",
      "{('id1', 'id2'): 21, ('id1', 'id3'): 540, ('id3', 'id4'): 12}\n"
     ]
    }
   ],
   "source": [
    "print(ttno.bond_dim(\"id1\",\"id2\"))\n",
    "print(ttno.bond_dim(\"id2\",\"id1\"))\n",
    "print(ttno.bond_dim(\"id4\")) \n",
    "print(ttno.max_bond_dim())\n",
    "print(ttno.bond_dims())"
   ]
  },
  {
   "cell_type": "code",
   "execution_count": 47,
   "metadata": {},
   "outputs": [
    {
     "ename": "NameError",
     "evalue": "name 'a' is not defined",
     "output_type": "error",
     "traceback": [
      "\u001b[1;31m---------------------------------------------------------------------------\u001b[0m",
      "\u001b[1;31mNameError\u001b[0m                                 Traceback (most recent call last)",
      "Cell \u001b[1;32mIn[47], line 1\u001b[0m\n\u001b[1;32m----> 1\u001b[0m \u001b[43ma\u001b[49m\n",
      "\u001b[1;31mNameError\u001b[0m: name 'a' is not defined"
     ]
    }
   ],
   "source": [
    "a"
   ]
  },
  {
   "cell_type": "code",
   "execution_count": null,
   "metadata": {},
   "outputs": [],
   "source": [
    "       "
   ]
  },
  {
   "cell_type": "code",
   "execution_count": null,
   "metadata": {},
   "outputs": [
    {
     "data": {
      "text/plain": [
       "((4, 8, 3, 7, 5, 9, 2, 6), ['id1', 'id2', 'id3', 'id4'])"
      ]
     },
     "execution_count": 49,
     "metadata": {},
     "output_type": "execute_result"
    }
   ],
   "source": [
    "contracted_ttno , order = ttno.completely_contract_tree(to_copy=True)\n",
    "contracted_ttno.shape  , order"
   ]
  },
  {
   "cell_type": "code",
   "execution_count": null,
   "metadata": {},
   "outputs": [],
   "source": [
    "#               __________ 1 _________         \n",
    "#              |           |          |              \n",
    "#              2           5          3      \n",
    "#                                     |          \n",
    "#                                     4  \n",
    "\n",
    "reference_tree = ptn.TreeTensorNetwork()\n",
    "node1, tensor1 = ptn.random_tensor_node((2, 3, 4, 5), identifier=\"id1\")\n",
    "node2, tensor2 = ptn.random_tensor_node((2, 3, 4, 5), identifier=\"id2\")\n",
    "node3, tensor3 = ptn.random_tensor_node((2, 3, 4, 5), identifier=\"id3\")\n",
    "node4, tensor4 = ptn.random_tensor_node((2, 3, 4, 5), identifier=\"id4\")\n",
    "node5, tensor5 = ptn.random_tensor_node((2, 3, 4, 5), identifier=\"id5\")\n",
    "\n",
    "reference_tree.add_root(node1, tensor1)\n",
    "reference_tree.add_child_to_parent(node2, tensor2, 0, \"id1\", 0)\n",
    "reference_tree.add_child_to_parent(node3, tensor3, 1, \"id1\", 1)\n",
    "reference_tree.add_child_to_parent(node4, tensor4, 2, \"id3\", 2)\n",
    "reference_tree.add_child_to_parent(node5, tensor5, 2, \"id1\", 2)"
   ]
  },
  {
   "cell_type": "code",
   "execution_count": null,
   "metadata": {},
   "outputs": [
    {
     "ename": "AttributeError",
     "evalue": "'tuple' object has no attribute 'tensors'",
     "output_type": "error",
     "traceback": [
      "\u001b[1;31m---------------------------------------------------------------------------\u001b[0m",
      "\u001b[1;31mAttributeError\u001b[0m                            Traceback (most recent call last)",
      "Cell \u001b[1;32mIn[51], line 10\u001b[0m\n\u001b[0;32m      7\u001b[0m correct_tensor \u001b[38;5;241m=\u001b[39m tensor\u001b[38;5;241m.\u001b[39mtranspose([\u001b[38;5;241m2\u001b[39m, \u001b[38;5;241m7\u001b[39m, \u001b[38;5;241m3\u001b[39m, \u001b[38;5;241m8\u001b[39m, \u001b[38;5;241m4\u001b[39m, \u001b[38;5;241m9\u001b[39m, \u001b[38;5;241m0\u001b[39m, \u001b[38;5;241m5\u001b[39m, \u001b[38;5;241m1\u001b[39m, \u001b[38;5;241m6\u001b[39m])\n\u001b[0;32m      9\u001b[0m contracted_ttno \u001b[38;5;241m=\u001b[39m ttno\u001b[38;5;241m.\u001b[39mcompletely_contract_tree(to_copy\u001b[38;5;241m=\u001b[39m\u001b[38;5;28;01mTrue\u001b[39;00m)\n\u001b[1;32m---> 10\u001b[0m contracted_tensor \u001b[38;5;241m=\u001b[39m \u001b[43mcontracted_ttno\u001b[49m\u001b[38;5;241;43m.\u001b[39;49m\u001b[43mtensors\u001b[49m[contracted_ttno\u001b[38;5;241m.\u001b[39mroot_id]\n\u001b[0;32m     12\u001b[0m np\u001b[38;5;241m.\u001b[39mallclose(correct_tensor, contracted_tensor)\n",
      "\u001b[1;31mAttributeError\u001b[0m: 'tuple' object has no attribute 'tensors'"
     ]
    }
   ],
   "source": [
    "shape = [2, 3, 4, 5, 6,\n",
    "         2, 3, 4, 5, 6]\n",
    "tensor = ptn.crandn(shape)\n",
    "leg_dict = {'id1': 2, 'id2': 3, 'id3': 4, 'id4': 0, 'id5': 1}\n",
    "ttno = ptn.TTNO.from_tensor(reference_tree, tensor, leg_dict)\n",
    "\n",
    "correct_tensor = tensor.transpose([2, 7, 3, 8, 4, 9, 0, 5, 1, 6])\n",
    "\n",
    "contracted_ttno = ttno.completely_contract_tree(to_copy=True)\n",
    "contracted_tensor = contracted_ttno.tensors[contracted_ttno.root_id]\n",
    "\n",
    "np.allclose(correct_tensor, contracted_tensor)\n"
   ]
  },
  {
   "cell_type": "code",
   "execution_count": 48,
   "metadata": {},
   "outputs": [],
   "source": [
    "#               __________ 1 _________         \n",
    "#              |                     |              \n",
    "#        _____ 2_____           ____ 5______       \n",
    "#       |             |        |           |          \n",
    "#       3             4        6           7   \n",
    "\n",
    "ref_tree = ptn.TreeTensorNetwork()\n",
    "node1, tensor1 = ptn.random_tensor_node((2, 2, 2), identifier=\"site1\")\n",
    "node2, tensor2 = ptn.random_tensor_node((2, 2, 2, 8), identifier=\"site2\")\n",
    "node5, tensor5 = ptn.random_tensor_node((2, 2, 2, 2), identifier=\"site5\")\n",
    "node3, tensor3 = ptn.random_tensor_node((2, 2), identifier=\"site3\")\n",
    "node4, tensor4 = ptn.random_tensor_node((2, 2), identifier=\"site4\")\n",
    "node6, tensor6 = ptn.random_tensor_node((2, 2), identifier=\"site6\")\n",
    "node7, tensor7 = ptn.random_tensor_node((2, 2), identifier=\"site7\")\n",
    "\n",
    "ref_tree.add_root(node1, tensor1)\n",
    "ref_tree.add_child_to_parent(node2, tensor2, 0, \"site1\", 0)\n",
    "ref_tree.add_child_to_parent(node5, tensor5, 0, \"site1\", 1)\n",
    "ref_tree.add_child_to_parent(node3, tensor3, 0, \"site2\", 1)\n",
    "ref_tree.add_child_to_parent(node4, tensor4, 0, \"site2\", 2)\n",
    "ref_tree.add_child_to_parent(node6, tensor6, 0, \"site5\", 1)\n",
    "ref_tree.add_child_to_parent(node7, tensor7, 0, \"site5\", 2)\n"
   ]
  },
  {
   "cell_type": "code",
   "execution_count": 49,
   "metadata": {},
   "outputs": [],
   "source": [
    "tp = ptn.TensorProduct({\"site1\": \"1\",\n",
    "                        \"site2\": \"2\",\n",
    "                        \"site3\": \"3\",\n",
    "                        \"site4\": \"4\",\n",
    "                        \"site5\": \"5\",\n",
    "                        \"site6\": \"6\",\n",
    "                        \"site7\": \"7\"})\n",
    "conversion_dictionary = {\"1\": ptn.crandn((2, 2)),\n",
    "                        \"2\": ptn.crandn((8, 8)),\n",
    "                        \"3\": ptn.crandn((2, 2)),\n",
    "                        \"4\": ptn.crandn((2, 2)),\n",
    "                        \"5\": ptn.crandn((2, 2)),\n",
    "                        \"6\": ptn.crandn((2, 2)),\n",
    "                        \"7\": ptn.crandn((2, 2)),}\n",
    "H = ptn.Hamiltonian( tp , conversion_dictionary)\n",
    "\n",
    "ttno = ptn.TTNO.from_hamiltonian( H, ref_tree)"
   ]
  },
  {
   "cell_type": "code",
   "execution_count": null,
   "metadata": {},
   "outputs": [
    {
     "name": "stdout",
     "output_type": "stream",
     "text": [
      "[2, 3] (1, 1, 2, 2)\n",
      "[3, 4] (1, 1, 1, 8, 8)\n",
      "[1, 2] (1, 2, 2)\n",
      "[1, 2] (1, 2, 2)\n",
      "[3, 4] (1, 1, 1, 2, 2)\n",
      "[1, 2] (1, 2, 2)\n"
     ]
    }
   ],
   "source": [
    "print( ttno.nodes[\"site1\"].open_legs , ttno.tensors[\"site1\"].shape)\n",
    "print( ttno.nodes[\"site2\"].open_legs , ttno.tensors[\"site2\"].shape)\n",
    "print( ttno.nodes[\"site3\"].open_legs , ttno.tensors[\"site3\"].shape)\n",
    "print( ttno.nodes[\"site4\"].open_legs , ttno.tensors[\"site4\"].shape)\n",
    "print( ttno.nodes[\"site5\"].open_legs , ttno.tensors[\"site5\"].shape)\n",
    "print( ttno.nodes[\"site6\"].open_legs , ttno.tensors[\"site6\"].shape)"
   ]
  },
  {
   "cell_type": "code",
   "execution_count": null,
   "metadata": {},
   "outputs": [
    {
     "data": {
      "text/plain": [
       "dict_keys(['site1', 'site2', 'site5', 'site3', 'site4', 'site6', 'site7'])"
      ]
     },
     "execution_count": 139,
     "metadata": {},
     "output_type": "execute_result"
    }
   ],
   "source": [
    "# hamiltonian.to_tensor : first turn hamiltonian into a matrix \n",
    "# with this order :\n",
    "ref_tree.nodes.keys()\n",
    "# then reshape it to a tensor."
   ]
  },
  {
   "cell_type": "code",
   "execution_count": null,
   "metadata": {},
   "outputs": [
    {
     "data": {
      "text/plain": [
       "True"
      ]
     },
     "execution_count": 140,
     "metadata": {},
     "output_type": "execute_result"
    }
   ],
   "source": [
    "transpose_permutation =  (7,0,8,1,10,3,11,4,9,2,12,5,13,6)\n",
    "hamiltonian_tensor = H.to_tensor(ref_tree).operator.transpose(transpose_permutation)\n",
    "found_tensor = ttno.completely_contract_tree().tensors[ttno.root_id]\n",
    "np.allclose(hamiltonian_tensor, found_tensor)"
   ]
  },
  {
   "cell_type": "code",
   "execution_count": null,
   "metadata": {},
   "outputs": [],
   "source": [
    "tp1 = ptn.TensorProduct({\"site1\": \"1\",\n",
    "                        \"site2\": \"2\",\n",
    "                        \"site3\": \"3\",\n",
    "                        \"site4\": \"4\",\n",
    "                        \"site5\": \"5\",\n",
    "                        \"site6\": \"6\",\n",
    "                        \"site7\": \"7\"})\n",
    "tp2 = ptn.TensorProduct({\"site1\": \"11\",\n",
    "                         \"site2\": \"22\",\n",
    "                         \"site3\": \"33\",\n",
    "                         \"site4\": \"4\",\n",
    "                         \"site5\": \"5\",\n",
    "                         \"site6\": \"6\",\n",
    "                         \"site7\": \"7\"})\n",
    "\n",
    "conversion_dictionary = {\"1\": ptn.crandn((2, 2)),\n",
    "                        \"11\": ptn.crandn((2, 2)),\n",
    "                        \"2\": ptn.crandn((8, 8)),\n",
    "                        \"22\": ptn.crandn((8, 8)),\n",
    "                        \"3\": ptn.crandn((2, 2)),\n",
    "                        \"33\": ptn.crandn((2, 2)),\n",
    "                        \"4\": ptn.crandn((2, 2)),\n",
    "                        \"5\": ptn.crandn((2, 2)),\n",
    "                        \"6\": ptn.crandn((2, 2)),\n",
    "                        \"7\": ptn.crandn((2, 2)),}\n",
    "                        \n",
    "H = ptn.Hamiltonian( [tp1,tp2] , conversion_dictionary)\n",
    "\n",
    "ttno = ptn.TTNO.from_hamiltonian( H, ref_tree)"
   ]
  },
  {
   "cell_type": "code",
   "execution_count": null,
   "metadata": {},
   "outputs": [
    {
     "data": {
      "text/plain": [
       "((2, 1, 2, 2),\n",
       " (2, 2, 1, 8, 8),\n",
       " (2, 2, 2),\n",
       " (1, 2, 2),\n",
       " (1, 1, 1, 2, 2),\n",
       " (1, 2, 2),\n",
       " (1, 2, 2))"
      ]
     },
     "execution_count": 142,
     "metadata": {},
     "output_type": "execute_result"
    }
   ],
   "source": [
    "ttno.tensors[\"site1\"].shape , ttno.tensors[\"site2\"].shape , ttno.tensors[\"site3\"].shape , ttno.tensors[\"site4\"].shape , ttno.tensors[\"site5\"].shape , ttno.tensors[\"site6\"].shape , ttno.tensors[\"site7\"].shape"
   ]
  },
  {
   "cell_type": "code",
   "execution_count": null,
   "metadata": {},
   "outputs": [
    {
     "data": {
      "text/plain": [
       "True"
      ]
     },
     "execution_count": 143,
     "metadata": {},
     "output_type": "execute_result"
    }
   ],
   "source": [
    "transpose_permutation =  (7,0,8,1,10,3,11,4,9,2,12,5,13,6)\n",
    "hamiltonian_tensor = H.to_tensor(ref_tree).operator.transpose(transpose_permutation)\n",
    "found_tensor = ttno.completely_contract_tree().tensors[ttno.root_id]\n",
    "np.allclose(hamiltonian_tensor, found_tensor)"
   ]
  }
 ],
 "metadata": {
  "kernelspec": {
   "display_name": "Python 3",
   "language": "python",
   "name": "python3"
  },
  "language_info": {
   "codemirror_mode": {
    "name": "ipython",
    "version": 3
   },
   "file_extension": ".py",
   "mimetype": "text/x-python",
   "name": "python",
   "nbconvert_exporter": "python",
   "pygments_lexer": "ipython3",
   "version": "3.12.1"
  }
 },
 "nbformat": 4,
 "nbformat_minor": 2
}
