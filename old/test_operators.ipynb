{
 "cells": [
  {
   "cell_type": "code",
   "execution_count": 1,
   "metadata": {},
   "outputs": [],
   "source": [
    "import sys\n",
    "sys.path.append('C:\\\\Users\\\\edpou\\\\Desktop\\\\PyTreeNet-main')\n",
    "import pytreenet as ptn\n",
    "import numpy as np\n"
   ]
  },
  {
   "cell_type": "markdown",
   "metadata": {},
   "source": [
    "# Operators \n",
    "(operator , node_identifiers)\n",
    "- op.to_matrix\n",
    "- op.to_tensor"
   ]
  },
  {
   "cell_type": "code",
   "execution_count": 3,
   "metadata": {},
   "outputs": [
    {
     "data": {
      "text/plain": [
       "((3, 3, 3, 3), ['apple', 'pear'])"
      ]
     },
     "execution_count": 3,
     "metadata": {},
     "output_type": "execute_result"
    }
   ],
   "source": [
    "op = ptn.NumericOperator( ptn.crandn((3,3,3,3)), [\"apple\", \"pear\"] )\n",
    "op.operator.shape , op.node_identifiers"
   ]
  },
  {
   "cell_type": "code",
   "execution_count": 4,
   "metadata": {},
   "outputs": [
    {
     "data": {
      "text/plain": [
       "(9, 9)"
      ]
     },
     "execution_count": 4,
     "metadata": {},
     "output_type": "execute_result"
    }
   ],
   "source": [
    "op = op.to_matrix()\n",
    "op.operator.shape"
   ]
  },
  {
   "cell_type": "code",
   "execution_count": 5,
   "metadata": {},
   "outputs": [
    {
     "data": {
      "text/plain": [
       "(3, 3, 3, 3)"
      ]
     },
     "execution_count": 5,
     "metadata": {},
     "output_type": "execute_result"
    }
   ],
   "source": [
    "op = op.to_tensor(3) # when all nodes have the same open dimension\n",
    "op.operator.shape "
   ]
  },
  {
   "cell_type": "code",
   "execution_count": 9,
   "metadata": {},
   "outputs": [
    {
     "data": {
      "text/plain": [
       "'\\n                |2\\n                |\\n                r\\n               / \\\\\\n         3|  5/  6\\\\   |4\\n          |  /     \\\\  |\\n           c1        c2\\n'"
      ]
     },
     "execution_count": 9,
     "metadata": {},
     "output_type": "execute_result"
    }
   ],
   "source": [
    "\"\"\"\n",
    "                |2\n",
    "                |\n",
    "                r\n",
    "               / \\\\\n",
    "         3|  5/  6\\\\   |4\n",
    "          |  /     \\\\  |\n",
    "           c1        c2\n",
    "\"\"\""
   ]
  },
  {
   "cell_type": "code",
   "execution_count": 6,
   "metadata": {},
   "outputs": [
    {
     "name": "stdout",
     "output_type": "stream",
     "text": [
      "(2, 3, 4, 2, 3, 4)\n"
     ]
    },
    {
     "data": {
      "text/plain": [
       "False"
      ]
     },
     "execution_count": 6,
     "metadata": {},
     "output_type": "execute_result"
    }
   ],
   "source": [
    "ttn = ptn.random_small_ttns()\n",
    "op = ptn.NumericOperator( ptn.crandn((24,24)), [\"root\", \"c1\", \"c2\"])\n",
    "op = op.to_tensor(ttn = ttn)\n",
    "print(op.operator.shape)\n",
    "\n",
    "# check unitarity \n",
    "op.is_unitary()"
   ]
  },
  {
   "cell_type": "markdown",
   "metadata": {},
   "source": [
    "# Common Operators"
   ]
  },
  {
   "cell_type": "code",
   "execution_count": 7,
   "metadata": {},
   "outputs": [],
   "source": [
    "X , Y , Z = ptn.pauli_matrices()\n",
    "creation_op, annihilation_op, number_op = ptn.bosonic_operators( dimension = 2 )\n",
    "swap = ptn.swap_gate( dimension = 2 )\n",
    "H = ptn.random_hermitian_matrix(size=2)"
   ]
  },
  {
   "cell_type": "markdown",
   "metadata": {},
   "source": [
    "# Tensorproduct\n",
    "tp = dict { \"node_identifiers\" : numpy.ndarray }\n",
    "- tp.into_operator\n",
    "- tp.pad_with_identities(ttn)"
   ]
  },
  {
   "cell_type": "code",
   "execution_count": 15,
   "metadata": {},
   "outputs": [],
   "source": [
    "\"\"\"\n",
    "                |2\n",
    "                |\n",
    "                r\n",
    "               / \\\\\n",
    "         3|  5/  6\\\\   |4\n",
    "          |  /     \\\\  |\n",
    "           c1        c2\n",
    "\"\"\"\n",
    "ttn = ptn.random_small_ttns()"
   ]
  },
  {
   "cell_type": "code",
   "execution_count": 17,
   "metadata": {},
   "outputs": [],
   "source": [
    "array_dict = {\"root\": \"a^dagger\",\n",
    "              \"c1\": \"a\"}\n",
    "tp = ptn.TensorProduct(array_dict)\n",
    "\n",
    "array_dict = {\"root\": ptn.crandn((2,2)),\n",
    "              \"c1\": ptn.crandn((3,3))}\n",
    "tp = ptn.TensorProduct(array_dict)"
   ]
  },
  {
   "cell_type": "code",
   "execution_count": 23,
   "metadata": {},
   "outputs": [],
   "source": [
    "tp = tp.pad_with_identities(ttn)"
   ]
  },
  {
   "cell_type": "code",
   "execution_count": 24,
   "metadata": {},
   "outputs": [
    {
     "data": {
      "text/plain": [
       "((24, 24), ['root', 'c1', 'c2'])"
      ]
     },
     "execution_count": 24,
     "metadata": {},
     "output_type": "execute_result"
    }
   ],
   "source": [
    "operators = tp.into_operator() \n",
    "operators.operator.shape , operators.node_identifiers"
   ]
  },
  {
   "cell_type": "code",
   "execution_count": 14,
   "metadata": {},
   "outputs": [],
   "source": [
    "# List of single site operators\n",
    "op1 = ptn.NumericOperator(ptn.crandn((2,2)), \"root\")\n",
    "op2 = ptn.NumericOperator(ptn.crandn((3,3)), \"c1\")\n",
    "\n",
    "tp = ptn.TensorProduct.from_operators([op1, op2])\n"
   ]
  },
  {
   "cell_type": "code",
   "execution_count": 15,
   "metadata": {},
   "outputs": [
    {
     "name": "stdout",
     "output_type": "stream",
     "text": [
      "I4\n",
      "[[1. 0. 0. 0.]\n",
      " [0. 1. 0. 0.]\n",
      " [0. 0. 1. 0.]\n",
      " [0. 0. 0. 1.]]\n"
     ]
    }
   ],
   "source": [
    "tps = tp.pad_with_identities(ttn,symbolic=True)\n",
    "print(tps[\"c2\"])\n",
    "\n",
    "tp = tp.pad_with_identities(ttn)\n",
    "print(tp[\"c2\"])"
   ]
  },
  {
   "cell_type": "code",
   "execution_count": 16,
   "metadata": {},
   "outputs": [
    {
     "name": "stdout",
     "output_type": "stream",
     "text": [
      "(2, 3, 4, 2, 3, 4)\n",
      "['root', 'c1', 'c2']\n",
      "defailt order : ['root', 'c1', 'c2']\n"
     ]
    }
   ],
   "source": [
    "op = tp.into_operator( order=['root', 'c1', 'c2'] ) \n",
    "op = op.to_tensor(ttn=ttn)\n",
    "print(op.operator.shape)\n",
    "print(op.node_identifiers)\n",
    "\n",
    "# order should be specified, since the\n",
    "# tensor product is not commutative.\n",
    "print(\"defailt order :\" , list(tp.keys()) )\n",
    "\n",
    "# turn tp into exp(factor*operator) with defaulft order\n",
    "op = tp.exp( factor=2 )"
   ]
  },
  {
   "cell_type": "code",
   "execution_count": 17,
   "metadata": {},
   "outputs": [
    {
     "ename": "TypeError",
     "evalue": "random_tensor_product() got an unexpected keyword argument 'num_factors'",
     "output_type": "error",
     "traceback": [
      "\u001b[1;31m---------------------------------------------------------------------------\u001b[0m",
      "\u001b[1;31mTypeError\u001b[0m                                 Traceback (most recent call last)",
      "Cell \u001b[1;32mIn[17], line 2\u001b[0m\n\u001b[0;32m      1\u001b[0m ttn \u001b[38;5;241m=\u001b[39m ptn\u001b[38;5;241m.\u001b[39mrandom_small_ttns()\n\u001b[1;32m----> 2\u001b[0m tp \u001b[38;5;241m=\u001b[39m \u001b[43mptn\u001b[49m\u001b[38;5;241;43m.\u001b[39;49m\u001b[43mrandom_tensor_product\u001b[49m\u001b[43m(\u001b[49m\u001b[43mttn\u001b[49m\u001b[43m,\u001b[49m\u001b[43m \u001b[49m\u001b[43mnum_factors\u001b[49m\u001b[38;5;241;43m=\u001b[39;49m\u001b[43m \u001b[49m\u001b[38;5;241;43m1\u001b[39;49m\u001b[43m)\u001b[49m\n\u001b[0;32m      3\u001b[0m \u001b[38;5;66;03m# 1 =< num_factors =< len(ttn.nodes)\u001b[39;00m\n\u001b[0;32m      4\u001b[0m tp\n",
      "\u001b[1;31mTypeError\u001b[0m: random_tensor_product() got an unexpected keyword argument 'num_factors'"
     ]
    }
   ],
   "source": [
    "ttn = ptn.random_small_ttns()\n",
    "tp = ptn.random_tensor_product(ttn, num_factors= 1)\n",
    "# 1 =< num_factors =< len(ttn.nodes)\n",
    "tp"
   ]
  },
  {
   "cell_type": "markdown",
   "metadata": {},
   "source": [
    "# Hamiltonian\n",
    "- H = List [ tp , tp , .... ]\n",
    "- H.to_matrix = operator\n",
    "- H.to_tensor = operator"
   ]
  },
  {
   "cell_type": "code",
   "execution_count": 18,
   "metadata": {},
   "outputs": [
    {
     "data": {
      "text/plain": [
       "(True, True)"
      ]
     },
     "execution_count": 18,
     "metadata": {},
     "output_type": "execute_result"
    }
   ],
   "source": [
    "X,Y,Z = ptn.pauli_matrices()\n",
    "\n",
    "dict1 = {\"site1\" : X , \"site2\" : Z@Y }\n",
    "dict2 = {\"site3\" : X@Y , \"site4\" : Z }\n",
    "\n",
    "tp1 = ptn.TensorProduct(dict1)\n",
    "tp2 = ptn.TensorProduct(dict2)\n",
    "H = ptn.Hamiltonian([tp1,tp2])\n",
    "# or\n",
    "H = ptn.Hamiltonian([dict1,dict2])\n",
    "#######\n",
    "dict3 = {\"site5\" : Y }\n",
    "tp3 = ptn.TensorProduct(dict3)\n",
    "\n",
    "H.__add__(tp3)\n",
    "######\n",
    "tp4 = ptn.TensorProduct({\"site6\" : Z@X })\n",
    "tp5 = ptn.TensorProduct({\"site7\" : Z@Y })\n",
    "# H.add_term(tp4)\n",
    "H.add_multiple_terms([tp4,tp5])\n",
    "\n",
    "#######\n",
    "tp6 = ptn.TensorProduct({\"site7\" : Z@X })\n",
    "H2 = ptn.Hamiltonian([tp6])\n",
    "\n",
    "H.__add__(H2)\n",
    "#######\n",
    "# check if all node ids in H are in ttn\n",
    "H.is_compatible_with(ttn)\n",
    "H.perform_compatibility_checks(ptn.PadMode.risky , ttn ) # does not check compatibility\n",
    "\n",
    "H.terms[0] == tp1 , H.terms[2] == tp3"
   ]
  },
  {
   "cell_type": "code",
   "execution_count": null,
   "metadata": {},
   "outputs": [],
   "source": [
    "ttn = ptn.random_small_ttns()\n",
    "tp1 = ptn.TensorProduct({\"root\": \"A\", \"c2\": \"C\"})\n",
    "H = ptn.Hamiltonian( tp1 , conversion_dictionary = {\"A\": ptn.crandn((2,2)), \"B\": ptn.crandn((3,3))})\n",
    "H = H.pad_with_identities(ttn , symbolic = False)\n",
    "# len(H.terms) == 1"
   ]
  },
  {
   "cell_type": "code",
   "execution_count": null,
   "metadata": {},
   "outputs": [
    {
     "name": "stdout",
     "output_type": "stream",
     "text": [
      "(24, 24) ['root', 'c1', 'c2']\n",
      "(2, 3, 4, 2, 3, 4) ['root', 'c1', 'c2']\n"
     ]
    }
   ],
   "source": [
    "ttn = ptn.random_small_ttns()\n",
    "tp1 = ptn.random_tensor_product(ttn, num_factors= len(ttn))\n",
    "tp2 = ptn.random_tensor_product(ttn, num_factors= 2)\n",
    "H = ptn.Hamiltonian([tp1,tp2])\n",
    "H = H.pad_with_identities(ttn , symbolic = False)\n",
    "\n",
    "H_op = H.to_matrix(ttn) # order = list(ttn.nodes.keys())\n",
    "print(H_op.operator.shape , H_op.node_identifiers)\n",
    "H_tn = H.to_tensor(ttn)\n",
    "print(H_tn.operator.shape , H_tn.node_identifiers)"
   ]
  },
  {
   "cell_type": "code",
   "execution_count": null,
   "metadata": {},
   "outputs": [
    {
     "name": "stdout",
     "output_type": "stream",
     "text": [
      "(24, 24) ['root', 'c1', 'c2']\n",
      "(2, 3, 4, 2, 3, 4) ['root', 'c1', 'c2']\n"
     ]
    }
   ],
   "source": [
    "tp = ptn.TensorProduct( {\"root\" : \"A\" , \"c1\" : \"B\" , \"c2\" : \"C\" } )\n",
    "H = ptn.Hamiltonian( tp , conversion_dictionary = {\"A\": ptn.crandn((2,2)), \"B\": ptn.crandn((3,3)), \"C\": ptn.crandn((4,4))})\n",
    "ttn = ptn.random_small_ttns()\n",
    "H_op  = H.to_matrix(ttn)\n",
    "print ( H_op.operator.shape , H_op.node_identifiers )\n",
    "H_op = H.to_tensor(ttn)\n",
    "print ( H_op.operator.shape , H_op.node_identifiers )"
   ]
  },
  {
   "cell_type": "code",
   "execution_count": null,
   "metadata": {},
   "outputs": [],
   "source": [
    "possible_operators = [X, X@Y, Z@X, Z, Y, X@Y , Z@Z, Y@X, Z@Y ] \n",
    "sites = [\"A\", \"B\", \"C\", \"D\", \"E\", \"F\", \"G\", \"H\", \"I\", \"J\"]\n",
    "List = ptn.random_symbolic_terms(\n",
    "                                 num_of_terms=4, \n",
    "                                 possible_operators=possible_operators, \n",
    "                                 sites=sites, \n",
    "                                 min_num_sites=2, \n",
    "                                 max_num_sites=4, \n",
    "                                 seed=None)\n",
    "\n",
    "# List = [tp1, tp2, tp3, tp4]\n",
    "# 2 <= len(tp1) <= 4\n",
    "op1 = List[0].into_operator()\n",
    "print(op1.operator.shape , op1.node_identifiers)\n",
    "\n",
    "H = ptn.Hamiltonian(List)\n",
    "H.terms[0] == List[0]"
   ]
  },
  {
   "cell_type": "code",
   "execution_count": 25,
   "metadata": {},
   "outputs": [],
   "source": [
    "List = ptn.random_terms(num_of_terms = 4,\n",
    "                        possible_operators = possible_operators,\n",
    "                        sites = sites,\n",
    "                        min_strength = 1,\n",
    "                        max_strength = 4,\n",
    "                        min_num_sites= 2,\n",
    "                        max_num_sites= 4)\n",
    "\n",
    "# List = [dict1, dict2, dict3, dict4]\n",
    "# 2 <= len(dict) <= 4\n",
    "# dict = {\"site\" : (random strength)*operator , ... }"
   ]
  },
  {
   "cell_type": "code",
   "execution_count": 28,
   "metadata": {},
   "outputs": [],
   "source": [
    "tp = ptn.TensorProduct(List[0])"
   ]
  },
  {
   "cell_type": "code",
   "execution_count": 24,
   "metadata": {},
   "outputs": [
    {
     "data": {
      "text/plain": [
       "[{'root': 'X'}, {'c1': 'X'}, {'c2': 'X'}]"
      ]
     },
     "execution_count": 24,
     "metadata": {},
     "output_type": "execute_result"
    }
   ],
   "source": [
    "H = ptn.create_single_site_hamiltonian(ttn, \n",
    "                                       local_operator = \"X\", \n",
    "                                       conversion_dict = {\"X\" : ptn.pauli_matrices()[0]})\n",
    "H.terms \n"
   ]
  },
  {
   "cell_type": "markdown",
   "metadata": {},
   "source": [
    "# ttns"
   ]
  },
  {
   "cell_type": "code",
   "execution_count": null,
   "metadata": {},
   "outputs": [],
   "source": [
    "ttn = ptn.random_small_ttns()"
   ]
  },
  {
   "cell_type": "code",
   "execution_count": null,
   "metadata": {},
   "outputs": [
    {
     "name": "stdout",
     "output_type": "stream",
     "text": [
      "(198.4911323158384+3.552713678800501e-15j)\n",
      "(269.62646114273537-48.52127247401511j)\n",
      "(187.56320099276218+63.65793184544422j)\n"
     ]
    }
   ],
   "source": [
    "# <TTNS|TTNS>\n",
    "print( ttn.scalar_product() )\n",
    "\n",
    "# <TTNS| operator(nd.array) , node_id |TTNS>\n",
    "# Assumes the node has only one open leg. \n",
    "print( ttn.single_site_operator_expectation_value(\"root\", ptn.crandn((2,2))) )\n",
    "\n",
    "# <TTNS|tp|TTNS>\n",
    "tp = ptn.random_tensor_product(ttn, num_factors= 2)\n",
    "print( ttn.operator_expectation_value(tp) )"
   ]
  },
  {
   "cell_type": "code",
   "execution_count": null,
   "metadata": {},
   "outputs": [],
   "source": []
  },
  {
   "cell_type": "code",
   "execution_count": null,
   "metadata": {},
   "outputs": [
    {
     "data": {
      "text/plain": [
       "(['site3', 'site2', 'site1', 'site0', 'site4', 'site5', 'site6'],\n",
       " dict_keys(['site3', 'site2', 'site1', 'site0', 'site4', 'site5', 'site6']))"
      ]
     },
     "metadata": {},
     "output_type": "display_data"
    }
   ],
   "source": [
    "ham_ttno.completely_contract_tree(to_copy=True)[1]"
   ]
  },
  {
   "cell_type": "code",
   "execution_count": null,
   "metadata": {},
   "outputs": [
    {
     "ename": "NameError",
     "evalue": "name 'ham_ttno' is not defined",
     "output_type": "error",
     "traceback": [
      "\u001b[1;31m---------------------------------------------------------------------------\u001b[0m\n",
      "\u001b[1;31mNameError\u001b[0m                                 Traceback (most recent call last)\n",
      "Cell \u001b[1;32mIn[1], line 1\u001b[0m\n",
      "\u001b[1;32m----> 1\u001b[0m hamiltonian_matrix \u001b[38;5;241m=\u001b[39m \u001b[43mham_ttno\u001b[49m\u001b[38;5;241m.\u001b[39mcompletely_contract_tree(to_copy\u001b[38;5;241m=\u001b[39m\u001b[38;5;28;01mTrue\u001b[39;00m)[\u001b[38;5;241m0\u001b[39m]\n",
      "\u001b[0;32m      2\u001b[0m hamiltonian_matrix \u001b[38;5;241m=\u001b[39m np\u001b[38;5;241m.\u001b[39mtranspose(hamiltonian_matrix,(\u001b[38;5;241m1\u001b[39m,\u001b[38;5;241m3\u001b[39m,\u001b[38;5;241m5\u001b[39m,\u001b[38;5;241m7\u001b[39m,\u001b[38;5;241m9\u001b[39m,\u001b[38;5;241m11\u001b[39m,\u001b[38;5;241m13\u001b[39m,\u001b[38;5;241m0\u001b[39m,\u001b[38;5;241m2\u001b[39m,\u001b[38;5;241m4\u001b[39m,\u001b[38;5;241m6\u001b[39m,\u001b[38;5;241m8\u001b[39m,\u001b[38;5;241m10\u001b[39m,\u001b[38;5;241m12\u001b[39m))\n",
      "\u001b[0;32m      3\u001b[0m hamiltonian_matrix \u001b[38;5;241m=\u001b[39m np\u001b[38;5;241m.\u001b[39mreshape(hamiltonian_matrix,(\u001b[38;5;241m2\u001b[39m\u001b[38;5;241m*\u001b[39m\u001b[38;5;241m*\u001b[39mnum_sites,\u001b[38;5;241m2\u001b[39m\u001b[38;5;241m*\u001b[39m\u001b[38;5;241m*\u001b[39mnum_sites))\n",
      "\n",
      "\u001b[1;31mNameError\u001b[0m: name 'ham_ttno' is not defined"
     ]
    }
   ],
   "source": [
    "hamiltonian_matrix = ham_ttno.completely_contract_tree(to_copy=True)[0]\n",
    "hamiltonian_matrix = np.transpose(hamiltonian_matrix,(1,3,5,7,9,11,13,0,2,4,6,8,10,12))\n",
    "hamiltonian_matrix = np.reshape(hamiltonian_matrix,(2**num_sites,2**num_sites))\n",
    "\n",
    "hamiltonian_matrix2 = hamiltonian.to_matrix(mps).operator\n",
    "\n",
    "print(np.allclose(hamiltonian_matrix, hamiltonian_matrix2))"
   ]
  },
  {
   "cell_type": "code",
   "execution_count": null,
   "metadata": {},
   "outputs": [
    {
     "name": "stdout",
     "output_type": "stream",
     "text": [
      "True\n"
     ]
    }
   ],
   "source": [
    "hamiltonian_tensor = ham_ttno.completely_contract_tree(to_copy=True)[0]\n",
    "hamiltonian_tensor = np.transpose(hamiltonian_tensor,(1,3,5,7,9,11,13,0,2,4,6,8,10,12))\n",
    "\n",
    "hamiltonian_tensor2 = hamiltonian.to_tensor(mps).operator\n",
    "print(np.allclose(hamiltonian_tensor, hamiltonian_tensor2))"
   ]
  },
  {
   "cell_type": "code",
   "execution_count": null,
   "metadata": {},
   "outputs": [
    {
     "data": {
      "text/plain": [
       "dict_keys(['site3', 'site2', 'site1', 'site0', 'site4', 'site5', 'site6'])"
      ]
     },
     "metadata": {},
     "output_type": "display_data"
    }
   ],
   "source": [
    "mps.nodes.keys()"
   ]
  },
  {
   "cell_type": "code",
   "execution_count": null,
   "metadata": {},
   "outputs": [
    {
     "name": "stdout",
     "output_type": "stream",
     "text": [
      "True\n"
     ]
    }
   ],
   "source": [
    "hamiltonian_tensor = ham_ttno.completely_contract_tree(to_copy=True)[0]\n",
    "\n",
    "hamiltonian_tensor2 = hamiltonian.to_tensor(mps).operator\n",
    "hamiltonian_tensor2 = np.transpose(hamiltonian_tensor2,(0,7,1,8,2,9,3,10,4,11,5,12,6,13))\n",
    "\n",
    "print(np.allclose(hamiltonian_tensor, hamiltonian_tensor2))"
   ]
  },
  {
   "cell_type": "code",
   "execution_count": null,
   "metadata": {},
   "outputs": [],
   "source": []
  }
 ],
 "metadata": {
  "kernelspec": {
   "display_name": "Python 3",
   "language": "python",
   "name": "python3"
  },
  "language_info": {
   "codemirror_mode": {
    "name": "ipython",
    "version": 3
   },
   "file_extension": ".py",
   "mimetype": "text/x-python",
   "name": "python",
   "nbconvert_exporter": "python",
   "pygments_lexer": "ipython3",
   "version": "3.12.1"
  }
 },
 "nbformat": 4,
 "nbformat_minor": 2
}
