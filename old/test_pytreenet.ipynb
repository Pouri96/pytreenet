{
 "cells": [
  {
   "cell_type": "code",
   "execution_count": 1,
   "metadata": {},
   "outputs": [],
   "source": [
    "import numpy as np\n",
    "import pytreenet as ptn"
   ]
  },
  {
   "cell_type": "markdown",
   "metadata": {},
   "source": [
    "# Util"
   ]
  },
  {
   "cell_type": "code",
   "execution_count": 2,
   "metadata": {},
   "outputs": [
    {
     "name": "stdout",
     "output_type": "stream",
     "text": [
      "{'c': 4, 'd': 1}\n",
      "{'a': 1, 'e': 3, 'c': 4, 'd': 5}\n"
     ]
    }
   ],
   "source": [
    "dict = {'c': 3, 'd': 5, 'c': 4 , 'd': 1}\n",
    "print(dict)\n",
    "dict = {'e': 3, 'd': 5, 'c': 4 , 'a': 1}\n",
    "print(ptn.sort_dictionary(dict))\n",
    "\n",
    "# copy_object(obj, deep=True)\n",
    "# compare_lists_by_value(list1, list2)\n",
    "# fast_exp_action(matrix , vector: np.ndarray,\n",
    "#                 mode: str = \"fastest\") : modes = \"expm\" , \"eigsh\" , \"sparse\" "
   ]
  },
  {
   "cell_type": "markdown",
   "metadata": {},
   "source": [
    "# Tensor_Util"
   ]
  },
  {
   "cell_type": "code",
   "execution_count": 3,
   "metadata": {},
   "outputs": [
    {
     "name": "stdout",
     "output_type": "stream",
     "text": [
      "FULL\n",
      "REDUCED\n",
      "KEEP\n",
      "complete\n",
      "reduced\n",
      "reduced\n",
      "True\n",
      "False\n",
      "True\n"
     ]
    }
   ],
   "source": [
    "from enum import Enum\n",
    "\n",
    "class SplitMode(Enum):\n",
    "    FULL = \"full\"\n",
    "    REDUCED = \"reduced\"\n",
    "    KEEP = \"keep\"\n",
    "\n",
    "    def numpy_qr_mode(self) -> str:\n",
    "        \"\"\"\n",
    "        Returns the string required in the numpy QR decomposition.\n",
    "        \"\"\"\n",
    "        if self is SplitMode.FULL:\n",
    "            return \"complete\"\n",
    "        return \"reduced\"\n",
    "\n",
    "    def numpy_svd_mode(self) -> True:\n",
    "        \"\"\"\n",
    "        Returns, if a numpy SVD decomposition computes the full or reduced\n",
    "         matrices.\n",
    "        \"\"\"\n",
    "        return not self is SplitMode.REDUCED\n",
    "\n",
    "print(SplitMode.FULL.name)\n",
    "print(SplitMode.REDUCED.name)\n",
    "print(SplitMode.KEEP.name)    \n",
    "print(SplitMode.FULL.numpy_qr_mode())\n",
    "print(SplitMode.REDUCED.numpy_qr_mode())\n",
    "print(SplitMode.KEEP.numpy_qr_mode()) \n",
    "print(SplitMode.FULL.numpy_svd_mode())\n",
    "print(SplitMode.REDUCED.numpy_svd_mode())\n",
    "print(SplitMode.KEEP.numpy_svd_mode())"
   ]
  },
  {
   "cell_type": "code",
   "execution_count": 4,
   "metadata": {},
   "outputs": [
    {
     "name": "stdout",
     "output_type": "stream",
     "text": [
      "False\n",
      "True\n"
     ]
    }
   ],
   "source": [
    "t = ptn.crandn((3,5,4,2))\n",
    "t1 = t.reshape(12,10)\n",
    "t2 = t.transpose((0,2,1,3))\n",
    "t2 = t2.reshape(12,10)\n",
    "print(np.allclose(t1, t2))\n",
    "t3 = ptn.tensor_matricization(t,(0,2),(1,3))\n",
    "print(np.allclose(t3, t2))"
   ]
  },
  {
   "cell_type": "code",
   "execution_count": 5,
   "metadata": {},
   "outputs": [
    {
     "data": {
      "text/plain": [
       "((60, 20), (20, 20), (60, 60), (60, 20))"
      ]
     },
     "execution_count": 5,
     "metadata": {},
     "output_type": "execute_result"
    }
   ],
   "source": [
    "matrix = np.random.randn(60, 20)\n",
    "q, r = np.linalg.qr(matrix, mode=\"reduced\")\n",
    "q1, r1 = np.linalg.qr(matrix, mode=\"complete\")\n",
    "q.shape , r.shape , q1.shape , r1.shape"
   ]
  },
  {
   "cell_type": "code",
   "execution_count": 6,
   "metadata": {},
   "outputs": [
    {
     "data": {
      "text/plain": [
       "((20, 20), (20, 40), (20, 20), (20, 40))"
      ]
     },
     "execution_count": 6,
     "metadata": {},
     "output_type": "execute_result"
    }
   ],
   "source": [
    "matrix = np.random.randn(20, 40)\n",
    "q, r = np.linalg.qr(matrix, mode=\"reduced\")\n",
    "q1, r1 = np.linalg.qr(matrix, mode=\"complete\")\n",
    "q.shape , r.shape , q1.shape , r1.shape"
   ]
  },
  {
   "cell_type": "code",
   "execution_count": 7,
   "metadata": {},
   "outputs": [
    {
     "data": {
      "text/plain": [
       "((20, 20), (20,), (40, 40))"
      ]
     },
     "execution_count": 7,
     "metadata": {},
     "output_type": "execute_result"
    }
   ],
   "source": [
    "u , s , v = np.linalg.svd(matrix, full_matrices=True)\n",
    "u.shape , s.shape , v.shape"
   ]
  },
  {
   "cell_type": "code",
   "execution_count": 8,
   "metadata": {},
   "outputs": [
    {
     "name": "stdout",
     "output_type": "stream",
     "text": [
      "(4, 3, 5, 60) (60, 5, 2, 2)\n",
      "(4, 3, 5, 20) (20, 5, 2, 2)\n",
      "(4, 3, 5, 20) (20, 5, 2, 2)\n"
     ]
    }
   ],
   "source": [
    "tensor = ptn.crandn((4,5,3,2,5,2))\n",
    "q , r = ptn.tensor_qr_decomposition(tensor,(0,2,4),(1,3,5), ptn.SplitMode.FULL)\n",
    "print(q.shape , r.shape)\n",
    "q , r = ptn.tensor_qr_decomposition(tensor,(0,2,4),(1,3,5), ptn.SplitMode.REDUCED)\n",
    "print(q.shape , r.shape)\n",
    "q , r = ptn.tensor_qr_decomposition(tensor,(0,2,4),(1,3,5), ptn.SplitMode.KEEP)\n",
    "print(q.shape , r.shape)"
   ]
  },
  {
   "cell_type": "code",
   "execution_count": 9,
   "metadata": {},
   "outputs": [
    {
     "name": "stdout",
     "output_type": "stream",
     "text": [
      "(4, 3, 2, 24) (24,) (50, 5, 2, 5)\n",
      "(4, 3, 2, 24) (24,) (24, 5, 2, 5)\n"
     ]
    },
    {
     "ename": "TypeError",
     "evalue": "truncated_tensor_svd() got an unexpected keyword argument 'max_bond_dim'",
     "output_type": "error",
     "traceback": [
      "\u001b[1;31m---------------------------------------------------------------------------\u001b[0m",
      "\u001b[1;31mTypeError\u001b[0m                                 Traceback (most recent call last)",
      "Cell \u001b[1;32mIn[9], line 6\u001b[0m\n\u001b[0;32m      4\u001b[0m u,s,v \u001b[38;5;241m=\u001b[39m ptn\u001b[38;5;241m.\u001b[39mtensor_svd(tensor,(\u001b[38;5;241m0\u001b[39m,\u001b[38;5;241m2\u001b[39m,\u001b[38;5;241m5\u001b[39m),(\u001b[38;5;241m1\u001b[39m,\u001b[38;5;241m3\u001b[39m,\u001b[38;5;241m4\u001b[39m), SplitMode\u001b[38;5;241m.\u001b[39mREDUCED)\n\u001b[0;32m      5\u001b[0m \u001b[38;5;28mprint\u001b[39m(u\u001b[38;5;241m.\u001b[39mshape,s\u001b[38;5;241m.\u001b[39mshape,v\u001b[38;5;241m.\u001b[39mshape)\n\u001b[1;32m----> 6\u001b[0m u,s,v \u001b[38;5;241m=\u001b[39m \u001b[43mptn\u001b[49m\u001b[38;5;241;43m.\u001b[39;49m\u001b[43mtruncated_tensor_svd\u001b[49m\u001b[43m(\u001b[49m\u001b[43mtensor\u001b[49m\u001b[43m,\u001b[49m\u001b[43m \u001b[49m\u001b[43m(\u001b[49m\u001b[38;5;241;43m0\u001b[39;49m\u001b[43m,\u001b[49m\u001b[38;5;241;43m2\u001b[39;49m\u001b[43m,\u001b[49m\u001b[38;5;241;43m5\u001b[39;49m\u001b[43m)\u001b[49m\u001b[43m,\u001b[49m\u001b[43m \u001b[49m\u001b[43m(\u001b[49m\u001b[38;5;241;43m1\u001b[39;49m\u001b[43m,\u001b[49m\u001b[38;5;241;43m3\u001b[39;49m\u001b[43m,\u001b[49m\u001b[38;5;241;43m4\u001b[39;49m\u001b[43m)\u001b[49m\u001b[43m,\u001b[49m\n\u001b[0;32m      7\u001b[0m \u001b[43m                         \u001b[49m\u001b[43mmax_bond_dim\u001b[49m\u001b[38;5;241;43m=\u001b[39;49m\u001b[43mnp\u001b[49m\u001b[38;5;241;43m.\u001b[39;49m\u001b[43minf\u001b[49m\u001b[43m \u001b[49m\u001b[43m,\u001b[49m\u001b[43m \u001b[49m\u001b[43mrel_tol\u001b[49m\u001b[38;5;241;43m=\u001b[39;49m\u001b[38;5;241;43m-\u001b[39;49m\u001b[43mnp\u001b[49m\u001b[38;5;241;43m.\u001b[39;49m\u001b[43minf\u001b[49m\u001b[43m,\u001b[49m\u001b[43m \u001b[49m\u001b[43mtotal_tol\u001b[49m\u001b[38;5;241;43m=\u001b[39;49m\u001b[38;5;241;43m-\u001b[39;49m\u001b[43mnp\u001b[49m\u001b[38;5;241;43m.\u001b[39;49m\u001b[43minf\u001b[49m\u001b[43m)\u001b[49m\n\u001b[0;32m      8\u001b[0m \u001b[38;5;28mprint\u001b[39m(u\u001b[38;5;241m.\u001b[39mshape,s\u001b[38;5;241m.\u001b[39mshape,v\u001b[38;5;241m.\u001b[39mshape)\n\u001b[0;32m      9\u001b[0m u,sv \u001b[38;5;241m=\u001b[39m ptn\u001b[38;5;241m.\u001b[39mcontr_truncated_svd_splitting(tensor, (\u001b[38;5;241m0\u001b[39m,\u001b[38;5;241m2\u001b[39m,\u001b[38;5;241m5\u001b[39m), (\u001b[38;5;241m1\u001b[39m,\u001b[38;5;241m3\u001b[39m,\u001b[38;5;241m4\u001b[39m),\n\u001b[0;32m     10\u001b[0m                                          max_bond_dim\u001b[38;5;241m=\u001b[39mnp\u001b[38;5;241m.\u001b[39minf , rel_tol\u001b[38;5;241m=\u001b[39m\u001b[38;5;241m-\u001b[39mnp\u001b[38;5;241m.\u001b[39minf, total_tol\u001b[38;5;241m=\u001b[39m\u001b[38;5;241m-\u001b[39mnp\u001b[38;5;241m.\u001b[39minf)\n",
      "\u001b[1;31mTypeError\u001b[0m: truncated_tensor_svd() got an unexpected keyword argument 'max_bond_dim'"
     ]
    }
   ],
   "source": [
    "tensor = ptn.crandn((4,5,3,2,5,2))\n",
    "u,s,v = ptn.tensor_svd(tensor,(0,2,5),(1,3,4), SplitMode.FULL)\n",
    "print(u.shape,s.shape,v.shape)\n",
    "u,s,v = ptn.tensor_svd(tensor,(0,2,5),(1,3,4), SplitMode.REDUCED)\n",
    "print(u.shape,s.shape,v.shape)\n",
    "u,s,v = ptn.truncated_tensor_svd(tensor, (0,2,5), (1,3,4),\n",
    "                         max_bond_dim=np.inf , rel_tol=-np.inf, total_tol=-np.inf)\n",
    "print(u.shape,s.shape,v.shape)\n",
    "u,sv = ptn.contr_truncated_svd_splitting(tensor, (0,2,5), (1,3,4),\n",
    "                                         max_bond_dim=np.inf , rel_tol=-np.inf, total_tol=-np.inf)\n",
    "print(u.shape,sv.shape)"
   ]
  },
  {
   "cell_type": "code",
   "execution_count": null,
   "metadata": {},
   "outputs": [
    {
     "name": "stdout",
     "output_type": "stream",
     "text": [
      "(40, 40) (40,) (70, 70)\n"
     ]
    },
    {
     "data": {
      "text/plain": [
       "True"
      ]
     },
     "execution_count": 10,
     "metadata": {},
     "output_type": "execute_result"
    }
   ],
   "source": [
    "matrix = ptn.crandn((40,70))\n",
    "u, s, vh = np.linalg.svd(matrix, full_matrices=True)\n",
    "print(u.shape,s.shape,vh.shape)\n",
    "matrix_reconstruction = np.dot(u, np.dot(np.diag(s), vh[:len(s),:])) \n",
    "np.allclose(matrix, matrix_reconstruction)"
   ]
  },
  {
   "cell_type": "markdown",
   "metadata": {},
   "source": [
    "# GraphNode"
   ]
  },
  {
   "cell_type": "code",
   "execution_count": null,
   "metadata": {},
   "outputs": [
    {
     "name": "stdout",
     "output_type": "stream",
     "text": [
      "1 1e707abb-f915-11ee-b3b9-28dfeb1555e4 None []\n",
      "2  []\n",
      "  True True\n",
      "3  ['parent', 'child1', 'child2', 'child3']\n",
      "4  ['child1', 'child2']\n",
      "  True False\n",
      "  0 0 1\n",
      "['parent', 'child1', 'child2']\n",
      "5  1 2 3\n",
      "  0 1 2\n",
      "6  ['parent', 'C1', 'child2']\n",
      "8  ['P1', 'C1', 'C2']\n"
     ]
    }
   ],
   "source": [
    "#1\n",
    "node = ptn.GraphNode()\n",
    "print(\"1\" , node.identifier , node.parent, node.children)\n",
    "#2\n",
    "node = ptn.GraphNode(identifier=\"this\")\n",
    "print(\"2 \" ,node.neighbouring_nodes())\n",
    "print(\" \" , node.is_root() , node.is_leaf())\n",
    "#3\n",
    "node.add_parent(\"parent\")\n",
    "node.add_child(\"child1\")\n",
    "node.add_children([\"child2\",\"child3\"])\n",
    "print(\"3 \" , node.neighbouring_nodes())\n",
    "#4\n",
    "node.remove_child(\"child3\")\n",
    "node.remove_parent()\n",
    "print(\"4 \" , node.neighbouring_nodes())\n",
    "print(\" \" , node.is_root() , node.is_leaf())\n",
    "print(\" \", node.child_index(\"child1\") , node.neighbour_index(\"child1\") , node.neighbour_index(\"child2\"))\n",
    "#5\n",
    "node.add_parent(\"parent\")\n",
    "print( node.neighbouring_nodes())\n",
    "print(\"5 \" ,node.nparents() , node.nchildren() , node.nneighbours())\n",
    "print(\" \", node.child_index(\"child1\") , node.neighbour_index(\"child1\") , node.neighbour_index(\"child2\"))\n",
    "#6\n",
    "node.replace_child(\"child1\", \"C1\")\n",
    "print( \"6 \" ,node.neighbouring_nodes())\n",
    "#7\n",
    "node.replace_neighbour(\"parent\",\"P1\" )\n",
    "node.replace_neighbour(\"child2\",\"C2\" )\n",
    "print(\"8 \" , node.neighbouring_nodes())"
   ]
  },
  {
   "cell_type": "code",
   "execution_count": null,
   "metadata": {},
   "outputs": [
    {
     "name": "stdout",
     "output_type": "stream",
     "text": [
      "True True\n",
      "True\n"
     ]
    }
   ],
   "source": [
    "#8\n",
    "print( node.is_child_of(\"P1\") , node.is_parent_of(\"C2\"))\n",
    "print( node.has_x_children(2))"
   ]
  },
  {
   "cell_type": "markdown",
   "metadata": {},
   "source": [
    "# Node"
   ]
  },
  {
   "cell_type": "code",
   "execution_count": null,
   "metadata": {},
   "outputs": [
    {
     "name": "stdout",
     "output_type": "stream",
     "text": [
      "[0, 1, 2] (3, 2, 6) 3\n",
      "P1 ['C1', 'C2']\n",
      "0\n",
      "[1, 2]\n"
     ]
    },
    {
     "ename": "AttributeError",
     "evalue": "'Node' object has no attribute 'get_neighbour_leg'",
     "output_type": "error",
     "traceback": [
      "\u001b[1;31m---------------------------------------------------------------------------\u001b[0m",
      "\u001b[1;31mAttributeError\u001b[0m                            Traceback (most recent call last)",
      "Cell \u001b[1;32mIn[13], line 8\u001b[0m\n\u001b[0;32m      6\u001b[0m \u001b[38;5;28mprint\u001b[39m(node\u001b[38;5;241m.\u001b[39mparent_leg)\n\u001b[0;32m      7\u001b[0m \u001b[38;5;28mprint\u001b[39m(node\u001b[38;5;241m.\u001b[39mchildren_legs)\n\u001b[1;32m----> 8\u001b[0m \u001b[38;5;28mprint\u001b[39m(\u001b[43mnode\u001b[49m\u001b[38;5;241;43m.\u001b[39;49m\u001b[43mget_neighbour_leg\u001b[49m(\u001b[38;5;124m\"\u001b[39m\u001b[38;5;124mP1\u001b[39m\u001b[38;5;124m\"\u001b[39m) , node\u001b[38;5;241m.\u001b[39mget_neighbour_leg(\u001b[38;5;124m\"\u001b[39m\u001b[38;5;124mC1\u001b[39m\u001b[38;5;124m\"\u001b[39m) , node\u001b[38;5;241m.\u001b[39mget_neighbour_leg(\u001b[38;5;124m\"\u001b[39m\u001b[38;5;124mC2\u001b[39m\u001b[38;5;124m\"\u001b[39m))\n\u001b[0;32m      9\u001b[0m \u001b[38;5;28mprint\u001b[39m(node\u001b[38;5;241m.\u001b[39mget_child_leg(\u001b[38;5;124m\"\u001b[39m\u001b[38;5;124mC1\u001b[39m\u001b[38;5;124m\"\u001b[39m) , node\u001b[38;5;241m.\u001b[39mget_child_leg(\u001b[38;5;124m\"\u001b[39m\u001b[38;5;124mC2\u001b[39m\u001b[38;5;124m\"\u001b[39m))\n\u001b[0;32m     10\u001b[0m \u001b[38;5;28mprint\u001b[39m(\u001b[38;5;124m\"\u001b[39m\u001b[38;5;124m.................\u001b[39m\u001b[38;5;124m\"\u001b[39m)\n",
      "\u001b[1;31mAttributeError\u001b[0m: 'Node' object has no attribute 'get_neighbour_leg'"
     ]
    }
   ],
   "source": [
    "node = ptn.Node(ptn.crandn((3,2,6)) ,\"this\")\n",
    "node.add_parent(\"P1\")\n",
    "node.add_children([\"C1\", \"C2\"])\n",
    "print(node.leg_permutation , node.shape , node.nlegs()) # the erders are well adjusted. \n",
    "print(node.parent, node.children)\n",
    "print(node.parent_leg)\n",
    "print(node.children_legs)\n",
    "print(node.get_neighbour_leg(\"P1\") , node.get_neighbour_leg(\"C1\") , node.get_neighbour_leg(\"C2\"))\n",
    "print(node.get_child_leg(\"C1\") , node.get_child_leg(\"C2\"))\n",
    "print(\".................\")\n",
    "node.remove_parent()\n",
    "print(node.parent, node.children)\n",
    "print(node.parent_leg) # always 0\n",
    "print(node.children_legs)\n",
    "print(node.get_neighbour_leg(\"C1\") , node.get_neighbour_leg(\"C2\"))\n",
    "print(node.get_child_leg(\"C1\") , node.get_child_leg(\"C2\"))\n",
    "node.add_parent(\"P1\")"
   ]
  },
  {
   "cell_type": "code",
   "execution_count": null,
   "metadata": {},
   "outputs": [
    {
     "name": "stdout",
     "output_type": "stream",
     "text": [
      " 1)  [0, 1, 2] ['P1', 'C1', 'C2']\n",
      "[] 0\n",
      " 2)  [0, 1, 2] ['C1', 'C2']\n",
      "[2] 1\n",
      " 3)  [0, 1, 2, 3, 4] ['C1', 'C2']\n",
      "[2, 3, 4] 3\n",
      "3\n"
     ]
    },
    {
     "data": {
      "text/plain": [
       "2"
      ]
     },
     "execution_count": 12,
     "metadata": {},
     "output_type": "execute_result"
    }
   ],
   "source": [
    "# 1 \n",
    "print (\" 1) \" , node.leg_permutation , node.neighbouring_nodes())\n",
    "print(node.open_legs , node.nopen_legs())\n",
    "# 2\n",
    "node.remove_parent()\n",
    "print (\" 2) \" , node.leg_permutation , node.neighbouring_nodes())\n",
    "print(node.open_legs , node.nopen_legs())\n",
    "# 3\n",
    "node.link_tensor(ptn.crandn((3,2,4,5,6))) # replace tensor\n",
    "print (\" 3) \" , node.leg_permutation , node.neighbouring_nodes())\n",
    "print(node.open_legs , node.nopen_legs())\n",
    "print(len(node.leg_permutation)-node.nneighbours())\n",
    "node.nchildren()"
   ]
  },
  {
   "cell_type": "code",
   "execution_count": null,
   "metadata": {},
   "outputs": [
    {
     "name": "stdout",
     "output_type": "stream",
     "text": [
      "[3, 0, 1, 2, 4] ['P1', 'C1', 'C2']\n",
      "[3, 4] 2\n",
      "[2, 4]\n",
      "0 [1, 2]\n",
      "1 2\n"
     ]
    }
   ],
   "source": [
    "node.open_leg_to_parent(\"P1\",3)\n",
    "print (node.leg_permutation , node.neighbouring_nodes())\n",
    "print(node.open_legs ,node.nopen_legs())\n",
    "print([node.leg_permutation[i] for i in node.open_legs])\n",
    "print(node.parent_leg , node.children_legs)\n",
    "print(node.get_child_leg(\"C1\") , node.get_child_leg(\"C2\"))"
   ]
  },
  {
   "cell_type": "code",
   "execution_count": null,
   "metadata": {},
   "outputs": [
    {
     "name": "stdout",
     "output_type": "stream",
     "text": [
      "[3, 0, 1, 2, 4] ['P1', 'C1', 'C2', 'C3']\n",
      "[4] 1\n",
      "[4]\n",
      "0 [1, 2, 3]\n",
      "1 2 3\n"
     ]
    }
   ],
   "source": [
    "node.open_leg_to_child(\"C3\",3)\n",
    "print (node.leg_permutation , node.neighbouring_nodes())\n",
    "print(node.open_legs , node.nopen_legs())\n",
    "print([node.leg_permutation[i] for i in node.open_legs])\n",
    "print(node.parent_leg , node.children_legs)\n",
    "print(node.get_child_leg(\"C1\") , node.get_child_leg(\"C2\") , node.get_child_leg(\"C3\"))\n",
    "#  open_legs_to_children(self, child_dict: Dict[str, int]):\n"
   ]
  },
  {
   "cell_type": "code",
   "execution_count": null,
   "metadata": {},
   "outputs": [
    {
     "name": "stdout",
     "output_type": "stream",
     "text": [
      "[0, 1, 2, 4, 3] ['C1', 'C2', 'C3']\n",
      "[3, 4] 2\n",
      "[4, 3]\n",
      "0 [0, 1, 2]\n",
      "0 1 2\n"
     ]
    }
   ],
   "source": [
    "node.parent_leg_to_open_leg()\n",
    "print (node.leg_permutation , node.neighbouring_nodes())\n",
    "print(node.open_legs , node.nopen_legs())\n",
    "print([node.leg_permutation[i] for i in node.open_legs])\n",
    "print(node.parent_leg , node.children_legs)\n",
    "print(node.get_child_leg(\"C1\") , node.get_child_leg(\"C2\") , node.get_child_leg(\"C3\"))"
   ]
  },
  {
   "cell_type": "code",
   "execution_count": null,
   "metadata": {},
   "outputs": [
    {
     "name": "stdout",
     "output_type": "stream",
     "text": [
      "[0, 2, 4, 3, 1] ['C1', 'C3']\n",
      "[2, 3, 4] 3\n",
      "[4, 3, 1]\n",
      "0 [0, 1]\n",
      "0 1\n"
     ]
    },
    {
     "data": {
      "text/plain": [
       "9"
      ]
     },
     "execution_count": 16,
     "metadata": {},
     "output_type": "execute_result"
    }
   ],
   "source": [
    "node.child_leg_to_open_leg(\"C2\")\n",
    "print (node.leg_permutation , node.neighbouring_nodes())\n",
    "print(node.open_legs , node.nopen_legs())\n",
    "print([node.leg_permutation[i] for i in node.open_legs])\n",
    "print(node.parent_leg , node.children_legs)\n",
    "print(node.get_child_leg(\"C1\") , node.get_child_leg(\"C3\"))\n",
    "9# children_legs_to_open_legs(self, children_id_list: List[str])"
   ]
  },
  {
   "cell_type": "code",
   "execution_count": null,
   "metadata": {},
   "outputs": [
    {
     "name": "stdout",
     "output_type": "stream",
     "text": [
      "[0, 1, 2, 3, 4, 5, 6, 7, 8] ['P1', 'C1', 'C2']\n",
      "[3, 4, 5, 6, 7, 8]\n",
      "[0, 1, 5, 6, 3, 4, 2, 7, 8] [3, 4, 5, 6, 7, 8]\n",
      "[6, 3, 4, 2, 7, 8]\n"
     ]
    }
   ],
   "source": [
    "node = ptn.Node(ptn.crandn((5,4,3,6,2,6,7,9,8)))\n",
    "node.add_parent(\"P1\")\n",
    "node.add_children([\"C1\", \"C2\"])\n",
    "print (node.leg_permutation , node.neighbouring_nodes())\n",
    "print(node.open_legs)\n",
    "# exchanges any leg \n",
    "node.exchange_open_leg_ranges(range(2,3),range(5,7))\n",
    "print(node.leg_permutation , node.open_legs)\n",
    "print([node.leg_permutation[i] for i in node.open_legs])"
   ]
  },
  {
   "cell_type": "code",
   "execution_count": null,
   "metadata": {},
   "outputs": [
    {
     "name": "stdout",
     "output_type": "stream",
     "text": [
      "[0, 1, 5, 6, 3, 4, 2, 7, 8] ['P1', 'C1', 'C2']\n",
      "[0, 5, 1, 6, 3, 4, 2, 7, 8] ['P1', 'C2', 'C1']\n",
      "[0, 5, 1, 6, 3, 4, 2, 7, 8] ['P1', 'C2', 'C1', 'C3']\n",
      "[0, 6, 1, 5, 3, 4, 2, 7, 8] ['P1', 'C3', 'C1', 'C2']\n"
     ]
    }
   ],
   "source": [
    "print (node.leg_permutation , node.neighbouring_nodes())\n",
    "node.swap_two_child_legs(node.children[0], node.children[1])\n",
    "print (node.leg_permutation , node.neighbouring_nodes())\n",
    "node.add_child(\"C3\")\n",
    "print (node.leg_permutation , node.neighbouring_nodes())\n",
    "node.swap_with_first_child(node.children[2])\n",
    "print (node.leg_permutation , node.neighbouring_nodes())\n"
   ]
  },
  {
   "cell_type": "code",
   "execution_count": null,
   "metadata": {},
   "outputs": [
    {
     "data": {
      "text/plain": [
       "2592"
      ]
     },
     "execution_count": 19,
     "metadata": {},
     "output_type": "execute_result"
    }
   ],
   "source": [
    "# total open dimension\n",
    "node.open_dimension()\n"
   ]
  },
  {
   "cell_type": "code",
   "execution_count": null,
   "metadata": {},
   "outputs": [
    {
     "name": "stdout",
     "output_type": "stream",
     "text": [
      "0 [1, 2] [3, 4, 5]\n"
     ]
    }
   ],
   "source": [
    "node = ptn.Node(ptn.crandn((5,4,3,6,2,6)), \"T\")\n",
    "node.add_parent(\"P1\")\n",
    "node.add_children([\"C1\", \"C2\"])\n",
    "print(node.parent_leg , node.children_legs , node.open_legs )"
   ]
  },
  {
   "cell_type": "markdown",
   "metadata": {},
   "source": [
    "# LegSpecification"
   ]
  },
  {
   "cell_type": "code",
   "execution_count": null,
   "metadata": {},
   "outputs": [
    {
     "name": "stdout",
     "output_type": "stream",
     "text": [
      "P1 ['C1', 'C2'] [3, 4, 5]\n",
      "P1 ['C1', 'C2'] [3, 4, 5]\n",
      "0 [1, 2] [3, 4, 5]\n",
      "parent_leg: P1, child_legs: ['C1', 'C2'], open_legs: [3, 4, 5], node_id: T, is_root: False\n",
      "[0, 1, 2, 3, 4, 5] ['P1', 'C1', 'C2']\n"
     ]
    }
   ],
   "source": [
    "Legs1 = ptn.LegSpecification(node.parent, node.children, node.open_legs, node)\n",
    "print(Legs1.parent_leg , Legs1.child_legs , Legs1.open_legs )\n",
    "print(node.parent , node.children , node.open_legs )\n",
    "print(node.parent_leg , node.children_legs , node.open_legs )\n",
    "print(Legs1.__str__() , )\n",
    "print(Legs1.find_leg_values() , Legs1.find_all_neighbour_ids())"
   ]
  },
  {
   "cell_type": "markdown",
   "metadata": {},
   "source": [
    "# TreeStructure "
   ]
  },
  {
   "cell_type": "code",
   "execution_count": 24,
   "metadata": {},
   "outputs": [
    {
     "name": "stdout",
     "output_type": "stream",
     "text": [
      "node0\n"
     ]
    },
    {
     "data": {
      "text/plain": [
       "<pytreenet.core.node.Node at 0x1c0d0367470>"
      ]
     },
     "execution_count": 24,
     "metadata": {},
     "output_type": "execute_result"
    }
   ],
   "source": [
    "identifiers = [\"node\" + str(i) for i in range(9)]\n",
    "nodes =  [ptn.Node(identifier=identifiers[i])\n",
    "                 for i in range(len(identifiers))]\n",
    "print(nodes[0].identifier)\n",
    "nodes[0]"
   ]
  },
  {
   "cell_type": "code",
   "execution_count": 27,
   "metadata": {},
   "outputs": [
    {
     "name": "stdout",
     "output_type": "stream",
     "text": [
      "{} None\n",
      "{'node0': <pytreenet.core.node.Node object at 0x000001C0D0367470>} node0\n"
     ]
    }
   ],
   "source": [
    "ts=ptn.TreeStructure()\n",
    "print(ts._nodes , ts.root_id )\n",
    "ts.add_root(nodes[0])\n",
    "print(ts._nodes , ts.root_id )\n"
   ]
  },
  {
   "cell_type": "code",
   "execution_count": 28,
   "metadata": {},
   "outputs": [
    {
     "name": "stdout",
     "output_type": "stream",
     "text": [
      "{'node0': <pytreenet.core.node.Node object at 0x000001C0D0367470>}\n",
      "node0 ['node1']\n",
      "True True\n",
      "True True\n",
      "{'node0': <pytreenet.core.node.Node object at 0x000001C0D0367470>, 'node1': <pytreenet.core.node.Node object at 0x000001C0D0364590>}\n"
     ]
    }
   ],
   "source": [
    "print(ts._nodes)\n",
    "ts.add_child_to_parent(nodes[1], nodes[0].identifier)\n",
    "print(nodes[1].parent , nodes[0].children )\n",
    "print(nodes[0].is_parent_of(nodes[1].identifier) , nodes[1].is_child_of(nodes[0].identifier) )\n",
    "print(ts.is_parent_of(nodes[0].identifier, nodes[1].identifier) , ts.is_child_of(nodes[1].identifier, nodes[0].identifier))\n",
    "print(ts._nodes)"
   ]
  },
  {
   "cell_type": "code",
   "execution_count": 29,
   "metadata": {},
   "outputs": [
    {
     "name": "stdout",
     "output_type": "stream",
     "text": [
      "True True\n",
      "True\n"
     ]
    }
   ],
   "source": [
    "ts.add_parent_to_root(nodes[2])\n",
    "print(nodes[2].is_root() , nodes[1].is_leaf() )\n",
    "print(nodes[2].is_parent_of(nodes[0].identifier))\n"
   ]
  },
  {
   "cell_type": "code",
   "execution_count": null,
   "metadata": {},
   "outputs": [
    {
     "name": "stdout",
     "output_type": "stream",
     "text": [
      "[('node0', 'node1'), ('node0', 'node3'), ('node0', 'node4'), ('node2', 'node0'), ('node4', 'node5')]\n",
      "['node1', 'node3', 'node5']\n",
      "{'node5': <pytreenet.node.Node object at 0x00000164D1C53CB0>}\n"
     ]
    }
   ],
   "source": [
    "ts.add_child_to_parent(nodes[3], nodes[0].identifier)\n",
    "ts.add_child_to_parent(nodes[4], nodes[0].identifier)\n",
    "ts.add_child_to_parent(nodes[5], nodes[4].identifier)\n",
    "print(ts.nearest_neighbours())\n",
    "print(ts.get_leaves())\n",
    "print(ts.leaves_under_node(nodes[4].identifier))"
   ]
  },
  {
   "cell_type": "code",
   "execution_count": null,
   "metadata": {},
   "outputs": [
    {
     "data": {
      "text/plain": [
       "{'node2': 0, 'node0': 1, 'node1': 2, 'node3': 2, 'node4': 2, 'node5': 3}"
      ]
     },
     "execution_count": 27,
     "metadata": {},
     "output_type": "execute_result"
    }
   ],
   "source": [
    "ts.distance_to_node(\"node2\")"
   ]
  },
  {
   "cell_type": "code",
   "execution_count": null,
   "metadata": {},
   "outputs": [
    {
     "name": "stdout",
     "output_type": "stream",
     "text": [
      "True\n"
     ]
    },
    {
     "data": {
      "text/plain": [
       "{'node0': <pytreenet.node.Node at 0x164dfecf410>,\n",
       " 'node1': <pytreenet.node.Node at 0x164d1343320>,\n",
       " 'node3': <pytreenet.node.Node at 0x164d1c53bc0>,\n",
       " 'node4': <pytreenet.node.Node at 0x164d1c53950>,\n",
       " 'node5': <pytreenet.node.Node at 0x164d1c53cb0>}"
      ]
     },
     "execution_count": 28,
     "metadata": {},
     "output_type": "execute_result"
    }
   ],
   "source": [
    "print(ts.find_subtree_of_node(\"node2\") == ts._nodes)\n",
    "ts.find_subtree_of_node(\"node0\")"
   ]
  },
  {
   "cell_type": "code",
   "execution_count": null,
   "metadata": {},
   "outputs": [
    {
     "name": "stdout",
     "output_type": "stream",
     "text": [
      "6\n",
      "5\n",
      "1\n"
     ]
    }
   ],
   "source": [
    "print(ts.find_subtree_size_of_node(\"node2\"))\n",
    "print(ts.find_subtree_size_of_node(\"node0\"))\n",
    "print(ts.find_subtree_size_of_node(\"node1\"))"
   ]
  },
  {
   "cell_type": "code",
   "execution_count": null,
   "metadata": {},
   "outputs": [
    {
     "data": {
      "text/plain": [
       "('node2', 'node0')"
      ]
     },
     "execution_count": 30,
     "metadata": {},
     "output_type": "execute_result"
    }
   ],
   "source": [
    "ts.determine_parentage(\"node0\", \"node2\") # output = (parent_id, child_id)"
   ]
  },
  {
   "cell_type": "code",
   "execution_count": null,
   "metadata": {},
   "outputs": [],
   "source": [
    "from copy import deepcopy\n",
    "ts1 = deepcopy(ts)\n",
    "ts2 = deepcopy(ts)"
   ]
  },
  {
   "cell_type": "code",
   "execution_count": null,
   "metadata": {},
   "outputs": [],
   "source": [
    "#                         node2\n",
    "#                           |\n",
    "#               _________ node0 ________          \n",
    "#               |           |          |\n",
    "#               node1     node3      node4\n",
    "#                                      |\n",
    "#                                    node5"
   ]
  },
  {
   "cell_type": "code",
   "execution_count": null,
   "metadata": {},
   "outputs": [
    {
     "data": {
      "text/plain": [
       "['node5', 'node4', 'node0', 'node2']"
      ]
     },
     "execution_count": 33,
     "metadata": {},
     "output_type": "execute_result"
    }
   ],
   "source": [
    "ts1.find_path_to_root(\"node5\")"
   ]
  },
  {
   "cell_type": "code",
   "execution_count": null,
   "metadata": {},
   "outputs": [
    {
     "name": "stdout",
     "output_type": "stream",
     "text": [
      "['node1', 'node0', 'node3']\n",
      "['node2', 'node0', 'node1']\n"
     ]
    }
   ],
   "source": [
    "print(ts1.path_from_to(\"node1\", \"node3\"))\n",
    "print(ts1.path_from_to(\"node2\", \"node1\"))"
   ]
  },
  {
   "cell_type": "code",
   "execution_count": null,
   "metadata": {},
   "outputs": [
    {
     "name": "stdout",
     "output_type": "stream",
     "text": [
      "['new']\n",
      "new\n",
      "new\n",
      "new\n"
     ]
    }
   ],
   "source": [
    "ts1.replace_node_in_neighbours(\"new\", \"node0\")\n",
    "print(ts1.nodes[\"node2\"].children)\n",
    "print(ts1.nodes[\"node1\"].parent)\n",
    "print(ts1.nodes[\"node3\"].parent)\n",
    "print(ts1.nodes[\"node4\"].parent)\n",
    "\n",
    "# node0 is removed \n",
    "# ts1.nodes[\"new\"].parent ---> error\n",
    "# ts1.nodes[\"new\"].children ---> error "
   ]
  },
  {
   "cell_type": "code",
   "execution_count": null,
   "metadata": {},
   "outputs": [
    {
     "name": "stdout",
     "output_type": "stream",
     "text": [
      "['new']\n",
      "new\n",
      "new\n",
      "node0\n",
      "['node1', 'node3', 'node4']\n",
      "node2\n"
     ]
    }
   ],
   "source": [
    "ts2.replace_node_in_some_neighbours(\"new\", \"node0\", [\"node2\", \"node1\", \"node3\"])\n",
    "print(ts2.nodes[\"node2\"].children)\n",
    "print(ts2.nodes[\"node1\"].parent)\n",
    "print(ts2.nodes[\"node3\"].parent)\n",
    "print(ts2.nodes[\"node4\"].parent)\n",
    "print(ts2.nodes[\"node0\"].children)\n",
    "print(ts2.nodes[\"node0\"].parent)\n",
    "# print(ts2.nodes[\"new\"].parent) ---> error\n",
    "# print(ts2.nodes[\"new\"].children) ---> error"
   ]
  },
  {
   "cell_type": "code",
   "execution_count": null,
   "metadata": {},
   "outputs": [
    {
     "name": "stdout",
     "output_type": "stream",
     "text": [
      "False\n",
      "True\n"
     ]
    }
   ],
   "source": [
    "print(ts2.nodes[\"node3\"].is_child_of(\"node0\"))\n",
    "print(ts2.nodes[\"node0\"].is_parent_of(\"node3\"))"
   ]
  },
  {
   "cell_type": "markdown",
   "metadata": {},
   "source": [
    "# TTN"
   ]
  },
  {
   "cell_type": "code",
   "execution_count": null,
   "metadata": {},
   "outputs": [],
   "source": [
    "#                         node2\n",
    "#                           |\n",
    "#               _________ node0 ________          \n",
    "#               |           |          |\n",
    "#               node1     node3      node4\n",
    "#                                      |\n",
    "#                                    node5"
   ]
  },
  {
   "cell_type": "code",
   "execution_count": 14,
   "metadata": {},
   "outputs": [
    {
     "name": "stdout",
     "output_type": "stream",
     "text": [
      "(1, 2, 3, 4)\n",
      "True\n",
      "node0 :  None []\n"
     ]
    }
   ],
   "source": [
    "ttn = ptn.TreeTensorNetwork()\n",
    "\n",
    "node0, tensor0 = ptn.random_tensor_node((1, 2, 3, 4), identifier=\"node0\")\n",
    "\n",
    "ttn.add_root(node0, tensor0)\n",
    "print(ttn.tensors[\"node0\"].shape)\n",
    "print(ttn.nodes[\"node0\"] == node0)\n",
    "print(\"node0 : \" , node0.parent , node0.children )"
   ]
  },
  {
   "cell_type": "code",
   "execution_count": 15,
   "metadata": {},
   "outputs": [
    {
     "name": "stdout",
     "output_type": "stream",
     "text": [
      "node0 :  (3, 1, 2, 4)\n",
      "node2 :  (3, 1, 2, 4, 5)\n"
     ]
    }
   ],
   "source": [
    "node2, tensor2 = ptn.random_tensor_node((1,2,3,4,5), identifier=\"node2\")\n",
    "\n",
    "ttn.add_parent_to_root( 2, node2 , tensor2 , 2)\n",
    "\n",
    "print(\"node0 : \" , node0.shape )\n",
    "print(\"node2 : \" , node2.shape )"
   ]
  },
  {
   "cell_type": "code",
   "execution_count": 16,
   "metadata": {},
   "outputs": [],
   "source": [
    "node1, tensor1 = ptn.random_tensor_node((4, 5, 6, 3), identifier=\"node1\")\n",
    "node3, tensor3 = ptn.random_tensor_node((3, 8, 2, 4), identifier=\"node3\")\n",
    "node4, tensor4 = ptn.random_tensor_node((3, 6, 1, 5), identifier=\"node4\")\n",
    "node5, tensor5 = ptn.random_tensor_node((4, 6, 2, 3), identifier=\"node5\")\n",
    "\n",
    "ttn.add_child_to_parent( node1 , tensor1 , 0  , \"node0\" , 3)\n",
    "ttn.add_child_to_parent( node3 , tensor3 , 2  , \"node0\" , 3)\n",
    "ttn.add_child_to_parent( node4 , tensor4 , 2  , \"node0\" , 3)\n",
    "ttn.add_child_to_parent( node5 , tensor5 , 1  , \"node4\" , 2)"
   ]
  },
  {
   "cell_type": "code",
   "execution_count": null,
   "metadata": {},
   "outputs": [
    {
     "name": "stdout",
     "output_type": "stream",
     "text": [
      "(1, 2, 4, 5, 5, 6, 3, 3, 8, 4, 3, 5, 4, 2, 3)\n",
      "['node2', 'node0', 'node1', 'node3', 'node4', 'node5']\n",
      "(3, 1, 2, 4, 5)\n",
      "[1, 2, 3, 4]\n"
     ]
    }
   ],
   "source": [
    "from copy import deepcopy\n",
    "ttn2 = deepcopy(ttn)\n",
    "contracted_ttn , contraction_oder =  ttn2.completely_contract_tree(to_copy=True)\n",
    "print(contracted_ttn.shape) \n",
    "print(contraction_oder)\n",
    "print(ttn2.tensors[\"node2\"].shape)\n",
    "print(ttn2.nodes[\"node2\"].open_legs)\n"
   ]
  },
  {
   "cell_type": "code",
   "execution_count": 12,
   "metadata": {},
   "outputs": [
    {
     "name": "stdout",
     "output_type": "stream",
     "text": [
      "(2, 3, 4)\n",
      "['root', 'c1', 'c2']\n",
      "{'root': <pytreenet.core.node.Node object at 0x000001C0B1522480>}\n"
     ]
    }
   ],
   "source": [
    "ttn=ptn.random_small_ttns()\n",
    "contracted_ttn , contraction_oder =  ttn.completely_contract_tree(to_copy=False)\n",
    "print(contracted_ttn.shape) \n",
    "print(contraction_oder)\n",
    "print(ttn.nodes)\n",
    "# ttn.tensors[\"root\"] = contracted_ttn"
   ]
  },
  {
   "cell_type": "code",
   "execution_count": null,
   "metadata": {},
   "outputs": [],
   "source": [
    "ttn2 = deepcopy(ttn)\n",
    "\n",
    "spec_q = ptn.LegSpecification(\"node2\", [\"node1\",\"node4\"], [], None)\n",
    "spec_r = ptn.LegSpecification(None, [\"node3\"], [], None)\n",
    "ttn2.split_node_qr(\"node0\" , spec_q , spec_r,\"node0_q\", \"node0_r\")\n",
    "\n",
    "print(ttn2.nodes[\"node0_r\"].neighbouring_nodes())\n",
    "print(ttn2.nodes[\"node4\"].neighbouring_nodes())\n",
    "print(ttn2.nodes[\"node3\"].neighbouring_nodes())"
   ]
  },
  {
   "cell_type": "code",
   "execution_count": 18,
   "metadata": {},
   "outputs": [
    {
     "name": "stdout",
     "output_type": "stream",
     "text": [
      "None ['node1', 'node3', 'node4'] []\n",
      "node2 [] []\n"
     ]
    }
   ],
   "source": [
    "from pytreenet.core.canonical_form import _build_qr_leg_specs\n",
    "spec_q , spec_r = _build_qr_leg_specs(ttn.nodes[\"node0\"],\"node2\")\n",
    "print (spec_q.parent_leg , spec_q.child_legs , spec_q.open_legs) \n",
    "print (spec_r.parent_leg , spec_r.child_legs , spec_r.open_legs) "
   ]
  },
  {
   "cell_type": "code",
   "execution_count": null,
   "metadata": {},
   "outputs": [
    {
     "name": "stdout",
     "output_type": "stream",
     "text": [
      "[2, 3]\n",
      "['node0', 'node5']\n",
      "True\n",
      "4 3\n",
      "True\n"
     ]
    },
    {
     "data": {
      "text/plain": [
       "True"
      ]
     },
     "execution_count": 367,
     "metadata": {},
     "output_type": "execute_result"
    }
   ],
   "source": [
    "print(node4.open_legs) \n",
    "print(node4.neighbouring_nodes())\n",
    "print(node1.is_child_of(node0.identifier))\n",
    "print(node3.nlegs() , node3.nopen_legs())\n",
    "print(ttn.tensors[\"node4\"].shape == node4.shape)\n",
    "# node , tensor = ttn[\"node identifier\"]\n",
    "# ttn.root[0] : Node\n",
    "# ttn.root[1] : tensor\n",
    "ttn.root[0].identifier == ttn.root_id\n"
   ]
  },
  {
   "cell_type": "code",
   "execution_count": null,
   "metadata": {},
   "outputs": [
    {
     "name": "stdout",
     "output_type": "stream",
     "text": [
      "(1, 6, 3, 5) node0 ['node5']\n",
      "(6, 4, 2, 3) node4 []\n"
     ]
    }
   ],
   "source": [
    "print(ttn.tensors[\"node4\"].shape , ttn.nodes[\"node4\"].parent , ttn.nodes[\"node4\"].children)\n",
    "print(ttn.tensors[\"node5\"].shape , ttn.nodes[\"node5\"].parent , ttn.nodes[\"node5\"].children)"
   ]
  },
  {
   "cell_type": "code",
   "execution_count": null,
   "metadata": {},
   "outputs": [
    {
     "name": "stdout",
     "output_type": "stream",
     "text": [
      "node0 [] [1, 2]\n",
      "None [] [3, 4, 5]\n"
     ]
    }
   ],
   "source": [
    "spec4, spec5 = ttn.legs_before_combination(\"node4\",\"node5\")\n",
    "\n",
    "print (spec4.parent_leg , spec4.child_legs , spec4.open_legs) \n",
    "print (spec5.parent_leg , spec5.child_legs , spec5.open_legs) "
   ]
  },
  {
   "cell_type": "code",
   "execution_count": null,
   "metadata": {},
   "outputs": [
    {
     "name": "stdout",
     "output_type": "stream",
     "text": [
      "(1, 3, 5, 4, 2, 3) node0 []\n"
     ]
    }
   ],
   "source": [
    "ttn.contract_nodes(\"node4\", \"node5\", \"node45\")\n",
    "print(ttn.tensors[\"node45\"].shape , ttn.nodes[\"node45\"].parent , ttn.nodes[\"node45\"].children)\n"
   ]
  },
  {
   "cell_type": "code",
   "execution_count": null,
   "metadata": {},
   "outputs": [],
   "source": [
    "ttn.split_node_svd(\"node45\",spec4, spec5, \"node4\", \"node5\")"
   ]
  },
  {
   "cell_type": "code",
   "execution_count": null,
   "metadata": {},
   "outputs": [
    {
     "name": "stdout",
     "output_type": "stream",
     "text": [
      "(1, 6, 3, 5) node0 ['node5']\n",
      "(6, 4, 2, 3) node4 []\n"
     ]
    }
   ],
   "source": [
    "print(ttn.tensors[\"node4\"].shape , ttn.nodes[\"node4\"].parent , ttn.nodes[\"node4\"].children)\n",
    "print(ttn.tensors[\"node5\"].shape , ttn.nodes[\"node5\"].parent , ttn.nodes[\"node5\"].children)"
   ]
  },
  {
   "cell_type": "code",
   "execution_count": null,
   "metadata": {},
   "outputs": [
    {
     "name": "stdout",
     "output_type": "stream",
     "text": [
      "node2 ['node1', 'node3'] []\n",
      "None ['node5'] [4, 5]\n"
     ]
    }
   ],
   "source": [
    "spec0, spec4 = ttn.legs_before_combination(\"node0\",\"node4\")\n",
    "\n",
    "print (spec0.parent_leg , spec0.child_legs , spec0.open_legs) \n",
    "print (spec4.parent_leg , spec4.child_legs , spec4.open_legs) "
   ]
  },
  {
   "cell_type": "code",
   "execution_count": null,
   "metadata": {},
   "outputs": [],
   "source": [
    "ttn.contract_nodes(\"node0\", \"node4\", \"node0contrnode4\")"
   ]
  },
  {
   "cell_type": "code",
   "execution_count": null,
   "metadata": {},
   "outputs": [
    {
     "data": {
      "text/plain": [
       "([0, 1, 2], [3, 4, 5])"
      ]
     },
     "execution_count": 375,
     "metadata": {},
     "output_type": "execute_result"
    }
   ],
   "source": [
    "spec0.node = ttn.nodes[\"node0contrnode4\"]\n",
    "spec4.node = ttn.nodes[\"node0contrnode4\"]\n",
    "\n",
    "spec0.find_leg_values() , spec4.find_leg_values()"
   ]
  },
  {
   "cell_type": "code",
   "execution_count": null,
   "metadata": {},
   "outputs": [
    {
     "name": "stdout",
     "output_type": "stream",
     "text": [
      "(3, 4, 2, 6, 3, 5) node2 ['node1', 'node3', 'node5']\n"
     ]
    }
   ],
   "source": [
    "print( ttn.nodes[\"node0contrnode4\"].shape , ttn.nodes[\"node0contrnode4\"].parent , ttn.nodes[\"node0contrnode4\"].children)\n",
    "# `(parent_parent_leg, node1_children_legs,\n",
    "#   node2_children_legs,node1_open_legs, node2_open_legs)`"
   ]
  },
  {
   "cell_type": "code",
   "execution_count": null,
   "metadata": {},
   "outputs": [],
   "source": [
    "ttn.split_node_qr(\"node0contrnode4\",spec0, spec4, \"node0\", \"node4\")"
   ]
  },
  {
   "cell_type": "code",
   "execution_count": null,
   "metadata": {},
   "outputs": [
    {
     "name": "stdout",
     "output_type": "stream",
     "text": [
      "(3, 24, 4, 2) node2 ['node4', 'node1', 'node3']\n",
      "(24, 6, 3, 5) node0 ['node5']\n"
     ]
    }
   ],
   "source": [
    "print(ttn.tensors[\"node0\"].shape , ttn.nodes[\"node0\"].parent , ttn.nodes[\"node0\"].children)\n",
    "print(ttn.tensors[\"node4\"].shape , ttn.nodes[\"node4\"].parent , ttn.nodes[\"node4\"].children)"
   ]
  },
  {
   "cell_type": "code",
   "execution_count": null,
   "metadata": {},
   "outputs": [],
   "source": [
    "# conjugated version of the current TTN\n",
    "ttn = ttn.conjugate() "
   ]
  },
  {
   "cell_type": "code",
   "execution_count": null,
   "metadata": {},
   "outputs": [
    {
     "name": "stdout",
     "output_type": "stream",
     "text": [
      "(2, 3, 8, 4) [1, 2, 3]\n",
      "(2, 6, 7, 8) [1, 2, 3]\n"
     ]
    }
   ],
   "source": [
    "print(ttn.tensors[\"node3\"].shape  , ttn.nodes[\"node3\"].open_legs)\n",
    "tensor = ptn.crandn((3,8,4,6,7,8))\n",
    "ttn.absorb_into_open_legs(\"node3\",tensor)\n",
    "print(ttn.tensors[\"node3\"].shape  , ttn.nodes[\"node3\"].open_legs)"
   ]
  },
  {
   "cell_type": "code",
   "execution_count": null,
   "metadata": {},
   "outputs": [
    {
     "data": {
      "text/plain": [
       "'\\nGenerates a small TreeTensorNetworkState of three nodes:\\nThe root (`\"root\"`) and its two children (`\"c1\"` and `\"c2\"`). The associated \\ntensors are random, but their dimensions are set.\\n\\n            |2\\n            |\\n            r\\n           / \\\\\\n     3|  5/  6\\\\   |4\\n      |  /     \\\\  |\\n       c1        c2\\n'"
      ]
     },
     "execution_count": 159,
     "metadata": {},
     "output_type": "execute_result"
    }
   ],
   "source": [
    "    \"\"\"\n",
    "    Generates a small TreeTensorNetworkState of three nodes:\n",
    "    The root (`\"root\"`) and its two children (`\"c1\"` and `\"c2\"`). The associated \n",
    "    tensors are random, but their dimensions are set.\n",
    "\n",
    "                |2\n",
    "                |\n",
    "                r\n",
    "               / \\\\\n",
    "         3|  5/  6\\\\   |4\n",
    "          |  /     \\\\  |\n",
    "           c1        c2\n",
    "    \"\"\""
   ]
  },
  {
   "cell_type": "code",
   "execution_count": null,
   "metadata": {},
   "outputs": [
    {
     "name": "stdout",
     "output_type": "stream",
     "text": [
      "(5, 6, 10)\n"
     ]
    },
    {
     "ename": "AssertionError",
     "evalue": "Only square Matrices can be absorbed!\nIf you desire to contract a non-square matrix/ a higher-degree tensor\nthen add it as a new child to this TTN and contract it.",
     "output_type": "error",
     "traceback": [
      "\u001b[1;31m---------------------------------------------------------------------------\u001b[0m",
      "\u001b[1;31mAssertionError\u001b[0m                            Traceback (most recent call last)",
      "Cell \u001b[1;32mIn[46], line 10\u001b[0m\n\u001b[0;32m      7\u001b[0m \u001b[38;5;28mprint\u001b[39m(tensortree\u001b[38;5;241m.\u001b[39mtensors[\u001b[38;5;124m\"\u001b[39m\u001b[38;5;124mroot\u001b[39m\u001b[38;5;124m\"\u001b[39m]\u001b[38;5;241m.\u001b[39mshape)\n\u001b[0;32m      9\u001b[0m \u001b[38;5;66;03m# absorb a matrix to any legs \u001b[39;00m\n\u001b[1;32m---> 10\u001b[0m \u001b[43mtensortree\u001b[49m\u001b[38;5;241;43m.\u001b[39;49m\u001b[43mabsorb_matrix\u001b[49m\u001b[43m(\u001b[49m\u001b[38;5;124;43m\"\u001b[39;49m\u001b[38;5;124;43mroot\u001b[39;49m\u001b[38;5;124;43m\"\u001b[39;49m\u001b[43m \u001b[49m\u001b[43m,\u001b[49m\u001b[43m \u001b[49m\u001b[43mptn\u001b[49m\u001b[38;5;241;43m.\u001b[39;49m\u001b[43mcrandn\u001b[49m\u001b[43m(\u001b[49m\u001b[43m(\u001b[49m\u001b[38;5;241;43m6\u001b[39;49m\u001b[43m,\u001b[49m\u001b[38;5;241;43m6\u001b[39;49m\u001b[43m)\u001b[49m\u001b[43m)\u001b[49m\u001b[43m \u001b[49m\u001b[43m,\u001b[49m\u001b[38;5;241;43m1\u001b[39;49m\u001b[43m,\u001b[49m\u001b[38;5;241;43m0\u001b[39;49m\u001b[43m \u001b[49m\u001b[43m)\u001b[49m\n\u001b[0;32m     13\u001b[0m tensortree_cntr \u001b[38;5;241m=\u001b[39m tensortree\u001b[38;5;241m.\u001b[39mcompletely_contract_tree(to_copy \u001b[38;5;241m=\u001b[39m \u001b[38;5;28;01mTrue\u001b[39;00m)\n\u001b[0;32m     14\u001b[0m tensortree_cntr[\u001b[38;5;124m\"\u001b[39m\u001b[38;5;124mroot\u001b[39m\u001b[38;5;124m\"\u001b[39m][\u001b[38;5;241m1\u001b[39m]\u001b[38;5;241m.\u001b[39mshape , tensortree[\u001b[38;5;124m\"\u001b[39m\u001b[38;5;124mroot\u001b[39m\u001b[38;5;124m\"\u001b[39m][\u001b[38;5;241m1\u001b[39m]\u001b[38;5;241m.\u001b[39mshape\n",
      "File \u001b[1;32mc:\\Users\\edpou\\Desktop\\Ed\\PyTreeNet-main\\pytreenet\\ttn.py:320\u001b[0m, in \u001b[0;36mTreeTensorNetwork.absorb_matrix\u001b[1;34m(self, node_id, absorbed_matrix, this_tensors_leg_index, absorbed_matrix_leg_index)\u001b[0m\n\u001b[0;32m    318\u001b[0m     errstr \u001b[38;5;241m+\u001b[39m\u001b[38;5;241m=\u001b[39m \u001b[38;5;124m\"\u001b[39m\u001b[38;5;124mIf you desire to contract a non-square matrix/ a higher-degree tensor\u001b[39m\u001b[38;5;130;01m\\n\u001b[39;00m\u001b[38;5;124m\"\u001b[39m\n\u001b[0;32m    319\u001b[0m     errstr \u001b[38;5;241m+\u001b[39m\u001b[38;5;241m=\u001b[39m \u001b[38;5;124m\"\u001b[39m\u001b[38;5;124mthen add it as a new child to this TTN and contract it.\u001b[39m\u001b[38;5;124m\"\u001b[39m\n\u001b[1;32m--> 320\u001b[0m     \u001b[38;5;28;01mraise\u001b[39;00m \u001b[38;5;167;01mAssertionError\u001b[39;00m(errstr)\n\u001b[0;32m    321\u001b[0m node_tensor \u001b[38;5;241m=\u001b[39m \u001b[38;5;28mself\u001b[39m\u001b[38;5;241m.\u001b[39mtensors[node_id]\n\u001b[0;32m    322\u001b[0m new_tensor \u001b[38;5;241m=\u001b[39m np\u001b[38;5;241m.\u001b[39mtensordot(node_tensor, absorbed_matrix,\n\u001b[0;32m    323\u001b[0m                           axes\u001b[38;5;241m=\u001b[39m(this_tensors_leg_index, absorbed_matrix_leg_index))\n",
      "\u001b[1;31mAssertionError\u001b[0m: Only square Matrices can be absorbed!\nIf you desire to contract a non-square matrix/ a higher-degree tensor\nthen add it as a new child to this TTN and contract it."
     ]
    }
   ],
   "source": [
    "tensortree = ptn.random_small_ttns()\n",
    "\n",
    "# The tensor to be absorbed has to have twice \n",
    "# as many open legs as the node tensor.\n",
    "tensor = ptn.crandn((2,10))\n",
    "tensortree.absorb_into_open_legs(\"root\",tensor)\n",
    "print(tensortree.tensors[\"root\"].shape)\n",
    "\n",
    "# absorb a matrix to any legs \n",
    "tensortree.absorb_matrix(\"root\" , ptn.crandn((6,6)) ,1,0 )\n",
    "\n",
    "\n",
    "tensortree_cntr = tensortree.completely_contract_tree(to_copy = True)\n",
    "tensortree_cntr[\"root\"][1].shape , tensortree[\"root\"][1].shape"
   ]
  },
  {
   "cell_type": "code",
   "execution_count": null,
   "metadata": {},
   "outputs": [],
   "source": [
    "tensortree = ptn.random_small_ttns()\n",
    "\n",
    "q_legs = ptn.LegSpecification(None, [\"c1\"], [2], None)\n",
    "r_legs = ptn.LegSpecification(None, [\"c2\"], [], None)\n",
    "tensortree.split_node_qr(\"root\", q_legs, r_legs,\n",
    "                               q_identifier=\"q1\", r_identifier=\"r1\")"
   ]
  },
  {
   "cell_type": "code",
   "execution_count": null,
   "metadata": {},
   "outputs": [
    {
     "data": {
      "text/plain": [
       "True"
      ]
     },
     "execution_count": 48,
     "metadata": {},
     "output_type": "execute_result"
    }
   ],
   "source": [
    "tensortree = ptn.random_small_ttns()\n",
    "tensortree.canonical_form(\"c1\")\n",
    "contr_indices = tuple([tensortree.nodes[\"root\"].child_index(\"c2\")] + tensortree.nodes[\"root\"].open_legs)\n",
    "identity = ptn.compute_transfer_tensor(tensortree.tensors[\"root\"],contr_indices)\n",
    "np.allclose(identity,np.eye(5))"
   ]
  },
  {
   "cell_type": "code",
   "execution_count": null,
   "metadata": {},
   "outputs": [],
   "source": [
    "#                          id1 ___________________\n",
    "#                           |                     |\n",
    "#                _________ id2 ________          id8  \n",
    "#               |                      |          |        \n",
    "#       _____  id5                    id3        id9 \n",
    "#      |        |                      |          \n",
    "#      id7     id6                    id4           "
   ]
  },
  {
   "cell_type": "code",
   "execution_count": null,
   "metadata": {},
   "outputs": [],
   "source": [
    "ttn = ptn.TreeTensorNetwork()\n",
    "node1, tensor1 = ptn.random_tensor_node((2, 3, 4, 5), identifier=\"id1\")\n",
    "node2, tensor2 = ptn.random_tensor_node((2, 3, 4, 5), identifier=\"id2\")\n",
    "node3, tensor3 = ptn.random_tensor_node((2, 3, 4, 5), identifier=\"id3\")\n",
    "node4, tensor4 = ptn.random_tensor_node((2, 3, 4, 5), identifier=\"id4\")\n",
    "node5, tensor5 = ptn.random_tensor_node((2, 3, 4, 5), identifier=\"id5\")\n",
    "node6, tensor6 = ptn.random_tensor_node((2, 3, 4, 5), identifier=\"id6\")\n",
    "node7, tensor7 = ptn.random_tensor_node((2, 3, 4, 5), identifier=\"id7\")\n",
    "node8, tensor8 = ptn.random_tensor_node((2, 3, 4, 5), identifier=\"id8\")\n",
    "node9, tensor9 = ptn.random_tensor_node((2, 3, 4, 5), identifier=\"id9\")\n",
    "\n",
    "ttn.add_root(node1, tensor1)\n",
    "ttn.add_child_to_parent(node2, tensor2, 0, \"id1\", 0)\n",
    "ttn.add_child_to_parent(node3, tensor3, 3, \"id2\", 3)\n",
    "ttn.add_child_to_parent(node4, tensor4, 0, \"id3\", 1)\n",
    "ttn.add_child_to_parent(node5, tensor5, 2, \"id2\", 3)\n",
    "ttn.add_child_to_parent(node6, tensor6, 0, \"id5\", 1)\n",
    "ttn.add_child_to_parent(node7, tensor7, 1, \"id5\", 2)\n",
    "ttn.add_child_to_parent(node8, tensor8, 1, \"id1\", 1)\n",
    "ttn.add_child_to_parent(node9, tensor9, 2, \"id8\", 2)"
   ]
  },
  {
   "cell_type": "code",
   "execution_count": null,
   "metadata": {},
   "outputs": [],
   "source": [
    "# canonical form algorithm : \n",
    "# distance dictionary : {node_id : distance to the orthogonality center}\n",
    "# for : \"node\" with maximum distance , .... , distance = 1 \n",
    "#     for : \"next_node\" = neighbour of node with minimum distance in distance dictionary\n",
    "#           split_qr_contract_r_to_neighbour(node, next_node)"
   ]
  },
  {
   "cell_type": "code",
   "execution_count": null,
   "metadata": {},
   "outputs": [
    {
     "data": {
      "text/plain": [
       "4"
      ]
     },
     "execution_count": 141,
     "metadata": {},
     "output_type": "execute_result"
    }
   ],
   "source": [
    "ttn.tensors[\"id2\"].shape[ttn.nodes[\"id2\"].neighbour_index(\"id5\")]"
   ]
  },
  {
   "cell_type": "code",
   "execution_count": null,
   "metadata": {},
   "outputs": [
    {
     "data": {
      "text/plain": [
       "True"
      ]
     },
     "execution_count": 144,
     "metadata": {},
     "output_type": "execute_result"
    }
   ],
   "source": [
    "ttn.canonical_form(\"id5\") # or ttn.orthogonalize(\"id5\")\n",
    "\n",
    "# check \"id2\" isometry \n",
    "contr_indices = tuple(  [ttn.nodes[\"id2\"].neighbour_index(\"id1\")]\n",
    "                      + [ttn.nodes[\"id2\"].neighbour_index(\"id3\")]\n",
    "                      + ttn.nodes[\"id2\"].open_legs)\n",
    "identity = ptn.compute_transfer_tensor(ttn.tensors[\"id2\"], contr_indices )\n",
    "np.allclose(identity, np.eye(ttn.tensors[\"id2\"].shape[ttn.nodes[\"id2\"].neighbour_index(\"id5\")]))\n",
    "\n",
    "# False when orthogonality_center_id = id3 or id1 "
   ]
  },
  {
   "cell_type": "code",
   "execution_count": null,
   "metadata": {},
   "outputs": [
    {
     "data": {
      "text/plain": [
       "False"
      ]
     },
     "execution_count": 143,
     "metadata": {},
     "output_type": "execute_result"
    }
   ],
   "source": [
    "# check \"id1\" isometry \n",
    "contr_indices = tuple([ttn.nodes[\"id1\"].neighbour_index(\"id8\")]\n",
    "                      +[ttn.nodes[\"id1\"].neighbour_index(\"id2\")]\n",
    "                      + ttn.nodes[\"id1\"].open_legs)\n",
    "identity = ptn.compute_transfer_tensor(ttn.tensors[\"id1\"], contr_indices )\n",
    "np.allclose(identity, np.eye(ttn.tensors[\"id1\"].shape[ttn.nodes[\"id1\"].neighbour_index(\"id2\")]))\n",
    "\n",
    "# True only in the orthogonality_center_id direction  "
   ]
  },
  {
   "cell_type": "markdown",
   "metadata": {},
   "source": [
    "# ForkTreeTensorNetwork"
   ]
  },
  {
   "cell_type": "code",
   "execution_count": null,
   "metadata": {},
   "outputs": [
    {
     "data": {
      "text/plain": [
       "([<pytreenet.node.Node at 0x1dff2e40cb0>,\n",
       "  <pytreenet.node.Node at 0x1dff53eb6e0>,\n",
       "  <pytreenet.node.Node at 0x1dff53eb380>],\n",
       " [[<pytreenet.node.Node at 0x1dff53ea780>,\n",
       "   <pytreenet.node.Node at 0x1dff53ebbf0>],\n",
       "  [<pytreenet.node.Node at 0x1dff5695910>],\n",
       "  []])"
      ]
     },
     "execution_count": 154,
     "metadata": {},
     "output_type": "execute_result"
    }
   ],
   "source": [
    "fttn = ptn.ForkTreeTensorNetwork(\"M\",\"S\")\n",
    "\n",
    "fttn.add_main_chain_node(ptn.crandn((4,3,2,5)))\n",
    "fttn.add_main_chain_node(ptn.crandn((2,6,5)) , parent_leg=2 ) # contract 0'th leg with parent_leg\n",
    "fttn.add_main_chain_node(ptn.crandn((6,4,3)) , parent_leg=1 )\n",
    "\n",
    "fttn.add_sub_chain_node(ptn.crandn((3,5,4)) , subchain_index = 0 , parent_leg=2 )\n",
    "fttn.add_sub_chain_node(ptn.crandn((5,6,2)) , subchain_index = 0 , parent_leg=1 )\n",
    "fttn.add_sub_chain_node(ptn.crandn((5,3,6)) , subchain_index = 1 , parent_leg=2 )\n",
    "\"\"\"\n",
    "M0 --- S0_0 --- S0_1\n",
    "|\n",
    "M1 --- S1_0\n",
    "|\n",
    "M2\n",
    "\"\"\"\n",
    "fttn.main_chain , fttn.sub_chains\n"
   ]
  },
  {
   "cell_type": "code",
   "execution_count": null,
   "metadata": {},
   "outputs": [
    {
     "name": "stdout",
     "output_type": "stream",
     "text": [
      "['M1', 'S0_0']\n",
      "['M0', 'M2', 'S1_0']\n"
     ]
    }
   ],
   "source": [
    "print(fttn.main_chain[0].children)\n",
    "print(fttn.main_chain[1].neighbouring_nodes())"
   ]
  },
  {
   "cell_type": "markdown",
   "metadata": {},
   "source": [
    "# MatrixProductTree"
   ]
  },
  {
   "cell_type": "code",
   "execution_count": null,
   "metadata": {},
   "outputs": [],
   "source": [
    "shapes = [(5, 6), (5, 7, 2, 3), (7, 3), (3, 6, 2), (6, 2, 5), (2, 5)]\n",
    "tensors = [ptn.crandn(shape) for shape in shapes]\n",
    "# only in first two tensors 0'th legs are contracted "
   ]
  },
  {
   "cell_type": "code",
   "execution_count": null,
   "metadata": {},
   "outputs": [
    {
     "data": {
      "text/plain": [
       "({'site2': <pytreenet.node.Node at 0x1dff58e9a90>,\n",
       "  'site1': <pytreenet.node.Node at 0x1dff58e9010>,\n",
       "  'site0': <pytreenet.node.Node at 0x1dff58ea570>},\n",
       " 'site3',\n",
       " {'site4': <pytreenet.node.Node at 0x1dff58e82c0>,\n",
       "  'site5': <pytreenet.node.Node at 0x1dff58eaab0>})"
      ]
     },
     "execution_count": 218,
     "metadata": {},
     "output_type": "execute_result"
    }
   ],
   "source": [
    "mpt = ptn.MatrixProductTree.from_tensor_list( tensors, root_site=3)\n",
    "mpt.left_nodes , mpt.root_id , mpt.right_nodes"
   ]
  },
  {
   "cell_type": "code",
   "execution_count": null,
   "metadata": {},
   "outputs": [],
   "source": [
    "constant_mps = ptn.MatrixProductState.constant_product_state(\n",
    "               state_value = 0,\n",
    "               dimension =  4,\n",
    "               num_sites = 5,\n",
    "               node_prefix = \"site\", # default \n",
    "               root_site = 0,\n",
    "               bond_dimensions = [3,5,2,3]) # default = [1,1,1,1]"
   ]
  },
  {
   "cell_type": "code",
   "execution_count": null,
   "metadata": {},
   "outputs": [
    {
     "name": "stdout",
     "output_type": "stream",
     "text": [
      "(3, 5, 4)\n",
      "[[1. 0. 0. 0.]\n",
      " [0. 0. 0. 0.]\n",
      " [0. 0. 0. 0.]]\n"
     ]
    }
   ],
   "source": [
    "print(constant_mps.nodes[\"site1\"].shape)\n",
    "print(constant_mps.tensors[\"site0\"])"
   ]
  }
 ],
 "metadata": {
  "kernelspec": {
   "display_name": "Python 3",
   "language": "python",
   "name": "python3"
  },
  "language_info": {
   "codemirror_mode": {
    "name": "ipython",
    "version": 3
   },
   "file_extension": ".py",
   "mimetype": "text/x-python",
   "name": "python",
   "nbconvert_exporter": "python",
   "pygments_lexer": "ipython3",
   "version": "3.12.1"
  }
 },
 "nbformat": 4,
 "nbformat_minor": 2
}
